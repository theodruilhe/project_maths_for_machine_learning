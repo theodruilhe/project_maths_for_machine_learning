{
 "cells": [
  {
   "cell_type": "markdown",
   "metadata": {},
   "source": [
    "# **Import the Libraries**"
   ]
  },
  {
   "cell_type": "code",
   "execution_count": 1,
   "metadata": {},
   "outputs": [],
   "source": [
    "import pandas as pd\n",
    "import numpy as np\n",
    "import matplotlib.pyplot as plt\n",
    "import seaborn as sns\n",
    "from sklearn.preprocessing import LabelEncoder\n",
    "from sklearn.model_selection import train_test_split\n",
    "import plotly.express as px\n",
    "import plotly.graph_objects as go\n",
    "from scipy.stats import gaussian_kde, skew, kurtosis\n",
    "\n",
    "# For exploring missing values\n",
    "import missingno as msno"
   ]
  },
  {
   "cell_type": "markdown",
   "metadata": {},
   "source": [
    "# **Data Processing**"
   ]
  },
  {
   "cell_type": "code",
   "execution_count": 2,
   "metadata": {},
   "outputs": [
    {
     "name": "stdout",
     "output_type": "stream",
     "text": [
      "(1460, 81)\n",
      "(1459, 80)\n"
     ]
    }
   ],
   "source": [
    "# import the data/train.csv file\n",
    "train = pd.read_csv('data/train.csv')\n",
    "test = pd.read_csv('data/test.csv')\n",
    "\n",
    "print(train.shape)\n",
    "print(test.shape)"
   ]
  },
  {
   "cell_type": "code",
   "execution_count": 3,
   "metadata": {},
   "outputs": [
    {
     "data": {
      "text/html": [
       "<div>\n",
       "<style scoped>\n",
       "    .dataframe tbody tr th:only-of-type {\n",
       "        vertical-align: middle;\n",
       "    }\n",
       "\n",
       "    .dataframe tbody tr th {\n",
       "        vertical-align: top;\n",
       "    }\n",
       "\n",
       "    .dataframe thead th {\n",
       "        text-align: right;\n",
       "    }\n",
       "</style>\n",
       "<table border=\"1\" class=\"dataframe\">\n",
       "  <thead>\n",
       "    <tr style=\"text-align: right;\">\n",
       "      <th></th>\n",
       "      <th>Id</th>\n",
       "      <th>MSSubClass</th>\n",
       "      <th>MSZoning</th>\n",
       "      <th>LotFrontage</th>\n",
       "      <th>LotArea</th>\n",
       "      <th>Street</th>\n",
       "      <th>Alley</th>\n",
       "      <th>LotShape</th>\n",
       "      <th>LandContour</th>\n",
       "      <th>Utilities</th>\n",
       "      <th>...</th>\n",
       "      <th>PoolArea</th>\n",
       "      <th>PoolQC</th>\n",
       "      <th>Fence</th>\n",
       "      <th>MiscFeature</th>\n",
       "      <th>MiscVal</th>\n",
       "      <th>MoSold</th>\n",
       "      <th>YrSold</th>\n",
       "      <th>SaleType</th>\n",
       "      <th>SaleCondition</th>\n",
       "      <th>SalePrice</th>\n",
       "    </tr>\n",
       "  </thead>\n",
       "  <tbody>\n",
       "    <tr>\n",
       "      <th>0</th>\n",
       "      <td>1</td>\n",
       "      <td>60</td>\n",
       "      <td>RL</td>\n",
       "      <td>65.0</td>\n",
       "      <td>8450</td>\n",
       "      <td>Pave</td>\n",
       "      <td>NaN</td>\n",
       "      <td>Reg</td>\n",
       "      <td>Lvl</td>\n",
       "      <td>AllPub</td>\n",
       "      <td>...</td>\n",
       "      <td>0</td>\n",
       "      <td>NaN</td>\n",
       "      <td>NaN</td>\n",
       "      <td>NaN</td>\n",
       "      <td>0</td>\n",
       "      <td>2</td>\n",
       "      <td>2008</td>\n",
       "      <td>WD</td>\n",
       "      <td>Normal</td>\n",
       "      <td>208500</td>\n",
       "    </tr>\n",
       "    <tr>\n",
       "      <th>1</th>\n",
       "      <td>2</td>\n",
       "      <td>20</td>\n",
       "      <td>RL</td>\n",
       "      <td>80.0</td>\n",
       "      <td>9600</td>\n",
       "      <td>Pave</td>\n",
       "      <td>NaN</td>\n",
       "      <td>Reg</td>\n",
       "      <td>Lvl</td>\n",
       "      <td>AllPub</td>\n",
       "      <td>...</td>\n",
       "      <td>0</td>\n",
       "      <td>NaN</td>\n",
       "      <td>NaN</td>\n",
       "      <td>NaN</td>\n",
       "      <td>0</td>\n",
       "      <td>5</td>\n",
       "      <td>2007</td>\n",
       "      <td>WD</td>\n",
       "      <td>Normal</td>\n",
       "      <td>181500</td>\n",
       "    </tr>\n",
       "    <tr>\n",
       "      <th>2</th>\n",
       "      <td>3</td>\n",
       "      <td>60</td>\n",
       "      <td>RL</td>\n",
       "      <td>68.0</td>\n",
       "      <td>11250</td>\n",
       "      <td>Pave</td>\n",
       "      <td>NaN</td>\n",
       "      <td>IR1</td>\n",
       "      <td>Lvl</td>\n",
       "      <td>AllPub</td>\n",
       "      <td>...</td>\n",
       "      <td>0</td>\n",
       "      <td>NaN</td>\n",
       "      <td>NaN</td>\n",
       "      <td>NaN</td>\n",
       "      <td>0</td>\n",
       "      <td>9</td>\n",
       "      <td>2008</td>\n",
       "      <td>WD</td>\n",
       "      <td>Normal</td>\n",
       "      <td>223500</td>\n",
       "    </tr>\n",
       "    <tr>\n",
       "      <th>3</th>\n",
       "      <td>4</td>\n",
       "      <td>70</td>\n",
       "      <td>RL</td>\n",
       "      <td>60.0</td>\n",
       "      <td>9550</td>\n",
       "      <td>Pave</td>\n",
       "      <td>NaN</td>\n",
       "      <td>IR1</td>\n",
       "      <td>Lvl</td>\n",
       "      <td>AllPub</td>\n",
       "      <td>...</td>\n",
       "      <td>0</td>\n",
       "      <td>NaN</td>\n",
       "      <td>NaN</td>\n",
       "      <td>NaN</td>\n",
       "      <td>0</td>\n",
       "      <td>2</td>\n",
       "      <td>2006</td>\n",
       "      <td>WD</td>\n",
       "      <td>Abnorml</td>\n",
       "      <td>140000</td>\n",
       "    </tr>\n",
       "    <tr>\n",
       "      <th>4</th>\n",
       "      <td>5</td>\n",
       "      <td>60</td>\n",
       "      <td>RL</td>\n",
       "      <td>84.0</td>\n",
       "      <td>14260</td>\n",
       "      <td>Pave</td>\n",
       "      <td>NaN</td>\n",
       "      <td>IR1</td>\n",
       "      <td>Lvl</td>\n",
       "      <td>AllPub</td>\n",
       "      <td>...</td>\n",
       "      <td>0</td>\n",
       "      <td>NaN</td>\n",
       "      <td>NaN</td>\n",
       "      <td>NaN</td>\n",
       "      <td>0</td>\n",
       "      <td>12</td>\n",
       "      <td>2008</td>\n",
       "      <td>WD</td>\n",
       "      <td>Normal</td>\n",
       "      <td>250000</td>\n",
       "    </tr>\n",
       "  </tbody>\n",
       "</table>\n",
       "<p>5 rows × 81 columns</p>\n",
       "</div>"
      ],
      "text/plain": [
       "   Id  MSSubClass MSZoning  LotFrontage  LotArea Street Alley LotShape  \\\n",
       "0   1          60       RL         65.0     8450   Pave   NaN      Reg   \n",
       "1   2          20       RL         80.0     9600   Pave   NaN      Reg   \n",
       "2   3          60       RL         68.0    11250   Pave   NaN      IR1   \n",
       "3   4          70       RL         60.0     9550   Pave   NaN      IR1   \n",
       "4   5          60       RL         84.0    14260   Pave   NaN      IR1   \n",
       "\n",
       "  LandContour Utilities  ... PoolArea PoolQC Fence MiscFeature MiscVal MoSold  \\\n",
       "0         Lvl    AllPub  ...        0    NaN   NaN         NaN       0      2   \n",
       "1         Lvl    AllPub  ...        0    NaN   NaN         NaN       0      5   \n",
       "2         Lvl    AllPub  ...        0    NaN   NaN         NaN       0      9   \n",
       "3         Lvl    AllPub  ...        0    NaN   NaN         NaN       0      2   \n",
       "4         Lvl    AllPub  ...        0    NaN   NaN         NaN       0     12   \n",
       "\n",
       "  YrSold  SaleType  SaleCondition  SalePrice  \n",
       "0   2008        WD         Normal     208500  \n",
       "1   2007        WD         Normal     181500  \n",
       "2   2008        WD         Normal     223500  \n",
       "3   2006        WD        Abnorml     140000  \n",
       "4   2008        WD         Normal     250000  \n",
       "\n",
       "[5 rows x 81 columns]"
      ]
     },
     "execution_count": 3,
     "metadata": {},
     "output_type": "execute_result"
    }
   ],
   "source": [
    "train.head()"
   ]
  },
  {
   "cell_type": "markdown",
   "metadata": {},
   "source": [
    "The target variable is `SalePrice`. We have 79 features in the dataset by removing the columns `ID`"
   ]
  },
  {
   "cell_type": "code",
   "execution_count": 4,
   "metadata": {},
   "outputs": [],
   "source": [
    "train = train.set_index('Id')"
   ]
  },
  {
   "cell_type": "code",
   "execution_count": 5,
   "metadata": {},
   "outputs": [
    {
     "name": "stdout",
     "output_type": "stream",
     "text": [
      "<class 'pandas.core.frame.DataFrame'>\n",
      "Index: 1460 entries, 1 to 1460\n",
      "Data columns (total 80 columns):\n",
      " #   Column         Non-Null Count  Dtype  \n",
      "---  ------         --------------  -----  \n",
      " 0   MSSubClass     1460 non-null   int64  \n",
      " 1   MSZoning       1460 non-null   object \n",
      " 2   LotFrontage    1201 non-null   float64\n",
      " 3   LotArea        1460 non-null   int64  \n",
      " 4   Street         1460 non-null   object \n",
      " 5   Alley          91 non-null     object \n",
      " 6   LotShape       1460 non-null   object \n",
      " 7   LandContour    1460 non-null   object \n",
      " 8   Utilities      1460 non-null   object \n",
      " 9   LotConfig      1460 non-null   object \n",
      " 10  LandSlope      1460 non-null   object \n",
      " 11  Neighborhood   1460 non-null   object \n",
      " 12  Condition1     1460 non-null   object \n",
      " 13  Condition2     1460 non-null   object \n",
      " 14  BldgType       1460 non-null   object \n",
      " 15  HouseStyle     1460 non-null   object \n",
      " 16  OverallQual    1460 non-null   int64  \n",
      " 17  OverallCond    1460 non-null   int64  \n",
      " 18  YearBuilt      1460 non-null   int64  \n",
      " 19  YearRemodAdd   1460 non-null   int64  \n",
      " 20  RoofStyle      1460 non-null   object \n",
      " 21  RoofMatl       1460 non-null   object \n",
      " 22  Exterior1st    1460 non-null   object \n",
      " 23  Exterior2nd    1460 non-null   object \n",
      " 24  MasVnrType     588 non-null    object \n",
      " 25  MasVnrArea     1452 non-null   float64\n",
      " 26  ExterQual      1460 non-null   object \n",
      " 27  ExterCond      1460 non-null   object \n",
      " 28  Foundation     1460 non-null   object \n",
      " 29  BsmtQual       1423 non-null   object \n",
      " 30  BsmtCond       1423 non-null   object \n",
      " 31  BsmtExposure   1422 non-null   object \n",
      " 32  BsmtFinType1   1423 non-null   object \n",
      " 33  BsmtFinSF1     1460 non-null   int64  \n",
      " 34  BsmtFinType2   1422 non-null   object \n",
      " 35  BsmtFinSF2     1460 non-null   int64  \n",
      " 36  BsmtUnfSF      1460 non-null   int64  \n",
      " 37  TotalBsmtSF    1460 non-null   int64  \n",
      " 38  Heating        1460 non-null   object \n",
      " 39  HeatingQC      1460 non-null   object \n",
      " 40  CentralAir     1460 non-null   object \n",
      " 41  Electrical     1459 non-null   object \n",
      " 42  1stFlrSF       1460 non-null   int64  \n",
      " 43  2ndFlrSF       1460 non-null   int64  \n",
      " 44  LowQualFinSF   1460 non-null   int64  \n",
      " 45  GrLivArea      1460 non-null   int64  \n",
      " 46  BsmtFullBath   1460 non-null   int64  \n",
      " 47  BsmtHalfBath   1460 non-null   int64  \n",
      " 48  FullBath       1460 non-null   int64  \n",
      " 49  HalfBath       1460 non-null   int64  \n",
      " 50  BedroomAbvGr   1460 non-null   int64  \n",
      " 51  KitchenAbvGr   1460 non-null   int64  \n",
      " 52  KitchenQual    1460 non-null   object \n",
      " 53  TotRmsAbvGrd   1460 non-null   int64  \n",
      " 54  Functional     1460 non-null   object \n",
      " 55  Fireplaces     1460 non-null   int64  \n",
      " 56  FireplaceQu    770 non-null    object \n",
      " 57  GarageType     1379 non-null   object \n",
      " 58  GarageYrBlt    1379 non-null   float64\n",
      " 59  GarageFinish   1379 non-null   object \n",
      " 60  GarageCars     1460 non-null   int64  \n",
      " 61  GarageArea     1460 non-null   int64  \n",
      " 62  GarageQual     1379 non-null   object \n",
      " 63  GarageCond     1379 non-null   object \n",
      " 64  PavedDrive     1460 non-null   object \n",
      " 65  WoodDeckSF     1460 non-null   int64  \n",
      " 66  OpenPorchSF    1460 non-null   int64  \n",
      " 67  EnclosedPorch  1460 non-null   int64  \n",
      " 68  3SsnPorch      1460 non-null   int64  \n",
      " 69  ScreenPorch    1460 non-null   int64  \n",
      " 70  PoolArea       1460 non-null   int64  \n",
      " 71  PoolQC         7 non-null      object \n",
      " 72  Fence          281 non-null    object \n",
      " 73  MiscFeature    54 non-null     object \n",
      " 74  MiscVal        1460 non-null   int64  \n",
      " 75  MoSold         1460 non-null   int64  \n",
      " 76  YrSold         1460 non-null   int64  \n",
      " 77  SaleType       1460 non-null   object \n",
      " 78  SaleCondition  1460 non-null   object \n",
      " 79  SalePrice      1460 non-null   int64  \n",
      "dtypes: float64(3), int64(34), object(43)\n",
      "memory usage: 923.9+ KB\n"
     ]
    }
   ],
   "source": [
    "train.info()"
   ]
  },
  {
   "cell_type": "markdown",
   "metadata": {},
   "source": [
    "## **Target Variable Analysis**"
   ]
  },
  {
   "cell_type": "markdown",
   "metadata": {},
   "source": [
    "In this section we explore the target variable `SalePrice` and its distribution, identifying potential outliers and deciding how to handle them."
   ]
  },
  {
   "cell_type": "markdown",
   "metadata": {},
   "source": [
    "### **Descriptive Statistics**"
   ]
  },
  {
   "cell_type": "code",
   "execution_count": 6,
   "metadata": {},
   "outputs": [
    {
     "name": "stdout",
     "output_type": "stream",
     "text": [
      "count      1460.000000\n",
      "mean     180921.195890\n",
      "std       79442.502883\n",
      "min       34900.000000\n",
      "25%      129975.000000\n",
      "50%      163000.000000\n",
      "75%      214000.000000\n",
      "max      755000.000000\n",
      "Name: SalePrice, dtype: float64\n"
     ]
    }
   ],
   "source": [
    "print(train['SalePrice'].describe())"
   ]
  },
  {
   "cell_type": "markdown",
   "metadata": {},
   "source": [
    "#### **Interpretation:**\n",
    "\n",
    "This statistical summary provides key insights into the distribution of the `SalePrice` variable:\n",
    "\n",
    "- **Count $= 1460$**: There are 1460 observations (rows) in the dataset for `SalePrice`, indicating no missing values.\n",
    "\n",
    "- **Mean $= 180,921.20$**: The average sale price of houses is approximately $180,921.\n",
    "\n",
    "- **Standard Deviation $= 79,442.50$**: The typical deviation of house prices from the mean is $79,442, indicating significant variability.\n",
    "\n",
    "- **Minimum $= 34,900$**: The lowest house price in the dataset is $34,900.\n",
    "\n",
    "- **25th Percentile $= 129,975$**: 25% of house prices are below $129,975.\n",
    "\n",
    "- **Median/50th Percentile $= 163,000$**: The median house price is $163,000, showing that half of the houses are priced below this value. This is lower than the mean, confirming the right-skewness.\n",
    "\n",
    "- **75th Percentile $= 214,000$**: 75% of house prices are below $214,000.\n",
    "\n",
    "- **Maximum $= 755,000$**: The highest house price in the dataset is $755,000, indicating potential outliers in the high price range.\n",
    "\n",
    "#### **Key Observations:**\n",
    "- The mean is greater than the median, suggesting a **right-skewed distribution** of house prices.\n",
    "\n",
    "- The large range (from $34,900 to $755,000) and high standard deviation suggest significant variability in housing prices.\n",
    "\n",
    "- Potential outliers exist in the upper range (e.g., max value of $755,000), which may need attention during preprocessing."
   ]
  },
  {
   "cell_type": "markdown",
   "metadata": {},
   "source": [
    "### **Distribution**"
   ]
  },
  {
   "cell_type": "markdown",
   "metadata": {},
   "source": [
    "We will plot the distribution of `SalePrice` and calculate the skewness and kurtosis of the data. \n",
    "\n",
    "We will also use Kernel Density Estimation (KDE) to estimate the probability density function of the data."
   ]
  },
  {
   "cell_type": "markdown",
   "metadata": {},
   "source": [
    "#### **Brief Theory: Kernel Density Estimation (KDE)**\n",
    "\n",
    "Kernel Density Estimation (KDE) is a non-parametric method to estimate the probability density function (PDF) of a dataset. \n",
    "It smooths the histogram by placing a small, continuous kernel (e.g., Gaussian) at each data point.\n",
    "\n",
    "#### **Formula**\n",
    "$$\n",
    "f(x) = \\frac{1}{n \\times h}\\sum(\\frac{K((x - x_i)}{h})\n",
    "$$\n",
    "\n",
    "Where:\n",
    "- $n$: Number of data points\n",
    "- $h$: Bandwidth (controls smoothness)\n",
    "- $K$: Kernel function (e.g., Gaussian kernel)"
   ]
  },
  {
   "cell_type": "code",
   "execution_count": 7,
   "metadata": {},
   "outputs": [
    {
     "data": {
      "application/vnd.plotly.v1+json": {
       "config": {
        "plotlyServerURL": "https://plot.ly"
       },
       "data": [
        {
         "alignmentgroup": "True",
         "bingroup": "x",
         "histnorm": "probability density",
         "hovertemplate": "Sale Price=%{x}<br>probability density=%{y}<extra></extra>",
         "legendgroup": "",
         "marker": {
          "color": "blue",
          "pattern": {
           "shape": ""
          }
         },
         "name": "",
         "nbinsx": 100,
         "offsetgroup": "",
         "opacity": 0.75,
         "orientation": "v",
         "showlegend": false,
         "type": "histogram",
         "x": [
          208500,
          181500,
          223500,
          140000,
          250000,
          143000,
          307000,
          200000,
          129900,
          118000,
          129500,
          345000,
          144000,
          279500,
          157000,
          132000,
          149000,
          90000,
          159000,
          139000,
          325300,
          139400,
          230000,
          129900,
          154000,
          256300,
          134800,
          306000,
          207500,
          68500,
          40000,
          149350,
          179900,
          165500,
          277500,
          309000,
          145000,
          153000,
          109000,
          82000,
          160000,
          170000,
          144000,
          130250,
          141000,
          319900,
          239686,
          249700,
          113000,
          127000,
          177000,
          114500,
          110000,
          385000,
          130000,
          180500,
          172500,
          196500,
          438780,
          124900,
          158000,
          101000,
          202500,
          140000,
          219500,
          317000,
          180000,
          226000,
          80000,
          225000,
          244000,
          129500,
          185000,
          144900,
          107400,
          91000,
          135750,
          127000,
          136500,
          110000,
          193500,
          153500,
          245000,
          126500,
          168500,
          260000,
          174000,
          164500,
          85000,
          123600,
          109900,
          98600,
          163500,
          133900,
          204750,
          185000,
          214000,
          94750,
          83000,
          128950,
          205000,
          178000,
          118964,
          198900,
          169500,
          250000,
          100000,
          115000,
          115000,
          190000,
          136900,
          180000,
          383970,
          217000,
          259500,
          176000,
          139000,
          155000,
          320000,
          163990,
          180000,
          100000,
          136000,
          153900,
          181000,
          84500,
          128000,
          87000,
          155000,
          150000,
          226000,
          244000,
          150750,
          220000,
          180000,
          174000,
          143000,
          171000,
          230000,
          231500,
          115000,
          260000,
          166000,
          204000,
          125000,
          130000,
          105000,
          222500,
          141000,
          115000,
          122000,
          372402,
          190000,
          235000,
          125000,
          79000,
          109500,
          269500,
          254900,
          320000,
          162500,
          412500,
          220000,
          103200,
          152000,
          127500,
          190000,
          325624,
          183500,
          228000,
          128500,
          215000,
          239000,
          163000,
          184000,
          243000,
          211000,
          172500,
          501837,
          100000,
          177000,
          200100,
          120000,
          200000,
          127000,
          475000,
          173000,
          135000,
          153337,
          286000,
          315000,
          184000,
          192000,
          130000,
          127000,
          148500,
          311872,
          235000,
          104000,
          274900,
          140000,
          171500,
          112000,
          149000,
          110000,
          180500,
          143900,
          141000,
          277000,
          145000,
          98000,
          186000,
          252678,
          156000,
          161750,
          134450,
          210000,
          107000,
          311500,
          167240,
          204900,
          200000,
          179900,
          97000,
          386250,
          112000,
          290000,
          106000,
          125000,
          192500,
          148000,
          403000,
          94500,
          128200,
          216500,
          89500,
          185500,
          194500,
          318000,
          113000,
          262500,
          110500,
          79000,
          120000,
          205000,
          241500,
          137000,
          140000,
          180000,
          277000,
          76500,
          235000,
          173000,
          158000,
          145000,
          230000,
          207500,
          220000,
          231500,
          97000,
          176000,
          276000,
          151000,
          130000,
          73000,
          175500,
          185000,
          179500,
          120500,
          148000,
          266000,
          241500,
          290000,
          139000,
          124500,
          205000,
          201000,
          141000,
          415298,
          192000,
          228500,
          185000,
          207500,
          244600,
          179200,
          164700,
          159000,
          88000,
          122000,
          153575,
          233230,
          135900,
          131000,
          235000,
          167000,
          142500,
          152000,
          239000,
          175000,
          158500,
          157000,
          267000,
          205000,
          149900,
          295000,
          305900,
          225000,
          89500,
          82500,
          360000,
          165600,
          132000,
          119900,
          375000,
          178000,
          188500,
          260000,
          270000,
          260000,
          187500,
          342643,
          354000,
          301000,
          126175,
          242000,
          87000,
          324000,
          145250,
          214500,
          78000,
          119000,
          139000,
          284000,
          207000,
          192000,
          228950,
          377426,
          214000,
          202500,
          155000,
          202900,
          82000,
          87500,
          266000,
          85000,
          140200,
          151500,
          157500,
          154000,
          437154,
          318061,
          190000,
          95000,
          105900,
          140000,
          177500,
          173000,
          134000,
          130000,
          280000,
          156000,
          145000,
          198500,
          118000,
          190000,
          147000,
          159000,
          165000,
          132000,
          162000,
          172400,
          134432,
          125000,
          123000,
          219500,
          61000,
          148000,
          340000,
          394432,
          179000,
          127000,
          187750,
          213500,
          76000,
          240000,
          192000,
          81000,
          125000,
          191000,
          426000,
          119000,
          215000,
          106500,
          100000,
          109000,
          129000,
          123000,
          169500,
          67000,
          241000,
          245500,
          164990,
          108000,
          258000,
          168000,
          150000,
          115000,
          177000,
          280000,
          339750,
          60000,
          145000,
          222000,
          115000,
          228000,
          181134,
          149500,
          239000,
          126000,
          142000,
          206300,
          215000,
          113000,
          315000,
          139000,
          135000,
          275000,
          109008,
          195400,
          175000,
          85400,
          79900,
          122500,
          181000,
          81000,
          212000,
          116000,
          119000,
          90350,
          110000,
          555000,
          118000,
          162900,
          172500,
          210000,
          127500,
          190000,
          199900,
          119500,
          120000,
          110000,
          280000,
          204000,
          210000,
          188000,
          175500,
          98000,
          256000,
          161000,
          110000,
          263435,
          155000,
          62383,
          188700,
          124000,
          178740,
          167000,
          146500,
          250000,
          187000,
          212000,
          190000,
          148000,
          440000,
          251000,
          132500,
          208900,
          380000,
          297000,
          89471,
          326000,
          374000,
          155000,
          164000,
          132500,
          147000,
          156000,
          175000,
          160000,
          86000,
          115000,
          133000,
          172785,
          155000,
          91300,
          34900,
          430000,
          184000,
          130000,
          120000,
          113000,
          226700,
          140000,
          289000,
          147000,
          124500,
          215000,
          208300,
          161000,
          124500,
          164900,
          202665,
          129900,
          134000,
          96500,
          402861,
          158000,
          265000,
          211000,
          234000,
          106250,
          150000,
          159000,
          184750,
          315750,
          176000,
          132000,
          446261,
          86000,
          200624,
          175000,
          128000,
          107500,
          39300,
          178000,
          107500,
          188000,
          111250,
          158000,
          272000,
          315000,
          248000,
          213250,
          133000,
          179665,
          229000,
          210000,
          129500,
          125000,
          263000,
          140000,
          112500,
          255500,
          108000,
          284000,
          113000,
          141000,
          108000,
          175000,
          234000,
          121500,
          170000,
          108000,
          185000,
          268000,
          128000,
          325000,
          214000,
          316600,
          135960,
          142600,
          120000,
          224500,
          170000,
          139000,
          118500,
          145000,
          164500,
          146000,
          131500,
          181900,
          253293,
          118500,
          325000,
          133000,
          369900,
          130000,
          137000,
          143000,
          79500,
          185900,
          451950,
          138000,
          140000,
          110000,
          319000,
          114504,
          194201,
          217500,
          151000,
          275000,
          141000,
          220000,
          151000,
          221000,
          205000,
          152000,
          225000,
          359100,
          118500,
          313000,
          148000,
          261500,
          147000,
          75500,
          137500,
          183200,
          105500,
          314813,
          305000,
          67000,
          240000,
          135000,
          168500,
          165150,
          160000,
          139900,
          153000,
          135000,
          168500,
          124000,
          209500,
          82500,
          139400,
          144000,
          200000,
          60000,
          93000,
          85000,
          264561,
          274000,
          226000,
          345000,
          152000,
          370878,
          143250,
          98300,
          155000,
          155000,
          84500,
          205950,
          108000,
          191000,
          135000,
          350000,
          88000,
          145500,
          149000,
          97500,
          167000,
          197900,
          402000,
          110000,
          137500,
          423000,
          230500,
          129000,
          193500,
          168000,
          137500,
          173500,
          103600,
          165000,
          257500,
          140000,
          148500,
          87000,
          109500,
          372500,
          128500,
          143000,
          159434,
          173000,
          285000,
          221000,
          207500,
          227875,
          148800,
          392000,
          194700,
          141000,
          755000,
          335000,
          108480,
          141500,
          176000,
          89000,
          123500,
          138500,
          196000,
          312500,
          140000,
          361919,
          140000,
          213000,
          55000,
          302000,
          254000,
          179540,
          109900,
          52000,
          102776,
          189000,
          129000,
          130500,
          165000,
          159500,
          157000,
          341000,
          128500,
          275000,
          143000,
          124500,
          135000,
          320000,
          120500,
          222000,
          194500,
          110000,
          103000,
          236500,
          187500,
          222500,
          131400,
          108000,
          163000,
          93500,
          239900,
          179000,
          190000,
          132000,
          142000,
          179000,
          175000,
          180000,
          299800,
          236000,
          265979,
          260400,
          98000,
          96500,
          162000,
          217000,
          275500,
          156000,
          172500,
          212000,
          158900,
          179400,
          290000,
          127500,
          100000,
          215200,
          337000,
          270000,
          264132,
          196500,
          160000,
          216837,
          538000,
          134900,
          102000,
          107000,
          114500,
          395000,
          162000,
          221500,
          142500,
          144000,
          135000,
          176000,
          175900,
          187100,
          165500,
          128000,
          161500,
          139000,
          233000,
          107900,
          187500,
          160200,
          146800,
          269790,
          225000,
          194500,
          171000,
          143500,
          110000,
          485000,
          175000,
          200000,
          109900,
          189000,
          582933,
          118000,
          227680,
          135500,
          223500,
          159950,
          106000,
          181000,
          144500,
          55993,
          157900,
          116000,
          224900,
          137000,
          271000,
          155000,
          224000,
          183000,
          93000,
          225000,
          139500,
          232600,
          385000,
          109500,
          189000,
          185000,
          147400,
          166000,
          151000,
          237000,
          167000,
          139950,
          128000,
          153500,
          100000,
          144000,
          130500,
          140000,
          157500,
          174900,
          141000,
          153900,
          171000,
          213000,
          133500,
          240000,
          187000,
          131500,
          215000,
          164000,
          158000,
          170000,
          127000,
          147000,
          174000,
          152000,
          250000,
          189950,
          131500,
          152000,
          132500,
          250580,
          148500,
          248900,
          129000,
          169000,
          236000,
          109500,
          200500,
          116000,
          133000,
          66500,
          303477,
          132250,
          350000,
          148000,
          136500,
          157000,
          187500,
          178000,
          118500,
          100000,
          328900,
          145000,
          135500,
          268000,
          149500,
          122900,
          172500,
          154500,
          165000,
          118858,
          140000,
          106500,
          142953,
          611657,
          135000,
          110000,
          153000,
          180000,
          240000,
          125500,
          128000,
          255000,
          250000,
          131000,
          174000,
          154300,
          143500,
          88000,
          145000,
          173733,
          75000,
          35311,
          135000,
          238000,
          176500,
          201000,
          145900,
          169990,
          193000,
          207500,
          175000,
          285000,
          176000,
          236500,
          222000,
          201000,
          117500,
          320000,
          190000,
          242000,
          79900,
          184900,
          253000,
          239799,
          244400,
          150900,
          214000,
          150000,
          143000,
          137500,
          124900,
          143000,
          270000,
          192500,
          197500,
          129000,
          119900,
          133900,
          172000,
          127500,
          145000,
          124000,
          132000,
          185000,
          155000,
          116500,
          272000,
          155000,
          239000,
          214900,
          178900,
          160000,
          135000,
          37900,
          140000,
          135000,
          173000,
          99500,
          182000,
          167500,
          165000,
          85500,
          199900,
          110000,
          139000,
          178400,
          336000,
          159895,
          255900,
          126000,
          125000,
          117000,
          395192,
          195000,
          197000,
          348000,
          168000,
          187000,
          173900,
          337500,
          121600,
          136500,
          185000,
          91000,
          206000,
          82000,
          86000,
          232000,
          136905,
          181000,
          149900,
          163500,
          88000,
          240000,
          102000,
          135000,
          100000,
          165000,
          85000,
          119200,
          227000,
          203000,
          187500,
          160000,
          213490,
          176000,
          194000,
          87000,
          191000,
          287000,
          112500,
          167500,
          293077,
          105000,
          118000,
          160000,
          197000,
          310000,
          230000,
          119750,
          84000,
          315500,
          287000,
          97000,
          80000,
          155000,
          173000,
          196000,
          262280,
          278000,
          139600,
          556581,
          145000,
          115000,
          84900,
          176485,
          200141,
          165000,
          144500,
          255000,
          180000,
          185850,
          248000,
          335000,
          220000,
          213500,
          81000,
          90000,
          110500,
          154000,
          328000,
          178000,
          167900,
          151400,
          135000,
          135000,
          154000,
          91500,
          159500,
          194000,
          219500,
          170000,
          138800,
          155900,
          126000,
          145000,
          133000,
          192000,
          160000,
          187500,
          147000,
          83500,
          252000,
          137500,
          197000,
          92900,
          160000,
          136500,
          146000,
          129000,
          176432,
          127000,
          170000,
          128000,
          157000,
          60000,
          119500,
          135000,
          159500,
          106000,
          325000,
          179900,
          274725,
          181000,
          280000,
          188000,
          205000,
          129900,
          134500,
          117000,
          318000,
          184100,
          130000,
          140000,
          133700,
          118400,
          212900,
          112000,
          118000,
          163900,
          115000,
          174000,
          259000,
          215000,
          140000,
          135000,
          93500,
          117500,
          239500,
          169000,
          102000,
          119000,
          94000,
          196000,
          144000,
          139000,
          197500,
          424870,
          80000,
          80000,
          149000,
          180000,
          174500,
          116900,
          143000,
          124000,
          149900,
          230000,
          120500,
          201800,
          218000,
          179900,
          230000,
          235128,
          185000,
          146000,
          224000,
          129000,
          108959,
          194000,
          233170,
          245350,
          173000,
          235000,
          625000,
          171000,
          163000,
          171900,
          200500,
          239000,
          285000,
          119500,
          115000,
          154900,
          93000,
          250000,
          392500,
          745000,
          120000,
          186700,
          104900,
          95000,
          262000,
          195000,
          189000,
          168000,
          174000,
          125000,
          165000,
          158000,
          176000,
          219210,
          144000,
          178000,
          148000,
          116050,
          197900,
          117000,
          213000,
          153500,
          271900,
          107000,
          200000,
          140000,
          290000,
          189000,
          164000,
          113000,
          145000,
          134500,
          125000,
          112000,
          229456,
          80500,
          91500,
          115000,
          134000,
          143000,
          137900,
          184000,
          145000,
          214000,
          147000,
          367294,
          127000,
          190000,
          132500,
          101800,
          142000,
          130000,
          138887,
          175500,
          195000,
          142500,
          265900,
          224900,
          248328,
          170000,
          465000,
          230000,
          178000,
          186500,
          169900,
          129500,
          119000,
          244000,
          171750,
          130000,
          294000,
          165400,
          127500,
          301500,
          99900,
          190000,
          151000,
          181000,
          128900,
          161500,
          180500,
          181000,
          183900,
          122000,
          378500,
          381000,
          144000,
          260000,
          185750,
          137000,
          177000,
          139000,
          137000,
          162000,
          197900,
          237000,
          68400,
          227000,
          180000,
          150500,
          139000,
          169000,
          132500,
          143000,
          190000,
          278000,
          281000,
          180500,
          119500,
          107500,
          162900,
          115000,
          138500,
          155000,
          140000,
          160000,
          154000,
          225000,
          177500,
          290000,
          232000,
          130000,
          325000,
          202500,
          138000,
          147000,
          179200,
          335000,
          203000,
          302000,
          333168,
          119000,
          206900,
          295493,
          208900,
          275000,
          111000,
          156500,
          72500,
          190000,
          82500,
          147000,
          55000,
          79000,
          130500,
          256000,
          176500,
          227000,
          132500,
          100000,
          125500,
          125000,
          167900,
          135000,
          52500,
          200000,
          128500,
          123000,
          155000,
          228500,
          177000,
          155835,
          108500,
          262500,
          283463,
          215000,
          122000,
          200000,
          171000,
          134900,
          410000,
          235000,
          170000,
          110000,
          149900,
          177500,
          315000,
          189000,
          260000,
          104900,
          156932,
          144152,
          216000,
          193000,
          127000,
          144000,
          232000,
          105000,
          165500,
          274300,
          466500,
          250000,
          239000,
          91000,
          117000,
          83000,
          167500,
          58500,
          237500,
          157000,
          112000,
          105000,
          125500,
          250000,
          136000,
          377500,
          131000,
          235000,
          124000,
          123000,
          163000,
          246578,
          281213,
          160000,
          137500,
          138000,
          137450,
          120000,
          193000,
          193879,
          282922,
          105000,
          275000,
          133000,
          112000,
          125500,
          215000,
          230000,
          140000,
          90000,
          257000,
          207000,
          175900,
          122500,
          340000,
          124000,
          223000,
          179900,
          127500,
          136500,
          274970,
          144000,
          142000,
          271000,
          140000,
          119000,
          182900,
          192140,
          143750,
          64500,
          186500,
          160000,
          174000,
          120500,
          394617,
          149700,
          197000,
          191000,
          149300,
          310000,
          121000,
          179600,
          129000,
          157900,
          240000,
          112000,
          92000,
          136000,
          287090,
          145000,
          84500,
          185000,
          175000,
          210000,
          266500,
          142125,
          147500
         ],
         "xaxis": "x",
         "yaxis": "y"
        },
        {
         "line": {
          "color": "black",
          "width": 2
         },
         "mode": "lines",
         "name": "Density Estimation",
         "type": "scatter",
         "x": [
          34900,
          35620.82082082082,
          36341.64164164164,
          37062.46246246246,
          37783.28328328329,
          38504.1041041041,
          39224.924924924926,
          39945.74574574575,
          40666.566566566566,
          41387.38738738739,
          42108.208208208205,
          42829.02902902903,
          43549.84984984985,
          44270.67067067067,
          44991.49149149149,
          45712.31231231231,
          46433.13313313313,
          47153.953953953955,
          47874.77477477478,
          48595.595595595594,
          49316.41641641642,
          50037.237237237234,
          50758.05805805806,
          51478.87887887888,
          52199.699699699704,
          52920.52052052052,
          53641.34134134134,
          54362.16216216216,
          55082.98298298298,
          55803.80380380381,
          56524.62462462462,
          57245.445445445446,
          57966.26626626626,
          58687.087087087086,
          59407.90790790791,
          60128.72872872873,
          60849.54954954955,
          61570.370370370365,
          62291.19119119119,
          63012.01201201201,
          63732.832832832835,
          64453.65365365366,
          65174.474474474475,
          65895.29529529529,
          66616.11611611611,
          67336.93693693694,
          68057.75775775776,
          68778.57857857857,
          69499.39939939941,
          70220.22022022022,
          70941.04104104104,
          71661.86186186186,
          72382.68268268267,
          73103.50350350351,
          73824.32432432432,
          74545.14514514514,
          75265.96596596597,
          75986.78678678679,
          76707.60760760761,
          77428.42842842842,
          78149.24924924925,
          78870.07007007007,
          79590.89089089089,
          80311.71171171172,
          81032.53253253252,
          81753.35335335336,
          82474.17417417417,
          83194.994994995,
          83915.81581581582,
          84636.63663663663,
          85357.45745745747,
          86078.27827827827,
          86799.0990990991,
          87519.91991991992,
          88240.74074074073,
          88961.56156156157,
          89682.38238238238,
          90403.2032032032,
          91124.02402402402,
          91844.84484484485,
          92565.66566566567,
          93286.48648648648,
          94007.30730730732,
          94728.12812812813,
          95448.94894894895,
          96169.76976976977,
          96890.59059059058,
          97611.41141141142,
          98332.23223223223,
          99053.05305305305,
          99773.87387387388,
          100494.6946946947,
          101215.51551551551,
          101936.33633633633,
          102657.15715715715,
          103377.97797797798,
          104098.7987987988,
          104819.61961961963,
          105540.44044044043,
          106261.26126126126,
          106982.08208208208,
          107702.9029029029,
          108423.72372372373,
          109144.54454454454,
          109865.36536536536,
          110586.18618618618,
          111307.007007007,
          112027.82782782783,
          112748.64864864865,
          113469.46946946946,
          114190.29029029029,
          114911.11111111111,
          115631.93193193193,
          116352.75275275276,
          117073.57357357358,
          117794.39439439439,
          118515.21521521521,
          119236.03603603604,
          119956.85685685686,
          120677.67767767768,
          121398.49849849849,
          122119.31931931931,
          122840.14014014014,
          123560.96096096096,
          124281.78178178178,
          125002.60260260261,
          125723.42342342342,
          126444.24424424424,
          127165.06506506506,
          127885.88588588589,
          128606.70670670671,
          129327.52752752752,
          130048.34834834834,
          130769.16916916917,
          131489.98998999,
          132210.81081081083,
          132931.63163163164,
          133652.45245245245,
          134373.27327327325,
          135094.0940940941,
          135814.91491491493,
          136535.73573573574,
          137256.55655655655,
          137977.37737737736,
          138698.1981981982,
          139419.01901901903,
          140139.83983983984,
          140860.66066066065,
          141581.48148148146,
          142302.3023023023,
          143023.12312312314,
          143743.94394394394,
          144464.76476476475,
          145185.5855855856,
          145906.4064064064,
          146627.22722722724,
          147348.04804804805,
          148068.86886886886,
          148789.6896896897,
          149510.5105105105,
          150231.33133133134,
          150952.15215215215,
          151672.97297297296,
          152393.7937937938,
          153114.61461461463,
          153835.43543543544,
          154556.25625625625,
          155277.07707707706,
          155997.8978978979,
          156718.71871871874,
          157439.53953953955,
          158160.36036036036,
          158881.18118118116,
          159602.002002002,
          160322.82282282284,
          161043.64364364365,
          161764.46446446446,
          162485.28528528527,
          163206.1061061061,
          163926.92692692694,
          164647.74774774775,
          165368.56856856856,
          166089.3893893894,
          166810.2102102102,
          167531.03103103102,
          168251.85185185185,
          168972.67267267266,
          169693.4934934935,
          170414.3143143143,
          171135.13513513515,
          171855.95595595596,
          172576.77677677677,
          173297.5975975976,
          174018.4184184184,
          174739.23923923925,
          175460.06006006006,
          176180.88088088087,
          176901.7017017017,
          177622.52252252251,
          178343.34334334335,
          179064.16416416416,
          179784.98498498497,
          180505.8058058058,
          181226.62662662662,
          181947.44744744746,
          182668.26826826826,
          183389.08908908907,
          184109.9099099099,
          184830.73073073072,
          185551.55155155156,
          186272.37237237237,
          186993.1931931932,
          187714.014014014,
          188434.83483483482,
          189155.65565565566,
          189876.47647647647,
          190597.2972972973,
          191318.11811811812,
          192038.93893893893,
          192759.75975975976,
          193480.58058058057,
          194201.4014014014,
          194922.22222222222,
          195643.04304304303,
          196363.86386386387,
          197084.68468468467,
          197805.5055055055,
          198526.32632632632,
          199247.14714714716,
          199967.96796796797,
          200688.78878878878,
          201409.60960960962,
          202130.43043043042,
          202851.25125125126,
          203572.07207207207,
          204292.89289289288,
          205013.71371371372,
          205734.53453453453,
          206455.35535535536,
          207176.17617617617,
          207896.99699699698,
          208617.81781781782,
          209338.63863863863,
          210059.45945945947,
          210780.28028028028,
          211501.10110110109,
          212221.92192192192,
          212942.74274274273,
          213663.56356356357,
          214384.38438438438,
          215105.20520520522,
          215826.02602602603,
          216546.84684684683,
          217267.66766766767,
          217988.48848848848,
          218709.30930930932,
          219430.13013013013,
          220150.95095095094,
          220871.77177177178,
          221592.59259259258,
          222313.41341341342,
          223034.23423423423,
          223755.05505505504,
          224475.87587587588,
          225196.6966966967,
          225917.51751751752,
          226638.33833833833,
          227359.15915915917,
          228079.97997997998,
          228800.8008008008,
          229521.62162162163,
          230242.44244244244,
          230963.26326326327,
          231684.08408408408,
          232404.9049049049,
          233125.72572572573,
          233846.54654654654,
          234567.36736736738,
          235288.1881881882,
          236009.009009009,
          236729.82982982983,
          237450.65065065064,
          238171.47147147148,
          238892.2922922923,
          239613.1131131131,
          240333.93393393393,
          241054.75475475474,
          241775.57557557558,
          242496.3963963964,
          243217.21721721723,
          243938.03803803804,
          244658.85885885885,
          245379.67967967968,
          246100.5005005005,
          246821.32132132133,
          247542.14214214214,
          248262.96296296295,
          248983.7837837838,
          249704.6046046046,
          250425.42542542543,
          251146.24624624624,
          251867.06706706705,
          252587.8878878879,
          253308.7087087087,
          254029.52952952954,
          254750.35035035035,
          255471.17117117118,
          256191.991991992,
          256912.8128128128,
          257633.63363363364,
          258354.45445445445,
          259075.2752752753,
          259796.0960960961,
          260516.9169169169,
          261237.73773773774,
          261958.55855855855,
          262679.3793793794,
          263400.2002002002,
          264121.021021021,
          264841.8418418418,
          265562.6626626627,
          266283.4834834835,
          267004.3043043043,
          267725.1251251251,
          268445.9459459459,
          269166.7667667668,
          269887.5875875876,
          270608.4084084084,
          271329.22922922927,
          272050.05005005,
          272770.8708708709,
          273491.6916916917,
          274212.5125125125,
          274933.3333333334,
          275654.1541541541,
          276374.974974975,
          277095.7957957958,
          277816.6166166166,
          278537.4374374375,
          279258.2582582582,
          279979.0790790791,
          280699.8998998999,
          281420.7207207207,
          282141.5415415416,
          282862.3623623623,
          283583.1831831832,
          284304.004004004,
          285024.8248248248,
          285745.6456456457,
          286466.46646646643,
          287187.2872872873,
          287908.1081081081,
          288628.9289289289,
          289349.7497497498,
          290070.57057057053,
          290791.3913913914,
          291512.2122122122,
          292233.033033033,
          292953.8538538539,
          293674.67467467464,
          294395.4954954955,
          295116.3163163163,
          295837.1371371371,
          296557.957957958,
          297278.7787787788,
          297999.5995995996,
          298720.4204204204,
          299441.2412412412,
          300162.06206206203,
          300882.8828828829,
          301603.7037037037,
          302324.5245245245,
          303045.3453453453,
          303766.16616616613,
          304486.986986987,
          305207.8078078078,
          305928.6286286286,
          306649.4494494494,
          307370.2702702703,
          308091.0910910911,
          308811.9119119119,
          309532.7327327327,
          310253.55355355353,
          310974.3743743744,
          311695.1951951952,
          312416.016016016,
          313136.8368368368,
          313857.65765765763,
          314578.4784784785,
          315299.2992992993,
          316020.1201201201,
          316740.9409409409,
          317461.76176176174,
          318182.5825825826,
          318903.4034034034,
          319624.2242242242,
          320345.04504504503,
          321065.86586586584,
          321786.6866866867,
          322507.5075075075,
          323228.3283283283,
          323949.14914914913,
          324669.96996996994,
          325390.7907907908,
          326111.6116116116,
          326832.4324324324,
          327553.25325325324,
          328274.07407407404,
          328994.8948948949,
          329715.7157157157,
          330436.5365365365,
          331157.35735735734,
          331878.17817817815,
          332598.998998999,
          333319.8198198198,
          334040.64064064063,
          334761.46146146144,
          335482.2822822823,
          336203.1031031031,
          336923.9239239239,
          337644.74474474473,
          338365.56556556554,
          339086.3863863864,
          339807.2072072072,
          340528.028028028,
          341248.84884884884,
          341969.66966966965,
          342690.4904904905,
          343411.3113113113,
          344132.13213213213,
          344852.95295295294,
          345573.77377377375,
          346294.5945945946,
          347015.4154154154,
          347736.23623623623,
          348457.05705705704,
          349177.87787787785,
          349898.6986986987,
          350619.5195195195,
          351340.34034034034,
          352061.16116116114,
          352781.98198198195,
          353502.8028028028,
          354223.6236236236,
          354944.44444444444,
          355665.26526526525,
          356386.08608608606,
          357106.9069069069,
          357827.72772772773,
          358548.54854854854,
          359269.36936936935,
          359990.19019019016,
          360711.011011011,
          361431.83183183183,
          362152.65265265264,
          362873.47347347345,
          363594.2942942943,
          364315.1151151151,
          365035.93593593594,
          365756.75675675675,
          366477.57757757755,
          367198.3983983984,
          367919.21921921923,
          368640.04004004004,
          369360.86086086085,
          370081.68168168166,
          370802.5025025025,
          371523.32332332333,
          372244.14414414414,
          372964.96496496495,
          373685.78578578576,
          374406.6066066066,
          375127.42742742744,
          375848.24824824824,
          376569.06906906905,
          377289.88988988986,
          378010.71071071073,
          378731.53153153154,
          379452.35235235235,
          380173.17317317316,
          380893.99399399396,
          381614.81481481483,
          382335.63563563564,
          383056.45645645645,
          383777.27727727726,
          384498.09809809807,
          385218.91891891893,
          385939.73973973974,
          386660.56056056055,
          387381.38138138136,
          388102.20220220217,
          388823.02302302304,
          389543.84384384385,
          390264.66466466465,
          390985.48548548546,
          391706.30630630633,
          392427.12712712714,
          393147.94794794795,
          393868.76876876876,
          394589.58958958957,
          395310.41041041043,
          396031.23123123124,
          396752.05205205205,
          397472.87287287286,
          398193.69369369367,
          398914.51451451454,
          399635.33533533535,
          400356.15615615615,
          401076.97697697696,
          401797.7977977978,
          402518.61861861864,
          403239.43943943945,
          403960.26026026026,
          404681.08108108107,
          405401.9019019019,
          406122.72272272274,
          406843.54354354355,
          407564.36436436436,
          408285.18518518517,
          409006.006006006,
          409726.82682682684,
          410447.64764764765,
          411168.46846846846,
          411889.28928928927,
          412610.1101101101,
          413330.93093093095,
          414051.75175175176,
          414772.57257257256,
          415493.3933933934,
          416214.2142142142,
          416935.03503503505,
          417655.85585585586,
          418376.67667667667,
          419097.4974974975,
          419818.31831831834,
          420539.13913913915,
          421259.95995995996,
          421980.78078078077,
          422701.6016016016,
          423422.42242242245,
          424143.24324324325,
          424864.06406406406,
          425584.8848848849,
          426305.7057057057,
          427026.52652652655,
          427747.34734734736,
          428468.16816816817,
          429188.988988989,
          429909.8098098098,
          430630.63063063065,
          431351.45145145146,
          432072.27227227227,
          432793.0930930931,
          433513.9139139139,
          434234.73473473475,
          434955.55555555556,
          435676.3763763764,
          436397.1971971972,
          437118.018018018,
          437838.83883883886,
          438559.65965965966,
          439280.4804804805,
          440001.3013013013,
          440722.1221221221,
          441442.94294294296,
          442163.76376376377,
          442884.5845845846,
          443605.4054054054,
          444326.2262262262,
          445047.04704704706,
          445767.86786786787,
          446488.6886886887,
          447209.5095095095,
          447930.33033033035,
          448651.15115115116,
          449371.971971972,
          450092.7927927928,
          450813.6136136136,
          451534.43443443446,
          452255.25525525527,
          452976.0760760761,
          453696.8968968969,
          454417.7177177177,
          455138.53853853856,
          455859.35935935937,
          456580.1801801802,
          457301.001001001,
          458021.8218218218,
          458742.64264264266,
          459463.4634634635,
          460184.2842842843,
          460905.1051051051,
          461625.9259259259,
          462346.74674674676,
          463067.5675675676,
          463788.3883883884,
          464509.2092092092,
          465230.03003003,
          465950.85085085087,
          466671.6716716717,
          467392.4924924925,
          468113.3133133133,
          468834.1341341341,
          469554.95495495497,
          470275.7757757758,
          470996.5965965966,
          471717.4174174174,
          472438.2382382382,
          473159.0590590591,
          473879.8798798799,
          474600.7007007007,
          475321.5215215215,
          476042.34234234237,
          476763.1631631632,
          477483.983983984,
          478204.8048048048,
          478925.6256256256,
          479646.44644644647,
          480367.2672672673,
          481088.0880880881,
          481808.9089089089,
          482529.7297297297,
          483250.5505505506,
          483971.3713713714,
          484692.1921921922,
          485413.013013013,
          486133.8338338338,
          486854.6546546547,
          487575.4754754755,
          488296.2962962963,
          489017.1171171171,
          489737.9379379379,
          490458.7587587588,
          491179.5795795796,
          491900.4004004004,
          492621.2212212212,
          493342.042042042,
          494062.8628628629,
          494783.6836836837,
          495504.5045045045,
          496225.3253253253,
          496946.1461461461,
          497666.966966967,
          498387.7877877878,
          499108.6086086086,
          499829.4294294294,
          500550.2502502502,
          501271.0710710711,
          501991.8918918919,
          502712.7127127127,
          503433.5335335335,
          504154.3543543544,
          504875.1751751752,
          505595.995995996,
          506316.8168168168,
          507037.6376376376,
          507758.4584584585,
          508479.2792792793,
          509200.1001001001,
          509920.9209209209,
          510641.7417417417,
          511362.5625625626,
          512083.3833833834,
          512804.2042042042,
          513525.025025025,
          514245.8458458458,
          514966.6666666667,
          515687.4874874875,
          516408.3083083083,
          517129.1291291291,
          517849.9499499499,
          518570.7707707708,
          519291.5915915916,
          520012.4124124124,
          520733.2332332332,
          521454.054054054,
          522174.8748748749,
          522895.6956956957,
          523616.5165165165,
          524337.3373373373,
          525058.1581581582,
          525778.9789789789,
          526499.7997997998,
          527220.6206206207,
          527941.4414414414,
          528662.2622622622,
          529383.0830830832,
          530103.9039039039,
          530824.7247247247,
          531545.5455455455,
          532266.3663663664,
          532987.1871871871,
          533708.008008008,
          534428.8288288289,
          535149.6496496496,
          535870.4704704705,
          536591.2912912914,
          537312.1121121121,
          538032.9329329329,
          538753.7537537537,
          539474.5745745746,
          540195.3953953953,
          540916.2162162162,
          541637.0370370371,
          542357.8578578578,
          543078.6786786787,
          543799.4994994996,
          544520.3203203203,
          545241.1411411411,
          545961.9619619619,
          546682.7827827828,
          547403.6036036036,
          548124.4244244244,
          548845.2452452453,
          549566.066066066,
          550286.8868868869,
          551007.7077077078,
          551728.5285285285,
          552449.3493493493,
          553170.1701701701,
          553890.990990991,
          554611.8118118118,
          555332.6326326326,
          556053.4534534535,
          556774.2742742742,
          557495.0950950951,
          558215.915915916,
          558936.7367367367,
          559657.5575575576,
          560378.3783783783,
          561099.1991991992,
          561820.02002002,
          562540.8408408408,
          563261.6616616617,
          563982.4824824824,
          564703.3033033033,
          565424.1241241241,
          566144.9449449449,
          566865.7657657658,
          567586.5865865865,
          568307.4074074074,
          569028.2282282282,
          569749.049049049,
          570469.8698698699,
          571190.6906906907,
          571911.5115115115,
          572632.3323323323,
          573353.1531531531,
          574073.973973974,
          574794.7947947948,
          575515.6156156156,
          576236.4364364365,
          576957.2572572572,
          577678.0780780781,
          578398.8988988989,
          579119.7197197197,
          579840.5405405406,
          580561.3613613613,
          581282.1821821822,
          582003.003003003,
          582723.8238238238,
          583444.6446446447,
          584165.4654654654,
          584886.2862862863,
          585607.1071071071,
          586327.9279279279,
          587048.7487487488,
          587769.5695695695,
          588490.3903903904,
          589211.2112112112,
          589932.032032032,
          590652.8528528529,
          591373.6736736736,
          592094.4944944945,
          592815.3153153153,
          593536.1361361361,
          594256.956956957,
          594977.7777777778,
          595698.5985985986,
          596419.4194194194,
          597140.2402402402,
          597861.0610610611,
          598581.8818818819,
          599302.7027027027,
          600023.5235235235,
          600744.3443443443,
          601465.1651651652,
          602185.985985986,
          602906.8068068068,
          603627.6276276276,
          604348.4484484484,
          605069.2692692693,
          605790.0900900901,
          606510.9109109109,
          607231.7317317317,
          607952.5525525525,
          608673.3733733734,
          609394.1941941942,
          610115.015015015,
          610835.8358358358,
          611556.6566566566,
          612277.4774774775,
          612998.2982982983,
          613719.1191191191,
          614439.9399399399,
          615160.7607607607,
          615881.5815815816,
          616602.4024024024,
          617323.2232232232,
          618044.044044044,
          618764.8648648649,
          619485.6856856857,
          620206.5065065065,
          620927.3273273273,
          621648.1481481481,
          622368.968968969,
          623089.7897897898,
          623810.6106106106,
          624531.4314314314,
          625252.2522522522,
          625973.073073073,
          626693.8938938939,
          627414.7147147147,
          628135.5355355355,
          628856.3563563563,
          629577.1771771772,
          630297.997997998,
          631018.8188188188,
          631739.6396396396,
          632460.4604604605,
          633181.2812812813,
          633902.1021021021,
          634622.9229229229,
          635343.7437437437,
          636064.5645645646,
          636785.3853853854,
          637506.2062062062,
          638227.027027027,
          638947.8478478479,
          639668.6686686687,
          640389.4894894895,
          641110.3103103103,
          641831.1311311311,
          642551.951951952,
          643272.7727727728,
          643993.5935935936,
          644714.4144144144,
          645435.2352352352,
          646156.056056056,
          646876.8768768769,
          647597.6976976977,
          648318.5185185185,
          649039.3393393393,
          649760.1601601602,
          650480.980980981,
          651201.8018018018,
          651922.6226226226,
          652643.4434434434,
          653364.2642642643,
          654085.0850850851,
          654805.9059059059,
          655526.7267267267,
          656247.5475475475,
          656968.3683683684,
          657689.1891891892,
          658410.01001001,
          659130.8308308308,
          659851.6516516516,
          660572.4724724725,
          661293.2932932933,
          662014.1141141141,
          662734.934934935,
          663455.7557557557,
          664176.5765765766,
          664897.3973973974,
          665618.2182182182,
          666339.039039039,
          667059.8598598598,
          667780.6806806807,
          668501.5015015015,
          669222.3223223223,
          669943.1431431432,
          670663.9639639639,
          671384.7847847848,
          672105.6056056056,
          672826.4264264264,
          673547.2472472473,
          674268.068068068,
          674988.8888888889,
          675709.7097097097,
          676430.5305305305,
          677151.3513513514,
          677872.1721721721,
          678592.992992993,
          679313.8138138138,
          680034.6346346346,
          680755.4554554555,
          681476.2762762762,
          682197.0970970971,
          682917.917917918,
          683638.7387387387,
          684359.5595595596,
          685080.3803803803,
          685801.2012012012,
          686522.022022022,
          687242.8428428428,
          687963.6636636637,
          688684.4844844845,
          689405.3053053053,
          690126.1261261262,
          690846.9469469469,
          691567.7677677678,
          692288.5885885886,
          693009.4094094094,
          693730.2302302303,
          694451.051051051,
          695171.8718718719,
          695892.6926926927,
          696613.5135135135,
          697334.3343343344,
          698055.1551551551,
          698775.975975976,
          699496.7967967968,
          700217.6176176176,
          700938.4384384385,
          701659.2592592592,
          702380.0800800801,
          703100.900900901,
          703821.7217217217,
          704542.5425425426,
          705263.3633633633,
          705984.1841841842,
          706705.005005005,
          707425.8258258258,
          708146.6466466467,
          708867.4674674674,
          709588.2882882883,
          710309.1091091092,
          711029.9299299299,
          711750.7507507508,
          712471.5715715715,
          713192.3923923924,
          713913.2132132133,
          714634.034034034,
          715354.8548548549,
          716075.6756756756,
          716796.4964964965,
          717517.3173173174,
          718238.1381381381,
          718958.958958959,
          719679.7797797797,
          720400.6006006006,
          721121.4214214215,
          721842.2422422422,
          722563.0630630631,
          723283.8838838838,
          724004.7047047047,
          724725.5255255256,
          725446.3463463463,
          726167.1671671672,
          726887.9879879879,
          727608.8088088088,
          728329.6296296297,
          729050.4504504504,
          729771.2712712713,
          730492.092092092,
          731212.9129129129,
          731933.7337337338,
          732654.5545545545,
          733375.3753753754,
          734096.1961961961,
          734817.017017017,
          735537.8378378379,
          736258.6586586586,
          736979.4794794795,
          737700.3003003002,
          738421.1211211211,
          739141.941941942,
          739862.7627627627,
          740583.5835835836,
          741304.4044044043,
          742025.2252252252,
          742746.0460460461,
          743466.8668668668,
          744187.6876876877,
          744908.5085085086,
          745629.3293293293,
          746350.1501501502,
          747070.9709709709,
          747791.7917917918,
          748512.6126126127,
          749233.4334334334,
          749954.2542542543,
          750675.075075075,
          751395.8958958959,
          752116.7167167168,
          752837.5375375375,
          753558.3583583584,
          754279.1791791791,
          755000
         ],
         "y": [
          2.0800066505237839e-7,
          2.1721792924349388e-7,
          2.2677420725889297e-7,
          2.36682755512632e-7,
          2.4695741162461926e-7,
          2.576125881716514e-7,
          2.6866326214493777e-7,
          2.8012495994555425e-7,
          2.920137377797143e-7,
          3.0434615734946386e-7,
          3.1713925677134224e-7,
          3.304105166956224e-7,
          3.44177821641757e-7,
          3.5845941661142517e-7,
          3.732738590889237e-7,
          3.886399665890239e-7,
          4.045767599647877e-7,
          4.2110340274134e-7,
          4.3823913679612534e-7,
          4.560032147607607e-7,
          4.744148295738809e-7,
          4.934930416674497e-7,
          5.132567043202109e-7,
          5.337243877603511e-7,
          5.549143026443344e-7,
          5.768442235791565e-7,
          5.995314133902384e-7,
          6.229925488658037e-7,
          6.472436487300256e-7,
          6.723000046106662e-7,
          6.981761157715166e-7,
          7.24885628374999e-7,
          7.52441280025229e-7,
          7.808548503160686e-7,
          8.101371180719718e-7,
          8.402978259214513e-7,
          8.713456527837216e-7,
          9.032881947787473e-7,
          9.361319549897489e-7,
          9.698823424157821e-7,
          0.0000010045436803510913,
          0.0000010401192243184012,
          0.0000010766111895662356,
          0.0000011140207880174636,
          0.0000011523482744282348,
          0.0000011915930013860298,
          0.000001231753482643488,
          0.0000012728274641536024,
          0.0000013148120020433797,
          0.000001357703546639372,
          0.0000014014980315414444,
          0.0000014461909666331697,
          0.0000014917775338196246,
          0.000001538252684198706,
          0.000001585611235301523,
          0.0000016338479669829134,
          0.0000016829577145056094,
          0.000001732935457342623,
          0.0000017837764022225273,
          0.0000018354760589621193,
          0.0000018880303076708582,
          0.0000019414354559711857,
          0.0000019956882849584174,
          0.0000020507860827221308,
          0.000002106726664367069,
          0.000002163508377605012,
          0.000002221130093136436,
          0.0000022795911792027577,
          0.0000023388914598622196,
          0.0000023990311567243857,
          0.000002460010814066689,
          0.0000025218312074492065,
          0.0000025844932361386174,
          0.000002647997799845854,
          0.0000027123456604727404,
          0.000002777537289748064,
          0.0000028435727038096855,
          0.0000029104512859573142,
          0.000002978171598953796,
          0.000003046731188394725,
          0.000003116126378790616,
          0.00000318635206411468,
          0.000003257401494660235,
          0.0000033292660621237324,
          0.000003401935084883023,
          0.0000034753955954749123,
          0.0000035496321322910456,
          0.0000036246265375081283,
          0.000003700357763247029,
          0.0000037768016879161456,
          0.000003853930944639542,
          0.000003931714763599734,
          0.000004010118830039746,
          0.000004089105159572047,
          0.000004168631992331665,
          0.000004248653707391991,
          0.000004329120758732018,
          0.000004409979633907829,
          0.000004491172836437415,
          0.000004572638892758858,
          0.000004654312384469192,
          0.000004736124006393013,
          0.000004818000650870615,
          0.00000489986551849261,
          0.000004981638255344341,
          0.000005063235116657496,
          0.000005144569156600822,
          0.000005225550443774861,
          0.000005306086301809266,
          0.000005386081574293992,
          0.0000054654389131102755,
          0.000005544059089061275,
          0.000005621841323538367,
          0.000005698683639796462,
          0.0000057744832322516184,
          0.00000584913685205677,
          0.00000592254120705843,
          0.000005994593374088241,
          0.0000060651912214012905,
          0.000006134233838937231,
          0.0000062016219739545486,
          0.000006267258469471221,
          0.000006331048702840989,
          0.000006392901021703611,
          0.000006452727174472116,
          0.0000065104427324612196,
          0.000006565967500722582,
          0.000006619225914632934,
          0.000006670147419285191,
          0.000006718666828759695,
          0.000006764724662405388,
          0.000006808267455338036,
          0.000006849248040469519,
          0.000006887625799513224,
          0.000006923366880572689,
          0.000006956444380106652,
          0.000006986838487280373,
          0.000007014536588952186,
          0.000007039533333811245,
          0.0000070618306544705415,
          0.0000070814377466284595,
          0.00000709837100474103,
          0.000007112653913990662,
          0.00000712431689869316,
          0.000007133397127650721,
          0.000007139938277329367,
          0.000007143990254112538,
          0.000007145608877250975,
          0.000007144855524495044,
          0.000007141796742746048,
          0.000007136503826402354,
          0.000007129052366394278,
          0.000007119521773198004,
          0.000007107994777387338,
          0.000007094556911521239,
          0.000007079295977370346,
          0.000007062301502654384,
          0.0000070436641915932155,
          0.00000702347537366252,
          0.0000070018264549924914,
          0.00000697880837685159,
          0.0000069545110856152995,
          0.000006929023018536238,
          0.000006902430609502271,
          0.000006874817818798473,
          0.000006846265690675544,
          0.000006816851942276752,
          0.000006786650587185914,
          0.00000675573159653796,
          0.000006724160600280444,
          0.000006691998630796348,
          0.0000066593019106959564,
          0.000006626121686167087,
          0.000006592504106838562,
          0.000006558490152669907,
          0.0000065241156079334476,
          0.00000648941108190965,
          0.000006454402075475261,
          0.000006419109092334142,
          0.0000063835477932261425,
          0.000006347729191051531,
          0.000006311659884478594,
          0.00000627534232725483,
          0.000006238775130129189,
          0.000006201953392013333,
          0.00000616486905676559,
          0.0000061275112917791015,
          0.000006089866884391674,
          0.0000060519206520158755,
          0.000006013655861809704,
          0.000005975054655676318,
          0.000005936098476390177,
          0.000005896768490700844,
          0.00000585704600536022,
          0.000005816912872153583,
          0.000005776351878187884,
          0.000005735347117899016,
          0.000005693884343481153,
          0.000005651951290711878,
          0.000005609537977444057,
          0.000005566636972354518,
          0.000005523243631878254,
          0.0000054793563036090955,
          0.0000054349764948116745,
          0.000005390109005058361,
          0.000005344762022377573,
          0.0000052989471826696546,
          0.000005252679592511124,
          0.0000052059778158229115,
          0.000005158863825220528,
          0.000005111362919189276,
          0.000005063503606534426,
          0.000005015317459839563,
          0.000004966838939926314,
          0.0000049181051935415624,
          0.000004869155826702435,
          0.000004820032656304464,
          0.000004770779442742681,
          0.00000472144160640847,
          0.00000467206593100699,
          0.000004622700256690405,
          0.000004573393166022275,
          0.0000045241936657787875,
          0.000004475150867553132,
          0.000004426313670064549,
          0.000004377730445980551,
          0.000004329448735946277,
          0.000004281514952377259,
          0.000004233974095414282,
          0.000004186869483265547,
          0.000004140242498970677,
          0.000004094132355420367,
          0.0000040485758802515055,
          0.000004003607322019201,
          0.000003959258178820425,
          0.000003915557050315747,
          0.000003872529513866608,
          0.000003830198025276604,
          0.0000037885818444010115,
          0.0000037476969856683125,
          0.000003707556193344914,
          0.0000036681689411693174,
          0.0000036295414557873873,
          0.0000035916767632362226,
          0.0000035545747575528385,
          0.0000035182322904249984,
          0.0000034826432806565905,
          0.0000034477988420901943,
          0.0000034136874285130264,
          0.0000033802949939733976,
          0.0000033476051668492067,
          0.0000033155994359415083,
          0.000003284257346812262,
          0.000003253556706547651,
          0.0000032234737951053354,
          0.0000031939835813960826,
          0.0000031650599422575456,
          0.000003136675882498083,
          0.0000031088037542239335,
          0.000003081415473710268,
          0.000003054482734136944,
          0.0000030279772125819633,
          0.0000030018707697485113,
          0.000002976135640994808,
          0.0000029507446173390744,
          0.0000029256712152231496,
          0.000002900889833937677,
          0.0000028763758997375624,
          0.0000028521059958081686,
          0.000002828057977379451,
          0.000002804211071424936,
          0.0000027805459605258467,
          0.0000027570448506245236,
          0.0000027336915225364384,
          0.000002710471367233721,
          0.0000026873714050556884,
          0.000002664380289140632,
          0.0000026414882935082403,
          0.0000026186872863518853,
          0.0000025959706892231653,
          0.000002573333422907637,
          0.0000025507718408978546,
          0.0000025282836514689226,
          0.0000025058678294498233,
          0.0000024835245188615018,
          0.0000024612549276588575,
          0.0000024390612158675406,
          0.0000024169463784480135,
          0.000002394914124247916,
          0.000002372968752418906,
          0.0000023511150276765585,
          0.0000023293580557707103,
          0.0000023077031605095106,
          0.0000022861557636436184,
          0.0000022647212688675974,
          0.0000022434049511346484,
          0.000002222211852408142,
          0.0000022011466848911387,
          0.0000021802137426822266,
          0.0000021594168227052463,
          0.000002138759155651956,
          0.0000021182433475611057,
          0.000002097871332537423,
          0.0000020776443369888882,
          0.0000020575628556335,
          0.000002037626639397151,
          0.0000020178346951951443,
          0.000001998185297460688,
          0.0000019786760111577575,
          0.0000019593037258921615,
          0.0000019400647006164415,
          0.0000019209546183112544,
          0.0000019019686499198967,
          0.0000018831015267144454,
          0.0000018643476201824804,
          0.0000018457010284433399,
          0.000001827155668133419,
          0.000001808705370641211,
          0.0000017903439815257324,
          0.0000017720654619170488,
          0.000001753863990674293,
          0.0000017357340660668314,
          0.000001717670605746194,
          0.0000016996690437913827,
          0.0000016817254236377484,
          0.0000016638364857392878,
          0.000001645999748865769,
          0.0000016282135839994097,
          0.000001610477279869604,
          0.0000015927910992485273,
          0.000001575156325224157,
          0.0000015575752967694452,
          0.0000015400514330361554,
          0.0000015225892459185654,
          0.0000015051943405541133,
          0.0000014878734035540954,
          0.0000014706341788872927,
          0.0000014534854314700587,
          0.0000014364368986483653,
          0.000001419499229887696,
          0.0000014026839151155068,
          0.0000013860032022856423,
          0.0000013694700048542753,
          0.0000013530977999707817,
          0.000001336900518293238,
          0.000001320892426436014,
          0.000001305088003144849,
          0.000001289501810371741,
          0.0000012741483604874945,
          0.0000012590419809221707,
          0.0000012441966775632913,
          0.0000012296259982669817,
          0.0000012153428978485332,
          0.0000012013596059154153,
          0.0000011876874988878735,
          0.0000011743369775195631,
          0.0000011613173511837807,
          0.0000011486367301300322,
          0.000001136301926841334,
          0.0000011243183675360296,
          0.0000011126900147591786,
          0.0000011014193018995776,
          0.0000010905070803497459,
          0.0000010799525798995863,
          0.0000010697533828209155,
          0.00000105990541196151,
          0.0000010504029330251457,
          0.0000010412385710700716,
          0.0000010324033411140191,
          0.0000010238866925910402,
          0.0000010156765672659072,
          0.0000010077594700767895,
          0.0000010001205522486395,
          9.927437058990851e-7,
          9.856116692473826e-7,
          9.787061414363581e-7,
          9.720079058883321e-7,
          9.654969610397506e-7,
          9.591526572365475e-7,
          9.529538385236849e-7,
          9.468789880282324e-7,
          9.409063756161178e-7,
          9.350142064982802e-7,
          9.291807694720986e-7,
          9.23384583508536e-7,
          9.176045414336222e-7,
          9.118200495041056e-7,
          9.060111617403801e-7,
          9.001587079541509e-7,
          8.942444144924188e-7,
          8.882510168121013e-7,
          8.821623630994597e-7,
          8.759635082540829e-7,
          8.696407976669275e-7,
          8.631819403343289e-7,
          8.565760709636054e-7,
          8.498138008390241e-7,
          8.428872573285755e-7,
          8.357901120203408e-7,
          8.285175975812987e-7,
          8.210665135300706e-7,
          8.134352212068572e-7,
          8.056236283086797e-7,
          7.97633163434168e-7,
          7.894667411500114e-7,
          7.811287181495946e-7,
          7.726248411235503e-7,
          7.639621870016506e-7,
          7.55149096255613e-7,
          7.461950999736537e-7,
          7.3711084142969e-7,
          7.279079928740895e-7,
          7.185991682689858e-7,
          7.091978326801273e-7,
          6.997182090200728e-7,
          6.901751828145608e-7,
          6.805842056365802e-7,
          6.709611978212185e-7,
          6.613224510402664e-7,
          6.516845312791904e-7,
          6.420641827215468e-7,
          6.324782330078548e-7,
          6.229435002980143e-7,
          6.134767025293998e-7,
          6.040943692270113e-7,
          5.948127561882441e-7,
          5.856477633331353e-7,
          5.766148559816863e-7,
          5.677289897931911e-7,
          5.590045395784439e-7,
          5.504552321742955e-7,
          5.420940835511168e-7,
          5.339333403070653e-7,
          5.259844256885419e-7,
          5.182578902633412e-7,
          5.107633673616066e-7,
          5.035095333891895e-7,
          4.965040731081985e-7,
          4.897536499698225e-7,
          4.832638815746171e-7,
          4.770393203249729e-7,
          4.710834393230377e-7,
          4.653986235546991e-7,
          4.599861663860336e-7,
          4.548462713827391e-7,
          4.4997805944535643e-7,
          4.453795812333983e-7,
          4.410478348299693e-7,
          4.369787885750171e-7,
          4.3316740897025345e-7,
          4.2960769353207014e-7,
          4.2629270844089406e-7,
          4.232146308065046e-7,
          4.2036479533934704e-7,
          4.1773374518815657e-7,
          4.153112866747018e-7,
          4.1308654762757404e-7,
          4.110480389891666e-7,
          4.0918371934374916e-7,
          4.074810619902426e-7,
          4.059271241614129e-7,
          4.0450861797206806e-7,
          4.0321198266285014e-7,
          4.020234576935962e-7,
          4.0092915623136534e-7,
          3.9991513857318104e-7,
          3.9896748504251853e-7,
          3.9807236790165495e-7,
          3.972161218291995e-7,
          3.9638531252334604e-7,
          3.9556680300666126e-7,
          3.947478172271943e-7,
          3.939160005733296e-7,
          3.9305947694570435e-7,
          3.9216690205843006e-7,
          3.912275126734644e-7,
          3.902311715058197e-7,
          3.8916840757304275e-7,
          3.880304517996305e-7,
          3.868092677252686e-7,
          3.8549757720465634e-7,
          3.840888810257335e-7,
          3.82577474411945e-7,
          3.809584574124228e-7,
          3.7922774022118227e-7,
          3.7738204350237943e-7,
          3.754188938329558e-7,
          3.7333661440640745e-7,
          3.7113431117164994e-7,
          3.688118546089006e-7,
          3.663698573698817e-7,
          3.638096480324886e-7,
          3.611332412401257e-7,
          3.5834330451328633e-7,
          3.5544312203550143e-7,
          3.5243655572763396e-7,
          3.493280039335773e-7,
          3.461223580469288e-7,
          3.4282495741210464e-7,
          3.39441542834876e-7,
          3.359782090364485e-7,
          3.3244135638220554e-7,
          3.288376422111438e-7,
          3.251739320850842e-7,
          3.2145725126796253e-7,
          3.176947367352045e-7,
          3.1389359000133335e-7,
          3.100610310408028e-7,
          3.0620425356272057e-7,
          3.023303818846527e-7,
          2.9844642963433656e-7,
          2.9455926049089093e-7,
          2.9067555115912696e-7,
          2.868017567519921e-7,
          2.8294407873699166e-7,
          2.791084355828839e-7,
          2.7530043622296134e-7,
          2.7152535643102165e-7,
          2.677881181857302e-7,
          2.640932720785379e-7,
          2.604449827998178e-7,
          2.5684701771742617e-7,
          2.533027385415845e-7,
          2.4981509604998526e-7,
          2.4638662782732404e-7,
          2.4301945895425764e-7,
          2.3971530556213145e-7,
          2.3647548115182642e-7,
          2.3330090555787528e-7,
          2.3019211642265409e-7,
          2.2714928303013877e-7,
          2.241722223344728e-7,
          2.212604170055839e-7,
          2.1841303530237788e-7,
          2.1562895257373977e-7,
          2.1290677417878215e-7,
          2.102448596105653e-7,
          2.076413476019605e-7,
          2.0509418198849567e-7,
          2.0260113810093808e-7,
          2.0015984946011975e-7,
          1.9776783454804065e-7,
          1.9542252343268304e-7,
          1.9312128402915024e-7,
          1.9086144778671585e-7,
          1.8864033460009946e-7,
          1.8645527675364222e-7,
          1.8430364171905921e-7,
          1.8218285364089184e-7,
          1.8009041335863064e-7,
          1.780239168305766e-7,
          1.7598107184166764e-7,
          1.7395971289564937e-7,
          1.7195781421083044e-7,
          1.6997350075815256e-7,
          1.6800505730016415e-7,
          1.6605093540954439e-7,
          1.641097584658927e-7,
          1.6218032464932458e-7,
          1.602616079688649e-7,
          1.583527573824264e-7,
          1.5645309408317506e-7,
          1.5456210704407043e-7,
          1.5267944692819002e-7,
          1.508049184869061e-7,
          1.4893847158093902e-7,
          1.4708019097062982e-7,
          1.4523028503132467e-7,
          1.4338907355746032e-7,
          1.415569748246949e-7,
          1.3973449208319376e-7,
          1.379221996569276e-7,
          1.3612072882356e-7,
          1.3433075364721596e-7,
          1.325529769321801e-7,
          1.3078811645943712e-7,
          1.2903689166004274e-7,
          1.273000108697043e-7,
          1.2557815929780703e-7,
          1.2387198783160397e-7,
          1.221821027825553e-7,
          1.205090566670812e-7,
          1.1885334009844093e-7,
          1.172153748503368e-7,
          1.1559550813633787e-7,
          1.1399400813258194e-7,
          1.1241106075466388e-7,
          1.1084676768335884e-7,
          1.0930114561810528e-7,
          1.0777412672216104e-7,
          1.0626556020925933e-7,
          1.0477521500860299e-7,
          1.0330278343328929e-7,
          1.0184788576691843e-7,
          1.0041007567429191e-7,
          9.898884633486907e-8,
          9.758363719206619e-8,
          9.619384120760058e-8,
          9.481881250791951e-8,
          9.345787430927234e-8,
          9.21103270091741e-8,
          9.077545633477824e-8,
          8.945254144294563e-8,
          8.814086287245355e-8,
          8.683971025569702e-8,
          8.55483897052516e-8,
          8.426623079962068e-8,
          8.299259310221096e-8,
          8.172687215788649e-8,
          8.046850492214292e-8,
          7.921697458884878e-8,
          7.797181479340973e-8,
          7.673261317896006e-8,
          7.549901432357874e-8,
          7.427072203641423e-8,
          7.304750103982776e-8,
          7.182917806307906e-8,
          7.06156423805887e-8,
          6.940684583429136e-8,
          6.820280238498566e-8,
          6.700358724182868e-8,
          6.580933562216894e-8,
          6.462024119577715e-8,
          6.343655426819863e-8,
          6.225857975747341e-8,
          6.108667501688863e-8,
          5.992124755381379e-8,
          5.876275269112564e-8,
          5.7611691213338626e-8,
          5.6468607034459555e-8,
          5.533408491889065e-8,
          5.4208748280558685e-8,
          5.3093257078990875e-8,
          5.19883058244266e-8,
          5.089462169740186e-8,
          4.9812962781702605e-8,
          4.874411640329188e-8,
          4.768889756190449e-8,
          4.664814743658032e-8,
          4.56227319415923e-8,
          4.4613540305092384e-8,
          4.362148363944247e-8,
          4.2647493469659467e-8,
          4.169252018474637e-8,
          4.075753137591173e-8,
          3.9843510025821533e-8,
          3.8951452514061266e-8,
          3.808236640588831e-8,
          3.723726799408705e-8,
          3.641717956723963e-8,
          3.5623126381924523e-8,
          3.4856133321176183e-8,
          3.411722122687964e-8,
          3.340740289954487e-8,
          3.2727678764993224e-8,
          3.207903221378339e-8,
          3.146242462559887e-8,
          3.087879009719491e-8,
          3.0329029898757344e-8,
          2.9814006689549e-8,
          2.9334538529413392e-8,
          2.8891392727982694e-8,
          2.8485279578206752e-8,
          2.8116846025021218e-8,
          2.7786669323534772e-8,
          2.7495250743995323e-8,
          2.7243009382954277e-8,
          2.7030276141460236e-8,
          2.6857287931771486e-8,
          2.6724182173974976e-8,
          2.663099164305293e-8,
          2.6577639725367655e-8,
          2.6563936141271482e-8,
          2.658957318763295e-8,
          2.665412255054873e-8,
          2.6757032734437062e-8,
          2.6897627149141267e-8,
          2.707510289167087e-8,
          2.7288530253838373e-8,
          2.75368529813742e-8,
          2.781888930418557e-8,
          2.8133333751330028e-8,
          2.8478759758059398e-8,
          2.8853623066014582e-8,
          2.9256265911369235e-8,
          2.968492198947869e-8,
          3.0137722178439586e-8,
          3.0612700997942846e-8,
          3.11078037739523e-8,
          3.162089447408675e-8,
          3.2149764173169504e-8,
          3.26921401032561e-8,
          3.3245695237581536e-8,
          3.380805835331765e-8,
          3.437682451381552e-8,
          3.494956590714754e-8,
          3.5523842974291995e-8,
          3.609721575723351e-8,
          3.666725539461519e-8,
          3.7231555690393705e-8,
          3.778774467925005e-8,
          3.8333496111314624e-8,
          3.886654077810607e-8,
          3.938467760148794e-8,
          3.988578440793966e-8,
          4.036782831154033e-8,
          4.082887563080025e-8,
          4.126710126686457e-8,
          4.1680797473665436e-8,
          4.206838195431999e-8,
          4.2428405222469214e-8,
          4.275955717230861e-8,
          4.306067280676329e-8,
          4.333073707958243e-8,
          4.3568888814028185e-8,
          4.377442366826566e-8,
          4.394679612546248e-8,
          4.408562049490831e-8,
          4.419067091908226e-8,
          4.4261880390437234e-8,
          4.429933879063685e-8,
          4.430328997395738e-8,
          4.42741279254433e-8,
          4.4212392033059456e-8,
          4.4118761521392136e-8,
          4.3994049102293266e-8,
          4.383919390511921e-8,
          4.3655253755768536e-8,
          4.3443396879467785e-8,
          4.32048931070907e-8,
          4.294110466863758e-8,
          4.2653476660279736e-8,
          4.234352727302674e-8,
          4.201283787157412e-8,
          4.166304301120688e-8,
          4.12958204787804e-8,
          4.0912881440796444e-8,
          4.051596077747446e-8,
          4.010680767656751e-8,
          3.9687176554552073e-8,
          3.9258818365854695e-8,
          3.882347235307145e-8,
          3.838285828282756e-8,
          3.793866920316824e-8,
          3.7492564749308086e-8,
          3.7046165015378e-8,
          3.6601045000646295e-8,
          3.6158729629725284e-8,
          3.572068933767695e-8,
          3.5288336202839575e-8,
          3.486302060277798e-8,
          3.4446028362129156e-8,
          3.403857835539756e-8,
          3.3641820523048437e-8,
          3.3256834255628453e-8,
          3.2884627098165444e-8,
          3.252613372580291e-8,
          3.218221514150684e-8,
          3.185365804773716e-8,
          3.154117434615901e-8,
          3.1245400722715306e-8,
          3.096689827961347e-8,
          3.0706152180885195e-8,
          3.0463571284039846e-8,
          3.0239487736814204e-8,
          3.003415652496814e-8,
          2.9847754964338326e-8,
          2.9680382137767574e-8,
          2.953205828491587e-8,
          2.9402724160162634e-8,
          2.9292240380667154e-8,
          2.9200386793015503e-8,
          2.912686189260173e-8,
          2.907128233484351e-8,
          2.90331825814041e-8,
          2.9012014727688086e-8,
          2.90071485599271e-8,
          2.9017871891116946e-8,
          2.904339122488139e-8,
          2.908283279501069e-8,
          2.9135244025969253e-8,
          2.919959545612256e-8,
          2.9274783160856714e-8,
          2.9359631707229475e-8,
          2.9452897665396316e-8,
          2.9553273694907823e-8,
          2.9659393216200588e-8,
          2.9769835669337652e-8,
          2.988313235344068e-8,
          2.999777283144319e-8,
          3.011221187593559e-8,
          3.022487692311906e-8,
          3.0334175993389896e-8,
          3.043850602897699e-8,
          3.053626159149635e-8,
          3.0625843855389495e-8,
          3.070566982709304e-8,
          3.0774181714546806e-8,
          3.082985636737133e-8,
          3.087121470480189e-8,
          3.0896831046307726e-8,
          3.09053422587852e-8,
          3.089545663430859e-8,
          3.086596241364964e-8,
          3.0815735873119254e-8,
          3.0743748895703705e-8,
          3.064907595191281e-8,
          3.053090042116308e-8,
          3.0388520190803106e-8,
          3.0221352476962065e-8,
          3.0028937819162354e-8,
          2.981094320897644e-8,
          2.9567164321806093e-8,
          2.9297526830003098e-8,
          2.9002086784910024e-8,
          2.8681030064849173e-8,
          2.833467089551304e-8,
          2.7963449458482878e-8,
          2.7567928612611043e-8,
          2.7148789761640832e-8,
          2.6706827909592425e-8,
          2.624294595303989e-8,
          2.5758148266335083e-8,
          2.5253533642046013e-8,
          2.4730287654301406e-8,
          2.4189674517310373e-8,
          2.3633028515036613e-8,
          2.3061745080808548e-8,
          2.247727160753473e-8,
          2.1881098070169292e-8,
          2.1274747542132674e-8,
          2.0659766686582635e-8,
          2.0037716301760073e-8,
          1.9410161997154524e-8,
          1.8778665074011643e-8,
          1.8144773679766398e-8,
          1.7510014301435018e-8,
          1.6875883657880717e-8,
          1.6243841045274012e-8,
          1.5615301184079226e-8,
          1.4991627609584853e-8,
          1.4374126641464973e-8,
          1.3764041961170935e-8,
          1.3162549819205508e-8,
          1.257075488760679e-8,
          1.1989686766335527e-8,
          1.1420297145798884e-8,
          1.0863457621521262e-8,
          1.031995815105108e-8,
          9.790506137632856e-9,
          9.27572612001405e-9,
          8.77616004305845e-9,
          8.292268079615722e-9,
          7.824429970390063e-9,
          7.372946845379218e-9,
          6.938043487822717e-9,
          6.519870999516264e-9,
          6.118509824811745e-9,
          5.733973089619763e-9,
          5.366210211250346e-9,
          5.0151107349403286e-9,
          4.680508353402085e-9,
          4.36218506665469e-9,
          4.059875440722555e-9,
          3.773270925482881e-9,
          3.5020241939582e-9,
          3.245753467648478e-9,
          3.004046795032138e-9,
          2.7764662530929835e-9,
          2.5625520446077037e-9,
          2.3618264669102427e-9,
          2.173797730896725e-9,
          1.997963612107212e-9,
          1.8338149187764242e-9,
          1.6808387647578978e-9,
          1.5385216381554725e-9,
          1.4063522593179523e-9,
          1.283824224541541e-9,
          1.1704384343552993e-9,
          1.0657053076250367e-9,
          9.691467848777172e-10,
          8.802981262171104e-10,
          7.987095109600574e-10,
          7.239474476649754e-10,
          6.555960045511611e-10,
          5.932578714153808e-10,
          5.365552650456308e-10,
          4.851306908148954e-10,
          4.3864757361524794e-10,
          3.9679077157506717e-10,
          3.5926698609504294e-10,
          3.258050816551561e-10,
          2.9615632859402e-10,
          2.7009458165490766e-10,
          2.474164065425932e-10,
          2.279411660515348e-10,
          2.1151107652256564e-10,
          1.979912444722946e-10,
          1.8726969222903e-10,
          1.7925738031255826e-10,
          1.7388823312268008e-10,
          1.711191732645914e-10,
          1.7093016854773046e-10,
          1.7332429435915098e-10,
          1.7832781274280023e-10,
          1.8599026812236606e-10,
          1.9638459819771106e-10,
          2.0960725713356043e-10,
          2.2577834675475142e-10,
          2.450417500755711e-10,
          2.675652601331503e-10,
          2.935406957783259e-10,
          3.2318399481412593e-10,
          3.5673527367545594e-10,
          3.9445884172721837e-10,
          4.3664315723641984e-10,
          4.836007111618688e-10,
          5.356678241180111e-10,
          5.932043412237323e-10,
          6.565932090581396e-10,
          7.262399186293304e-10,
          8.025717981363757e-10,
          8.860371393824522e-10,
          9.771041419950475e-10,
          1.0762596601399405e-9,
          1.184007737191945e-9,
          1.3008679148577837e-9,
          1.4273733045426226e-9,
          1.564068410318975e-9,
          1.7115066946964095e-9,
          1.8702478805019844e-9,
          2.040854984564049e-9,
          2.223891081532647e-9,
          2.4199157990611227e-9,
          2.6294815486964167e-9,
          2.8531295001584145e-9,
          3.0913853102101473e-9,
          3.344754620991074e-9,
          3.6137183464821023e-9,
          3.898727769643088e-9,
          4.200199476671099e-9,
          4.5185101587278465e-9,
          4.853991315315964e-9,
          5.206923897201201e-9,
          5.5775329303197995e-9,
          5.965982165417853e-9,
          6.3723688011915065e-9,
          6.7967183313580505e-9,
          7.2389795683519395e-9,
          7.699019898131228e-9,
          8.176620821853019e-9,
          8.671473840890262e-9,
          9.183176741752302e-9,
          9.711230336925472e-9,
          1.0255035716410037e-8,
          1.081389206279357e-8,
          1.1386995080046888e-8,
          1.1973436082838413e-8,
          1.2572201789069809e-8,
          1.3182174853522736e-8,
          1.3802135175023755e-8,
          1.4430762003406635e-8,
          1.506663686582574e-8,
          1.5708247324721436e-8,
          1.635399157200443e-8,
          1.7002183855911905e-8,
          1.7651060728572256e-8,
          1.8298788093676804e-8,
          1.8943469024931528e-8,
          1.9583152317218487e-8,
          2.0215841723774036e-8,
          2.083950582428909e-8,
          2.145208846076894e-8,
          2.2051519670382582e-8,
          2.2635727037470882e-8,
          2.3202647380500252e-8,
          2.3750238684128144e-8,
          2.4276492181780278e-8,
          2.477944449031757e-8,
          2.5257189695556166e-8,
          2.570789128565915e-8,
          2.6129793828788245e-8,
          2.652123429191477e-8,
          2.6880652899366748e-8,
          2.7206603432515784e-8,
          2.749776287598491e-8,
          2.775294032084244e-8,
          2.7971085041391962e-8,
          2.815129366931006e-8,
          2.829281639694885e-8,
          2.8395062150507664e-8,
          2.845760268339369e-8,
          2.8480175550314302e-8,
          2.8462685933352987e-8,
          2.8405207302344806e-8,
          2.830798090315001e-8,
          2.8171414078786397e-8,
          2.799607743968108e-8,
          2.7782700910402826e-8,
          2.753216869099613e-8
         ]
        }
       ],
       "layout": {
        "barmode": "relative",
        "legend": {
         "tracegroupgap": 0
        },
        "showlegend": true,
        "template": {
         "data": {
          "bar": [
           {
            "error_x": {
             "color": "#2a3f5f"
            },
            "error_y": {
             "color": "#2a3f5f"
            },
            "marker": {
             "line": {
              "color": "white",
              "width": 0.5
             },
             "pattern": {
              "fillmode": "overlay",
              "size": 10,
              "solidity": 0.2
             }
            },
            "type": "bar"
           }
          ],
          "barpolar": [
           {
            "marker": {
             "line": {
              "color": "white",
              "width": 0.5
             },
             "pattern": {
              "fillmode": "overlay",
              "size": 10,
              "solidity": 0.2
             }
            },
            "type": "barpolar"
           }
          ],
          "carpet": [
           {
            "aaxis": {
             "endlinecolor": "#2a3f5f",
             "gridcolor": "#C8D4E3",
             "linecolor": "#C8D4E3",
             "minorgridcolor": "#C8D4E3",
             "startlinecolor": "#2a3f5f"
            },
            "baxis": {
             "endlinecolor": "#2a3f5f",
             "gridcolor": "#C8D4E3",
             "linecolor": "#C8D4E3",
             "minorgridcolor": "#C8D4E3",
             "startlinecolor": "#2a3f5f"
            },
            "type": "carpet"
           }
          ],
          "choropleth": [
           {
            "colorbar": {
             "outlinewidth": 0,
             "ticks": ""
            },
            "type": "choropleth"
           }
          ],
          "contour": [
           {
            "colorbar": {
             "outlinewidth": 0,
             "ticks": ""
            },
            "colorscale": [
             [
              0,
              "#0d0887"
             ],
             [
              0.1111111111111111,
              "#46039f"
             ],
             [
              0.2222222222222222,
              "#7201a8"
             ],
             [
              0.3333333333333333,
              "#9c179e"
             ],
             [
              0.4444444444444444,
              "#bd3786"
             ],
             [
              0.5555555555555556,
              "#d8576b"
             ],
             [
              0.6666666666666666,
              "#ed7953"
             ],
             [
              0.7777777777777778,
              "#fb9f3a"
             ],
             [
              0.8888888888888888,
              "#fdca26"
             ],
             [
              1,
              "#f0f921"
             ]
            ],
            "type": "contour"
           }
          ],
          "contourcarpet": [
           {
            "colorbar": {
             "outlinewidth": 0,
             "ticks": ""
            },
            "type": "contourcarpet"
           }
          ],
          "heatmap": [
           {
            "colorbar": {
             "outlinewidth": 0,
             "ticks": ""
            },
            "colorscale": [
             [
              0,
              "#0d0887"
             ],
             [
              0.1111111111111111,
              "#46039f"
             ],
             [
              0.2222222222222222,
              "#7201a8"
             ],
             [
              0.3333333333333333,
              "#9c179e"
             ],
             [
              0.4444444444444444,
              "#bd3786"
             ],
             [
              0.5555555555555556,
              "#d8576b"
             ],
             [
              0.6666666666666666,
              "#ed7953"
             ],
             [
              0.7777777777777778,
              "#fb9f3a"
             ],
             [
              0.8888888888888888,
              "#fdca26"
             ],
             [
              1,
              "#f0f921"
             ]
            ],
            "type": "heatmap"
           }
          ],
          "heatmapgl": [
           {
            "colorbar": {
             "outlinewidth": 0,
             "ticks": ""
            },
            "colorscale": [
             [
              0,
              "#0d0887"
             ],
             [
              0.1111111111111111,
              "#46039f"
             ],
             [
              0.2222222222222222,
              "#7201a8"
             ],
             [
              0.3333333333333333,
              "#9c179e"
             ],
             [
              0.4444444444444444,
              "#bd3786"
             ],
             [
              0.5555555555555556,
              "#d8576b"
             ],
             [
              0.6666666666666666,
              "#ed7953"
             ],
             [
              0.7777777777777778,
              "#fb9f3a"
             ],
             [
              0.8888888888888888,
              "#fdca26"
             ],
             [
              1,
              "#f0f921"
             ]
            ],
            "type": "heatmapgl"
           }
          ],
          "histogram": [
           {
            "marker": {
             "pattern": {
              "fillmode": "overlay",
              "size": 10,
              "solidity": 0.2
             }
            },
            "type": "histogram"
           }
          ],
          "histogram2d": [
           {
            "colorbar": {
             "outlinewidth": 0,
             "ticks": ""
            },
            "colorscale": [
             [
              0,
              "#0d0887"
             ],
             [
              0.1111111111111111,
              "#46039f"
             ],
             [
              0.2222222222222222,
              "#7201a8"
             ],
             [
              0.3333333333333333,
              "#9c179e"
             ],
             [
              0.4444444444444444,
              "#bd3786"
             ],
             [
              0.5555555555555556,
              "#d8576b"
             ],
             [
              0.6666666666666666,
              "#ed7953"
             ],
             [
              0.7777777777777778,
              "#fb9f3a"
             ],
             [
              0.8888888888888888,
              "#fdca26"
             ],
             [
              1,
              "#f0f921"
             ]
            ],
            "type": "histogram2d"
           }
          ],
          "histogram2dcontour": [
           {
            "colorbar": {
             "outlinewidth": 0,
             "ticks": ""
            },
            "colorscale": [
             [
              0,
              "#0d0887"
             ],
             [
              0.1111111111111111,
              "#46039f"
             ],
             [
              0.2222222222222222,
              "#7201a8"
             ],
             [
              0.3333333333333333,
              "#9c179e"
             ],
             [
              0.4444444444444444,
              "#bd3786"
             ],
             [
              0.5555555555555556,
              "#d8576b"
             ],
             [
              0.6666666666666666,
              "#ed7953"
             ],
             [
              0.7777777777777778,
              "#fb9f3a"
             ],
             [
              0.8888888888888888,
              "#fdca26"
             ],
             [
              1,
              "#f0f921"
             ]
            ],
            "type": "histogram2dcontour"
           }
          ],
          "mesh3d": [
           {
            "colorbar": {
             "outlinewidth": 0,
             "ticks": ""
            },
            "type": "mesh3d"
           }
          ],
          "parcoords": [
           {
            "line": {
             "colorbar": {
              "outlinewidth": 0,
              "ticks": ""
             }
            },
            "type": "parcoords"
           }
          ],
          "pie": [
           {
            "automargin": true,
            "type": "pie"
           }
          ],
          "scatter": [
           {
            "fillpattern": {
             "fillmode": "overlay",
             "size": 10,
             "solidity": 0.2
            },
            "type": "scatter"
           }
          ],
          "scatter3d": [
           {
            "line": {
             "colorbar": {
              "outlinewidth": 0,
              "ticks": ""
             }
            },
            "marker": {
             "colorbar": {
              "outlinewidth": 0,
              "ticks": ""
             }
            },
            "type": "scatter3d"
           }
          ],
          "scattercarpet": [
           {
            "marker": {
             "colorbar": {
              "outlinewidth": 0,
              "ticks": ""
             }
            },
            "type": "scattercarpet"
           }
          ],
          "scattergeo": [
           {
            "marker": {
             "colorbar": {
              "outlinewidth": 0,
              "ticks": ""
             }
            },
            "type": "scattergeo"
           }
          ],
          "scattergl": [
           {
            "marker": {
             "colorbar": {
              "outlinewidth": 0,
              "ticks": ""
             }
            },
            "type": "scattergl"
           }
          ],
          "scattermapbox": [
           {
            "marker": {
             "colorbar": {
              "outlinewidth": 0,
              "ticks": ""
             }
            },
            "type": "scattermapbox"
           }
          ],
          "scatterpolar": [
           {
            "marker": {
             "colorbar": {
              "outlinewidth": 0,
              "ticks": ""
             }
            },
            "type": "scatterpolar"
           }
          ],
          "scatterpolargl": [
           {
            "marker": {
             "colorbar": {
              "outlinewidth": 0,
              "ticks": ""
             }
            },
            "type": "scatterpolargl"
           }
          ],
          "scatterternary": [
           {
            "marker": {
             "colorbar": {
              "outlinewidth": 0,
              "ticks": ""
             }
            },
            "type": "scatterternary"
           }
          ],
          "surface": [
           {
            "colorbar": {
             "outlinewidth": 0,
             "ticks": ""
            },
            "colorscale": [
             [
              0,
              "#0d0887"
             ],
             [
              0.1111111111111111,
              "#46039f"
             ],
             [
              0.2222222222222222,
              "#7201a8"
             ],
             [
              0.3333333333333333,
              "#9c179e"
             ],
             [
              0.4444444444444444,
              "#bd3786"
             ],
             [
              0.5555555555555556,
              "#d8576b"
             ],
             [
              0.6666666666666666,
              "#ed7953"
             ],
             [
              0.7777777777777778,
              "#fb9f3a"
             ],
             [
              0.8888888888888888,
              "#fdca26"
             ],
             [
              1,
              "#f0f921"
             ]
            ],
            "type": "surface"
           }
          ],
          "table": [
           {
            "cells": {
             "fill": {
              "color": "#EBF0F8"
             },
             "line": {
              "color": "white"
             }
            },
            "header": {
             "fill": {
              "color": "#C8D4E3"
             },
             "line": {
              "color": "white"
             }
            },
            "type": "table"
           }
          ]
         },
         "layout": {
          "annotationdefaults": {
           "arrowcolor": "#2a3f5f",
           "arrowhead": 0,
           "arrowwidth": 1
          },
          "autotypenumbers": "strict",
          "coloraxis": {
           "colorbar": {
            "outlinewidth": 0,
            "ticks": ""
           }
          },
          "colorscale": {
           "diverging": [
            [
             0,
             "#8e0152"
            ],
            [
             0.1,
             "#c51b7d"
            ],
            [
             0.2,
             "#de77ae"
            ],
            [
             0.3,
             "#f1b6da"
            ],
            [
             0.4,
             "#fde0ef"
            ],
            [
             0.5,
             "#f7f7f7"
            ],
            [
             0.6,
             "#e6f5d0"
            ],
            [
             0.7,
             "#b8e186"
            ],
            [
             0.8,
             "#7fbc41"
            ],
            [
             0.9,
             "#4d9221"
            ],
            [
             1,
             "#276419"
            ]
           ],
           "sequential": [
            [
             0,
             "#0d0887"
            ],
            [
             0.1111111111111111,
             "#46039f"
            ],
            [
             0.2222222222222222,
             "#7201a8"
            ],
            [
             0.3333333333333333,
             "#9c179e"
            ],
            [
             0.4444444444444444,
             "#bd3786"
            ],
            [
             0.5555555555555556,
             "#d8576b"
            ],
            [
             0.6666666666666666,
             "#ed7953"
            ],
            [
             0.7777777777777778,
             "#fb9f3a"
            ],
            [
             0.8888888888888888,
             "#fdca26"
            ],
            [
             1,
             "#f0f921"
            ]
           ],
           "sequentialminus": [
            [
             0,
             "#0d0887"
            ],
            [
             0.1111111111111111,
             "#46039f"
            ],
            [
             0.2222222222222222,
             "#7201a8"
            ],
            [
             0.3333333333333333,
             "#9c179e"
            ],
            [
             0.4444444444444444,
             "#bd3786"
            ],
            [
             0.5555555555555556,
             "#d8576b"
            ],
            [
             0.6666666666666666,
             "#ed7953"
            ],
            [
             0.7777777777777778,
             "#fb9f3a"
            ],
            [
             0.8888888888888888,
             "#fdca26"
            ],
            [
             1,
             "#f0f921"
            ]
           ]
          },
          "colorway": [
           "#636efa",
           "#EF553B",
           "#00cc96",
           "#ab63fa",
           "#FFA15A",
           "#19d3f3",
           "#FF6692",
           "#B6E880",
           "#FF97FF",
           "#FECB52"
          ],
          "font": {
           "color": "#2a3f5f"
          },
          "geo": {
           "bgcolor": "white",
           "lakecolor": "white",
           "landcolor": "white",
           "showlakes": true,
           "showland": true,
           "subunitcolor": "#C8D4E3"
          },
          "hoverlabel": {
           "align": "left"
          },
          "hovermode": "closest",
          "mapbox": {
           "style": "light"
          },
          "paper_bgcolor": "white",
          "plot_bgcolor": "white",
          "polar": {
           "angularaxis": {
            "gridcolor": "#EBF0F8",
            "linecolor": "#EBF0F8",
            "ticks": ""
           },
           "bgcolor": "white",
           "radialaxis": {
            "gridcolor": "#EBF0F8",
            "linecolor": "#EBF0F8",
            "ticks": ""
           }
          },
          "scene": {
           "xaxis": {
            "backgroundcolor": "white",
            "gridcolor": "#DFE8F3",
            "gridwidth": 2,
            "linecolor": "#EBF0F8",
            "showbackground": true,
            "ticks": "",
            "zerolinecolor": "#EBF0F8"
           },
           "yaxis": {
            "backgroundcolor": "white",
            "gridcolor": "#DFE8F3",
            "gridwidth": 2,
            "linecolor": "#EBF0F8",
            "showbackground": true,
            "ticks": "",
            "zerolinecolor": "#EBF0F8"
           },
           "zaxis": {
            "backgroundcolor": "white",
            "gridcolor": "#DFE8F3",
            "gridwidth": 2,
            "linecolor": "#EBF0F8",
            "showbackground": true,
            "ticks": "",
            "zerolinecolor": "#EBF0F8"
           }
          },
          "shapedefaults": {
           "line": {
            "color": "#2a3f5f"
           }
          },
          "ternary": {
           "aaxis": {
            "gridcolor": "#DFE8F3",
            "linecolor": "#A2B1C6",
            "ticks": ""
           },
           "baxis": {
            "gridcolor": "#DFE8F3",
            "linecolor": "#A2B1C6",
            "ticks": ""
           },
           "bgcolor": "white",
           "caxis": {
            "gridcolor": "#DFE8F3",
            "linecolor": "#A2B1C6",
            "ticks": ""
           }
          },
          "title": {
           "x": 0.05
          },
          "xaxis": {
           "automargin": true,
           "gridcolor": "#EBF0F8",
           "linecolor": "#EBF0F8",
           "ticks": "",
           "title": {
            "standoff": 15
           },
           "zerolinecolor": "#EBF0F8",
           "zerolinewidth": 2
          },
          "yaxis": {
           "automargin": true,
           "gridcolor": "#EBF0F8",
           "linecolor": "#EBF0F8",
           "ticks": "",
           "title": {
            "standoff": 15
           },
           "zerolinecolor": "#EBF0F8",
           "zerolinewidth": 2
          }
         }
        },
        "title": {
         "text": "SalePrice Distribution with Density"
        },
        "xaxis": {
         "anchor": "y",
         "domain": [
          0,
          1
         ],
         "title": {
          "text": "Sale Price"
         }
        },
        "yaxis": {
         "anchor": "x",
         "domain": [
          0,
          1
         ],
         "title": {
          "text": "Density"
         }
        }
       }
      }
     },
     "metadata": {},
     "output_type": "display_data"
    }
   ],
   "source": [
    "# Calculate KDE for SalePrice\n",
    "kde = gaussian_kde(train['SalePrice'])\n",
    "x_vals = np.linspace(train['SalePrice'].min(), train['SalePrice'].max(), 1000)\n",
    "kde_vals = kde(x_vals)\n",
    "\n",
    "# Create the histogram with proportion normalization\n",
    "fig = px.histogram(train, \n",
    "                   x='SalePrice', \n",
    "                   nbins=100, \n",
    "                   title='SalePrice Distribution with Density',\n",
    "                   labels={'SalePrice': 'Sale Price'},\n",
    "                   template='plotly_white',\n",
    "                   histnorm='probability density')  # Normalize to proportion\n",
    "\n",
    "fig.update_traces(marker_color='blue', opacity=0.75)\n",
    "\n",
    "# Add the density curve\n",
    "fig.add_trace(\n",
    "    go.Scatter(\n",
    "        x=x_vals,\n",
    "        y=kde_vals,\n",
    "        mode='lines',\n",
    "        line=dict(color='black', width=2),\n",
    "        name='Density Estimation'\n",
    "    )\n",
    ")\n",
    "\n",
    "fig.update_layout(\n",
    "    yaxis_title='Density',\n",
    "    xaxis_title='Sale Price',\n",
    "    showlegend=True\n",
    ")\n",
    "\n",
    "fig.show()"
   ]
  },
  {
   "cell_type": "code",
   "execution_count": 8,
   "metadata": {},
   "outputs": [
    {
     "name": "stdout",
     "output_type": "stream",
     "text": [
      "Skewness: 1.880940746034036\n",
      "Kurtosis: 6.509812011089439\n"
     ]
    }
   ],
   "source": [
    "# Calculate skewness and kurtosis of the SalePrice\n",
    "saleprice_skewness = skew(train['SalePrice'])\n",
    "saleprice_kurtosis = kurtosis(train['SalePrice'])\n",
    "\n",
    "print(f\"Skewness: {saleprice_skewness}\")\n",
    "print(f\"Kurtosis: {saleprice_kurtosis}\")"
   ]
  },
  {
   "cell_type": "markdown",
   "metadata": {},
   "source": [
    "### **Definitions of Skewness and Kurtosis**\n",
    "\n",
    "#### **1. Skewness**\n",
    "Skewness quantifies the asymmetry of a distribution around its mean. It is mathematically defined as:\n",
    "\n",
    "$$\n",
    "Skewness = \\frac{\\frac{1}{n}sum_{i=1}^n (x_i -\\mu)^3}{\\sigma^3}\n",
    "$$\n",
    "\n",
    "Where:\n",
    "- $n$: Number of data points\n",
    "- $x_i$: Individual data point\n",
    "- $\\mu$: Mean of the dataset\n",
    "- $\\sigma$: Standard deviation of the dataset\n",
    "\n",
    "**Interpretation**:\n",
    "  - **Skewness > 0**: The distribution is positively skewed (longer tail on the right).\n",
    "  - **Skewness < 0**: The distribution is negatively skewed (longer tail on the left).\n",
    "  - **Skewness = 0**: The distribution is symmetric.\n",
    "\n",
    "**Significance in Machine Learning**:\n",
    "  - A highly skewed target variable may require transformations (e.g., log transformation) to improve model performance.\n",
    "\n",
    "---\n",
    "\n",
    "#### **2. Kurtosis**\n",
    "Kurtosis measures the \"tailedness\" or the sharpness of the peak of a distribution. It is mathematically defined as:\n",
    "\n",
    "$$\n",
    "Kurtosis = \\frac{\\frac{1}{n}\\sum_{i=1}^n (x_i - \\mu)^4}{\\sigma^4} - 3\n",
    "$$\n",
    "\n",
    "Where:\n",
    "- $n$: Number of data points\n",
    "- $x_i$: Individual data point\n",
    "- $\\mu$: Mean of the dataset\n",
    "- $\\sigma$: Standard deviation of the dataset\n",
    "- $-3$ ensures comparison with the normal distribution (which has kurtosis = 3).\n",
    "\n",
    "**Types**:\n",
    "  - **Leptokurtic (Kurtosis > 0)**: Distribution has heavy tails and a sharp peak (more outliers).\n",
    "  - **Mesokurtic (Kurtosis = 0)**: Distribution is similar to the normal distribution.\n",
    "  - **Platykurtic (Kurtosis < 0)**: Distribution has light tails and a flatter peak.\n",
    "\n",
    "**Significance in Machine Learning**:\n",
    "  - High kurtosis indicates extreme values (outliers), which may require special handling to avoid skewing model training.\n",
    "\n",
    "---\n",
    "\n",
    "#### **Summary**\n",
    "\n",
    "- **Skewness** reveals asymmetry, while **kurtosis** highlights the concentration of extreme values.\n",
    "- Both metrics provide insights into the shape of the data distribution, enabling better preprocessing and model selection.\n",
    "\n",
    "\n",
    "---\n",
    "#### **Application to the Dataset:**\n",
    "\n",
    "**Skewness:**\n",
    "\n",
    "- Skewness = $ 1.88$: The distribution of SalePrice is highly right-skewed, indicating a long tail with higher-priced houses. \n",
    "\n",
    "- A right-skewed distribution can lead to poor model performance because the model struggles to predict extreme values. \n",
    "\n",
    "- We will maybe need to apply a transformation to make the distribution more symmetric.\n",
    "\n",
    "**Kurtosis:**\n",
    "\n",
    "- Kurtosis = $6.51$: The distribution is leptokurtic, meaning it has a sharper peak and heavier tails compared to a normal distribution. \n",
    "\n",
    "- This suggests more extreme values (outliers) in the dataset.\n",
    "\n",
    "- Outliers can:\n",
    "    - skew the training process of sensitive models (e.g., linear regression)\n",
    "\n",
    "    - Overemphasize extreme values in tree-based models (e.g., random forests, XGBoost).\n",
    "\n",
    "---\n",
    "\n",
    "#### **Handling Outliers**\n",
    "\n",
    "To handle outliers, we can:\n",
    "\n",
    "- Removing extreme outliers if they are errors or irrelevant.\n",
    "\n",
    "- Applying robust models that are less sensitive to outliers (e.g., gradient boosting, robust regression)."
   ]
  },
  {
   "cell_type": "code",
   "execution_count": 9,
   "metadata": {},
   "outputs": [
    {
     "data": {
      "application/vnd.plotly.v1+json": {
       "config": {
        "plotlyServerURL": "https://plot.ly"
       },
       "data": [
        {
         "alignmentgroup": "True",
         "hovertemplate": "Sale Price=%{y}<extra></extra>",
         "legendgroup": "",
         "marker": {
          "color": "blue"
         },
         "name": "",
         "notched": false,
         "offsetgroup": "",
         "orientation": "v",
         "showlegend": false,
         "type": "box",
         "x0": " ",
         "xaxis": "x",
         "y": [
          208500,
          181500,
          223500,
          140000,
          250000,
          143000,
          307000,
          200000,
          129900,
          118000,
          129500,
          345000,
          144000,
          279500,
          157000,
          132000,
          149000,
          90000,
          159000,
          139000,
          325300,
          139400,
          230000,
          129900,
          154000,
          256300,
          134800,
          306000,
          207500,
          68500,
          40000,
          149350,
          179900,
          165500,
          277500,
          309000,
          145000,
          153000,
          109000,
          82000,
          160000,
          170000,
          144000,
          130250,
          141000,
          319900,
          239686,
          249700,
          113000,
          127000,
          177000,
          114500,
          110000,
          385000,
          130000,
          180500,
          172500,
          196500,
          438780,
          124900,
          158000,
          101000,
          202500,
          140000,
          219500,
          317000,
          180000,
          226000,
          80000,
          225000,
          244000,
          129500,
          185000,
          144900,
          107400,
          91000,
          135750,
          127000,
          136500,
          110000,
          193500,
          153500,
          245000,
          126500,
          168500,
          260000,
          174000,
          164500,
          85000,
          123600,
          109900,
          98600,
          163500,
          133900,
          204750,
          185000,
          214000,
          94750,
          83000,
          128950,
          205000,
          178000,
          118964,
          198900,
          169500,
          250000,
          100000,
          115000,
          115000,
          190000,
          136900,
          180000,
          383970,
          217000,
          259500,
          176000,
          139000,
          155000,
          320000,
          163990,
          180000,
          100000,
          136000,
          153900,
          181000,
          84500,
          128000,
          87000,
          155000,
          150000,
          226000,
          244000,
          150750,
          220000,
          180000,
          174000,
          143000,
          171000,
          230000,
          231500,
          115000,
          260000,
          166000,
          204000,
          125000,
          130000,
          105000,
          222500,
          141000,
          115000,
          122000,
          372402,
          190000,
          235000,
          125000,
          79000,
          109500,
          269500,
          254900,
          320000,
          162500,
          412500,
          220000,
          103200,
          152000,
          127500,
          190000,
          325624,
          183500,
          228000,
          128500,
          215000,
          239000,
          163000,
          184000,
          243000,
          211000,
          172500,
          501837,
          100000,
          177000,
          200100,
          120000,
          200000,
          127000,
          475000,
          173000,
          135000,
          153337,
          286000,
          315000,
          184000,
          192000,
          130000,
          127000,
          148500,
          311872,
          235000,
          104000,
          274900,
          140000,
          171500,
          112000,
          149000,
          110000,
          180500,
          143900,
          141000,
          277000,
          145000,
          98000,
          186000,
          252678,
          156000,
          161750,
          134450,
          210000,
          107000,
          311500,
          167240,
          204900,
          200000,
          179900,
          97000,
          386250,
          112000,
          290000,
          106000,
          125000,
          192500,
          148000,
          403000,
          94500,
          128200,
          216500,
          89500,
          185500,
          194500,
          318000,
          113000,
          262500,
          110500,
          79000,
          120000,
          205000,
          241500,
          137000,
          140000,
          180000,
          277000,
          76500,
          235000,
          173000,
          158000,
          145000,
          230000,
          207500,
          220000,
          231500,
          97000,
          176000,
          276000,
          151000,
          130000,
          73000,
          175500,
          185000,
          179500,
          120500,
          148000,
          266000,
          241500,
          290000,
          139000,
          124500,
          205000,
          201000,
          141000,
          415298,
          192000,
          228500,
          185000,
          207500,
          244600,
          179200,
          164700,
          159000,
          88000,
          122000,
          153575,
          233230,
          135900,
          131000,
          235000,
          167000,
          142500,
          152000,
          239000,
          175000,
          158500,
          157000,
          267000,
          205000,
          149900,
          295000,
          305900,
          225000,
          89500,
          82500,
          360000,
          165600,
          132000,
          119900,
          375000,
          178000,
          188500,
          260000,
          270000,
          260000,
          187500,
          342643,
          354000,
          301000,
          126175,
          242000,
          87000,
          324000,
          145250,
          214500,
          78000,
          119000,
          139000,
          284000,
          207000,
          192000,
          228950,
          377426,
          214000,
          202500,
          155000,
          202900,
          82000,
          87500,
          266000,
          85000,
          140200,
          151500,
          157500,
          154000,
          437154,
          318061,
          190000,
          95000,
          105900,
          140000,
          177500,
          173000,
          134000,
          130000,
          280000,
          156000,
          145000,
          198500,
          118000,
          190000,
          147000,
          159000,
          165000,
          132000,
          162000,
          172400,
          134432,
          125000,
          123000,
          219500,
          61000,
          148000,
          340000,
          394432,
          179000,
          127000,
          187750,
          213500,
          76000,
          240000,
          192000,
          81000,
          125000,
          191000,
          426000,
          119000,
          215000,
          106500,
          100000,
          109000,
          129000,
          123000,
          169500,
          67000,
          241000,
          245500,
          164990,
          108000,
          258000,
          168000,
          150000,
          115000,
          177000,
          280000,
          339750,
          60000,
          145000,
          222000,
          115000,
          228000,
          181134,
          149500,
          239000,
          126000,
          142000,
          206300,
          215000,
          113000,
          315000,
          139000,
          135000,
          275000,
          109008,
          195400,
          175000,
          85400,
          79900,
          122500,
          181000,
          81000,
          212000,
          116000,
          119000,
          90350,
          110000,
          555000,
          118000,
          162900,
          172500,
          210000,
          127500,
          190000,
          199900,
          119500,
          120000,
          110000,
          280000,
          204000,
          210000,
          188000,
          175500,
          98000,
          256000,
          161000,
          110000,
          263435,
          155000,
          62383,
          188700,
          124000,
          178740,
          167000,
          146500,
          250000,
          187000,
          212000,
          190000,
          148000,
          440000,
          251000,
          132500,
          208900,
          380000,
          297000,
          89471,
          326000,
          374000,
          155000,
          164000,
          132500,
          147000,
          156000,
          175000,
          160000,
          86000,
          115000,
          133000,
          172785,
          155000,
          91300,
          34900,
          430000,
          184000,
          130000,
          120000,
          113000,
          226700,
          140000,
          289000,
          147000,
          124500,
          215000,
          208300,
          161000,
          124500,
          164900,
          202665,
          129900,
          134000,
          96500,
          402861,
          158000,
          265000,
          211000,
          234000,
          106250,
          150000,
          159000,
          184750,
          315750,
          176000,
          132000,
          446261,
          86000,
          200624,
          175000,
          128000,
          107500,
          39300,
          178000,
          107500,
          188000,
          111250,
          158000,
          272000,
          315000,
          248000,
          213250,
          133000,
          179665,
          229000,
          210000,
          129500,
          125000,
          263000,
          140000,
          112500,
          255500,
          108000,
          284000,
          113000,
          141000,
          108000,
          175000,
          234000,
          121500,
          170000,
          108000,
          185000,
          268000,
          128000,
          325000,
          214000,
          316600,
          135960,
          142600,
          120000,
          224500,
          170000,
          139000,
          118500,
          145000,
          164500,
          146000,
          131500,
          181900,
          253293,
          118500,
          325000,
          133000,
          369900,
          130000,
          137000,
          143000,
          79500,
          185900,
          451950,
          138000,
          140000,
          110000,
          319000,
          114504,
          194201,
          217500,
          151000,
          275000,
          141000,
          220000,
          151000,
          221000,
          205000,
          152000,
          225000,
          359100,
          118500,
          313000,
          148000,
          261500,
          147000,
          75500,
          137500,
          183200,
          105500,
          314813,
          305000,
          67000,
          240000,
          135000,
          168500,
          165150,
          160000,
          139900,
          153000,
          135000,
          168500,
          124000,
          209500,
          82500,
          139400,
          144000,
          200000,
          60000,
          93000,
          85000,
          264561,
          274000,
          226000,
          345000,
          152000,
          370878,
          143250,
          98300,
          155000,
          155000,
          84500,
          205950,
          108000,
          191000,
          135000,
          350000,
          88000,
          145500,
          149000,
          97500,
          167000,
          197900,
          402000,
          110000,
          137500,
          423000,
          230500,
          129000,
          193500,
          168000,
          137500,
          173500,
          103600,
          165000,
          257500,
          140000,
          148500,
          87000,
          109500,
          372500,
          128500,
          143000,
          159434,
          173000,
          285000,
          221000,
          207500,
          227875,
          148800,
          392000,
          194700,
          141000,
          755000,
          335000,
          108480,
          141500,
          176000,
          89000,
          123500,
          138500,
          196000,
          312500,
          140000,
          361919,
          140000,
          213000,
          55000,
          302000,
          254000,
          179540,
          109900,
          52000,
          102776,
          189000,
          129000,
          130500,
          165000,
          159500,
          157000,
          341000,
          128500,
          275000,
          143000,
          124500,
          135000,
          320000,
          120500,
          222000,
          194500,
          110000,
          103000,
          236500,
          187500,
          222500,
          131400,
          108000,
          163000,
          93500,
          239900,
          179000,
          190000,
          132000,
          142000,
          179000,
          175000,
          180000,
          299800,
          236000,
          265979,
          260400,
          98000,
          96500,
          162000,
          217000,
          275500,
          156000,
          172500,
          212000,
          158900,
          179400,
          290000,
          127500,
          100000,
          215200,
          337000,
          270000,
          264132,
          196500,
          160000,
          216837,
          538000,
          134900,
          102000,
          107000,
          114500,
          395000,
          162000,
          221500,
          142500,
          144000,
          135000,
          176000,
          175900,
          187100,
          165500,
          128000,
          161500,
          139000,
          233000,
          107900,
          187500,
          160200,
          146800,
          269790,
          225000,
          194500,
          171000,
          143500,
          110000,
          485000,
          175000,
          200000,
          109900,
          189000,
          582933,
          118000,
          227680,
          135500,
          223500,
          159950,
          106000,
          181000,
          144500,
          55993,
          157900,
          116000,
          224900,
          137000,
          271000,
          155000,
          224000,
          183000,
          93000,
          225000,
          139500,
          232600,
          385000,
          109500,
          189000,
          185000,
          147400,
          166000,
          151000,
          237000,
          167000,
          139950,
          128000,
          153500,
          100000,
          144000,
          130500,
          140000,
          157500,
          174900,
          141000,
          153900,
          171000,
          213000,
          133500,
          240000,
          187000,
          131500,
          215000,
          164000,
          158000,
          170000,
          127000,
          147000,
          174000,
          152000,
          250000,
          189950,
          131500,
          152000,
          132500,
          250580,
          148500,
          248900,
          129000,
          169000,
          236000,
          109500,
          200500,
          116000,
          133000,
          66500,
          303477,
          132250,
          350000,
          148000,
          136500,
          157000,
          187500,
          178000,
          118500,
          100000,
          328900,
          145000,
          135500,
          268000,
          149500,
          122900,
          172500,
          154500,
          165000,
          118858,
          140000,
          106500,
          142953,
          611657,
          135000,
          110000,
          153000,
          180000,
          240000,
          125500,
          128000,
          255000,
          250000,
          131000,
          174000,
          154300,
          143500,
          88000,
          145000,
          173733,
          75000,
          35311,
          135000,
          238000,
          176500,
          201000,
          145900,
          169990,
          193000,
          207500,
          175000,
          285000,
          176000,
          236500,
          222000,
          201000,
          117500,
          320000,
          190000,
          242000,
          79900,
          184900,
          253000,
          239799,
          244400,
          150900,
          214000,
          150000,
          143000,
          137500,
          124900,
          143000,
          270000,
          192500,
          197500,
          129000,
          119900,
          133900,
          172000,
          127500,
          145000,
          124000,
          132000,
          185000,
          155000,
          116500,
          272000,
          155000,
          239000,
          214900,
          178900,
          160000,
          135000,
          37900,
          140000,
          135000,
          173000,
          99500,
          182000,
          167500,
          165000,
          85500,
          199900,
          110000,
          139000,
          178400,
          336000,
          159895,
          255900,
          126000,
          125000,
          117000,
          395192,
          195000,
          197000,
          348000,
          168000,
          187000,
          173900,
          337500,
          121600,
          136500,
          185000,
          91000,
          206000,
          82000,
          86000,
          232000,
          136905,
          181000,
          149900,
          163500,
          88000,
          240000,
          102000,
          135000,
          100000,
          165000,
          85000,
          119200,
          227000,
          203000,
          187500,
          160000,
          213490,
          176000,
          194000,
          87000,
          191000,
          287000,
          112500,
          167500,
          293077,
          105000,
          118000,
          160000,
          197000,
          310000,
          230000,
          119750,
          84000,
          315500,
          287000,
          97000,
          80000,
          155000,
          173000,
          196000,
          262280,
          278000,
          139600,
          556581,
          145000,
          115000,
          84900,
          176485,
          200141,
          165000,
          144500,
          255000,
          180000,
          185850,
          248000,
          335000,
          220000,
          213500,
          81000,
          90000,
          110500,
          154000,
          328000,
          178000,
          167900,
          151400,
          135000,
          135000,
          154000,
          91500,
          159500,
          194000,
          219500,
          170000,
          138800,
          155900,
          126000,
          145000,
          133000,
          192000,
          160000,
          187500,
          147000,
          83500,
          252000,
          137500,
          197000,
          92900,
          160000,
          136500,
          146000,
          129000,
          176432,
          127000,
          170000,
          128000,
          157000,
          60000,
          119500,
          135000,
          159500,
          106000,
          325000,
          179900,
          274725,
          181000,
          280000,
          188000,
          205000,
          129900,
          134500,
          117000,
          318000,
          184100,
          130000,
          140000,
          133700,
          118400,
          212900,
          112000,
          118000,
          163900,
          115000,
          174000,
          259000,
          215000,
          140000,
          135000,
          93500,
          117500,
          239500,
          169000,
          102000,
          119000,
          94000,
          196000,
          144000,
          139000,
          197500,
          424870,
          80000,
          80000,
          149000,
          180000,
          174500,
          116900,
          143000,
          124000,
          149900,
          230000,
          120500,
          201800,
          218000,
          179900,
          230000,
          235128,
          185000,
          146000,
          224000,
          129000,
          108959,
          194000,
          233170,
          245350,
          173000,
          235000,
          625000,
          171000,
          163000,
          171900,
          200500,
          239000,
          285000,
          119500,
          115000,
          154900,
          93000,
          250000,
          392500,
          745000,
          120000,
          186700,
          104900,
          95000,
          262000,
          195000,
          189000,
          168000,
          174000,
          125000,
          165000,
          158000,
          176000,
          219210,
          144000,
          178000,
          148000,
          116050,
          197900,
          117000,
          213000,
          153500,
          271900,
          107000,
          200000,
          140000,
          290000,
          189000,
          164000,
          113000,
          145000,
          134500,
          125000,
          112000,
          229456,
          80500,
          91500,
          115000,
          134000,
          143000,
          137900,
          184000,
          145000,
          214000,
          147000,
          367294,
          127000,
          190000,
          132500,
          101800,
          142000,
          130000,
          138887,
          175500,
          195000,
          142500,
          265900,
          224900,
          248328,
          170000,
          465000,
          230000,
          178000,
          186500,
          169900,
          129500,
          119000,
          244000,
          171750,
          130000,
          294000,
          165400,
          127500,
          301500,
          99900,
          190000,
          151000,
          181000,
          128900,
          161500,
          180500,
          181000,
          183900,
          122000,
          378500,
          381000,
          144000,
          260000,
          185750,
          137000,
          177000,
          139000,
          137000,
          162000,
          197900,
          237000,
          68400,
          227000,
          180000,
          150500,
          139000,
          169000,
          132500,
          143000,
          190000,
          278000,
          281000,
          180500,
          119500,
          107500,
          162900,
          115000,
          138500,
          155000,
          140000,
          160000,
          154000,
          225000,
          177500,
          290000,
          232000,
          130000,
          325000,
          202500,
          138000,
          147000,
          179200,
          335000,
          203000,
          302000,
          333168,
          119000,
          206900,
          295493,
          208900,
          275000,
          111000,
          156500,
          72500,
          190000,
          82500,
          147000,
          55000,
          79000,
          130500,
          256000,
          176500,
          227000,
          132500,
          100000,
          125500,
          125000,
          167900,
          135000,
          52500,
          200000,
          128500,
          123000,
          155000,
          228500,
          177000,
          155835,
          108500,
          262500,
          283463,
          215000,
          122000,
          200000,
          171000,
          134900,
          410000,
          235000,
          170000,
          110000,
          149900,
          177500,
          315000,
          189000,
          260000,
          104900,
          156932,
          144152,
          216000,
          193000,
          127000,
          144000,
          232000,
          105000,
          165500,
          274300,
          466500,
          250000,
          239000,
          91000,
          117000,
          83000,
          167500,
          58500,
          237500,
          157000,
          112000,
          105000,
          125500,
          250000,
          136000,
          377500,
          131000,
          235000,
          124000,
          123000,
          163000,
          246578,
          281213,
          160000,
          137500,
          138000,
          137450,
          120000,
          193000,
          193879,
          282922,
          105000,
          275000,
          133000,
          112000,
          125500,
          215000,
          230000,
          140000,
          90000,
          257000,
          207000,
          175900,
          122500,
          340000,
          124000,
          223000,
          179900,
          127500,
          136500,
          274970,
          144000,
          142000,
          271000,
          140000,
          119000,
          182900,
          192140,
          143750,
          64500,
          186500,
          160000,
          174000,
          120500,
          394617,
          149700,
          197000,
          191000,
          149300,
          310000,
          121000,
          179600,
          129000,
          157900,
          240000,
          112000,
          92000,
          136000,
          287090,
          145000,
          84500,
          185000,
          175000,
          210000,
          266500,
          142125,
          147500
         ],
         "y0": " ",
         "yaxis": "y"
        }
       ],
       "layout": {
        "boxmode": "group",
        "legend": {
         "tracegroupgap": 0
        },
        "template": {
         "data": {
          "bar": [
           {
            "error_x": {
             "color": "#2a3f5f"
            },
            "error_y": {
             "color": "#2a3f5f"
            },
            "marker": {
             "line": {
              "color": "white",
              "width": 0.5
             },
             "pattern": {
              "fillmode": "overlay",
              "size": 10,
              "solidity": 0.2
             }
            },
            "type": "bar"
           }
          ],
          "barpolar": [
           {
            "marker": {
             "line": {
              "color": "white",
              "width": 0.5
             },
             "pattern": {
              "fillmode": "overlay",
              "size": 10,
              "solidity": 0.2
             }
            },
            "type": "barpolar"
           }
          ],
          "carpet": [
           {
            "aaxis": {
             "endlinecolor": "#2a3f5f",
             "gridcolor": "#C8D4E3",
             "linecolor": "#C8D4E3",
             "minorgridcolor": "#C8D4E3",
             "startlinecolor": "#2a3f5f"
            },
            "baxis": {
             "endlinecolor": "#2a3f5f",
             "gridcolor": "#C8D4E3",
             "linecolor": "#C8D4E3",
             "minorgridcolor": "#C8D4E3",
             "startlinecolor": "#2a3f5f"
            },
            "type": "carpet"
           }
          ],
          "choropleth": [
           {
            "colorbar": {
             "outlinewidth": 0,
             "ticks": ""
            },
            "type": "choropleth"
           }
          ],
          "contour": [
           {
            "colorbar": {
             "outlinewidth": 0,
             "ticks": ""
            },
            "colorscale": [
             [
              0,
              "#0d0887"
             ],
             [
              0.1111111111111111,
              "#46039f"
             ],
             [
              0.2222222222222222,
              "#7201a8"
             ],
             [
              0.3333333333333333,
              "#9c179e"
             ],
             [
              0.4444444444444444,
              "#bd3786"
             ],
             [
              0.5555555555555556,
              "#d8576b"
             ],
             [
              0.6666666666666666,
              "#ed7953"
             ],
             [
              0.7777777777777778,
              "#fb9f3a"
             ],
             [
              0.8888888888888888,
              "#fdca26"
             ],
             [
              1,
              "#f0f921"
             ]
            ],
            "type": "contour"
           }
          ],
          "contourcarpet": [
           {
            "colorbar": {
             "outlinewidth": 0,
             "ticks": ""
            },
            "type": "contourcarpet"
           }
          ],
          "heatmap": [
           {
            "colorbar": {
             "outlinewidth": 0,
             "ticks": ""
            },
            "colorscale": [
             [
              0,
              "#0d0887"
             ],
             [
              0.1111111111111111,
              "#46039f"
             ],
             [
              0.2222222222222222,
              "#7201a8"
             ],
             [
              0.3333333333333333,
              "#9c179e"
             ],
             [
              0.4444444444444444,
              "#bd3786"
             ],
             [
              0.5555555555555556,
              "#d8576b"
             ],
             [
              0.6666666666666666,
              "#ed7953"
             ],
             [
              0.7777777777777778,
              "#fb9f3a"
             ],
             [
              0.8888888888888888,
              "#fdca26"
             ],
             [
              1,
              "#f0f921"
             ]
            ],
            "type": "heatmap"
           }
          ],
          "heatmapgl": [
           {
            "colorbar": {
             "outlinewidth": 0,
             "ticks": ""
            },
            "colorscale": [
             [
              0,
              "#0d0887"
             ],
             [
              0.1111111111111111,
              "#46039f"
             ],
             [
              0.2222222222222222,
              "#7201a8"
             ],
             [
              0.3333333333333333,
              "#9c179e"
             ],
             [
              0.4444444444444444,
              "#bd3786"
             ],
             [
              0.5555555555555556,
              "#d8576b"
             ],
             [
              0.6666666666666666,
              "#ed7953"
             ],
             [
              0.7777777777777778,
              "#fb9f3a"
             ],
             [
              0.8888888888888888,
              "#fdca26"
             ],
             [
              1,
              "#f0f921"
             ]
            ],
            "type": "heatmapgl"
           }
          ],
          "histogram": [
           {
            "marker": {
             "pattern": {
              "fillmode": "overlay",
              "size": 10,
              "solidity": 0.2
             }
            },
            "type": "histogram"
           }
          ],
          "histogram2d": [
           {
            "colorbar": {
             "outlinewidth": 0,
             "ticks": ""
            },
            "colorscale": [
             [
              0,
              "#0d0887"
             ],
             [
              0.1111111111111111,
              "#46039f"
             ],
             [
              0.2222222222222222,
              "#7201a8"
             ],
             [
              0.3333333333333333,
              "#9c179e"
             ],
             [
              0.4444444444444444,
              "#bd3786"
             ],
             [
              0.5555555555555556,
              "#d8576b"
             ],
             [
              0.6666666666666666,
              "#ed7953"
             ],
             [
              0.7777777777777778,
              "#fb9f3a"
             ],
             [
              0.8888888888888888,
              "#fdca26"
             ],
             [
              1,
              "#f0f921"
             ]
            ],
            "type": "histogram2d"
           }
          ],
          "histogram2dcontour": [
           {
            "colorbar": {
             "outlinewidth": 0,
             "ticks": ""
            },
            "colorscale": [
             [
              0,
              "#0d0887"
             ],
             [
              0.1111111111111111,
              "#46039f"
             ],
             [
              0.2222222222222222,
              "#7201a8"
             ],
             [
              0.3333333333333333,
              "#9c179e"
             ],
             [
              0.4444444444444444,
              "#bd3786"
             ],
             [
              0.5555555555555556,
              "#d8576b"
             ],
             [
              0.6666666666666666,
              "#ed7953"
             ],
             [
              0.7777777777777778,
              "#fb9f3a"
             ],
             [
              0.8888888888888888,
              "#fdca26"
             ],
             [
              1,
              "#f0f921"
             ]
            ],
            "type": "histogram2dcontour"
           }
          ],
          "mesh3d": [
           {
            "colorbar": {
             "outlinewidth": 0,
             "ticks": ""
            },
            "type": "mesh3d"
           }
          ],
          "parcoords": [
           {
            "line": {
             "colorbar": {
              "outlinewidth": 0,
              "ticks": ""
             }
            },
            "type": "parcoords"
           }
          ],
          "pie": [
           {
            "automargin": true,
            "type": "pie"
           }
          ],
          "scatter": [
           {
            "fillpattern": {
             "fillmode": "overlay",
             "size": 10,
             "solidity": 0.2
            },
            "type": "scatter"
           }
          ],
          "scatter3d": [
           {
            "line": {
             "colorbar": {
              "outlinewidth": 0,
              "ticks": ""
             }
            },
            "marker": {
             "colorbar": {
              "outlinewidth": 0,
              "ticks": ""
             }
            },
            "type": "scatter3d"
           }
          ],
          "scattercarpet": [
           {
            "marker": {
             "colorbar": {
              "outlinewidth": 0,
              "ticks": ""
             }
            },
            "type": "scattercarpet"
           }
          ],
          "scattergeo": [
           {
            "marker": {
             "colorbar": {
              "outlinewidth": 0,
              "ticks": ""
             }
            },
            "type": "scattergeo"
           }
          ],
          "scattergl": [
           {
            "marker": {
             "colorbar": {
              "outlinewidth": 0,
              "ticks": ""
             }
            },
            "type": "scattergl"
           }
          ],
          "scattermapbox": [
           {
            "marker": {
             "colorbar": {
              "outlinewidth": 0,
              "ticks": ""
             }
            },
            "type": "scattermapbox"
           }
          ],
          "scatterpolar": [
           {
            "marker": {
             "colorbar": {
              "outlinewidth": 0,
              "ticks": ""
             }
            },
            "type": "scatterpolar"
           }
          ],
          "scatterpolargl": [
           {
            "marker": {
             "colorbar": {
              "outlinewidth": 0,
              "ticks": ""
             }
            },
            "type": "scatterpolargl"
           }
          ],
          "scatterternary": [
           {
            "marker": {
             "colorbar": {
              "outlinewidth": 0,
              "ticks": ""
             }
            },
            "type": "scatterternary"
           }
          ],
          "surface": [
           {
            "colorbar": {
             "outlinewidth": 0,
             "ticks": ""
            },
            "colorscale": [
             [
              0,
              "#0d0887"
             ],
             [
              0.1111111111111111,
              "#46039f"
             ],
             [
              0.2222222222222222,
              "#7201a8"
             ],
             [
              0.3333333333333333,
              "#9c179e"
             ],
             [
              0.4444444444444444,
              "#bd3786"
             ],
             [
              0.5555555555555556,
              "#d8576b"
             ],
             [
              0.6666666666666666,
              "#ed7953"
             ],
             [
              0.7777777777777778,
              "#fb9f3a"
             ],
             [
              0.8888888888888888,
              "#fdca26"
             ],
             [
              1,
              "#f0f921"
             ]
            ],
            "type": "surface"
           }
          ],
          "table": [
           {
            "cells": {
             "fill": {
              "color": "#EBF0F8"
             },
             "line": {
              "color": "white"
             }
            },
            "header": {
             "fill": {
              "color": "#C8D4E3"
             },
             "line": {
              "color": "white"
             }
            },
            "type": "table"
           }
          ]
         },
         "layout": {
          "annotationdefaults": {
           "arrowcolor": "#2a3f5f",
           "arrowhead": 0,
           "arrowwidth": 1
          },
          "autotypenumbers": "strict",
          "coloraxis": {
           "colorbar": {
            "outlinewidth": 0,
            "ticks": ""
           }
          },
          "colorscale": {
           "diverging": [
            [
             0,
             "#8e0152"
            ],
            [
             0.1,
             "#c51b7d"
            ],
            [
             0.2,
             "#de77ae"
            ],
            [
             0.3,
             "#f1b6da"
            ],
            [
             0.4,
             "#fde0ef"
            ],
            [
             0.5,
             "#f7f7f7"
            ],
            [
             0.6,
             "#e6f5d0"
            ],
            [
             0.7,
             "#b8e186"
            ],
            [
             0.8,
             "#7fbc41"
            ],
            [
             0.9,
             "#4d9221"
            ],
            [
             1,
             "#276419"
            ]
           ],
           "sequential": [
            [
             0,
             "#0d0887"
            ],
            [
             0.1111111111111111,
             "#46039f"
            ],
            [
             0.2222222222222222,
             "#7201a8"
            ],
            [
             0.3333333333333333,
             "#9c179e"
            ],
            [
             0.4444444444444444,
             "#bd3786"
            ],
            [
             0.5555555555555556,
             "#d8576b"
            ],
            [
             0.6666666666666666,
             "#ed7953"
            ],
            [
             0.7777777777777778,
             "#fb9f3a"
            ],
            [
             0.8888888888888888,
             "#fdca26"
            ],
            [
             1,
             "#f0f921"
            ]
           ],
           "sequentialminus": [
            [
             0,
             "#0d0887"
            ],
            [
             0.1111111111111111,
             "#46039f"
            ],
            [
             0.2222222222222222,
             "#7201a8"
            ],
            [
             0.3333333333333333,
             "#9c179e"
            ],
            [
             0.4444444444444444,
             "#bd3786"
            ],
            [
             0.5555555555555556,
             "#d8576b"
            ],
            [
             0.6666666666666666,
             "#ed7953"
            ],
            [
             0.7777777777777778,
             "#fb9f3a"
            ],
            [
             0.8888888888888888,
             "#fdca26"
            ],
            [
             1,
             "#f0f921"
            ]
           ]
          },
          "colorway": [
           "#636efa",
           "#EF553B",
           "#00cc96",
           "#ab63fa",
           "#FFA15A",
           "#19d3f3",
           "#FF6692",
           "#B6E880",
           "#FF97FF",
           "#FECB52"
          ],
          "font": {
           "color": "#2a3f5f"
          },
          "geo": {
           "bgcolor": "white",
           "lakecolor": "white",
           "landcolor": "white",
           "showlakes": true,
           "showland": true,
           "subunitcolor": "#C8D4E3"
          },
          "hoverlabel": {
           "align": "left"
          },
          "hovermode": "closest",
          "mapbox": {
           "style": "light"
          },
          "paper_bgcolor": "white",
          "plot_bgcolor": "white",
          "polar": {
           "angularaxis": {
            "gridcolor": "#EBF0F8",
            "linecolor": "#EBF0F8",
            "ticks": ""
           },
           "bgcolor": "white",
           "radialaxis": {
            "gridcolor": "#EBF0F8",
            "linecolor": "#EBF0F8",
            "ticks": ""
           }
          },
          "scene": {
           "xaxis": {
            "backgroundcolor": "white",
            "gridcolor": "#DFE8F3",
            "gridwidth": 2,
            "linecolor": "#EBF0F8",
            "showbackground": true,
            "ticks": "",
            "zerolinecolor": "#EBF0F8"
           },
           "yaxis": {
            "backgroundcolor": "white",
            "gridcolor": "#DFE8F3",
            "gridwidth": 2,
            "linecolor": "#EBF0F8",
            "showbackground": true,
            "ticks": "",
            "zerolinecolor": "#EBF0F8"
           },
           "zaxis": {
            "backgroundcolor": "white",
            "gridcolor": "#DFE8F3",
            "gridwidth": 2,
            "linecolor": "#EBF0F8",
            "showbackground": true,
            "ticks": "",
            "zerolinecolor": "#EBF0F8"
           }
          },
          "shapedefaults": {
           "line": {
            "color": "#2a3f5f"
           }
          },
          "ternary": {
           "aaxis": {
            "gridcolor": "#DFE8F3",
            "linecolor": "#A2B1C6",
            "ticks": ""
           },
           "baxis": {
            "gridcolor": "#DFE8F3",
            "linecolor": "#A2B1C6",
            "ticks": ""
           },
           "bgcolor": "white",
           "caxis": {
            "gridcolor": "#DFE8F3",
            "linecolor": "#A2B1C6",
            "ticks": ""
           }
          },
          "title": {
           "x": 0.05
          },
          "xaxis": {
           "automargin": true,
           "gridcolor": "#EBF0F8",
           "linecolor": "#EBF0F8",
           "ticks": "",
           "title": {
            "standoff": 15
           },
           "zerolinecolor": "#EBF0F8",
           "zerolinewidth": 2
          },
          "yaxis": {
           "automargin": true,
           "gridcolor": "#EBF0F8",
           "linecolor": "#EBF0F8",
           "ticks": "",
           "title": {
            "standoff": 15
           },
           "zerolinecolor": "#EBF0F8",
           "zerolinewidth": 2
          }
         }
        },
        "title": {
         "text": "SalePrice Boxplot"
        },
        "xaxis": {
         "anchor": "y",
         "domain": [
          0,
          1
         ]
        },
        "yaxis": {
         "anchor": "x",
         "domain": [
          0,
          1
         ],
         "title": {
          "text": "Sale Price"
         }
        }
       }
      }
     },
     "metadata": {},
     "output_type": "display_data"
    }
   ],
   "source": [
    "fig = px.box(train, y='SalePrice', title='SalePrice Boxplot',\n",
    "             labels={'SalePrice': 'Sale Price'},\n",
    "             template='plotly_white')\n",
    "fig.update_traces(marker_color='blue')\n",
    "fig.show()"
   ]
  },
  {
   "cell_type": "markdown",
   "metadata": {},
   "source": [
    "#### **How to read the SalePrice Boxplot**\n",
    "\n",
    "- **Median**: The central line in the boxplot represents the median sale price, approximately $200k.\n",
    "\n",
    "- **Interquartile Range (IQR)**: The box spans the middle 50% of the data, from the 25th percentile to the 75th percentile.\n",
    "\n",
    "- **Whiskers**: Extend to the non-outlier data points within 1.5 times the IQR.\n",
    "\n",
    "- **Outliers**: Points above the upper whisker are considered outliers, representing high-priced properties.\n",
    "\n",
    "#### **Interpretation:**\n",
    "The boxplot shows a significant number of outliers in the higher price range, confirming the right-skewness of `SalePrice`."
   ]
  },
  {
   "cell_type": "markdown",
   "metadata": {},
   "source": [
    "### **Missing Values**"
   ]
  },
  {
   "cell_type": "code",
   "execution_count": 10,
   "metadata": {},
   "outputs": [
    {
     "name": "stdout",
     "output_type": "stream",
     "text": [
      "Missing values in SalePrice: 0\n"
     ]
    }
   ],
   "source": [
    "# Check for missing values in SalePrice\n",
    "missing_values = train['SalePrice'].isnull().sum()\n",
    "print(f\"Missing values in SalePrice: {missing_values}\")"
   ]
  },
  {
   "cell_type": "markdown",
   "metadata": {},
   "source": [
    "## **Features Variables Analysis**"
   ]
  },
  {
   "cell_type": "markdown",
   "metadata": {},
   "source": [
    "### **Proportion of Missing Values**"
   ]
  },
  {
   "cell_type": "code",
   "execution_count": 11,
   "metadata": {},
   "outputs": [
    {
     "data": {
      "application/vnd.plotly.v1+json": {
       "config": {
        "plotlyServerURL": "https://plot.ly"
       },
       "data": [
        {
         "alignmentgroup": "True",
         "hovertemplate": "Missing Percentage (%)=%{x}<br>Variable=%{y}<extra></extra>",
         "legendgroup": "",
         "marker": {
          "color": "#636efa",
          "pattern": {
           "shape": ""
          }
         },
         "name": "",
         "offsetgroup": "",
         "orientation": "h",
         "showlegend": false,
         "textposition": "auto",
         "type": "bar",
         "x": [
          0.0684931506849315,
          0.547945205479452,
          2.5342465753424657,
          2.5342465753424657,
          2.5342465753424657,
          2.6027397260273974,
          2.6027397260273974,
          5.5479452054794525,
          5.5479452054794525,
          5.5479452054794525,
          5.5479452054794525,
          5.5479452054794525,
          17.73972602739726,
          47.26027397260274,
          59.726027397260275,
          80.75342465753424,
          93.76712328767123,
          96.30136986301369,
          99.52054794520548
         ],
         "xaxis": "x",
         "y": [
          "Electrical",
          "MasVnrArea",
          "BsmtQual",
          "BsmtCond",
          "BsmtFinType1",
          "BsmtExposure",
          "BsmtFinType2",
          "GarageCond",
          "GarageQual",
          "GarageFinish",
          "GarageYrBlt",
          "GarageType",
          "LotFrontage",
          "FireplaceQu",
          "MasVnrType",
          "Fence",
          "Alley",
          "MiscFeature",
          "PoolQC"
         ],
         "yaxis": "y"
        }
       ],
       "layout": {
        "barmode": "relative",
        "legend": {
         "tracegroupgap": 0
        },
        "template": {
         "data": {
          "bar": [
           {
            "error_x": {
             "color": "#2a3f5f"
            },
            "error_y": {
             "color": "#2a3f5f"
            },
            "marker": {
             "line": {
              "color": "white",
              "width": 0.5
             },
             "pattern": {
              "fillmode": "overlay",
              "size": 10,
              "solidity": 0.2
             }
            },
            "type": "bar"
           }
          ],
          "barpolar": [
           {
            "marker": {
             "line": {
              "color": "white",
              "width": 0.5
             },
             "pattern": {
              "fillmode": "overlay",
              "size": 10,
              "solidity": 0.2
             }
            },
            "type": "barpolar"
           }
          ],
          "carpet": [
           {
            "aaxis": {
             "endlinecolor": "#2a3f5f",
             "gridcolor": "#C8D4E3",
             "linecolor": "#C8D4E3",
             "minorgridcolor": "#C8D4E3",
             "startlinecolor": "#2a3f5f"
            },
            "baxis": {
             "endlinecolor": "#2a3f5f",
             "gridcolor": "#C8D4E3",
             "linecolor": "#C8D4E3",
             "minorgridcolor": "#C8D4E3",
             "startlinecolor": "#2a3f5f"
            },
            "type": "carpet"
           }
          ],
          "choropleth": [
           {
            "colorbar": {
             "outlinewidth": 0,
             "ticks": ""
            },
            "type": "choropleth"
           }
          ],
          "contour": [
           {
            "colorbar": {
             "outlinewidth": 0,
             "ticks": ""
            },
            "colorscale": [
             [
              0,
              "#0d0887"
             ],
             [
              0.1111111111111111,
              "#46039f"
             ],
             [
              0.2222222222222222,
              "#7201a8"
             ],
             [
              0.3333333333333333,
              "#9c179e"
             ],
             [
              0.4444444444444444,
              "#bd3786"
             ],
             [
              0.5555555555555556,
              "#d8576b"
             ],
             [
              0.6666666666666666,
              "#ed7953"
             ],
             [
              0.7777777777777778,
              "#fb9f3a"
             ],
             [
              0.8888888888888888,
              "#fdca26"
             ],
             [
              1,
              "#f0f921"
             ]
            ],
            "type": "contour"
           }
          ],
          "contourcarpet": [
           {
            "colorbar": {
             "outlinewidth": 0,
             "ticks": ""
            },
            "type": "contourcarpet"
           }
          ],
          "heatmap": [
           {
            "colorbar": {
             "outlinewidth": 0,
             "ticks": ""
            },
            "colorscale": [
             [
              0,
              "#0d0887"
             ],
             [
              0.1111111111111111,
              "#46039f"
             ],
             [
              0.2222222222222222,
              "#7201a8"
             ],
             [
              0.3333333333333333,
              "#9c179e"
             ],
             [
              0.4444444444444444,
              "#bd3786"
             ],
             [
              0.5555555555555556,
              "#d8576b"
             ],
             [
              0.6666666666666666,
              "#ed7953"
             ],
             [
              0.7777777777777778,
              "#fb9f3a"
             ],
             [
              0.8888888888888888,
              "#fdca26"
             ],
             [
              1,
              "#f0f921"
             ]
            ],
            "type": "heatmap"
           }
          ],
          "heatmapgl": [
           {
            "colorbar": {
             "outlinewidth": 0,
             "ticks": ""
            },
            "colorscale": [
             [
              0,
              "#0d0887"
             ],
             [
              0.1111111111111111,
              "#46039f"
             ],
             [
              0.2222222222222222,
              "#7201a8"
             ],
             [
              0.3333333333333333,
              "#9c179e"
             ],
             [
              0.4444444444444444,
              "#bd3786"
             ],
             [
              0.5555555555555556,
              "#d8576b"
             ],
             [
              0.6666666666666666,
              "#ed7953"
             ],
             [
              0.7777777777777778,
              "#fb9f3a"
             ],
             [
              0.8888888888888888,
              "#fdca26"
             ],
             [
              1,
              "#f0f921"
             ]
            ],
            "type": "heatmapgl"
           }
          ],
          "histogram": [
           {
            "marker": {
             "pattern": {
              "fillmode": "overlay",
              "size": 10,
              "solidity": 0.2
             }
            },
            "type": "histogram"
           }
          ],
          "histogram2d": [
           {
            "colorbar": {
             "outlinewidth": 0,
             "ticks": ""
            },
            "colorscale": [
             [
              0,
              "#0d0887"
             ],
             [
              0.1111111111111111,
              "#46039f"
             ],
             [
              0.2222222222222222,
              "#7201a8"
             ],
             [
              0.3333333333333333,
              "#9c179e"
             ],
             [
              0.4444444444444444,
              "#bd3786"
             ],
             [
              0.5555555555555556,
              "#d8576b"
             ],
             [
              0.6666666666666666,
              "#ed7953"
             ],
             [
              0.7777777777777778,
              "#fb9f3a"
             ],
             [
              0.8888888888888888,
              "#fdca26"
             ],
             [
              1,
              "#f0f921"
             ]
            ],
            "type": "histogram2d"
           }
          ],
          "histogram2dcontour": [
           {
            "colorbar": {
             "outlinewidth": 0,
             "ticks": ""
            },
            "colorscale": [
             [
              0,
              "#0d0887"
             ],
             [
              0.1111111111111111,
              "#46039f"
             ],
             [
              0.2222222222222222,
              "#7201a8"
             ],
             [
              0.3333333333333333,
              "#9c179e"
             ],
             [
              0.4444444444444444,
              "#bd3786"
             ],
             [
              0.5555555555555556,
              "#d8576b"
             ],
             [
              0.6666666666666666,
              "#ed7953"
             ],
             [
              0.7777777777777778,
              "#fb9f3a"
             ],
             [
              0.8888888888888888,
              "#fdca26"
             ],
             [
              1,
              "#f0f921"
             ]
            ],
            "type": "histogram2dcontour"
           }
          ],
          "mesh3d": [
           {
            "colorbar": {
             "outlinewidth": 0,
             "ticks": ""
            },
            "type": "mesh3d"
           }
          ],
          "parcoords": [
           {
            "line": {
             "colorbar": {
              "outlinewidth": 0,
              "ticks": ""
             }
            },
            "type": "parcoords"
           }
          ],
          "pie": [
           {
            "automargin": true,
            "type": "pie"
           }
          ],
          "scatter": [
           {
            "fillpattern": {
             "fillmode": "overlay",
             "size": 10,
             "solidity": 0.2
            },
            "type": "scatter"
           }
          ],
          "scatter3d": [
           {
            "line": {
             "colorbar": {
              "outlinewidth": 0,
              "ticks": ""
             }
            },
            "marker": {
             "colorbar": {
              "outlinewidth": 0,
              "ticks": ""
             }
            },
            "type": "scatter3d"
           }
          ],
          "scattercarpet": [
           {
            "marker": {
             "colorbar": {
              "outlinewidth": 0,
              "ticks": ""
             }
            },
            "type": "scattercarpet"
           }
          ],
          "scattergeo": [
           {
            "marker": {
             "colorbar": {
              "outlinewidth": 0,
              "ticks": ""
             }
            },
            "type": "scattergeo"
           }
          ],
          "scattergl": [
           {
            "marker": {
             "colorbar": {
              "outlinewidth": 0,
              "ticks": ""
             }
            },
            "type": "scattergl"
           }
          ],
          "scattermapbox": [
           {
            "marker": {
             "colorbar": {
              "outlinewidth": 0,
              "ticks": ""
             }
            },
            "type": "scattermapbox"
           }
          ],
          "scatterpolar": [
           {
            "marker": {
             "colorbar": {
              "outlinewidth": 0,
              "ticks": ""
             }
            },
            "type": "scatterpolar"
           }
          ],
          "scatterpolargl": [
           {
            "marker": {
             "colorbar": {
              "outlinewidth": 0,
              "ticks": ""
             }
            },
            "type": "scatterpolargl"
           }
          ],
          "scatterternary": [
           {
            "marker": {
             "colorbar": {
              "outlinewidth": 0,
              "ticks": ""
             }
            },
            "type": "scatterternary"
           }
          ],
          "surface": [
           {
            "colorbar": {
             "outlinewidth": 0,
             "ticks": ""
            },
            "colorscale": [
             [
              0,
              "#0d0887"
             ],
             [
              0.1111111111111111,
              "#46039f"
             ],
             [
              0.2222222222222222,
              "#7201a8"
             ],
             [
              0.3333333333333333,
              "#9c179e"
             ],
             [
              0.4444444444444444,
              "#bd3786"
             ],
             [
              0.5555555555555556,
              "#d8576b"
             ],
             [
              0.6666666666666666,
              "#ed7953"
             ],
             [
              0.7777777777777778,
              "#fb9f3a"
             ],
             [
              0.8888888888888888,
              "#fdca26"
             ],
             [
              1,
              "#f0f921"
             ]
            ],
            "type": "surface"
           }
          ],
          "table": [
           {
            "cells": {
             "fill": {
              "color": "#EBF0F8"
             },
             "line": {
              "color": "white"
             }
            },
            "header": {
             "fill": {
              "color": "#C8D4E3"
             },
             "line": {
              "color": "white"
             }
            },
            "type": "table"
           }
          ]
         },
         "layout": {
          "annotationdefaults": {
           "arrowcolor": "#2a3f5f",
           "arrowhead": 0,
           "arrowwidth": 1
          },
          "autotypenumbers": "strict",
          "coloraxis": {
           "colorbar": {
            "outlinewidth": 0,
            "ticks": ""
           }
          },
          "colorscale": {
           "diverging": [
            [
             0,
             "#8e0152"
            ],
            [
             0.1,
             "#c51b7d"
            ],
            [
             0.2,
             "#de77ae"
            ],
            [
             0.3,
             "#f1b6da"
            ],
            [
             0.4,
             "#fde0ef"
            ],
            [
             0.5,
             "#f7f7f7"
            ],
            [
             0.6,
             "#e6f5d0"
            ],
            [
             0.7,
             "#b8e186"
            ],
            [
             0.8,
             "#7fbc41"
            ],
            [
             0.9,
             "#4d9221"
            ],
            [
             1,
             "#276419"
            ]
           ],
           "sequential": [
            [
             0,
             "#0d0887"
            ],
            [
             0.1111111111111111,
             "#46039f"
            ],
            [
             0.2222222222222222,
             "#7201a8"
            ],
            [
             0.3333333333333333,
             "#9c179e"
            ],
            [
             0.4444444444444444,
             "#bd3786"
            ],
            [
             0.5555555555555556,
             "#d8576b"
            ],
            [
             0.6666666666666666,
             "#ed7953"
            ],
            [
             0.7777777777777778,
             "#fb9f3a"
            ],
            [
             0.8888888888888888,
             "#fdca26"
            ],
            [
             1,
             "#f0f921"
            ]
           ],
           "sequentialminus": [
            [
             0,
             "#0d0887"
            ],
            [
             0.1111111111111111,
             "#46039f"
            ],
            [
             0.2222222222222222,
             "#7201a8"
            ],
            [
             0.3333333333333333,
             "#9c179e"
            ],
            [
             0.4444444444444444,
             "#bd3786"
            ],
            [
             0.5555555555555556,
             "#d8576b"
            ],
            [
             0.6666666666666666,
             "#ed7953"
            ],
            [
             0.7777777777777778,
             "#fb9f3a"
            ],
            [
             0.8888888888888888,
             "#fdca26"
            ],
            [
             1,
             "#f0f921"
            ]
           ]
          },
          "colorway": [
           "#636efa",
           "#EF553B",
           "#00cc96",
           "#ab63fa",
           "#FFA15A",
           "#19d3f3",
           "#FF6692",
           "#B6E880",
           "#FF97FF",
           "#FECB52"
          ],
          "font": {
           "color": "#2a3f5f"
          },
          "geo": {
           "bgcolor": "white",
           "lakecolor": "white",
           "landcolor": "white",
           "showlakes": true,
           "showland": true,
           "subunitcolor": "#C8D4E3"
          },
          "hoverlabel": {
           "align": "left"
          },
          "hovermode": "closest",
          "mapbox": {
           "style": "light"
          },
          "paper_bgcolor": "white",
          "plot_bgcolor": "white",
          "polar": {
           "angularaxis": {
            "gridcolor": "#EBF0F8",
            "linecolor": "#EBF0F8",
            "ticks": ""
           },
           "bgcolor": "white",
           "radialaxis": {
            "gridcolor": "#EBF0F8",
            "linecolor": "#EBF0F8",
            "ticks": ""
           }
          },
          "scene": {
           "xaxis": {
            "backgroundcolor": "white",
            "gridcolor": "#DFE8F3",
            "gridwidth": 2,
            "linecolor": "#EBF0F8",
            "showbackground": true,
            "ticks": "",
            "zerolinecolor": "#EBF0F8"
           },
           "yaxis": {
            "backgroundcolor": "white",
            "gridcolor": "#DFE8F3",
            "gridwidth": 2,
            "linecolor": "#EBF0F8",
            "showbackground": true,
            "ticks": "",
            "zerolinecolor": "#EBF0F8"
           },
           "zaxis": {
            "backgroundcolor": "white",
            "gridcolor": "#DFE8F3",
            "gridwidth": 2,
            "linecolor": "#EBF0F8",
            "showbackground": true,
            "ticks": "",
            "zerolinecolor": "#EBF0F8"
           }
          },
          "shapedefaults": {
           "line": {
            "color": "#2a3f5f"
           }
          },
          "ternary": {
           "aaxis": {
            "gridcolor": "#DFE8F3",
            "linecolor": "#A2B1C6",
            "ticks": ""
           },
           "baxis": {
            "gridcolor": "#DFE8F3",
            "linecolor": "#A2B1C6",
            "ticks": ""
           },
           "bgcolor": "white",
           "caxis": {
            "gridcolor": "#DFE8F3",
            "linecolor": "#A2B1C6",
            "ticks": ""
           }
          },
          "title": {
           "x": 0.05
          },
          "xaxis": {
           "automargin": true,
           "gridcolor": "#EBF0F8",
           "linecolor": "#EBF0F8",
           "ticks": "",
           "title": {
            "standoff": 15
           },
           "zerolinecolor": "#EBF0F8",
           "zerolinewidth": 2
          },
          "yaxis": {
           "automargin": true,
           "gridcolor": "#EBF0F8",
           "linecolor": "#EBF0F8",
           "ticks": "",
           "title": {
            "standoff": 15
           },
           "zerolinecolor": "#EBF0F8",
           "zerolinewidth": 2
          }
         }
        },
        "title": {
         "text": "Percentage of Missing Values Per Variable"
        },
        "xaxis": {
         "anchor": "y",
         "domain": [
          0,
          1
         ],
         "title": {
          "text": "Percentage of Missing Values (%)"
         }
        },
        "yaxis": {
         "anchor": "x",
         "domain": [
          0,
          1
         ],
         "title": {
          "text": "Variables"
         }
        }
       }
      }
     },
     "metadata": {},
     "output_type": "display_data"
    }
   ],
   "source": [
    "# Calculate percentage of missing values\n",
    "missing_percentage = (train.isnull().sum() / len(train)) * 100\n",
    "missing_percentage = missing_percentage[missing_percentage > 0]\n",
    "\n",
    "# Convert to DataFrame for visualization\n",
    "missing_df = missing_percentage.reset_index()\n",
    "missing_df.columns = ['Variable', 'Missing Percentage']\n",
    "\n",
    "# Plot the missing values as a vertical bar chart\n",
    "fig = px.bar(\n",
    "    missing_df.sort_values(by='Missing Percentage', ascending=True),\n",
    "    x='Missing Percentage',\n",
    "    y='Variable',\n",
    "    orientation='h',\n",
    "    title='Percentage of Missing Values Per Variable',\n",
    "    labels={'Missing Percentage': 'Missing Percentage (%)', 'Variable': 'Variable'},\n",
    "    template='plotly_white'\n",
    ")\n",
    "\n",
    "fig.update_layout(xaxis_title=\"Percentage of Missing Values (%)\", yaxis_title=\"Variables\")\n",
    "fig.show()"
   ]
  },
  {
   "cell_type": "markdown",
   "metadata": {},
   "source": [
    "#### **Interpretation of Missing Values**\n",
    "\n",
    "The plot shows the percentage of missing values for variables in the dataset. Key insights include:\n",
    "\n",
    "1. **High Missingness (Above 40%)**:\n",
    "   - `PoolQC`, `MiscFeature`, `Alley`, and `Fence` have a very high percentage of missing values (over 80%). These variables may:\n",
    "     - Be dropped if deemed uninformative or irrelevant.\n",
    "     - Have missing values imputed with a new category (e.g., \"No Pool\" for `PoolQC`).\n",
    "\n",
    "2. **Moderate Missingness (10%-20%)**:\n",
    "   - Variables like `LotFrontage` have moderate missing values. Strategies like imputation (e.g., median for `LotFrontage`) may be required.\n",
    "\n",
    "3. **Low Missingness (<6%)**:\n",
    "   - Variables such as `GarageType`, `GarageCond`, and basement-related variables (`BsmtQual`, `BsmtExposure`, etc.) have fewer missing values and can be imputed more easily.\n",
    "\n",
    "#### **Next Steps**\n",
    "- For variables with high missing percentages, we will evaluate their importance using domain knowledge and feature correlation.\n",
    "\n",
    "- For moderate to low missingness, we will apply appropriate imputation strategies (e.g., median for numerical, \"None\" for categorical).\n",
    "\n",
    "- We will consider removing variables with consistently high missing values if they don't provide significant predictive power."
   ]
  },
  {
   "cell_type": "markdown",
   "metadata": {},
   "source": [
    "### **Distribution of missing data**\n",
    "\n",
    "The missing data can be:\n",
    "- **partial** or **\"item nonresponse\"**: for a given individual, only a few values are missing, so some (but not all) variables are unobserved.\n",
    "\n",
    "- **total** or **\"unit nonresponse\"**: all variables of a given individual are unobserved.\n",
    "\n",
    "**Little and Rubin (2019)** Define Three Kinds of Missing Value Distributions:\n",
    "\n",
    "1. **Univariate Missing Values**:\n",
    "   If the same individuals have missing values for the same $d < p$ variables.\n",
    "\n",
    "2. **Monotonic Missing Values**:\n",
    "   If the variables can be ordered such that, when the observation $y_{ij}$ is missing for the variable $Y_j$, all the following variables for this same individual, $y_{ik}, k > j$, are also missing.\n",
    "\n",
    "3. **Non-Monotonic or Arbitrary Missing Values**:\n",
    "   If the missing values are without structure, i.e., they are distributed without any particular structure in the dataset."
   ]
  },
  {
   "cell_type": "code",
   "execution_count": 12,
   "metadata": {},
   "outputs": [
    {
     "data": {
      "text/plain": [
       "<Axes: >"
      ]
     },
     "execution_count": 12,
     "metadata": {},
     "output_type": "execute_result"
    },
    {
     "data": {
      "image/png": "[encoded data removed]",
      "text/plain": [
       "<Figure size 2500x1000 with 2 Axes>"
      ]
     },
     "metadata": {},
     "output_type": "display_data"
    }
   ],
   "source": [
    "msno.matrix(train)"
   ]
  },
  {
   "cell_type": "code",
   "execution_count": 13,
   "metadata": {},
   "outputs": [
    {
     "name": "stdout",
     "output_type": "stream",
     "text": [
      "Number of rows with at least one missing value: 1460\n"
     ]
    }
   ],
   "source": [
    "# Create a sub DataFrame with rows that have at least one missing value\n",
    "missing_rows_df = train[train.isnull().any(axis=1)]\n",
    "\n",
    "# Check the number of rows with missing values\n",
    "print(f\"Number of rows with at least one missing value: {missing_rows_df.shape[0]}\")"
   ]
  },
  {
   "cell_type": "code",
   "execution_count": 45,
   "metadata": {},
   "outputs": [
    {
     "data": {
      "text/plain": [
       "<Axes: >"
      ]
     },
     "execution_count": 45,
     "metadata": {},
     "output_type": "execute_result"
    },
    {
     "data": {
      "image/png": "[encoded data removed]",
      "text/plain": [
       "<Figure size 2500x1000 with 2 Axes>"
      ]
     },
     "metadata": {},
     "output_type": "display_data"
    }
   ],
   "source": [
    "msno.matrix(missing_rows_df)"
   ]
  },
  {
   "cell_type": "markdown",
   "metadata": {},
   "source": [
    "**Drop Columns with High Missing Values**"
   ]
  },
  {
   "cell_type": "code",
   "execution_count": 14,
   "metadata": {},
   "outputs": [],
   "source": [
    "# Drop the specified features\n",
    "features_to_drop = ['PoolQC', 'MiscFeature', 'Alley', 'Fence']\n",
    "train = train.drop(columns=features_to_drop)\n",
    "\n",
    "# If you also want to drop from the test set\n",
    "test = test.drop(columns=features_to_drop)"
   ]
  },
  {
   "cell_type": "code",
   "execution_count": 15,
   "metadata": {},
   "outputs": [
    {
     "data": {
      "text/plain": [
       "(1460, 76)"
      ]
     },
     "execution_count": 15,
     "metadata": {},
     "output_type": "execute_result"
    }
   ],
   "source": [
    "train.shape"
   ]
  },
  {
   "cell_type": "code",
   "execution_count": 19,
   "metadata": {},
   "outputs": [
    {
     "data": {
      "application/vnd.plotly.v1+json": {
       "config": {
        "plotlyServerURL": "https://plot.ly"
       },
       "data": [
        {
         "alignmentgroup": "True",
         "hovertemplate": "Number of Missing Values=%{x}<br>Number of Rows=%{y}<extra></extra>",
         "legendgroup": "",
         "marker": {
          "color": "#636efa",
          "pattern": {
           "shape": ""
          }
         },
         "name": "",
         "offsetgroup": "",
         "orientation": "v",
         "showlegend": false,
         "textposition": "auto",
         "type": "bar",
         "x": [
          0,
          1,
          2,
          3,
          5,
          6,
          7,
          8,
          11,
          12
         ],
         "xaxis": "x",
         "y": [
          299,
          529,
          467,
          54,
          4,
          15,
          76,
          9,
          1,
          6
         ],
         "yaxis": "y"
        }
       ],
       "layout": {
        "barmode": "relative",
        "legend": {
         "tracegroupgap": 0
        },
        "template": {
         "data": {
          "bar": [
           {
            "error_x": {
             "color": "#2a3f5f"
            },
            "error_y": {
             "color": "#2a3f5f"
            },
            "marker": {
             "line": {
              "color": "white",
              "width": 0.5
             },
             "pattern": {
              "fillmode": "overlay",
              "size": 10,
              "solidity": 0.2
             }
            },
            "type": "bar"
           }
          ],
          "barpolar": [
           {
            "marker": {
             "line": {
              "color": "white",
              "width": 0.5
             },
             "pattern": {
              "fillmode": "overlay",
              "size": 10,
              "solidity": 0.2
             }
            },
            "type": "barpolar"
           }
          ],
          "carpet": [
           {
            "aaxis": {
             "endlinecolor": "#2a3f5f",
             "gridcolor": "#C8D4E3",
             "linecolor": "#C8D4E3",
             "minorgridcolor": "#C8D4E3",
             "startlinecolor": "#2a3f5f"
            },
            "baxis": {
             "endlinecolor": "#2a3f5f",
             "gridcolor": "#C8D4E3",
             "linecolor": "#C8D4E3",
             "minorgridcolor": "#C8D4E3",
             "startlinecolor": "#2a3f5f"
            },
            "type": "carpet"
           }
          ],
          "choropleth": [
           {
            "colorbar": {
             "outlinewidth": 0,
             "ticks": ""
            },
            "type": "choropleth"
           }
          ],
          "contour": [
           {
            "colorbar": {
             "outlinewidth": 0,
             "ticks": ""
            },
            "colorscale": [
             [
              0,
              "#0d0887"
             ],
             [
              0.1111111111111111,
              "#46039f"
             ],
             [
              0.2222222222222222,
              "#7201a8"
             ],
             [
              0.3333333333333333,
              "#9c179e"
             ],
             [
              0.4444444444444444,
              "#bd3786"
             ],
             [
              0.5555555555555556,
              "#d8576b"
             ],
             [
              0.6666666666666666,
              "#ed7953"
             ],
             [
              0.7777777777777778,
              "#fb9f3a"
             ],
             [
              0.8888888888888888,
              "#fdca26"
             ],
             [
              1,
              "#f0f921"
             ]
            ],
            "type": "contour"
           }
          ],
          "contourcarpet": [
           {
            "colorbar": {
             "outlinewidth": 0,
             "ticks": ""
            },
            "type": "contourcarpet"
           }
          ],
          "heatmap": [
           {
            "colorbar": {
             "outlinewidth": 0,
             "ticks": ""
            },
            "colorscale": [
             [
              0,
              "#0d0887"
             ],
             [
              0.1111111111111111,
              "#46039f"
             ],
             [
              0.2222222222222222,
              "#7201a8"
             ],
             [
              0.3333333333333333,
              "#9c179e"
             ],
             [
              0.4444444444444444,
              "#bd3786"
             ],
             [
              0.5555555555555556,
              "#d8576b"
             ],
             [
              0.6666666666666666,
              "#ed7953"
             ],
             [
              0.7777777777777778,
              "#fb9f3a"
             ],
             [
              0.8888888888888888,
              "#fdca26"
             ],
             [
              1,
              "#f0f921"
             ]
            ],
            "type": "heatmap"
           }
          ],
          "heatmapgl": [
           {
            "colorbar": {
             "outlinewidth": 0,
             "ticks": ""
            },
            "colorscale": [
             [
              0,
              "#0d0887"
             ],
             [
              0.1111111111111111,
              "#46039f"
             ],
             [
              0.2222222222222222,
              "#7201a8"
             ],
             [
              0.3333333333333333,
              "#9c179e"
             ],
             [
              0.4444444444444444,
              "#bd3786"
             ],
             [
              0.5555555555555556,
              "#d8576b"
             ],
             [
              0.6666666666666666,
              "#ed7953"
             ],
             [
              0.7777777777777778,
              "#fb9f3a"
             ],
             [
              0.8888888888888888,
              "#fdca26"
             ],
             [
              1,
              "#f0f921"
             ]
            ],
            "type": "heatmapgl"
           }
          ],
          "histogram": [
           {
            "marker": {
             "pattern": {
              "fillmode": "overlay",
              "size": 10,
              "solidity": 0.2
             }
            },
            "type": "histogram"
           }
          ],
          "histogram2d": [
           {
            "colorbar": {
             "outlinewidth": 0,
             "ticks": ""
            },
            "colorscale": [
             [
              0,
              "#0d0887"
             ],
             [
              0.1111111111111111,
              "#46039f"
             ],
             [
              0.2222222222222222,
              "#7201a8"
             ],
             [
              0.3333333333333333,
              "#9c179e"
             ],
             [
              0.4444444444444444,
              "#bd3786"
             ],
             [
              0.5555555555555556,
              "#d8576b"
             ],
             [
              0.6666666666666666,
              "#ed7953"
             ],
             [
              0.7777777777777778,
              "#fb9f3a"
             ],
             [
              0.8888888888888888,
              "#fdca26"
             ],
             [
              1,
              "#f0f921"
             ]
            ],
            "type": "histogram2d"
           }
          ],
          "histogram2dcontour": [
           {
            "colorbar": {
             "outlinewidth": 0,
             "ticks": ""
            },
            "colorscale": [
             [
              0,
              "#0d0887"
             ],
             [
              0.1111111111111111,
              "#46039f"
             ],
             [
              0.2222222222222222,
              "#7201a8"
             ],
             [
              0.3333333333333333,
              "#9c179e"
             ],
             [
              0.4444444444444444,
              "#bd3786"
             ],
             [
              0.5555555555555556,
              "#d8576b"
             ],
             [
              0.6666666666666666,
              "#ed7953"
             ],
             [
              0.7777777777777778,
              "#fb9f3a"
             ],
             [
              0.8888888888888888,
              "#fdca26"
             ],
             [
              1,
              "#f0f921"
             ]
            ],
            "type": "histogram2dcontour"
           }
          ],
          "mesh3d": [
           {
            "colorbar": {
             "outlinewidth": 0,
             "ticks": ""
            },
            "type": "mesh3d"
           }
          ],
          "parcoords": [
           {
            "line": {
             "colorbar": {
              "outlinewidth": 0,
              "ticks": ""
             }
            },
            "type": "parcoords"
           }
          ],
          "pie": [
           {
            "automargin": true,
            "type": "pie"
           }
          ],
          "scatter": [
           {
            "fillpattern": {
             "fillmode": "overlay",
             "size": 10,
             "solidity": 0.2
            },
            "type": "scatter"
           }
          ],
          "scatter3d": [
           {
            "line": {
             "colorbar": {
              "outlinewidth": 0,
              "ticks": ""
             }
            },
            "marker": {
             "colorbar": {
              "outlinewidth": 0,
              "ticks": ""
             }
            },
            "type": "scatter3d"
           }
          ],
          "scattercarpet": [
           {
            "marker": {
             "colorbar": {
              "outlinewidth": 0,
              "ticks": ""
             }
            },
            "type": "scattercarpet"
           }
          ],
          "scattergeo": [
           {
            "marker": {
             "colorbar": {
              "outlinewidth": 0,
              "ticks": ""
             }
            },
            "type": "scattergeo"
           }
          ],
          "scattergl": [
           {
            "marker": {
             "colorbar": {
              "outlinewidth": 0,
              "ticks": ""
             }
            },
            "type": "scattergl"
           }
          ],
          "scattermapbox": [
           {
            "marker": {
             "colorbar": {
              "outlinewidth": 0,
              "ticks": ""
             }
            },
            "type": "scattermapbox"
           }
          ],
          "scatterpolar": [
           {
            "marker": {
             "colorbar": {
              "outlinewidth": 0,
              "ticks": ""
             }
            },
            "type": "scatterpolar"
           }
          ],
          "scatterpolargl": [
           {
            "marker": {
             "colorbar": {
              "outlinewidth": 0,
              "ticks": ""
             }
            },
            "type": "scatterpolargl"
           }
          ],
          "scatterternary": [
           {
            "marker": {
             "colorbar": {
              "outlinewidth": 0,
              "ticks": ""
             }
            },
            "type": "scatterternary"
           }
          ],
          "surface": [
           {
            "colorbar": {
             "outlinewidth": 0,
             "ticks": ""
            },
            "colorscale": [
             [
              0,
              "#0d0887"
             ],
             [
              0.1111111111111111,
              "#46039f"
             ],
             [
              0.2222222222222222,
              "#7201a8"
             ],
             [
              0.3333333333333333,
              "#9c179e"
             ],
             [
              0.4444444444444444,
              "#bd3786"
             ],
             [
              0.5555555555555556,
              "#d8576b"
             ],
             [
              0.6666666666666666,
              "#ed7953"
             ],
             [
              0.7777777777777778,
              "#fb9f3a"
             ],
             [
              0.8888888888888888,
              "#fdca26"
             ],
             [
              1,
              "#f0f921"
             ]
            ],
            "type": "surface"
           }
          ],
          "table": [
           {
            "cells": {
             "fill": {
              "color": "#EBF0F8"
             },
             "line": {
              "color": "white"
             }
            },
            "header": {
             "fill": {
              "color": "#C8D4E3"
             },
             "line": {
              "color": "white"
             }
            },
            "type": "table"
           }
          ]
         },
         "layout": {
          "annotationdefaults": {
           "arrowcolor": "#2a3f5f",
           "arrowhead": 0,
           "arrowwidth": 1
          },
          "autotypenumbers": "strict",
          "coloraxis": {
           "colorbar": {
            "outlinewidth": 0,
            "ticks": ""
           }
          },
          "colorscale": {
           "diverging": [
            [
             0,
             "#8e0152"
            ],
            [
             0.1,
             "#c51b7d"
            ],
            [
             0.2,
             "#de77ae"
            ],
            [
             0.3,
             "#f1b6da"
            ],
            [
             0.4,
             "#fde0ef"
            ],
            [
             0.5,
             "#f7f7f7"
            ],
            [
             0.6,
             "#e6f5d0"
            ],
            [
             0.7,
             "#b8e186"
            ],
            [
             0.8,
             "#7fbc41"
            ],
            [
             0.9,
             "#4d9221"
            ],
            [
             1,
             "#276419"
            ]
           ],
           "sequential": [
            [
             0,
             "#0d0887"
            ],
            [
             0.1111111111111111,
             "#46039f"
            ],
            [
             0.2222222222222222,
             "#7201a8"
            ],
            [
             0.3333333333333333,
             "#9c179e"
            ],
            [
             0.4444444444444444,
             "#bd3786"
            ],
            [
             0.5555555555555556,
             "#d8576b"
            ],
            [
             0.6666666666666666,
             "#ed7953"
            ],
            [
             0.7777777777777778,
             "#fb9f3a"
            ],
            [
             0.8888888888888888,
             "#fdca26"
            ],
            [
             1,
             "#f0f921"
            ]
           ],
           "sequentialminus": [
            [
             0,
             "#0d0887"
            ],
            [
             0.1111111111111111,
             "#46039f"
            ],
            [
             0.2222222222222222,
             "#7201a8"
            ],
            [
             0.3333333333333333,
             "#9c179e"
            ],
            [
             0.4444444444444444,
             "#bd3786"
            ],
            [
             0.5555555555555556,
             "#d8576b"
            ],
            [
             0.6666666666666666,
             "#ed7953"
            ],
            [
             0.7777777777777778,
             "#fb9f3a"
            ],
            [
             0.8888888888888888,
             "#fdca26"
            ],
            [
             1,
             "#f0f921"
            ]
           ]
          },
          "colorway": [
           "#636efa",
           "#EF553B",
           "#00cc96",
           "#ab63fa",
           "#FFA15A",
           "#19d3f3",
           "#FF6692",
           "#B6E880",
           "#FF97FF",
           "#FECB52"
          ],
          "font": {
           "color": "#2a3f5f"
          },
          "geo": {
           "bgcolor": "white",
           "lakecolor": "white",
           "landcolor": "white",
           "showlakes": true,
           "showland": true,
           "subunitcolor": "#C8D4E3"
          },
          "hoverlabel": {
           "align": "left"
          },
          "hovermode": "closest",
          "mapbox": {
           "style": "light"
          },
          "paper_bgcolor": "white",
          "plot_bgcolor": "white",
          "polar": {
           "angularaxis": {
            "gridcolor": "#EBF0F8",
            "linecolor": "#EBF0F8",
            "ticks": ""
           },
           "bgcolor": "white",
           "radialaxis": {
            "gridcolor": "#EBF0F8",
            "linecolor": "#EBF0F8",
            "ticks": ""
           }
          },
          "scene": {
           "xaxis": {
            "backgroundcolor": "white",
            "gridcolor": "#DFE8F3",
            "gridwidth": 2,
            "linecolor": "#EBF0F8",
            "showbackground": true,
            "ticks": "",
            "zerolinecolor": "#EBF0F8"
           },
           "yaxis": {
            "backgroundcolor": "white",
            "gridcolor": "#DFE8F3",
            "gridwidth": 2,
            "linecolor": "#EBF0F8",
            "showbackground": true,
            "ticks": "",
            "zerolinecolor": "#EBF0F8"
           },
           "zaxis": {
            "backgroundcolor": "white",
            "gridcolor": "#DFE8F3",
            "gridwidth": 2,
            "linecolor": "#EBF0F8",
            "showbackground": true,
            "ticks": "",
            "zerolinecolor": "#EBF0F8"
           }
          },
          "shapedefaults": {
           "line": {
            "color": "#2a3f5f"
           }
          },
          "ternary": {
           "aaxis": {
            "gridcolor": "#DFE8F3",
            "linecolor": "#A2B1C6",
            "ticks": ""
           },
           "baxis": {
            "gridcolor": "#DFE8F3",
            "linecolor": "#A2B1C6",
            "ticks": ""
           },
           "bgcolor": "white",
           "caxis": {
            "gridcolor": "#DFE8F3",
            "linecolor": "#A2B1C6",
            "ticks": ""
           }
          },
          "title": {
           "x": 0.05
          },
          "xaxis": {
           "automargin": true,
           "gridcolor": "#EBF0F8",
           "linecolor": "#EBF0F8",
           "ticks": "",
           "title": {
            "standoff": 15
           },
           "zerolinecolor": "#EBF0F8",
           "zerolinewidth": 2
          },
          "yaxis": {
           "automargin": true,
           "gridcolor": "#EBF0F8",
           "linecolor": "#EBF0F8",
           "ticks": "",
           "title": {
            "standoff": 15
           },
           "zerolinecolor": "#EBF0F8",
           "zerolinewidth": 2
          }
         }
        },
        "title": {
         "text": "Distribution of Missing Values per Row"
        },
        "xaxis": {
         "anchor": "y",
         "domain": [
          0,
          1
         ],
         "title": {
          "text": "Number of Missing Values"
         }
        },
        "yaxis": {
         "anchor": "x",
         "domain": [
          0,
          1
         ],
         "title": {
          "text": "Number of Rows"
         }
        }
       }
      }
     },
     "metadata": {},
     "output_type": "display_data"
    }
   ],
   "source": [
    "# Count the number of missing values per row\n",
    "missing_counts = train.isnull().sum(axis=1)\n",
    "\n",
    "# Count the frequency of rows with a specific number of missing values\n",
    "missing_value_distribution = missing_counts.value_counts().sort_index()\n",
    "\n",
    "# Convert to a DataFrame for easier reading\n",
    "missing_value_distribution_df = missing_value_distribution.reset_index()\n",
    "missing_value_distribution_df.columns = ['Number of Missing Values', 'Row Count']\n",
    "\n",
    "# Create a bar plot using Plotly\n",
    "fig = px.bar(\n",
    "    missing_value_distribution_df,\n",
    "    x='Number of Missing Values',\n",
    "    y='Row Count',\n",
    "    title='Distribution of Missing Values per Row',\n",
    "    labels={'Number of Missing Values': 'Number of Missing Values', 'Row Count': 'Number of Rows'},\n",
    "    template='plotly_white'\n",
    ")\n",
    "\n",
    "fig.update_layout(xaxis_title='Number of Missing Values', yaxis_title='Number of Rows')\n",
    "fig.show()"
   ]
  },
  {
   "cell_type": "markdown",
   "metadata": {},
   "source": [
    "**Handling Missing Values in `LotFrotage`**"
   ]
  },
  {
   "cell_type": "code",
   "execution_count": 25,
   "metadata": {},
   "outputs": [
    {
     "name": "stdout",
     "output_type": "stream",
     "text": [
      "Proportion of missing values for LotFrontage: 17.74%\n"
     ]
    }
   ],
   "source": [
    "# Calculate the proportion of missing values for LotFrontage\n",
    "missing_proportion = train['LotFrontage'].isnull().sum() / len(train) * 100\n",
    "print(f\"Proportion of missing values for LotFrontage: {missing_proportion:.2f}%\")"
   ]
  },
  {
   "cell_type": "code",
   "execution_count": 26,
   "metadata": {},
   "outputs": [
    {
     "data": {
      "text/plain": [
       "count    1201.000000\n",
       "mean       70.049958\n",
       "std        24.284752\n",
       "min        21.000000\n",
       "25%        59.000000\n",
       "50%        69.000000\n",
       "75%        80.000000\n",
       "max       313.000000\n",
       "Name: LotFrontage, dtype: float64"
      ]
     },
     "execution_count": 26,
     "metadata": {},
     "output_type": "execute_result"
    }
   ],
   "source": [
    "train['LotFrontage'].describe()"
   ]
  },
  {
   "cell_type": "code",
   "execution_count": 34,
   "metadata": {},
   "outputs": [
    {
     "data": {
      "application/vnd.plotly.v1+json": {
       "config": {
        "plotlyServerURL": "https://plot.ly"
       },
       "data": [
        {
         "alignmentgroup": "True",
         "bingroup": "x",
         "histnorm": "probability density",
         "hovertemplate": "Lot Frontage=%{x}<br>probability density=%{y}<extra></extra>",
         "legendgroup": "",
         "marker": {
          "color": "blue",
          "pattern": {
           "shape": ""
          }
         },
         "name": "",
         "nbinsx": 100,
         "offsetgroup": "",
         "opacity": 0.75,
         "orientation": "v",
         "showlegend": false,
         "type": "histogram",
         "x": [
          65,
          80,
          68,
          60,
          84,
          85,
          75,
          null,
          51,
          50,
          70,
          85,
          null,
          91,
          null,
          51,
          null,
          72,
          66,
          70,
          101,
          57,
          75,
          44,
          null,
          110,
          60,
          98,
          47,
          60,
          50,
          null,
          85,
          70,
          60,
          108,
          112,
          74,
          68,
          65,
          84,
          115,
          null,
          null,
          70,
          61,
          48,
          84,
          33,
          66,
          null,
          52,
          110,
          68,
          60,
          100,
          24,
          89,
          66,
          60,
          63,
          60,
          44,
          50,
          null,
          76,
          null,
          72,
          47,
          81,
          95,
          69,
          74,
          85,
          60,
          21,
          null,
          50,
          72,
          60,
          100,
          32,
          78,
          80,
          null,
          121,
          122,
          40,
          105,
          60,
          60,
          85,
          80,
          60,
          69,
          null,
          78,
          73,
          85,
          77,
          null,
          77,
          64,
          94,
          null,
          75,
          60,
          50,
          85,
          105,
          75,
          null,
          77,
          null,
          61,
          34,
          null,
          74,
          90,
          65,
          null,
          50,
          75,
          55,
          48,
          60,
          null,
          55,
          69,
          69,
          88,
          null,
          75,
          null,
          78,
          80,
          null,
          82,
          73,
          65,
          70,
          78,
          71,
          78,
          70,
          24,
          51,
          null,
          63,
          null,
          120,
          107,
          null,
          null,
          84,
          60,
          60,
          92,
          100,
          134,
          null,
          110,
          95,
          55,
          40,
          62,
          null,
          86,
          62,
          null,
          null,
          141,
          44,
          80,
          47,
          84,
          97,
          null,
          63,
          60,
          null,
          54,
          60,
          63,
          92,
          90,
          null,
          60,
          64,
          41,
          70,
          null,
          68,
          24,
          60,
          24,
          79,
          174,
          92,
          76,
          80,
          75,
          50,
          null,
          50,
          99,
          40,
          null,
          null,
          75,
          67,
          83,
          72,
          43,
          null,
          72,
          65,
          57,
          null,
          43,
          73,
          null,
          85,
          70,
          103,
          21,
          82,
          21,
          70,
          43,
          73,
          174,
          21,
          75,
          null,
          21,
          65,
          null,
          93,
          52,
          75,
          40,
          63,
          75,
          null,
          80,
          69,
          75,
          72,
          null,
          55,
          44,
          65,
          85,
          70,
          66,
          64,
          68,
          80,
          70,
          120,
          69,
          88,
          50,
          30,
          78,
          70,
          60,
          71,
          null,
          84,
          73,
          92,
          80,
          76,
          55,
          129,
          140,
          107,
          83,
          82,
          60,
          34,
          74,
          50,
          35,
          77,
          null,
          null,
          60,
          120,
          55,
          60,
          null,
          80,
          37,
          75,
          66,
          90,
          80,
          90,
          66,
          118,
          70,
          87,
          80,
          116,
          null,
          null,
          90,
          null,
          50,
          65,
          150,
          60,
          71,
          94,
          75,
          90,
          null,
          111,
          99,
          86,
          49,
          96,
          50,
          32,
          80,
          null,
          60,
          null,
          70,
          85,
          59,
          59,
          null,
          86,
          70,
          91,
          66,
          85,
          60,
          null,
          63,
          36,
          65,
          null,
          null,
          36,
          56,
          68,
          null,
          60,
          60,
          60,
          105,
          null,
          44,
          92,
          78,
          null,
          null,
          64,
          21,
          null,
          59,
          null,
          101,
          78,
          null,
          null,
          80,
          50,
          79,
          65,
          null,
          57,
          102,
          88,
          60,
          50,
          60,
          79,
          60,
          null,
          43,
          58,
          72,
          93,
          96,
          50,
          71,
          null,
          null,
          60,
          68,
          60,
          69,
          60,
          65,
          38,
          65,
          60,
          93,
          null,
          null,
          51,
          63,
          109,
          85,
          68,
          100,
          null,
          56,
          59,
          73,
          74,
          86,
          60,
          65,
          78,
          null,
          100,
          80,
          72,
          60,
          null,
          77,
          64,
          130,
          21,
          60,
          24,
          100,
          21,
          43,
          40,
          50,
          40,
          67,
          105,
          92,
          52,
          53,
          70,
          73,
          137,
          null,
          50,
          50,
          70,
          62,
          null,
          75,
          63,
          80,
          34,
          null,
          null,
          null,
          75,
          60,
          60,
          74,
          60,
          null,
          85,
          79,
          98,
          76,
          null,
          92,
          35,
          110,
          41,
          80,
          75,
          105,
          79,
          50,
          98,
          72,
          50,
          32,
          null,
          80,
          79,
          70,
          60,
          21,
          null,
          79,
          105,
          70,
          50,
          60,
          null,
          60,
          65,
          70,
          21,
          75,
          70,
          100,
          24,
          60,
          80,
          75,
          60,
          80,
          75,
          40,
          70,
          71,
          55,
          94,
          null,
          79,
          null,
          53,
          60,
          90,
          50,
          130,
          95,
          62,
          70,
          67,
          58,
          null,
          85,
          60,
          60,
          50,
          74,
          70,
          57,
          null,
          null,
          null,
          85,
          null,
          78,
          34,
          58,
          null,
          70,
          54,
          49,
          75,
          53,
          50,
          87,
          67,
          85,
          58,
          69,
          60,
          57,
          null,
          null,
          77,
          63,
          66,
          null,
          66,
          77,
          70,
          79,
          null,
          74,
          60,
          83,
          76,
          70,
          80,
          52,
          96,
          34,
          81,
          null,
          98,
          81,
          75,
          51,
          88,
          55,
          74,
          65,
          50,
          64,
          97,
          60,
          null,
          88,
          69,
          60,
          53,
          80,
          24,
          74,
          50,
          80,
          30,
          88,
          85,
          82,
          78,
          78,
          61,
          null,
          null,
          null,
          70,
          21,
          80,
          null,
          59,
          90,
          85,
          45,
          90,
          71,
          null,
          80,
          87,
          null,
          80,
          70,
          82,
          50,
          34,
          85,
          80,
          64,
          60,
          51,
          50,
          67,
          53,
          62,
          null,
          75,
          80,
          85,
          null,
          60,
          85,
          70,
          21,
          65,
          60,
          70,
          60,
          91,
          21,
          72,
          60,
          78,
          75,
          null,
          52,
          120,
          90,
          49,
          106,
          null,
          65,
          null,
          80,
          64,
          54,
          null,
          110,
          80,
          24,
          60,
          52,
          80,
          null,
          50,
          55,
          null,
          90,
          58,
          null,
          84,
          null,
          60,
          61,
          null,
          104,
          42,
          60,
          51,
          54,
          50,
          57,
          65,
          59,
          85,
          80,
          82,
          76,
          70,
          70,
          null,
          48,
          65,
          null,
          56,
          66,
          40,
          60,
          null,
          78,
          60,
          80,
          96,
          69,
          null,
          null,
          70,
          60,
          86,
          60,
          null,
          64,
          85,
          52,
          39,
          73,
          75,
          80,
          null,
          60,
          60,
          72,
          60,
          65,
          60,
          65,
          65,
          70,
          41,
          null,
          null,
          65,
          59,
          50,
          55,
          null,
          79,
          80,
          61,
          34,
          68,
          null,
          24,
          65,
          70,
          60,
          72,
          82,
          30,
          75,
          80,
          75,
          70,
          47,
          null,
          67,
          94,
          70,
          110,
          32,
          86,
          100,
          60,
          78,
          63,
          65,
          67,
          null,
          35,
          null,
          60,
          76,
          50,
          null,
          43,
          null,
          92,
          76,
          null,
          70,
          71,
          57,
          104,
          60,
          79,
          40,
          63,
          107,
          75,
          91,
          75,
          144,
          85,
          90,
          78,
          null,
          66,
          75,
          45,
          48,
          null,
          null,
          80,
          44,
          72,
          60,
          null,
          60,
          81,
          114,
          50,
          65,
          null,
          24,
          80,
          30,
          44,
          100,
          75,
          60,
          90,
          21,
          75,
          70,
          null,
          60,
          82,
          80,
          100,
          null,
          75,
          36,
          75,
          80,
          36,
          null,
          53,
          null,
          102,
          null,
          null,
          65,
          80,
          null,
          55,
          75,
          81,
          70,
          72,
          null,
          67,
          85,
          null,
          80,
          60,
          70,
          74,
          60,
          52,
          75,
          94,
          74,
          88,
          null,
          60,
          44,
          null,
          60,
          65,
          50,
          70,
          59,
          95,
          128,
          60,
          70,
          70,
          null,
          64,
          71,
          50,
          64,
          100,
          65,
          null,
          64,
          63,
          50,
          null,
          80,
          116,
          86,
          null,
          149,
          80,
          null,
          51,
          82,
          30,
          21,
          50,
          null,
          103,
          87,
          70,
          67,
          65,
          50,
          79,
          null,
          93,
          null,
          null,
          null,
          73,
          70,
          84,
          63,
          313,
          52,
          67,
          75,
          73,
          null,
          55,
          null,
          42,
          100,
          null,
          98,
          70,
          85,
          65,
          78,
          60,
          60,
          60,
          null,
          35,
          82,
          24,
          70,
          65,
          24,
          50,
          null,
          24,
          122,
          80,
          65,
          130,
          null,
          50,
          75,
          60,
          36,
          55,
          95,
          60,
          null,
          51,
          35,
          68,
          80,
          null,
          98,
          43,
          null,
          75,
          68,
          59,
          83,
          null,
          65,
          82,
          121,
          80,
          68,
          96,
          51,
          null,
          null,
          60,
          64,
          74,
          60,
          75,
          null,
          43,
          65,
          null,
          21,
          43,
          60,
          115,
          75,
          55,
          60,
          60,
          70,
          73,
          null,
          null,
          43,
          60,
          64,
          52,
          43,
          null,
          70,
          73,
          71,
          79,
          21,
          null,
          102,
          null,
          null,
          50,
          null,
          89,
          null,
          21,
          21,
          88,
          null,
          34,
          86,
          80,
          null,
          85,
          57,
          100,
          60,
          73,
          103,
          100,
          68,
          90,
          104,
          43,
          null,
          96,
          null,
          41,
          120,
          85,
          50,
          null,
          80,
          59,
          80,
          42,
          60,
          72,
          78,
          50,
          75,
          74,
          75,
          60,
          null,
          37,
          65,
          80,
          75,
          70,
          80,
          null,
          73,
          null,
          85,
          24,
          37,
          60,
          24,
          60,
          71,
          74,
          78,
          60,
          null,
          50,
          82,
          60,
          61,
          70,
          79,
          24,
          98,
          114,
          168,
          null,
          107,
          null,
          80,
          73,
          66,
          90,
          93,
          null,
          57,
          85,
          70,
          59,
          84,
          null,
          50,
          null,
          60,
          53,
          182,
          59,
          60,
          65,
          63,
          90,
          80,
          57,
          60,
          80,
          54,
          null,
          98,
          60,
          null,
          77,
          null,
          60,
          52,
          null,
          75,
          null,
          50,
          57,
          134,
          90,
          null,
          null,
          90,
          85,
          34,
          92,
          76,
          24,
          null,
          109,
          60,
          null,
          79,
          64,
          58,
          120,
          118,
          76,
          76,
          35,
          138,
          80,
          85,
          37,
          null,
          54,
          77,
          null,
          64,
          160,
          60,
          50,
          60,
          107,
          89,
          68,
          60,
          null,
          24,
          60,
          null,
          80,
          51,
          58,
          65,
          70,
          75,
          71,
          80,
          50,
          75,
          78,
          90,
          null,
          70,
          70,
          85,
          70,
          152,
          50,
          null,
          69,
          99,
          68,
          72,
          52,
          21,
          66,
          55,
          78,
          89,
          60,
          65,
          86,
          72,
          65,
          70,
          null,
          70,
          70,
          null,
          55,
          96,
          36,
          41,
          63,
          64,
          65,
          83,
          85,
          107,
          null,
          78,
          65,
          null,
          60,
          60,
          93,
          null,
          62,
          null,
          60,
          52,
          91,
          56,
          59,
          65,
          null,
          80,
          null,
          60,
          34,
          35,
          60,
          89,
          null,
          78,
          null,
          null,
          null,
          124,
          53,
          95,
          null,
          null,
          75,
          60,
          67,
          50,
          61,
          94,
          50,
          50,
          null,
          null,
          40,
          86,
          null,
          21,
          60,
          78,
          60,
          70,
          80,
          35,
          313,
          75,
          null,
          null,
          92,
          73,
          32,
          108,
          48,
          60,
          100,
          null,
          100,
          68,
          null,
          108,
          60,
          85,
          61,
          47,
          null,
          75,
          70,
          null,
          107,
          50,
          75,
          40,
          70,
          60,
          60,
          63,
          85,
          55,
          67,
          60,
          24,
          80,
          87,
          153,
          95,
          120,
          70,
          66,
          null,
          57,
          85,
          50,
          null,
          93,
          null,
          50,
          91,
          70,
          50,
          56,
          null,
          102,
          null,
          null,
          null,
          129,
          51,
          124,
          null,
          73,
          30,
          null,
          68,
          41,
          null,
          48,
          90,
          80,
          75,
          null,
          85,
          89,
          52,
          60,
          21,
          73,
          45,
          null,
          60,
          null,
          60,
          40,
          80,
          60,
          42,
          60,
          70,
          65,
          68,
          60,
          53,
          88,
          null,
          51,
          60,
          51,
          50,
          62,
          64,
          49,
          60,
          44,
          70,
          null,
          60,
          46,
          79,
          80,
          60,
          88,
          64,
          51,
          60,
          null,
          71,
          null,
          90,
          53,
          37,
          null,
          null,
          80,
          81,
          60,
          60,
          null,
          60,
          null,
          60,
          93,
          80,
          80,
          60,
          96,
          90,
          80,
          79,
          null,
          85,
          null,
          63,
          70,
          null,
          80,
          70,
          21,
          60,
          78,
          35,
          90,
          62,
          62,
          85,
          66,
          68,
          75
         ],
         "xaxis": "x",
         "yaxis": "y"
        },
        {
         "line": {
          "color": "black",
          "width": 2
         },
         "mode": "lines",
         "name": "Density Estimation",
         "type": "scatter",
         "x": [
          21,
          21.29229229229229,
          21.584584584584583,
          21.876876876876878,
          22.16916916916917,
          22.46146146146146,
          22.753753753753752,
          23.046046046046047,
          23.33833833833834,
          23.63063063063063,
          23.922922922922922,
          24.215215215215217,
          24.50750750750751,
          24.7997997997998,
          25.09209209209209,
          25.384384384384383,
          25.676676676676678,
          25.96896896896897,
          26.26126126126126,
          26.553553553553556,
          26.845845845845847,
          27.13813813813814,
          27.43043043043043,
          27.72272272272272,
          28.015015015015017,
          28.30730730730731,
          28.5995995995996,
          28.89189189189189,
          29.184184184184183,
          29.476476476476478,
          29.76876876876877,
          30.06106106106106,
          30.353353353353356,
          30.645645645645644,
          30.93793793793794,
          31.23023023023023,
          31.52252252252252,
          31.814814814814817,
          32.10710710710711,
          32.3993993993994,
          32.691691691691695,
          32.98398398398398,
          33.27627627627628,
          33.568568568568566,
          33.86086086086086,
          34.153153153153156,
          34.44544544544544,
          34.73773773773774,
          35.030030030030034,
          35.32232232232232,
          35.61461461461462,
          35.90690690690691,
          36.1991991991992,
          36.491491491491495,
          36.78378378378378,
          37.07607607607608,
          37.368368368368365,
          37.66066066066066,
          37.952952952952955,
          38.24524524524524,
          38.53753753753754,
          38.82982982982983,
          39.12212212212212,
          39.414414414414416,
          39.70670670670671,
          39.998998998999,
          40.29129129129129,
          40.58358358358359,
          40.87587587587588,
          41.168168168168165,
          41.46046046046046,
          41.752752752752755,
          42.04504504504504,
          42.33733733733734,
          42.62962962962963,
          42.92192192192192,
          43.214214214214216,
          43.50650650650651,
          43.7987987987988,
          44.091091091091094,
          44.38338338338339,
          44.67567567567568,
          44.967967967967965,
          45.26026026026026,
          45.552552552552555,
          45.84484484484484,
          46.13713713713714,
          46.42942942942943,
          46.72172172172172,
          47.014014014014016,
          47.30630630630631,
          47.5985985985986,
          47.890890890890894,
          48.18318318318319,
          48.47547547547548,
          48.767767767767765,
          49.06006006006006,
          49.352352352352355,
          49.64464464464464,
          49.93693693693694,
          50.22922922922923,
          50.52152152152152,
          50.813813813813816,
          51.10610610610611,
          51.3983983983984,
          51.690690690690694,
          51.98298298298299,
          52.27527527527528,
          52.567567567567565,
          52.85985985985987,
          53.152152152152155,
          53.44444444444445,
          53.73673673673674,
          54.02902902902903,
          54.32132132132132,
          54.613613613613616,
          54.90590590590591,
          55.1981981981982,
          55.490490490490494,
          55.78278278278278,
          56.07507507507508,
          56.36736736736737,
          56.65965965965966,
          56.951951951951955,
          57.24424424424425,
          57.53653653653654,
          57.82882882882883,
          58.12112112112112,
          58.413413413413416,
          58.70570570570571,
          58.997997997998,
          59.290290290290294,
          59.58258258258258,
          59.87487487487488,
          60.16716716716717,
          60.45945945945946,
          60.751751751751755,
          61.04404404404405,
          61.33633633633634,
          61.62862862862863,
          61.92092092092092,
          62.213213213213216,
          62.50550550550551,
          62.7977977977978,
          63.090090090090094,
          63.38238238238238,
          63.67467467467468,
          63.96696696696697,
          64.25925925925927,
          64.55155155155155,
          64.84384384384384,
          65.13613613613614,
          65.42842842842843,
          65.72072072072072,
          66.01301301301302,
          66.30530530530531,
          66.5975975975976,
          66.8898898898899,
          67.18218218218219,
          67.47447447447448,
          67.76676676676678,
          68.05905905905905,
          68.35135135135135,
          68.64364364364366,
          68.93593593593593,
          69.22822822822823,
          69.52052052052052,
          69.81281281281281,
          70.10510510510511,
          70.3973973973974,
          70.68968968968969,
          70.98198198198199,
          71.27427427427428,
          71.56656656656656,
          71.85885885885887,
          72.15115115115115,
          72.44344344344344,
          72.73573573573574,
          73.02802802802803,
          73.32032032032032,
          73.61261261261262,
          73.90490490490491,
          74.1971971971972,
          74.4894894894895,
          74.78178178178179,
          75.07407407407408,
          75.36636636636638,
          75.65865865865865,
          75.95095095095095,
          76.24324324324326,
          76.53553553553553,
          76.82782782782783,
          77.12012012012012,
          77.41241241241241,
          77.70470470470471,
          77.996996996997,
          78.28928928928929,
          78.58158158158159,
          78.87387387387388,
          79.16616616616616,
          79.45845845845847,
          79.75075075075075,
          80.04304304304304,
          80.33533533533534,
          80.62762762762763,
          80.91991991991992,
          81.21221221221222,
          81.50450450450451,
          81.7967967967968,
          82.0890890890891,
          82.38138138138139,
          82.67367367367368,
          82.96596596596598,
          83.25825825825825,
          83.55055055055055,
          83.84284284284286,
          84.13513513513513,
          84.42742742742743,
          84.71971971971973,
          85.01201201201202,
          85.30430430430431,
          85.5965965965966,
          85.8888888888889,
          86.18118118118119,
          86.47347347347348,
          86.76576576576576,
          87.05805805805807,
          87.35035035035035,
          87.64264264264264,
          87.93493493493494,
          88.22722722722723,
          88.51951951951952,
          88.81181181181182,
          89.10410410410411,
          89.3963963963964,
          89.6886886886887,
          89.98098098098099,
          90.27327327327328,
          90.56556556556556,
          90.85785785785787,
          91.15015015015015,
          91.44244244244244,
          91.73473473473474,
          92.02702702702703,
          92.31931931931932,
          92.61161161161162,
          92.90390390390391,
          93.1961961961962,
          93.4884884884885,
          93.78078078078079,
          94.07307307307308,
          94.36536536536536,
          94.65765765765767,
          94.94994994994995,
          95.24224224224224,
          95.53453453453454,
          95.82682682682683,
          96.11911911911912,
          96.41141141141142,
          96.70370370370371,
          96.995995995996,
          97.2882882882883,
          97.58058058058059,
          97.87287287287288,
          98.16516516516516,
          98.45745745745747,
          98.74974974974975,
          99.04204204204204,
          99.33433433433434,
          99.62662662662663,
          99.91891891891892,
          100.21121121121122,
          100.50350350350351,
          100.7957957957958,
          101.0880880880881,
          101.38038038038039,
          101.67267267267268,
          101.96496496496496,
          102.25725725725727,
          102.54954954954955,
          102.84184184184184,
          103.13413413413414,
          103.42642642642643,
          103.71871871871872,
          104.01101101101102,
          104.30330330330331,
          104.5955955955956,
          104.8878878878879,
          105.18018018018019,
          105.47247247247248,
          105.76476476476476,
          106.05705705705707,
          106.34934934934935,
          106.64164164164164,
          106.93393393393394,
          107.22622622622623,
          107.51851851851852,
          107.81081081081082,
          108.10310310310311,
          108.3953953953954,
          108.6876876876877,
          108.97997997997999,
          109.27227227227228,
          109.56456456456458,
          109.85685685685687,
          110.14914914914915,
          110.44144144144144,
          110.73373373373374,
          111.02602602602603,
          111.31831831831832,
          111.61061061061062,
          111.90290290290291,
          112.1951951951952,
          112.4874874874875,
          112.77977977977979,
          113.07207207207207,
          113.36436436436438,
          113.65665665665666,
          113.94894894894895,
          114.24124124124124,
          114.53353353353354,
          114.82582582582583,
          115.11811811811812,
          115.41041041041042,
          115.70270270270271,
          115.994994994995,
          116.2872872872873,
          116.57957957957959,
          116.87187187187187,
          117.16416416416418,
          117.45645645645646,
          117.74874874874875,
          118.04104104104104,
          118.33333333333334,
          118.62562562562563,
          118.91791791791792,
          119.21021021021022,
          119.50250250250251,
          119.7947947947948,
          120.0870870870871,
          120.37937937937939,
          120.67167167167167,
          120.96396396396398,
          121.25625625625626,
          121.54854854854855,
          121.84084084084084,
          122.13313313313314,
          122.42542542542543,
          122.71771771771772,
          123.01001001001002,
          123.30230230230231,
          123.5945945945946,
          123.8868868868869,
          124.17917917917919,
          124.47147147147147,
          124.76376376376378,
          125.05605605605606,
          125.34834834834835,
          125.64064064064064,
          125.93293293293294,
          126.22522522522523,
          126.51751751751752,
          126.80980980980982,
          127.10210210210211,
          127.3943943943944,
          127.6866866866867,
          127.97897897897899,
          128.27127127127127,
          128.56356356356358,
          128.85585585585585,
          129.14814814814815,
          129.44044044044045,
          129.73273273273276,
          130.02502502502503,
          130.3173173173173,
          130.6096096096096,
          130.9019019019019,
          131.1941941941942,
          131.4864864864865,
          131.7787787787788,
          132.07107107107106,
          132.36336336336336,
          132.65565565565566,
          132.94794794794797,
          133.24024024024024,
          133.53253253253254,
          133.82482482482482,
          134.11711711711712,
          134.40940940940942,
          134.70170170170172,
          134.993993993994,
          135.2862862862863,
          135.57857857857857,
          135.87087087087087,
          136.16316316316318,
          136.45545545545548,
          136.74774774774775,
          137.04004004004005,
          137.33233233233233,
          137.62462462462463,
          137.91691691691693,
          138.20920920920923,
          138.5015015015015,
          138.79379379379378,
          139.08608608608608,
          139.3783783783784,
          139.6706706706707,
          139.962962962963,
          140.25525525525526,
          140.54754754754754,
          140.83983983983984,
          141.13213213213214,
          141.42442442442444,
          141.71671671671672,
          142.00900900900902,
          142.3013013013013,
          142.5935935935936,
          142.8858858858859,
          143.1781781781782,
          143.47047047047047,
          143.76276276276278,
          144.05505505505505,
          144.34734734734735,
          144.63963963963965,
          144.93193193193196,
          145.22422422422423,
          145.5165165165165,
          145.8088088088088,
          146.1011011011011,
          146.3933933933934,
          146.6856856856857,
          146.977977977978,
          147.27027027027026,
          147.56256256256256,
          147.85485485485486,
          148.14714714714717,
          148.43943943943947,
          148.73173173173174,
          149.02402402402404,
          149.31631631631632,
          149.60860860860862,
          149.90090090090092,
          150.1931931931932,
          150.4854854854855,
          150.7777777777778,
          151.07007007007007,
          151.36236236236238,
          151.65465465465465,
          151.94694694694695,
          152.23923923923925,
          152.53153153153153,
          152.82382382382383,
          153.11611611611613,
          153.4084084084084,
          153.7007007007007,
          153.992992992993,
          154.28528528528528,
          154.57757757757759,
          154.8698698698699,
          155.16216216216216,
          155.45445445445446,
          155.74674674674677,
          156.03903903903904,
          156.33133133133134,
          156.62362362362364,
          156.91591591591592,
          157.20820820820822,
          157.50050050050052,
          157.7927927927928,
          158.0850850850851,
          158.3773773773774,
          158.66966966966967,
          158.96196196196198,
          159.25425425425425,
          159.54654654654655,
          159.83883883883885,
          160.13113113113113,
          160.42342342342343,
          160.71571571571573,
          161.008008008008,
          161.3003003003003,
          161.5925925925926,
          161.88488488488488,
          162.17717717717719,
          162.4694694694695,
          162.76176176176176,
          163.05405405405406,
          163.34634634634637,
          163.63863863863864,
          163.93093093093094,
          164.22322322322324,
          164.51551551551552,
          164.80780780780782,
          165.10010010010012,
          165.3923923923924,
          165.6846846846847,
          165.976976976977,
          166.26926926926927,
          166.56156156156158,
          166.85385385385385,
          167.14614614614615,
          167.43843843843845,
          167.73073073073073,
          168.02302302302303,
          168.31531531531533,
          168.6076076076076,
          168.8998998998999,
          169.1921921921922,
          169.48448448448448,
          169.77677677677679,
          170.0690690690691,
          170.36136136136136,
          170.65365365365366,
          170.94594594594597,
          171.23823823823824,
          171.53053053053054,
          171.82282282282284,
          172.11511511511512,
          172.40740740740742,
          172.69969969969972,
          172.991991991992,
          173.2842842842843,
          173.5765765765766,
          173.86886886886887,
          174.16116116116117,
          174.45345345345348,
          174.74574574574575,
          175.03803803803805,
          175.33033033033033,
          175.62262262262263,
          175.91491491491493,
          176.2072072072072,
          176.4994994994995,
          176.7917917917918,
          177.08408408408408,
          177.37637637637638,
          177.6686686686687,
          177.96096096096096,
          178.25325325325326,
          178.54554554554556,
          178.83783783783784,
          179.13013013013014,
          179.42242242242244,
          179.71471471471472,
          180.00700700700702,
          180.29929929929932,
          180.5915915915916,
          180.8838838838839,
          181.1761761761762,
          181.46846846846847,
          181.76076076076077,
          182.05305305305308,
          182.34534534534535,
          182.63763763763765,
          182.92992992992993,
          183.22222222222223,
          183.51451451451453,
          183.8068068068068,
          184.0990990990991,
          184.3913913913914,
          184.68368368368368,
          184.97597597597598,
          185.2682682682683,
          185.56056056056056,
          185.85285285285286,
          186.14514514514516,
          186.43743743743744,
          186.72972972972974,
          187.02202202202204,
          187.31431431431432,
          187.60660660660662,
          187.89889889889892,
          188.1911911911912,
          188.4834834834835,
          188.7757757757758,
          189.06806806806807,
          189.36036036036037,
          189.65265265265268,
          189.94494494494495,
          190.23723723723725,
          190.52952952952953,
          190.82182182182183,
          191.11411411411413,
          191.4064064064064,
          191.6986986986987,
          191.990990990991,
          192.28328328328328,
          192.57557557557558,
          192.8678678678679,
          193.16016016016016,
          193.45245245245246,
          193.74474474474476,
          194.03703703703704,
          194.32932932932934,
          194.62162162162164,
          194.91391391391392,
          195.20620620620622,
          195.49849849849852,
          195.7907907907908,
          196.0830830830831,
          196.3753753753754,
          196.66766766766767,
          196.95995995995997,
          197.25225225225228,
          197.54454454454455,
          197.83683683683685,
          198.12912912912915,
          198.42142142142143,
          198.71371371371373,
          199.006006006006,
          199.2982982982983,
          199.5905905905906,
          199.88288288288288,
          200.17517517517518,
          200.4674674674675,
          200.75975975975976,
          201.05205205205206,
          201.34434434434436,
          201.63663663663664,
          201.92892892892894,
          202.22122122122124,
          202.51351351351352,
          202.80580580580582,
          203.09809809809812,
          203.3903903903904,
          203.6826826826827,
          203.974974974975,
          204.26726726726727,
          204.55955955955957,
          204.85185185185188,
          205.14414414414415,
          205.43643643643645,
          205.72872872872875,
          206.02102102102103,
          206.31331331331333,
          206.6056056056056,
          206.8978978978979,
          207.1901901901902,
          207.48248248248248,
          207.77477477477478,
          208.0670670670671,
          208.35935935935936,
          208.65165165165166,
          208.94394394394396,
          209.23623623623624,
          209.52852852852854,
          209.82082082082084,
          210.11311311311312,
          210.40540540540542,
          210.69769769769772,
          210.98998998999,
          211.2822822822823,
          211.5745745745746,
          211.86686686686687,
          212.15915915915917,
          212.45145145145148,
          212.74374374374375,
          213.03603603603605,
          213.32832832832835,
          213.62062062062063,
          213.91291291291293,
          214.2052052052052,
          214.4974974974975,
          214.7897897897898,
          215.08208208208208,
          215.37437437437438,
          215.66666666666669,
          215.95895895895896,
          216.25125125125126,
          216.54354354354356,
          216.83583583583584,
          217.12812812812814,
          217.42042042042044,
          217.71271271271272,
          218.00500500500502,
          218.29729729729732,
          218.5895895895896,
          218.8818818818819,
          219.1741741741742,
          219.46646646646647,
          219.75875875875877,
          220.05105105105108,
          220.34334334334335,
          220.63563563563565,
          220.92792792792795,
          221.22022022022023,
          221.51251251251253,
          221.80480480480483,
          222.0970970970971,
          222.3893893893894,
          222.68168168168168,
          222.97397397397398,
          223.26626626626629,
          223.55855855855856,
          223.85085085085086,
          224.14314314314316,
          224.43543543543544,
          224.72772772772774,
          225.02002002002004,
          225.31231231231232,
          225.60460460460462,
          225.89689689689692,
          226.1891891891892,
          226.4814814814815,
          226.7737737737738,
          227.06606606606607,
          227.35835835835837,
          227.65065065065068,
          227.94294294294295,
          228.23523523523525,
          228.52752752752755,
          228.81981981981983,
          229.11211211211213,
          229.40440440440443,
          229.6966966966967,
          229.988988988989,
          230.28128128128128,
          230.57357357357358,
          230.86586586586589,
          231.15815815815816,
          231.45045045045046,
          231.74274274274276,
          232.03503503503504,
          232.32732732732734,
          232.61961961961964,
          232.91191191191191,
          233.20420420420422,
          233.49649649649652,
          233.7887887887888,
          234.0810810810811,
          234.3733733733734,
          234.66566566566567,
          234.95795795795797,
          235.25025025025028,
          235.54254254254255,
          235.83483483483485,
          236.12712712712715,
          236.41941941941943,
          236.71171171171173,
          237.00400400400403,
          237.2962962962963,
          237.5885885885886,
          237.88088088088088,
          238.17317317317318,
          238.46546546546548,
          238.75775775775776,
          239.05005005005006,
          239.34234234234236,
          239.63463463463464,
          239.92692692692694,
          240.21921921921924,
          240.51151151151151,
          240.80380380380382,
          241.09609609609612,
          241.3883883883884,
          241.6806806806807,
          241.972972972973,
          242.26526526526527,
          242.55755755755757,
          242.84984984984987,
          243.14214214214215,
          243.43443443443445,
          243.72672672672675,
          244.01901901901903,
          244.31131131131133,
          244.60360360360363,
          244.8958958958959,
          245.1881881881882,
          245.48048048048048,
          245.77277277277278,
          246.06506506506508,
          246.35735735735736,
          246.64964964964966,
          246.94194194194196,
          247.23423423423424,
          247.52652652652654,
          247.81881881881884,
          248.11111111111111,
          248.40340340340342,
          248.69569569569572,
          248.987987987988,
          249.2802802802803,
          249.5725725725726,
          249.86486486486487,
          250.15715715715717,
          250.44944944944947,
          250.74174174174175,
          251.03403403403405,
          251.32632632632635,
          251.61861861861863,
          251.91091091091093,
          252.20320320320323,
          252.4954954954955,
          252.7877877877878,
          253.0800800800801,
          253.37237237237238,
          253.66466466466468,
          253.95695695695696,
          254.24924924924926,
          254.54154154154156,
          254.83383383383384,
          255.12612612612614,
          255.41841841841844,
          255.7107107107107,
          256.003003003003,
          256.2952952952953,
          256.58758758758756,
          256.8798798798799,
          257.17217217217217,
          257.46446446446447,
          257.7567567567568,
          258.0490490490491,
          258.3413413413414,
          258.6336336336336,
          258.925925925926,
          259.2182182182182,
          259.5105105105105,
          259.80280280280283,
          260.0950950950951,
          260.38738738738743,
          260.6796796796797,
          260.971971971972,
          261.2642642642643,
          261.55655655655653,
          261.8488488488489,
          262.14114114114113,
          262.43343343343344,
          262.72572572572574,
          263.01801801801804,
          263.31031031031034,
          263.6026026026026,
          263.89489489489495,
          264.1871871871872,
          264.4794794794795,
          264.7717717717718,
          265.06406406406404,
          265.3563563563564,
          265.64864864864865,
          265.94094094094095,
          266.23323323323325,
          266.52552552552555,
          266.81781781781785,
          267.1101101101101,
          267.40240240240246,
          267.6946946946947,
          267.986986986987,
          268.2792792792793,
          268.57157157157155,
          268.8638638638639,
          269.15615615615616,
          269.44844844844846,
          269.74074074074076,
          270.033033033033,
          270.32532532532537,
          270.6176176176176,
          270.9099099099099,
          271.2022022022022,
          271.4944944944945,
          271.7867867867868,
          272.07907907907907,
          272.3713713713714,
          272.66366366366367,
          272.955955955956,
          273.2482482482483,
          273.5405405405405,
          273.8328328328329,
          274.1251251251251,
          274.4174174174174,
          274.7097097097097,
          275.00200200200203,
          275.29429429429433,
          275.5865865865866,
          275.87887887887894,
          276.1711711711712,
          276.4634634634635,
          276.7557557557558,
          277.0480480480481,
          277.34034034034033,
          277.63263263263264,
          277.92492492492494,
          278.21721721721724,
          278.50950950950954,
          278.80180180180184,
          279.0940940940941,
          279.3863863863864,
          279.6786786786787,
          279.970970970971,
          280.2632632632633,
          280.5555555555556,
          280.84784784784785,
          281.14014014014015,
          281.43243243243245,
          281.72472472472475,
          282.01701701701705,
          282.3093093093093,
          282.6016016016016,
          282.8938938938939,
          283.1861861861862,
          283.4784784784785,
          283.7707707707708,
          284.06306306306305,
          284.35535535535536,
          284.64764764764766,
          284.93993993993996,
          285.23223223223226,
          285.52452452452457,
          285.8168168168168,
          286.1091091091091,
          286.4014014014014,
          286.6936936936937,
          286.985985985986,
          287.2782782782783,
          287.57057057057057,
          287.86286286286287,
          288.15515515515517,
          288.4474474474475,
          288.7397397397398,
          289.032032032032,
          289.3243243243243,
          289.6166166166166,
          289.9089089089089,
          290.20120120120123,
          290.49349349349353,
          290.7857857857858,
          291.0780780780781,
          291.3703703703704,
          291.6626626626627,
          291.954954954955,
          292.2472472472473,
          292.53953953953953,
          292.83183183183183,
          293.12412412412414,
          293.41641641641644,
          293.70870870870874,
          294.00100100100104,
          294.2932932932933,
          294.5855855855856,
          294.8778778778779,
          295.1701701701702,
          295.4624624624625,
          295.7547547547548,
          296.04704704704704,
          296.33933933933935,
          296.63163163163165,
          296.92392392392395,
          297.21621621621625,
          297.5085085085085,
          297.8008008008008,
          298.0930930930931,
          298.3853853853854,
          298.6776776776777,
          298.96996996997,
          299.26226226226225,
          299.55455455455456,
          299.84684684684686,
          300.13913913913916,
          300.43143143143146,
          300.72372372372377,
          301.016016016016,
          301.3083083083083,
          301.6006006006006,
          301.8928928928929,
          302.1851851851852,
          302.4774774774775,
          302.76976976976977,
          303.06206206206207,
          303.35435435435437,
          303.6466466466467,
          303.938938938939,
          304.2312312312313,
          304.5235235235235,
          304.8158158158158,
          305.1081081081081,
          305.40040040040043,
          305.69269269269273,
          305.984984984985,
          306.2772772772773,
          306.5695695695696,
          306.8618618618619,
          307.1541541541542,
          307.4464464464465,
          307.73873873873873,
          308.03103103103103,
          308.32332332332334,
          308.61561561561564,
          308.90790790790794,
          309.20020020020024,
          309.4924924924925,
          309.7847847847848,
          310.0770770770771,
          310.3693693693694,
          310.6616616616617,
          310.953953953954,
          311.24624624624624,
          311.53853853853855,
          311.83083083083085,
          312.12312312312315,
          312.41541541541545,
          312.7077077077077,
          313
         ],
         "y": [
          0.0025091471449890964,
          0.0025575851390408216,
          0.0026030340218601063,
          0.0026454707643285918,
          0.0026849037759532667,
          0.002721372886700904,
          0.0027549489026077365,
          0.0027857327385914497,
          0.002813854139441458,
          0.002839470007391634,
          0.0028627623618222497,
          0.0028839359633454436,
          0.0029032156406497787,
          0.0029208433638853006,
          0.0029370751129406706,
          0.0029521775926010774,
          0.002966424849201684,
          0.0029800948449517,
          0.002993466046571067,
          0.0030068140842470174,
          0.003020408535205722,
          0.003034509883446889,
          0.0030493667034755,
          0.003065213111273114,
          0.003082266520390162,
          0.003100725735030784,
          0.0031207694054812235,
          0.0031425548643437573,
          0.0031662173549303124,
          0.0031918696559936036,
          0.0032196020998753083,
          0.0032494829742742083,
          0.0032815592913115845,
          0.0033158579015179863,
          0.0033523869248882885,
          0.00339113746633969,
          0.0034320855788277913,
          0.0034751944340801846,
          0.0035204166584266263,
          0.0035676967895492315,
          0.00361697380914035,
          0.003668183706416618,
          0.0037212620281526602,
          0.00377614637232185,
          0.0038327787844948122,
          0.00389110801878446,
          0.003951091628261804,
          0.0040126978533200006,
          0.004075907280359556,
          0.0041407142473269725,
          0.004207127976990519,
          0.004275173423313082,
          0.004344891820822656,
          0.004416340931431965,
          0.004489594987673288,
          0.004564744335754217,
          0.004641894786167119,
          0.004721166683775519,
          0.0048026937133235905,
          0.004886621460148466,
          0.004973105749494167,
          0.0050623107912032995,
          0.005154407159671798,
          0.005249569641751543,
          0.005347974987746728,
          0.005449799602715901,
          0.005555217216919032,
          0.005664396575379813,
          0.005777499187107887,
          0.0058946771744838155,
          0.006016071262594199,
          0.006141808946856388,
          0.00627200287505244,
          0.006406749476856705,
          0.006546127870079941,
          0.006690199068157312,
          0.006839005507909528,
          0.006992570910341391,
          0.0071509004802996325,
          0.007313981443287441,
          0.0074817839097582935,
          0.0076542620489608295,
          0.007831355546051848,
          0.008012991307954787,
          0.00819908537554789,
          0.008389544992447205,
          0.008584270774165225,
          0.008783158916003493,
          0.008986103373924382,
          0.009192997950037968,
          0.009403738213432572,
          0.009618223188006385,
          0.009836356741835266,
          0.010058048617470937,
          0.010283215049420733,
          0.010511778923820372,
          0.010743669445865066,
          0.010978821292702749,
          0.01121717324297453,
          0.011458666288687445,
          0.011703241250275097,
          0.011950835931140272,
          0.012201381863239524,
          0.01245480070993647,
          0.012711000405938798,
          0.012969871126230085,
          0.013231281186068068,
          0.013495072981984093,
          0.013761059088950497,
          0.014029018631222022,
          0.014298694043613818,
          0.014569788336063783,
          0.014841962967206053,
          0.01511483642245913,
          0.015387983578974853,
          0.015660935923957266,
          0.015933182674727084,
          0.01620417282887546,
          0.01647331815144526,
          0.01673999708381997,
          0.01700355953651303,
          0.017263332505886592,
          0.017518626433652887,
          0.01776874220835738,
          0.018012978690502345,
          0.018250640628025776,
          0.018481046816934067,
          0.01870353835335778,
          0.018917486818404144,
          0.01912230223608275,
          0.019317440647327523,
          0.01950241114966591,
          0.01967678226224425,
          0.01984018748942278,
          0.019992329972666166,
          0.02013298613951677,
          0.02026200827956254,
          0.020379325999912205,
          0.020484946536205643,
          0.020578953918971524,
          0.02066150701861661,
          0.020732836514878544,
          0.020793240857655996,
          0.02084308130523767,
          0.02088277614265032,
          0.020912794196778325,
          0.020933647775795438,
          0.020945885168117545,
          0.020950082840442627,
          0.02094683747549926,
          0.02093675798797298,
          0.020920457651911556,
          0.020898546464975572,
          0.020871623864528174,
          0.020840271898138762,
          0.02080504893700105,
          0.020766484005515763,
          0.020725071784296032,
          0.020681268327572822,
          0.020635487519866335,
          0.02058809828123214,
          0.02053942251576123,
          0.020489733784652523,
          0.0204392566733059,
          0.02038816681174419,
          0.020336591499378748,
          0.020284610878752603,
          0.02023225959846068,
          0.020179528902874833,
          0.02012636908550704,
          0.02007269224367169,
          0.020018375274351363,
          0.019963263054622527,
          0.019907171754398528,
          0.01984989223435523,
          0.01979119348745208,
          0.01973082608820014,
          0.019668525619531103,
          0.019604016052569208,
          0.019537013059623114,
          0.019467227245153387,
          0.019394367283210447,
          0.019318142952826675,
          0.01923826806503397,
          0.019154463276576175,
          0.019066458786045824,
          0.018973996908146124,
          0.018876834521191703,
          0.018774745381903005,
          0.01866752230018181,
          0.01855497916501295,
          0.018436952811054258,
          0.01831330471402645,
          0.018183922501792897,
          0.018048721267176222,
          0.01790764466817062,
          0.01776066580136353,
          0.01760778783512497,
          0.01744904439047915,
          0.017284499659539397,
          0.017114248253934525,
          0.01693841477872356,
          0.016757153130816643,
          0.016570645524786643,
          0.016379101253070884,
          0.016182755191784276,
          0.01598186606759361,
          0.015776714505181727,
          0.015567600878649708,
          0.015354842993651627,
          0.015138773630006269,
          0.014919737976913337,
          0.014698090994635456,
          0.014474194737537562,
          0.01424841567368516,
          0.014021122035766427,
          0.01379268123695219,
          0.013563457383468652,
          0.013333808913176563,
          0.013104086386430564,
          0.01287463045197309,
          0.012645770006746868,
          0.012417820564352094,
          0.01219108284257376,
          0.011965841576044287,
          0.01174236455582323,
          0.011520901893551068,
          0.011301685503977095,
          0.011084928796152988,
          0.010870826560495874,
          0.010659555036313178,
          0.01045127214228767,
          0.010246117850877035,
          0.010044214686579768,
          0.009845668327574176,
          0.00965056829030392,
          0.009458988677147433,
          0.009270988968300566,
          0.00908661484038864,
          0.00890589899601526,
          0.008728861990400147,
          0.008555513043371763,
          0.00838585082719095,
          0.008219864222920105,
          0.00805753304024181,
          0.007898828697717448,
          0.007743714862397024,
          0.007592148049401298,
          0.007444078183562307,
          0.007299449126396352,
          0.00715819917258176,
          0.007020261520718621,
          0.00688556472345834,
          0.006754033122129637,
          0.006625587270770384,
          0.006500144354041903,
          0.006377618602875284,
          0.006257921710941095,
          0.0061409632541636755,
          0.006026651114584025,
          0.005914891908942694,
          0.0058055914214530605,
          0.005698655039400776,
          0.005593988189472422,
          0.0054914967721089655,
          0.005391087590718467,
          0.005292668772282963,
          0.005196150175751911,
          0.005101443784640748,
          0.005008464080423053,
          0.004917128393614905,
          0.004827357229870554,
          0.004739074568918458,
          0.004652208134736479,
          0.004566689635960844,
          0.004482454976120785,
          0.004399444433853164,
          0.004317602813756922,
          0.004236879568967475,
          0.004157228896852759,
          0.004078609809432817,
          0.004000986180207012,
          0.003924326769023761,
          0.0038486052264610636,
          0.003773800078907207,
          0.0036998946951578,
          0.003626877234899344,
          0.0035547405789560357,
          0.003483482240661294,
          0.0034131042572127465,
          0.0033436130594048387,
          0.00327501931773912,
          0.003207337762614765,
          0.003140586976126926,
          0.0030747891529639276,
          0.0030099698280160823,
          0.0029461575685923998,
          0.0028833836295932137,
          0.002821681570599789,
          0.0027610868346057437,
          0.0027016362890135513,
          0.0026433677305280224,
          0.00258631935666879,
          0.0025305292077646476,
          0.0024760345844458548,
          0.002422871446779773,
          0.0023710738022615476,
          0.002320673090835779,
          0.0022716975759515686,
          0.00222417175130843,
          0.00217811577340361,
          0.002133544930220576,
          0.0020904691563823946,
          0.00204889260482387,
          0.002008813284505946,
          0.0019702227729093305,
          0.0019331060110117754,
          0.0018974411871921573,
          0.0018631997150396103,
          0.001830346308408457,
          0.001798839155284917,
          0.001768630190161577,
          0.0017396654626936237,
          0.0017118855984837782,
          0.0016852263459579775,
          0.0016596192014982642,
          0.001634992103337854,
          0.0016112701832399683,
          0.0015883765637130173,
          0.0015662331874957756,
          0.0015447616653026144,
          0.0015238841273725638,
          0.0015035240642291095,
          0.0014836071422358065,
          0.0014640619800235552,
          0.0014448208726573076,
          0.0014258204514858781,
          0.0014070022689519986,
          0.0013883132991993222,
          0.0013697063470608853,
          0.0013511403599076102,
          0.001332580638829497,
          0.0013139989476683993,
          0.0012953735204710097,
          0.0012766889699340129,
          0.0012579361013250901,
          0.001239111638137163,
          0.0012202178673309922,
          0.0012012622134064742,
          0.0011822567516874942,
          0.0011632176720868428,
          0.0011441647052207833,
          0.001125120523061139,
          0.0011061101263450989,
          0.0010871602307182258,
          0.0010682986630782979,
          0.0010495537788386931,
          0.0010309539098665025,
          0.0010125268517053746,
          0.0009942993974012327,
          0.0009762969238500657,
          0.0009585430351204455,
          0.0009410592657102853,
          0.0009238648452171623,
          0.0009069765244719642,
          0.0008904084618414691,
          0.0008741721671774753,
          0.0008582764998042112,
          0.0008427277160130381,
          0.0008275295607885311,
          0.0008126833979325202,
          0.0007981883723854401,
          0.0007840415983649667,
          0.0007702383669424621,
          0.0007567723668452384,
          0.000743635912589867,
          0.0007308201744981893,
          0.0007183154056997344,
          0.0007061111618568961,
          0.0006941965100364319,
          0.0006825602238663203,
          0.0006711909628360343,
          0.0006600774342967443,
          0.0006492085373750855,
          0.000638573488611472,
          0.0006281619296564239,
          0.0006179640177950477,
          0.0006079705004130001,
          0.0005981727747636567,
          0.0005885629345459932,
          0.0005791338048598487,
          0.0005698789670767165,
          0.0005607927750600877,
          0.0005518703640017241,
          0.0005431076529230759,
          0.0005345013416394468,
          0.0005260489027140509,
          0.0005177485686553635,
          0.0005095993143490926,
          0.0005016008344793417,
          0.0004937535154944291,
          0.0004860584015213082,
          0.0004785171535365788,
          0.00047113200106695455,
          0.0004639056857203958,
          0.0004568413959409843,
          0.00044994269253342085,
          0.0004432134247115881,
          0.0004366576366828844,
          0.00043027946507655414,
          0.0004240830278493651,
          0.00041807230564371294,
          0.0004122510169187261,
          0.00040662248851125454,
          0.000401189523597693,
          0.0003959542693070287,
          0.00039091808646887885,
          0.00038608142415746076,
          0.00038144370180488095,
          0.0003770032016984575,
          0.0003727569746423748,
          0.00036870076145196053,
          0.00036482893275928126,
          0.00036113444934442066,
          0.0003576088448724774,
          0.00035424223251925,
          0.00035102333651770986,
          0.0003479395491635875,
          0.0003449770132938234,
          0.00034212072970958124,
          0.00033935468846988423,
          0.0003366620224469667,
          0.000334025181024183,
          0.0003314261213454112,
          0.00032884651410391226,
          0.0003262679604999561,
          0.00032367221670993624,
          0.0003210414220030204,
          0.0003183583265203569,
          0.0003156065146999461,
          0.00031277062038854195,
          0.0003098365298290489,
          0.00030679156894412017,
          0.0003036246716480736,
          0.000300326526301811,
          0.0002968896978692222,
          0.0002933087238272339,
          0.0002895801824124921,
          0.00028570273234220596,
          0.0002816771237109918,
          0.00027750618032557994,
          0.00027319475428139476,
          0.00026874965409629155,
          0.00026417954818531655,
          0.0002594948458757882,
          0.0002547075585154957,
          0.00024983114351147007,
          0.0002448803343478072,
          0.00023987095976565025,
          0.00023481975534613082,
          0.0002297441707194472,
          0.00022466217553379948,
          0.00021959206716212404,
          0.0002145522829094372,
          0.00020956121921759303,
          0.00020463706005677504,
          0.00019979761635438085,
          0.0001950601779527278,
          0.0001904413792179094,
          0.00018595707905371607,
          0.00018162225571671282,
          0.00017745091649044205,
          0.00017345602196646562,
          0.00016964942440431902,
          0.00016604181940691395,
          0.00016264270995648515,
          0.00015946038171119279,
          0.00015650188836493923,
          0.00015377304582226084,
          0.00015127843393434063,
          0.0001490214045781318,
          0.00014700409493400624,
          0.0001452274449230747,
          0.0001436912178975956,
          0.00014239402383032845,
          0.00014133334441476022,
          0.000140505559661215,
          0.00013990597574744894,
          0.00013952885405028802,
          0.00013936744144150013,
          0.00013941400207132963,
          0.00013965985098262352,
          0.0001400953899936996,
          0.00014071014635636664,
          0.0001414928147350156,
          0.00014243130306257947,
          0.00014351278280937797,
          0.0001447237441522943,
          0.00014605005645598626,
          0.0001474770343772979,
          0.00014898950978173699,
          0.00015057190952039385,
          0.00015220833896108043,
          0.00015388267100317104,
          0.000155578640136349,
          0.00015727994093403912,
          0.0001589703302076377,
          0.0001606337318925664,
          0.00016225434359633568,
          0.0001638167436165562,
          0.00016530599713716313,
          0.00016670776023750434,
          0.00016800838030425609,
          0.0001691949914225924,
          0.00017025560334212375,
          0.00017117918266545767,
          0.00017195572499266237,
          0.0001725763168723454,
          0.00017303318655754234,
          0.0001733197427393731,
          0.00017343060062983395,
          0.00017336159498282757,
          0.00017310977987460425,
          0.00017267341530569107,
          0.00017205194093024097,
          0.00017124593745942844,
          0.00017025707651689083,
          0.00016908805994023433,
          0.00016774254971754389,
          0.00016622508991643662,
          0.0001645410221008609,
          0.00016269639583379753,
          0.0001606978759294092,
          0.0001585526481441921,
          0.00015626832498259917,
          0.00015385285323888585,
          0.0001513144248051281,
          0.00014866139214818628,
          0.00014590218969953513,
          0.00014304526221598567,
          0.00014009900096175916,
          0.00013707168833916402,
          0.00013397145136265895,
          0.00013080622413596475,
          0.00012758371926072936,
          0.0001243114078844492,
          0.00012099650789083962,
          0.00011764597955303553,
          0.00011426652781347834,
          0.00011086461022777753,
          0.00010744644951598767,
          0.00010401804960518722,
          0.00010058521402254758,
          0.00009715356550771656,
          0.00009372856575568492,
          0.00009031553427383855,
          0.0000869196654362754,
          0.00008354604294051296,
          0.0000801996510118953,
          0.0000768853818542272,
          0.0000736080390062356,
          0.00007037233642716016,
          0.00006718289329597301,
          0.0000640442246626568,
          0.00006096072823231049,
          0.00005793666768979761,
          0.000054976153081117806,
          0.00005208311885531412,
          0.00004926130023587918,
          0.000046514208632520164,
          0.00004384510682269454,
          0.00004125698462824266,
          0.00003875253578700895,
          0.00003633413667451498,
          0.00003400382746890143,
          0.000031763296276241476,
          0.000029613866646035266,
          0.000027556488811340964,
          0.00002559173488785465,
          0.000023719798164452057,
          0.000021940496517247578,
          0.000020253279882845647,
          0.00001865724163662794,
          0.000017151133640650388,
          0.000015733384654744068,
          0.000014402121744913388,
          0.000013155194275953398,
          0.000011990200040748603,
          0.000010904513056969841,
          0.000009895312552483682,
          0.000008959612663069618,
          0.000008094292379013852,
          0.00000729612529967974,
          0.000006561808785868511,
          0.000005887992137269028,
          0.000005271303465019302,
          0.000004708374975884903,
          0.000004195866433317035,
          0.000003730486610304124,
          0.0000033090125981986933,
          0.0000029283068834487505,
          0.000002585332149398033,
          0.000002277163802237301,
          0.0000020010002581369134,
          0.0000017541710620994128,
          0.000001534142937838546,
          0.0000013385238918606028,
          0.0000011650655138931103,
          0.0000010116636299894947,
          8.763574742609075e-7,
          7.573275505596054e-7,
          6.528923569454427e-7,
          5.615041438336185e-7,
          4.817438718138467e-7,
          4.123155277203286e-7,
          3.520399480965948e-7,
          2.998482882010312e-7,
          2.547752625767258e-7,
          2.159522703697388e-7,
          1.8260050539200196e-7,
          1.5402413771277994e-7,
          1.296036406068992e-7,
          1.087893242220037e-7,
          9.109512553918811e-8,
          7.609269323597444e-8,
          6.340579602173585e-8,
          5.270507396946195e-8,
          4.3703144347636804e-8,
          3.615006646634612e-8,
          2.982916407260256e-8,
          2.4553198821210045e-8,
          2.0160884253912308e-8,
          1.6513726473628395e-8,
          1.3493175227051076e-8,
          1.0998067327685704e-8,
          8.942343180525905e-9,
          7.253016527361622e-9,
          5.868377339111844e-9,
          4.736407963237412e-9,
          3.813393120176588e-9,
          3.0627050685959865e-9,
          2.453746167293836e-9,
          1.9610321006864454e-9,
          1.5634001604750764e-9,
          1.2433281503293419e-9,
          9.863506714382244e-10,
          7.805607285046117e-10,
          6.161857474142364e-10,
          4.852282013476356e-10,
          3.8116208964809535e-10,
          2.986774950721216e-10,
          2.3346635497571787e-10,
          1.8204341795764114e-10,
          1.415971190262282e-10,
          1.0986579469762577e-10,
          8.503527708363948e-11,
          6.565445646713313e-11,
          5.0565889242921037e-11,
          3.8848957007346035e-11,
          2.97734578219647e-11,
          2.2761837135569534e-11,
          1.7358548339756136e-11,
          1.3205276111675085e-11,
          1.0020963985568516e-11,
          7.58576513156895e-12,
          5.728185931944161e-12,
          4.314819127846167e-12,
          3.2421702268620957e-12,
          2.430170348880975e-12,
          1.8170432655261e-12,
          1.35525627979248e-12,
          1.0083357440586295e-12,
          7.483701189310561e-13,
          5.540579947497445e-13,
          4.091866876324283e-13,
          3.0144995438587273e-13,
          2.2153195510615957e-13,
          1.6239959669382113e-13,
          1.1875745962001716e-13,
          8.662918280147633e-14,
          6.303690523257314e-14,
          4.575650862776778e-14,
          3.31312779019322e-14,
          2.3930446019447508e-14,
          1.724212073909312e-14,
          1.2392468972226808e-14,
          8.884894090296107e-15,
          6.354390721383686e-15,
          4.5333871518731106e-15,
          3.2262567572065748e-15,
          2.2903521343521447e-15,
          1.6219325722995538e-15,
          1.1457517488947643e-15,
          8.073752848726557e-16,
          5.675283410594865e-16,
          3.9794846314051435e-16,
          2.783513151414531e-16,
          1.9421684076080147e-16,
          1.3517850826240025e-16,
          9.385460038659086e-17,
          6.50025847963868e-17,
          4.490894262296115e-17,
          3.095010811251347e-17,
          2.1277404230029786e-17,
          1.4591577565154703e-17,
          9.981894556128239e-18,
          6.811626565055537e-18,
          4.636772659714433e-18,
          3.148530411301022e-18,
          2.1326868748479327e-18,
          1.4410312922824644e-18,
          9.712853464614873e-19,
          6.530514062239331e-19,
          4.38000903624432e-19,
          2.930419174360138e-19,
          1.9557421231515537e-19,
          1.3020286245400328e-19,
          8.64682307404603e-20,
          5.72822027832063e-20,
          3.7853840120875077e-20,
          2.495325880293044e-20,
          1.6408606167930164e-20,
          1.076324444925258e-20,
          7.04274245881441e-21,
          4.596925872908789e-21,
          2.993093495241178e-21,
          1.9440174268996583e-21,
          1.2595259274089752e-21,
          8.140313986218297e-22,
          5.2481022454328875e-22,
          3.3751299882525425e-22,
          2.1652388190605952e-22,
          1.3856329103676426e-22,
          8.845403697939352e-23,
          5.632668735499078e-23,
          3.5779794778520856e-23,
          2.2671933666411856e-23,
          1.4330665569240155e-23,
          9.035896370073294e-24,
          5.683334307094918e-24,
          3.565843226714457e-24,
          2.2317645162242817e-24,
          1.3933543294739398e-24,
          8.67764450424168e-25,
          5.390998578209187e-25,
          3.3409014083629844e-25,
          2.0653096827794289e-25,
          1.2736021448029064e-25,
          7.834467102412513e-26,
          4.8074216996124326e-26,
          2.9426733501347055e-26,
          1.7967968238643757e-26,
          1.0944173377950259e-26,
          6.649577253654846e-27,
          4.030251843870891e-27,
          2.4366739069195822e-27,
          1.4695681065410624e-27,
          8.84115698507488e-28,
          5.305857310762218e-28,
          3.1763556017850235e-28,
          1.8968359461696034e-28,
          1.1299457226230508e-28,
          6.71448506840243e-29,
          3.9801152685589236e-29,
          2.3534657094664455e-29,
          1.3882058348512163e-29,
          8.168591367191679e-30,
          4.795443538624211e-30,
          2.8094586256285e-30,
          1.644004278969248e-30,
          9.633725458105334e-31,
          5.6967887488172766e-31,
          3.474544145549699e-31,
          2.310218357907603e-31,
          1.857937845335695e-31,
          1.983738605972843e-31,
          2.7273619938519114e-31,
          4.314369643901552e-31,
          7.222134901073797e-31,
          1.2318296601632598e-30,
          2.111031760305105e-30,
          3.617520245115637e-30,
          6.1887181109518314e-30,
          1.0564090734852417e-29,
          1.7989890087326955e-29,
          3.0560784352886896e-29,
          5.178830506379471e-29,
          8.754419280456512e-29,
          1.4762180660095043e-28,
          2.483138335172708e-28,
          4.166567663080203e-28,
          6.974017866904235e-28,
          1.164433667842563e-27,
          1.9394274138820365e-27,
          3.2222511175513176e-27,
          5.340381862182454e-27,
          8.82901628061924e-27,
          1.4560604287922456e-26,
          2.395375244846213e-26,
          3.930925299606236e-26,
          6.434919242330193e-26,
          1.0507961843009315e-25,
          1.7116735882528795e-25,
          2.781316984265613e-25,
          4.508240772436021e-25,
          7.289383395545164e-25,
          1.175713649097947e-24,
          1.8916439817826974e-24,
          3.0360178610107275e-24,
          4.860672020008748e-24,
          7.762746228974665e-24,
          1.2366919575559802e-23,
          1.9653267266923477e-23,
          3.115552400554653e-23,
          4.9267716766079223e-23,
          7.771715396784044e-23,
          1.2229210385611432e-22,
          1.9195835558035084e-22,
          3.0056797225941616e-22,
          4.694674195121598e-22,
          7.314679316808836e-22,
          1.1368736479867536e-21,
          1.762609818668155e-21,
          2.7260087549496123e-21,
          4.205575012907556e-21,
          6.472180151152869e-21,
          9.935801052257677e-21,
          1.521536071339697e-20,
          2.3242813351226157e-20,
          3.541785150564933e-20,
          5.3837242429314996e-20,
          8.16338872712007e-20,
          1.2347675963525119e-19,
          1.8630608791680377e-19,
          2.8041158056023944e-19,
          4.2100952381463153e-19,
          6.305433813340394e-19,
          9.420307916639763e-19,
          1.4039198091857819e-18,
          2.0871159712042205e-18,
          3.0951231748712374e-18,
          4.5786386379289875e-18,
          6.756501488341816e-18,
          9.945679519835475e-18,
          1.4604077232848016e-17,
          2.1391481205369152e-17,
          3.1256091518623793e-17,
          4.5557046269661923e-17,
          6.623743757463882e-17,
          9.606795901601011e-17,
          1.3898908029523761e-16,
          2.005902752650843e-16,
          2.88779356073115e-16,
          4.1471475677912034e-16,
          5.941004902061163e-16,
          8.489799004406567e-16,
          1.2102134697437263e-15,
          1.7208920661832293e-15,
          2.4410257375323166e-15,
          3.4539668165095695e-15,
          4.8751843110986526e-15,
          6.864216831655728e-15,
          9.640909909640326e-15,
          1.3507411521682198e-14,
          1.8877884057063677e-14,
          2.6318526674725924e-14,
          3.6601333541331616e-14,
          5.077609762315812e-14,
          7.026657865555086e-14,
          9.699857889456426e-14,
          1.3357002627407819e-13,
          1.8347619601313093e-13,
          2.514070890330262e-13,
          3.4363895348897844e-13,
          4.685482629731221e-13,
          6.372844956017961e-13,
          8.646482153238486e-13,
          1.1702337582333116e-12,
          1.5799119034944475e-12,
          2.1277480261487682e-12,
          2.858476311702621e-12,
          3.830681770254072e-12,
          5.120880348284672e-12,
          6.828734977633037e-12,
          9.083703790899506e-12,
          1.205348816736606e-11,
          1.595473532294623e-11,
          2.1066555808956327e-11,
          2.7747543988863433e-11,
          3.645714328008218e-11,
          4.778238219242905e-11,
          6.247122706950043e-11,
          8.147405866931674e-11,
          1.0599508867115646e-10,
          1.3755589587645884e-10,
          1.7807368791902462e-10,
          2.2995739093311684e-10,
          2.962252455731001e-10,
          3.806482521490834e-10,
          4.879245697785321e-10,
          6.238908436916792e-10,
          7.957774202226874e-10,
          1.0125155189709861e-9,
          1.2851056734445117e-9,
          1.6270581308798785e-9,
          2.0549174223151e-9,
          2.58888497581292e-9,
          3.2535554456452844e-9,
          4.078784360148015e-9,
          5.100706737003183e-9,
          6.362928456186456e-9,
          7.917914389033015e-9,
          9.82859951892302e-9,
          1.2170251506665674e-8,
          1.503261529193682e-8,
          1.8522372308718143e-8,
          2.276594864162775e-8,
          2.7912707861330767e-8,
          3.413856523622483e-8,
          4.165006039526879e-8,
          5.068892517001194e-8,
          6.153718211663551e-8,
          7.452280694386975e-8,
          9.002598457423492e-8,
          1.0848598366290592e-7,
          1.3040866790848738e-7,
          1.5637465423503037e-7,
          1.8704811773683295e-7,
          2.2318623100713778e-7,
          2.6564921099362396e-7,
          3.154109297480032e-7,
          3.7357002631726664e-7,
          4.413614355694249e-7,
          5.20168226027488e-7,
          6.115336129510879e-7,
          7.171729851847214e-7,
          8.389857550110422e-7,
          9.790668098297986e-7,
          0.0000011397173134615752,
          0.000001323454573886672,
          0.0000015330206640255888,
          0.000001771389453603487,
          0.000002041771684169938,
          0.000002347617697008893,
          0.0000026926174060891507,
          0.0000030806970965279565,
          0.0000035160126244631855,
          0.000004002938597932102,
          0.000004546053131469215,
          0.000005150117790727402,
          0.000005820052378421963,
          0.0000065609042600617546,
          0.0000073778119878193946,
          0.00000827596305378883,
          0.000009260545689779965,
          0.000010336694729345636,
          0.00001150943165820777,
          0.000012783599100507276,
          0.000014163790118809912,
          0.000015654272843574356,
          0.00001725891109044992,
          0.00001898108176852845,
          0.000020823590026368018,
          0.000022788583221802554,
          0.000024877464932504862,
          0.000027090810343144806,
          0.000029428284447789304,
          0.00003188856458907043,
          0.0000344692689147407,
          0.00003716689236413723,
          0.00003997675179857622,
          0.00004289294185825907,
          0.00004590830306184529,
          0.00004901440356226791,
          0.000052201535833113005,
          0.000055458729384521175,
          0.000058773780397513885,
          0.00006213329892326029,
          0.0000655227740226148,
          0.00006892665692547837,
          0.00007232846197455577,
          0.00007571088478985449,
          0.00007905593675560738,
          0.00008234509459738339,
          0.00008555946349168557,
          0.00008867995184104162,
          0.00009168745556223176,
          0.0000945630494813637,
          0.00009728818321396705,
          0.0000998448787374823,
          0.0001022159267428494,
          0.0001043850787857398,
          0.00010633723224941608,
          0.00010805860518205062,
          0.00010953689818190685,
          0.00011076144067296727,
          0.00011172331913875419,
          0.00011241548515917091,
          0.00011283284141880893,
          0.00011297230421865404
         ]
        }
       ],
       "layout": {
        "barmode": "relative",
        "legend": {
         "tracegroupgap": 0
        },
        "showlegend": true,
        "template": {
         "data": {
          "bar": [
           {
            "error_x": {
             "color": "#2a3f5f"
            },
            "error_y": {
             "color": "#2a3f5f"
            },
            "marker": {
             "line": {
              "color": "white",
              "width": 0.5
             },
             "pattern": {
              "fillmode": "overlay",
              "size": 10,
              "solidity": 0.2
             }
            },
            "type": "bar"
           }
          ],
          "barpolar": [
           {
            "marker": {
             "line": {
              "color": "white",
              "width": 0.5
             },
             "pattern": {
              "fillmode": "overlay",
              "size": 10,
              "solidity": 0.2
             }
            },
            "type": "barpolar"
           }
          ],
          "carpet": [
           {
            "aaxis": {
             "endlinecolor": "#2a3f5f",
             "gridcolor": "#C8D4E3",
             "linecolor": "#C8D4E3",
             "minorgridcolor": "#C8D4E3",
             "startlinecolor": "#2a3f5f"
            },
            "baxis": {
             "endlinecolor": "#2a3f5f",
             "gridcolor": "#C8D4E3",
             "linecolor": "#C8D4E3",
             "minorgridcolor": "#C8D4E3",
             "startlinecolor": "#2a3f5f"
            },
            "type": "carpet"
           }
          ],
          "choropleth": [
           {
            "colorbar": {
             "outlinewidth": 0,
             "ticks": ""
            },
            "type": "choropleth"
           }
          ],
          "contour": [
           {
            "colorbar": {
             "outlinewidth": 0,
             "ticks": ""
            },
            "colorscale": [
             [
              0,
              "#0d0887"
             ],
             [
              0.1111111111111111,
              "#46039f"
             ],
             [
              0.2222222222222222,
              "#7201a8"
             ],
             [
              0.3333333333333333,
              "#9c179e"
             ],
             [
              0.4444444444444444,
              "#bd3786"
             ],
             [
              0.5555555555555556,
              "#d8576b"
             ],
             [
              0.6666666666666666,
              "#ed7953"
             ],
             [
              0.7777777777777778,
              "#fb9f3a"
             ],
             [
              0.8888888888888888,
              "#fdca26"
             ],
             [
              1,
              "#f0f921"
             ]
            ],
            "type": "contour"
           }
          ],
          "contourcarpet": [
           {
            "colorbar": {
             "outlinewidth": 0,
             "ticks": ""
            },
            "type": "contourcarpet"
           }
          ],
          "heatmap": [
           {
            "colorbar": {
             "outlinewidth": 0,
             "ticks": ""
            },
            "colorscale": [
             [
              0,
              "#0d0887"
             ],
             [
              0.1111111111111111,
              "#46039f"
             ],
             [
              0.2222222222222222,
              "#7201a8"
             ],
             [
              0.3333333333333333,
              "#9c179e"
             ],
             [
              0.4444444444444444,
              "#bd3786"
             ],
             [
              0.5555555555555556,
              "#d8576b"
             ],
             [
              0.6666666666666666,
              "#ed7953"
             ],
             [
              0.7777777777777778,
              "#fb9f3a"
             ],
             [
              0.8888888888888888,
              "#fdca26"
             ],
             [
              1,
              "#f0f921"
             ]
            ],
            "type": "heatmap"
           }
          ],
          "heatmapgl": [
           {
            "colorbar": {
             "outlinewidth": 0,
             "ticks": ""
            },
            "colorscale": [
             [
              0,
              "#0d0887"
             ],
             [
              0.1111111111111111,
              "#46039f"
             ],
             [
              0.2222222222222222,
              "#7201a8"
             ],
             [
              0.3333333333333333,
              "#9c179e"
             ],
             [
              0.4444444444444444,
              "#bd3786"
             ],
             [
              0.5555555555555556,
              "#d8576b"
             ],
             [
              0.6666666666666666,
              "#ed7953"
             ],
             [
              0.7777777777777778,
              "#fb9f3a"
             ],
             [
              0.8888888888888888,
              "#fdca26"
             ],
             [
              1,
              "#f0f921"
             ]
            ],
            "type": "heatmapgl"
           }
          ],
          "histogram": [
           {
            "marker": {
             "pattern": {
              "fillmode": "overlay",
              "size": 10,
              "solidity": 0.2
             }
            },
            "type": "histogram"
           }
          ],
          "histogram2d": [
           {
            "colorbar": {
             "outlinewidth": 0,
             "ticks": ""
            },
            "colorscale": [
             [
              0,
              "#0d0887"
             ],
             [
              0.1111111111111111,
              "#46039f"
             ],
             [
              0.2222222222222222,
              "#7201a8"
             ],
             [
              0.3333333333333333,
              "#9c179e"
             ],
             [
              0.4444444444444444,
              "#bd3786"
             ],
             [
              0.5555555555555556,
              "#d8576b"
             ],
             [
              0.6666666666666666,
              "#ed7953"
             ],
             [
              0.7777777777777778,
              "#fb9f3a"
             ],
             [
              0.8888888888888888,
              "#fdca26"
             ],
             [
              1,
              "#f0f921"
             ]
            ],
            "type": "histogram2d"
           }
          ],
          "histogram2dcontour": [
           {
            "colorbar": {
             "outlinewidth": 0,
             "ticks": ""
            },
            "colorscale": [
             [
              0,
              "#0d0887"
             ],
             [
              0.1111111111111111,
              "#46039f"
             ],
             [
              0.2222222222222222,
              "#7201a8"
             ],
             [
              0.3333333333333333,
              "#9c179e"
             ],
             [
              0.4444444444444444,
              "#bd3786"
             ],
             [
              0.5555555555555556,
              "#d8576b"
             ],
             [
              0.6666666666666666,
              "#ed7953"
             ],
             [
              0.7777777777777778,
              "#fb9f3a"
             ],
             [
              0.8888888888888888,
              "#fdca26"
             ],
             [
              1,
              "#f0f921"
             ]
            ],
            "type": "histogram2dcontour"
           }
          ],
          "mesh3d": [
           {
            "colorbar": {
             "outlinewidth": 0,
             "ticks": ""
            },
            "type": "mesh3d"
           }
          ],
          "parcoords": [
           {
            "line": {
             "colorbar": {
              "outlinewidth": 0,
              "ticks": ""
             }
            },
            "type": "parcoords"
           }
          ],
          "pie": [
           {
            "automargin": true,
            "type": "pie"
           }
          ],
          "scatter": [
           {
            "fillpattern": {
             "fillmode": "overlay",
             "size": 10,
             "solidity": 0.2
            },
            "type": "scatter"
           }
          ],
          "scatter3d": [
           {
            "line": {
             "colorbar": {
              "outlinewidth": 0,
              "ticks": ""
             }
            },
            "marker": {
             "colorbar": {
              "outlinewidth": 0,
              "ticks": ""
             }
            },
            "type": "scatter3d"
           }
          ],
          "scattercarpet": [
           {
            "marker": {
             "colorbar": {
              "outlinewidth": 0,
              "ticks": ""
             }
            },
            "type": "scattercarpet"
           }
          ],
          "scattergeo": [
           {
            "marker": {
             "colorbar": {
              "outlinewidth": 0,
              "ticks": ""
             }
            },
            "type": "scattergeo"
           }
          ],
          "scattergl": [
           {
            "marker": {
             "colorbar": {
              "outlinewidth": 0,
              "ticks": ""
             }
            },
            "type": "scattergl"
           }
          ],
          "scattermapbox": [
           {
            "marker": {
             "colorbar": {
              "outlinewidth": 0,
              "ticks": ""
             }
            },
            "type": "scattermapbox"
           }
          ],
          "scatterpolar": [
           {
            "marker": {
             "colorbar": {
              "outlinewidth": 0,
              "ticks": ""
             }
            },
            "type": "scatterpolar"
           }
          ],
          "scatterpolargl": [
           {
            "marker": {
             "colorbar": {
              "outlinewidth": 0,
              "ticks": ""
             }
            },
            "type": "scatterpolargl"
           }
          ],
          "scatterternary": [
           {
            "marker": {
             "colorbar": {
              "outlinewidth": 0,
              "ticks": ""
             }
            },
            "type": "scatterternary"
           }
          ],
          "surface": [
           {
            "colorbar": {
             "outlinewidth": 0,
             "ticks": ""
            },
            "colorscale": [
             [
              0,
              "#0d0887"
             ],
             [
              0.1111111111111111,
              "#46039f"
             ],
             [
              0.2222222222222222,
              "#7201a8"
             ],
             [
              0.3333333333333333,
              "#9c179e"
             ],
             [
              0.4444444444444444,
              "#bd3786"
             ],
             [
              0.5555555555555556,
              "#d8576b"
             ],
             [
              0.6666666666666666,
              "#ed7953"
             ],
             [
              0.7777777777777778,
              "#fb9f3a"
             ],
             [
              0.8888888888888888,
              "#fdca26"
             ],
             [
              1,
              "#f0f921"
             ]
            ],
            "type": "surface"
           }
          ],
          "table": [
           {
            "cells": {
             "fill": {
              "color": "#EBF0F8"
             },
             "line": {
              "color": "white"
             }
            },
            "header": {
             "fill": {
              "color": "#C8D4E3"
             },
             "line": {
              "color": "white"
             }
            },
            "type": "table"
           }
          ]
         },
         "layout": {
          "annotationdefaults": {
           "arrowcolor": "#2a3f5f",
           "arrowhead": 0,
           "arrowwidth": 1
          },
          "autotypenumbers": "strict",
          "coloraxis": {
           "colorbar": {
            "outlinewidth": 0,
            "ticks": ""
           }
          },
          "colorscale": {
           "diverging": [
            [
             0,
             "#8e0152"
            ],
            [
             0.1,
             "#c51b7d"
            ],
            [
             0.2,
             "#de77ae"
            ],
            [
             0.3,
             "#f1b6da"
            ],
            [
             0.4,
             "#fde0ef"
            ],
            [
             0.5,
             "#f7f7f7"
            ],
            [
             0.6,
             "#e6f5d0"
            ],
            [
             0.7,
             "#b8e186"
            ],
            [
             0.8,
             "#7fbc41"
            ],
            [
             0.9,
             "#4d9221"
            ],
            [
             1,
             "#276419"
            ]
           ],
           "sequential": [
            [
             0,
             "#0d0887"
            ],
            [
             0.1111111111111111,
             "#46039f"
            ],
            [
             0.2222222222222222,
             "#7201a8"
            ],
            [
             0.3333333333333333,
             "#9c179e"
            ],
            [
             0.4444444444444444,
             "#bd3786"
            ],
            [
             0.5555555555555556,
             "#d8576b"
            ],
            [
             0.6666666666666666,
             "#ed7953"
            ],
            [
             0.7777777777777778,
             "#fb9f3a"
            ],
            [
             0.8888888888888888,
             "#fdca26"
            ],
            [
             1,
             "#f0f921"
            ]
           ],
           "sequentialminus": [
            [
             0,
             "#0d0887"
            ],
            [
             0.1111111111111111,
             "#46039f"
            ],
            [
             0.2222222222222222,
             "#7201a8"
            ],
            [
             0.3333333333333333,
             "#9c179e"
            ],
            [
             0.4444444444444444,
             "#bd3786"
            ],
            [
             0.5555555555555556,
             "#d8576b"
            ],
            [
             0.6666666666666666,
             "#ed7953"
            ],
            [
             0.7777777777777778,
             "#fb9f3a"
            ],
            [
             0.8888888888888888,
             "#fdca26"
            ],
            [
             1,
             "#f0f921"
            ]
           ]
          },
          "colorway": [
           "#636efa",
           "#EF553B",
           "#00cc96",
           "#ab63fa",
           "#FFA15A",
           "#19d3f3",
           "#FF6692",
           "#B6E880",
           "#FF97FF",
           "#FECB52"
          ],
          "font": {
           "color": "#2a3f5f"
          },
          "geo": {
           "bgcolor": "white",
           "lakecolor": "white",
           "landcolor": "white",
           "showlakes": true,
           "showland": true,
           "subunitcolor": "#C8D4E3"
          },
          "hoverlabel": {
           "align": "left"
          },
          "hovermode": "closest",
          "mapbox": {
           "style": "light"
          },
          "paper_bgcolor": "white",
          "plot_bgcolor": "white",
          "polar": {
           "angularaxis": {
            "gridcolor": "#EBF0F8",
            "linecolor": "#EBF0F8",
            "ticks": ""
           },
           "bgcolor": "white",
           "radialaxis": {
            "gridcolor": "#EBF0F8",
            "linecolor": "#EBF0F8",
            "ticks": ""
           }
          },
          "scene": {
           "xaxis": {
            "backgroundcolor": "white",
            "gridcolor": "#DFE8F3",
            "gridwidth": 2,
            "linecolor": "#EBF0F8",
            "showbackground": true,
            "ticks": "",
            "zerolinecolor": "#EBF0F8"
           },
           "yaxis": {
            "backgroundcolor": "white",
            "gridcolor": "#DFE8F3",
            "gridwidth": 2,
            "linecolor": "#EBF0F8",
            "showbackground": true,
            "ticks": "",
            "zerolinecolor": "#EBF0F8"
           },
           "zaxis": {
            "backgroundcolor": "white",
            "gridcolor": "#DFE8F3",
            "gridwidth": 2,
            "linecolor": "#EBF0F8",
            "showbackground": true,
            "ticks": "",
            "zerolinecolor": "#EBF0F8"
           }
          },
          "shapedefaults": {
           "line": {
            "color": "#2a3f5f"
           }
          },
          "ternary": {
           "aaxis": {
            "gridcolor": "#DFE8F3",
            "linecolor": "#A2B1C6",
            "ticks": ""
           },
           "baxis": {
            "gridcolor": "#DFE8F3",
            "linecolor": "#A2B1C6",
            "ticks": ""
           },
           "bgcolor": "white",
           "caxis": {
            "gridcolor": "#DFE8F3",
            "linecolor": "#A2B1C6",
            "ticks": ""
           }
          },
          "title": {
           "x": 0.05
          },
          "xaxis": {
           "automargin": true,
           "gridcolor": "#EBF0F8",
           "linecolor": "#EBF0F8",
           "ticks": "",
           "title": {
            "standoff": 15
           },
           "zerolinecolor": "#EBF0F8",
           "zerolinewidth": 2
          },
          "yaxis": {
           "automargin": true,
           "gridcolor": "#EBF0F8",
           "linecolor": "#EBF0F8",
           "ticks": "",
           "title": {
            "standoff": 15
           },
           "zerolinecolor": "#EBF0F8",
           "zerolinewidth": 2
          }
         }
        },
        "title": {
         "text": "LotFrontage Distribution with Density"
        },
        "xaxis": {
         "anchor": "y",
         "domain": [
          0,
          1
         ],
         "title": {
          "text": "Lot Frontage"
         }
        },
        "yaxis": {
         "anchor": "x",
         "domain": [
          0,
          1
         ],
         "title": {
          "text": "Density"
         }
        }
       }
      }
     },
     "metadata": {},
     "output_type": "display_data"
    }
   ],
   "source": [
    "\n",
    "# Calculate KDE for LotFrontage (ignoring missing values)\n",
    "lotfrontage_data = train['LotFrontage'].dropna()\n",
    "kde = gaussian_kde(lotfrontage_data)\n",
    "x_vals = np.linspace(lotfrontage_data.min(), lotfrontage_data.max(), 1000)\n",
    "kde_vals = kde(x_vals)\n",
    "\n",
    "# Create the histogram with proportion normalization\n",
    "fig = px.histogram(train, \n",
    "                   x='LotFrontage', \n",
    "                   nbins=100, \n",
    "                   title='LotFrontage Distribution with Density',\n",
    "                   labels={'LotFrontage': 'Lot Frontage'},\n",
    "                   template='plotly_white',\n",
    "                   histnorm='probability density')  # Normalize to proportion\n",
    "\n",
    "fig.update_traces(marker_color='blue', opacity=0.75)\n",
    "\n",
    "# Add the density curve\n",
    "fig.add_trace(\n",
    "    go.Scatter(\n",
    "        x=x_vals,\n",
    "        y=kde_vals,\n",
    "        mode='lines',\n",
    "        line=dict(color='black', width=2),\n",
    "        name='Density Estimation'\n",
    "    )\n",
    ")\n",
    "\n",
    "fig.update_layout(\n",
    "    yaxis_title='Density',\n",
    "    xaxis_title='Lot Frontage',\n",
    "    showlegend=True\n",
    ")\n",
    "\n",
    "fig.show()"
   ]
  },
  {
   "cell_type": "markdown",
   "metadata": {},
   "source": [
    "**Is `LotFrontage` correlated with other features ?**\n",
    "\n",
    "Understanding whether `LotFrontage` is correlated with other features helps us decide how to handle its missing values. If `LotFrontage` has strong relationships with other variables, we can use those features for informed imputation methods, such as regression-based or group-wise imputation. This ensures that the missing values are filled in a way that maintains the underlying data structure and relationships, leading to more accurate and reliable predictions in our machine learning models."
   ]
  },
  {
   "cell_type": "code",
   "execution_count": 40,
   "metadata": {},
   "outputs": [
    {
     "data": {
      "application/vnd.plotly.v1+json": {
       "config": {
        "plotlyServerURL": "https://plot.ly"
       },
       "data": [
        {
         "alignmentgroup": "True",
         "hovertemplate": "Correlation Coefficient=%{x}<br>Features=%{y}<extra></extra>",
         "legendgroup": "",
         "marker": {
          "color": "#636efa",
          "pattern": {
           "shape": ""
          }
         },
         "name": "",
         "offsetgroup": "",
         "orientation": "h",
         "showlegend": false,
         "textposition": "auto",
         "type": "bar",
         "x": [
          -0.3863468853449291,
          -0.05921345000524695,
          -0.007234304524918131,
          -0.006068830161309074,
          0.0033675565961914385,
          0.007449589209750433,
          0.010700336638882412,
          0.011199954759134262,
          0.0384685343289595,
          0.041382790675005825,
          0.04989967669098947,
          0.053531854979605935,
          0.0700292277308536,
          0.07024978191661647,
          0.08017727062420484,
          0.08852093328940809,
          0.08886557249206663,
          0.10094856694926879,
          0.12334946703331623,
          0.13264374162493361,
          0.15197222768060645,
          0.19345806055826867,
          0.1987686778973783,
          0.2061667752760768,
          0.23363316701975503,
          0.25164577548061234,
          0.26316991588105887,
          0.26663948256030306,
          0.28569092468510043,
          0.3449967241064819,
          0.35179909657067737,
          0.3520959476602242,
          0.3920745763791721,
          0.4027974140853195,
          0.42609501877180816,
          0.4571810019946551
         ],
         "xaxis": "x",
         "y": [
          "MSSubClass",
          "OverallCond",
          "BsmtHalfBath",
          "KitchenAbvGr",
          "MiscVal",
          "YrSold",
          "EnclosedPorch",
          "MoSold",
          "LowQualFinSF",
          "ScreenPorch",
          "BsmtFinSF2",
          "HalfBath",
          "3SsnPorch",
          "GarageYrBlt",
          "2ndFlrSF",
          "WoodDeckSF",
          "YearRemodAdd",
          "BsmtFullBath",
          "YearBuilt",
          "BsmtUnfSF",
          "OpenPorchSF",
          "MasVnrArea",
          "FullBath",
          "PoolArea",
          "BsmtFinSF1",
          "OverallQual",
          "BedroomAbvGr",
          "Fireplaces",
          "GarageCars",
          "GarageArea",
          "SalePrice",
          "TotRmsAbvGrd",
          "TotalBsmtSF",
          "GrLivArea",
          "LotArea",
          "1stFlrSF"
         ],
         "yaxis": "y"
        }
       ],
       "layout": {
        "barmode": "relative",
        "legend": {
         "tracegroupgap": 0
        },
        "template": {
         "data": {
          "bar": [
           {
            "error_x": {
             "color": "#2a3f5f"
            },
            "error_y": {
             "color": "#2a3f5f"
            },
            "marker": {
             "line": {
              "color": "white",
              "width": 0.5
             },
             "pattern": {
              "fillmode": "overlay",
              "size": 10,
              "solidity": 0.2
             }
            },
            "type": "bar"
           }
          ],
          "barpolar": [
           {
            "marker": {
             "line": {
              "color": "white",
              "width": 0.5
             },
             "pattern": {
              "fillmode": "overlay",
              "size": 10,
              "solidity": 0.2
             }
            },
            "type": "barpolar"
           }
          ],
          "carpet": [
           {
            "aaxis": {
             "endlinecolor": "#2a3f5f",
             "gridcolor": "#C8D4E3",
             "linecolor": "#C8D4E3",
             "minorgridcolor": "#C8D4E3",
             "startlinecolor": "#2a3f5f"
            },
            "baxis": {
             "endlinecolor": "#2a3f5f",
             "gridcolor": "#C8D4E3",
             "linecolor": "#C8D4E3",
             "minorgridcolor": "#C8D4E3",
             "startlinecolor": "#2a3f5f"
            },
            "type": "carpet"
           }
          ],
          "choropleth": [
           {
            "colorbar": {
             "outlinewidth": 0,
             "ticks": ""
            },
            "type": "choropleth"
           }
          ],
          "contour": [
           {
            "colorbar": {
             "outlinewidth": 0,
             "ticks": ""
            },
            "colorscale": [
             [
              0,
              "#0d0887"
             ],
             [
              0.1111111111111111,
              "#46039f"
             ],
             [
              0.2222222222222222,
              "#7201a8"
             ],
             [
              0.3333333333333333,
              "#9c179e"
             ],
             [
              0.4444444444444444,
              "#bd3786"
             ],
             [
              0.5555555555555556,
              "#d8576b"
             ],
             [
              0.6666666666666666,
              "#ed7953"
             ],
             [
              0.7777777777777778,
              "#fb9f3a"
             ],
             [
              0.8888888888888888,
              "#fdca26"
             ],
             [
              1,
              "#f0f921"
             ]
            ],
            "type": "contour"
           }
          ],
          "contourcarpet": [
           {
            "colorbar": {
             "outlinewidth": 0,
             "ticks": ""
            },
            "type": "contourcarpet"
           }
          ],
          "heatmap": [
           {
            "colorbar": {
             "outlinewidth": 0,
             "ticks": ""
            },
            "colorscale": [
             [
              0,
              "#0d0887"
             ],
             [
              0.1111111111111111,
              "#46039f"
             ],
             [
              0.2222222222222222,
              "#7201a8"
             ],
             [
              0.3333333333333333,
              "#9c179e"
             ],
             [
              0.4444444444444444,
              "#bd3786"
             ],
             [
              0.5555555555555556,
              "#d8576b"
             ],
             [
              0.6666666666666666,
              "#ed7953"
             ],
             [
              0.7777777777777778,
              "#fb9f3a"
             ],
             [
              0.8888888888888888,
              "#fdca26"
             ],
             [
              1,
              "#f0f921"
             ]
            ],
            "type": "heatmap"
           }
          ],
          "heatmapgl": [
           {
            "colorbar": {
             "outlinewidth": 0,
             "ticks": ""
            },
            "colorscale": [
             [
              0,
              "#0d0887"
             ],
             [
              0.1111111111111111,
              "#46039f"
             ],
             [
              0.2222222222222222,
              "#7201a8"
             ],
             [
              0.3333333333333333,
              "#9c179e"
             ],
             [
              0.4444444444444444,
              "#bd3786"
             ],
             [
              0.5555555555555556,
              "#d8576b"
             ],
             [
              0.6666666666666666,
              "#ed7953"
             ],
             [
              0.7777777777777778,
              "#fb9f3a"
             ],
             [
              0.8888888888888888,
              "#fdca26"
             ],
             [
              1,
              "#f0f921"
             ]
            ],
            "type": "heatmapgl"
           }
          ],
          "histogram": [
           {
            "marker": {
             "pattern": {
              "fillmode": "overlay",
              "size": 10,
              "solidity": 0.2
             }
            },
            "type": "histogram"
           }
          ],
          "histogram2d": [
           {
            "colorbar": {
             "outlinewidth": 0,
             "ticks": ""
            },
            "colorscale": [
             [
              0,
              "#0d0887"
             ],
             [
              0.1111111111111111,
              "#46039f"
             ],
             [
              0.2222222222222222,
              "#7201a8"
             ],
             [
              0.3333333333333333,
              "#9c179e"
             ],
             [
              0.4444444444444444,
              "#bd3786"
             ],
             [
              0.5555555555555556,
              "#d8576b"
             ],
             [
              0.6666666666666666,
              "#ed7953"
             ],
             [
              0.7777777777777778,
              "#fb9f3a"
             ],
             [
              0.8888888888888888,
              "#fdca26"
             ],
             [
              1,
              "#f0f921"
             ]
            ],
            "type": "histogram2d"
           }
          ],
          "histogram2dcontour": [
           {
            "colorbar": {
             "outlinewidth": 0,
             "ticks": ""
            },
            "colorscale": [
             [
              0,
              "#0d0887"
             ],
             [
              0.1111111111111111,
              "#46039f"
             ],
             [
              0.2222222222222222,
              "#7201a8"
             ],
             [
              0.3333333333333333,
              "#9c179e"
             ],
             [
              0.4444444444444444,
              "#bd3786"
             ],
             [
              0.5555555555555556,
              "#d8576b"
             ],
             [
              0.6666666666666666,
              "#ed7953"
             ],
             [
              0.7777777777777778,
              "#fb9f3a"
             ],
             [
              0.8888888888888888,
              "#fdca26"
             ],
             [
              1,
              "#f0f921"
             ]
            ],
            "type": "histogram2dcontour"
           }
          ],
          "mesh3d": [
           {
            "colorbar": {
             "outlinewidth": 0,
             "ticks": ""
            },
            "type": "mesh3d"
           }
          ],
          "parcoords": [
           {
            "line": {
             "colorbar": {
              "outlinewidth": 0,
              "ticks": ""
             }
            },
            "type": "parcoords"
           }
          ],
          "pie": [
           {
            "automargin": true,
            "type": "pie"
           }
          ],
          "scatter": [
           {
            "fillpattern": {
             "fillmode": "overlay",
             "size": 10,
             "solidity": 0.2
            },
            "type": "scatter"
           }
          ],
          "scatter3d": [
           {
            "line": {
             "colorbar": {
              "outlinewidth": 0,
              "ticks": ""
             }
            },
            "marker": {
             "colorbar": {
              "outlinewidth": 0,
              "ticks": ""
             }
            },
            "type": "scatter3d"
           }
          ],
          "scattercarpet": [
           {
            "marker": {
             "colorbar": {
              "outlinewidth": 0,
              "ticks": ""
             }
            },
            "type": "scattercarpet"
           }
          ],
          "scattergeo": [
           {
            "marker": {
             "colorbar": {
              "outlinewidth": 0,
              "ticks": ""
             }
            },
            "type": "scattergeo"
           }
          ],
          "scattergl": [
           {
            "marker": {
             "colorbar": {
              "outlinewidth": 0,
              "ticks": ""
             }
            },
            "type": "scattergl"
           }
          ],
          "scattermapbox": [
           {
            "marker": {
             "colorbar": {
              "outlinewidth": 0,
              "ticks": ""
             }
            },
            "type": "scattermapbox"
           }
          ],
          "scatterpolar": [
           {
            "marker": {
             "colorbar": {
              "outlinewidth": 0,
              "ticks": ""
             }
            },
            "type": "scatterpolar"
           }
          ],
          "scatterpolargl": [
           {
            "marker": {
             "colorbar": {
              "outlinewidth": 0,
              "ticks": ""
             }
            },
            "type": "scatterpolargl"
           }
          ],
          "scatterternary": [
           {
            "marker": {
             "colorbar": {
              "outlinewidth": 0,
              "ticks": ""
             }
            },
            "type": "scatterternary"
           }
          ],
          "surface": [
           {
            "colorbar": {
             "outlinewidth": 0,
             "ticks": ""
            },
            "colorscale": [
             [
              0,
              "#0d0887"
             ],
             [
              0.1111111111111111,
              "#46039f"
             ],
             [
              0.2222222222222222,
              "#7201a8"
             ],
             [
              0.3333333333333333,
              "#9c179e"
             ],
             [
              0.4444444444444444,
              "#bd3786"
             ],
             [
              0.5555555555555556,
              "#d8576b"
             ],
             [
              0.6666666666666666,
              "#ed7953"
             ],
             [
              0.7777777777777778,
              "#fb9f3a"
             ],
             [
              0.8888888888888888,
              "#fdca26"
             ],
             [
              1,
              "#f0f921"
             ]
            ],
            "type": "surface"
           }
          ],
          "table": [
           {
            "cells": {
             "fill": {
              "color": "#EBF0F8"
             },
             "line": {
              "color": "white"
             }
            },
            "header": {
             "fill": {
              "color": "#C8D4E3"
             },
             "line": {
              "color": "white"
             }
            },
            "type": "table"
           }
          ]
         },
         "layout": {
          "annotationdefaults": {
           "arrowcolor": "#2a3f5f",
           "arrowhead": 0,
           "arrowwidth": 1
          },
          "autotypenumbers": "strict",
          "coloraxis": {
           "colorbar": {
            "outlinewidth": 0,
            "ticks": ""
           }
          },
          "colorscale": {
           "diverging": [
            [
             0,
             "#8e0152"
            ],
            [
             0.1,
             "#c51b7d"
            ],
            [
             0.2,
             "#de77ae"
            ],
            [
             0.3,
             "#f1b6da"
            ],
            [
             0.4,
             "#fde0ef"
            ],
            [
             0.5,
             "#f7f7f7"
            ],
            [
             0.6,
             "#e6f5d0"
            ],
            [
             0.7,
             "#b8e186"
            ],
            [
             0.8,
             "#7fbc41"
            ],
            [
             0.9,
             "#4d9221"
            ],
            [
             1,
             "#276419"
            ]
           ],
           "sequential": [
            [
             0,
             "#0d0887"
            ],
            [
             0.1111111111111111,
             "#46039f"
            ],
            [
             0.2222222222222222,
             "#7201a8"
            ],
            [
             0.3333333333333333,
             "#9c179e"
            ],
            [
             0.4444444444444444,
             "#bd3786"
            ],
            [
             0.5555555555555556,
             "#d8576b"
            ],
            [
             0.6666666666666666,
             "#ed7953"
            ],
            [
             0.7777777777777778,
             "#fb9f3a"
            ],
            [
             0.8888888888888888,
             "#fdca26"
            ],
            [
             1,
             "#f0f921"
            ]
           ],
           "sequentialminus": [
            [
             0,
             "#0d0887"
            ],
            [
             0.1111111111111111,
             "#46039f"
            ],
            [
             0.2222222222222222,
             "#7201a8"
            ],
            [
             0.3333333333333333,
             "#9c179e"
            ],
            [
             0.4444444444444444,
             "#bd3786"
            ],
            [
             0.5555555555555556,
             "#d8576b"
            ],
            [
             0.6666666666666666,
             "#ed7953"
            ],
            [
             0.7777777777777778,
             "#fb9f3a"
            ],
            [
             0.8888888888888888,
             "#fdca26"
            ],
            [
             1,
             "#f0f921"
            ]
           ]
          },
          "colorway": [
           "#636efa",
           "#EF553B",
           "#00cc96",
           "#ab63fa",
           "#FFA15A",
           "#19d3f3",
           "#FF6692",
           "#B6E880",
           "#FF97FF",
           "#FECB52"
          ],
          "font": {
           "color": "#2a3f5f"
          },
          "geo": {
           "bgcolor": "white",
           "lakecolor": "white",
           "landcolor": "white",
           "showlakes": true,
           "showland": true,
           "subunitcolor": "#C8D4E3"
          },
          "hoverlabel": {
           "align": "left"
          },
          "hovermode": "closest",
          "mapbox": {
           "style": "light"
          },
          "paper_bgcolor": "white",
          "plot_bgcolor": "white",
          "polar": {
           "angularaxis": {
            "gridcolor": "#EBF0F8",
            "linecolor": "#EBF0F8",
            "ticks": ""
           },
           "bgcolor": "white",
           "radialaxis": {
            "gridcolor": "#EBF0F8",
            "linecolor": "#EBF0F8",
            "ticks": ""
           }
          },
          "scene": {
           "xaxis": {
            "backgroundcolor": "white",
            "gridcolor": "#DFE8F3",
            "gridwidth": 2,
            "linecolor": "#EBF0F8",
            "showbackground": true,
            "ticks": "",
            "zerolinecolor": "#EBF0F8"
           },
           "yaxis": {
            "backgroundcolor": "white",
            "gridcolor": "#DFE8F3",
            "gridwidth": 2,
            "linecolor": "#EBF0F8",
            "showbackground": true,
            "ticks": "",
            "zerolinecolor": "#EBF0F8"
           },
           "zaxis": {
            "backgroundcolor": "white",
            "gridcolor": "#DFE8F3",
            "gridwidth": 2,
            "linecolor": "#EBF0F8",
            "showbackground": true,
            "ticks": "",
            "zerolinecolor": "#EBF0F8"
           }
          },
          "shapedefaults": {
           "line": {
            "color": "#2a3f5f"
           }
          },
          "ternary": {
           "aaxis": {
            "gridcolor": "#DFE8F3",
            "linecolor": "#A2B1C6",
            "ticks": ""
           },
           "baxis": {
            "gridcolor": "#DFE8F3",
            "linecolor": "#A2B1C6",
            "ticks": ""
           },
           "bgcolor": "white",
           "caxis": {
            "gridcolor": "#DFE8F3",
            "linecolor": "#A2B1C6",
            "ticks": ""
           }
          },
          "title": {
           "x": 0.05
          },
          "xaxis": {
           "automargin": true,
           "gridcolor": "#EBF0F8",
           "linecolor": "#EBF0F8",
           "ticks": "",
           "title": {
            "standoff": 15
           },
           "zerolinecolor": "#EBF0F8",
           "zerolinewidth": 2
          },
          "yaxis": {
           "automargin": true,
           "gridcolor": "#EBF0F8",
           "linecolor": "#EBF0F8",
           "ticks": "",
           "title": {
            "standoff": 15
           },
           "zerolinecolor": "#EBF0F8",
           "zerolinewidth": 2
          }
         }
        },
        "title": {
         "text": "Correlation of LotFrontage with Other Features"
        },
        "xaxis": {
         "anchor": "y",
         "domain": [
          0,
          1
         ],
         "title": {
          "text": "Correlation Coefficient"
         }
        },
        "yaxis": {
         "anchor": "x",
         "domain": [
          0,
          1
         ],
         "title": {
          "text": "Features"
         }
        }
       }
      }
     },
     "metadata": {},
     "output_type": "display_data"
    }
   ],
   "source": [
    "numerical_features = train.select_dtypes(include=[np.number])\n",
    "\n",
    "# Compute correlation matrix\n",
    "correlation_matrix = numerical_features.corr()\n",
    "\n",
    "# Extract correlations involving LotFrontage\n",
    "lotfrontage_correlation = correlation_matrix['LotFrontage'].sort_values(ascending=False)\n",
    "\n",
    "# Create a DataFrame for Plotly\n",
    "correlation_df = lotfrontage_correlation.drop('LotFrontage').reset_index()\n",
    "correlation_df.columns = ['Feature', 'Correlation']\n",
    "\n",
    "# Plot using Plotly\n",
    "fig = px.bar(\n",
    "    correlation_df.sort_values(by='Correlation', ascending=True),\n",
    "    x='Correlation',\n",
    "    y='Feature',\n",
    "    orientation='h',\n",
    "    title='Correlation of LotFrontage with Other Features',\n",
    "    labels={'Correlation': 'Correlation Coefficient', 'Feature': 'Features'},\n",
    "    template='plotly_white'\n",
    ")\n",
    "\n",
    "fig.update_layout(xaxis_title=\"Correlation Coefficient\", yaxis_title=\"Features\")\n",
    "fig.show()"
   ]
  },
  {
   "cell_type": "code",
   "execution_count": null,
   "metadata": {},
   "outputs": [],
   "source": []
  },
  {
   "cell_type": "code",
   "execution_count": null,
   "metadata": {},
   "outputs": [],
   "source": []
  }
 ],
 "metadata": {
  "kernelspec": {
   "display_name": "base",
   "language": "python",
   "name": "python3"
  },
  "language_info": {
   "codemirror_mode": {
    "name": "ipython",
    "version": 3
   },
   "file_extension": ".py",
   "mimetype": "text/x-python",
   "name": "python",
   "nbconvert_exporter": "python",
   "pygments_lexer": "ipython3",
   "version": "3.11.7"
  }
 },
 "nbformat": 4,
 "nbformat_minor": 2
}
