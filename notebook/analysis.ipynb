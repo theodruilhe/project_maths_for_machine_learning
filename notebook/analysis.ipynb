{
 "cells": [
  {
   "cell_type": "markdown",
   "metadata": {},
   "source": [
    "# **Import the Libraries**"
   ]
  },
  {
   "cell_type": "code",
   "execution_count": 43,
   "metadata": {},
   "outputs": [],
   "source": [
    "import pandas as pd\n",
    "import numpy as np\n",
    "import matplotlib.pyplot as plt\n",
    "import seaborn as sns\n",
    "from sklearn.preprocessing import LabelEncoder\n",
    "from sklearn.model_selection import train_test_split\n",
    "import plotly.express as px\n",
    "import plotly.graph_objects as go\n",
    "from scipy.stats import gaussian_kde, skew, kurtosis\n",
    "\n",
    "# For exploring missing values\n",
    "import missingno as msno"
   ]
  },
  {
   "cell_type": "markdown",
   "metadata": {},
   "source": [
    "# **Data Processing**"
   ]
  },
  {
   "cell_type": "code",
   "execution_count": 44,
   "metadata": {},
   "outputs": [
    {
     "name": "stdout",
     "output_type": "stream",
     "text": [
      "(1460, 80)\n",
      "(1459, 79)\n",
      "(1460, 80)\n"
     ]
    }
   ],
   "source": [
    "# import the data/train.csv file\n",
    "train = pd.read_csv('data/train.csv')\n",
    "test = pd.read_csv('data/test.csv')\n",
    "train = train.set_index('Id')\n",
    "test = test.set_index('Id') \n",
    "train_cleaned = train.copy()\n",
    "\n",
    "print(train.shape)\n",
    "print(test.shape)\n",
    "print(train_cleaned.shape)"
   ]
  },
  {
   "cell_type": "code",
   "execution_count": 45,
   "metadata": {},
   "outputs": [
    {
     "data": {
      "text/html": [
       "<div>\n",
       "<style scoped>\n",
       "    .dataframe tbody tr th:only-of-type {\n",
       "        vertical-align: middle;\n",
       "    }\n",
       "\n",
       "    .dataframe tbody tr th {\n",
       "        vertical-align: top;\n",
       "    }\n",
       "\n",
       "    .dataframe thead th {\n",
       "        text-align: right;\n",
       "    }\n",
       "</style>\n",
       "<table border=\"1\" class=\"dataframe\">\n",
       "  <thead>\n",
       "    <tr style=\"text-align: right;\">\n",
       "      <th></th>\n",
       "      <th>MSSubClass</th>\n",
       "      <th>MSZoning</th>\n",
       "      <th>LotFrontage</th>\n",
       "      <th>LotArea</th>\n",
       "      <th>Street</th>\n",
       "      <th>Alley</th>\n",
       "      <th>LotShape</th>\n",
       "      <th>LandContour</th>\n",
       "      <th>Utilities</th>\n",
       "      <th>LotConfig</th>\n",
       "      <th>...</th>\n",
       "      <th>PoolArea</th>\n",
       "      <th>PoolQC</th>\n",
       "      <th>Fence</th>\n",
       "      <th>MiscFeature</th>\n",
       "      <th>MiscVal</th>\n",
       "      <th>MoSold</th>\n",
       "      <th>YrSold</th>\n",
       "      <th>SaleType</th>\n",
       "      <th>SaleCondition</th>\n",
       "      <th>SalePrice</th>\n",
       "    </tr>\n",
       "    <tr>\n",
       "      <th>Id</th>\n",
       "      <th></th>\n",
       "      <th></th>\n",
       "      <th></th>\n",
       "      <th></th>\n",
       "      <th></th>\n",
       "      <th></th>\n",
       "      <th></th>\n",
       "      <th></th>\n",
       "      <th></th>\n",
       "      <th></th>\n",
       "      <th></th>\n",
       "      <th></th>\n",
       "      <th></th>\n",
       "      <th></th>\n",
       "      <th></th>\n",
       "      <th></th>\n",
       "      <th></th>\n",
       "      <th></th>\n",
       "      <th></th>\n",
       "      <th></th>\n",
       "      <th></th>\n",
       "    </tr>\n",
       "  </thead>\n",
       "  <tbody>\n",
       "    <tr>\n",
       "      <th>1</th>\n",
       "      <td>60</td>\n",
       "      <td>RL</td>\n",
       "      <td>65.0</td>\n",
       "      <td>8450</td>\n",
       "      <td>Pave</td>\n",
       "      <td>NaN</td>\n",
       "      <td>Reg</td>\n",
       "      <td>Lvl</td>\n",
       "      <td>AllPub</td>\n",
       "      <td>Inside</td>\n",
       "      <td>...</td>\n",
       "      <td>0</td>\n",
       "      <td>NaN</td>\n",
       "      <td>NaN</td>\n",
       "      <td>NaN</td>\n",
       "      <td>0</td>\n",
       "      <td>2</td>\n",
       "      <td>2008</td>\n",
       "      <td>WD</td>\n",
       "      <td>Normal</td>\n",
       "      <td>208500</td>\n",
       "    </tr>\n",
       "    <tr>\n",
       "      <th>2</th>\n",
       "      <td>20</td>\n",
       "      <td>RL</td>\n",
       "      <td>80.0</td>\n",
       "      <td>9600</td>\n",
       "      <td>Pave</td>\n",
       "      <td>NaN</td>\n",
       "      <td>Reg</td>\n",
       "      <td>Lvl</td>\n",
       "      <td>AllPub</td>\n",
       "      <td>FR2</td>\n",
       "      <td>...</td>\n",
       "      <td>0</td>\n",
       "      <td>NaN</td>\n",
       "      <td>NaN</td>\n",
       "      <td>NaN</td>\n",
       "      <td>0</td>\n",
       "      <td>5</td>\n",
       "      <td>2007</td>\n",
       "      <td>WD</td>\n",
       "      <td>Normal</td>\n",
       "      <td>181500</td>\n",
       "    </tr>\n",
       "    <tr>\n",
       "      <th>3</th>\n",
       "      <td>60</td>\n",
       "      <td>RL</td>\n",
       "      <td>68.0</td>\n",
       "      <td>11250</td>\n",
       "      <td>Pave</td>\n",
       "      <td>NaN</td>\n",
       "      <td>IR1</td>\n",
       "      <td>Lvl</td>\n",
       "      <td>AllPub</td>\n",
       "      <td>Inside</td>\n",
       "      <td>...</td>\n",
       "      <td>0</td>\n",
       "      <td>NaN</td>\n",
       "      <td>NaN</td>\n",
       "      <td>NaN</td>\n",
       "      <td>0</td>\n",
       "      <td>9</td>\n",
       "      <td>2008</td>\n",
       "      <td>WD</td>\n",
       "      <td>Normal</td>\n",
       "      <td>223500</td>\n",
       "    </tr>\n",
       "    <tr>\n",
       "      <th>4</th>\n",
       "      <td>70</td>\n",
       "      <td>RL</td>\n",
       "      <td>60.0</td>\n",
       "      <td>9550</td>\n",
       "      <td>Pave</td>\n",
       "      <td>NaN</td>\n",
       "      <td>IR1</td>\n",
       "      <td>Lvl</td>\n",
       "      <td>AllPub</td>\n",
       "      <td>Corner</td>\n",
       "      <td>...</td>\n",
       "      <td>0</td>\n",
       "      <td>NaN</td>\n",
       "      <td>NaN</td>\n",
       "      <td>NaN</td>\n",
       "      <td>0</td>\n",
       "      <td>2</td>\n",
       "      <td>2006</td>\n",
       "      <td>WD</td>\n",
       "      <td>Abnorml</td>\n",
       "      <td>140000</td>\n",
       "    </tr>\n",
       "    <tr>\n",
       "      <th>5</th>\n",
       "      <td>60</td>\n",
       "      <td>RL</td>\n",
       "      <td>84.0</td>\n",
       "      <td>14260</td>\n",
       "      <td>Pave</td>\n",
       "      <td>NaN</td>\n",
       "      <td>IR1</td>\n",
       "      <td>Lvl</td>\n",
       "      <td>AllPub</td>\n",
       "      <td>FR2</td>\n",
       "      <td>...</td>\n",
       "      <td>0</td>\n",
       "      <td>NaN</td>\n",
       "      <td>NaN</td>\n",
       "      <td>NaN</td>\n",
       "      <td>0</td>\n",
       "      <td>12</td>\n",
       "      <td>2008</td>\n",
       "      <td>WD</td>\n",
       "      <td>Normal</td>\n",
       "      <td>250000</td>\n",
       "    </tr>\n",
       "  </tbody>\n",
       "</table>\n",
       "<p>5 rows × 80 columns</p>\n",
       "</div>"
      ],
      "text/plain": [
       "    MSSubClass MSZoning  LotFrontage  LotArea Street Alley LotShape  \\\n",
       "Id                                                                    \n",
       "1           60       RL         65.0     8450   Pave   NaN      Reg   \n",
       "2           20       RL         80.0     9600   Pave   NaN      Reg   \n",
       "3           60       RL         68.0    11250   Pave   NaN      IR1   \n",
       "4           70       RL         60.0     9550   Pave   NaN      IR1   \n",
       "5           60       RL         84.0    14260   Pave   NaN      IR1   \n",
       "\n",
       "   LandContour Utilities LotConfig  ... PoolArea PoolQC Fence MiscFeature  \\\n",
       "Id                                  ...                                     \n",
       "1          Lvl    AllPub    Inside  ...        0    NaN   NaN         NaN   \n",
       "2          Lvl    AllPub       FR2  ...        0    NaN   NaN         NaN   \n",
       "3          Lvl    AllPub    Inside  ...        0    NaN   NaN         NaN   \n",
       "4          Lvl    AllPub    Corner  ...        0    NaN   NaN         NaN   \n",
       "5          Lvl    AllPub       FR2  ...        0    NaN   NaN         NaN   \n",
       "\n",
       "   MiscVal MoSold  YrSold  SaleType  SaleCondition  SalePrice  \n",
       "Id                                                             \n",
       "1        0      2    2008        WD         Normal     208500  \n",
       "2        0      5    2007        WD         Normal     181500  \n",
       "3        0      9    2008        WD         Normal     223500  \n",
       "4        0      2    2006        WD        Abnorml     140000  \n",
       "5        0     12    2008        WD         Normal     250000  \n",
       "\n",
       "[5 rows x 80 columns]"
      ]
     },
     "execution_count": 45,
     "metadata": {},
     "output_type": "execute_result"
    }
   ],
   "source": [
    "train.head()"
   ]
  },
  {
   "cell_type": "markdown",
   "metadata": {},
   "source": [
    "The target variable is `SalePrice`. We have 79 features in the dataset by removing the columns `ID`"
   ]
  },
  {
   "cell_type": "code",
   "execution_count": 46,
   "metadata": {},
   "outputs": [
    {
     "name": "stdout",
     "output_type": "stream",
     "text": [
      "<class 'pandas.core.frame.DataFrame'>\n",
      "Index: 1460 entries, 1 to 1460\n",
      "Data columns (total 80 columns):\n",
      " #   Column         Non-Null Count  Dtype  \n",
      "---  ------         --------------  -----  \n",
      " 0   MSSubClass     1460 non-null   int64  \n",
      " 1   MSZoning       1460 non-null   object \n",
      " 2   LotFrontage    1201 non-null   float64\n",
      " 3   LotArea        1460 non-null   int64  \n",
      " 4   Street         1460 non-null   object \n",
      " 5   Alley          91 non-null     object \n",
      " 6   LotShape       1460 non-null   object \n",
      " 7   LandContour    1460 non-null   object \n",
      " 8   Utilities      1460 non-null   object \n",
      " 9   LotConfig      1460 non-null   object \n",
      " 10  LandSlope      1460 non-null   object \n",
      " 11  Neighborhood   1460 non-null   object \n",
      " 12  Condition1     1460 non-null   object \n",
      " 13  Condition2     1460 non-null   object \n",
      " 14  BldgType       1460 non-null   object \n",
      " 15  HouseStyle     1460 non-null   object \n",
      " 16  OverallQual    1460 non-null   int64  \n",
      " 17  OverallCond    1460 non-null   int64  \n",
      " 18  YearBuilt      1460 non-null   int64  \n",
      " 19  YearRemodAdd   1460 non-null   int64  \n",
      " 20  RoofStyle      1460 non-null   object \n",
      " 21  RoofMatl       1460 non-null   object \n",
      " 22  Exterior1st    1460 non-null   object \n",
      " 23  Exterior2nd    1460 non-null   object \n",
      " 24  MasVnrType     588 non-null    object \n",
      " 25  MasVnrArea     1452 non-null   float64\n",
      " 26  ExterQual      1460 non-null   object \n",
      " 27  ExterCond      1460 non-null   object \n",
      " 28  Foundation     1460 non-null   object \n",
      " 29  BsmtQual       1423 non-null   object \n",
      " 30  BsmtCond       1423 non-null   object \n",
      " 31  BsmtExposure   1422 non-null   object \n",
      " 32  BsmtFinType1   1423 non-null   object \n",
      " 33  BsmtFinSF1     1460 non-null   int64  \n",
      " 34  BsmtFinType2   1422 non-null   object \n",
      " 35  BsmtFinSF2     1460 non-null   int64  \n",
      " 36  BsmtUnfSF      1460 non-null   int64  \n",
      " 37  TotalBsmtSF    1460 non-null   int64  \n",
      " 38  Heating        1460 non-null   object \n",
      " 39  HeatingQC      1460 non-null   object \n",
      " 40  CentralAir     1460 non-null   object \n",
      " 41  Electrical     1459 non-null   object \n",
      " 42  1stFlrSF       1460 non-null   int64  \n",
      " 43  2ndFlrSF       1460 non-null   int64  \n",
      " 44  LowQualFinSF   1460 non-null   int64  \n",
      " 45  GrLivArea      1460 non-null   int64  \n",
      " 46  BsmtFullBath   1460 non-null   int64  \n",
      " 47  BsmtHalfBath   1460 non-null   int64  \n",
      " 48  FullBath       1460 non-null   int64  \n",
      " 49  HalfBath       1460 non-null   int64  \n",
      " 50  BedroomAbvGr   1460 non-null   int64  \n",
      " 51  KitchenAbvGr   1460 non-null   int64  \n",
      " 52  KitchenQual    1460 non-null   object \n",
      " 53  TotRmsAbvGrd   1460 non-null   int64  \n",
      " 54  Functional     1460 non-null   object \n",
      " 55  Fireplaces     1460 non-null   int64  \n",
      " 56  FireplaceQu    770 non-null    object \n",
      " 57  GarageType     1379 non-null   object \n",
      " 58  GarageYrBlt    1379 non-null   float64\n",
      " 59  GarageFinish   1379 non-null   object \n",
      " 60  GarageCars     1460 non-null   int64  \n",
      " 61  GarageArea     1460 non-null   int64  \n",
      " 62  GarageQual     1379 non-null   object \n",
      " 63  GarageCond     1379 non-null   object \n",
      " 64  PavedDrive     1460 non-null   object \n",
      " 65  WoodDeckSF     1460 non-null   int64  \n",
      " 66  OpenPorchSF    1460 non-null   int64  \n",
      " 67  EnclosedPorch  1460 non-null   int64  \n",
      " 68  3SsnPorch      1460 non-null   int64  \n",
      " 69  ScreenPorch    1460 non-null   int64  \n",
      " 70  PoolArea       1460 non-null   int64  \n",
      " 71  PoolQC         7 non-null      object \n",
      " 72  Fence          281 non-null    object \n",
      " 73  MiscFeature    54 non-null     object \n",
      " 74  MiscVal        1460 non-null   int64  \n",
      " 75  MoSold         1460 non-null   int64  \n",
      " 76  YrSold         1460 non-null   int64  \n",
      " 77  SaleType       1460 non-null   object \n",
      " 78  SaleCondition  1460 non-null   object \n",
      " 79  SalePrice      1460 non-null   int64  \n",
      "dtypes: float64(3), int64(34), object(43)\n",
      "memory usage: 923.9+ KB\n"
     ]
    }
   ],
   "source": [
    "train.info()"
   ]
  },
  {
   "cell_type": "markdown",
   "metadata": {},
   "source": [
    "## **Target Variable Analysis**"
   ]
  },
  {
   "cell_type": "markdown",
   "metadata": {},
   "source": [
    "In this section we explore the target variable `SalePrice` and its distribution, identifying potential outliers and deciding how to handle them."
   ]
  },
  {
   "cell_type": "markdown",
   "metadata": {},
   "source": [
    "### **Descriptive Statistics**"
   ]
  },
  {
   "cell_type": "code",
   "execution_count": 47,
   "metadata": {},
   "outputs": [
    {
     "data": {
      "text/plain": [
       "count      1460.000000\n",
       "mean     180921.195890\n",
       "std       79442.502883\n",
       "min       34900.000000\n",
       "25%      129975.000000\n",
       "50%      163000.000000\n",
       "75%      214000.000000\n",
       "max      755000.000000\n",
       "Name: SalePrice, dtype: float64"
      ]
     },
     "execution_count": 47,
     "metadata": {},
     "output_type": "execute_result"
    }
   ],
   "source": [
    "train['SalePrice'].describe()"
   ]
  },
  {
   "cell_type": "markdown",
   "metadata": {},
   "source": [
    "#### **Interpretation:**\n",
    "\n",
    "This statistical summary provides key insights into the distribution of the `SalePrice` variable:\n",
    "\n",
    "- **Count $= 1460$**: There are 1460 observations (rows) in the dataset for `SalePrice`, indicating no missing values.\n",
    "\n",
    "- **Mean $= 180,921.20$**: The average sale price of houses is approximately $180,921.\n",
    "\n",
    "- **Standard Deviation $= 79,442.50$**: The typical deviation of house prices from the mean is $79,442, indicating significant variability.\n",
    "\n",
    "- **Minimum $= 34,900$**: The lowest house price in the dataset is $34,900.\n",
    "\n",
    "- **25th Percentile $= 129,975$**: 25% of house prices are below $129,975.\n",
    "\n",
    "- **Median/50th Percentile $= 163,000$**: The median house price is $163,000, showing that half of the houses are priced below this value. This is lower than the mean, confirming the right-skewness.\n",
    "\n",
    "- **75th Percentile $= 214,000$**: 75% of house prices are below $214,000.\n",
    "\n",
    "- **Maximum $= 755,000$**: The highest house price in the dataset is $755,000, indicating potential outliers in the high price range.\n",
    "\n",
    "#### **Key Observations:**\n",
    "- The mean is greater than the median, suggesting a **right-skewed distribution** of house prices.\n",
    "\n",
    "- The large range (from $34,900 to $755,000) and high standard deviation suggest significant variability in housing prices.\n",
    "\n",
    "- Potential outliers exist in the upper range (e.g., max value of $755,000), which may need attention during preprocessing."
   ]
  },
  {
   "cell_type": "markdown",
   "metadata": {},
   "source": [
    "### **Distribution**"
   ]
  },
  {
   "cell_type": "markdown",
   "metadata": {},
   "source": [
    "We will plot the distribution of `SalePrice` and calculate the skewness and kurtosis of the data. \n",
    "\n",
    "We will also use Kernel Density Estimation (KDE) to estimate the probability density function of the data."
   ]
  },
  {
   "cell_type": "markdown",
   "metadata": {},
   "source": [
    "#### **Brief Theory: Kernel Density Estimation (KDE)**\n",
    "\n",
    "Kernel Density Estimation (KDE) is a non-parametric method to estimate the probability density function (PDF) of a dataset. \n",
    "It smooths the histogram by placing a small, continuous kernel (e.g., Gaussian) at each data point.\n",
    "\n",
    "#### **Formula**\n",
    "$$\n",
    "f(x) = \\frac{1}{n \\times h}\\sum(\\frac{K((x - x_i)}{h})\n",
    "$$\n",
    "\n",
    "Where:\n",
    "- $n$: Number of data points\n",
    "- $h$: Bandwidth (controls smoothness)\n",
    "- $K$: Kernel function (e.g., Gaussian kernel)"
   ]
  },
  {
   "cell_type": "code",
   "execution_count": 48,
   "metadata": {},
   "outputs": [
    {
     "data": {
      "application/vnd.plotly.v1+json": {
       "config": {
        "plotlyServerURL": "https://plot.ly"
       },
       "data": [
        {
         "alignmentgroup": "True",
         "bingroup": "x",
         "histnorm": "probability density",
         "hovertemplate": "Sale Price=%{x}<br>probability density=%{y}<extra></extra>",
         "legendgroup": "",
         "marker": {
          "color": "blue",
          "pattern": {
           "shape": ""
          }
         },
         "name": "",
         "nbinsx": 100,
         "offsetgroup": "",
         "opacity": 0.75,
         "orientation": "v",
         "showlegend": false,
         "type": "histogram",
         "x": [
          208500,
          181500,
          223500,
          140000,
          250000,
          143000,
          307000,
          200000,
          129900,
          118000,
          129500,
          345000,
          144000,
          279500,
          157000,
          132000,
          149000,
          90000,
          159000,
          139000,
          325300,
          139400,
          230000,
          129900,
          154000,
          256300,
          134800,
          306000,
          207500,
          68500,
          40000,
          149350,
          179900,
          165500,
          277500,
          309000,
          145000,
          153000,
          109000,
          82000,
          160000,
          170000,
          144000,
          130250,
          141000,
          319900,
          239686,
          249700,
          113000,
          127000,
          177000,
          114500,
          110000,
          385000,
          130000,
          180500,
          172500,
          196500,
          438780,
          124900,
          158000,
          101000,
          202500,
          140000,
          219500,
          317000,
          180000,
          226000,
          80000,
          225000,
          244000,
          129500,
          185000,
          144900,
          107400,
          91000,
          135750,
          127000,
          136500,
          110000,
          193500,
          153500,
          245000,
          126500,
          168500,
          260000,
          174000,
          164500,
          85000,
          123600,
          109900,
          98600,
          163500,
          133900,
          204750,
          185000,
          214000,
          94750,
          83000,
          128950,
          205000,
          178000,
          118964,
          198900,
          169500,
          250000,
          100000,
          115000,
          115000,
          190000,
          136900,
          180000,
          383970,
          217000,
          259500,
          176000,
          139000,
          155000,
          320000,
          163990,
          180000,
          100000,
          136000,
          153900,
          181000,
          84500,
          128000,
          87000,
          155000,
          150000,
          226000,
          244000,
          150750,
          220000,
          180000,
          174000,
          143000,
          171000,
          230000,
          231500,
          115000,
          260000,
          166000,
          204000,
          125000,
          130000,
          105000,
          222500,
          141000,
          115000,
          122000,
          372402,
          190000,
          235000,
          125000,
          79000,
          109500,
          269500,
          254900,
          320000,
          162500,
          412500,
          220000,
          103200,
          152000,
          127500,
          190000,
          325624,
          183500,
          228000,
          128500,
          215000,
          239000,
          163000,
          184000,
          243000,
          211000,
          172500,
          501837,
          100000,
          177000,
          200100,
          120000,
          200000,
          127000,
          475000,
          173000,
          135000,
          153337,
          286000,
          315000,
          184000,
          192000,
          130000,
          127000,
          148500,
          311872,
          235000,
          104000,
          274900,
          140000,
          171500,
          112000,
          149000,
          110000,
          180500,
          143900,
          141000,
          277000,
          145000,
          98000,
          186000,
          252678,
          156000,
          161750,
          134450,
          210000,
          107000,
          311500,
          167240,
          204900,
          200000,
          179900,
          97000,
          386250,
          112000,
          290000,
          106000,
          125000,
          192500,
          148000,
          403000,
          94500,
          128200,
          216500,
          89500,
          185500,
          194500,
          318000,
          113000,
          262500,
          110500,
          79000,
          120000,
          205000,
          241500,
          137000,
          140000,
          180000,
          277000,
          76500,
          235000,
          173000,
          158000,
          145000,
          230000,
          207500,
          220000,
          231500,
          97000,
          176000,
          276000,
          151000,
          130000,
          73000,
          175500,
          185000,
          179500,
          120500,
          148000,
          266000,
          241500,
          290000,
          139000,
          124500,
          205000,
          201000,
          141000,
          415298,
          192000,
          228500,
          185000,
          207500,
          244600,
          179200,
          164700,
          159000,
          88000,
          122000,
          153575,
          233230,
          135900,
          131000,
          235000,
          167000,
          142500,
          152000,
          239000,
          175000,
          158500,
          157000,
          267000,
          205000,
          149900,
          295000,
          305900,
          225000,
          89500,
          82500,
          360000,
          165600,
          132000,
          119900,
          375000,
          178000,
          188500,
          260000,
          270000,
          260000,
          187500,
          342643,
          354000,
          301000,
          126175,
          242000,
          87000,
          324000,
          145250,
          214500,
          78000,
          119000,
          139000,
          284000,
          207000,
          192000,
          228950,
          377426,
          214000,
          202500,
          155000,
          202900,
          82000,
          87500,
          266000,
          85000,
          140200,
          151500,
          157500,
          154000,
          437154,
          318061,
          190000,
          95000,
          105900,
          140000,
          177500,
          173000,
          134000,
          130000,
          280000,
          156000,
          145000,
          198500,
          118000,
          190000,
          147000,
          159000,
          165000,
          132000,
          162000,
          172400,
          134432,
          125000,
          123000,
          219500,
          61000,
          148000,
          340000,
          394432,
          179000,
          127000,
          187750,
          213500,
          76000,
          240000,
          192000,
          81000,
          125000,
          191000,
          426000,
          119000,
          215000,
          106500,
          100000,
          109000,
          129000,
          123000,
          169500,
          67000,
          241000,
          245500,
          164990,
          108000,
          258000,
          168000,
          150000,
          115000,
          177000,
          280000,
          339750,
          60000,
          145000,
          222000,
          115000,
          228000,
          181134,
          149500,
          239000,
          126000,
          142000,
          206300,
          215000,
          113000,
          315000,
          139000,
          135000,
          275000,
          109008,
          195400,
          175000,
          85400,
          79900,
          122500,
          181000,
          81000,
          212000,
          116000,
          119000,
          90350,
          110000,
          555000,
          118000,
          162900,
          172500,
          210000,
          127500,
          190000,
          199900,
          119500,
          120000,
          110000,
          280000,
          204000,
          210000,
          188000,
          175500,
          98000,
          256000,
          161000,
          110000,
          263435,
          155000,
          62383,
          188700,
          124000,
          178740,
          167000,
          146500,
          250000,
          187000,
          212000,
          190000,
          148000,
          440000,
          251000,
          132500,
          208900,
          380000,
          297000,
          89471,
          326000,
          374000,
          155000,
          164000,
          132500,
          147000,
          156000,
          175000,
          160000,
          86000,
          115000,
          133000,
          172785,
          155000,
          91300,
          34900,
          430000,
          184000,
          130000,
          120000,
          113000,
          226700,
          140000,
          289000,
          147000,
          124500,
          215000,
          208300,
          161000,
          124500,
          164900,
          202665,
          129900,
          134000,
          96500,
          402861,
          158000,
          265000,
          211000,
          234000,
          106250,
          150000,
          159000,
          184750,
          315750,
          176000,
          132000,
          446261,
          86000,
          200624,
          175000,
          128000,
          107500,
          39300,
          178000,
          107500,
          188000,
          111250,
          158000,
          272000,
          315000,
          248000,
          213250,
          133000,
          179665,
          229000,
          210000,
          129500,
          125000,
          263000,
          140000,
          112500,
          255500,
          108000,
          284000,
          113000,
          141000,
          108000,
          175000,
          234000,
          121500,
          170000,
          108000,
          185000,
          268000,
          128000,
          325000,
          214000,
          316600,
          135960,
          142600,
          120000,
          224500,
          170000,
          139000,
          118500,
          145000,
          164500,
          146000,
          131500,
          181900,
          253293,
          118500,
          325000,
          133000,
          369900,
          130000,
          137000,
          143000,
          79500,
          185900,
          451950,
          138000,
          140000,
          110000,
          319000,
          114504,
          194201,
          217500,
          151000,
          275000,
          141000,
          220000,
          151000,
          221000,
          205000,
          152000,
          225000,
          359100,
          118500,
          313000,
          148000,
          261500,
          147000,
          75500,
          137500,
          183200,
          105500,
          314813,
          305000,
          67000,
          240000,
          135000,
          168500,
          165150,
          160000,
          139900,
          153000,
          135000,
          168500,
          124000,
          209500,
          82500,
          139400,
          144000,
          200000,
          60000,
          93000,
          85000,
          264561,
          274000,
          226000,
          345000,
          152000,
          370878,
          143250,
          98300,
          155000,
          155000,
          84500,
          205950,
          108000,
          191000,
          135000,
          350000,
          88000,
          145500,
          149000,
          97500,
          167000,
          197900,
          402000,
          110000,
          137500,
          423000,
          230500,
          129000,
          193500,
          168000,
          137500,
          173500,
          103600,
          165000,
          257500,
          140000,
          148500,
          87000,
          109500,
          372500,
          128500,
          143000,
          159434,
          173000,
          285000,
          221000,
          207500,
          227875,
          148800,
          392000,
          194700,
          141000,
          755000,
          335000,
          108480,
          141500,
          176000,
          89000,
          123500,
          138500,
          196000,
          312500,
          140000,
          361919,
          140000,
          213000,
          55000,
          302000,
          254000,
          179540,
          109900,
          52000,
          102776,
          189000,
          129000,
          130500,
          165000,
          159500,
          157000,
          341000,
          128500,
          275000,
          143000,
          124500,
          135000,
          320000,
          120500,
          222000,
          194500,
          110000,
          103000,
          236500,
          187500,
          222500,
          131400,
          108000,
          163000,
          93500,
          239900,
          179000,
          190000,
          132000,
          142000,
          179000,
          175000,
          180000,
          299800,
          236000,
          265979,
          260400,
          98000,
          96500,
          162000,
          217000,
          275500,
          156000,
          172500,
          212000,
          158900,
          179400,
          290000,
          127500,
          100000,
          215200,
          337000,
          270000,
          264132,
          196500,
          160000,
          216837,
          538000,
          134900,
          102000,
          107000,
          114500,
          395000,
          162000,
          221500,
          142500,
          144000,
          135000,
          176000,
          175900,
          187100,
          165500,
          128000,
          161500,
          139000,
          233000,
          107900,
          187500,
          160200,
          146800,
          269790,
          225000,
          194500,
          171000,
          143500,
          110000,
          485000,
          175000,
          200000,
          109900,
          189000,
          582933,
          118000,
          227680,
          135500,
          223500,
          159950,
          106000,
          181000,
          144500,
          55993,
          157900,
          116000,
          224900,
          137000,
          271000,
          155000,
          224000,
          183000,
          93000,
          225000,
          139500,
          232600,
          385000,
          109500,
          189000,
          185000,
          147400,
          166000,
          151000,
          237000,
          167000,
          139950,
          128000,
          153500,
          100000,
          144000,
          130500,
          140000,
          157500,
          174900,
          141000,
          153900,
          171000,
          213000,
          133500,
          240000,
          187000,
          131500,
          215000,
          164000,
          158000,
          170000,
          127000,
          147000,
          174000,
          152000,
          250000,
          189950,
          131500,
          152000,
          132500,
          250580,
          148500,
          248900,
          129000,
          169000,
          236000,
          109500,
          200500,
          116000,
          133000,
          66500,
          303477,
          132250,
          350000,
          148000,
          136500,
          157000,
          187500,
          178000,
          118500,
          100000,
          328900,
          145000,
          135500,
          268000,
          149500,
          122900,
          172500,
          154500,
          165000,
          118858,
          140000,
          106500,
          142953,
          611657,
          135000,
          110000,
          153000,
          180000,
          240000,
          125500,
          128000,
          255000,
          250000,
          131000,
          174000,
          154300,
          143500,
          88000,
          145000,
          173733,
          75000,
          35311,
          135000,
          238000,
          176500,
          201000,
          145900,
          169990,
          193000,
          207500,
          175000,
          285000,
          176000,
          236500,
          222000,
          201000,
          117500,
          320000,
          190000,
          242000,
          79900,
          184900,
          253000,
          239799,
          244400,
          150900,
          214000,
          150000,
          143000,
          137500,
          124900,
          143000,
          270000,
          192500,
          197500,
          129000,
          119900,
          133900,
          172000,
          127500,
          145000,
          124000,
          132000,
          185000,
          155000,
          116500,
          272000,
          155000,
          239000,
          214900,
          178900,
          160000,
          135000,
          37900,
          140000,
          135000,
          173000,
          99500,
          182000,
          167500,
          165000,
          85500,
          199900,
          110000,
          139000,
          178400,
          336000,
          159895,
          255900,
          126000,
          125000,
          117000,
          395192,
          195000,
          197000,
          348000,
          168000,
          187000,
          173900,
          337500,
          121600,
          136500,
          185000,
          91000,
          206000,
          82000,
          86000,
          232000,
          136905,
          181000,
          149900,
          163500,
          88000,
          240000,
          102000,
          135000,
          100000,
          165000,
          85000,
          119200,
          227000,
          203000,
          187500,
          160000,
          213490,
          176000,
          194000,
          87000,
          191000,
          287000,
          112500,
          167500,
          293077,
          105000,
          118000,
          160000,
          197000,
          310000,
          230000,
          119750,
          84000,
          315500,
          287000,
          97000,
          80000,
          155000,
          173000,
          196000,
          262280,
          278000,
          139600,
          556581,
          145000,
          115000,
          84900,
          176485,
          200141,
          165000,
          144500,
          255000,
          180000,
          185850,
          248000,
          335000,
          220000,
          213500,
          81000,
          90000,
          110500,
          154000,
          328000,
          178000,
          167900,
          151400,
          135000,
          135000,
          154000,
          91500,
          159500,
          194000,
          219500,
          170000,
          138800,
          155900,
          126000,
          145000,
          133000,
          192000,
          160000,
          187500,
          147000,
          83500,
          252000,
          137500,
          197000,
          92900,
          160000,
          136500,
          146000,
          129000,
          176432,
          127000,
          170000,
          128000,
          157000,
          60000,
          119500,
          135000,
          159500,
          106000,
          325000,
          179900,
          274725,
          181000,
          280000,
          188000,
          205000,
          129900,
          134500,
          117000,
          318000,
          184100,
          130000,
          140000,
          133700,
          118400,
          212900,
          112000,
          118000,
          163900,
          115000,
          174000,
          259000,
          215000,
          140000,
          135000,
          93500,
          117500,
          239500,
          169000,
          102000,
          119000,
          94000,
          196000,
          144000,
          139000,
          197500,
          424870,
          80000,
          80000,
          149000,
          180000,
          174500,
          116900,
          143000,
          124000,
          149900,
          230000,
          120500,
          201800,
          218000,
          179900,
          230000,
          235128,
          185000,
          146000,
          224000,
          129000,
          108959,
          194000,
          233170,
          245350,
          173000,
          235000,
          625000,
          171000,
          163000,
          171900,
          200500,
          239000,
          285000,
          119500,
          115000,
          154900,
          93000,
          250000,
          392500,
          745000,
          120000,
          186700,
          104900,
          95000,
          262000,
          195000,
          189000,
          168000,
          174000,
          125000,
          165000,
          158000,
          176000,
          219210,
          144000,
          178000,
          148000,
          116050,
          197900,
          117000,
          213000,
          153500,
          271900,
          107000,
          200000,
          140000,
          290000,
          189000,
          164000,
          113000,
          145000,
          134500,
          125000,
          112000,
          229456,
          80500,
          91500,
          115000,
          134000,
          143000,
          137900,
          184000,
          145000,
          214000,
          147000,
          367294,
          127000,
          190000,
          132500,
          101800,
          142000,
          130000,
          138887,
          175500,
          195000,
          142500,
          265900,
          224900,
          248328,
          170000,
          465000,
          230000,
          178000,
          186500,
          169900,
          129500,
          119000,
          244000,
          171750,
          130000,
          294000,
          165400,
          127500,
          301500,
          99900,
          190000,
          151000,
          181000,
          128900,
          161500,
          180500,
          181000,
          183900,
          122000,
          378500,
          381000,
          144000,
          260000,
          185750,
          137000,
          177000,
          139000,
          137000,
          162000,
          197900,
          237000,
          68400,
          227000,
          180000,
          150500,
          139000,
          169000,
          132500,
          143000,
          190000,
          278000,
          281000,
          180500,
          119500,
          107500,
          162900,
          115000,
          138500,
          155000,
          140000,
          160000,
          154000,
          225000,
          177500,
          290000,
          232000,
          130000,
          325000,
          202500,
          138000,
          147000,
          179200,
          335000,
          203000,
          302000,
          333168,
          119000,
          206900,
          295493,
          208900,
          275000,
          111000,
          156500,
          72500,
          190000,
          82500,
          147000,
          55000,
          79000,
          130500,
          256000,
          176500,
          227000,
          132500,
          100000,
          125500,
          125000,
          167900,
          135000,
          52500,
          200000,
          128500,
          123000,
          155000,
          228500,
          177000,
          155835,
          108500,
          262500,
          283463,
          215000,
          122000,
          200000,
          171000,
          134900,
          410000,
          235000,
          170000,
          110000,
          149900,
          177500,
          315000,
          189000,
          260000,
          104900,
          156932,
          144152,
          216000,
          193000,
          127000,
          144000,
          232000,
          105000,
          165500,
          274300,
          466500,
          250000,
          239000,
          91000,
          117000,
          83000,
          167500,
          58500,
          237500,
          157000,
          112000,
          105000,
          125500,
          250000,
          136000,
          377500,
          131000,
          235000,
          124000,
          123000,
          163000,
          246578,
          281213,
          160000,
          137500,
          138000,
          137450,
          120000,
          193000,
          193879,
          282922,
          105000,
          275000,
          133000,
          112000,
          125500,
          215000,
          230000,
          140000,
          90000,
          257000,
          207000,
          175900,
          122500,
          340000,
          124000,
          223000,
          179900,
          127500,
          136500,
          274970,
          144000,
          142000,
          271000,
          140000,
          119000,
          182900,
          192140,
          143750,
          64500,
          186500,
          160000,
          174000,
          120500,
          394617,
          149700,
          197000,
          191000,
          149300,
          310000,
          121000,
          179600,
          129000,
          157900,
          240000,
          112000,
          92000,
          136000,
          287090,
          145000,
          84500,
          185000,
          175000,
          210000,
          266500,
          142125,
          147500
         ],
         "xaxis": "x",
         "yaxis": "y"
        },
        {
         "line": {
          "color": "black",
          "width": 2
         },
         "mode": "lines",
         "name": "Density Estimation",
         "type": "scatter",
         "x": [
          34900,
          35620.82082082082,
          36341.64164164164,
          37062.46246246246,
          37783.28328328329,
          38504.1041041041,
          39224.924924924926,
          39945.74574574575,
          40666.566566566566,
          41387.38738738739,
          42108.208208208205,
          42829.02902902903,
          43549.84984984985,
          44270.67067067067,
          44991.49149149149,
          45712.31231231231,
          46433.13313313313,
          47153.953953953955,
          47874.77477477478,
          48595.595595595594,
          49316.41641641642,
          50037.237237237234,
          50758.05805805806,
          51478.87887887888,
          52199.699699699704,
          52920.52052052052,
          53641.34134134134,
          54362.16216216216,
          55082.98298298298,
          55803.80380380381,
          56524.62462462462,
          57245.445445445446,
          57966.26626626626,
          58687.087087087086,
          59407.90790790791,
          60128.72872872873,
          60849.54954954955,
          61570.370370370365,
          62291.19119119119,
          63012.01201201201,
          63732.832832832835,
          64453.65365365366,
          65174.474474474475,
          65895.29529529529,
          66616.11611611611,
          67336.93693693694,
          68057.75775775776,
          68778.57857857857,
          69499.39939939941,
          70220.22022022022,
          70941.04104104104,
          71661.86186186186,
          72382.68268268267,
          73103.50350350351,
          73824.32432432432,
          74545.14514514514,
          75265.96596596597,
          75986.78678678679,
          76707.60760760761,
          77428.42842842842,
          78149.24924924925,
          78870.07007007007,
          79590.89089089089,
          80311.71171171172,
          81032.53253253252,
          81753.35335335336,
          82474.17417417417,
          83194.994994995,
          83915.81581581582,
          84636.63663663663,
          85357.45745745747,
          86078.27827827827,
          86799.0990990991,
          87519.91991991992,
          88240.74074074073,
          88961.56156156157,
          89682.38238238238,
          90403.2032032032,
          91124.02402402402,
          91844.84484484485,
          92565.66566566567,
          93286.48648648648,
          94007.30730730732,
          94728.12812812813,
          95448.94894894895,
          96169.76976976977,
          96890.59059059058,
          97611.41141141142,
          98332.23223223223,
          99053.05305305305,
          99773.87387387388,
          100494.6946946947,
          101215.51551551551,
          101936.33633633633,
          102657.15715715715,
          103377.97797797798,
          104098.7987987988,
          104819.61961961963,
          105540.44044044043,
          106261.26126126126,
          106982.08208208208,
          107702.9029029029,
          108423.72372372373,
          109144.54454454454,
          109865.36536536536,
          110586.18618618618,
          111307.007007007,
          112027.82782782783,
          112748.64864864865,
          113469.46946946946,
          114190.29029029029,
          114911.11111111111,
          115631.93193193193,
          116352.75275275276,
          117073.57357357358,
          117794.39439439439,
          118515.21521521521,
          119236.03603603604,
          119956.85685685686,
          120677.67767767768,
          121398.49849849849,
          122119.31931931931,
          122840.14014014014,
          123560.96096096096,
          124281.78178178178,
          125002.60260260261,
          125723.42342342342,
          126444.24424424424,
          127165.06506506506,
          127885.88588588589,
          128606.70670670671,
          129327.52752752752,
          130048.34834834834,
          130769.16916916917,
          131489.98998999,
          132210.81081081083,
          132931.63163163164,
          133652.45245245245,
          134373.27327327325,
          135094.0940940941,
          135814.91491491493,
          136535.73573573574,
          137256.55655655655,
          137977.37737737736,
          138698.1981981982,
          139419.01901901903,
          140139.83983983984,
          140860.66066066065,
          141581.48148148146,
          142302.3023023023,
          143023.12312312314,
          143743.94394394394,
          144464.76476476475,
          145185.5855855856,
          145906.4064064064,
          146627.22722722724,
          147348.04804804805,
          148068.86886886886,
          148789.6896896897,
          149510.5105105105,
          150231.33133133134,
          150952.15215215215,
          151672.97297297296,
          152393.7937937938,
          153114.61461461463,
          153835.43543543544,
          154556.25625625625,
          155277.07707707706,
          155997.8978978979,
          156718.71871871874,
          157439.53953953955,
          158160.36036036036,
          158881.18118118116,
          159602.002002002,
          160322.82282282284,
          161043.64364364365,
          161764.46446446446,
          162485.28528528527,
          163206.1061061061,
          163926.92692692694,
          164647.74774774775,
          165368.56856856856,
          166089.3893893894,
          166810.2102102102,
          167531.03103103102,
          168251.85185185185,
          168972.67267267266,
          169693.4934934935,
          170414.3143143143,
          171135.13513513515,
          171855.95595595596,
          172576.77677677677,
          173297.5975975976,
          174018.4184184184,
          174739.23923923925,
          175460.06006006006,
          176180.88088088087,
          176901.7017017017,
          177622.52252252251,
          178343.34334334335,
          179064.16416416416,
          179784.98498498497,
          180505.8058058058,
          181226.62662662662,
          181947.44744744746,
          182668.26826826826,
          183389.08908908907,
          184109.9099099099,
          184830.73073073072,
          185551.55155155156,
          186272.37237237237,
          186993.1931931932,
          187714.014014014,
          188434.83483483482,
          189155.65565565566,
          189876.47647647647,
          190597.2972972973,
          191318.11811811812,
          192038.93893893893,
          192759.75975975976,
          193480.58058058057,
          194201.4014014014,
          194922.22222222222,
          195643.04304304303,
          196363.86386386387,
          197084.68468468467,
          197805.5055055055,
          198526.32632632632,
          199247.14714714716,
          199967.96796796797,
          200688.78878878878,
          201409.60960960962,
          202130.43043043042,
          202851.25125125126,
          203572.07207207207,
          204292.89289289288,
          205013.71371371372,
          205734.53453453453,
          206455.35535535536,
          207176.17617617617,
          207896.99699699698,
          208617.81781781782,
          209338.63863863863,
          210059.45945945947,
          210780.28028028028,
          211501.10110110109,
          212221.92192192192,
          212942.74274274273,
          213663.56356356357,
          214384.38438438438,
          215105.20520520522,
          215826.02602602603,
          216546.84684684683,
          217267.66766766767,
          217988.48848848848,
          218709.30930930932,
          219430.13013013013,
          220150.95095095094,
          220871.77177177178,
          221592.59259259258,
          222313.41341341342,
          223034.23423423423,
          223755.05505505504,
          224475.87587587588,
          225196.6966966967,
          225917.51751751752,
          226638.33833833833,
          227359.15915915917,
          228079.97997997998,
          228800.8008008008,
          229521.62162162163,
          230242.44244244244,
          230963.26326326327,
          231684.08408408408,
          232404.9049049049,
          233125.72572572573,
          233846.54654654654,
          234567.36736736738,
          235288.1881881882,
          236009.009009009,
          236729.82982982983,
          237450.65065065064,
          238171.47147147148,
          238892.2922922923,
          239613.1131131131,
          240333.93393393393,
          241054.75475475474,
          241775.57557557558,
          242496.3963963964,
          243217.21721721723,
          243938.03803803804,
          244658.85885885885,
          245379.67967967968,
          246100.5005005005,
          246821.32132132133,
          247542.14214214214,
          248262.96296296295,
          248983.7837837838,
          249704.6046046046,
          250425.42542542543,
          251146.24624624624,
          251867.06706706705,
          252587.8878878879,
          253308.7087087087,
          254029.52952952954,
          254750.35035035035,
          255471.17117117118,
          256191.991991992,
          256912.8128128128,
          257633.63363363364,
          258354.45445445445,
          259075.2752752753,
          259796.0960960961,
          260516.9169169169,
          261237.73773773774,
          261958.55855855855,
          262679.3793793794,
          263400.2002002002,
          264121.021021021,
          264841.8418418418,
          265562.6626626627,
          266283.4834834835,
          267004.3043043043,
          267725.1251251251,
          268445.9459459459,
          269166.7667667668,
          269887.5875875876,
          270608.4084084084,
          271329.22922922927,
          272050.05005005,
          272770.8708708709,
          273491.6916916917,
          274212.5125125125,
          274933.3333333334,
          275654.1541541541,
          276374.974974975,
          277095.7957957958,
          277816.6166166166,
          278537.4374374375,
          279258.2582582582,
          279979.0790790791,
          280699.8998998999,
          281420.7207207207,
          282141.5415415416,
          282862.3623623623,
          283583.1831831832,
          284304.004004004,
          285024.8248248248,
          285745.6456456457,
          286466.46646646643,
          287187.2872872873,
          287908.1081081081,
          288628.9289289289,
          289349.7497497498,
          290070.57057057053,
          290791.3913913914,
          291512.2122122122,
          292233.033033033,
          292953.8538538539,
          293674.67467467464,
          294395.4954954955,
          295116.3163163163,
          295837.1371371371,
          296557.957957958,
          297278.7787787788,
          297999.5995995996,
          298720.4204204204,
          299441.2412412412,
          300162.06206206203,
          300882.8828828829,
          301603.7037037037,
          302324.5245245245,
          303045.3453453453,
          303766.16616616613,
          304486.986986987,
          305207.8078078078,
          305928.6286286286,
          306649.4494494494,
          307370.2702702703,
          308091.0910910911,
          308811.9119119119,
          309532.7327327327,
          310253.55355355353,
          310974.3743743744,
          311695.1951951952,
          312416.016016016,
          313136.8368368368,
          313857.65765765763,
          314578.4784784785,
          315299.2992992993,
          316020.1201201201,
          316740.9409409409,
          317461.76176176174,
          318182.5825825826,
          318903.4034034034,
          319624.2242242242,
          320345.04504504503,
          321065.86586586584,
          321786.6866866867,
          322507.5075075075,
          323228.3283283283,
          323949.14914914913,
          324669.96996996994,
          325390.7907907908,
          326111.6116116116,
          326832.4324324324,
          327553.25325325324,
          328274.07407407404,
          328994.8948948949,
          329715.7157157157,
          330436.5365365365,
          331157.35735735734,
          331878.17817817815,
          332598.998998999,
          333319.8198198198,
          334040.64064064063,
          334761.46146146144,
          335482.2822822823,
          336203.1031031031,
          336923.9239239239,
          337644.74474474473,
          338365.56556556554,
          339086.3863863864,
          339807.2072072072,
          340528.028028028,
          341248.84884884884,
          341969.66966966965,
          342690.4904904905,
          343411.3113113113,
          344132.13213213213,
          344852.95295295294,
          345573.77377377375,
          346294.5945945946,
          347015.4154154154,
          347736.23623623623,
          348457.05705705704,
          349177.87787787785,
          349898.6986986987,
          350619.5195195195,
          351340.34034034034,
          352061.16116116114,
          352781.98198198195,
          353502.8028028028,
          354223.6236236236,
          354944.44444444444,
          355665.26526526525,
          356386.08608608606,
          357106.9069069069,
          357827.72772772773,
          358548.54854854854,
          359269.36936936935,
          359990.19019019016,
          360711.011011011,
          361431.83183183183,
          362152.65265265264,
          362873.47347347345,
          363594.2942942943,
          364315.1151151151,
          365035.93593593594,
          365756.75675675675,
          366477.57757757755,
          367198.3983983984,
          367919.21921921923,
          368640.04004004004,
          369360.86086086085,
          370081.68168168166,
          370802.5025025025,
          371523.32332332333,
          372244.14414414414,
          372964.96496496495,
          373685.78578578576,
          374406.6066066066,
          375127.42742742744,
          375848.24824824824,
          376569.06906906905,
          377289.88988988986,
          378010.71071071073,
          378731.53153153154,
          379452.35235235235,
          380173.17317317316,
          380893.99399399396,
          381614.81481481483,
          382335.63563563564,
          383056.45645645645,
          383777.27727727726,
          384498.09809809807,
          385218.91891891893,
          385939.73973973974,
          386660.56056056055,
          387381.38138138136,
          388102.20220220217,
          388823.02302302304,
          389543.84384384385,
          390264.66466466465,
          390985.48548548546,
          391706.30630630633,
          392427.12712712714,
          393147.94794794795,
          393868.76876876876,
          394589.58958958957,
          395310.41041041043,
          396031.23123123124,
          396752.05205205205,
          397472.87287287286,
          398193.69369369367,
          398914.51451451454,
          399635.33533533535,
          400356.15615615615,
          401076.97697697696,
          401797.7977977978,
          402518.61861861864,
          403239.43943943945,
          403960.26026026026,
          404681.08108108107,
          405401.9019019019,
          406122.72272272274,
          406843.54354354355,
          407564.36436436436,
          408285.18518518517,
          409006.006006006,
          409726.82682682684,
          410447.64764764765,
          411168.46846846846,
          411889.28928928927,
          412610.1101101101,
          413330.93093093095,
          414051.75175175176,
          414772.57257257256,
          415493.3933933934,
          416214.2142142142,
          416935.03503503505,
          417655.85585585586,
          418376.67667667667,
          419097.4974974975,
          419818.31831831834,
          420539.13913913915,
          421259.95995995996,
          421980.78078078077,
          422701.6016016016,
          423422.42242242245,
          424143.24324324325,
          424864.06406406406,
          425584.8848848849,
          426305.7057057057,
          427026.52652652655,
          427747.34734734736,
          428468.16816816817,
          429188.988988989,
          429909.8098098098,
          430630.63063063065,
          431351.45145145146,
          432072.27227227227,
          432793.0930930931,
          433513.9139139139,
          434234.73473473475,
          434955.55555555556,
          435676.3763763764,
          436397.1971971972,
          437118.018018018,
          437838.83883883886,
          438559.65965965966,
          439280.4804804805,
          440001.3013013013,
          440722.1221221221,
          441442.94294294296,
          442163.76376376377,
          442884.5845845846,
          443605.4054054054,
          444326.2262262262,
          445047.04704704706,
          445767.86786786787,
          446488.6886886887,
          447209.5095095095,
          447930.33033033035,
          448651.15115115116,
          449371.971971972,
          450092.7927927928,
          450813.6136136136,
          451534.43443443446,
          452255.25525525527,
          452976.0760760761,
          453696.8968968969,
          454417.7177177177,
          455138.53853853856,
          455859.35935935937,
          456580.1801801802,
          457301.001001001,
          458021.8218218218,
          458742.64264264266,
          459463.4634634635,
          460184.2842842843,
          460905.1051051051,
          461625.9259259259,
          462346.74674674676,
          463067.5675675676,
          463788.3883883884,
          464509.2092092092,
          465230.03003003,
          465950.85085085087,
          466671.6716716717,
          467392.4924924925,
          468113.3133133133,
          468834.1341341341,
          469554.95495495497,
          470275.7757757758,
          470996.5965965966,
          471717.4174174174,
          472438.2382382382,
          473159.0590590591,
          473879.8798798799,
          474600.7007007007,
          475321.5215215215,
          476042.34234234237,
          476763.1631631632,
          477483.983983984,
          478204.8048048048,
          478925.6256256256,
          479646.44644644647,
          480367.2672672673,
          481088.0880880881,
          481808.9089089089,
          482529.7297297297,
          483250.5505505506,
          483971.3713713714,
          484692.1921921922,
          485413.013013013,
          486133.8338338338,
          486854.6546546547,
          487575.4754754755,
          488296.2962962963,
          489017.1171171171,
          489737.9379379379,
          490458.7587587588,
          491179.5795795796,
          491900.4004004004,
          492621.2212212212,
          493342.042042042,
          494062.8628628629,
          494783.6836836837,
          495504.5045045045,
          496225.3253253253,
          496946.1461461461,
          497666.966966967,
          498387.7877877878,
          499108.6086086086,
          499829.4294294294,
          500550.2502502502,
          501271.0710710711,
          501991.8918918919,
          502712.7127127127,
          503433.5335335335,
          504154.3543543544,
          504875.1751751752,
          505595.995995996,
          506316.8168168168,
          507037.6376376376,
          507758.4584584585,
          508479.2792792793,
          509200.1001001001,
          509920.9209209209,
          510641.7417417417,
          511362.5625625626,
          512083.3833833834,
          512804.2042042042,
          513525.025025025,
          514245.8458458458,
          514966.6666666667,
          515687.4874874875,
          516408.3083083083,
          517129.1291291291,
          517849.9499499499,
          518570.7707707708,
          519291.5915915916,
          520012.4124124124,
          520733.2332332332,
          521454.054054054,
          522174.8748748749,
          522895.6956956957,
          523616.5165165165,
          524337.3373373373,
          525058.1581581582,
          525778.9789789789,
          526499.7997997998,
          527220.6206206207,
          527941.4414414414,
          528662.2622622622,
          529383.0830830832,
          530103.9039039039,
          530824.7247247247,
          531545.5455455455,
          532266.3663663664,
          532987.1871871871,
          533708.008008008,
          534428.8288288289,
          535149.6496496496,
          535870.4704704705,
          536591.2912912914,
          537312.1121121121,
          538032.9329329329,
          538753.7537537537,
          539474.5745745746,
          540195.3953953953,
          540916.2162162162,
          541637.0370370371,
          542357.8578578578,
          543078.6786786787,
          543799.4994994996,
          544520.3203203203,
          545241.1411411411,
          545961.9619619619,
          546682.7827827828,
          547403.6036036036,
          548124.4244244244,
          548845.2452452453,
          549566.066066066,
          550286.8868868869,
          551007.7077077078,
          551728.5285285285,
          552449.3493493493,
          553170.1701701701,
          553890.990990991,
          554611.8118118118,
          555332.6326326326,
          556053.4534534535,
          556774.2742742742,
          557495.0950950951,
          558215.915915916,
          558936.7367367367,
          559657.5575575576,
          560378.3783783783,
          561099.1991991992,
          561820.02002002,
          562540.8408408408,
          563261.6616616617,
          563982.4824824824,
          564703.3033033033,
          565424.1241241241,
          566144.9449449449,
          566865.7657657658,
          567586.5865865865,
          568307.4074074074,
          569028.2282282282,
          569749.049049049,
          570469.8698698699,
          571190.6906906907,
          571911.5115115115,
          572632.3323323323,
          573353.1531531531,
          574073.973973974,
          574794.7947947948,
          575515.6156156156,
          576236.4364364365,
          576957.2572572572,
          577678.0780780781,
          578398.8988988989,
          579119.7197197197,
          579840.5405405406,
          580561.3613613613,
          581282.1821821822,
          582003.003003003,
          582723.8238238238,
          583444.6446446447,
          584165.4654654654,
          584886.2862862863,
          585607.1071071071,
          586327.9279279279,
          587048.7487487488,
          587769.5695695695,
          588490.3903903904,
          589211.2112112112,
          589932.032032032,
          590652.8528528529,
          591373.6736736736,
          592094.4944944945,
          592815.3153153153,
          593536.1361361361,
          594256.956956957,
          594977.7777777778,
          595698.5985985986,
          596419.4194194194,
          597140.2402402402,
          597861.0610610611,
          598581.8818818819,
          599302.7027027027,
          600023.5235235235,
          600744.3443443443,
          601465.1651651652,
          602185.985985986,
          602906.8068068068,
          603627.6276276276,
          604348.4484484484,
          605069.2692692693,
          605790.0900900901,
          606510.9109109109,
          607231.7317317317,
          607952.5525525525,
          608673.3733733734,
          609394.1941941942,
          610115.015015015,
          610835.8358358358,
          611556.6566566566,
          612277.4774774775,
          612998.2982982983,
          613719.1191191191,
          614439.9399399399,
          615160.7607607607,
          615881.5815815816,
          616602.4024024024,
          617323.2232232232,
          618044.044044044,
          618764.8648648649,
          619485.6856856857,
          620206.5065065065,
          620927.3273273273,
          621648.1481481481,
          622368.968968969,
          623089.7897897898,
          623810.6106106106,
          624531.4314314314,
          625252.2522522522,
          625973.073073073,
          626693.8938938939,
          627414.7147147147,
          628135.5355355355,
          628856.3563563563,
          629577.1771771772,
          630297.997997998,
          631018.8188188188,
          631739.6396396396,
          632460.4604604605,
          633181.2812812813,
          633902.1021021021,
          634622.9229229229,
          635343.7437437437,
          636064.5645645646,
          636785.3853853854,
          637506.2062062062,
          638227.027027027,
          638947.8478478479,
          639668.6686686687,
          640389.4894894895,
          641110.3103103103,
          641831.1311311311,
          642551.951951952,
          643272.7727727728,
          643993.5935935936,
          644714.4144144144,
          645435.2352352352,
          646156.056056056,
          646876.8768768769,
          647597.6976976977,
          648318.5185185185,
          649039.3393393393,
          649760.1601601602,
          650480.980980981,
          651201.8018018018,
          651922.6226226226,
          652643.4434434434,
          653364.2642642643,
          654085.0850850851,
          654805.9059059059,
          655526.7267267267,
          656247.5475475475,
          656968.3683683684,
          657689.1891891892,
          658410.01001001,
          659130.8308308308,
          659851.6516516516,
          660572.4724724725,
          661293.2932932933,
          662014.1141141141,
          662734.934934935,
          663455.7557557557,
          664176.5765765766,
          664897.3973973974,
          665618.2182182182,
          666339.039039039,
          667059.8598598598,
          667780.6806806807,
          668501.5015015015,
          669222.3223223223,
          669943.1431431432,
          670663.9639639639,
          671384.7847847848,
          672105.6056056056,
          672826.4264264264,
          673547.2472472473,
          674268.068068068,
          674988.8888888889,
          675709.7097097097,
          676430.5305305305,
          677151.3513513514,
          677872.1721721721,
          678592.992992993,
          679313.8138138138,
          680034.6346346346,
          680755.4554554555,
          681476.2762762762,
          682197.0970970971,
          682917.917917918,
          683638.7387387387,
          684359.5595595596,
          685080.3803803803,
          685801.2012012012,
          686522.022022022,
          687242.8428428428,
          687963.6636636637,
          688684.4844844845,
          689405.3053053053,
          690126.1261261262,
          690846.9469469469,
          691567.7677677678,
          692288.5885885886,
          693009.4094094094,
          693730.2302302303,
          694451.051051051,
          695171.8718718719,
          695892.6926926927,
          696613.5135135135,
          697334.3343343344,
          698055.1551551551,
          698775.975975976,
          699496.7967967968,
          700217.6176176176,
          700938.4384384385,
          701659.2592592592,
          702380.0800800801,
          703100.900900901,
          703821.7217217217,
          704542.5425425426,
          705263.3633633633,
          705984.1841841842,
          706705.005005005,
          707425.8258258258,
          708146.6466466467,
          708867.4674674674,
          709588.2882882883,
          710309.1091091092,
          711029.9299299299,
          711750.7507507508,
          712471.5715715715,
          713192.3923923924,
          713913.2132132133,
          714634.034034034,
          715354.8548548549,
          716075.6756756756,
          716796.4964964965,
          717517.3173173174,
          718238.1381381381,
          718958.958958959,
          719679.7797797797,
          720400.6006006006,
          721121.4214214215,
          721842.2422422422,
          722563.0630630631,
          723283.8838838838,
          724004.7047047047,
          724725.5255255256,
          725446.3463463463,
          726167.1671671672,
          726887.9879879879,
          727608.8088088088,
          728329.6296296297,
          729050.4504504504,
          729771.2712712713,
          730492.092092092,
          731212.9129129129,
          731933.7337337338,
          732654.5545545545,
          733375.3753753754,
          734096.1961961961,
          734817.017017017,
          735537.8378378379,
          736258.6586586586,
          736979.4794794795,
          737700.3003003002,
          738421.1211211211,
          739141.941941942,
          739862.7627627627,
          740583.5835835836,
          741304.4044044043,
          742025.2252252252,
          742746.0460460461,
          743466.8668668668,
          744187.6876876877,
          744908.5085085086,
          745629.3293293293,
          746350.1501501502,
          747070.9709709709,
          747791.7917917918,
          748512.6126126127,
          749233.4334334334,
          749954.2542542543,
          750675.075075075,
          751395.8958958959,
          752116.7167167168,
          752837.5375375375,
          753558.3583583584,
          754279.1791791791,
          755000
         ],
         "y": [
          2.0800066505237844e-7,
          2.1721792924349395e-7,
          2.2677420725889308e-7,
          2.3668275551263203e-7,
          2.4695741162461937e-7,
          2.5761258817165144e-7,
          2.686632621449378e-7,
          2.801249599455543e-7,
          2.920137377797145e-7,
          3.043461573494639e-7,
          3.171392567713423e-7,
          3.3041051669562255e-7,
          3.4417782164175704e-7,
          3.5845941661142533e-7,
          3.7327385908892377e-7,
          3.886399665890242e-7,
          4.04576759964788e-7,
          4.2110340274134016e-7,
          4.3823913679612545e-7,
          4.56003214760761e-7,
          4.744148295738811e-7,
          4.934930416674495e-7,
          5.132567043202115e-7,
          5.337243877603512e-7,
          5.549143026443344e-7,
          5.768442235791568e-7,
          5.995314133902386e-7,
          6.229925488658041e-7,
          6.472436487300259e-7,
          6.723000046106664e-7,
          6.981761157715168e-7,
          7.248856283749995e-7,
          7.524412800252294e-7,
          7.808548503160689e-7,
          8.101371180719721e-7,
          8.402978259214512e-7,
          8.713456527837219e-7,
          9.032881947787474e-7,
          9.361319549897493e-7,
          9.698823424157826e-7,
          0.000001004543680351092,
          0.0000010401192243184012,
          0.0000010766111895662358,
          0.0000011140207880174636,
          0.0000011523482744282348,
          0.0000011915930013860298,
          0.000001231753482643488,
          0.0000012728274641536024,
          0.00000131481200204338,
          0.0000013577035466393732,
          0.0000014014980315414446,
          0.0000014461909666331697,
          0.000001491777533819625,
          0.0000015382526841987053,
          0.0000015856112353015229,
          0.0000016338479669829128,
          0.0000016829577145056102,
          0.0000017329354573426229,
          0.0000017837764022225275,
          0.0000018354760589621198,
          0.0000018880303076708597,
          0.0000019414354559711857,
          0.000001995688284958417,
          0.00000205078608272213,
          0.0000021067266643670705,
          0.000002163508377605011,
          0.0000022211300931364396,
          0.0000022795911792027577,
          0.0000023388914598622196,
          0.000002399031156724389,
          0.000002460010814066689,
          0.000002521831207449206,
          0.000002584493236138617,
          0.0000026479977998458527,
          0.0000027123456604727396,
          0.0000027775372897480645,
          0.000002843572703809687,
          0.000002910451285957315,
          0.0000029781715989537958,
          0.0000030467311883947254,
          0.0000031161263787906175,
          0.000003186352064114679,
          0.000003257401494660236,
          0.000003329266062123735,
          0.0000034019350848830227,
          0.0000034753955954749136,
          0.000003549632132291045,
          0.000003624626537508128,
          0.0000037003577632470282,
          0.0000037768016879161515,
          0.000003853930944639542,
          0.000003931714763599734,
          0.000004010118830039746,
          0.000004089105159572045,
          0.000004168631992331665,
          0.00000424865370739199,
          0.000004329120758732014,
          0.0000044099796339078315,
          0.000004491172836437414,
          0.000004572638892758857,
          0.000004654312384469194,
          0.000004736124006393013,
          0.000004818000650870616,
          0.000004899865518492612,
          0.00000498163825534434,
          0.000005063235116657495,
          0.000005144569156600822,
          0.00000522555044377486,
          0.0000053060863018092655,
          0.0000053860815742939935,
          0.000005465438913110275,
          0.000005544059089061271,
          0.0000056218413235383676,
          0.0000056986836397964615,
          0.000005774483232251623,
          0.000005849136852056775,
          0.000005922541207058427,
          0.000005994593374088243,
          0.00000606519122140129,
          0.0000061342338389372265,
          0.000006201621973954547,
          0.0000062672584694712215,
          0.000006331048702840988,
          0.000006392901021703612,
          0.0000064527271744721164,
          0.0000065104427324612196,
          0.000006565967500722583,
          0.000006619225914632934,
          0.000006670147419285188,
          0.000006718666828759699,
          0.000006764724662405389,
          0.000006808267455338039,
          0.00000684924804046952,
          0.000006887625799513224,
          0.000006923366880572686,
          0.000006956444380106651,
          0.000006986838487280375,
          0.0000070145365889521765,
          0.000007039533333811247,
          0.0000070618306544705415,
          0.00000708143774662846,
          0.000007098371004741029,
          0.000007112653913990662,
          0.000007124316898693157,
          0.000007133397127650718,
          0.000007139938277329364,
          0.000007143990254112534,
          0.000007145608877250976,
          0.000007144855524495042,
          0.00000714179674274605,
          0.000007136503826402355,
          0.000007129052366394277,
          0.000007119521773198004,
          0.000007107994777387338,
          0.000007094556911521243,
          0.000007079295977370344,
          0.000007062301502654384,
          0.000007043664191593219,
          0.000007023475373662521,
          0.000007001826454992494,
          0.000006978808376851585,
          0.0000069545110856153,
          0.000006929023018536239,
          0.000006902430609502274,
          0.000006874817818798473,
          0.000006846265690675543,
          0.000006816851942276752,
          0.000006786650587185914,
          0.000006755731596537956,
          0.0000067241606002804434,
          0.000006691998630796349,
          0.000006659301910695956,
          0.000006626121686167088,
          0.000006592504106838564,
          0.0000065584901526699055,
          0.000006524115607933446,
          0.00000648941108190965,
          0.000006454402075475262,
          0.000006419109092334143,
          0.000006383547793226143,
          0.000006347729191051531,
          0.0000063116598844785895,
          0.0000062753423272548305,
          0.0000062387751301291874,
          0.000006201953392013335,
          0.000006164869056765586,
          0.000006127511291779103,
          0.0000060898668843916745,
          0.000006051920652015874,
          0.000006013655861809704,
          0.000005975054655676319,
          0.000005936098476390176,
          0.00000589676849070084,
          0.0000058570460053602235,
          0.0000058169128721535834,
          0.000005776351878187882,
          0.0000057353471178990176,
          0.000005693884343481154,
          0.000005651951290711879,
          0.0000056095379774440564,
          0.000005566636972354518,
          0.000005523243631878255,
          0.0000054793563036090955,
          0.000005434976494811676,
          0.000005390109005058363,
          0.000005344762022377571,
          0.000005298947182669654,
          0.000005252679592511125,
          0.0000052059778158229115,
          0.000005158863825220528,
          0.000005111362919189274,
          0.000005063503606534426,
          0.000005015317459839563,
          0.000004966838939926315,
          0.000004918105193541567,
          0.000004869155826702439,
          0.000004820032656304465,
          0.000004770779442742678,
          0.000004721441606408467,
          0.000004672065931006988,
          0.0000046227002566904054,
          0.000004573393166022275,
          0.000004524193665778787,
          0.0000044751508675531325,
          0.00000442631367006455,
          0.000004377730445980551,
          0.000004329448735946276,
          0.00000428151495237726,
          0.000004233974095414288,
          0.000004186869483265548,
          0.000004140242498970678,
          0.000004094132355420367,
          0.000004048575880251505,
          0.000004003607322019206,
          0.000003959258178820431,
          0.000003915557050315745,
          0.000003872529513866609,
          0.000003830198025276605,
          0.0000037885818444010106,
          0.000003747696985668314,
          0.0000037075561933449136,
          0.0000036681689411693187,
          0.0000036295414557873873,
          0.000003591676763236224,
          0.000003554574757552841,
          0.0000035182322904249993,
          0.0000034826432806565897,
          0.0000034477988420901943,
          0.0000034136874285130264,
          0.0000033802949939733963,
          0.00000334760516684921,
          0.0000033155994359415083,
          0.0000032842573468122636,
          0.000003253556706547652,
          0.0000032234737951053362,
          0.0000031939835813960822,
          0.000003165059942257546,
          0.0000031366758824980837,
          0.000003108803754223935,
          0.0000030814154737102693,
          0.000003054482734136946,
          0.0000030279772125819624,
          0.000003001870769748512,
          0.0000029761356409948083,
          0.0000029507446173390753,
          0.0000029256712152231475,
          0.0000029008898339376764,
          0.000002876375899737565,
          0.000002852105995808168,
          0.0000028280579773794525,
          0.000002804211071424935,
          0.000002780545960525848,
          0.0000027570448506245228,
          0.000002733691522536439,
          0.000002710471367233721,
          0.0000026873714050556884,
          0.0000026643802891406327,
          0.0000026414882935082403,
          0.0000026186872863518853,
          0.0000025959706892231653,
          0.0000025733334229076385,
          0.000002550771840897855,
          0.0000025282836514689218,
          0.0000025058678294498237,
          0.000002483524518861502,
          0.0000024612549276588584,
          0.0000024390612158675406,
          0.0000024169463784480144,
          0.0000023949141242479157,
          0.000002372968752418907,
          0.0000023511150276765576,
          0.000002329358055770711,
          0.00000230770316050951,
          0.000002286155763643618,
          0.000002264721268867598,
          0.000002243404951134649,
          0.0000022222118524081414,
          0.0000022011466848911387,
          0.0000021802137426822274,
          0.0000021594168227052463,
          0.000002138759155651957,
          0.000002118243347561105,
          0.0000020978713325374225,
          0.0000020776443369888895,
          0.0000020575628556335015,
          0.0000020376266393971512,
          0.000002017834695195144,
          0.0000019981852974606878,
          0.000001978676011157758,
          0.0000019593037258921623,
          0.000001940064700616442,
          0.0000019209546183112535,
          0.0000019019686499198963,
          0.0000018831015267144465,
          0.0000018643476201824814,
          0.00000184570102844334,
          0.000001827155668133419,
          0.000001808705370641211,
          0.0000017903439815257324,
          0.0000017720654619170492,
          0.0000017538639906742923,
          0.0000017357340660668318,
          0.0000017176706057461935,
          0.0000016996690437913827,
          0.0000016817254236377478,
          0.0000016638364857392876,
          0.0000016459997488657695,
          0.0000016282135839994097,
          0.000001610477279869604,
          0.0000015927910992485273,
          0.0000015751563252241565,
          0.0000015575752967694463,
          0.0000015400514330361554,
          0.0000015225892459185652,
          0.0000015051943405541133,
          0.0000014878734035540952,
          0.000001470634178887293,
          0.000001453485431470058,
          0.0000014364368986483658,
          0.000001419499229887696,
          0.000001402683915115507,
          0.0000013860032022856423,
          0.000001369470004854276,
          0.000001353097799970782,
          0.000001336900518293238,
          0.000001320892426436014,
          0.0000013050880031448488,
          0.0000012895018103717413,
          0.0000012741483604874942,
          0.0000012590419809221709,
          0.0000012441966775632909,
          0.0000012296259982669817,
          0.000001215342897848533,
          0.000001201359605915415,
          0.0000011876874988878744,
          0.000001174336977519564,
          0.00000116131735118378,
          0.0000011486367301300324,
          0.0000011363019268413337,
          0.00000112431836753603,
          0.0000011126900147591795,
          0.000001101419301899578,
          0.0000010905070803497457,
          0.0000010799525798995868,
          0.0000010697533828209164,
          0.0000010599054119615101,
          0.0000010504029330251451,
          0.0000010412385710700724,
          0.0000010324033411140191,
          0.0000010238866925910402,
          0.0000010156765672659075,
          0.0000010077594700767889,
          0.0000010001205522486395,
          9.927437058990847e-7,
          9.856116692473828e-7,
          9.787061414363585e-7,
          9.720079058883323e-7,
          9.654969610397506e-7,
          9.591526572365477e-7,
          9.529538385236848e-7,
          9.468789880282325e-7,
          9.40906375616118e-7,
          9.350142064982806e-7,
          9.291807694720988e-7,
          9.23384583508536e-7,
          9.176045414336213e-7,
          9.118200495041062e-7,
          9.060111617403802e-7,
          9.001587079541511e-7,
          8.94244414492419e-7,
          8.882510168121006e-7,
          8.8216236309946e-7,
          8.759635082540832e-7,
          8.696407976669281e-7,
          8.631819403343291e-7,
          8.565760709636048e-7,
          8.498138008390238e-7,
          8.428872573285755e-7,
          8.357901120203411e-7,
          8.28517597581299e-7,
          8.210665135300706e-7,
          8.134352212068575e-7,
          8.056236283086796e-7,
          7.976331634341682e-7,
          7.894667411500116e-7,
          7.811287181495946e-7,
          7.726248411235505e-7,
          7.639621870016499e-7,
          7.551490962556129e-7,
          7.461950999736538e-7,
          7.371108414296902e-7,
          7.279079928740898e-7,
          7.18599168268986e-7,
          7.091978326801275e-7,
          6.997182090200723e-7,
          6.901751828145611e-7,
          6.805842056365804e-7,
          6.709611978212187e-7,
          6.613224510402668e-7,
          6.516845312791903e-7,
          6.420641827215471e-7,
          6.324782330078549e-7,
          6.229435002980144e-7,
          6.134767025293997e-7,
          6.040943692270114e-7,
          5.948127561882444e-7,
          5.856477633331354e-7,
          5.766148559816865e-7,
          5.677289897931915e-7,
          5.590045395784439e-7,
          5.50455232174296e-7,
          5.420940835511159e-7,
          5.339333403070658e-7,
          5.25984425688542e-7,
          5.182578902633413e-7,
          5.10763367361607e-7,
          5.035095333891897e-7,
          4.965040731081986e-7,
          4.897536499698226e-7,
          4.832638815746172e-7,
          4.770393203249733e-7,
          4.710834393230379e-7,
          4.653986235546993e-7,
          4.5998616638603367e-7,
          4.548462713827393e-7,
          4.4997805944535633e-7,
          4.4537958123339834e-7,
          4.410478348299694e-7,
          4.369787885750173e-7,
          4.331674089702536e-7,
          4.296076935320702e-7,
          4.2629270844089406e-7,
          4.232146308065047e-7,
          4.2036479533934714e-7,
          4.1773374518815667e-7,
          4.15311286674702e-7,
          4.1308654762757404e-7,
          4.110480389891666e-7,
          4.091837193437492e-7,
          4.074810619902427e-7,
          4.0592712416141307e-7,
          4.04508617972068e-7,
          4.032119826628501e-7,
          4.020234576935963e-7,
          4.009291562313654e-7,
          3.999151385731811e-7,
          3.9896748504251853e-7,
          3.9807236790165495e-7,
          3.9721612182919964e-7,
          3.9638531252334614e-7,
          3.9556680300666126e-7,
          3.947478172271943e-7,
          3.9391600057332957e-7,
          3.9305947694570446e-7,
          3.9216690205843e-7,
          3.912275126734645e-7,
          3.9023117150581973e-7,
          3.8916840757304275e-7,
          3.8803045179963066e-7,
          3.868092677252689e-7,
          3.854975772046565e-7,
          3.8408888102573356e-7,
          3.825774744119452e-7,
          3.809584574124228e-7,
          3.792277402211826e-7,
          3.7738204350237954e-7,
          3.7541889383295607e-7,
          3.733366144064074e-7,
          3.7113431117165005e-7,
          3.688118546089009e-7,
          3.6636985736988163e-7,
          3.638096480324889e-7,
          3.611332412401259e-7,
          3.5834330451328644e-7,
          3.554431220355015e-7,
          3.524365557276339e-7,
          3.4932800393357767e-7,
          3.461223580469289e-7,
          3.4282495741210464e-7,
          3.39441542834876e-7,
          3.359782090364484e-7,
          3.324413563822056e-7,
          3.288376422111439e-7,
          3.2517393208508453e-7,
          3.2145725126796263e-7,
          3.176947367352045e-7,
          3.1389359000133335e-7,
          3.100610310408028e-7,
          3.0620425356272094e-7,
          3.023303818846527e-7,
          2.9844642963433693e-7,
          2.94559260490891e-7,
          2.906755511591269e-7,
          2.868017567519923e-7,
          2.8294407873699166e-7,
          2.791084355828842e-7,
          2.753004362229612e-7,
          2.715253564310216e-7,
          2.677881181857305e-7,
          2.6409327207853784e-7,
          2.6044498279981805e-7,
          2.568470177174261e-7,
          2.533027385415847e-7,
          2.498150960499852e-7,
          2.46386627827324e-7,
          2.4301945895425785e-7,
          2.3971530556213134e-7,
          2.3647548115182671e-7,
          2.3330090555787523e-7,
          2.3019211642265403e-7,
          2.2714928303013866e-7,
          2.2417222233447273e-7,
          2.2126041700558408e-7,
          2.1841303530237777e-7,
          2.156289525737399e-7,
          2.1290677417878204e-7,
          2.1024485961056518e-7,
          2.0764134760196068e-7,
          2.050941819884956e-7,
          2.026011381009382e-7,
          2.001598494601196e-7,
          1.9776783454804054e-7,
          1.954225234326831e-7,
          1.9312128402915003e-7,
          1.9086144778671598e-7,
          1.886403346000993e-7,
          1.8645527675364222e-7,
          1.8430364171905924e-7,
          1.8218285364089163e-7,
          1.8009041335863074e-7,
          1.7802391683057644e-7,
          1.759810718416677e-7,
          1.7395971289564927e-7,
          1.719578142108303e-7,
          1.6997350075815264e-7,
          1.680050573001639e-7,
          1.6605093540954439e-7,
          1.6410975846589255e-7,
          1.621803246493244e-7,
          1.6026160796886478e-7,
          1.5835275738242622e-7,
          1.5645309408317512e-7,
          1.5456210704407027e-7,
          1.5267944692819005e-7,
          1.5080491848690593e-7,
          1.4893847158093892e-7,
          1.4708019097062982e-7,
          1.452302850313245e-7,
          1.4338907355746032e-7,
          1.4155697482469472e-7,
          1.3973449208319379e-7,
          1.3792219965692762e-7,
          1.3612072882355986e-7,
          1.3433075364721599e-7,
          1.3255297693217998e-7,
          1.3078811645943712e-7,
          1.2903689166004272e-7,
          1.2730001086970415e-7,
          1.2557815929780703e-7,
          1.238719878316038e-7,
          1.221821027825553e-7,
          1.2050905666708106e-7,
          1.1885334009844095e-7,
          1.1721537485033681e-7,
          1.1559550813633771e-7,
          1.1399400813258195e-7,
          1.1241106075466376e-7,
          1.1084676768335887e-7,
          1.093011456181053e-7,
          1.0777412672216105e-7,
          1.0626556020925936e-7,
          1.0477521500860289e-7,
          1.0330278343328932e-7,
          1.0184788576691831e-7,
          1.0041007567429195e-7,
          9.898884633486909e-8,
          9.758363719206609e-8,
          9.61938412076006e-8,
          9.481881250791943e-8,
          9.345787430927237e-8,
          9.211032700917413e-8,
          9.077545633477813e-8,
          8.945254144294567e-8,
          8.814086287245348e-8,
          8.683971025569707e-8,
          8.554838970525162e-8,
          8.426623079962072e-8,
          8.2992593102211e-8,
          8.172687215788643e-8,
          8.046850492214296e-8,
          7.921697458884871e-8,
          7.797181479340976e-8,
          7.67326131789601e-8,
          7.549901432357878e-8,
          7.427072203641428e-8,
          7.304750103982772e-8,
          7.182917806307911e-8,
          7.061564238058875e-8,
          6.940684583429143e-8,
          6.820280238498571e-8,
          6.700358724182863e-8,
          6.580933562216901e-8,
          6.462024119577713e-8,
          6.34365542681987e-8,
          6.225857975747346e-8,
          6.108667501688868e-8,
          5.992124755381385e-8,
          5.8762752691125597e-8,
          5.7611691213338685e-8,
          5.6468607034459614e-8,
          5.53340849188907e-8,
          5.4208748280558744e-8,
          5.3093257078990835e-8,
          5.198830582442666e-8,
          5.089462169740191e-8,
          4.9812962781702664e-8,
          4.874411640329193e-8,
          4.768889756190454e-8,
          4.6648147436580374e-8,
          4.5622731941592246e-8,
          4.4613540305092424e-8,
          4.3621483639442525e-8,
          4.264749346965952e-8,
          4.1692520184746416e-8,
          4.0757531375911686e-8,
          3.984351002582156e-8,
          3.895145251406131e-8,
          3.808236640588834e-8,
          3.7237267994087085e-8,
          3.641717956723967e-8,
          3.5623126381924556e-8,
          3.485613332117615e-8,
          3.411722122687966e-8,
          3.34074028995449e-8,
          3.2727678764993244e-8,
          3.20790322137834e-8,
          3.146242462559889e-8,
          3.087879009719492e-8,
          3.0329029898757364e-8,
          2.9814006689549015e-8,
          2.933453852941341e-8,
          2.889139272798271e-8,
          2.848527957820677e-8,
          2.811684602502123e-8,
          2.778666932353478e-8,
          2.7495250743995333e-8,
          2.724300938295429e-8,
          2.7030276141460243e-8,
          2.685728793177148e-8,
          2.6724182173974976e-8,
          2.6630991643052937e-8,
          2.6577639725367658e-8,
          2.656393614127148e-8,
          2.6589573187632947e-8,
          2.6654122550548725e-8,
          2.6757032734437062e-8,
          2.6897627149141267e-8,
          2.7075102891670864e-8,
          2.728853025383837e-8,
          2.7536852981374192e-8,
          2.781888930418557e-8,
          2.813333375133002e-8,
          2.847875975805939e-8,
          2.8853623066014575e-8,
          2.9256265911369225e-8,
          2.9684921989478682e-8,
          3.013772217843958e-8,
          3.061270099794284e-8,
          3.110780377395229e-8,
          3.162089447408674e-8,
          3.21497641731695e-8,
          3.2692140103256086e-8,
          3.324569523758146e-8,
          3.3808058353317645e-8,
          3.437682451381551e-8,
          3.4949565907147526e-8,
          3.552384297429198e-8,
          3.60972157572335e-8,
          3.666725539461518e-8,
          3.723155569039369e-8,
          3.778774467925004e-8,
          3.833349611131462e-8,
          3.886654077810606e-8,
          3.938467760148793e-8,
          3.9885784407939645e-8,
          4.036782831154032e-8,
          4.0828875630800243e-8,
          4.126710126686455e-8,
          4.168079747366542e-8,
          4.2068381954319936e-8,
          4.24284052224692e-8,
          4.27595571723086e-8,
          4.306067280676328e-8,
          4.3330737079582416e-8,
          4.356888881402815e-8,
          4.377442366826564e-8,
          4.3946796125462445e-8,
          4.40856204949083e-8,
          4.419067091908224e-8,
          4.4261880390437214e-8,
          4.429933879063684e-8,
          4.430328997395737e-8,
          4.427412792544328e-8,
          4.421239203305945e-8,
          4.411876152139213e-8,
          4.3994049102293247e-8,
          4.3839193905119196e-8,
          4.365525375576853e-8,
          4.344339687946779e-8,
          4.3204893107090684e-8,
          4.2941104668637565e-8,
          4.265347666027975e-8,
          4.234352727302673e-8,
          4.201283787157414e-8,
          4.166304301120688e-8,
          4.1295820478780394e-8,
          4.091288144079644e-8,
          4.051596077747445e-8,
          4.0106807676567505e-8,
          3.9687176554552073e-8,
          3.925881836585473e-8,
          3.882347235307145e-8,
          3.8382858282827545e-8,
          3.793866920316824e-8,
          3.749256474930808e-8,
          3.704616501537804e-8,
          3.6601045000646295e-8,
          3.6158729629725284e-8,
          3.5720689337676966e-8,
          3.528833620283959e-8,
          3.486302060277803e-8,
          3.444602836212917e-8,
          3.4038578355397603e-8,
          3.364182052304845e-8,
          3.3256834255628467e-8,
          3.2884627098165464e-8,
          3.252613372580293e-8,
          3.218221514150689e-8,
          3.1853658047737174e-8,
          3.154117434615903e-8,
          3.124540072271532e-8,
          3.096689827961349e-8,
          3.070615218088524e-8,
          3.046357128403988e-8,
          3.023948773681423e-8,
          3.003415652496817e-8,
          2.984775496433836e-8,
          2.968038213776762e-8,
          2.9532058284915908e-8,
          2.9402724160162677e-8,
          2.9292240380667183e-8,
          2.920038679301555e-8,
          2.9126861892601777e-8,
          2.9071282334843556e-8,
          2.9033182581404144e-8,
          2.901201472768813e-8,
          2.9007148559927147e-8,
          2.901787189111699e-8,
          2.9043391224881434e-8,
          2.9082832795010737e-8,
          2.913524402596929e-8,
          2.9199595456122603e-8,
          2.927478316085675e-8,
          2.935963170722953e-8,
          2.9452897665396353e-8,
          2.9553273694907862e-8,
          2.9659393216200644e-8,
          2.976983566933769e-8,
          2.9883132353440716e-8,
          2.999777283144324e-8,
          3.011221187593562e-8,
          3.022487692311909e-8,
          3.033417599338993e-8,
          3.043850602897704e-8,
          3.053626159149638e-8,
          3.062584385538952e-8,
          3.070566982709306e-8,
          3.0774181714546826e-8,
          3.082985636737136e-8,
          3.0871214704801915e-8,
          3.089683104630775e-8,
          3.090534225878522e-8,
          3.089545663430861e-8,
          3.086596241364964e-8,
          3.081573587311927e-8,
          3.074374889570372e-8,
          3.064907595191282e-8,
          3.0530900421163084e-8,
          3.0388520190803126e-8,
          3.022135247696207e-8,
          3.002893781916232e-8,
          2.981094320897644e-8,
          2.95671643218061e-8,
          2.9297526830003105e-8,
          2.900208678491003e-8,
          2.8681030064849177e-8,
          2.8334670895513043e-8,
          2.796344945848281e-8,
          2.7567928612611043e-8,
          2.7148789761640832e-8,
          2.6706827909592342e-8,
          2.6242945953039886e-8,
          2.575814826633508e-8,
          2.525353364204601e-8,
          2.4730287654301406e-8,
          2.418967451731037e-8,
          2.363302851503661e-8,
          2.306174508080844e-8,
          2.2477271607534726e-8,
          2.188109807016929e-8,
          2.127474754213267e-8,
          2.0659766686582632e-8,
          2.003771630176007e-8,
          1.9410161997154524e-8,
          1.8778665074011523e-8,
          1.814477367976639e-8,
          1.7510014301435015e-8,
          1.6875883657880598e-8,
          1.6243841045274006e-8,
          1.5615301184079223e-8,
          1.499162760958485e-8,
          1.4374126641464858e-8,
          1.3764041961170931e-8,
          1.3162549819205505e-8,
          1.2570754887606788e-8,
          1.1989686766335524e-8,
          1.142029714579888e-8,
          1.086345762152126e-8,
          1.0319958151051078e-8,
          9.790506137632853e-9,
          9.275726120014049e-9,
          8.776160043058359e-9,
          8.29226807961572e-9,
          7.82442997039006e-9,
          7.372946845379215e-9,
          6.938043487822714e-9,
          6.519870999516262e-9,
          6.118509824811743e-9,
          5.733973089619693e-9,
          5.366210211250345e-9,
          5.015110734940328e-9,
          4.680508353402084e-9,
          4.362185066654689e-9,
          4.059875440722554e-9,
          3.773270925482879e-9,
          3.5020241939581987e-9,
          3.245753467648477e-9,
          3.0040467950321373e-9,
          2.776466253092942e-9,
          2.5625520446077033e-9,
          2.361826466910242e-9,
          2.1737977308967243e-9,
          1.9979636121072117e-9,
          1.8338149187764234e-9,
          1.6808387647578974e-9,
          1.5385216381554475e-9,
          1.4063522593179519e-9,
          1.2838242245415406e-9,
          1.1704384343552988e-9,
          1.0657053076250363e-9,
          9.691467848777168e-10,
          8.802981262171102e-10,
          7.987095109600572e-10,
          7.239474476649752e-10,
          6.55596004551161e-10,
          5.932578714153807e-10,
          5.365552650456305e-10,
          4.851306908148952e-10,
          4.386475736152479e-10,
          3.96790771575067e-10,
          3.5926698609504274e-10,
          3.2580508165515603e-10,
          2.9615632859401483e-10,
          2.700945816549076e-10,
          2.474164065425931e-10,
          2.2794116605153473e-10,
          2.115110765225656e-10,
          1.9799124447229457e-10,
          1.8726969222902994e-10,
          1.7925738031255696e-10,
          1.7388823312268005e-10,
          1.7111917326459135e-10,
          1.709301685477304e-10,
          1.733242943591509e-10,
          1.783278127428002e-10,
          1.85990268122366e-10,
          1.9638459819771098e-10,
          2.0960725713356036e-10,
          2.2577834675475134e-10,
          2.45041750075571e-10,
          2.675652601331502e-10,
          2.935406957783258e-10,
          3.231839948141258e-10,
          3.567352736754558e-10,
          3.9445884172721826e-10,
          4.3664315723641973e-10,
          4.836007111618687e-10,
          5.356678241180109e-10,
          5.93204341223732e-10,
          6.565932090581393e-10,
          7.262399186293302e-10,
          8.025717981363755e-10,
          8.860371393824518e-10,
          9.77104141995047e-10,
          1.0762596601399402e-9,
          1.1840077371919445e-9,
          1.3008679148577832e-9,
          1.427373304542622e-9,
          1.5640684103189744e-9,
          1.7115066946964089e-9,
          1.870247880501984e-9,
          2.0408549845640487e-9,
          2.2238910815326467e-9,
          2.419915799061122e-9,
          2.629481548696416e-9,
          2.8531295001584137e-9,
          3.0913853102101465e-9,
          3.344754620991073e-9,
          3.6137183464821015e-9,
          3.898727769643087e-9,
          4.2001994766710974e-9,
          4.518510158727845e-9,
          4.853991315315963e-9,
          5.2069238972011985e-9,
          5.577532930319798e-9,
          5.965982165417851e-9,
          6.372368801191504e-9,
          6.79671833135797e-9,
          7.238979568351937e-9,
          7.699019898131227e-9,
          8.176620821853016e-9,
          8.67147384089026e-9,
          9.1831767417523e-9,
          9.711230336925469e-9,
          1.0255035716410034e-8,
          1.0813892062793567e-8,
          1.1386995080046883e-8,
          1.1973436082838412e-8,
          1.2572201789069806e-8,
          1.3182174853522733e-8,
          1.380213517502375e-8,
          1.4430762003406631e-8,
          1.5066636865825735e-8,
          1.570824732472143e-8,
          1.6353991572004306e-8,
          1.70021838559119e-8,
          1.765106072857225e-8,
          1.8298788093676797e-8,
          1.8943469024931525e-8,
          1.958315231721848e-8,
          2.0215841723774032e-8,
          2.0839505824289085e-8,
          2.145208846076893e-8,
          2.2051519670382575e-8,
          2.2635727037470875e-8,
          2.320264738050025e-8,
          2.3750238684128137e-8,
          2.427649218178027e-8,
          2.4779444490317567e-8,
          2.525718969555616e-8,
          2.5707891285659144e-8,
          2.6129793828788162e-8,
          2.652123429191476e-8,
          2.6880652899366738e-8,
          2.7206603432515774e-8,
          2.74977628759849e-8,
          2.7752940320842433e-8,
          2.7971085041391956e-8,
          2.8151293669310022e-8,
          2.829281639694884e-8,
          2.8395062150507654e-8,
          2.845760268339368e-8,
          2.8480175550314295e-8,
          2.8462685933352977e-8,
          2.8405207302344796e-8,
          2.8307980903150023e-8,
          2.817141407878639e-8,
          2.7996077439681074e-8,
          2.778270091040286e-8,
          2.753216869099612e-8
         ]
        }
       ],
       "layout": {
        "barmode": "relative",
        "legend": {
         "tracegroupgap": 0
        },
        "showlegend": true,
        "template": {
         "data": {
          "bar": [
           {
            "error_x": {
             "color": "#2a3f5f"
            },
            "error_y": {
             "color": "#2a3f5f"
            },
            "marker": {
             "line": {
              "color": "white",
              "width": 0.5
             },
             "pattern": {
              "fillmode": "overlay",
              "size": 10,
              "solidity": 0.2
             }
            },
            "type": "bar"
           }
          ],
          "barpolar": [
           {
            "marker": {
             "line": {
              "color": "white",
              "width": 0.5
             },
             "pattern": {
              "fillmode": "overlay",
              "size": 10,
              "solidity": 0.2
             }
            },
            "type": "barpolar"
           }
          ],
          "carpet": [
           {
            "aaxis": {
             "endlinecolor": "#2a3f5f",
             "gridcolor": "#C8D4E3",
             "linecolor": "#C8D4E3",
             "minorgridcolor": "#C8D4E3",
             "startlinecolor": "#2a3f5f"
            },
            "baxis": {
             "endlinecolor": "#2a3f5f",
             "gridcolor": "#C8D4E3",
             "linecolor": "#C8D4E3",
             "minorgridcolor": "#C8D4E3",
             "startlinecolor": "#2a3f5f"
            },
            "type": "carpet"
           }
          ],
          "choropleth": [
           {
            "colorbar": {
             "outlinewidth": 0,
             "ticks": ""
            },
            "type": "choropleth"
           }
          ],
          "contour": [
           {
            "colorbar": {
             "outlinewidth": 0,
             "ticks": ""
            },
            "colorscale": [
             [
              0,
              "#0d0887"
             ],
             [
              0.1111111111111111,
              "#46039f"
             ],
             [
              0.2222222222222222,
              "#7201a8"
             ],
             [
              0.3333333333333333,
              "#9c179e"
             ],
             [
              0.4444444444444444,
              "#bd3786"
             ],
             [
              0.5555555555555556,
              "#d8576b"
             ],
             [
              0.6666666666666666,
              "#ed7953"
             ],
             [
              0.7777777777777778,
              "#fb9f3a"
             ],
             [
              0.8888888888888888,
              "#fdca26"
             ],
             [
              1,
              "#f0f921"
             ]
            ],
            "type": "contour"
           }
          ],
          "contourcarpet": [
           {
            "colorbar": {
             "outlinewidth": 0,
             "ticks": ""
            },
            "type": "contourcarpet"
           }
          ],
          "heatmap": [
           {
            "colorbar": {
             "outlinewidth": 0,
             "ticks": ""
            },
            "colorscale": [
             [
              0,
              "#0d0887"
             ],
             [
              0.1111111111111111,
              "#46039f"
             ],
             [
              0.2222222222222222,
              "#7201a8"
             ],
             [
              0.3333333333333333,
              "#9c179e"
             ],
             [
              0.4444444444444444,
              "#bd3786"
             ],
             [
              0.5555555555555556,
              "#d8576b"
             ],
             [
              0.6666666666666666,
              "#ed7953"
             ],
             [
              0.7777777777777778,
              "#fb9f3a"
             ],
             [
              0.8888888888888888,
              "#fdca26"
             ],
             [
              1,
              "#f0f921"
             ]
            ],
            "type": "heatmap"
           }
          ],
          "heatmapgl": [
           {
            "colorbar": {
             "outlinewidth": 0,
             "ticks": ""
            },
            "colorscale": [
             [
              0,
              "#0d0887"
             ],
             [
              0.1111111111111111,
              "#46039f"
             ],
             [
              0.2222222222222222,
              "#7201a8"
             ],
             [
              0.3333333333333333,
              "#9c179e"
             ],
             [
              0.4444444444444444,
              "#bd3786"
             ],
             [
              0.5555555555555556,
              "#d8576b"
             ],
             [
              0.6666666666666666,
              "#ed7953"
             ],
             [
              0.7777777777777778,
              "#fb9f3a"
             ],
             [
              0.8888888888888888,
              "#fdca26"
             ],
             [
              1,
              "#f0f921"
             ]
            ],
            "type": "heatmapgl"
           }
          ],
          "histogram": [
           {
            "marker": {
             "pattern": {
              "fillmode": "overlay",
              "size": 10,
              "solidity": 0.2
             }
            },
            "type": "histogram"
           }
          ],
          "histogram2d": [
           {
            "colorbar": {
             "outlinewidth": 0,
             "ticks": ""
            },
            "colorscale": [
             [
              0,
              "#0d0887"
             ],
             [
              0.1111111111111111,
              "#46039f"
             ],
             [
              0.2222222222222222,
              "#7201a8"
             ],
             [
              0.3333333333333333,
              "#9c179e"
             ],
             [
              0.4444444444444444,
              "#bd3786"
             ],
             [
              0.5555555555555556,
              "#d8576b"
             ],
             [
              0.6666666666666666,
              "#ed7953"
             ],
             [
              0.7777777777777778,
              "#fb9f3a"
             ],
             [
              0.8888888888888888,
              "#fdca26"
             ],
             [
              1,
              "#f0f921"
             ]
            ],
            "type": "histogram2d"
           }
          ],
          "histogram2dcontour": [
           {
            "colorbar": {
             "outlinewidth": 0,
             "ticks": ""
            },
            "colorscale": [
             [
              0,
              "#0d0887"
             ],
             [
              0.1111111111111111,
              "#46039f"
             ],
             [
              0.2222222222222222,
              "#7201a8"
             ],
             [
              0.3333333333333333,
              "#9c179e"
             ],
             [
              0.4444444444444444,
              "#bd3786"
             ],
             [
              0.5555555555555556,
              "#d8576b"
             ],
             [
              0.6666666666666666,
              "#ed7953"
             ],
             [
              0.7777777777777778,
              "#fb9f3a"
             ],
             [
              0.8888888888888888,
              "#fdca26"
             ],
             [
              1,
              "#f0f921"
             ]
            ],
            "type": "histogram2dcontour"
           }
          ],
          "mesh3d": [
           {
            "colorbar": {
             "outlinewidth": 0,
             "ticks": ""
            },
            "type": "mesh3d"
           }
          ],
          "parcoords": [
           {
            "line": {
             "colorbar": {
              "outlinewidth": 0,
              "ticks": ""
             }
            },
            "type": "parcoords"
           }
          ],
          "pie": [
           {
            "automargin": true,
            "type": "pie"
           }
          ],
          "scatter": [
           {
            "fillpattern": {
             "fillmode": "overlay",
             "size": 10,
             "solidity": 0.2
            },
            "type": "scatter"
           }
          ],
          "scatter3d": [
           {
            "line": {
             "colorbar": {
              "outlinewidth": 0,
              "ticks": ""
             }
            },
            "marker": {
             "colorbar": {
              "outlinewidth": 0,
              "ticks": ""
             }
            },
            "type": "scatter3d"
           }
          ],
          "scattercarpet": [
           {
            "marker": {
             "colorbar": {
              "outlinewidth": 0,
              "ticks": ""
             }
            },
            "type": "scattercarpet"
           }
          ],
          "scattergeo": [
           {
            "marker": {
             "colorbar": {
              "outlinewidth": 0,
              "ticks": ""
             }
            },
            "type": "scattergeo"
           }
          ],
          "scattergl": [
           {
            "marker": {
             "colorbar": {
              "outlinewidth": 0,
              "ticks": ""
             }
            },
            "type": "scattergl"
           }
          ],
          "scattermapbox": [
           {
            "marker": {
             "colorbar": {
              "outlinewidth": 0,
              "ticks": ""
             }
            },
            "type": "scattermapbox"
           }
          ],
          "scatterpolar": [
           {
            "marker": {
             "colorbar": {
              "outlinewidth": 0,
              "ticks": ""
             }
            },
            "type": "scatterpolar"
           }
          ],
          "scatterpolargl": [
           {
            "marker": {
             "colorbar": {
              "outlinewidth": 0,
              "ticks": ""
             }
            },
            "type": "scatterpolargl"
           }
          ],
          "scatterternary": [
           {
            "marker": {
             "colorbar": {
              "outlinewidth": 0,
              "ticks": ""
             }
            },
            "type": "scatterternary"
           }
          ],
          "surface": [
           {
            "colorbar": {
             "outlinewidth": 0,
             "ticks": ""
            },
            "colorscale": [
             [
              0,
              "#0d0887"
             ],
             [
              0.1111111111111111,
              "#46039f"
             ],
             [
              0.2222222222222222,
              "#7201a8"
             ],
             [
              0.3333333333333333,
              "#9c179e"
             ],
             [
              0.4444444444444444,
              "#bd3786"
             ],
             [
              0.5555555555555556,
              "#d8576b"
             ],
             [
              0.6666666666666666,
              "#ed7953"
             ],
             [
              0.7777777777777778,
              "#fb9f3a"
             ],
             [
              0.8888888888888888,
              "#fdca26"
             ],
             [
              1,
              "#f0f921"
             ]
            ],
            "type": "surface"
           }
          ],
          "table": [
           {
            "cells": {
             "fill": {
              "color": "#EBF0F8"
             },
             "line": {
              "color": "white"
             }
            },
            "header": {
             "fill": {
              "color": "#C8D4E3"
             },
             "line": {
              "color": "white"
             }
            },
            "type": "table"
           }
          ]
         },
         "layout": {
          "annotationdefaults": {
           "arrowcolor": "#2a3f5f",
           "arrowhead": 0,
           "arrowwidth": 1
          },
          "autotypenumbers": "strict",
          "coloraxis": {
           "colorbar": {
            "outlinewidth": 0,
            "ticks": ""
           }
          },
          "colorscale": {
           "diverging": [
            [
             0,
             "#8e0152"
            ],
            [
             0.1,
             "#c51b7d"
            ],
            [
             0.2,
             "#de77ae"
            ],
            [
             0.3,
             "#f1b6da"
            ],
            [
             0.4,
             "#fde0ef"
            ],
            [
             0.5,
             "#f7f7f7"
            ],
            [
             0.6,
             "#e6f5d0"
            ],
            [
             0.7,
             "#b8e186"
            ],
            [
             0.8,
             "#7fbc41"
            ],
            [
             0.9,
             "#4d9221"
            ],
            [
             1,
             "#276419"
            ]
           ],
           "sequential": [
            [
             0,
             "#0d0887"
            ],
            [
             0.1111111111111111,
             "#46039f"
            ],
            [
             0.2222222222222222,
             "#7201a8"
            ],
            [
             0.3333333333333333,
             "#9c179e"
            ],
            [
             0.4444444444444444,
             "#bd3786"
            ],
            [
             0.5555555555555556,
             "#d8576b"
            ],
            [
             0.6666666666666666,
             "#ed7953"
            ],
            [
             0.7777777777777778,
             "#fb9f3a"
            ],
            [
             0.8888888888888888,
             "#fdca26"
            ],
            [
             1,
             "#f0f921"
            ]
           ],
           "sequentialminus": [
            [
             0,
             "#0d0887"
            ],
            [
             0.1111111111111111,
             "#46039f"
            ],
            [
             0.2222222222222222,
             "#7201a8"
            ],
            [
             0.3333333333333333,
             "#9c179e"
            ],
            [
             0.4444444444444444,
             "#bd3786"
            ],
            [
             0.5555555555555556,
             "#d8576b"
            ],
            [
             0.6666666666666666,
             "#ed7953"
            ],
            [
             0.7777777777777778,
             "#fb9f3a"
            ],
            [
             0.8888888888888888,
             "#fdca26"
            ],
            [
             1,
             "#f0f921"
            ]
           ]
          },
          "colorway": [
           "#636efa",
           "#EF553B",
           "#00cc96",
           "#ab63fa",
           "#FFA15A",
           "#19d3f3",
           "#FF6692",
           "#B6E880",
           "#FF97FF",
           "#FECB52"
          ],
          "font": {
           "color": "#2a3f5f"
          },
          "geo": {
           "bgcolor": "white",
           "lakecolor": "white",
           "landcolor": "white",
           "showlakes": true,
           "showland": true,
           "subunitcolor": "#C8D4E3"
          },
          "hoverlabel": {
           "align": "left"
          },
          "hovermode": "closest",
          "mapbox": {
           "style": "light"
          },
          "paper_bgcolor": "white",
          "plot_bgcolor": "white",
          "polar": {
           "angularaxis": {
            "gridcolor": "#EBF0F8",
            "linecolor": "#EBF0F8",
            "ticks": ""
           },
           "bgcolor": "white",
           "radialaxis": {
            "gridcolor": "#EBF0F8",
            "linecolor": "#EBF0F8",
            "ticks": ""
           }
          },
          "scene": {
           "xaxis": {
            "backgroundcolor": "white",
            "gridcolor": "#DFE8F3",
            "gridwidth": 2,
            "linecolor": "#EBF0F8",
            "showbackground": true,
            "ticks": "",
            "zerolinecolor": "#EBF0F8"
           },
           "yaxis": {
            "backgroundcolor": "white",
            "gridcolor": "#DFE8F3",
            "gridwidth": 2,
            "linecolor": "#EBF0F8",
            "showbackground": true,
            "ticks": "",
            "zerolinecolor": "#EBF0F8"
           },
           "zaxis": {
            "backgroundcolor": "white",
            "gridcolor": "#DFE8F3",
            "gridwidth": 2,
            "linecolor": "#EBF0F8",
            "showbackground": true,
            "ticks": "",
            "zerolinecolor": "#EBF0F8"
           }
          },
          "shapedefaults": {
           "line": {
            "color": "#2a3f5f"
           }
          },
          "ternary": {
           "aaxis": {
            "gridcolor": "#DFE8F3",
            "linecolor": "#A2B1C6",
            "ticks": ""
           },
           "baxis": {
            "gridcolor": "#DFE8F3",
            "linecolor": "#A2B1C6",
            "ticks": ""
           },
           "bgcolor": "white",
           "caxis": {
            "gridcolor": "#DFE8F3",
            "linecolor": "#A2B1C6",
            "ticks": ""
           }
          },
          "title": {
           "x": 0.05
          },
          "xaxis": {
           "automargin": true,
           "gridcolor": "#EBF0F8",
           "linecolor": "#EBF0F8",
           "ticks": "",
           "title": {
            "standoff": 15
           },
           "zerolinecolor": "#EBF0F8",
           "zerolinewidth": 2
          },
          "yaxis": {
           "automargin": true,
           "gridcolor": "#EBF0F8",
           "linecolor": "#EBF0F8",
           "ticks": "",
           "title": {
            "standoff": 15
           },
           "zerolinecolor": "#EBF0F8",
           "zerolinewidth": 2
          }
         }
        },
        "title": {
         "text": "SalePrice Distribution with Density"
        },
        "xaxis": {
         "anchor": "y",
         "domain": [
          0,
          1
         ],
         "title": {
          "text": "Sale Price"
         }
        },
        "yaxis": {
         "anchor": "x",
         "domain": [
          0,
          1
         ],
         "title": {
          "text": "Density"
         }
        }
       }
      }
     },
     "metadata": {},
     "output_type": "display_data"
    }
   ],
   "source": [
    "# Calculate KDE for SalePrice\n",
    "kde = gaussian_kde(train['SalePrice'])\n",
    "x_vals = np.linspace(train['SalePrice'].min(), train['SalePrice'].max(), 1000)\n",
    "kde_vals = kde(x_vals)\n",
    "\n",
    "# Create the histogram with proportion normalization\n",
    "fig = px.histogram(train, \n",
    "                   x='SalePrice', \n",
    "                   nbins=100, \n",
    "                   title='SalePrice Distribution with Density',\n",
    "                   labels={'SalePrice': 'Sale Price'},\n",
    "                   template='plotly_white',\n",
    "                   histnorm='probability density')  # Normalize to proportion\n",
    "\n",
    "fig.update_traces(marker_color='blue', opacity=0.75)\n",
    "\n",
    "# Add the density curve\n",
    "fig.add_trace(\n",
    "    go.Scatter(\n",
    "        x=x_vals,\n",
    "        y=kde_vals,\n",
    "        mode='lines',\n",
    "        line=dict(color='black', width=2),\n",
    "        name='Density Estimation'\n",
    "    )\n",
    ")\n",
    "\n",
    "fig.update_layout(\n",
    "    yaxis_title='Density',\n",
    "    xaxis_title='Sale Price',\n",
    "    showlegend=True\n",
    ")\n",
    "\n",
    "fig.show()"
   ]
  },
  {
   "cell_type": "code",
   "execution_count": 49,
   "metadata": {},
   "outputs": [
    {
     "name": "stdout",
     "output_type": "stream",
     "text": [
      "Skewness: 1.880940746034036\n",
      "Kurtosis: 6.509812011089439\n"
     ]
    }
   ],
   "source": [
    "# Calculate skewness and kurtosis of the SalePrice\n",
    "saleprice_skewness = skew(train['SalePrice'])\n",
    "saleprice_kurtosis = kurtosis(train['SalePrice'])\n",
    "\n",
    "print(f\"Skewness: {saleprice_skewness}\")\n",
    "print(f\"Kurtosis: {saleprice_kurtosis}\")"
   ]
  },
  {
   "cell_type": "markdown",
   "metadata": {},
   "source": [
    "### **Definitions of Skewness and Kurtosis**\n",
    "\n",
    "#### **1. Skewness**\n",
    "Skewness quantifies the asymmetry of a distribution around its mean. It is mathematically defined as:\n",
    "\n",
    "$$\n",
    "Skewness = \\frac{\\frac{1}{n}sum_{i=1}^n (x_i -\\mu)^3}{\\sigma^3}\n",
    "$$\n",
    "\n",
    "Where:\n",
    "- $n$: Number of data points\n",
    "- $x_i$: Individual data point\n",
    "- $\\mu$: Mean of the dataset\n",
    "- $\\sigma$: Standard deviation of the dataset\n",
    "\n",
    "**Interpretation**:\n",
    "  - **Skewness > 0**: The distribution is positively skewed (longer tail on the right).\n",
    "  - **Skewness < 0**: The distribution is negatively skewed (longer tail on the left).\n",
    "  - **Skewness = 0**: The distribution is symmetric.\n",
    "\n",
    "**Significance in Machine Learning**:\n",
    "  - A highly skewed target variable may require transformations (e.g., log transformation) to improve model performance.\n",
    "\n",
    "---\n",
    "\n",
    "#### **2. Kurtosis**\n",
    "Kurtosis measures the \"tailedness\" or the sharpness of the peak of a distribution. It is mathematically defined as:\n",
    "\n",
    "$$\n",
    "Kurtosis = \\frac{\\frac{1}{n}\\sum_{i=1}^n (x_i - \\mu)^4}{\\sigma^4} - 3\n",
    "$$\n",
    "\n",
    "Where:\n",
    "- $n$: Number of data points\n",
    "- $x_i$: Individual data point\n",
    "- $\\mu$: Mean of the dataset\n",
    "- $\\sigma$: Standard deviation of the dataset\n",
    "- $-3$ ensures comparison with the normal distribution (which has kurtosis = 3).\n",
    "\n",
    "**Types**:\n",
    "  - **Leptokurtic (Kurtosis > 0)**: Distribution has heavy tails and a sharp peak (more outliers).\n",
    "  - **Mesokurtic (Kurtosis = 0)**: Distribution is similar to the normal distribution.\n",
    "  - **Platykurtic (Kurtosis < 0)**: Distribution has light tails and a flatter peak.\n",
    "\n",
    "**Significance in Machine Learning**:\n",
    "  - High kurtosis indicates extreme values (outliers), which may require special handling to avoid skewing model training.\n",
    "\n",
    "---\n",
    "\n",
    "#### **Summary**\n",
    "\n",
    "- **Skewness** reveals asymmetry, while **kurtosis** highlights the concentration of extreme values.\n",
    "- Both metrics provide insights into the shape of the data distribution, enabling better preprocessing and model selection.\n",
    "\n",
    "\n",
    "---\n",
    "#### **Application to the Dataset:**\n",
    "\n",
    "**Skewness:**\n",
    "\n",
    "- Skewness = $ 1.88$: The distribution of SalePrice is highly right-skewed, indicating a long tail with higher-priced houses. \n",
    "\n",
    "- A right-skewed distribution can lead to poor model performance because the model struggles to predict extreme values. \n",
    "\n",
    "- We will maybe need to apply a transformation to make the distribution more symmetric.\n",
    "\n",
    "**Kurtosis:**\n",
    "\n",
    "- Kurtosis = $6.51$: The distribution is leptokurtic, meaning it has a sharper peak and heavier tails compared to a normal distribution. \n",
    "\n",
    "- This suggests more extreme values (outliers) in the dataset.\n",
    "\n",
    "- Outliers can:\n",
    "    - skew the training process of sensitive models (e.g., linear regression)\n",
    "\n",
    "    - Overemphasize extreme values in tree-based models (e.g., random forests, XGBoost).\n",
    "\n",
    "---\n",
    "\n",
    "#### **Handling Outliers**\n",
    "\n",
    "To handle outliers, we can:\n",
    "\n",
    "- Removing extreme outliers if they are errors or irrelevant.\n",
    "\n",
    "- Applying robust models that are less sensitive to outliers (e.g., gradient boosting, robust regression)."
   ]
  },
  {
   "cell_type": "code",
   "execution_count": 50,
   "metadata": {},
   "outputs": [
    {
     "data": {
      "application/vnd.plotly.v1+json": {
       "config": {
        "plotlyServerURL": "https://plot.ly"
       },
       "data": [
        {
         "alignmentgroup": "True",
         "hovertemplate": "Sale Price=%{y}<extra></extra>",
         "legendgroup": "",
         "marker": {
          "color": "blue"
         },
         "name": "",
         "notched": false,
         "offsetgroup": "",
         "orientation": "v",
         "showlegend": false,
         "type": "box",
         "x0": " ",
         "xaxis": "x",
         "y": [
          208500,
          181500,
          223500,
          140000,
          250000,
          143000,
          307000,
          200000,
          129900,
          118000,
          129500,
          345000,
          144000,
          279500,
          157000,
          132000,
          149000,
          90000,
          159000,
          139000,
          325300,
          139400,
          230000,
          129900,
          154000,
          256300,
          134800,
          306000,
          207500,
          68500,
          40000,
          149350,
          179900,
          165500,
          277500,
          309000,
          145000,
          153000,
          109000,
          82000,
          160000,
          170000,
          144000,
          130250,
          141000,
          319900,
          239686,
          249700,
          113000,
          127000,
          177000,
          114500,
          110000,
          385000,
          130000,
          180500,
          172500,
          196500,
          438780,
          124900,
          158000,
          101000,
          202500,
          140000,
          219500,
          317000,
          180000,
          226000,
          80000,
          225000,
          244000,
          129500,
          185000,
          144900,
          107400,
          91000,
          135750,
          127000,
          136500,
          110000,
          193500,
          153500,
          245000,
          126500,
          168500,
          260000,
          174000,
          164500,
          85000,
          123600,
          109900,
          98600,
          163500,
          133900,
          204750,
          185000,
          214000,
          94750,
          83000,
          128950,
          205000,
          178000,
          118964,
          198900,
          169500,
          250000,
          100000,
          115000,
          115000,
          190000,
          136900,
          180000,
          383970,
          217000,
          259500,
          176000,
          139000,
          155000,
          320000,
          163990,
          180000,
          100000,
          136000,
          153900,
          181000,
          84500,
          128000,
          87000,
          155000,
          150000,
          226000,
          244000,
          150750,
          220000,
          180000,
          174000,
          143000,
          171000,
          230000,
          231500,
          115000,
          260000,
          166000,
          204000,
          125000,
          130000,
          105000,
          222500,
          141000,
          115000,
          122000,
          372402,
          190000,
          235000,
          125000,
          79000,
          109500,
          269500,
          254900,
          320000,
          162500,
          412500,
          220000,
          103200,
          152000,
          127500,
          190000,
          325624,
          183500,
          228000,
          128500,
          215000,
          239000,
          163000,
          184000,
          243000,
          211000,
          172500,
          501837,
          100000,
          177000,
          200100,
          120000,
          200000,
          127000,
          475000,
          173000,
          135000,
          153337,
          286000,
          315000,
          184000,
          192000,
          130000,
          127000,
          148500,
          311872,
          235000,
          104000,
          274900,
          140000,
          171500,
          112000,
          149000,
          110000,
          180500,
          143900,
          141000,
          277000,
          145000,
          98000,
          186000,
          252678,
          156000,
          161750,
          134450,
          210000,
          107000,
          311500,
          167240,
          204900,
          200000,
          179900,
          97000,
          386250,
          112000,
          290000,
          106000,
          125000,
          192500,
          148000,
          403000,
          94500,
          128200,
          216500,
          89500,
          185500,
          194500,
          318000,
          113000,
          262500,
          110500,
          79000,
          120000,
          205000,
          241500,
          137000,
          140000,
          180000,
          277000,
          76500,
          235000,
          173000,
          158000,
          145000,
          230000,
          207500,
          220000,
          231500,
          97000,
          176000,
          276000,
          151000,
          130000,
          73000,
          175500,
          185000,
          179500,
          120500,
          148000,
          266000,
          241500,
          290000,
          139000,
          124500,
          205000,
          201000,
          141000,
          415298,
          192000,
          228500,
          185000,
          207500,
          244600,
          179200,
          164700,
          159000,
          88000,
          122000,
          153575,
          233230,
          135900,
          131000,
          235000,
          167000,
          142500,
          152000,
          239000,
          175000,
          158500,
          157000,
          267000,
          205000,
          149900,
          295000,
          305900,
          225000,
          89500,
          82500,
          360000,
          165600,
          132000,
          119900,
          375000,
          178000,
          188500,
          260000,
          270000,
          260000,
          187500,
          342643,
          354000,
          301000,
          126175,
          242000,
          87000,
          324000,
          145250,
          214500,
          78000,
          119000,
          139000,
          284000,
          207000,
          192000,
          228950,
          377426,
          214000,
          202500,
          155000,
          202900,
          82000,
          87500,
          266000,
          85000,
          140200,
          151500,
          157500,
          154000,
          437154,
          318061,
          190000,
          95000,
          105900,
          140000,
          177500,
          173000,
          134000,
          130000,
          280000,
          156000,
          145000,
          198500,
          118000,
          190000,
          147000,
          159000,
          165000,
          132000,
          162000,
          172400,
          134432,
          125000,
          123000,
          219500,
          61000,
          148000,
          340000,
          394432,
          179000,
          127000,
          187750,
          213500,
          76000,
          240000,
          192000,
          81000,
          125000,
          191000,
          426000,
          119000,
          215000,
          106500,
          100000,
          109000,
          129000,
          123000,
          169500,
          67000,
          241000,
          245500,
          164990,
          108000,
          258000,
          168000,
          150000,
          115000,
          177000,
          280000,
          339750,
          60000,
          145000,
          222000,
          115000,
          228000,
          181134,
          149500,
          239000,
          126000,
          142000,
          206300,
          215000,
          113000,
          315000,
          139000,
          135000,
          275000,
          109008,
          195400,
          175000,
          85400,
          79900,
          122500,
          181000,
          81000,
          212000,
          116000,
          119000,
          90350,
          110000,
          555000,
          118000,
          162900,
          172500,
          210000,
          127500,
          190000,
          199900,
          119500,
          120000,
          110000,
          280000,
          204000,
          210000,
          188000,
          175500,
          98000,
          256000,
          161000,
          110000,
          263435,
          155000,
          62383,
          188700,
          124000,
          178740,
          167000,
          146500,
          250000,
          187000,
          212000,
          190000,
          148000,
          440000,
          251000,
          132500,
          208900,
          380000,
          297000,
          89471,
          326000,
          374000,
          155000,
          164000,
          132500,
          147000,
          156000,
          175000,
          160000,
          86000,
          115000,
          133000,
          172785,
          155000,
          91300,
          34900,
          430000,
          184000,
          130000,
          120000,
          113000,
          226700,
          140000,
          289000,
          147000,
          124500,
          215000,
          208300,
          161000,
          124500,
          164900,
          202665,
          129900,
          134000,
          96500,
          402861,
          158000,
          265000,
          211000,
          234000,
          106250,
          150000,
          159000,
          184750,
          315750,
          176000,
          132000,
          446261,
          86000,
          200624,
          175000,
          128000,
          107500,
          39300,
          178000,
          107500,
          188000,
          111250,
          158000,
          272000,
          315000,
          248000,
          213250,
          133000,
          179665,
          229000,
          210000,
          129500,
          125000,
          263000,
          140000,
          112500,
          255500,
          108000,
          284000,
          113000,
          141000,
          108000,
          175000,
          234000,
          121500,
          170000,
          108000,
          185000,
          268000,
          128000,
          325000,
          214000,
          316600,
          135960,
          142600,
          120000,
          224500,
          170000,
          139000,
          118500,
          145000,
          164500,
          146000,
          131500,
          181900,
          253293,
          118500,
          325000,
          133000,
          369900,
          130000,
          137000,
          143000,
          79500,
          185900,
          451950,
          138000,
          140000,
          110000,
          319000,
          114504,
          194201,
          217500,
          151000,
          275000,
          141000,
          220000,
          151000,
          221000,
          205000,
          152000,
          225000,
          359100,
          118500,
          313000,
          148000,
          261500,
          147000,
          75500,
          137500,
          183200,
          105500,
          314813,
          305000,
          67000,
          240000,
          135000,
          168500,
          165150,
          160000,
          139900,
          153000,
          135000,
          168500,
          124000,
          209500,
          82500,
          139400,
          144000,
          200000,
          60000,
          93000,
          85000,
          264561,
          274000,
          226000,
          345000,
          152000,
          370878,
          143250,
          98300,
          155000,
          155000,
          84500,
          205950,
          108000,
          191000,
          135000,
          350000,
          88000,
          145500,
          149000,
          97500,
          167000,
          197900,
          402000,
          110000,
          137500,
          423000,
          230500,
          129000,
          193500,
          168000,
          137500,
          173500,
          103600,
          165000,
          257500,
          140000,
          148500,
          87000,
          109500,
          372500,
          128500,
          143000,
          159434,
          173000,
          285000,
          221000,
          207500,
          227875,
          148800,
          392000,
          194700,
          141000,
          755000,
          335000,
          108480,
          141500,
          176000,
          89000,
          123500,
          138500,
          196000,
          312500,
          140000,
          361919,
          140000,
          213000,
          55000,
          302000,
          254000,
          179540,
          109900,
          52000,
          102776,
          189000,
          129000,
          130500,
          165000,
          159500,
          157000,
          341000,
          128500,
          275000,
          143000,
          124500,
          135000,
          320000,
          120500,
          222000,
          194500,
          110000,
          103000,
          236500,
          187500,
          222500,
          131400,
          108000,
          163000,
          93500,
          239900,
          179000,
          190000,
          132000,
          142000,
          179000,
          175000,
          180000,
          299800,
          236000,
          265979,
          260400,
          98000,
          96500,
          162000,
          217000,
          275500,
          156000,
          172500,
          212000,
          158900,
          179400,
          290000,
          127500,
          100000,
          215200,
          337000,
          270000,
          264132,
          196500,
          160000,
          216837,
          538000,
          134900,
          102000,
          107000,
          114500,
          395000,
          162000,
          221500,
          142500,
          144000,
          135000,
          176000,
          175900,
          187100,
          165500,
          128000,
          161500,
          139000,
          233000,
          107900,
          187500,
          160200,
          146800,
          269790,
          225000,
          194500,
          171000,
          143500,
          110000,
          485000,
          175000,
          200000,
          109900,
          189000,
          582933,
          118000,
          227680,
          135500,
          223500,
          159950,
          106000,
          181000,
          144500,
          55993,
          157900,
          116000,
          224900,
          137000,
          271000,
          155000,
          224000,
          183000,
          93000,
          225000,
          139500,
          232600,
          385000,
          109500,
          189000,
          185000,
          147400,
          166000,
          151000,
          237000,
          167000,
          139950,
          128000,
          153500,
          100000,
          144000,
          130500,
          140000,
          157500,
          174900,
          141000,
          153900,
          171000,
          213000,
          133500,
          240000,
          187000,
          131500,
          215000,
          164000,
          158000,
          170000,
          127000,
          147000,
          174000,
          152000,
          250000,
          189950,
          131500,
          152000,
          132500,
          250580,
          148500,
          248900,
          129000,
          169000,
          236000,
          109500,
          200500,
          116000,
          133000,
          66500,
          303477,
          132250,
          350000,
          148000,
          136500,
          157000,
          187500,
          178000,
          118500,
          100000,
          328900,
          145000,
          135500,
          268000,
          149500,
          122900,
          172500,
          154500,
          165000,
          118858,
          140000,
          106500,
          142953,
          611657,
          135000,
          110000,
          153000,
          180000,
          240000,
          125500,
          128000,
          255000,
          250000,
          131000,
          174000,
          154300,
          143500,
          88000,
          145000,
          173733,
          75000,
          35311,
          135000,
          238000,
          176500,
          201000,
          145900,
          169990,
          193000,
          207500,
          175000,
          285000,
          176000,
          236500,
          222000,
          201000,
          117500,
          320000,
          190000,
          242000,
          79900,
          184900,
          253000,
          239799,
          244400,
          150900,
          214000,
          150000,
          143000,
          137500,
          124900,
          143000,
          270000,
          192500,
          197500,
          129000,
          119900,
          133900,
          172000,
          127500,
          145000,
          124000,
          132000,
          185000,
          155000,
          116500,
          272000,
          155000,
          239000,
          214900,
          178900,
          160000,
          135000,
          37900,
          140000,
          135000,
          173000,
          99500,
          182000,
          167500,
          165000,
          85500,
          199900,
          110000,
          139000,
          178400,
          336000,
          159895,
          255900,
          126000,
          125000,
          117000,
          395192,
          195000,
          197000,
          348000,
          168000,
          187000,
          173900,
          337500,
          121600,
          136500,
          185000,
          91000,
          206000,
          82000,
          86000,
          232000,
          136905,
          181000,
          149900,
          163500,
          88000,
          240000,
          102000,
          135000,
          100000,
          165000,
          85000,
          119200,
          227000,
          203000,
          187500,
          160000,
          213490,
          176000,
          194000,
          87000,
          191000,
          287000,
          112500,
          167500,
          293077,
          105000,
          118000,
          160000,
          197000,
          310000,
          230000,
          119750,
          84000,
          315500,
          287000,
          97000,
          80000,
          155000,
          173000,
          196000,
          262280,
          278000,
          139600,
          556581,
          145000,
          115000,
          84900,
          176485,
          200141,
          165000,
          144500,
          255000,
          180000,
          185850,
          248000,
          335000,
          220000,
          213500,
          81000,
          90000,
          110500,
          154000,
          328000,
          178000,
          167900,
          151400,
          135000,
          135000,
          154000,
          91500,
          159500,
          194000,
          219500,
          170000,
          138800,
          155900,
          126000,
          145000,
          133000,
          192000,
          160000,
          187500,
          147000,
          83500,
          252000,
          137500,
          197000,
          92900,
          160000,
          136500,
          146000,
          129000,
          176432,
          127000,
          170000,
          128000,
          157000,
          60000,
          119500,
          135000,
          159500,
          106000,
          325000,
          179900,
          274725,
          181000,
          280000,
          188000,
          205000,
          129900,
          134500,
          117000,
          318000,
          184100,
          130000,
          140000,
          133700,
          118400,
          212900,
          112000,
          118000,
          163900,
          115000,
          174000,
          259000,
          215000,
          140000,
          135000,
          93500,
          117500,
          239500,
          169000,
          102000,
          119000,
          94000,
          196000,
          144000,
          139000,
          197500,
          424870,
          80000,
          80000,
          149000,
          180000,
          174500,
          116900,
          143000,
          124000,
          149900,
          230000,
          120500,
          201800,
          218000,
          179900,
          230000,
          235128,
          185000,
          146000,
          224000,
          129000,
          108959,
          194000,
          233170,
          245350,
          173000,
          235000,
          625000,
          171000,
          163000,
          171900,
          200500,
          239000,
          285000,
          119500,
          115000,
          154900,
          93000,
          250000,
          392500,
          745000,
          120000,
          186700,
          104900,
          95000,
          262000,
          195000,
          189000,
          168000,
          174000,
          125000,
          165000,
          158000,
          176000,
          219210,
          144000,
          178000,
          148000,
          116050,
          197900,
          117000,
          213000,
          153500,
          271900,
          107000,
          200000,
          140000,
          290000,
          189000,
          164000,
          113000,
          145000,
          134500,
          125000,
          112000,
          229456,
          80500,
          91500,
          115000,
          134000,
          143000,
          137900,
          184000,
          145000,
          214000,
          147000,
          367294,
          127000,
          190000,
          132500,
          101800,
          142000,
          130000,
          138887,
          175500,
          195000,
          142500,
          265900,
          224900,
          248328,
          170000,
          465000,
          230000,
          178000,
          186500,
          169900,
          129500,
          119000,
          244000,
          171750,
          130000,
          294000,
          165400,
          127500,
          301500,
          99900,
          190000,
          151000,
          181000,
          128900,
          161500,
          180500,
          181000,
          183900,
          122000,
          378500,
          381000,
          144000,
          260000,
          185750,
          137000,
          177000,
          139000,
          137000,
          162000,
          197900,
          237000,
          68400,
          227000,
          180000,
          150500,
          139000,
          169000,
          132500,
          143000,
          190000,
          278000,
          281000,
          180500,
          119500,
          107500,
          162900,
          115000,
          138500,
          155000,
          140000,
          160000,
          154000,
          225000,
          177500,
          290000,
          232000,
          130000,
          325000,
          202500,
          138000,
          147000,
          179200,
          335000,
          203000,
          302000,
          333168,
          119000,
          206900,
          295493,
          208900,
          275000,
          111000,
          156500,
          72500,
          190000,
          82500,
          147000,
          55000,
          79000,
          130500,
          256000,
          176500,
          227000,
          132500,
          100000,
          125500,
          125000,
          167900,
          135000,
          52500,
          200000,
          128500,
          123000,
          155000,
          228500,
          177000,
          155835,
          108500,
          262500,
          283463,
          215000,
          122000,
          200000,
          171000,
          134900,
          410000,
          235000,
          170000,
          110000,
          149900,
          177500,
          315000,
          189000,
          260000,
          104900,
          156932,
          144152,
          216000,
          193000,
          127000,
          144000,
          232000,
          105000,
          165500,
          274300,
          466500,
          250000,
          239000,
          91000,
          117000,
          83000,
          167500,
          58500,
          237500,
          157000,
          112000,
          105000,
          125500,
          250000,
          136000,
          377500,
          131000,
          235000,
          124000,
          123000,
          163000,
          246578,
          281213,
          160000,
          137500,
          138000,
          137450,
          120000,
          193000,
          193879,
          282922,
          105000,
          275000,
          133000,
          112000,
          125500,
          215000,
          230000,
          140000,
          90000,
          257000,
          207000,
          175900,
          122500,
          340000,
          124000,
          223000,
          179900,
          127500,
          136500,
          274970,
          144000,
          142000,
          271000,
          140000,
          119000,
          182900,
          192140,
          143750,
          64500,
          186500,
          160000,
          174000,
          120500,
          394617,
          149700,
          197000,
          191000,
          149300,
          310000,
          121000,
          179600,
          129000,
          157900,
          240000,
          112000,
          92000,
          136000,
          287090,
          145000,
          84500,
          185000,
          175000,
          210000,
          266500,
          142125,
          147500
         ],
         "y0": " ",
         "yaxis": "y"
        }
       ],
       "layout": {
        "boxmode": "group",
        "legend": {
         "tracegroupgap": 0
        },
        "template": {
         "data": {
          "bar": [
           {
            "error_x": {
             "color": "#2a3f5f"
            },
            "error_y": {
             "color": "#2a3f5f"
            },
            "marker": {
             "line": {
              "color": "white",
              "width": 0.5
             },
             "pattern": {
              "fillmode": "overlay",
              "size": 10,
              "solidity": 0.2
             }
            },
            "type": "bar"
           }
          ],
          "barpolar": [
           {
            "marker": {
             "line": {
              "color": "white",
              "width": 0.5
             },
             "pattern": {
              "fillmode": "overlay",
              "size": 10,
              "solidity": 0.2
             }
            },
            "type": "barpolar"
           }
          ],
          "carpet": [
           {
            "aaxis": {
             "endlinecolor": "#2a3f5f",
             "gridcolor": "#C8D4E3",
             "linecolor": "#C8D4E3",
             "minorgridcolor": "#C8D4E3",
             "startlinecolor": "#2a3f5f"
            },
            "baxis": {
             "endlinecolor": "#2a3f5f",
             "gridcolor": "#C8D4E3",
             "linecolor": "#C8D4E3",
             "minorgridcolor": "#C8D4E3",
             "startlinecolor": "#2a3f5f"
            },
            "type": "carpet"
           }
          ],
          "choropleth": [
           {
            "colorbar": {
             "outlinewidth": 0,
             "ticks": ""
            },
            "type": "choropleth"
           }
          ],
          "contour": [
           {
            "colorbar": {
             "outlinewidth": 0,
             "ticks": ""
            },
            "colorscale": [
             [
              0,
              "#0d0887"
             ],
             [
              0.1111111111111111,
              "#46039f"
             ],
             [
              0.2222222222222222,
              "#7201a8"
             ],
             [
              0.3333333333333333,
              "#9c179e"
             ],
             [
              0.4444444444444444,
              "#bd3786"
             ],
             [
              0.5555555555555556,
              "#d8576b"
             ],
             [
              0.6666666666666666,
              "#ed7953"
             ],
             [
              0.7777777777777778,
              "#fb9f3a"
             ],
             [
              0.8888888888888888,
              "#fdca26"
             ],
             [
              1,
              "#f0f921"
             ]
            ],
            "type": "contour"
           }
          ],
          "contourcarpet": [
           {
            "colorbar": {
             "outlinewidth": 0,
             "ticks": ""
            },
            "type": "contourcarpet"
           }
          ],
          "heatmap": [
           {
            "colorbar": {
             "outlinewidth": 0,
             "ticks": ""
            },
            "colorscale": [
             [
              0,
              "#0d0887"
             ],
             [
              0.1111111111111111,
              "#46039f"
             ],
             [
              0.2222222222222222,
              "#7201a8"
             ],
             [
              0.3333333333333333,
              "#9c179e"
             ],
             [
              0.4444444444444444,
              "#bd3786"
             ],
             [
              0.5555555555555556,
              "#d8576b"
             ],
             [
              0.6666666666666666,
              "#ed7953"
             ],
             [
              0.7777777777777778,
              "#fb9f3a"
             ],
             [
              0.8888888888888888,
              "#fdca26"
             ],
             [
              1,
              "#f0f921"
             ]
            ],
            "type": "heatmap"
           }
          ],
          "heatmapgl": [
           {
            "colorbar": {
             "outlinewidth": 0,
             "ticks": ""
            },
            "colorscale": [
             [
              0,
              "#0d0887"
             ],
             [
              0.1111111111111111,
              "#46039f"
             ],
             [
              0.2222222222222222,
              "#7201a8"
             ],
             [
              0.3333333333333333,
              "#9c179e"
             ],
             [
              0.4444444444444444,
              "#bd3786"
             ],
             [
              0.5555555555555556,
              "#d8576b"
             ],
             [
              0.6666666666666666,
              "#ed7953"
             ],
             [
              0.7777777777777778,
              "#fb9f3a"
             ],
             [
              0.8888888888888888,
              "#fdca26"
             ],
             [
              1,
              "#f0f921"
             ]
            ],
            "type": "heatmapgl"
           }
          ],
          "histogram": [
           {
            "marker": {
             "pattern": {
              "fillmode": "overlay",
              "size": 10,
              "solidity": 0.2
             }
            },
            "type": "histogram"
           }
          ],
          "histogram2d": [
           {
            "colorbar": {
             "outlinewidth": 0,
             "ticks": ""
            },
            "colorscale": [
             [
              0,
              "#0d0887"
             ],
             [
              0.1111111111111111,
              "#46039f"
             ],
             [
              0.2222222222222222,
              "#7201a8"
             ],
             [
              0.3333333333333333,
              "#9c179e"
             ],
             [
              0.4444444444444444,
              "#bd3786"
             ],
             [
              0.5555555555555556,
              "#d8576b"
             ],
             [
              0.6666666666666666,
              "#ed7953"
             ],
             [
              0.7777777777777778,
              "#fb9f3a"
             ],
             [
              0.8888888888888888,
              "#fdca26"
             ],
             [
              1,
              "#f0f921"
             ]
            ],
            "type": "histogram2d"
           }
          ],
          "histogram2dcontour": [
           {
            "colorbar": {
             "outlinewidth": 0,
             "ticks": ""
            },
            "colorscale": [
             [
              0,
              "#0d0887"
             ],
             [
              0.1111111111111111,
              "#46039f"
             ],
             [
              0.2222222222222222,
              "#7201a8"
             ],
             [
              0.3333333333333333,
              "#9c179e"
             ],
             [
              0.4444444444444444,
              "#bd3786"
             ],
             [
              0.5555555555555556,
              "#d8576b"
             ],
             [
              0.6666666666666666,
              "#ed7953"
             ],
             [
              0.7777777777777778,
              "#fb9f3a"
             ],
             [
              0.8888888888888888,
              "#fdca26"
             ],
             [
              1,
              "#f0f921"
             ]
            ],
            "type": "histogram2dcontour"
           }
          ],
          "mesh3d": [
           {
            "colorbar": {
             "outlinewidth": 0,
             "ticks": ""
            },
            "type": "mesh3d"
           }
          ],
          "parcoords": [
           {
            "line": {
             "colorbar": {
              "outlinewidth": 0,
              "ticks": ""
             }
            },
            "type": "parcoords"
           }
          ],
          "pie": [
           {
            "automargin": true,
            "type": "pie"
           }
          ],
          "scatter": [
           {
            "fillpattern": {
             "fillmode": "overlay",
             "size": 10,
             "solidity": 0.2
            },
            "type": "scatter"
           }
          ],
          "scatter3d": [
           {
            "line": {
             "colorbar": {
              "outlinewidth": 0,
              "ticks": ""
             }
            },
            "marker": {
             "colorbar": {
              "outlinewidth": 0,
              "ticks": ""
             }
            },
            "type": "scatter3d"
           }
          ],
          "scattercarpet": [
           {
            "marker": {
             "colorbar": {
              "outlinewidth": 0,
              "ticks": ""
             }
            },
            "type": "scattercarpet"
           }
          ],
          "scattergeo": [
           {
            "marker": {
             "colorbar": {
              "outlinewidth": 0,
              "ticks": ""
             }
            },
            "type": "scattergeo"
           }
          ],
          "scattergl": [
           {
            "marker": {
             "colorbar": {
              "outlinewidth": 0,
              "ticks": ""
             }
            },
            "type": "scattergl"
           }
          ],
          "scattermapbox": [
           {
            "marker": {
             "colorbar": {
              "outlinewidth": 0,
              "ticks": ""
             }
            },
            "type": "scattermapbox"
           }
          ],
          "scatterpolar": [
           {
            "marker": {
             "colorbar": {
              "outlinewidth": 0,
              "ticks": ""
             }
            },
            "type": "scatterpolar"
           }
          ],
          "scatterpolargl": [
           {
            "marker": {
             "colorbar": {
              "outlinewidth": 0,
              "ticks": ""
             }
            },
            "type": "scatterpolargl"
           }
          ],
          "scatterternary": [
           {
            "marker": {
             "colorbar": {
              "outlinewidth": 0,
              "ticks": ""
             }
            },
            "type": "scatterternary"
           }
          ],
          "surface": [
           {
            "colorbar": {
             "outlinewidth": 0,
             "ticks": ""
            },
            "colorscale": [
             [
              0,
              "#0d0887"
             ],
             [
              0.1111111111111111,
              "#46039f"
             ],
             [
              0.2222222222222222,
              "#7201a8"
             ],
             [
              0.3333333333333333,
              "#9c179e"
             ],
             [
              0.4444444444444444,
              "#bd3786"
             ],
             [
              0.5555555555555556,
              "#d8576b"
             ],
             [
              0.6666666666666666,
              "#ed7953"
             ],
             [
              0.7777777777777778,
              "#fb9f3a"
             ],
             [
              0.8888888888888888,
              "#fdca26"
             ],
             [
              1,
              "#f0f921"
             ]
            ],
            "type": "surface"
           }
          ],
          "table": [
           {
            "cells": {
             "fill": {
              "color": "#EBF0F8"
             },
             "line": {
              "color": "white"
             }
            },
            "header": {
             "fill": {
              "color": "#C8D4E3"
             },
             "line": {
              "color": "white"
             }
            },
            "type": "table"
           }
          ]
         },
         "layout": {
          "annotationdefaults": {
           "arrowcolor": "#2a3f5f",
           "arrowhead": 0,
           "arrowwidth": 1
          },
          "autotypenumbers": "strict",
          "coloraxis": {
           "colorbar": {
            "outlinewidth": 0,
            "ticks": ""
           }
          },
          "colorscale": {
           "diverging": [
            [
             0,
             "#8e0152"
            ],
            [
             0.1,
             "#c51b7d"
            ],
            [
             0.2,
             "#de77ae"
            ],
            [
             0.3,
             "#f1b6da"
            ],
            [
             0.4,
             "#fde0ef"
            ],
            [
             0.5,
             "#f7f7f7"
            ],
            [
             0.6,
             "#e6f5d0"
            ],
            [
             0.7,
             "#b8e186"
            ],
            [
             0.8,
             "#7fbc41"
            ],
            [
             0.9,
             "#4d9221"
            ],
            [
             1,
             "#276419"
            ]
           ],
           "sequential": [
            [
             0,
             "#0d0887"
            ],
            [
             0.1111111111111111,
             "#46039f"
            ],
            [
             0.2222222222222222,
             "#7201a8"
            ],
            [
             0.3333333333333333,
             "#9c179e"
            ],
            [
             0.4444444444444444,
             "#bd3786"
            ],
            [
             0.5555555555555556,
             "#d8576b"
            ],
            [
             0.6666666666666666,
             "#ed7953"
            ],
            [
             0.7777777777777778,
             "#fb9f3a"
            ],
            [
             0.8888888888888888,
             "#fdca26"
            ],
            [
             1,
             "#f0f921"
            ]
           ],
           "sequentialminus": [
            [
             0,
             "#0d0887"
            ],
            [
             0.1111111111111111,
             "#46039f"
            ],
            [
             0.2222222222222222,
             "#7201a8"
            ],
            [
             0.3333333333333333,
             "#9c179e"
            ],
            [
             0.4444444444444444,
             "#bd3786"
            ],
            [
             0.5555555555555556,
             "#d8576b"
            ],
            [
             0.6666666666666666,
             "#ed7953"
            ],
            [
             0.7777777777777778,
             "#fb9f3a"
            ],
            [
             0.8888888888888888,
             "#fdca26"
            ],
            [
             1,
             "#f0f921"
            ]
           ]
          },
          "colorway": [
           "#636efa",
           "#EF553B",
           "#00cc96",
           "#ab63fa",
           "#FFA15A",
           "#19d3f3",
           "#FF6692",
           "#B6E880",
           "#FF97FF",
           "#FECB52"
          ],
          "font": {
           "color": "#2a3f5f"
          },
          "geo": {
           "bgcolor": "white",
           "lakecolor": "white",
           "landcolor": "white",
           "showlakes": true,
           "showland": true,
           "subunitcolor": "#C8D4E3"
          },
          "hoverlabel": {
           "align": "left"
          },
          "hovermode": "closest",
          "mapbox": {
           "style": "light"
          },
          "paper_bgcolor": "white",
          "plot_bgcolor": "white",
          "polar": {
           "angularaxis": {
            "gridcolor": "#EBF0F8",
            "linecolor": "#EBF0F8",
            "ticks": ""
           },
           "bgcolor": "white",
           "radialaxis": {
            "gridcolor": "#EBF0F8",
            "linecolor": "#EBF0F8",
            "ticks": ""
           }
          },
          "scene": {
           "xaxis": {
            "backgroundcolor": "white",
            "gridcolor": "#DFE8F3",
            "gridwidth": 2,
            "linecolor": "#EBF0F8",
            "showbackground": true,
            "ticks": "",
            "zerolinecolor": "#EBF0F8"
           },
           "yaxis": {
            "backgroundcolor": "white",
            "gridcolor": "#DFE8F3",
            "gridwidth": 2,
            "linecolor": "#EBF0F8",
            "showbackground": true,
            "ticks": "",
            "zerolinecolor": "#EBF0F8"
           },
           "zaxis": {
            "backgroundcolor": "white",
            "gridcolor": "#DFE8F3",
            "gridwidth": 2,
            "linecolor": "#EBF0F8",
            "showbackground": true,
            "ticks": "",
            "zerolinecolor": "#EBF0F8"
           }
          },
          "shapedefaults": {
           "line": {
            "color": "#2a3f5f"
           }
          },
          "ternary": {
           "aaxis": {
            "gridcolor": "#DFE8F3",
            "linecolor": "#A2B1C6",
            "ticks": ""
           },
           "baxis": {
            "gridcolor": "#DFE8F3",
            "linecolor": "#A2B1C6",
            "ticks": ""
           },
           "bgcolor": "white",
           "caxis": {
            "gridcolor": "#DFE8F3",
            "linecolor": "#A2B1C6",
            "ticks": ""
           }
          },
          "title": {
           "x": 0.05
          },
          "xaxis": {
           "automargin": true,
           "gridcolor": "#EBF0F8",
           "linecolor": "#EBF0F8",
           "ticks": "",
           "title": {
            "standoff": 15
           },
           "zerolinecolor": "#EBF0F8",
           "zerolinewidth": 2
          },
          "yaxis": {
           "automargin": true,
           "gridcolor": "#EBF0F8",
           "linecolor": "#EBF0F8",
           "ticks": "",
           "title": {
            "standoff": 15
           },
           "zerolinecolor": "#EBF0F8",
           "zerolinewidth": 2
          }
         }
        },
        "title": {
         "text": "SalePrice Boxplot"
        },
        "xaxis": {
         "anchor": "y",
         "domain": [
          0,
          1
         ]
        },
        "yaxis": {
         "anchor": "x",
         "domain": [
          0,
          1
         ],
         "title": {
          "text": "Sale Price"
         }
        }
       }
      }
     },
     "metadata": {},
     "output_type": "display_data"
    }
   ],
   "source": [
    "fig = px.box(train, y='SalePrice', title='SalePrice Boxplot',\n",
    "             labels={'SalePrice': 'Sale Price'},\n",
    "             template='plotly_white')\n",
    "fig.update_traces(marker_color='blue')\n",
    "fig.show()"
   ]
  },
  {
   "cell_type": "markdown",
   "metadata": {},
   "source": [
    "#### **How to read the SalePrice Boxplot**\n",
    "\n",
    "- **Median**: The central line in the boxplot represents the median sale price, approximately $200k.\n",
    "\n",
    "- **Interquartile Range (IQR)**: The box spans the middle 50% of the data, from the 25th percentile to the 75th percentile.\n",
    "\n",
    "- **Whiskers**: Extend to the non-outlier data points within 1.5 times the IQR.\n",
    "\n",
    "- **Outliers**: Points above the upper whisker are considered outliers, representing high-priced properties.\n",
    "\n",
    "#### **Interpretation:**\n",
    "The boxplot shows a significant number of outliers in the higher price range, confirming the right-skewness of `SalePrice`."
   ]
  },
  {
   "cell_type": "markdown",
   "metadata": {},
   "source": [
    "### **Missing Values**"
   ]
  },
  {
   "cell_type": "code",
   "execution_count": 51,
   "metadata": {},
   "outputs": [
    {
     "name": "stdout",
     "output_type": "stream",
     "text": [
      "Missing values in SalePrice: 0\n"
     ]
    }
   ],
   "source": [
    "# Check for missing values in SalePrice\n",
    "missing_values = train['SalePrice'].isnull().sum()\n",
    "print(f\"Missing values in SalePrice: {missing_values}\")"
   ]
  },
  {
   "cell_type": "markdown",
   "metadata": {},
   "source": [
    "## **Features Variables Analysis**"
   ]
  },
  {
   "cell_type": "markdown",
   "metadata": {},
   "source": [
    "### **Proportion of Missing Values**"
   ]
  },
  {
   "cell_type": "code",
   "execution_count": 52,
   "metadata": {},
   "outputs": [
    {
     "data": {
      "application/vnd.plotly.v1+json": {
       "config": {
        "plotlyServerURL": "https://plot.ly"
       },
       "data": [
        {
         "alignmentgroup": "True",
         "hovertemplate": "Missing Percentage (%)=%{x}<br>Variable=%{y}<extra></extra>",
         "legendgroup": "",
         "marker": {
          "color": "#636efa",
          "pattern": {
           "shape": ""
          }
         },
         "name": "",
         "offsetgroup": "",
         "orientation": "h",
         "showlegend": false,
         "textposition": "auto",
         "type": "bar",
         "x": [
          0.0684931506849315,
          0.547945205479452,
          2.5342465753424657,
          2.5342465753424657,
          2.5342465753424657,
          2.6027397260273974,
          2.6027397260273974,
          5.5479452054794525,
          5.5479452054794525,
          5.5479452054794525,
          5.5479452054794525,
          5.5479452054794525,
          17.73972602739726,
          47.26027397260274,
          59.726027397260275,
          80.75342465753424,
          93.76712328767123,
          96.30136986301369,
          99.52054794520548
         ],
         "xaxis": "x",
         "y": [
          "Electrical",
          "MasVnrArea",
          "BsmtQual",
          "BsmtCond",
          "BsmtFinType1",
          "BsmtExposure",
          "BsmtFinType2",
          "GarageCond",
          "GarageQual",
          "GarageFinish",
          "GarageYrBlt",
          "GarageType",
          "LotFrontage",
          "FireplaceQu",
          "MasVnrType",
          "Fence",
          "Alley",
          "MiscFeature",
          "PoolQC"
         ],
         "yaxis": "y"
        }
       ],
       "layout": {
        "barmode": "relative",
        "legend": {
         "tracegroupgap": 0
        },
        "template": {
         "data": {
          "bar": [
           {
            "error_x": {
             "color": "#2a3f5f"
            },
            "error_y": {
             "color": "#2a3f5f"
            },
            "marker": {
             "line": {
              "color": "white",
              "width": 0.5
             },
             "pattern": {
              "fillmode": "overlay",
              "size": 10,
              "solidity": 0.2
             }
            },
            "type": "bar"
           }
          ],
          "barpolar": [
           {
            "marker": {
             "line": {
              "color": "white",
              "width": 0.5
             },
             "pattern": {
              "fillmode": "overlay",
              "size": 10,
              "solidity": 0.2
             }
            },
            "type": "barpolar"
           }
          ],
          "carpet": [
           {
            "aaxis": {
             "endlinecolor": "#2a3f5f",
             "gridcolor": "#C8D4E3",
             "linecolor": "#C8D4E3",
             "minorgridcolor": "#C8D4E3",
             "startlinecolor": "#2a3f5f"
            },
            "baxis": {
             "endlinecolor": "#2a3f5f",
             "gridcolor": "#C8D4E3",
             "linecolor": "#C8D4E3",
             "minorgridcolor": "#C8D4E3",
             "startlinecolor": "#2a3f5f"
            },
            "type": "carpet"
           }
          ],
          "choropleth": [
           {
            "colorbar": {
             "outlinewidth": 0,
             "ticks": ""
            },
            "type": "choropleth"
           }
          ],
          "contour": [
           {
            "colorbar": {
             "outlinewidth": 0,
             "ticks": ""
            },
            "colorscale": [
             [
              0,
              "#0d0887"
             ],
             [
              0.1111111111111111,
              "#46039f"
             ],
             [
              0.2222222222222222,
              "#7201a8"
             ],
             [
              0.3333333333333333,
              "#9c179e"
             ],
             [
              0.4444444444444444,
              "#bd3786"
             ],
             [
              0.5555555555555556,
              "#d8576b"
             ],
             [
              0.6666666666666666,
              "#ed7953"
             ],
             [
              0.7777777777777778,
              "#fb9f3a"
             ],
             [
              0.8888888888888888,
              "#fdca26"
             ],
             [
              1,
              "#f0f921"
             ]
            ],
            "type": "contour"
           }
          ],
          "contourcarpet": [
           {
            "colorbar": {
             "outlinewidth": 0,
             "ticks": ""
            },
            "type": "contourcarpet"
           }
          ],
          "heatmap": [
           {
            "colorbar": {
             "outlinewidth": 0,
             "ticks": ""
            },
            "colorscale": [
             [
              0,
              "#0d0887"
             ],
             [
              0.1111111111111111,
              "#46039f"
             ],
             [
              0.2222222222222222,
              "#7201a8"
             ],
             [
              0.3333333333333333,
              "#9c179e"
             ],
             [
              0.4444444444444444,
              "#bd3786"
             ],
             [
              0.5555555555555556,
              "#d8576b"
             ],
             [
              0.6666666666666666,
              "#ed7953"
             ],
             [
              0.7777777777777778,
              "#fb9f3a"
             ],
             [
              0.8888888888888888,
              "#fdca26"
             ],
             [
              1,
              "#f0f921"
             ]
            ],
            "type": "heatmap"
           }
          ],
          "heatmapgl": [
           {
            "colorbar": {
             "outlinewidth": 0,
             "ticks": ""
            },
            "colorscale": [
             [
              0,
              "#0d0887"
             ],
             [
              0.1111111111111111,
              "#46039f"
             ],
             [
              0.2222222222222222,
              "#7201a8"
             ],
             [
              0.3333333333333333,
              "#9c179e"
             ],
             [
              0.4444444444444444,
              "#bd3786"
             ],
             [
              0.5555555555555556,
              "#d8576b"
             ],
             [
              0.6666666666666666,
              "#ed7953"
             ],
             [
              0.7777777777777778,
              "#fb9f3a"
             ],
             [
              0.8888888888888888,
              "#fdca26"
             ],
             [
              1,
              "#f0f921"
             ]
            ],
            "type": "heatmapgl"
           }
          ],
          "histogram": [
           {
            "marker": {
             "pattern": {
              "fillmode": "overlay",
              "size": 10,
              "solidity": 0.2
             }
            },
            "type": "histogram"
           }
          ],
          "histogram2d": [
           {
            "colorbar": {
             "outlinewidth": 0,
             "ticks": ""
            },
            "colorscale": [
             [
              0,
              "#0d0887"
             ],
             [
              0.1111111111111111,
              "#46039f"
             ],
             [
              0.2222222222222222,
              "#7201a8"
             ],
             [
              0.3333333333333333,
              "#9c179e"
             ],
             [
              0.4444444444444444,
              "#bd3786"
             ],
             [
              0.5555555555555556,
              "#d8576b"
             ],
             [
              0.6666666666666666,
              "#ed7953"
             ],
             [
              0.7777777777777778,
              "#fb9f3a"
             ],
             [
              0.8888888888888888,
              "#fdca26"
             ],
             [
              1,
              "#f0f921"
             ]
            ],
            "type": "histogram2d"
           }
          ],
          "histogram2dcontour": [
           {
            "colorbar": {
             "outlinewidth": 0,
             "ticks": ""
            },
            "colorscale": [
             [
              0,
              "#0d0887"
             ],
             [
              0.1111111111111111,
              "#46039f"
             ],
             [
              0.2222222222222222,
              "#7201a8"
             ],
             [
              0.3333333333333333,
              "#9c179e"
             ],
             [
              0.4444444444444444,
              "#bd3786"
             ],
             [
              0.5555555555555556,
              "#d8576b"
             ],
             [
              0.6666666666666666,
              "#ed7953"
             ],
             [
              0.7777777777777778,
              "#fb9f3a"
             ],
             [
              0.8888888888888888,
              "#fdca26"
             ],
             [
              1,
              "#f0f921"
             ]
            ],
            "type": "histogram2dcontour"
           }
          ],
          "mesh3d": [
           {
            "colorbar": {
             "outlinewidth": 0,
             "ticks": ""
            },
            "type": "mesh3d"
           }
          ],
          "parcoords": [
           {
            "line": {
             "colorbar": {
              "outlinewidth": 0,
              "ticks": ""
             }
            },
            "type": "parcoords"
           }
          ],
          "pie": [
           {
            "automargin": true,
            "type": "pie"
           }
          ],
          "scatter": [
           {
            "fillpattern": {
             "fillmode": "overlay",
             "size": 10,
             "solidity": 0.2
            },
            "type": "scatter"
           }
          ],
          "scatter3d": [
           {
            "line": {
             "colorbar": {
              "outlinewidth": 0,
              "ticks": ""
             }
            },
            "marker": {
             "colorbar": {
              "outlinewidth": 0,
              "ticks": ""
             }
            },
            "type": "scatter3d"
           }
          ],
          "scattercarpet": [
           {
            "marker": {
             "colorbar": {
              "outlinewidth": 0,
              "ticks": ""
             }
            },
            "type": "scattercarpet"
           }
          ],
          "scattergeo": [
           {
            "marker": {
             "colorbar": {
              "outlinewidth": 0,
              "ticks": ""
             }
            },
            "type": "scattergeo"
           }
          ],
          "scattergl": [
           {
            "marker": {
             "colorbar": {
              "outlinewidth": 0,
              "ticks": ""
             }
            },
            "type": "scattergl"
           }
          ],
          "scattermapbox": [
           {
            "marker": {
             "colorbar": {
              "outlinewidth": 0,
              "ticks": ""
             }
            },
            "type": "scattermapbox"
           }
          ],
          "scatterpolar": [
           {
            "marker": {
             "colorbar": {
              "outlinewidth": 0,
              "ticks": ""
             }
            },
            "type": "scatterpolar"
           }
          ],
          "scatterpolargl": [
           {
            "marker": {
             "colorbar": {
              "outlinewidth": 0,
              "ticks": ""
             }
            },
            "type": "scatterpolargl"
           }
          ],
          "scatterternary": [
           {
            "marker": {
             "colorbar": {
              "outlinewidth": 0,
              "ticks": ""
             }
            },
            "type": "scatterternary"
           }
          ],
          "surface": [
           {
            "colorbar": {
             "outlinewidth": 0,
             "ticks": ""
            },
            "colorscale": [
             [
              0,
              "#0d0887"
             ],
             [
              0.1111111111111111,
              "#46039f"
             ],
             [
              0.2222222222222222,
              "#7201a8"
             ],
             [
              0.3333333333333333,
              "#9c179e"
             ],
             [
              0.4444444444444444,
              "#bd3786"
             ],
             [
              0.5555555555555556,
              "#d8576b"
             ],
             [
              0.6666666666666666,
              "#ed7953"
             ],
             [
              0.7777777777777778,
              "#fb9f3a"
             ],
             [
              0.8888888888888888,
              "#fdca26"
             ],
             [
              1,
              "#f0f921"
             ]
            ],
            "type": "surface"
           }
          ],
          "table": [
           {
            "cells": {
             "fill": {
              "color": "#EBF0F8"
             },
             "line": {
              "color": "white"
             }
            },
            "header": {
             "fill": {
              "color": "#C8D4E3"
             },
             "line": {
              "color": "white"
             }
            },
            "type": "table"
           }
          ]
         },
         "layout": {
          "annotationdefaults": {
           "arrowcolor": "#2a3f5f",
           "arrowhead": 0,
           "arrowwidth": 1
          },
          "autotypenumbers": "strict",
          "coloraxis": {
           "colorbar": {
            "outlinewidth": 0,
            "ticks": ""
           }
          },
          "colorscale": {
           "diverging": [
            [
             0,
             "#8e0152"
            ],
            [
             0.1,
             "#c51b7d"
            ],
            [
             0.2,
             "#de77ae"
            ],
            [
             0.3,
             "#f1b6da"
            ],
            [
             0.4,
             "#fde0ef"
            ],
            [
             0.5,
             "#f7f7f7"
            ],
            [
             0.6,
             "#e6f5d0"
            ],
            [
             0.7,
             "#b8e186"
            ],
            [
             0.8,
             "#7fbc41"
            ],
            [
             0.9,
             "#4d9221"
            ],
            [
             1,
             "#276419"
            ]
           ],
           "sequential": [
            [
             0,
             "#0d0887"
            ],
            [
             0.1111111111111111,
             "#46039f"
            ],
            [
             0.2222222222222222,
             "#7201a8"
            ],
            [
             0.3333333333333333,
             "#9c179e"
            ],
            [
             0.4444444444444444,
             "#bd3786"
            ],
            [
             0.5555555555555556,
             "#d8576b"
            ],
            [
             0.6666666666666666,
             "#ed7953"
            ],
            [
             0.7777777777777778,
             "#fb9f3a"
            ],
            [
             0.8888888888888888,
             "#fdca26"
            ],
            [
             1,
             "#f0f921"
            ]
           ],
           "sequentialminus": [
            [
             0,
             "#0d0887"
            ],
            [
             0.1111111111111111,
             "#46039f"
            ],
            [
             0.2222222222222222,
             "#7201a8"
            ],
            [
             0.3333333333333333,
             "#9c179e"
            ],
            [
             0.4444444444444444,
             "#bd3786"
            ],
            [
             0.5555555555555556,
             "#d8576b"
            ],
            [
             0.6666666666666666,
             "#ed7953"
            ],
            [
             0.7777777777777778,
             "#fb9f3a"
            ],
            [
             0.8888888888888888,
             "#fdca26"
            ],
            [
             1,
             "#f0f921"
            ]
           ]
          },
          "colorway": [
           "#636efa",
           "#EF553B",
           "#00cc96",
           "#ab63fa",
           "#FFA15A",
           "#19d3f3",
           "#FF6692",
           "#B6E880",
           "#FF97FF",
           "#FECB52"
          ],
          "font": {
           "color": "#2a3f5f"
          },
          "geo": {
           "bgcolor": "white",
           "lakecolor": "white",
           "landcolor": "white",
           "showlakes": true,
           "showland": true,
           "subunitcolor": "#C8D4E3"
          },
          "hoverlabel": {
           "align": "left"
          },
          "hovermode": "closest",
          "mapbox": {
           "style": "light"
          },
          "paper_bgcolor": "white",
          "plot_bgcolor": "white",
          "polar": {
           "angularaxis": {
            "gridcolor": "#EBF0F8",
            "linecolor": "#EBF0F8",
            "ticks": ""
           },
           "bgcolor": "white",
           "radialaxis": {
            "gridcolor": "#EBF0F8",
            "linecolor": "#EBF0F8",
            "ticks": ""
           }
          },
          "scene": {
           "xaxis": {
            "backgroundcolor": "white",
            "gridcolor": "#DFE8F3",
            "gridwidth": 2,
            "linecolor": "#EBF0F8",
            "showbackground": true,
            "ticks": "",
            "zerolinecolor": "#EBF0F8"
           },
           "yaxis": {
            "backgroundcolor": "white",
            "gridcolor": "#DFE8F3",
            "gridwidth": 2,
            "linecolor": "#EBF0F8",
            "showbackground": true,
            "ticks": "",
            "zerolinecolor": "#EBF0F8"
           },
           "zaxis": {
            "backgroundcolor": "white",
            "gridcolor": "#DFE8F3",
            "gridwidth": 2,
            "linecolor": "#EBF0F8",
            "showbackground": true,
            "ticks": "",
            "zerolinecolor": "#EBF0F8"
           }
          },
          "shapedefaults": {
           "line": {
            "color": "#2a3f5f"
           }
          },
          "ternary": {
           "aaxis": {
            "gridcolor": "#DFE8F3",
            "linecolor": "#A2B1C6",
            "ticks": ""
           },
           "baxis": {
            "gridcolor": "#DFE8F3",
            "linecolor": "#A2B1C6",
            "ticks": ""
           },
           "bgcolor": "white",
           "caxis": {
            "gridcolor": "#DFE8F3",
            "linecolor": "#A2B1C6",
            "ticks": ""
           }
          },
          "title": {
           "x": 0.05
          },
          "xaxis": {
           "automargin": true,
           "gridcolor": "#EBF0F8",
           "linecolor": "#EBF0F8",
           "ticks": "",
           "title": {
            "standoff": 15
           },
           "zerolinecolor": "#EBF0F8",
           "zerolinewidth": 2
          },
          "yaxis": {
           "automargin": true,
           "gridcolor": "#EBF0F8",
           "linecolor": "#EBF0F8",
           "ticks": "",
           "title": {
            "standoff": 15
           },
           "zerolinecolor": "#EBF0F8",
           "zerolinewidth": 2
          }
         }
        },
        "title": {
         "text": "Percentage of Missing Values Per Variable"
        },
        "xaxis": {
         "anchor": "y",
         "domain": [
          0,
          1
         ],
         "title": {
          "text": "Percentage of Missing Values (%)"
         }
        },
        "yaxis": {
         "anchor": "x",
         "domain": [
          0,
          1
         ],
         "title": {
          "text": "Variables"
         }
        }
       }
      }
     },
     "metadata": {},
     "output_type": "display_data"
    }
   ],
   "source": [
    "# Calculate percentage of missing values\n",
    "missing_percentage = (train.isnull().sum() / len(train)) * 100\n",
    "missing_percentage = missing_percentage[missing_percentage > 0]\n",
    "\n",
    "# Convert to DataFrame for visualization\n",
    "missing_df = missing_percentage.reset_index()\n",
    "missing_df.columns = ['Variable', 'Missing Percentage']\n",
    "\n",
    "# Plot the missing values as a vertical bar chart\n",
    "fig = px.bar(\n",
    "    missing_df.sort_values(by='Missing Percentage', ascending=True),\n",
    "    x='Missing Percentage',\n",
    "    y='Variable',\n",
    "    orientation='h',\n",
    "    title='Percentage of Missing Values Per Variable',\n",
    "    labels={'Missing Percentage': 'Missing Percentage (%)', 'Variable': 'Variable'},\n",
    "    template='plotly_white'\n",
    ")\n",
    "\n",
    "fig.update_layout(xaxis_title=\"Percentage of Missing Values (%)\", yaxis_title=\"Variables\")\n",
    "fig.show()"
   ]
  },
  {
   "cell_type": "markdown",
   "metadata": {},
   "source": [
    "#### **Interpretation of Missing Values**\n",
    "\n",
    "The plot shows the percentage of missing values for variables in the dataset. Key insights include:\n",
    "\n",
    "1. **High Missingness (Above 40%)**:\n",
    "   - `PoolQC`, `MiscFeature`, `Alley`, `Fence`, `MasVnrType` and `FirePlaceQu`have a very high percentage of missing values (over 80%). These variables may:\n",
    "     - Be dropped if deemed uninformative or irrelevant.\n",
    "     - Have missing values imputed with a new category (e.g., \"No Pool\" for `PoolQC`).\n",
    "\n",
    "2. **Moderate Missingness (10%-20%)**:\n",
    "   - Variables like `LotFrontage` have moderate missing values. Strategies like imputation (e.g., median for `LotFrontage`) may be required.\n",
    "\n",
    "3. **Low Missingness (<6%)**:\n",
    "   - Variables such as `GarageType`, `GarageCond`, and basement-related variables (`BsmtQual`, `BsmtExposure`, etc.) have fewer missing values and can be imputed more easily.\n",
    "\n",
    "#### **Next Steps**\n",
    "- For variables with high missing percentages, we will evaluate their importance using domain knowledge and feature correlation.\n",
    "\n",
    "- For moderate to low missingness, we will apply appropriate imputation strategies (e.g., median for numerical, \"None\" for categorical).\n",
    "\n",
    "- We will consider removing variables with consistently high missing values if they don't provide significant predictive power."
   ]
  },
  {
   "cell_type": "markdown",
   "metadata": {},
   "source": [
    "### **Distribution of missing data**\n",
    "\n",
    "The missing data can be:\n",
    "- **partial** or **\"item nonresponse\"**: for a given individual, only a few values are missing, so some (but not all) variables are unobserved.\n",
    "\n",
    "- **total** or **\"unit nonresponse\"**: all variables of a given individual are unobserved.\n",
    "\n",
    "**Little and Rubin (2019)** Define Three Kinds of Missing Value Distributions:\n",
    "\n",
    "1. **Univariate Missing Values**:\n",
    "   If the same individuals have missing values for the same $d < p$ variables.\n",
    "\n",
    "2. **Monotonic Missing Values**:\n",
    "   If the variables can be ordered such that, when the observation $y_{ij}$ is missing for the variable $Y_j$, all the following variables for this same individual, $y_{ik}, k > j$, are also missing.\n",
    "\n",
    "3. **Non-Monotonic or Arbitrary Missing Values**:\n",
    "   If the missing values are without structure, i.e., they are distributed without any particular structure in the dataset."
   ]
  },
  {
   "cell_type": "markdown",
   "metadata": {},
   "source": [
    "#### **`msno.matrix()`**\n",
    "\n",
    "The `msno.matrix()` plot provides a visual overview of the missing data in the dataset. It allows us to analyze missingness patterns across all variables and observations. This tool helps us understand the structure and distribution of missing data, which is essential for designing effective imputation strategies."
   ]
  },
  {
   "cell_type": "code",
   "execution_count": 53,
   "metadata": {},
   "outputs": [
    {
     "data": {
      "text/plain": [
       "<Axes: >"
      ]
     },
     "execution_count": 53,
     "metadata": {},
     "output_type": "execute_result"
    },
    {
     "data": {
      "image/png": "[encoded data removed]",
      "text/plain": [
       "<Figure size 2500x1000 with 2 Axes>"
      ]
     },
     "metadata": {},
     "output_type": "display_data"
    }
   ],
   "source": [
    "msno.matrix(train)"
   ]
  },
  {
   "cell_type": "markdown",
   "metadata": {},
   "source": [
    "#### **How to read the Plot**\n",
    "\n",
    "1. **Columns (Vertical Strips)**:\n",
    "   - Each column represents a variable in the dataset.\n",
    "   - Black bars indicate observed (non-missing) values, while white spaces indicate missing values.\n",
    "\n",
    "2. **Rows (Horizontal Lines)**:\n",
    "   - Each row corresponds to an individual observation.\n",
    "   - Gaps in rows show where missing data occurs for specific variables.\n",
    "\n",
    "3. **Key Observations**:\n",
    "   - Some variables have significant missingness (e.g., `PoolQC`, `MiscFeature`, `Alley`, `Fence`) with large white spaces in their respective columns.\n",
    "   - Other variables, such as `LotFrontage` and `GarageType`, show moderate missingness with more sparsely distributed white spaces.\n",
    "   - Many variables have no missing values at all (fully black columns).\n",
    "\n",
    "4. **Density Plot on the Side**:\n",
    "   - The right-hand plot shows the count of non-missing values for each observation.\n",
    "   - It helps identify rows with missing data across multiple variables."
   ]
  },
  {
   "cell_type": "markdown",
   "metadata": {},
   "source": [
    "### **Handle Columns with High Missing Values**"
   ]
  },
  {
   "cell_type": "markdown",
   "metadata": {},
   "source": [
    "#### **`PoolQC`**: Pool Quality"
   ]
  },
  {
   "cell_type": "code",
   "execution_count": 54,
   "metadata": {},
   "outputs": [
    {
     "data": {
      "text/plain": [
       "PoolQC\n",
       "NaN    1453\n",
       "Gd        3\n",
       "Ex        2\n",
       "Fa        2\n",
       "Name: count, dtype: int64"
      ]
     },
     "execution_count": 54,
     "metadata": {},
     "output_type": "execute_result"
    }
   ],
   "source": [
    "# Calculate the distribution of the 'PoolQC' feature\n",
    "poolqc_distribution = train['PoolQC'].value_counts(dropna=False)\n",
    "poolqc_distribution"
   ]
  },
  {
   "cell_type": "code",
   "execution_count": 55,
   "metadata": {},
   "outputs": [
    {
     "name": "stdout",
     "output_type": "stream",
     "text": [
      "   PoolArea PoolQC  Count\n",
      "0         0    NaN   1453\n",
      "1       480     Gd      1\n",
      "2       512     Ex      1\n",
      "3       519     Fa      1\n",
      "4       555     Ex      1\n",
      "5       576     Gd      1\n",
      "6       648     Fa      1\n",
      "7       738     Gd      1\n"
     ]
    }
   ],
   "source": [
    "# Calculate the distribution of 'PoolArea' with corresponding 'PoolQC'\n",
    "poolarea_distribution = train.groupby('PoolArea')['PoolQC'].value_counts(dropna=False).reset_index(name='Count')\n",
    "\n",
    "# Display the table\n",
    "print(poolarea_distribution)"
   ]
  },
  {
   "cell_type": "markdown",
   "metadata": {},
   "source": [
    "\n",
    "The missing values (`NaN`) in the `PoolQC` variable occur when the house does not have a pool. \n",
    "\n",
    "From the analysis, it appears that there is no clear correlation between `PoolQC` (pool quality) and `PoolArea` (size of the pool). This indicates that the presence or quality of a pool is not systematically tied to the pool's size. \n",
    "\n",
    "**Decision**: \n",
    "We will retain the `PoolQC` variable for further analysis and fill its missing values with `\"No\"` to indicate the absence of a pool."
   ]
  },
  {
   "cell_type": "code",
   "execution_count": 56,
   "metadata": {},
   "outputs": [],
   "source": [
    "# Replace NaN values in 'PoolQC' with \"No\"\n",
    "train_cleaned['PoolQC'] = train_cleaned['PoolQC'].fillna(\"No\")"
   ]
  },
  {
   "cell_type": "markdown",
   "metadata": {},
   "source": [
    "#### **`MiscFeature`**: Miscellaneous Feature\n",
    "\n",
    "MiscFeature: Miscellaneous feature not covered in other categories\n",
    "- `Elev`: Elevator\n",
    "- `Gar2`:\t2nd Garage (if not described in garage section)\n",
    "- `Othr`:\tOther\n",
    "- `Shed`: Shed (over 100 SF)\n",
    "- `TenC`:\tTennis Court\n",
    "- `NA`: None"
   ]
  },
  {
   "cell_type": "code",
   "execution_count": 57,
   "metadata": {},
   "outputs": [
    {
     "data": {
      "text/plain": [
       "MiscFeature\n",
       "NaN     1406\n",
       "Shed      49\n",
       "Gar2       2\n",
       "Othr       2\n",
       "TenC       1\n",
       "Name: count, dtype: int64"
      ]
     },
     "execution_count": 57,
     "metadata": {},
     "output_type": "execute_result"
    }
   ],
   "source": [
    "# Calculate the distribution\n",
    "miscfeature_distribution = train['MiscFeature'].value_counts(dropna=False)\n",
    "miscfeature_distribution"
   ]
  },
  {
   "cell_type": "code",
   "execution_count": 58,
   "metadata": {},
   "outputs": [
    {
     "name": "stdout",
     "output_type": "stream",
     "text": [
      "    MiscVal MiscFeature  Count\n",
      "0         0         NaN   1406\n",
      "1         0        Othr      1\n",
      "2         0        Shed      1\n",
      "3        54        Shed      1\n",
      "4       350        Shed      1\n",
      "5       400        Shed     11\n",
      "6       450        Shed      4\n",
      "7       480        Shed      2\n",
      "8       500        Shed      8\n",
      "9       560        Shed      1\n",
      "10      600        Shed      4\n",
      "11      620        Shed      1\n",
      "12      700        Shed      5\n",
      "13      800        Shed      1\n",
      "14     1150        Shed      1\n",
      "15     1200        Shed      2\n",
      "16     1300        Shed      1\n",
      "17     1400        Shed      1\n",
      "18     2000        Shed      3\n",
      "19     2000        TenC      1\n",
      "20     2500        Shed      1\n",
      "21     3500        Othr      1\n",
      "22     8300        Gar2      1\n",
      "23    15500        Gar2      1\n"
     ]
    }
   ],
   "source": [
    "# Calculate the distribution of 'MiscVal' with corresponding 'MiscFeature'\n",
    "miscval_distribution = train.groupby('MiscVal')['MiscFeature'].value_counts(dropna=False).reset_index(name='Count')\n",
    "\n",
    "# Display the table\n",
    "print(miscval_distribution)"
   ]
  },
  {
   "cell_type": "markdown",
   "metadata": {},
   "source": [
    "We assume a correlation, or even collinearity, between the type of miscellaneous feature (`MiscFeature`) and its corresponding value (`MiscVal`). \n",
    "\n",
    "**Decision**: To avoid redundancy, we will retain only the `MiscVal` variable, which represents the monetary value of the miscellaneous feature, and drop `MiscFeature`."
   ]
  },
  {
   "cell_type": "code",
   "execution_count": 59,
   "metadata": {},
   "outputs": [],
   "source": [
    "train_cleaned.drop(columns='MiscFeature', inplace=True)"
   ]
  },
  {
   "cell_type": "code",
   "execution_count": 60,
   "metadata": {},
   "outputs": [
    {
     "name": "stdout",
     "output_type": "stream",
     "text": [
      "(1460, 80)\n",
      "(1460, 79)\n"
     ]
    }
   ],
   "source": [
    "print(train.shape)\n",
    "print(train_cleaned.shape)"
   ]
  },
  {
   "cell_type": "markdown",
   "metadata": {},
   "source": [
    "#### **`Alley`: Type of Alley Access**\n",
    "\n",
    "Values:\n",
    "- `Grvl`: Gravel\n",
    "- `Pave`: Paved\n",
    "- `Na` : No alley access"
   ]
  },
  {
   "cell_type": "code",
   "execution_count": 61,
   "metadata": {},
   "outputs": [
    {
     "data": {
      "text/plain": [
       "Alley\n",
       "NaN     1369\n",
       "Grvl      50\n",
       "Pave      41\n",
       "Name: count, dtype: int64"
      ]
     },
     "execution_count": 61,
     "metadata": {},
     "output_type": "execute_result"
    }
   ],
   "source": [
    "alley_distribution = train['Alley'].value_counts(dropna=False)\n",
    "alley_distribution"
   ]
  },
  {
   "cell_type": "markdown",
   "metadata": {},
   "source": [
    "Is there a relationship between the type of alley access (`Alley`) and the road access type (`Street`)?"
   ]
  },
  {
   "cell_type": "code",
   "execution_count": 62,
   "metadata": {},
   "outputs": [
    {
     "name": "stdout",
     "output_type": "stream",
     "text": [
      "Alley       Grvl      Pave\n",
      "Street                    \n",
      "Pave    0.549451  0.450549\n"
     ]
    }
   ],
   "source": [
    "# Create a contingency table to examine the relationship between 'Street' and 'Alley'\n",
    "street_alley_relationship = pd.crosstab(train['Street'], train['Alley'], normalize='index')\n",
    "\n",
    "# Display the relationship\n",
    "print(street_alley_relationship)"
   ]
  },
  {
   "cell_type": "markdown",
   "metadata": {},
   "source": [
    "#### Analysis of `Street` and `Alley`\n",
    "\n",
    "We observe that there is only one type of street in the dataset: `Pave`. Since the `Street` variable is constant, it provides no useful information for prediction. Therefore, we will remove it from the dataset.\n",
    "\n",
    "Regarding the `Alley` variable, we will retain it and replace the missing values with `\"No\"` to indicate the absence of alley access."
   ]
  },
  {
   "cell_type": "code",
   "execution_count": 63,
   "metadata": {},
   "outputs": [],
   "source": [
    "train_cleaned.drop(columns='Street', inplace=True)"
   ]
  },
  {
   "cell_type": "code",
   "execution_count": 64,
   "metadata": {},
   "outputs": [],
   "source": [
    "# Replace NaN values in 'Alley' with \"No\"\n",
    "train_cleaned['Alley'] = train_cleaned['Alley'].fillna(\"No\")"
   ]
  },
  {
   "cell_type": "code",
   "execution_count": 65,
   "metadata": {},
   "outputs": [
    {
     "name": "stdout",
     "output_type": "stream",
     "text": [
      "(1460, 80)\n",
      "(1460, 78)\n"
     ]
    }
   ],
   "source": [
    "print(train.shape)\n",
    "print(train_cleaned.shape)"
   ]
  },
  {
   "cell_type": "markdown",
   "metadata": {},
   "source": [
    "#### **`Fence`: Fence Quality**\n",
    "\n",
    "- `GdPrv`: Good Privacy\n",
    "\n",
    "- `MnPrv`: Minimum Privacy\n",
    "\n",
    "- `GdWo`: Good Wood\n",
    "\n",
    "- `MnWw`: Minimum Wood/Wire\n",
    "\n",
    "- `NA`: No Fence"
   ]
  },
  {
   "cell_type": "code",
   "execution_count": 66,
   "metadata": {},
   "outputs": [
    {
     "data": {
      "text/plain": [
       "Fence\n",
       "NaN      1179\n",
       "MnPrv     157\n",
       "GdPrv      59\n",
       "GdWo       54\n",
       "MnWw       11\n",
       "Name: count, dtype: int64"
      ]
     },
     "execution_count": 66,
     "metadata": {},
     "output_type": "execute_result"
    }
   ],
   "source": [
    "fence_distribution = train['Fence'].value_counts(dropna=False)\n",
    "fence_distribution"
   ]
  },
  {
   "cell_type": "markdown",
   "metadata": {},
   "source": [
    "We will replace the missing values in the `Fence` variable with `\"No\"` to indicate the absence of a fence."
   ]
  },
  {
   "cell_type": "code",
   "execution_count": 67,
   "metadata": {},
   "outputs": [],
   "source": [
    "# Replace NaN values in 'Fence' with \"No\"\n",
    "train_cleaned['Fence'] = train_cleaned['Fence'].fillna(\"No\")"
   ]
  },
  {
   "cell_type": "markdown",
   "metadata": {},
   "source": [
    "#### **`MasVnrType`**: Masonry Veneer Type\n",
    "\n",
    "- `BrkCmn`: Brick Common\n",
    "\n",
    "- `BrkFace`: Brick Face\n",
    "\n",
    "- `CBlock`: Cinder Block\n",
    "\n",
    "- `None`: None\n",
    "\n",
    "- `Stone`: Stone"
   ]
  },
  {
   "cell_type": "code",
   "execution_count": 68,
   "metadata": {},
   "outputs": [
    {
     "data": {
      "text/plain": [
       "MasVnrType\n",
       "NaN        872\n",
       "BrkFace    445\n",
       "Stone      128\n",
       "BrkCmn      15\n",
       "Name: count, dtype: int64"
      ]
     },
     "execution_count": 68,
     "metadata": {},
     "output_type": "execute_result"
    }
   ],
   "source": [
    "masvnrtype_distribution = train['MasVnrType'].value_counts(dropna=False)\n",
    "masvnrtype_distribution"
   ]
  },
  {
   "cell_type": "markdown",
   "metadata": {},
   "source": [
    "We will replace the missing values in the `MasVnrType` variable with `\"No\"` to indicate the absence of masonry veneer."
   ]
  },
  {
   "cell_type": "code",
   "execution_count": 69,
   "metadata": {},
   "outputs": [],
   "source": [
    "train_cleaned['MasVnrType'] = train_cleaned['MasVnrType'].fillna(\"No\")"
   ]
  },
  {
   "cell_type": "code",
   "execution_count": 70,
   "metadata": {},
   "outputs": [
    {
     "name": "stdout",
     "output_type": "stream",
     "text": [
      "     MasVnrType  MasVnrArea\n",
      "Id                         \n",
      "235          No         NaN\n",
      "530          No         NaN\n",
      "651          No         NaN\n",
      "937          No         NaN\n",
      "974          No         NaN\n",
      "978          No         NaN\n",
      "1244         No         NaN\n",
      "1279         No         NaN\n"
     ]
    }
   ],
   "source": [
    "# Filter rows where 'MasVnrArea' is missing\n",
    "missing_masvnrarea = train_cleaned[train_cleaned['MasVnrArea'].isnull()]\n",
    "\n",
    "# Display the 'MasVnrType' and 'MasVnrArea' columns for these rows\n",
    "print(missing_masvnrarea[['MasVnrType', 'MasVnrArea']])"
   ]
  },
  {
   "cell_type": "markdown",
   "metadata": {},
   "source": [
    "For the Nan in MasVnrArea is when there is no masonry, so we will replace it with 0."
   ]
  },
  {
   "cell_type": "code",
   "execution_count": 71,
   "metadata": {},
   "outputs": [],
   "source": [
    "# Replace missing values in 'MasVnrArea' with 0\n",
    "train_cleaned['MasVnrArea'] = train_cleaned['MasVnrArea'].fillna(0)"
   ]
  },
  {
   "cell_type": "markdown",
   "metadata": {},
   "source": [
    "#### Is there a relationship between `MasVnrType` and `MasVnrArea`?"
   ]
  },
  {
   "cell_type": "code",
   "execution_count": 72,
   "metadata": {},
   "outputs": [
    {
     "data": {
      "application/vnd.plotly.v1+json": {
       "config": {
        "plotlyServerURL": "https://plot.ly"
       },
       "data": [
        {
         "alignmentgroup": "True",
         "hovertemplate": "Masonry Veneer Type=%{x}<br>Masonry Veneer Area (sq ft)=%{y}<extra></extra>",
         "legendgroup": "",
         "marker": {
          "color": "#636efa"
         },
         "name": "",
         "notched": false,
         "offsetgroup": "",
         "orientation": "v",
         "showlegend": false,
         "type": "box",
         "x": [
          "BrkFace",
          "No",
          "BrkFace",
          "No",
          "BrkFace",
          "No",
          "Stone",
          "Stone",
          "No",
          "No",
          "No",
          "Stone",
          "No",
          "Stone",
          "BrkFace",
          "No",
          "BrkFace",
          "No",
          "No",
          "No",
          "BrkFace",
          "No",
          "BrkFace",
          "No",
          "No",
          "Stone",
          "No",
          "Stone",
          "No",
          "No",
          "No",
          "No",
          "No",
          "No",
          "BrkFace",
          "Stone",
          "No",
          "BrkFace",
          "No",
          "No",
          "BrkFace",
          "No",
          "No",
          "No",
          "No",
          "BrkFace",
          "No",
          "No",
          "No",
          "No",
          "No",
          "No",
          "No",
          "No",
          "No",
          "BrkFace",
          "BrkFace",
          "No",
          "BrkFace",
          "No",
          "No",
          "No",
          "Stone",
          "No",
          "BrkFace",
          "BrkFace",
          "BrkFace",
          "BrkFace",
          "No",
          "No",
          "BrkFace",
          "No",
          "BrkFace",
          "BrkFace",
          "No",
          "No",
          "No",
          "No",
          "No",
          "No",
          "BrkFace",
          "BrkFace",
          "Stone",
          "BrkCmn",
          "BrkFace",
          "BrkFace",
          "No",
          "Stone",
          "No",
          "No",
          "No",
          "BrkCmn",
          "No",
          "No",
          "No",
          "BrkFace",
          "BrkFace",
          "BrkFace",
          "No",
          "No",
          "BrkFace",
          "BrkFace",
          "No",
          "No",
          "BrkFace",
          "BrkFace",
          "No",
          "No",
          "No",
          "BrkFace",
          "No",
          "No",
          "Stone",
          "BrkFace",
          "No",
          "BrkFace",
          "BrkFace",
          "No",
          "No",
          "No",
          "No",
          "No",
          "BrkFace",
          "No",
          "No",
          "No",
          "No",
          "No",
          "BrkFace",
          "BrkFace",
          "BrkFace",
          "BrkFace",
          "No",
          "BrkFace",
          "No",
          "BrkFace",
          "BrkFace",
          "BrkFace",
          "BrkFace",
          "No",
          "No",
          "No",
          "No",
          "BrkFace",
          "BrkFace",
          "Stone",
          "No",
          "BrkFace",
          "BrkFace",
          "No",
          "No",
          "Stone",
          "BrkFace",
          "No",
          "No",
          "No",
          "No",
          "BrkFace",
          "No",
          "BrkFace",
          "No",
          "BrkFace",
          "BrkFace",
          "No",
          "No",
          "No",
          "No",
          "Stone",
          "No",
          "BrkFace",
          "No",
          "Stone",
          "No",
          "BrkCmn",
          "Stone",
          "No",
          "BrkFace",
          "No",
          "Stone",
          "No",
          "BrkFace",
          "No",
          "BrkFace",
          "No",
          "No",
          "No",
          "No",
          "No",
          "Stone",
          "No",
          "No",
          "BrkFace",
          "No",
          "Stone",
          "No",
          "No",
          "Stone",
          "No",
          "No",
          "BrkFace",
          "No",
          "No",
          "No",
          "BrkFace",
          "No",
          "No",
          "No",
          "No",
          "BrkFace",
          "Stone",
          "No",
          "No",
          "No",
          "No",
          "BrkFace",
          "BrkFace",
          "BrkFace",
          "No",
          "BrkFace",
          "BrkFace",
          "No",
          "No",
          "No",
          "No",
          "BrkFace",
          "BrkFace",
          "BrkFace",
          "BrkFace",
          "No",
          "BrkFace",
          "BrkFace",
          "BrkFace",
          "BrkFace",
          "No",
          "No",
          "BrkFace",
          "BrkFace",
          "No",
          "BrkFace",
          "No",
          "Stone",
          "No",
          "No",
          "No",
          "No",
          "BrkFace",
          "No",
          "No",
          "BrkFace",
          "BrkCmn",
          "No",
          "Stone",
          "No",
          "BrkFace",
          "No",
          "BrkFace",
          "No",
          "Stone",
          "BrkFace",
          "No",
          "BrkFace",
          "Stone",
          "BrkFace",
          "No",
          "No",
          "BrkFace",
          "No",
          "No",
          "No",
          "BrkFace",
          "No",
          "No",
          "BrkFace",
          "BrkCmn",
          "No",
          "No",
          "No",
          "No",
          "BrkFace",
          "BrkFace",
          "BrkFace",
          "Stone",
          "Stone",
          "Stone",
          "No",
          "No",
          "No",
          "No",
          "BrkFace",
          "No",
          "No",
          "No",
          "No",
          "BrkFace",
          "Stone",
          "No",
          "No",
          "BrkFace",
          "BrkFace",
          "No",
          "BrkFace",
          "No",
          "BrkFace",
          "No",
          "No",
          "Stone",
          "BrkFace",
          "No",
          "No",
          "No",
          "BrkFace",
          "No",
          "No",
          "No",
          "No",
          "No",
          "BrkFace",
          "No",
          "BrkFace",
          "BrkFace",
          "Stone",
          "BrkFace",
          "BrkFace",
          "No",
          "BrkFace",
          "No",
          "No",
          "BrkFace",
          "No",
          "No",
          "BrkFace",
          "No",
          "BrkFace",
          "Stone",
          "No",
          "No",
          "Stone",
          "BrkFace",
          "No",
          "BrkFace",
          "No",
          "No",
          "BrkFace",
          "BrkFace",
          "No",
          "No",
          "No",
          "BrkFace",
          "Stone",
          "BrkFace",
          "BrkFace",
          "No",
          "No",
          "No",
          "No",
          "No",
          "BrkFace",
          "No",
          "BrkFace",
          "BrkFace",
          "No",
          "No",
          "BrkFace",
          "BrkFace",
          "BrkFace",
          "No",
          "BrkFace",
          "BrkFace",
          "BrkFace",
          "No",
          "No",
          "No",
          "No",
          "No",
          "No",
          "No",
          "No",
          "No",
          "Stone",
          "BrkFace",
          "No",
          "No",
          "No",
          "No",
          "No",
          "BrkFace",
          "No",
          "BrkFace",
          "BrkFace",
          "Stone",
          "No",
          "No",
          "No",
          "No",
          "No",
          "No",
          "No",
          "BrkFace",
          "No",
          "Stone",
          "No",
          "No",
          "No",
          "BrkFace",
          "No",
          "No",
          "No",
          "No",
          "BrkFace",
          "Stone",
          "No",
          "No",
          "Stone",
          "No",
          "No",
          "No",
          "BrkFace",
          "No",
          "No",
          "No",
          "BrkFace",
          "Stone",
          "No",
          "BrkFace",
          "BrkFace",
          "No",
          "BrkFace",
          "No",
          "BrkFace",
          "No",
          "BrkFace",
          "No",
          "BrkFace",
          "No",
          "No",
          "No",
          "No",
          "No",
          "No",
          "No",
          "Stone",
          "BrkFace",
          "No",
          "BrkFace",
          "No",
          "No",
          "No",
          "No",
          "No",
          "No",
          "No",
          "No",
          "BrkFace",
          "No",
          "No",
          "BrkFace",
          "No",
          "No",
          "No",
          "BrkCmn",
          "Stone",
          "No",
          "No",
          "No",
          "BrkFace",
          "BrkFace",
          "No",
          "Stone",
          "Stone",
          "BrkFace",
          "No",
          "No",
          "BrkFace",
          "BrkFace",
          "No",
          "No",
          "BrkFace",
          "BrkFace",
          "Stone",
          "BrkCmn",
          "BrkFace",
          "BrkFace",
          "No",
          "BrkFace",
          "No",
          "No",
          "BrkFace",
          "No",
          "No",
          "No",
          "No",
          "No",
          "No",
          "No",
          "No",
          "No",
          "No",
          "No",
          "BrkFace",
          "No",
          "BrkFace",
          "No",
          "No",
          "No",
          "No",
          "BrkFace",
          "BrkFace",
          "No",
          "No",
          "BrkFace",
          "BrkCmn",
          "Stone",
          "No",
          "No",
          "No",
          "BrkFace",
          "BrkFace",
          "BrkFace",
          "No",
          "No",
          "No",
          "No",
          "No",
          "Stone",
          "BrkFace",
          "No",
          "No",
          "Stone",
          "No",
          "No",
          "BrkFace",
          "No",
          "No",
          "No",
          "No",
          "No",
          "No",
          "No",
          "BrkFace",
          "BrkFace",
          "BrkFace",
          "BrkFace",
          "No",
          "BrkFace",
          "No",
          "BrkFace",
          "No",
          "No",
          "No",
          "No",
          "No",
          "No",
          "Stone",
          "No",
          "BrkFace",
          "No",
          "No",
          "No",
          "No",
          "BrkFace",
          "BrkFace",
          "No",
          "No",
          "No",
          "No",
          "No",
          "BrkFace",
          "BrkFace",
          "No",
          "No",
          "BrkFace",
          "BrkFace",
          "No",
          "No",
          "BrkFace",
          "No",
          "No",
          "BrkFace",
          "No",
          "BrkFace",
          "BrkFace",
          "BrkFace",
          "BrkFace",
          "No",
          "No",
          "BrkFace",
          "No",
          "No",
          "No",
          "No",
          "No",
          "Stone",
          "No",
          "BrkFace",
          "No",
          "BrkFace",
          "No",
          "BrkFace",
          "BrkFace",
          "No",
          "BrkFace",
          "No",
          "No",
          "No",
          "BrkFace",
          "BrkFace",
          "No",
          "No",
          "No",
          "BrkCmn",
          "BrkFace",
          "BrkFace",
          "BrkFace",
          "No",
          "No",
          "BrkFace",
          "No",
          "No",
          "BrkFace",
          "Stone",
          "No",
          "No",
          "BrkFace",
          "BrkFace",
          "No",
          "BrkFace",
          "No",
          "BrkFace",
          "BrkFace",
          "BrkFace",
          "No",
          "Stone",
          "BrkFace",
          "No",
          "No",
          "No",
          "No",
          "No",
          "No",
          "No",
          "BrkFace",
          "No",
          "No",
          "BrkFace",
          "Stone",
          "No",
          "No",
          "Stone",
          "BrkFace",
          "No",
          "No",
          "No",
          "No",
          "No",
          "BrkFace",
          "BrkFace",
          "BrkFace",
          "No",
          "No",
          "No",
          "BrkFace",
          "BrkFace",
          "BrkFace",
          "No",
          "No",
          "BrkFace",
          "BrkCmn",
          "BrkFace",
          "No",
          "No",
          "No",
          "No",
          "No",
          "BrkFace",
          "No",
          "No",
          "No",
          "No",
          "Stone",
          "BrkFace",
          "No",
          "No",
          "No",
          "Stone",
          "BrkFace",
          "No",
          "No",
          "No",
          "BrkFace",
          "Stone",
          "BrkFace",
          "BrkFace",
          "BrkFace",
          "No",
          "No",
          "BrkFace",
          "No",
          "No",
          "No",
          "No",
          "BrkFace",
          "BrkFace",
          "BrkFace",
          "No",
          "BrkFace",
          "No",
          "Stone",
          "BrkFace",
          "No",
          "BrkCmn",
          "No",
          "No",
          "No",
          "BrkFace",
          "BrkFace",
          "BrkFace",
          "No",
          "No",
          "BrkFace",
          "No",
          "No",
          "BrkFace",
          "No",
          "No",
          "Stone",
          "No",
          "BrkFace",
          "Stone",
          "BrkFace",
          "No",
          "No",
          "BrkFace",
          "BrkFace",
          "No",
          "No",
          "No",
          "No",
          "No",
          "No",
          "No",
          "No",
          "No",
          "BrkFace",
          "No",
          "No",
          "BrkFace",
          "No",
          "No",
          "BrkFace",
          "No",
          "No",
          "No",
          "No",
          "BrkFace",
          "No",
          "BrkFace",
          "No",
          "BrkCmn",
          "BrkFace",
          "BrkFace",
          "No",
          "No",
          "No",
          "BrkFace",
          "No",
          "Stone",
          "BrkFace",
          "No",
          "No",
          "BrkFace",
          "No",
          "No",
          "No",
          "No",
          "BrkFace",
          "BrkFace",
          "BrkFace",
          "No",
          "BrkFace",
          "BrkFace",
          "BrkFace",
          "No",
          "No",
          "BrkFace",
          "No",
          "No",
          "No",
          "No",
          "No",
          "BrkFace",
          "BrkFace",
          "No",
          "No",
          "Stone",
          "No",
          "BrkFace",
          "BrkFace",
          "No",
          "Stone",
          "BrkFace",
          "No",
          "No",
          "No",
          "Stone",
          "No",
          "Stone",
          "No",
          "No",
          "BrkFace",
          "No",
          "BrkFace",
          "BrkFace",
          "No",
          "BrkFace",
          "No",
          "BrkFace",
          "No",
          "BrkFace",
          "BrkFace",
          "Stone",
          "No",
          "No",
          "No",
          "No",
          "No",
          "BrkFace",
          "No",
          "No",
          "No",
          "No",
          "BrkFace",
          "No",
          "BrkFace",
          "BrkFace",
          "BrkFace",
          "No",
          "No",
          "BrkFace",
          "No",
          "No",
          "No",
          "No",
          "BrkFace",
          "No",
          "No",
          "No",
          "BrkFace",
          "No",
          "No",
          "BrkFace",
          "BrkFace",
          "BrkFace",
          "No",
          "BrkFace",
          "No",
          "No",
          "No",
          "No",
          "BrkFace",
          "BrkFace",
          "No",
          "No",
          "No",
          "No",
          "No",
          "BrkFace",
          "Stone",
          "No",
          "No",
          "BrkFace",
          "No",
          "BrkFace",
          "No",
          "No",
          "No",
          "No",
          "No",
          "Stone",
          "No",
          "BrkFace",
          "No",
          "BrkFace",
          "No",
          "No",
          "BrkFace",
          "BrkFace",
          "BrkFace",
          "No",
          "No",
          "BrkFace",
          "No",
          "BrkFace",
          "No",
          "No",
          "No",
          "BrkFace",
          "No",
          "No",
          "Stone",
          "No",
          "No",
          "No",
          "No",
          "BrkFace",
          "BrkFace",
          "Stone",
          "Stone",
          "No",
          "No",
          "No",
          "BrkFace",
          "No",
          "No",
          "No",
          "Stone",
          "BrkFace",
          "No",
          "No",
          "No",
          "No",
          "BrkFace",
          "No",
          "No",
          "No",
          "BrkFace",
          "No",
          "BrkFace",
          "BrkFace",
          "No",
          "BrkFace",
          "No",
          "No",
          "Stone",
          "BrkFace",
          "No",
          "BrkFace",
          "No",
          "No",
          "No",
          "No",
          "No",
          "BrkFace",
          "No",
          "No",
          "BrkFace",
          "No",
          "BrkFace",
          "BrkFace",
          "BrkFace",
          "No",
          "No",
          "No",
          "No",
          "BrkFace",
          "BrkFace",
          "BrkFace",
          "No",
          "No",
          "No",
          "No",
          "No",
          "BrkFace",
          "No",
          "No",
          "BrkFace",
          "No",
          "No",
          "BrkFace",
          "No",
          "BrkFace",
          "No",
          "Stone",
          "No",
          "No",
          "No",
          "No",
          "No",
          "No",
          "No",
          "No",
          "Stone",
          "BrkFace",
          "BrkFace",
          "No",
          "No",
          "No",
          "No",
          "Stone",
          "BrkFace",
          "No",
          "BrkFace",
          "No",
          "BrkFace",
          "No",
          "Stone",
          "No",
          "No",
          "BrkFace",
          "No",
          "Stone",
          "No",
          "No",
          "BrkFace",
          "BrkFace",
          "BrkFace",
          "BrkFace",
          "No",
          "No",
          "Stone",
          "No",
          "No",
          "No",
          "No",
          "No",
          "BrkFace",
          "No",
          "BrkFace",
          "No",
          "BrkFace",
          "BrkFace",
          "No",
          "Stone",
          "No",
          "BrkFace",
          "No",
          "No",
          "BrkFace",
          "Stone",
          "No",
          "BrkFace",
          "No",
          "No",
          "No",
          "Stone",
          "No",
          "No",
          "Stone",
          "BrkFace",
          "No",
          "No",
          "BrkCmn",
          "BrkFace",
          "Stone",
          "BrkFace",
          "No",
          "No",
          "Stone",
          "No",
          "BrkFace",
          "No",
          "No",
          "No",
          "BrkCmn",
          "Stone",
          "BrkFace",
          "BrkFace",
          "Stone",
          "No",
          "Stone",
          "BrkFace",
          "No",
          "No",
          "No",
          "No",
          "BrkFace",
          "No",
          "No",
          "BrkFace",
          "No",
          "No",
          "BrkFace",
          "No",
          "No",
          "BrkFace",
          "No",
          "No",
          "No",
          "No",
          "BrkFace",
          "No",
          "BrkFace",
          "No",
          "BrkFace",
          "BrkFace",
          "No",
          "No",
          "No",
          "No",
          "Stone",
          "No",
          "No",
          "BrkFace",
          "No",
          "BrkFace",
          "No",
          "No",
          "No",
          "No",
          "No",
          "BrkFace",
          "No",
          "No",
          "BrkFace",
          "No",
          "BrkFace",
          "BrkFace",
          "No",
          "No",
          "No",
          "Stone",
          "No",
          "BrkFace",
          "No",
          "No",
          "No",
          "Stone",
          "No",
          "No",
          "No",
          "No",
          "No",
          "BrkFace",
          "No",
          "No",
          "BrkFace",
          "No",
          "BrkFace",
          "No",
          "No",
          "BrkFace",
          "No",
          "No",
          "No",
          "No",
          "No",
          "No",
          "No",
          "No",
          "No",
          "No",
          "No",
          "BrkFace",
          "Stone",
          "No",
          "No",
          "No",
          "BrkFace",
          "No",
          "No",
          "No",
          "No",
          "BrkFace",
          "No",
          "No",
          "Stone",
          "No",
          "No",
          "Stone",
          "Stone",
          "BrkFace",
          "No",
          "BrkFace",
          "No",
          "No",
          "No",
          "Stone",
          "Stone",
          "No",
          "No",
          "BrkFace",
          "No",
          "No",
          "No",
          "No",
          "No",
          "BrkFace",
          "No",
          "No",
          "No",
          "No",
          "No",
          "Stone",
          "No",
          "No",
          "BrkFace",
          "No",
          "No",
          "No",
          "BrkFace",
          "No",
          "Stone",
          "BrkFace",
          "No",
          "BrkFace",
          "Stone",
          "No",
          "No",
          "No",
          "No",
          "BrkFace",
          "No",
          "No",
          "No",
          "BrkFace",
          "No",
          "BrkFace",
          "No",
          "BrkFace",
          "No",
          "Stone",
          "No",
          "No",
          "No",
          "No",
          "No",
          "No",
          "No",
          "Stone",
          "No",
          "BrkFace",
          "No",
          "No",
          "BrkFace",
          "BrkFace",
          "No",
          "BrkFace",
          "Stone",
          "BrkFace",
          "BrkFace",
          "No",
          "No",
          "BrkFace",
          "No",
          "BrkFace",
          "No",
          "No",
          "Stone",
          "No",
          "No",
          "BrkFace",
          "BrkFace",
          "Stone",
          "BrkFace",
          "No",
          "No",
          "BrkFace",
          "No",
          "BrkFace",
          "No",
          "No",
          "No",
          "Stone",
          "No",
          "No",
          "Stone",
          "No",
          "BrkFace",
          "No",
          "Stone",
          "No",
          "No",
          "No",
          "No",
          "No",
          "No",
          "BrkFace",
          "No",
          "No",
          "BrkFace",
          "BrkFace",
          "No",
          "No",
          "BrkFace",
          "BrkFace",
          "No",
          "Stone",
          "No",
          "BrkFace",
          "No",
          "No",
          "BrkFace",
          "BrkFace",
          "No",
          "No",
          "No",
          "No",
          "BrkFace",
          "BrkCmn",
          "No",
          "Stone",
          "BrkFace",
          "BrkFace",
          "No",
          "No",
          "No",
          "BrkFace",
          "BrkFace",
          "BrkFace",
          "Stone",
          "No",
          "No",
          "No",
          "BrkFace",
          "BrkFace",
          "Stone",
          "Stone",
          "Stone",
          "No",
          "No",
          "BrkFace",
          "No",
          "BrkFace",
          "BrkFace",
          "BrkFace",
          "No",
          "No",
          "Stone",
          "No",
          "BrkFace",
          "BrkFace",
          "No",
          "No",
          "No",
          "No",
          "BrkFace",
          "No",
          "No",
          "No",
          "No",
          "No",
          "Stone",
          "No",
          "No",
          "No",
          "No",
          "BrkFace",
          "BrkFace",
          "No",
          "No",
          "No",
          "No",
          "No",
          "BrkFace",
          "No",
          "No",
          "No",
          "No",
          "Stone",
          "No",
          "No",
          "BrkFace",
          "BrkFace",
          "No",
          "BrkFace",
          "No",
          "BrkFace",
          "BrkFace",
          "No",
          "BrkFace",
          "BrkFace",
          "No",
          "Stone",
          "No",
          "No",
          "No",
          "No",
          "BrkFace",
          "No",
          "BrkFace",
          "BrkFace",
          "No",
          "No",
          "No",
          "BrkFace",
          "No",
          "BrkFace",
          "No",
          "No",
          "BrkFace",
          "No",
          "No",
          "No",
          "No",
          "No",
          "No",
          "No",
          "BrkFace",
          "No",
          "Stone",
          "No",
          "BrkFace",
          "No",
          "No",
          "No",
          "BrkFace",
          "BrkFace",
          "No",
          "No",
          "No",
          "No",
          "No",
          "No",
          "No",
          "Stone",
          "No",
          "Stone",
          "No",
          "No",
          "No",
          "BrkFace",
          "No",
          "No",
          "No",
          "Stone",
          "No",
          "BrkFace",
          "No",
          "BrkFace",
          "No",
          "BrkFace",
          "BrkFace",
          "No",
          "BrkFace",
          "No",
          "No",
          "Stone",
          "BrkFace",
          "No",
          "Stone",
          "BrkFace",
          "No",
          "No",
          "No",
          "BrkFace",
          "No",
          "BrkFace",
          "No",
          "Stone",
          "No",
          "BrkFace",
          "No",
          "BrkFace",
          "Stone",
          "No",
          "BrkFace",
          "No",
          "BrkFace",
          "BrkFace",
          "No",
          "No",
          "No",
          "Stone",
          "BrkFace",
          "No",
          "No",
          "No",
          "Stone",
          "No",
          "No",
          "No"
         ],
         "x0": " ",
         "xaxis": "x",
         "y": [
          196,
          0,
          162,
          0,
          350,
          0,
          186,
          240,
          0,
          0,
          0,
          286,
          0,
          306,
          212,
          0,
          180,
          0,
          0,
          0,
          380,
          0,
          281,
          0,
          0,
          640,
          0,
          200,
          0,
          0,
          0,
          0,
          0,
          0,
          246,
          132,
          0,
          650,
          0,
          0,
          101,
          0,
          0,
          0,
          0,
          412,
          0,
          0,
          0,
          0,
          0,
          0,
          0,
          0,
          0,
          272,
          456,
          0,
          1031,
          0,
          0,
          0,
          178,
          0,
          573,
          344,
          287,
          167,
          0,
          0,
          1115,
          0,
          40,
          104,
          0,
          0,
          0,
          0,
          0,
          0,
          576,
          443,
          468,
          66,
          22,
          284,
          0,
          76,
          0,
          0,
          0,
          203,
          0,
          0,
          0,
          68,
          183,
          48,
          0,
          0,
          28,
          336,
          0,
          0,
          600,
          768,
          0,
          0,
          0,
          480,
          0,
          0,
          220,
          184,
          0,
          1129,
          116,
          0,
          0,
          0,
          0,
          0,
          135,
          0,
          0,
          0,
          0,
          0,
          266,
          85,
          309,
          40,
          0,
          136,
          0,
          288,
          196,
          70,
          320,
          0,
          0,
          0,
          0,
          183,
          336,
          50,
          0,
          180,
          120,
          0,
          0,
          436,
          252,
          0,
          0,
          0,
          0,
          84,
          0,
          456,
          0,
          664,
          226,
          0,
          0,
          0,
          0,
          300,
          0,
          653,
          0,
          112,
          0,
          491,
          132,
          0,
          268,
          0,
          748,
          0,
          456,
          0,
          98,
          0,
          0,
          0,
          0,
          0,
          275,
          0,
          0,
          138,
          0,
          50,
          0,
          0,
          205,
          0,
          0,
          262,
          0,
          0,
          0,
          205,
          0,
          0,
          0,
          0,
          128,
          260,
          0,
          0,
          0,
          0,
          153,
          64,
          266,
          0,
          312,
          16,
          0,
          0,
          0,
          0,
          922,
          142,
          290,
          127,
          0,
          16,
          220,
          506,
          297,
          0,
          0,
          604,
          98,
          0,
          254,
          0,
          36,
          0,
          0,
          0,
          0,
          102,
          0,
          0,
          101,
          472,
          0,
          481,
          0,
          108,
          0,
          302,
          0,
          180,
          172,
          0,
          399,
          270,
          46,
          0,
          0,
          210,
          0,
          0,
          0,
          174,
          0,
          0,
          348,
          183,
          0,
          0,
          0,
          0,
          315,
          299,
          340,
          68,
          166,
          72,
          0,
          0,
          0,
          0,
          31,
          0,
          0,
          0,
          0,
          34,
          238,
          0,
          0,
          1600,
          365,
          0,
          56,
          0,
          150,
          0,
          0,
          246,
          246,
          0,
          0,
          0,
          112,
          0,
          0,
          0,
          0,
          0,
          278,
          0,
          256,
          225,
          370,
          388,
          172,
          0,
          300,
          0,
          0,
          175,
          0,
          0,
          84,
          0,
          296,
          146,
          0,
          0,
          200,
          113,
          0,
          176,
          0,
          0,
          340,
          616,
          0,
          0,
          0,
          30,
          106,
          870,
          362,
          0,
          0,
          0,
          0,
          0,
          106,
          0,
          120,
          530,
          0,
          0,
          500,
          510,
          120,
          0,
          247,
          305,
          200,
          0,
          0,
          0,
          0,
          0,
          0,
          0,
          0,
          0,
          350,
          16,
          0,
          0,
          0,
          0,
          0,
          16,
          0,
          255,
          125,
          272,
          0,
          0,
          0,
          0,
          0,
          0,
          0,
          288,
          0,
          100,
          0,
          0,
          0,
          650,
          0,
          0,
          0,
          0,
          350,
          100,
          0,
          0,
          432,
          0,
          0,
          0,
          203,
          0,
          0,
          0,
          200,
          126,
          0,
          473,
          74,
          0,
          145,
          0,
          108,
          0,
          232,
          0,
          376,
          0,
          0,
          0,
          0,
          0,
          0,
          0,
          200,
          270,
          0,
          72,
          0,
          0,
          0,
          0,
          0,
          0,
          0,
          0,
          42,
          0,
          0,
          320,
          0,
          0,
          0,
          161,
          110,
          0,
          0,
          0,
          136,
          18,
          0,
          224,
          248,
          120,
          0,
          0,
          80,
          304,
          0,
          0,
          215,
          772,
          336,
          435,
          378,
          562,
          0,
          116,
          0,
          0,
          168,
          0,
          0,
          0,
          0,
          0,
          0,
          0,
          0,
          0,
          0,
          0,
          89,
          0,
          285,
          0,
          0,
          0,
          0,
          360,
          125,
          0,
          0,
          132,
          70,
          94,
          0,
          0,
          0,
          305,
          333,
          921,
          0,
          0,
          0,
          0,
          0,
          762,
          594,
          0,
          0,
          268,
          0,
          0,
          219,
          0,
          0,
          0,
          0,
          0,
          0,
          0,
          188,
          479,
          584,
          72,
          0,
          182,
          0,
          178,
          0,
          0,
          0,
          0,
          0,
          0,
          250,
          0,
          292,
          0,
          0,
          0,
          0,
          18,
          180,
          0,
          0,
          0,
          0,
          0,
          245,
          168,
          0,
          0,
          108,
          207,
          0,
          0,
          82,
          0,
          0,
          97,
          0,
          335,
          85,
          306,
          104,
          0,
          0,
          208,
          0,
          0,
          0,
          0,
          0,
          420,
          0,
          170,
          0,
          238,
          0,
          72,
          459,
          0,
          280,
          0,
          0,
          0,
          99,
          176,
          0,
          0,
          0,
          192,
          204,
          233,
          108,
          0,
          0,
          156,
          0,
          0,
          452,
          226,
          0,
          0,
          153,
          513,
          288,
          261,
          0,
          164,
          192,
          259,
          0,
          108,
          209,
          0,
          0,
          0,
          0,
          0,
          0,
          0,
          472,
          0,
          0,
          263,
          162,
          0,
          0,
          216,
          351,
          0,
          0,
          0,
          0,
          0,
          660,
          381,
          54,
          0,
          0,
          0,
          233,
          528,
          216,
          0,
          0,
          40,
          113,
          258,
          0,
          0,
          0,
          0,
          0,
          106,
          0,
          0,
          0,
          0,
          464,
          57,
          0,
          0,
          0,
          215,
          30,
          0,
          0,
          0,
          0,
          256,
          147,
          1170,
          293,
          0,
          0,
          72,
          0,
          0,
          0,
          0,
          630,
          168,
          466,
          0,
          109,
          0,
          351,
          176,
          0,
          41,
          0,
          0,
          0,
          160,
          289,
          174,
          0,
          0,
          651,
          0,
          0,
          169,
          0,
          0,
          340,
          0,
          260,
          82,
          95,
          0,
          0,
          442,
          202,
          0,
          0,
          0,
          0,
          0,
          0,
          0,
          0,
          0,
          108,
          0,
          0,
          289,
          0,
          0,
          338,
          0,
          0,
          0,
          0,
          178,
          0,
          894,
          0,
          328,
          360,
          513,
          0,
          0,
          0,
          673,
          0,
          284,
          42,
          0,
          0,
          603,
          0,
          0,
          0,
          1,
          375,
          320,
          240,
          0,
          320,
          90,
          38,
          0,
          0,
          104,
          0,
          0,
          0,
          0,
          0,
          157,
          11,
          0,
          0,
          140,
          0,
          130,
          148,
          0,
          860,
          252,
          0,
          0,
          0,
          424,
          0,
          256,
          0,
          0,
          1047,
          0,
          99,
          169,
          0,
          243,
          0,
          442,
          0,
          148,
          80,
          128,
          0,
          0,
          0,
          0,
          0,
          816,
          0,
          0,
          0,
          0,
          387,
          0,
          223,
          180,
          136,
          0,
          0,
          158,
          0,
          0,
          0,
          0,
          183,
          0,
          0,
          0,
          137,
          0,
          0,
          360,
          170,
          40,
          0,
          115,
          0,
          0,
          0,
          0,
          189,
          220,
          0,
          0,
          0,
          0,
          0,
          76,
          274,
          0,
          0,
          246,
          0,
          116,
          0,
          0,
          0,
          0,
          0,
          216,
          0,
          90,
          0,
          117,
          0,
          0,
          60,
          60,
          122,
          0,
          0,
          90,
          0,
          92,
          0,
          0,
          0,
          415,
          0,
          0,
          760,
          0,
          0,
          0,
          0,
          27,
          75,
          110,
          208,
          0,
          0,
          0,
          361,
          0,
          0,
          0,
          76,
          80,
          0,
          0,
          0,
          0,
          105,
          0,
          0,
          0,
          157,
          0,
          340,
          342,
          0,
          285,
          0,
          0,
          302,
          210,
          0,
          108,
          0,
          0,
          0,
          0,
          0,
          298,
          0,
          0,
          541,
          0,
          128,
          236,
          144,
          0,
          0,
          0,
          0,
          232,
          250,
          423,
          0,
          0,
          0,
          0,
          0,
          424,
          0,
          0,
          44,
          0,
          0,
          151,
          0,
          105,
          0,
          106,
          0,
          0,
          0,
          0,
          0,
          0,
          0,
          0,
          210,
          975,
          16,
          0,
          0,
          0,
          0,
          450,
          298,
          0,
          423,
          0,
          340,
          0,
          230,
          0,
          0,
          571,
          0,
          24,
          0,
          0,
          53,
          164,
          16,
          220,
          0,
          0,
          108,
          0,
          0,
          0,
          0,
          0,
          206,
          0,
          196,
          0,
          76,
          145,
          0,
          84,
          0,
          14,
          0,
          0,
          324,
          338,
          0,
          281,
          0,
          0,
          0,
          295,
          0,
          0,
          70,
          396,
          0,
          0,
          67,
          252,
          135,
          99,
          0,
          0,
          208,
          0,
          75,
          0,
          0,
          0,
          272,
          145,
          210,
          160,
          240,
          0,
          154,
          480,
          0,
          0,
          0,
          0,
          200,
          0,
          0,
          360,
          0,
          0,
          120,
          0,
          0,
          140,
          0,
          0,
          0,
          0,
          169,
          0,
          144,
          0,
          100,
          425,
          0,
          0,
          0,
          0,
          50,
          0,
          0,
          212,
          0,
          166,
          0,
          0,
          0,
          0,
          0,
          206,
          0,
          0,
          45,
          0,
          304,
          362,
          0,
          0,
          0,
          42,
          0,
          660,
          0,
          0,
          0,
          328,
          0,
          0,
          0,
          0,
          0,
          196,
          0,
          0,
          170,
          0,
          130,
          0,
          0,
          180,
          0,
          0,
          0,
          0,
          0,
          0,
          0,
          0,
          0,
          0,
          0,
          44,
          340,
          0,
          0,
          0,
          85,
          0,
          0,
          0,
          0,
          132,
          0,
          0,
          288,
          0,
          0,
          166,
          186,
          270,
          0,
          72,
          0,
          0,
          0,
          268,
          72,
          0,
          0,
          1378,
          0,
          0,
          0,
          0,
          0,
          337,
          0,
          0,
          0,
          0,
          0,
          186,
          0,
          0,
          226,
          0,
          0,
          0,
          95,
          0,
          149,
          456,
          0,
          425,
          143,
          0,
          0,
          0,
          0,
          51,
          0,
          0,
          0,
          171,
          0,
          234,
          0,
          120,
          0,
          420,
          0,
          0,
          0,
          0,
          0,
          0,
          0,
          72,
          0,
          236,
          0,
          0,
          320,
          44,
          0,
          63,
          74,
          300,
          766,
          0,
          1,
          120,
          0,
          180,
          0,
          0,
          106,
          0,
          0,
          32,
          252,
          0,
          81,
          0,
          0,
          74,
          0,
          335,
          0,
          0,
          0,
          163,
          0,
          0,
          92,
          0,
          554,
          0,
          182,
          0,
          0,
          0,
          0,
          0,
          0,
          218,
          0,
          0,
          632,
          180,
          0,
          0,
          114,
          84,
          0,
          567,
          0,
          359,
          0,
          0,
          110,
          54,
          0,
          0,
          0,
          0,
          451,
          621,
          0,
          788,
          86,
          268,
          0,
          0,
          0,
          168,
          148,
          82,
          796,
          0,
          344,
          0,
          391,
          228,
          117,
          300,
          94,
          0,
          0,
          88,
          0,
          80,
          336,
          165,
          0,
          0,
          270,
          0,
          178,
          132,
          0,
          0,
          0,
          0,
          428,
          0,
          0,
          0,
          0,
          0,
          410,
          0,
          0,
          0,
          312,
          360,
          564,
          0,
          0,
          0,
          0,
          0,
          149,
          0,
          0,
          0,
          0,
          100,
          0,
          0,
          368,
          318,
          0,
          579,
          0,
          143,
          65,
          0,
          216,
          66,
          0,
          16,
          0,
          0,
          0,
          0,
          158,
          0,
          170,
          171,
          0,
          0,
          0,
          705,
          0,
          80,
          0,
          0,
          408,
          0,
          0,
          0,
          0,
          0,
          0,
          0,
          184,
          0,
          160,
          0,
          244,
          0,
          0,
          0,
          45,
          245,
          0,
          0,
          0,
          0,
          0,
          0,
          0,
          84,
          0,
          174,
          0,
          0,
          0,
          123,
          0,
          0,
          0,
          366,
          0,
          130,
          0,
          731,
          0,
          312,
          420,
          0,
          170,
          0,
          0,
          243,
          448,
          0,
          294,
          310,
          0,
          0,
          0,
          318,
          0,
          237,
          0,
          426,
          0,
          96,
          0,
          147,
          160,
          0,
          106,
          0,
          189,
          438,
          0,
          0,
          0,
          194,
          80,
          0,
          0,
          0,
          119,
          0,
          0,
          0
         ],
         "y0": " ",
         "yaxis": "y"
        }
       ],
       "layout": {
        "boxmode": "group",
        "legend": {
         "tracegroupgap": 0
        },
        "template": {
         "data": {
          "bar": [
           {
            "error_x": {
             "color": "#2a3f5f"
            },
            "error_y": {
             "color": "#2a3f5f"
            },
            "marker": {
             "line": {
              "color": "white",
              "width": 0.5
             },
             "pattern": {
              "fillmode": "overlay",
              "size": 10,
              "solidity": 0.2
             }
            },
            "type": "bar"
           }
          ],
          "barpolar": [
           {
            "marker": {
             "line": {
              "color": "white",
              "width": 0.5
             },
             "pattern": {
              "fillmode": "overlay",
              "size": 10,
              "solidity": 0.2
             }
            },
            "type": "barpolar"
           }
          ],
          "carpet": [
           {
            "aaxis": {
             "endlinecolor": "#2a3f5f",
             "gridcolor": "#C8D4E3",
             "linecolor": "#C8D4E3",
             "minorgridcolor": "#C8D4E3",
             "startlinecolor": "#2a3f5f"
            },
            "baxis": {
             "endlinecolor": "#2a3f5f",
             "gridcolor": "#C8D4E3",
             "linecolor": "#C8D4E3",
             "minorgridcolor": "#C8D4E3",
             "startlinecolor": "#2a3f5f"
            },
            "type": "carpet"
           }
          ],
          "choropleth": [
           {
            "colorbar": {
             "outlinewidth": 0,
             "ticks": ""
            },
            "type": "choropleth"
           }
          ],
          "contour": [
           {
            "colorbar": {
             "outlinewidth": 0,
             "ticks": ""
            },
            "colorscale": [
             [
              0,
              "#0d0887"
             ],
             [
              0.1111111111111111,
              "#46039f"
             ],
             [
              0.2222222222222222,
              "#7201a8"
             ],
             [
              0.3333333333333333,
              "#9c179e"
             ],
             [
              0.4444444444444444,
              "#bd3786"
             ],
             [
              0.5555555555555556,
              "#d8576b"
             ],
             [
              0.6666666666666666,
              "#ed7953"
             ],
             [
              0.7777777777777778,
              "#fb9f3a"
             ],
             [
              0.8888888888888888,
              "#fdca26"
             ],
             [
              1,
              "#f0f921"
             ]
            ],
            "type": "contour"
           }
          ],
          "contourcarpet": [
           {
            "colorbar": {
             "outlinewidth": 0,
             "ticks": ""
            },
            "type": "contourcarpet"
           }
          ],
          "heatmap": [
           {
            "colorbar": {
             "outlinewidth": 0,
             "ticks": ""
            },
            "colorscale": [
             [
              0,
              "#0d0887"
             ],
             [
              0.1111111111111111,
              "#46039f"
             ],
             [
              0.2222222222222222,
              "#7201a8"
             ],
             [
              0.3333333333333333,
              "#9c179e"
             ],
             [
              0.4444444444444444,
              "#bd3786"
             ],
             [
              0.5555555555555556,
              "#d8576b"
             ],
             [
              0.6666666666666666,
              "#ed7953"
             ],
             [
              0.7777777777777778,
              "#fb9f3a"
             ],
             [
              0.8888888888888888,
              "#fdca26"
             ],
             [
              1,
              "#f0f921"
             ]
            ],
            "type": "heatmap"
           }
          ],
          "heatmapgl": [
           {
            "colorbar": {
             "outlinewidth": 0,
             "ticks": ""
            },
            "colorscale": [
             [
              0,
              "#0d0887"
             ],
             [
              0.1111111111111111,
              "#46039f"
             ],
             [
              0.2222222222222222,
              "#7201a8"
             ],
             [
              0.3333333333333333,
              "#9c179e"
             ],
             [
              0.4444444444444444,
              "#bd3786"
             ],
             [
              0.5555555555555556,
              "#d8576b"
             ],
             [
              0.6666666666666666,
              "#ed7953"
             ],
             [
              0.7777777777777778,
              "#fb9f3a"
             ],
             [
              0.8888888888888888,
              "#fdca26"
             ],
             [
              1,
              "#f0f921"
             ]
            ],
            "type": "heatmapgl"
           }
          ],
          "histogram": [
           {
            "marker": {
             "pattern": {
              "fillmode": "overlay",
              "size": 10,
              "solidity": 0.2
             }
            },
            "type": "histogram"
           }
          ],
          "histogram2d": [
           {
            "colorbar": {
             "outlinewidth": 0,
             "ticks": ""
            },
            "colorscale": [
             [
              0,
              "#0d0887"
             ],
             [
              0.1111111111111111,
              "#46039f"
             ],
             [
              0.2222222222222222,
              "#7201a8"
             ],
             [
              0.3333333333333333,
              "#9c179e"
             ],
             [
              0.4444444444444444,
              "#bd3786"
             ],
             [
              0.5555555555555556,
              "#d8576b"
             ],
             [
              0.6666666666666666,
              "#ed7953"
             ],
             [
              0.7777777777777778,
              "#fb9f3a"
             ],
             [
              0.8888888888888888,
              "#fdca26"
             ],
             [
              1,
              "#f0f921"
             ]
            ],
            "type": "histogram2d"
           }
          ],
          "histogram2dcontour": [
           {
            "colorbar": {
             "outlinewidth": 0,
             "ticks": ""
            },
            "colorscale": [
             [
              0,
              "#0d0887"
             ],
             [
              0.1111111111111111,
              "#46039f"
             ],
             [
              0.2222222222222222,
              "#7201a8"
             ],
             [
              0.3333333333333333,
              "#9c179e"
             ],
             [
              0.4444444444444444,
              "#bd3786"
             ],
             [
              0.5555555555555556,
              "#d8576b"
             ],
             [
              0.6666666666666666,
              "#ed7953"
             ],
             [
              0.7777777777777778,
              "#fb9f3a"
             ],
             [
              0.8888888888888888,
              "#fdca26"
             ],
             [
              1,
              "#f0f921"
             ]
            ],
            "type": "histogram2dcontour"
           }
          ],
          "mesh3d": [
           {
            "colorbar": {
             "outlinewidth": 0,
             "ticks": ""
            },
            "type": "mesh3d"
           }
          ],
          "parcoords": [
           {
            "line": {
             "colorbar": {
              "outlinewidth": 0,
              "ticks": ""
             }
            },
            "type": "parcoords"
           }
          ],
          "pie": [
           {
            "automargin": true,
            "type": "pie"
           }
          ],
          "scatter": [
           {
            "fillpattern": {
             "fillmode": "overlay",
             "size": 10,
             "solidity": 0.2
            },
            "type": "scatter"
           }
          ],
          "scatter3d": [
           {
            "line": {
             "colorbar": {
              "outlinewidth": 0,
              "ticks": ""
             }
            },
            "marker": {
             "colorbar": {
              "outlinewidth": 0,
              "ticks": ""
             }
            },
            "type": "scatter3d"
           }
          ],
          "scattercarpet": [
           {
            "marker": {
             "colorbar": {
              "outlinewidth": 0,
              "ticks": ""
             }
            },
            "type": "scattercarpet"
           }
          ],
          "scattergeo": [
           {
            "marker": {
             "colorbar": {
              "outlinewidth": 0,
              "ticks": ""
             }
            },
            "type": "scattergeo"
           }
          ],
          "scattergl": [
           {
            "marker": {
             "colorbar": {
              "outlinewidth": 0,
              "ticks": ""
             }
            },
            "type": "scattergl"
           }
          ],
          "scattermapbox": [
           {
            "marker": {
             "colorbar": {
              "outlinewidth": 0,
              "ticks": ""
             }
            },
            "type": "scattermapbox"
           }
          ],
          "scatterpolar": [
           {
            "marker": {
             "colorbar": {
              "outlinewidth": 0,
              "ticks": ""
             }
            },
            "type": "scatterpolar"
           }
          ],
          "scatterpolargl": [
           {
            "marker": {
             "colorbar": {
              "outlinewidth": 0,
              "ticks": ""
             }
            },
            "type": "scatterpolargl"
           }
          ],
          "scatterternary": [
           {
            "marker": {
             "colorbar": {
              "outlinewidth": 0,
              "ticks": ""
             }
            },
            "type": "scatterternary"
           }
          ],
          "surface": [
           {
            "colorbar": {
             "outlinewidth": 0,
             "ticks": ""
            },
            "colorscale": [
             [
              0,
              "#0d0887"
             ],
             [
              0.1111111111111111,
              "#46039f"
             ],
             [
              0.2222222222222222,
              "#7201a8"
             ],
             [
              0.3333333333333333,
              "#9c179e"
             ],
             [
              0.4444444444444444,
              "#bd3786"
             ],
             [
              0.5555555555555556,
              "#d8576b"
             ],
             [
              0.6666666666666666,
              "#ed7953"
             ],
             [
              0.7777777777777778,
              "#fb9f3a"
             ],
             [
              0.8888888888888888,
              "#fdca26"
             ],
             [
              1,
              "#f0f921"
             ]
            ],
            "type": "surface"
           }
          ],
          "table": [
           {
            "cells": {
             "fill": {
              "color": "#EBF0F8"
             },
             "line": {
              "color": "white"
             }
            },
            "header": {
             "fill": {
              "color": "#C8D4E3"
             },
             "line": {
              "color": "white"
             }
            },
            "type": "table"
           }
          ]
         },
         "layout": {
          "annotationdefaults": {
           "arrowcolor": "#2a3f5f",
           "arrowhead": 0,
           "arrowwidth": 1
          },
          "autotypenumbers": "strict",
          "coloraxis": {
           "colorbar": {
            "outlinewidth": 0,
            "ticks": ""
           }
          },
          "colorscale": {
           "diverging": [
            [
             0,
             "#8e0152"
            ],
            [
             0.1,
             "#c51b7d"
            ],
            [
             0.2,
             "#de77ae"
            ],
            [
             0.3,
             "#f1b6da"
            ],
            [
             0.4,
             "#fde0ef"
            ],
            [
             0.5,
             "#f7f7f7"
            ],
            [
             0.6,
             "#e6f5d0"
            ],
            [
             0.7,
             "#b8e186"
            ],
            [
             0.8,
             "#7fbc41"
            ],
            [
             0.9,
             "#4d9221"
            ],
            [
             1,
             "#276419"
            ]
           ],
           "sequential": [
            [
             0,
             "#0d0887"
            ],
            [
             0.1111111111111111,
             "#46039f"
            ],
            [
             0.2222222222222222,
             "#7201a8"
            ],
            [
             0.3333333333333333,
             "#9c179e"
            ],
            [
             0.4444444444444444,
             "#bd3786"
            ],
            [
             0.5555555555555556,
             "#d8576b"
            ],
            [
             0.6666666666666666,
             "#ed7953"
            ],
            [
             0.7777777777777778,
             "#fb9f3a"
            ],
            [
             0.8888888888888888,
             "#fdca26"
            ],
            [
             1,
             "#f0f921"
            ]
           ],
           "sequentialminus": [
            [
             0,
             "#0d0887"
            ],
            [
             0.1111111111111111,
             "#46039f"
            ],
            [
             0.2222222222222222,
             "#7201a8"
            ],
            [
             0.3333333333333333,
             "#9c179e"
            ],
            [
             0.4444444444444444,
             "#bd3786"
            ],
            [
             0.5555555555555556,
             "#d8576b"
            ],
            [
             0.6666666666666666,
             "#ed7953"
            ],
            [
             0.7777777777777778,
             "#fb9f3a"
            ],
            [
             0.8888888888888888,
             "#fdca26"
            ],
            [
             1,
             "#f0f921"
            ]
           ]
          },
          "colorway": [
           "#636efa",
           "#EF553B",
           "#00cc96",
           "#ab63fa",
           "#FFA15A",
           "#19d3f3",
           "#FF6692",
           "#B6E880",
           "#FF97FF",
           "#FECB52"
          ],
          "font": {
           "color": "#2a3f5f"
          },
          "geo": {
           "bgcolor": "white",
           "lakecolor": "white",
           "landcolor": "white",
           "showlakes": true,
           "showland": true,
           "subunitcolor": "#C8D4E3"
          },
          "hoverlabel": {
           "align": "left"
          },
          "hovermode": "closest",
          "mapbox": {
           "style": "light"
          },
          "paper_bgcolor": "white",
          "plot_bgcolor": "white",
          "polar": {
           "angularaxis": {
            "gridcolor": "#EBF0F8",
            "linecolor": "#EBF0F8",
            "ticks": ""
           },
           "bgcolor": "white",
           "radialaxis": {
            "gridcolor": "#EBF0F8",
            "linecolor": "#EBF0F8",
            "ticks": ""
           }
          },
          "scene": {
           "xaxis": {
            "backgroundcolor": "white",
            "gridcolor": "#DFE8F3",
            "gridwidth": 2,
            "linecolor": "#EBF0F8",
            "showbackground": true,
            "ticks": "",
            "zerolinecolor": "#EBF0F8"
           },
           "yaxis": {
            "backgroundcolor": "white",
            "gridcolor": "#DFE8F3",
            "gridwidth": 2,
            "linecolor": "#EBF0F8",
            "showbackground": true,
            "ticks": "",
            "zerolinecolor": "#EBF0F8"
           },
           "zaxis": {
            "backgroundcolor": "white",
            "gridcolor": "#DFE8F3",
            "gridwidth": 2,
            "linecolor": "#EBF0F8",
            "showbackground": true,
            "ticks": "",
            "zerolinecolor": "#EBF0F8"
           }
          },
          "shapedefaults": {
           "line": {
            "color": "#2a3f5f"
           }
          },
          "ternary": {
           "aaxis": {
            "gridcolor": "#DFE8F3",
            "linecolor": "#A2B1C6",
            "ticks": ""
           },
           "baxis": {
            "gridcolor": "#DFE8F3",
            "linecolor": "#A2B1C6",
            "ticks": ""
           },
           "bgcolor": "white",
           "caxis": {
            "gridcolor": "#DFE8F3",
            "linecolor": "#A2B1C6",
            "ticks": ""
           }
          },
          "title": {
           "x": 0.05
          },
          "xaxis": {
           "automargin": true,
           "gridcolor": "#EBF0F8",
           "linecolor": "#EBF0F8",
           "ticks": "",
           "title": {
            "standoff": 15
           },
           "zerolinecolor": "#EBF0F8",
           "zerolinewidth": 2
          },
          "yaxis": {
           "automargin": true,
           "gridcolor": "#EBF0F8",
           "linecolor": "#EBF0F8",
           "ticks": "",
           "title": {
            "standoff": 15
           },
           "zerolinecolor": "#EBF0F8",
           "zerolinewidth": 2
          }
         }
        },
        "title": {
         "text": "Relationship Between MasVnrType and MasVnrArea"
        },
        "xaxis": {
         "anchor": "y",
         "domain": [
          0,
          1
         ],
         "title": {
          "text": "Masonry Veneer Type"
         }
        },
        "yaxis": {
         "anchor": "x",
         "domain": [
          0,
          1
         ],
         "title": {
          "text": "Masonry Veneer Area (sq ft)"
         }
        }
       }
      }
     },
     "metadata": {},
     "output_type": "display_data"
    }
   ],
   "source": [
    "# Plot the relationship using a box plot\n",
    "fig = px.box(\n",
    "    train_cleaned,\n",
    "    x='MasVnrType',\n",
    "    y='MasVnrArea',\n",
    "    title='Relationship Between MasVnrType and MasVnrArea',\n",
    "    labels={'MasVnrType': 'Masonry Veneer Type', 'MasVnrArea': 'Masonry Veneer Area (sq ft)'},\n",
    "    template='plotly_white'\n",
    ")\n",
    "\n",
    "fig.update_layout(xaxis_title='Masonry Veneer Type', yaxis_title='Masonry Veneer Area (sq ft)')\n",
    "fig.show()"
   ]
  },
  {
   "cell_type": "markdown",
   "metadata": {},
   "source": [
    "**Decision on `MasVnrType` and `MasVnrArea`**\n",
    "\n",
    "We will retain both `MasVnrType` and `MasVnrArea` as they provide complementary information. The type (`MasVnrType`) and area (`MasVnrArea`) of masonry veneer are correlated and together contribute to understanding the property features."
   ]
  },
  {
   "cell_type": "markdown",
   "metadata": {},
   "source": [
    "#### **`FireplaceQu`: Fireplace Quality**\n",
    "\n",
    "- `Ex`: Excellent - Exceptional Masonry Fireplace\n",
    "\n",
    "- `Gd`: Good - Masonry Fireplace in main level\n",
    "\n",
    "- `TA`: Average - Prefabricated Fireplace in main living area or Masonry Fireplace in basement\n",
    "\n",
    "- `Fa`: Fair - Prefabricated Fireplace in basement\n",
    "\n",
    "- `Po`: Poor - Ben Franklin Stove\n",
    "\n",
    "- `NA`: No Fireplace\n",
    "\t\t"
   ]
  },
  {
   "cell_type": "code",
   "execution_count": 73,
   "metadata": {},
   "outputs": [
    {
     "data": {
      "text/plain": [
       "FireplaceQu\n",
       "NaN    690\n",
       "Gd     380\n",
       "TA     313\n",
       "Fa      33\n",
       "Ex      24\n",
       "Po      20\n",
       "Name: count, dtype: int64"
      ]
     },
     "execution_count": 73,
     "metadata": {},
     "output_type": "execute_result"
    }
   ],
   "source": [
    "fireplacequ_distribution = train['FireplaceQu'].value_counts(dropna=False)\n",
    "fireplacequ_distribution"
   ]
  },
  {
   "cell_type": "code",
   "execution_count": 74,
   "metadata": {},
   "outputs": [
    {
     "name": "stdout",
     "output_type": "stream",
     "text": [
      "FireplaceQu        Ex        Fa        Gd        Po        TA\n",
      "Fireplaces                                                   \n",
      "1            0.029231  0.043077  0.498462  0.030769  0.398462\n",
      "2            0.034783  0.034783  0.469565  0.000000  0.460870\n",
      "3            0.200000  0.200000  0.400000  0.000000  0.200000\n"
     ]
    }
   ],
   "source": [
    "# Create a cross-tabulation to see the relationship between 'Fireplaces' and 'FireplaceQu'\n",
    "fireplace_relationship = pd.crosstab(train['Fireplaces'], train['FireplaceQu'], normalize='index')\n",
    "\n",
    "# Display the table\n",
    "print(fireplace_relationship)"
   ]
  },
  {
   "cell_type": "markdown",
   "metadata": {},
   "source": [
    "**Key Observations:**\n",
    "\n",
    "- Gd (Good) and TA (Typical/Average) are the most common ratings across all numbers of fireplaces.\n",
    "\n",
    "- Houses with multiple fireplaces tend to have higher-quality ratings (Ex increases for 3 fireplaces), suggesting that homes with more fireplaces are likely higher-value properties.\n",
    "\n",
    "- Poor quality (Po) fireplaces are rare overall and completely absent in houses with 2 or 3 fireplaces.\n",
    "\n",
    "**Interpretation:**\n",
    "\n",
    "- There is a clear association between the number of fireplaces and the quality of fireplaces, with homes having multiple fireplaces being more likely to have higher-quality ratings.\n",
    "\n",
    "- This relationship suggests that both variables could provide complementary information for predicting house prices. Consider retaining both variables for further analysis or feature engineering.\n",
    "\n",
    "**Decision:**\n",
    "\n",
    "We will compute a new variable to capture the total fireplace quality by summing the individual fireplace quality ratings for each house. This combined variable can provide a more comprehensive measure of fireplace quality, accounting for both the number and quality of fireplaces in a property and avoiding potential multicollinearity issues."
   ]
  },
  {
   "cell_type": "code",
   "execution_count": 75,
   "metadata": {},
   "outputs": [
    {
     "data": {
      "text/html": [
       "<div>\n",
       "<style scoped>\n",
       "    .dataframe tbody tr th:only-of-type {\n",
       "        vertical-align: middle;\n",
       "    }\n",
       "\n",
       "    .dataframe tbody tr th {\n",
       "        vertical-align: top;\n",
       "    }\n",
       "\n",
       "    .dataframe thead th {\n",
       "        text-align: right;\n",
       "    }\n",
       "</style>\n",
       "<table border=\"1\" class=\"dataframe\">\n",
       "  <thead>\n",
       "    <tr style=\"text-align: right;\">\n",
       "      <th></th>\n",
       "      <th>Fireplaces</th>\n",
       "      <th>FireplaceQu</th>\n",
       "      <th>FireplaceQu_Score</th>\n",
       "      <th>FireplaceFeature</th>\n",
       "    </tr>\n",
       "    <tr>\n",
       "      <th>Id</th>\n",
       "      <th></th>\n",
       "      <th></th>\n",
       "      <th></th>\n",
       "      <th></th>\n",
       "    </tr>\n",
       "  </thead>\n",
       "  <tbody>\n",
       "    <tr>\n",
       "      <th>1</th>\n",
       "      <td>0</td>\n",
       "      <td>No</td>\n",
       "      <td>0</td>\n",
       "      <td>0</td>\n",
       "    </tr>\n",
       "    <tr>\n",
       "      <th>2</th>\n",
       "      <td>1</td>\n",
       "      <td>TA</td>\n",
       "      <td>3</td>\n",
       "      <td>3</td>\n",
       "    </tr>\n",
       "    <tr>\n",
       "      <th>3</th>\n",
       "      <td>1</td>\n",
       "      <td>TA</td>\n",
       "      <td>3</td>\n",
       "      <td>3</td>\n",
       "    </tr>\n",
       "    <tr>\n",
       "      <th>4</th>\n",
       "      <td>1</td>\n",
       "      <td>Gd</td>\n",
       "      <td>4</td>\n",
       "      <td>4</td>\n",
       "    </tr>\n",
       "    <tr>\n",
       "      <th>5</th>\n",
       "      <td>1</td>\n",
       "      <td>TA</td>\n",
       "      <td>3</td>\n",
       "      <td>3</td>\n",
       "    </tr>\n",
       "  </tbody>\n",
       "</table>\n",
       "</div>"
      ],
      "text/plain": [
       "    Fireplaces FireplaceQu  FireplaceQu_Score  FireplaceFeature\n",
       "Id                                                             \n",
       "1            0          No                  0                 0\n",
       "2            1          TA                  3                 3\n",
       "3            1          TA                  3                 3\n",
       "4            1          Gd                  4                 4\n",
       "5            1          TA                  3                 3"
      ]
     },
     "execution_count": 75,
     "metadata": {},
     "output_type": "execute_result"
    }
   ],
   "source": [
    "# Map 'FireplaceQu' to numerical scores\n",
    "quality_mapping = {\n",
    "    \"Ex\": 5,\n",
    "    \"Gd\": 4,\n",
    "    \"TA\": 3,\n",
    "    \"Fa\": 2,\n",
    "    \"Po\": 1,\n",
    "    \"No\": 0  # Missing values or no fireplace\n",
    "}\n",
    "\n",
    "# Replace NaN in FireplaceQu with 'NA' for consistent mapping\n",
    "train_cleaned['FireplaceQu'] = train_cleaned['FireplaceQu'].fillna(\"No\")\n",
    "\n",
    "# Create a new column 'FireplaceQ_core' based on the mapping\n",
    "train_cleaned['FireplaceQu_Score'] = train_cleaned['FireplaceQu'].map(quality_mapping)\n",
    "\n",
    "# Create the combined feature: multiply Fireplaces with FireplaceQu_Score\n",
    "train_cleaned['FireplaceFeature'] = train_cleaned['Fireplaces'] * train_cleaned['FireplaceQu_Score']\n",
    "\n",
    "# Check the new variable\n",
    "train_cleaned[['Fireplaces', 'FireplaceQu', 'FireplaceQu_Score', 'FireplaceFeature']].head()"
   ]
  },
  {
   "cell_type": "code",
   "execution_count": 76,
   "metadata": {},
   "outputs": [],
   "source": [
    "# drop the 'FireplaceQu', 'Fireplaces' and 'FireplaceQu_Score' columns\n",
    "train_cleaned.drop(columns=['FireplaceQu', 'Fireplaces', 'FireplaceQu_Score'], inplace=True)"
   ]
  },
  {
   "cell_type": "code",
   "execution_count": 77,
   "metadata": {},
   "outputs": [
    {
     "name": "stdout",
     "output_type": "stream",
     "text": [
      "(1460, 80)\n",
      "(1460, 77)\n"
     ]
    }
   ],
   "source": [
    "print(train.shape)\n",
    "print(train_cleaned.shape)"
   ]
  },
  {
   "cell_type": "markdown",
   "metadata": {},
   "source": [
    "### **Moderate Missingness (10%-20%)**"
   ]
  },
  {
   "cell_type": "markdown",
   "metadata": {},
   "source": [
    "#### Looking the remaining columns with missing values"
   ]
  },
  {
   "cell_type": "code",
   "execution_count": 78,
   "metadata": {},
   "outputs": [
    {
     "data": {
      "application/vnd.plotly.v1+json": {
       "config": {
        "plotlyServerURL": "https://plot.ly"
       },
       "data": [
        {
         "alignmentgroup": "True",
         "hovertemplate": "Missing Percentage (%)=%{x}<br>Variable=%{y}<extra></extra>",
         "legendgroup": "",
         "marker": {
          "color": "#636efa",
          "pattern": {
           "shape": ""
          }
         },
         "name": "",
         "offsetgroup": "",
         "orientation": "h",
         "showlegend": false,
         "textposition": "auto",
         "type": "bar",
         "x": [
          0.0684931506849315,
          2.5342465753424657,
          2.5342465753424657,
          2.5342465753424657,
          2.6027397260273974,
          2.6027397260273974,
          5.5479452054794525,
          5.5479452054794525,
          5.5479452054794525,
          5.5479452054794525,
          5.5479452054794525,
          17.73972602739726
         ],
         "xaxis": "x",
         "y": [
          "Electrical",
          "BsmtQual",
          "BsmtCond",
          "BsmtFinType1",
          "BsmtExposure",
          "BsmtFinType2",
          "GarageType",
          "GarageYrBlt",
          "GarageFinish",
          "GarageQual",
          "GarageCond",
          "LotFrontage"
         ],
         "yaxis": "y"
        }
       ],
       "layout": {
        "barmode": "relative",
        "legend": {
         "tracegroupgap": 0
        },
        "template": {
         "data": {
          "bar": [
           {
            "error_x": {
             "color": "#2a3f5f"
            },
            "error_y": {
             "color": "#2a3f5f"
            },
            "marker": {
             "line": {
              "color": "white",
              "width": 0.5
             },
             "pattern": {
              "fillmode": "overlay",
              "size": 10,
              "solidity": 0.2
             }
            },
            "type": "bar"
           }
          ],
          "barpolar": [
           {
            "marker": {
             "line": {
              "color": "white",
              "width": 0.5
             },
             "pattern": {
              "fillmode": "overlay",
              "size": 10,
              "solidity": 0.2
             }
            },
            "type": "barpolar"
           }
          ],
          "carpet": [
           {
            "aaxis": {
             "endlinecolor": "#2a3f5f",
             "gridcolor": "#C8D4E3",
             "linecolor": "#C8D4E3",
             "minorgridcolor": "#C8D4E3",
             "startlinecolor": "#2a3f5f"
            },
            "baxis": {
             "endlinecolor": "#2a3f5f",
             "gridcolor": "#C8D4E3",
             "linecolor": "#C8D4E3",
             "minorgridcolor": "#C8D4E3",
             "startlinecolor": "#2a3f5f"
            },
            "type": "carpet"
           }
          ],
          "choropleth": [
           {
            "colorbar": {
             "outlinewidth": 0,
             "ticks": ""
            },
            "type": "choropleth"
           }
          ],
          "contour": [
           {
            "colorbar": {
             "outlinewidth": 0,
             "ticks": ""
            },
            "colorscale": [
             [
              0,
              "#0d0887"
             ],
             [
              0.1111111111111111,
              "#46039f"
             ],
             [
              0.2222222222222222,
              "#7201a8"
             ],
             [
              0.3333333333333333,
              "#9c179e"
             ],
             [
              0.4444444444444444,
              "#bd3786"
             ],
             [
              0.5555555555555556,
              "#d8576b"
             ],
             [
              0.6666666666666666,
              "#ed7953"
             ],
             [
              0.7777777777777778,
              "#fb9f3a"
             ],
             [
              0.8888888888888888,
              "#fdca26"
             ],
             [
              1,
              "#f0f921"
             ]
            ],
            "type": "contour"
           }
          ],
          "contourcarpet": [
           {
            "colorbar": {
             "outlinewidth": 0,
             "ticks": ""
            },
            "type": "contourcarpet"
           }
          ],
          "heatmap": [
           {
            "colorbar": {
             "outlinewidth": 0,
             "ticks": ""
            },
            "colorscale": [
             [
              0,
              "#0d0887"
             ],
             [
              0.1111111111111111,
              "#46039f"
             ],
             [
              0.2222222222222222,
              "#7201a8"
             ],
             [
              0.3333333333333333,
              "#9c179e"
             ],
             [
              0.4444444444444444,
              "#bd3786"
             ],
             [
              0.5555555555555556,
              "#d8576b"
             ],
             [
              0.6666666666666666,
              "#ed7953"
             ],
             [
              0.7777777777777778,
              "#fb9f3a"
             ],
             [
              0.8888888888888888,
              "#fdca26"
             ],
             [
              1,
              "#f0f921"
             ]
            ],
            "type": "heatmap"
           }
          ],
          "heatmapgl": [
           {
            "colorbar": {
             "outlinewidth": 0,
             "ticks": ""
            },
            "colorscale": [
             [
              0,
              "#0d0887"
             ],
             [
              0.1111111111111111,
              "#46039f"
             ],
             [
              0.2222222222222222,
              "#7201a8"
             ],
             [
              0.3333333333333333,
              "#9c179e"
             ],
             [
              0.4444444444444444,
              "#bd3786"
             ],
             [
              0.5555555555555556,
              "#d8576b"
             ],
             [
              0.6666666666666666,
              "#ed7953"
             ],
             [
              0.7777777777777778,
              "#fb9f3a"
             ],
             [
              0.8888888888888888,
              "#fdca26"
             ],
             [
              1,
              "#f0f921"
             ]
            ],
            "type": "heatmapgl"
           }
          ],
          "histogram": [
           {
            "marker": {
             "pattern": {
              "fillmode": "overlay",
              "size": 10,
              "solidity": 0.2
             }
            },
            "type": "histogram"
           }
          ],
          "histogram2d": [
           {
            "colorbar": {
             "outlinewidth": 0,
             "ticks": ""
            },
            "colorscale": [
             [
              0,
              "#0d0887"
             ],
             [
              0.1111111111111111,
              "#46039f"
             ],
             [
              0.2222222222222222,
              "#7201a8"
             ],
             [
              0.3333333333333333,
              "#9c179e"
             ],
             [
              0.4444444444444444,
              "#bd3786"
             ],
             [
              0.5555555555555556,
              "#d8576b"
             ],
             [
              0.6666666666666666,
              "#ed7953"
             ],
             [
              0.7777777777777778,
              "#fb9f3a"
             ],
             [
              0.8888888888888888,
              "#fdca26"
             ],
             [
              1,
              "#f0f921"
             ]
            ],
            "type": "histogram2d"
           }
          ],
          "histogram2dcontour": [
           {
            "colorbar": {
             "outlinewidth": 0,
             "ticks": ""
            },
            "colorscale": [
             [
              0,
              "#0d0887"
             ],
             [
              0.1111111111111111,
              "#46039f"
             ],
             [
              0.2222222222222222,
              "#7201a8"
             ],
             [
              0.3333333333333333,
              "#9c179e"
             ],
             [
              0.4444444444444444,
              "#bd3786"
             ],
             [
              0.5555555555555556,
              "#d8576b"
             ],
             [
              0.6666666666666666,
              "#ed7953"
             ],
             [
              0.7777777777777778,
              "#fb9f3a"
             ],
             [
              0.8888888888888888,
              "#fdca26"
             ],
             [
              1,
              "#f0f921"
             ]
            ],
            "type": "histogram2dcontour"
           }
          ],
          "mesh3d": [
           {
            "colorbar": {
             "outlinewidth": 0,
             "ticks": ""
            },
            "type": "mesh3d"
           }
          ],
          "parcoords": [
           {
            "line": {
             "colorbar": {
              "outlinewidth": 0,
              "ticks": ""
             }
            },
            "type": "parcoords"
           }
          ],
          "pie": [
           {
            "automargin": true,
            "type": "pie"
           }
          ],
          "scatter": [
           {
            "fillpattern": {
             "fillmode": "overlay",
             "size": 10,
             "solidity": 0.2
            },
            "type": "scatter"
           }
          ],
          "scatter3d": [
           {
            "line": {
             "colorbar": {
              "outlinewidth": 0,
              "ticks": ""
             }
            },
            "marker": {
             "colorbar": {
              "outlinewidth": 0,
              "ticks": ""
             }
            },
            "type": "scatter3d"
           }
          ],
          "scattercarpet": [
           {
            "marker": {
             "colorbar": {
              "outlinewidth": 0,
              "ticks": ""
             }
            },
            "type": "scattercarpet"
           }
          ],
          "scattergeo": [
           {
            "marker": {
             "colorbar": {
              "outlinewidth": 0,
              "ticks": ""
             }
            },
            "type": "scattergeo"
           }
          ],
          "scattergl": [
           {
            "marker": {
             "colorbar": {
              "outlinewidth": 0,
              "ticks": ""
             }
            },
            "type": "scattergl"
           }
          ],
          "scattermapbox": [
           {
            "marker": {
             "colorbar": {
              "outlinewidth": 0,
              "ticks": ""
             }
            },
            "type": "scattermapbox"
           }
          ],
          "scatterpolar": [
           {
            "marker": {
             "colorbar": {
              "outlinewidth": 0,
              "ticks": ""
             }
            },
            "type": "scatterpolar"
           }
          ],
          "scatterpolargl": [
           {
            "marker": {
             "colorbar": {
              "outlinewidth": 0,
              "ticks": ""
             }
            },
            "type": "scatterpolargl"
           }
          ],
          "scatterternary": [
           {
            "marker": {
             "colorbar": {
              "outlinewidth": 0,
              "ticks": ""
             }
            },
            "type": "scatterternary"
           }
          ],
          "surface": [
           {
            "colorbar": {
             "outlinewidth": 0,
             "ticks": ""
            },
            "colorscale": [
             [
              0,
              "#0d0887"
             ],
             [
              0.1111111111111111,
              "#46039f"
             ],
             [
              0.2222222222222222,
              "#7201a8"
             ],
             [
              0.3333333333333333,
              "#9c179e"
             ],
             [
              0.4444444444444444,
              "#bd3786"
             ],
             [
              0.5555555555555556,
              "#d8576b"
             ],
             [
              0.6666666666666666,
              "#ed7953"
             ],
             [
              0.7777777777777778,
              "#fb9f3a"
             ],
             [
              0.8888888888888888,
              "#fdca26"
             ],
             [
              1,
              "#f0f921"
             ]
            ],
            "type": "surface"
           }
          ],
          "table": [
           {
            "cells": {
             "fill": {
              "color": "#EBF0F8"
             },
             "line": {
              "color": "white"
             }
            },
            "header": {
             "fill": {
              "color": "#C8D4E3"
             },
             "line": {
              "color": "white"
             }
            },
            "type": "table"
           }
          ]
         },
         "layout": {
          "annotationdefaults": {
           "arrowcolor": "#2a3f5f",
           "arrowhead": 0,
           "arrowwidth": 1
          },
          "autotypenumbers": "strict",
          "coloraxis": {
           "colorbar": {
            "outlinewidth": 0,
            "ticks": ""
           }
          },
          "colorscale": {
           "diverging": [
            [
             0,
             "#8e0152"
            ],
            [
             0.1,
             "#c51b7d"
            ],
            [
             0.2,
             "#de77ae"
            ],
            [
             0.3,
             "#f1b6da"
            ],
            [
             0.4,
             "#fde0ef"
            ],
            [
             0.5,
             "#f7f7f7"
            ],
            [
             0.6,
             "#e6f5d0"
            ],
            [
             0.7,
             "#b8e186"
            ],
            [
             0.8,
             "#7fbc41"
            ],
            [
             0.9,
             "#4d9221"
            ],
            [
             1,
             "#276419"
            ]
           ],
           "sequential": [
            [
             0,
             "#0d0887"
            ],
            [
             0.1111111111111111,
             "#46039f"
            ],
            [
             0.2222222222222222,
             "#7201a8"
            ],
            [
             0.3333333333333333,
             "#9c179e"
            ],
            [
             0.4444444444444444,
             "#bd3786"
            ],
            [
             0.5555555555555556,
             "#d8576b"
            ],
            [
             0.6666666666666666,
             "#ed7953"
            ],
            [
             0.7777777777777778,
             "#fb9f3a"
            ],
            [
             0.8888888888888888,
             "#fdca26"
            ],
            [
             1,
             "#f0f921"
            ]
           ],
           "sequentialminus": [
            [
             0,
             "#0d0887"
            ],
            [
             0.1111111111111111,
             "#46039f"
            ],
            [
             0.2222222222222222,
             "#7201a8"
            ],
            [
             0.3333333333333333,
             "#9c179e"
            ],
            [
             0.4444444444444444,
             "#bd3786"
            ],
            [
             0.5555555555555556,
             "#d8576b"
            ],
            [
             0.6666666666666666,
             "#ed7953"
            ],
            [
             0.7777777777777778,
             "#fb9f3a"
            ],
            [
             0.8888888888888888,
             "#fdca26"
            ],
            [
             1,
             "#f0f921"
            ]
           ]
          },
          "colorway": [
           "#636efa",
           "#EF553B",
           "#00cc96",
           "#ab63fa",
           "#FFA15A",
           "#19d3f3",
           "#FF6692",
           "#B6E880",
           "#FF97FF",
           "#FECB52"
          ],
          "font": {
           "color": "#2a3f5f"
          },
          "geo": {
           "bgcolor": "white",
           "lakecolor": "white",
           "landcolor": "white",
           "showlakes": true,
           "showland": true,
           "subunitcolor": "#C8D4E3"
          },
          "hoverlabel": {
           "align": "left"
          },
          "hovermode": "closest",
          "mapbox": {
           "style": "light"
          },
          "paper_bgcolor": "white",
          "plot_bgcolor": "white",
          "polar": {
           "angularaxis": {
            "gridcolor": "#EBF0F8",
            "linecolor": "#EBF0F8",
            "ticks": ""
           },
           "bgcolor": "white",
           "radialaxis": {
            "gridcolor": "#EBF0F8",
            "linecolor": "#EBF0F8",
            "ticks": ""
           }
          },
          "scene": {
           "xaxis": {
            "backgroundcolor": "white",
            "gridcolor": "#DFE8F3",
            "gridwidth": 2,
            "linecolor": "#EBF0F8",
            "showbackground": true,
            "ticks": "",
            "zerolinecolor": "#EBF0F8"
           },
           "yaxis": {
            "backgroundcolor": "white",
            "gridcolor": "#DFE8F3",
            "gridwidth": 2,
            "linecolor": "#EBF0F8",
            "showbackground": true,
            "ticks": "",
            "zerolinecolor": "#EBF0F8"
           },
           "zaxis": {
            "backgroundcolor": "white",
            "gridcolor": "#DFE8F3",
            "gridwidth": 2,
            "linecolor": "#EBF0F8",
            "showbackground": true,
            "ticks": "",
            "zerolinecolor": "#EBF0F8"
           }
          },
          "shapedefaults": {
           "line": {
            "color": "#2a3f5f"
           }
          },
          "ternary": {
           "aaxis": {
            "gridcolor": "#DFE8F3",
            "linecolor": "#A2B1C6",
            "ticks": ""
           },
           "baxis": {
            "gridcolor": "#DFE8F3",
            "linecolor": "#A2B1C6",
            "ticks": ""
           },
           "bgcolor": "white",
           "caxis": {
            "gridcolor": "#DFE8F3",
            "linecolor": "#A2B1C6",
            "ticks": ""
           }
          },
          "title": {
           "x": 0.05
          },
          "xaxis": {
           "automargin": true,
           "gridcolor": "#EBF0F8",
           "linecolor": "#EBF0F8",
           "ticks": "",
           "title": {
            "standoff": 15
           },
           "zerolinecolor": "#EBF0F8",
           "zerolinewidth": 2
          },
          "yaxis": {
           "automargin": true,
           "gridcolor": "#EBF0F8",
           "linecolor": "#EBF0F8",
           "ticks": "",
           "title": {
            "standoff": 15
           },
           "zerolinecolor": "#EBF0F8",
           "zerolinewidth": 2
          }
         }
        },
        "title": {
         "text": "Percentage of Missing Values Per Variable"
        },
        "xaxis": {
         "anchor": "y",
         "domain": [
          0,
          1
         ],
         "title": {
          "text": "Percentage of Missing Values (%)"
         }
        },
        "yaxis": {
         "anchor": "x",
         "domain": [
          0,
          1
         ],
         "title": {
          "text": "Variables"
         }
        }
       }
      }
     },
     "metadata": {},
     "output_type": "display_data"
    }
   ],
   "source": [
    "# Calculate percentage of missing values\n",
    "missing_percentage = (train_cleaned.isnull().sum() / len(train_cleaned)) * 100\n",
    "missing_percentage = missing_percentage[missing_percentage > 0]\n",
    "\n",
    "# Convert to DataFrame for visualization\n",
    "missing_df = missing_percentage.reset_index()\n",
    "missing_df.columns = ['Variable', 'Missing Percentage']\n",
    "\n",
    "# Plot the missing values as a vertical bar chart\n",
    "fig = px.bar(\n",
    "    missing_df.sort_values(by='Missing Percentage', ascending=True),\n",
    "    x='Missing Percentage',\n",
    "    y='Variable',\n",
    "    orientation='h',\n",
    "    title='Percentage of Missing Values Per Variable',\n",
    "    labels={'Missing Percentage': 'Missing Percentage (%)', 'Variable': 'Variable'},\n",
    "    template='plotly_white'\n",
    ")\n",
    "\n",
    "fig.update_layout(xaxis_title=\"Percentage of Missing Values (%)\", yaxis_title=\"Variables\")\n",
    "fig.show()"
   ]
  },
  {
   "cell_type": "markdown",
   "metadata": {},
   "source": [
    "#### **Heatmap of Missing Value Correlations**\n",
    "\n",
    "This heatmap shows the correlation between missing values across different variables in the dataset. It helps identify whether the absence of data in one variable is systematically related to missing data in another."
   ]
  },
  {
   "cell_type": "code",
   "execution_count": 79,
   "metadata": {},
   "outputs": [
    {
     "data": {
      "text/plain": [
       "<Axes: >"
      ]
     },
     "execution_count": 79,
     "metadata": {},
     "output_type": "execute_result"
    },
    {
     "data": {
      "image/png": "[encoded data removed]",
      "text/plain": [
       "<Figure size 2000x1200 with 2 Axes>"
      ]
     },
     "metadata": {},
     "output_type": "display_data"
    }
   ],
   "source": [
    "msno.heatmap(train_cleaned)"
   ]
  },
  {
   "cell_type": "markdown",
   "metadata": {},
   "source": [
    "**Interpretation**\n",
    "\n",
    "1. **Strong Correlations**:\n",
    "   - Features related to the basement (`BsmtQual`, `BsmtCond`, `BsmtExposure`, `BsmtFinType1`, `BsmtFinType2`) show a strong correlation (values close to 1). This suggests that missing values in these features occur together, indicating a shared pattern of missingness, likely because some houses lack basements entirely.\n",
    "\n",
    "   - Similarly, garage-related features (`GarageType`, `GarageYrBlt`, `GarageFinish`, `GarageQual`, `GarageCond`) are perfectly correlated, indicating that missing values occur when a house does not have a garage.\n",
    "\n",
    "2. **Weak or No Correlation**:\n",
    "   - `LotFrontage` show weak or no correlation with other variables. This implies that the missingness in these features is independent of other variables and may be treated separately (e.g., using imputation).\n",
    "\n",
    "**Key Insights for Missing Value Processing**\n",
    "\n",
    "- **Basement and Garage Features**: Correlated missingness suggests these features should be imputed together or treated as groups (e.g., imputing missing values as \"No Basement\" or \"No Garage\").\n",
    "\n",
    "- **Independent Features**: Features like `LotFrontage` can be imputed individually as their missingness does not depend on other variables.\n",
    "\n",
    "This heatmap provides critical insights into how to handle missing values effectively by identifying patterns and dependencies."
   ]
  },
  {
   "cell_type": "markdown",
   "metadata": {},
   "source": [
    "#### **`LotFrontage`: Linear Feet of Street Connected to Property**"
   ]
  },
  {
   "cell_type": "code",
   "execution_count": 80,
   "metadata": {},
   "outputs": [
    {
     "name": "stdout",
     "output_type": "stream",
     "text": [
      "Proportion of missing values for LotFrontage: 17.74%\n"
     ]
    }
   ],
   "source": [
    "# Calculate the proportion of missing values for LotFrontage\n",
    "missing_proportion = train['LotFrontage'].isnull().sum() / len(train) * 100\n",
    "print(f\"Proportion of missing values for LotFrontage: {missing_proportion:.2f}%\")"
   ]
  },
  {
   "cell_type": "code",
   "execution_count": 81,
   "metadata": {},
   "outputs": [
    {
     "data": {
      "text/plain": [
       "count    1201.000000\n",
       "mean       70.049958\n",
       "std        24.284752\n",
       "min        21.000000\n",
       "25%        59.000000\n",
       "50%        69.000000\n",
       "75%        80.000000\n",
       "max       313.000000\n",
       "Name: LotFrontage, dtype: float64"
      ]
     },
     "execution_count": 81,
     "metadata": {},
     "output_type": "execute_result"
    }
   ],
   "source": [
    "train['LotFrontage'].describe()"
   ]
  },
  {
   "cell_type": "code",
   "execution_count": 82,
   "metadata": {},
   "outputs": [
    {
     "data": {
      "application/vnd.plotly.v1+json": {
       "config": {
        "plotlyServerURL": "https://plot.ly"
       },
       "data": [
        {
         "alignmentgroup": "True",
         "bingroup": "x",
         "histnorm": "probability density",
         "hovertemplate": "Lot Frontage=%{x}<br>probability density=%{y}<extra></extra>",
         "legendgroup": "",
         "marker": {
          "color": "blue",
          "pattern": {
           "shape": ""
          }
         },
         "name": "",
         "nbinsx": 100,
         "offsetgroup": "",
         "opacity": 0.75,
         "orientation": "v",
         "showlegend": false,
         "type": "histogram",
         "x": [
          65,
          80,
          68,
          60,
          84,
          85,
          75,
          null,
          51,
          50,
          70,
          85,
          null,
          91,
          null,
          51,
          null,
          72,
          66,
          70,
          101,
          57,
          75,
          44,
          null,
          110,
          60,
          98,
          47,
          60,
          50,
          null,
          85,
          70,
          60,
          108,
          112,
          74,
          68,
          65,
          84,
          115,
          null,
          null,
          70,
          61,
          48,
          84,
          33,
          66,
          null,
          52,
          110,
          68,
          60,
          100,
          24,
          89,
          66,
          60,
          63,
          60,
          44,
          50,
          null,
          76,
          null,
          72,
          47,
          81,
          95,
          69,
          74,
          85,
          60,
          21,
          null,
          50,
          72,
          60,
          100,
          32,
          78,
          80,
          null,
          121,
          122,
          40,
          105,
          60,
          60,
          85,
          80,
          60,
          69,
          null,
          78,
          73,
          85,
          77,
          null,
          77,
          64,
          94,
          null,
          75,
          60,
          50,
          85,
          105,
          75,
          null,
          77,
          null,
          61,
          34,
          null,
          74,
          90,
          65,
          null,
          50,
          75,
          55,
          48,
          60,
          null,
          55,
          69,
          69,
          88,
          null,
          75,
          null,
          78,
          80,
          null,
          82,
          73,
          65,
          70,
          78,
          71,
          78,
          70,
          24,
          51,
          null,
          63,
          null,
          120,
          107,
          null,
          null,
          84,
          60,
          60,
          92,
          100,
          134,
          null,
          110,
          95,
          55,
          40,
          62,
          null,
          86,
          62,
          null,
          null,
          141,
          44,
          80,
          47,
          84,
          97,
          null,
          63,
          60,
          null,
          54,
          60,
          63,
          92,
          90,
          null,
          60,
          64,
          41,
          70,
          null,
          68,
          24,
          60,
          24,
          79,
          174,
          92,
          76,
          80,
          75,
          50,
          null,
          50,
          99,
          40,
          null,
          null,
          75,
          67,
          83,
          72,
          43,
          null,
          72,
          65,
          57,
          null,
          43,
          73,
          null,
          85,
          70,
          103,
          21,
          82,
          21,
          70,
          43,
          73,
          174,
          21,
          75,
          null,
          21,
          65,
          null,
          93,
          52,
          75,
          40,
          63,
          75,
          null,
          80,
          69,
          75,
          72,
          null,
          55,
          44,
          65,
          85,
          70,
          66,
          64,
          68,
          80,
          70,
          120,
          69,
          88,
          50,
          30,
          78,
          70,
          60,
          71,
          null,
          84,
          73,
          92,
          80,
          76,
          55,
          129,
          140,
          107,
          83,
          82,
          60,
          34,
          74,
          50,
          35,
          77,
          null,
          null,
          60,
          120,
          55,
          60,
          null,
          80,
          37,
          75,
          66,
          90,
          80,
          90,
          66,
          118,
          70,
          87,
          80,
          116,
          null,
          null,
          90,
          null,
          50,
          65,
          150,
          60,
          71,
          94,
          75,
          90,
          null,
          111,
          99,
          86,
          49,
          96,
          50,
          32,
          80,
          null,
          60,
          null,
          70,
          85,
          59,
          59,
          null,
          86,
          70,
          91,
          66,
          85,
          60,
          null,
          63,
          36,
          65,
          null,
          null,
          36,
          56,
          68,
          null,
          60,
          60,
          60,
          105,
          null,
          44,
          92,
          78,
          null,
          null,
          64,
          21,
          null,
          59,
          null,
          101,
          78,
          null,
          null,
          80,
          50,
          79,
          65,
          null,
          57,
          102,
          88,
          60,
          50,
          60,
          79,
          60,
          null,
          43,
          58,
          72,
          93,
          96,
          50,
          71,
          null,
          null,
          60,
          68,
          60,
          69,
          60,
          65,
          38,
          65,
          60,
          93,
          null,
          null,
          51,
          63,
          109,
          85,
          68,
          100,
          null,
          56,
          59,
          73,
          74,
          86,
          60,
          65,
          78,
          null,
          100,
          80,
          72,
          60,
          null,
          77,
          64,
          130,
          21,
          60,
          24,
          100,
          21,
          43,
          40,
          50,
          40,
          67,
          105,
          92,
          52,
          53,
          70,
          73,
          137,
          null,
          50,
          50,
          70,
          62,
          null,
          75,
          63,
          80,
          34,
          null,
          null,
          null,
          75,
          60,
          60,
          74,
          60,
          null,
          85,
          79,
          98,
          76,
          null,
          92,
          35,
          110,
          41,
          80,
          75,
          105,
          79,
          50,
          98,
          72,
          50,
          32,
          null,
          80,
          79,
          70,
          60,
          21,
          null,
          79,
          105,
          70,
          50,
          60,
          null,
          60,
          65,
          70,
          21,
          75,
          70,
          100,
          24,
          60,
          80,
          75,
          60,
          80,
          75,
          40,
          70,
          71,
          55,
          94,
          null,
          79,
          null,
          53,
          60,
          90,
          50,
          130,
          95,
          62,
          70,
          67,
          58,
          null,
          85,
          60,
          60,
          50,
          74,
          70,
          57,
          null,
          null,
          null,
          85,
          null,
          78,
          34,
          58,
          null,
          70,
          54,
          49,
          75,
          53,
          50,
          87,
          67,
          85,
          58,
          69,
          60,
          57,
          null,
          null,
          77,
          63,
          66,
          null,
          66,
          77,
          70,
          79,
          null,
          74,
          60,
          83,
          76,
          70,
          80,
          52,
          96,
          34,
          81,
          null,
          98,
          81,
          75,
          51,
          88,
          55,
          74,
          65,
          50,
          64,
          97,
          60,
          null,
          88,
          69,
          60,
          53,
          80,
          24,
          74,
          50,
          80,
          30,
          88,
          85,
          82,
          78,
          78,
          61,
          null,
          null,
          null,
          70,
          21,
          80,
          null,
          59,
          90,
          85,
          45,
          90,
          71,
          null,
          80,
          87,
          null,
          80,
          70,
          82,
          50,
          34,
          85,
          80,
          64,
          60,
          51,
          50,
          67,
          53,
          62,
          null,
          75,
          80,
          85,
          null,
          60,
          85,
          70,
          21,
          65,
          60,
          70,
          60,
          91,
          21,
          72,
          60,
          78,
          75,
          null,
          52,
          120,
          90,
          49,
          106,
          null,
          65,
          null,
          80,
          64,
          54,
          null,
          110,
          80,
          24,
          60,
          52,
          80,
          null,
          50,
          55,
          null,
          90,
          58,
          null,
          84,
          null,
          60,
          61,
          null,
          104,
          42,
          60,
          51,
          54,
          50,
          57,
          65,
          59,
          85,
          80,
          82,
          76,
          70,
          70,
          null,
          48,
          65,
          null,
          56,
          66,
          40,
          60,
          null,
          78,
          60,
          80,
          96,
          69,
          null,
          null,
          70,
          60,
          86,
          60,
          null,
          64,
          85,
          52,
          39,
          73,
          75,
          80,
          null,
          60,
          60,
          72,
          60,
          65,
          60,
          65,
          65,
          70,
          41,
          null,
          null,
          65,
          59,
          50,
          55,
          null,
          79,
          80,
          61,
          34,
          68,
          null,
          24,
          65,
          70,
          60,
          72,
          82,
          30,
          75,
          80,
          75,
          70,
          47,
          null,
          67,
          94,
          70,
          110,
          32,
          86,
          100,
          60,
          78,
          63,
          65,
          67,
          null,
          35,
          null,
          60,
          76,
          50,
          null,
          43,
          null,
          92,
          76,
          null,
          70,
          71,
          57,
          104,
          60,
          79,
          40,
          63,
          107,
          75,
          91,
          75,
          144,
          85,
          90,
          78,
          null,
          66,
          75,
          45,
          48,
          null,
          null,
          80,
          44,
          72,
          60,
          null,
          60,
          81,
          114,
          50,
          65,
          null,
          24,
          80,
          30,
          44,
          100,
          75,
          60,
          90,
          21,
          75,
          70,
          null,
          60,
          82,
          80,
          100,
          null,
          75,
          36,
          75,
          80,
          36,
          null,
          53,
          null,
          102,
          null,
          null,
          65,
          80,
          null,
          55,
          75,
          81,
          70,
          72,
          null,
          67,
          85,
          null,
          80,
          60,
          70,
          74,
          60,
          52,
          75,
          94,
          74,
          88,
          null,
          60,
          44,
          null,
          60,
          65,
          50,
          70,
          59,
          95,
          128,
          60,
          70,
          70,
          null,
          64,
          71,
          50,
          64,
          100,
          65,
          null,
          64,
          63,
          50,
          null,
          80,
          116,
          86,
          null,
          149,
          80,
          null,
          51,
          82,
          30,
          21,
          50,
          null,
          103,
          87,
          70,
          67,
          65,
          50,
          79,
          null,
          93,
          null,
          null,
          null,
          73,
          70,
          84,
          63,
          313,
          52,
          67,
          75,
          73,
          null,
          55,
          null,
          42,
          100,
          null,
          98,
          70,
          85,
          65,
          78,
          60,
          60,
          60,
          null,
          35,
          82,
          24,
          70,
          65,
          24,
          50,
          null,
          24,
          122,
          80,
          65,
          130,
          null,
          50,
          75,
          60,
          36,
          55,
          95,
          60,
          null,
          51,
          35,
          68,
          80,
          null,
          98,
          43,
          null,
          75,
          68,
          59,
          83,
          null,
          65,
          82,
          121,
          80,
          68,
          96,
          51,
          null,
          null,
          60,
          64,
          74,
          60,
          75,
          null,
          43,
          65,
          null,
          21,
          43,
          60,
          115,
          75,
          55,
          60,
          60,
          70,
          73,
          null,
          null,
          43,
          60,
          64,
          52,
          43,
          null,
          70,
          73,
          71,
          79,
          21,
          null,
          102,
          null,
          null,
          50,
          null,
          89,
          null,
          21,
          21,
          88,
          null,
          34,
          86,
          80,
          null,
          85,
          57,
          100,
          60,
          73,
          103,
          100,
          68,
          90,
          104,
          43,
          null,
          96,
          null,
          41,
          120,
          85,
          50,
          null,
          80,
          59,
          80,
          42,
          60,
          72,
          78,
          50,
          75,
          74,
          75,
          60,
          null,
          37,
          65,
          80,
          75,
          70,
          80,
          null,
          73,
          null,
          85,
          24,
          37,
          60,
          24,
          60,
          71,
          74,
          78,
          60,
          null,
          50,
          82,
          60,
          61,
          70,
          79,
          24,
          98,
          114,
          168,
          null,
          107,
          null,
          80,
          73,
          66,
          90,
          93,
          null,
          57,
          85,
          70,
          59,
          84,
          null,
          50,
          null,
          60,
          53,
          182,
          59,
          60,
          65,
          63,
          90,
          80,
          57,
          60,
          80,
          54,
          null,
          98,
          60,
          null,
          77,
          null,
          60,
          52,
          null,
          75,
          null,
          50,
          57,
          134,
          90,
          null,
          null,
          90,
          85,
          34,
          92,
          76,
          24,
          null,
          109,
          60,
          null,
          79,
          64,
          58,
          120,
          118,
          76,
          76,
          35,
          138,
          80,
          85,
          37,
          null,
          54,
          77,
          null,
          64,
          160,
          60,
          50,
          60,
          107,
          89,
          68,
          60,
          null,
          24,
          60,
          null,
          80,
          51,
          58,
          65,
          70,
          75,
          71,
          80,
          50,
          75,
          78,
          90,
          null,
          70,
          70,
          85,
          70,
          152,
          50,
          null,
          69,
          99,
          68,
          72,
          52,
          21,
          66,
          55,
          78,
          89,
          60,
          65,
          86,
          72,
          65,
          70,
          null,
          70,
          70,
          null,
          55,
          96,
          36,
          41,
          63,
          64,
          65,
          83,
          85,
          107,
          null,
          78,
          65,
          null,
          60,
          60,
          93,
          null,
          62,
          null,
          60,
          52,
          91,
          56,
          59,
          65,
          null,
          80,
          null,
          60,
          34,
          35,
          60,
          89,
          null,
          78,
          null,
          null,
          null,
          124,
          53,
          95,
          null,
          null,
          75,
          60,
          67,
          50,
          61,
          94,
          50,
          50,
          null,
          null,
          40,
          86,
          null,
          21,
          60,
          78,
          60,
          70,
          80,
          35,
          313,
          75,
          null,
          null,
          92,
          73,
          32,
          108,
          48,
          60,
          100,
          null,
          100,
          68,
          null,
          108,
          60,
          85,
          61,
          47,
          null,
          75,
          70,
          null,
          107,
          50,
          75,
          40,
          70,
          60,
          60,
          63,
          85,
          55,
          67,
          60,
          24,
          80,
          87,
          153,
          95,
          120,
          70,
          66,
          null,
          57,
          85,
          50,
          null,
          93,
          null,
          50,
          91,
          70,
          50,
          56,
          null,
          102,
          null,
          null,
          null,
          129,
          51,
          124,
          null,
          73,
          30,
          null,
          68,
          41,
          null,
          48,
          90,
          80,
          75,
          null,
          85,
          89,
          52,
          60,
          21,
          73,
          45,
          null,
          60,
          null,
          60,
          40,
          80,
          60,
          42,
          60,
          70,
          65,
          68,
          60,
          53,
          88,
          null,
          51,
          60,
          51,
          50,
          62,
          64,
          49,
          60,
          44,
          70,
          null,
          60,
          46,
          79,
          80,
          60,
          88,
          64,
          51,
          60,
          null,
          71,
          null,
          90,
          53,
          37,
          null,
          null,
          80,
          81,
          60,
          60,
          null,
          60,
          null,
          60,
          93,
          80,
          80,
          60,
          96,
          90,
          80,
          79,
          null,
          85,
          null,
          63,
          70,
          null,
          80,
          70,
          21,
          60,
          78,
          35,
          90,
          62,
          62,
          85,
          66,
          68,
          75
         ],
         "xaxis": "x",
         "yaxis": "y"
        },
        {
         "line": {
          "color": "black",
          "width": 2
         },
         "mode": "lines",
         "name": "Density Estimation",
         "type": "scatter",
         "x": [
          21,
          21.29229229229229,
          21.584584584584583,
          21.876876876876878,
          22.16916916916917,
          22.46146146146146,
          22.753753753753752,
          23.046046046046047,
          23.33833833833834,
          23.63063063063063,
          23.922922922922922,
          24.215215215215217,
          24.50750750750751,
          24.7997997997998,
          25.09209209209209,
          25.384384384384383,
          25.676676676676678,
          25.96896896896897,
          26.26126126126126,
          26.553553553553556,
          26.845845845845847,
          27.13813813813814,
          27.43043043043043,
          27.72272272272272,
          28.015015015015017,
          28.30730730730731,
          28.5995995995996,
          28.89189189189189,
          29.184184184184183,
          29.476476476476478,
          29.76876876876877,
          30.06106106106106,
          30.353353353353356,
          30.645645645645644,
          30.93793793793794,
          31.23023023023023,
          31.52252252252252,
          31.814814814814817,
          32.10710710710711,
          32.3993993993994,
          32.691691691691695,
          32.98398398398398,
          33.27627627627628,
          33.568568568568566,
          33.86086086086086,
          34.153153153153156,
          34.44544544544544,
          34.73773773773774,
          35.030030030030034,
          35.32232232232232,
          35.61461461461462,
          35.90690690690691,
          36.1991991991992,
          36.491491491491495,
          36.78378378378378,
          37.07607607607608,
          37.368368368368365,
          37.66066066066066,
          37.952952952952955,
          38.24524524524524,
          38.53753753753754,
          38.82982982982983,
          39.12212212212212,
          39.414414414414416,
          39.70670670670671,
          39.998998998999,
          40.29129129129129,
          40.58358358358359,
          40.87587587587588,
          41.168168168168165,
          41.46046046046046,
          41.752752752752755,
          42.04504504504504,
          42.33733733733734,
          42.62962962962963,
          42.92192192192192,
          43.214214214214216,
          43.50650650650651,
          43.7987987987988,
          44.091091091091094,
          44.38338338338339,
          44.67567567567568,
          44.967967967967965,
          45.26026026026026,
          45.552552552552555,
          45.84484484484484,
          46.13713713713714,
          46.42942942942943,
          46.72172172172172,
          47.014014014014016,
          47.30630630630631,
          47.5985985985986,
          47.890890890890894,
          48.18318318318319,
          48.47547547547548,
          48.767767767767765,
          49.06006006006006,
          49.352352352352355,
          49.64464464464464,
          49.93693693693694,
          50.22922922922923,
          50.52152152152152,
          50.813813813813816,
          51.10610610610611,
          51.3983983983984,
          51.690690690690694,
          51.98298298298299,
          52.27527527527528,
          52.567567567567565,
          52.85985985985987,
          53.152152152152155,
          53.44444444444445,
          53.73673673673674,
          54.02902902902903,
          54.32132132132132,
          54.613613613613616,
          54.90590590590591,
          55.1981981981982,
          55.490490490490494,
          55.78278278278278,
          56.07507507507508,
          56.36736736736737,
          56.65965965965966,
          56.951951951951955,
          57.24424424424425,
          57.53653653653654,
          57.82882882882883,
          58.12112112112112,
          58.413413413413416,
          58.70570570570571,
          58.997997997998,
          59.290290290290294,
          59.58258258258258,
          59.87487487487488,
          60.16716716716717,
          60.45945945945946,
          60.751751751751755,
          61.04404404404405,
          61.33633633633634,
          61.62862862862863,
          61.92092092092092,
          62.213213213213216,
          62.50550550550551,
          62.7977977977978,
          63.090090090090094,
          63.38238238238238,
          63.67467467467468,
          63.96696696696697,
          64.25925925925927,
          64.55155155155155,
          64.84384384384384,
          65.13613613613614,
          65.42842842842843,
          65.72072072072072,
          66.01301301301302,
          66.30530530530531,
          66.5975975975976,
          66.8898898898899,
          67.18218218218219,
          67.47447447447448,
          67.76676676676678,
          68.05905905905905,
          68.35135135135135,
          68.64364364364366,
          68.93593593593593,
          69.22822822822823,
          69.52052052052052,
          69.81281281281281,
          70.10510510510511,
          70.3973973973974,
          70.68968968968969,
          70.98198198198199,
          71.27427427427428,
          71.56656656656656,
          71.85885885885887,
          72.15115115115115,
          72.44344344344344,
          72.73573573573574,
          73.02802802802803,
          73.32032032032032,
          73.61261261261262,
          73.90490490490491,
          74.1971971971972,
          74.4894894894895,
          74.78178178178179,
          75.07407407407408,
          75.36636636636638,
          75.65865865865865,
          75.95095095095095,
          76.24324324324326,
          76.53553553553553,
          76.82782782782783,
          77.12012012012012,
          77.41241241241241,
          77.70470470470471,
          77.996996996997,
          78.28928928928929,
          78.58158158158159,
          78.87387387387388,
          79.16616616616616,
          79.45845845845847,
          79.75075075075075,
          80.04304304304304,
          80.33533533533534,
          80.62762762762763,
          80.91991991991992,
          81.21221221221222,
          81.50450450450451,
          81.7967967967968,
          82.0890890890891,
          82.38138138138139,
          82.67367367367368,
          82.96596596596598,
          83.25825825825825,
          83.55055055055055,
          83.84284284284286,
          84.13513513513513,
          84.42742742742743,
          84.71971971971973,
          85.01201201201202,
          85.30430430430431,
          85.5965965965966,
          85.8888888888889,
          86.18118118118119,
          86.47347347347348,
          86.76576576576576,
          87.05805805805807,
          87.35035035035035,
          87.64264264264264,
          87.93493493493494,
          88.22722722722723,
          88.51951951951952,
          88.81181181181182,
          89.10410410410411,
          89.3963963963964,
          89.6886886886887,
          89.98098098098099,
          90.27327327327328,
          90.56556556556556,
          90.85785785785787,
          91.15015015015015,
          91.44244244244244,
          91.73473473473474,
          92.02702702702703,
          92.31931931931932,
          92.61161161161162,
          92.90390390390391,
          93.1961961961962,
          93.4884884884885,
          93.78078078078079,
          94.07307307307308,
          94.36536536536536,
          94.65765765765767,
          94.94994994994995,
          95.24224224224224,
          95.53453453453454,
          95.82682682682683,
          96.11911911911912,
          96.41141141141142,
          96.70370370370371,
          96.995995995996,
          97.2882882882883,
          97.58058058058059,
          97.87287287287288,
          98.16516516516516,
          98.45745745745747,
          98.74974974974975,
          99.04204204204204,
          99.33433433433434,
          99.62662662662663,
          99.91891891891892,
          100.21121121121122,
          100.50350350350351,
          100.7957957957958,
          101.0880880880881,
          101.38038038038039,
          101.67267267267268,
          101.96496496496496,
          102.25725725725727,
          102.54954954954955,
          102.84184184184184,
          103.13413413413414,
          103.42642642642643,
          103.71871871871872,
          104.01101101101102,
          104.30330330330331,
          104.5955955955956,
          104.8878878878879,
          105.18018018018019,
          105.47247247247248,
          105.76476476476476,
          106.05705705705707,
          106.34934934934935,
          106.64164164164164,
          106.93393393393394,
          107.22622622622623,
          107.51851851851852,
          107.81081081081082,
          108.10310310310311,
          108.3953953953954,
          108.6876876876877,
          108.97997997997999,
          109.27227227227228,
          109.56456456456458,
          109.85685685685687,
          110.14914914914915,
          110.44144144144144,
          110.73373373373374,
          111.02602602602603,
          111.31831831831832,
          111.61061061061062,
          111.90290290290291,
          112.1951951951952,
          112.4874874874875,
          112.77977977977979,
          113.07207207207207,
          113.36436436436438,
          113.65665665665666,
          113.94894894894895,
          114.24124124124124,
          114.53353353353354,
          114.82582582582583,
          115.11811811811812,
          115.41041041041042,
          115.70270270270271,
          115.994994994995,
          116.2872872872873,
          116.57957957957959,
          116.87187187187187,
          117.16416416416418,
          117.45645645645646,
          117.74874874874875,
          118.04104104104104,
          118.33333333333334,
          118.62562562562563,
          118.91791791791792,
          119.21021021021022,
          119.50250250250251,
          119.7947947947948,
          120.0870870870871,
          120.37937937937939,
          120.67167167167167,
          120.96396396396398,
          121.25625625625626,
          121.54854854854855,
          121.84084084084084,
          122.13313313313314,
          122.42542542542543,
          122.71771771771772,
          123.01001001001002,
          123.30230230230231,
          123.5945945945946,
          123.8868868868869,
          124.17917917917919,
          124.47147147147147,
          124.76376376376378,
          125.05605605605606,
          125.34834834834835,
          125.64064064064064,
          125.93293293293294,
          126.22522522522523,
          126.51751751751752,
          126.80980980980982,
          127.10210210210211,
          127.3943943943944,
          127.6866866866867,
          127.97897897897899,
          128.27127127127127,
          128.56356356356358,
          128.85585585585585,
          129.14814814814815,
          129.44044044044045,
          129.73273273273276,
          130.02502502502503,
          130.3173173173173,
          130.6096096096096,
          130.9019019019019,
          131.1941941941942,
          131.4864864864865,
          131.7787787787788,
          132.07107107107106,
          132.36336336336336,
          132.65565565565566,
          132.94794794794797,
          133.24024024024024,
          133.53253253253254,
          133.82482482482482,
          134.11711711711712,
          134.40940940940942,
          134.70170170170172,
          134.993993993994,
          135.2862862862863,
          135.57857857857857,
          135.87087087087087,
          136.16316316316318,
          136.45545545545548,
          136.74774774774775,
          137.04004004004005,
          137.33233233233233,
          137.62462462462463,
          137.91691691691693,
          138.20920920920923,
          138.5015015015015,
          138.79379379379378,
          139.08608608608608,
          139.3783783783784,
          139.6706706706707,
          139.962962962963,
          140.25525525525526,
          140.54754754754754,
          140.83983983983984,
          141.13213213213214,
          141.42442442442444,
          141.71671671671672,
          142.00900900900902,
          142.3013013013013,
          142.5935935935936,
          142.8858858858859,
          143.1781781781782,
          143.47047047047047,
          143.76276276276278,
          144.05505505505505,
          144.34734734734735,
          144.63963963963965,
          144.93193193193196,
          145.22422422422423,
          145.5165165165165,
          145.8088088088088,
          146.1011011011011,
          146.3933933933934,
          146.6856856856857,
          146.977977977978,
          147.27027027027026,
          147.56256256256256,
          147.85485485485486,
          148.14714714714717,
          148.43943943943947,
          148.73173173173174,
          149.02402402402404,
          149.31631631631632,
          149.60860860860862,
          149.90090090090092,
          150.1931931931932,
          150.4854854854855,
          150.7777777777778,
          151.07007007007007,
          151.36236236236238,
          151.65465465465465,
          151.94694694694695,
          152.23923923923925,
          152.53153153153153,
          152.82382382382383,
          153.11611611611613,
          153.4084084084084,
          153.7007007007007,
          153.992992992993,
          154.28528528528528,
          154.57757757757759,
          154.8698698698699,
          155.16216216216216,
          155.45445445445446,
          155.74674674674677,
          156.03903903903904,
          156.33133133133134,
          156.62362362362364,
          156.91591591591592,
          157.20820820820822,
          157.50050050050052,
          157.7927927927928,
          158.0850850850851,
          158.3773773773774,
          158.66966966966967,
          158.96196196196198,
          159.25425425425425,
          159.54654654654655,
          159.83883883883885,
          160.13113113113113,
          160.42342342342343,
          160.71571571571573,
          161.008008008008,
          161.3003003003003,
          161.5925925925926,
          161.88488488488488,
          162.17717717717719,
          162.4694694694695,
          162.76176176176176,
          163.05405405405406,
          163.34634634634637,
          163.63863863863864,
          163.93093093093094,
          164.22322322322324,
          164.51551551551552,
          164.80780780780782,
          165.10010010010012,
          165.3923923923924,
          165.6846846846847,
          165.976976976977,
          166.26926926926927,
          166.56156156156158,
          166.85385385385385,
          167.14614614614615,
          167.43843843843845,
          167.73073073073073,
          168.02302302302303,
          168.31531531531533,
          168.6076076076076,
          168.8998998998999,
          169.1921921921922,
          169.48448448448448,
          169.77677677677679,
          170.0690690690691,
          170.36136136136136,
          170.65365365365366,
          170.94594594594597,
          171.23823823823824,
          171.53053053053054,
          171.82282282282284,
          172.11511511511512,
          172.40740740740742,
          172.69969969969972,
          172.991991991992,
          173.2842842842843,
          173.5765765765766,
          173.86886886886887,
          174.16116116116117,
          174.45345345345348,
          174.74574574574575,
          175.03803803803805,
          175.33033033033033,
          175.62262262262263,
          175.91491491491493,
          176.2072072072072,
          176.4994994994995,
          176.7917917917918,
          177.08408408408408,
          177.37637637637638,
          177.6686686686687,
          177.96096096096096,
          178.25325325325326,
          178.54554554554556,
          178.83783783783784,
          179.13013013013014,
          179.42242242242244,
          179.71471471471472,
          180.00700700700702,
          180.29929929929932,
          180.5915915915916,
          180.8838838838839,
          181.1761761761762,
          181.46846846846847,
          181.76076076076077,
          182.05305305305308,
          182.34534534534535,
          182.63763763763765,
          182.92992992992993,
          183.22222222222223,
          183.51451451451453,
          183.8068068068068,
          184.0990990990991,
          184.3913913913914,
          184.68368368368368,
          184.97597597597598,
          185.2682682682683,
          185.56056056056056,
          185.85285285285286,
          186.14514514514516,
          186.43743743743744,
          186.72972972972974,
          187.02202202202204,
          187.31431431431432,
          187.60660660660662,
          187.89889889889892,
          188.1911911911912,
          188.4834834834835,
          188.7757757757758,
          189.06806806806807,
          189.36036036036037,
          189.65265265265268,
          189.94494494494495,
          190.23723723723725,
          190.52952952952953,
          190.82182182182183,
          191.11411411411413,
          191.4064064064064,
          191.6986986986987,
          191.990990990991,
          192.28328328328328,
          192.57557557557558,
          192.8678678678679,
          193.16016016016016,
          193.45245245245246,
          193.74474474474476,
          194.03703703703704,
          194.32932932932934,
          194.62162162162164,
          194.91391391391392,
          195.20620620620622,
          195.49849849849852,
          195.7907907907908,
          196.0830830830831,
          196.3753753753754,
          196.66766766766767,
          196.95995995995997,
          197.25225225225228,
          197.54454454454455,
          197.83683683683685,
          198.12912912912915,
          198.42142142142143,
          198.71371371371373,
          199.006006006006,
          199.2982982982983,
          199.5905905905906,
          199.88288288288288,
          200.17517517517518,
          200.4674674674675,
          200.75975975975976,
          201.05205205205206,
          201.34434434434436,
          201.63663663663664,
          201.92892892892894,
          202.22122122122124,
          202.51351351351352,
          202.80580580580582,
          203.09809809809812,
          203.3903903903904,
          203.6826826826827,
          203.974974974975,
          204.26726726726727,
          204.55955955955957,
          204.85185185185188,
          205.14414414414415,
          205.43643643643645,
          205.72872872872875,
          206.02102102102103,
          206.31331331331333,
          206.6056056056056,
          206.8978978978979,
          207.1901901901902,
          207.48248248248248,
          207.77477477477478,
          208.0670670670671,
          208.35935935935936,
          208.65165165165166,
          208.94394394394396,
          209.23623623623624,
          209.52852852852854,
          209.82082082082084,
          210.11311311311312,
          210.40540540540542,
          210.69769769769772,
          210.98998998999,
          211.2822822822823,
          211.5745745745746,
          211.86686686686687,
          212.15915915915917,
          212.45145145145148,
          212.74374374374375,
          213.03603603603605,
          213.32832832832835,
          213.62062062062063,
          213.91291291291293,
          214.2052052052052,
          214.4974974974975,
          214.7897897897898,
          215.08208208208208,
          215.37437437437438,
          215.66666666666669,
          215.95895895895896,
          216.25125125125126,
          216.54354354354356,
          216.83583583583584,
          217.12812812812814,
          217.42042042042044,
          217.71271271271272,
          218.00500500500502,
          218.29729729729732,
          218.5895895895896,
          218.8818818818819,
          219.1741741741742,
          219.46646646646647,
          219.75875875875877,
          220.05105105105108,
          220.34334334334335,
          220.63563563563565,
          220.92792792792795,
          221.22022022022023,
          221.51251251251253,
          221.80480480480483,
          222.0970970970971,
          222.3893893893894,
          222.68168168168168,
          222.97397397397398,
          223.26626626626629,
          223.55855855855856,
          223.85085085085086,
          224.14314314314316,
          224.43543543543544,
          224.72772772772774,
          225.02002002002004,
          225.31231231231232,
          225.60460460460462,
          225.89689689689692,
          226.1891891891892,
          226.4814814814815,
          226.7737737737738,
          227.06606606606607,
          227.35835835835837,
          227.65065065065068,
          227.94294294294295,
          228.23523523523525,
          228.52752752752755,
          228.81981981981983,
          229.11211211211213,
          229.40440440440443,
          229.6966966966967,
          229.988988988989,
          230.28128128128128,
          230.57357357357358,
          230.86586586586589,
          231.15815815815816,
          231.45045045045046,
          231.74274274274276,
          232.03503503503504,
          232.32732732732734,
          232.61961961961964,
          232.91191191191191,
          233.20420420420422,
          233.49649649649652,
          233.7887887887888,
          234.0810810810811,
          234.3733733733734,
          234.66566566566567,
          234.95795795795797,
          235.25025025025028,
          235.54254254254255,
          235.83483483483485,
          236.12712712712715,
          236.41941941941943,
          236.71171171171173,
          237.00400400400403,
          237.2962962962963,
          237.5885885885886,
          237.88088088088088,
          238.17317317317318,
          238.46546546546548,
          238.75775775775776,
          239.05005005005006,
          239.34234234234236,
          239.63463463463464,
          239.92692692692694,
          240.21921921921924,
          240.51151151151151,
          240.80380380380382,
          241.09609609609612,
          241.3883883883884,
          241.6806806806807,
          241.972972972973,
          242.26526526526527,
          242.55755755755757,
          242.84984984984987,
          243.14214214214215,
          243.43443443443445,
          243.72672672672675,
          244.01901901901903,
          244.31131131131133,
          244.60360360360363,
          244.8958958958959,
          245.1881881881882,
          245.48048048048048,
          245.77277277277278,
          246.06506506506508,
          246.35735735735736,
          246.64964964964966,
          246.94194194194196,
          247.23423423423424,
          247.52652652652654,
          247.81881881881884,
          248.11111111111111,
          248.40340340340342,
          248.69569569569572,
          248.987987987988,
          249.2802802802803,
          249.5725725725726,
          249.86486486486487,
          250.15715715715717,
          250.44944944944947,
          250.74174174174175,
          251.03403403403405,
          251.32632632632635,
          251.61861861861863,
          251.91091091091093,
          252.20320320320323,
          252.4954954954955,
          252.7877877877878,
          253.0800800800801,
          253.37237237237238,
          253.66466466466468,
          253.95695695695696,
          254.24924924924926,
          254.54154154154156,
          254.83383383383384,
          255.12612612612614,
          255.41841841841844,
          255.7107107107107,
          256.003003003003,
          256.2952952952953,
          256.58758758758756,
          256.8798798798799,
          257.17217217217217,
          257.46446446446447,
          257.7567567567568,
          258.0490490490491,
          258.3413413413414,
          258.6336336336336,
          258.925925925926,
          259.2182182182182,
          259.5105105105105,
          259.80280280280283,
          260.0950950950951,
          260.38738738738743,
          260.6796796796797,
          260.971971971972,
          261.2642642642643,
          261.55655655655653,
          261.8488488488489,
          262.14114114114113,
          262.43343343343344,
          262.72572572572574,
          263.01801801801804,
          263.31031031031034,
          263.6026026026026,
          263.89489489489495,
          264.1871871871872,
          264.4794794794795,
          264.7717717717718,
          265.06406406406404,
          265.3563563563564,
          265.64864864864865,
          265.94094094094095,
          266.23323323323325,
          266.52552552552555,
          266.81781781781785,
          267.1101101101101,
          267.40240240240246,
          267.6946946946947,
          267.986986986987,
          268.2792792792793,
          268.57157157157155,
          268.8638638638639,
          269.15615615615616,
          269.44844844844846,
          269.74074074074076,
          270.033033033033,
          270.32532532532537,
          270.6176176176176,
          270.9099099099099,
          271.2022022022022,
          271.4944944944945,
          271.7867867867868,
          272.07907907907907,
          272.3713713713714,
          272.66366366366367,
          272.955955955956,
          273.2482482482483,
          273.5405405405405,
          273.8328328328329,
          274.1251251251251,
          274.4174174174174,
          274.7097097097097,
          275.00200200200203,
          275.29429429429433,
          275.5865865865866,
          275.87887887887894,
          276.1711711711712,
          276.4634634634635,
          276.7557557557558,
          277.0480480480481,
          277.34034034034033,
          277.63263263263264,
          277.92492492492494,
          278.21721721721724,
          278.50950950950954,
          278.80180180180184,
          279.0940940940941,
          279.3863863863864,
          279.6786786786787,
          279.970970970971,
          280.2632632632633,
          280.5555555555556,
          280.84784784784785,
          281.14014014014015,
          281.43243243243245,
          281.72472472472475,
          282.01701701701705,
          282.3093093093093,
          282.6016016016016,
          282.8938938938939,
          283.1861861861862,
          283.4784784784785,
          283.7707707707708,
          284.06306306306305,
          284.35535535535536,
          284.64764764764766,
          284.93993993993996,
          285.23223223223226,
          285.52452452452457,
          285.8168168168168,
          286.1091091091091,
          286.4014014014014,
          286.6936936936937,
          286.985985985986,
          287.2782782782783,
          287.57057057057057,
          287.86286286286287,
          288.15515515515517,
          288.4474474474475,
          288.7397397397398,
          289.032032032032,
          289.3243243243243,
          289.6166166166166,
          289.9089089089089,
          290.20120120120123,
          290.49349349349353,
          290.7857857857858,
          291.0780780780781,
          291.3703703703704,
          291.6626626626627,
          291.954954954955,
          292.2472472472473,
          292.53953953953953,
          292.83183183183183,
          293.12412412412414,
          293.41641641641644,
          293.70870870870874,
          294.00100100100104,
          294.2932932932933,
          294.5855855855856,
          294.8778778778779,
          295.1701701701702,
          295.4624624624625,
          295.7547547547548,
          296.04704704704704,
          296.33933933933935,
          296.63163163163165,
          296.92392392392395,
          297.21621621621625,
          297.5085085085085,
          297.8008008008008,
          298.0930930930931,
          298.3853853853854,
          298.6776776776777,
          298.96996996997,
          299.26226226226225,
          299.55455455455456,
          299.84684684684686,
          300.13913913913916,
          300.43143143143146,
          300.72372372372377,
          301.016016016016,
          301.3083083083083,
          301.6006006006006,
          301.8928928928929,
          302.1851851851852,
          302.4774774774775,
          302.76976976976977,
          303.06206206206207,
          303.35435435435437,
          303.6466466466467,
          303.938938938939,
          304.2312312312313,
          304.5235235235235,
          304.8158158158158,
          305.1081081081081,
          305.40040040040043,
          305.69269269269273,
          305.984984984985,
          306.2772772772773,
          306.5695695695696,
          306.8618618618619,
          307.1541541541542,
          307.4464464464465,
          307.73873873873873,
          308.03103103103103,
          308.32332332332334,
          308.61561561561564,
          308.90790790790794,
          309.20020020020024,
          309.4924924924925,
          309.7847847847848,
          310.0770770770771,
          310.3693693693694,
          310.6616616616617,
          310.953953953954,
          311.24624624624624,
          311.53853853853855,
          311.83083083083085,
          312.12312312312315,
          312.41541541541545,
          312.7077077077077,
          313
         ],
         "y": [
          0.0025091471449890943,
          0.002557585139040824,
          0.0026030340218601055,
          0.0026454707643285905,
          0.0026849037759532645,
          0.002721372886700903,
          0.002754948902607736,
          0.002785732738591448,
          0.002813854139441458,
          0.002839470007391631,
          0.0028627623618222497,
          0.0028839359633454436,
          0.0029032156406497795,
          0.0029208433638853,
          0.0029370751129406676,
          0.002952177592601077,
          0.002966424849201681,
          0.0029800948449516997,
          0.002993466046571066,
          0.0030068140842470187,
          0.0030204085352057183,
          0.0030345098834468906,
          0.003049366703475499,
          0.0030652131112731125,
          0.0030822665203901617,
          0.0031007257350307853,
          0.0031207694054812235,
          0.0031425548643437533,
          0.0031662173549303115,
          0.0031918696559936036,
          0.0032196020998753083,
          0.003249482974274211,
          0.003281559291311588,
          0.003315857901517985,
          0.003352386924888289,
          0.0033911374663396924,
          0.0034320855788277935,
          0.0034751944340801837,
          0.0035204166584266263,
          0.0035676967895492315,
          0.0036169738091403492,
          0.0036681837064166186,
          0.003721262028152662,
          0.003776146372321847,
          0.0038327787844948144,
          0.0038911080187844596,
          0.003951091628261803,
          0.004012697853320001,
          0.004075907280359553,
          0.00414071424732697,
          0.004207127976990518,
          0.0042751734233130835,
          0.004344891820822654,
          0.004416340931431971,
          0.004489594987673289,
          0.0045647443357542195,
          0.004641894786167119,
          0.004721166683775518,
          0.0048026937133235905,
          0.00488662146014847,
          0.004973105749494166,
          0.005062310791203298,
          0.005154407159671796,
          0.0052495696417515425,
          0.005347974987746724,
          0.0054497996027159015,
          0.0055552172169190325,
          0.005664396575379814,
          0.0057774991871078875,
          0.0058946771744838155,
          0.006016071262594199,
          0.006141808946856393,
          0.006272002875052441,
          0.006406749476856703,
          0.006546127870079941,
          0.006690199068157313,
          0.006839005507909531,
          0.006992570910341392,
          0.007150900480299631,
          0.007313981443287441,
          0.007481783909758294,
          0.007654262048960824,
          0.007831355546051825,
          0.00801299130795479,
          0.008199085375547888,
          0.008389544992447215,
          0.00858427077416522,
          0.008783158916003484,
          0.008986103373924382,
          0.009192997950037972,
          0.009403738213432562,
          0.00961822318800639,
          0.00983635674183527,
          0.010058048617470937,
          0.010283215049420731,
          0.010511778923820376,
          0.010743669445865061,
          0.010978821292702733,
          0.011217173242974528,
          0.01145866628868744,
          0.011703241250275094,
          0.011950835931140269,
          0.012201381863239519,
          0.012454800709936462,
          0.012711000405938798,
          0.01296987112623009,
          0.013231281186068084,
          0.01349507298198409,
          0.01376105908895049,
          0.014029018631222013,
          0.01429869404361382,
          0.014569788336063778,
          0.014841962967206052,
          0.01511483642245912,
          0.01538798357897485,
          0.015660935923957266,
          0.01593318267472694,
          0.016204172828875468,
          0.016473318151445256,
          0.016739997083819964,
          0.017003559536513002,
          0.01726333250588659,
          0.01751862643365289,
          0.017768742208357374,
          0.01801297869050234,
          0.018250640628025765,
          0.018481046816934098,
          0.018703538353357814,
          0.01891748681840414,
          0.019122302236082744,
          0.01931744064732753,
          0.019502411149665874,
          0.01967678226224416,
          0.019840187489422775,
          0.019992329972666163,
          0.020132986139516775,
          0.02026200827956256,
          0.020379325999912178,
          0.02048494653620564,
          0.02057895391897152,
          0.020661507018616607,
          0.020732836514878544,
          0.020793240857656017,
          0.020843081305237664,
          0.020882776142650328,
          0.020912794196778318,
          0.02093364777579542,
          0.020945885168117535,
          0.02095008284044263,
          0.020946837475499264,
          0.020936757987973044,
          0.020920457651911556,
          0.02089854646497558,
          0.02087162386452818,
          0.020840271898138765,
          0.020805048937001046,
          0.020766484005515763,
          0.02072507178429603,
          0.020681268327572843,
          0.02063548751986633,
          0.020588098281232137,
          0.02053942251576123,
          0.020489733784652527,
          0.020439256673305848,
          0.02038816681174419,
          0.02033659149937874,
          0.020284610878752597,
          0.02023225959846068,
          0.020179528902874833,
          0.020126369085507034,
          0.020072692243671687,
          0.020018375274351363,
          0.019963263054622534,
          0.01990717175439852,
          0.01984989223435523,
          0.019791193487452077,
          0.01973082608820014,
          0.01966852561953112,
          0.019604016052569208,
          0.01953701305962312,
          0.019467227245153387,
          0.019394367283210437,
          0.019318142952826675,
          0.019238268065033915,
          0.01915446327657617,
          0.01906645878604583,
          0.018973996908146124,
          0.01887683452119172,
          0.01877474538190297,
          0.018667522300181812,
          0.018554979165012947,
          0.018436952811054255,
          0.018313304714026445,
          0.018183922501792876,
          0.018048721267176222,
          0.01790764466817062,
          0.017760665801363533,
          0.017607787835124965,
          0.01744904439047915,
          0.0172844996595394,
          0.017114248253934525,
          0.016938414778723574,
          0.016757153130816636,
          0.016570645524786643,
          0.016379101253070894,
          0.01618275519178427,
          0.01598186606759361,
          0.015776714505181727,
          0.01556760087864971,
          0.015354842993651628,
          0.01513877363000626,
          0.014919737976913339,
          0.014698090994635465,
          0.014474194737537562,
          0.014248415673685158,
          0.014021122035766427,
          0.01379268123695219,
          0.013563457383468647,
          0.013333808913176561,
          0.013104086386430536,
          0.01287463045197309,
          0.012645770006746859,
          0.012417820564352098,
          0.01219108284257374,
          0.011965841576044287,
          0.011742364555823222,
          0.01152090189355107,
          0.011301685503977097,
          0.011084928796152988,
          0.010870826560495876,
          0.010659555036313174,
          0.010451272142287676,
          0.010246117850877036,
          0.010044214686579756,
          0.00984566832757418,
          0.009650568290303915,
          0.009458988677147439,
          0.009270988968300573,
          0.009086614840388637,
          0.008905898996015266,
          0.008728861990400143,
          0.008555513043371755,
          0.008385850827190946,
          0.008219864222920098,
          0.008057533040241805,
          0.007898828697717446,
          0.007743714862397022,
          0.007592148049401296,
          0.007444078183562296,
          0.007299449126396342,
          0.007158199172581757,
          0.007020261520718623,
          0.006885564723458337,
          0.006754033122129637,
          0.006625587270770391,
          0.006500144354041909,
          0.006377618602875285,
          0.006257921710941098,
          0.006140963254163673,
          0.00602665111458402,
          0.005914891908942692,
          0.005805591421453059,
          0.005698655039400788,
          0.005593988189472425,
          0.005491496772108964,
          0.005391087590718464,
          0.005292668772282961,
          0.005196150175751921,
          0.005101443784640748,
          0.005008464080423052,
          0.004917128393614906,
          0.004827357229870549,
          0.004739074568918456,
          0.004652208134736477,
          0.004566689635960841,
          0.004482454976120784,
          0.004399444433853174,
          0.00431760281375692,
          0.004236879568967474,
          0.004157228896852756,
          0.004078609809432816,
          0.004000986180207013,
          0.00392432676902376,
          0.003848605226461062,
          0.0037738000789072084,
          0.003699894695157798,
          0.0036268772348993414,
          0.0035547405789560374,
          0.003483482240661292,
          0.0034131042572127447,
          0.003343613059404836,
          0.0032750193177391185,
          0.0032073377626147636,
          0.003140586976126924,
          0.0030747891529639268,
          0.003009969828016083,
          0.002946157568592398,
          0.0028833836295932176,
          0.00282168157059979,
          0.0027610868346057424,
          0.0027016362890135504,
          0.0026433677305280267,
          0.0025863193566687914,
          0.0025305292077646454,
          0.0024760345844458565,
          0.0024228714467797743,
          0.0023710738022615506,
          0.0023206730908357774,
          0.002271697575951569,
          0.002224171751308434,
          0.0021781157734036076,
          0.0021335449302205736,
          0.0020904691563823955,
          0.0020488926048238664,
          0.002008813284505944,
          0.001970222772909332,
          0.0019331060110117722,
          0.0018974411871921554,
          0.0018631997150396087,
          0.0018303463084084572,
          0.0017988391552849169,
          0.0017686301901615744,
          0.001739665462693624,
          0.0017118855984837782,
          0.001685226345957976,
          0.0016596192014982623,
          0.0016349921033378552,
          0.001611270183239966,
          0.001588376563713016,
          0.0015662331874957752,
          0.001544761665302614,
          0.0015238841273725633,
          0.0015035240642291075,
          0.0014836071422358068,
          0.0014640619800235558,
          0.0014448208726573074,
          0.001425820451485878,
          0.001407002268951999,
          0.0013883132991993226,
          0.0013697063470608849,
          0.0013511403599076105,
          0.001332580638829497,
          0.0013139989476683993,
          0.00129537352047101,
          0.0012766889699340127,
          0.0012579361013250905,
          0.0012391116381371638,
          0.0012202178673309928,
          0.0012012622134064748,
          0.0011822567516874944,
          0.0011632176720868439,
          0.0011441647052207846,
          0.0011251205230611385,
          0.0011061101263450993,
          0.0010871602307182264,
          0.0010682986630782972,
          0.0010495537788386934,
          0.0010309539098665031,
          0.0010125268517053752,
          0.0009942993974012323,
          0.0009762969238500658,
          0.0009585430351204462,
          0.0009410592657102855,
          0.000923864845217163,
          0.0009069765244719645,
          0.0008904084618414696,
          0.0008741721671774756,
          0.0008582764998042115,
          0.0008427277160130383,
          0.0008275295607885309,
          0.0008126833979325206,
          0.0007981883723854404,
          0.0007840415983649668,
          0.0007702383669424624,
          0.0007567723668452386,
          0.0007436359125898668,
          0.0007308201744981891,
          0.0007183154056997343,
          0.0007061111618568962,
          0.0006941965100364318,
          0.0006825602238663203,
          0.0006711909628360353,
          0.0006600774342967445,
          0.0006492085373750863,
          0.000638573488611473,
          0.000628161929656424,
          0.0006179640177950477,
          0.0006079705004130001,
          0.0005981727747636564,
          0.0005885629345459929,
          0.0005791338048598487,
          0.0005698789670767166,
          0.0005607927750600884,
          0.0005518703640017241,
          0.0005431076529230763,
          0.0005345013416394467,
          0.0005260489027140509,
          0.0005177485686553641,
          0.0005095993143490927,
          0.0005016008344793418,
          0.0004937535154944289,
          0.00048605840152130816,
          0.0004785171535365786,
          0.0004711320010669549,
          0.0004639056857203956,
          0.0004568413959409847,
          0.0004499426925334207,
          0.0004432134247115886,
          0.00043665763668288465,
          0.00043027946507655446,
          0.0004240830278493648,
          0.0004180723056437132,
          0.0004122510169187259,
          0.00040662248851125444,
          0.00040118952359769286,
          0.00039595426930702846,
          0.00039091808646887896,
          0.0003860814241574606,
          0.0003814437018048812,
          0.0003770032016984576,
          0.0003727569746423746,
          0.00036870076145196037,
          0.0003648289327592814,
          0.00036113444934442055,
          0.0003576088448724775,
          0.0003542422325192501,
          0.00035102333651770964,
          0.0003479395491635876,
          0.00034497701329382335,
          0.00034212072970958124,
          0.00033935468846988396,
          0.0003366620224469666,
          0.0003340251810241828,
          0.0003314261213454112,
          0.00032884651410391215,
          0.00032626796049995603,
          0.00032367221670993613,
          0.0003210414220030204,
          0.00031835832652035695,
          0.0003156065146999459,
          0.00031277062038854195,
          0.00030983652982904887,
          0.0003067915689441199,
          0.0003036246716480736,
          0.0003003265263018108,
          0.0002968896978692219,
          0.0002933087238272339,
          0.0002895801824124922,
          0.000285702732342206,
          0.0002816771237109918,
          0.00027750618032558,
          0.00027319475428139476,
          0.00026874965409629155,
          0.0002641795481853162,
          0.00025949484587578823,
          0.00025470755851549537,
          0.00024983114351146974,
          0.00024488033434780725,
          0.0002398709597656499,
          0.0002348197553461309,
          0.0002297441707194472,
          0.00022466217553379945,
          0.0002195920671621241,
          0.00021455228290943727,
          0.00020956121921759306,
          0.00020463706005677504,
          0.00019979761635438085,
          0.00019506017795272782,
          0.00019044137921790942,
          0.00018595707905371607,
          0.00018162225571671282,
          0.00017745091649044203,
          0.00017345602196646562,
          0.00016964942440431902,
          0.00016604181940691395,
          0.00016264270995648515,
          0.00015946038171119276,
          0.00015650188836493923,
          0.00015377304582226084,
          0.00015127843393434063,
          0.00014902140457813181,
          0.00014700409493400627,
          0.00014522744492307473,
          0.0001436912178975956,
          0.00014239402383032848,
          0.00014133334441476024,
          0.00014050555966121505,
          0.000139905975747449,
          0.00013952885405028807,
          0.00013936744144150024,
          0.0001394140020713297,
          0.00013965985098262355,
          0.0001400953899936997,
          0.0001407101463563667,
          0.0001414928147350157,
          0.00014243130306257958,
          0.00014351278280937807,
          0.00014472374415229442,
          0.00014605005645598637,
          0.00014747703437729804,
          0.0001489895097817371,
          0.00015057190952039398,
          0.00015220833896108043,
          0.0001538826710031711,
          0.000155578640136349,
          0.00015727994093403912,
          0.00015897033020763785,
          0.00016063373189256636,
          0.00016225434359633576,
          0.00016381674361655628,
          0.0001653059971371632,
          0.00016670776023750442,
          0.00016800838030425609,
          0.00016919499142259244,
          0.0001702556033421238,
          0.0001711791826654576,
          0.0001719557249926624,
          0.00017257631687234536,
          0.00017303318655754224,
          0.00017331974273937306,
          0.00017343060062983384,
          0.00017336159498282746,
          0.00017310977987460414,
          0.00017267341530569097,
          0.00017205194093024086,
          0.00017124593745942833,
          0.00017025707651689074,
          0.0001690880599402341,
          0.00016774254971754367,
          0.0001662250899164365,
          0.00016454102210086062,
          0.00016269639583379726,
          0.00016069787592940907,
          0.00015855264814419178,
          0.000156268324982599,
          0.00015385285323888553,
          0.00015131442480512795,
          0.00014866139214818612,
          0.00014590218969953478,
          0.00014304526221598548,
          0.00014009900096175902,
          0.00013707168833916367,
          0.00013397145136265882,
          0.00013080622413596464,
          0.00012758371926072903,
          0.00012431140788444909,
          0.00012099650789083952,
          0.00011764597955303544,
          0.00011426652781347827,
          0.0001108646102277772,
          0.00010744644951598761,
          0.00010401804960518691,
          0.00010058521402254728,
          0.00009715356550771654,
          0.00009372856575568488,
          0.00009031553427383854,
          0.0000869196654362754,
          0.00008354604294051298,
          0.00008019965101189531,
          0.00007688538185422721,
          0.00007360803900623539,
          0.0000703723364271602,
          0.00006718289329597306,
          0.00006404422466265663,
          0.00006096072823231055,
          0.00005793666768979745,
          0.00005497615308111788,
          0.0000520831188553142,
          0.000049261300235879264,
          0.000046514208632520245,
          0.00004384510682269462,
          0.000041256984628242756,
          0.000038752535787009036,
          0.000036334136674515084,
          0.00003400382746890152,
          0.00003176329627624126,
          0.000029613866646035358,
          0.000027556488811341056,
          0.000025591734887854742,
          0.000023719798164452142,
          0.00002194049651724766,
          0.000020253279882845728,
          0.00001865724163662802,
          0.000017151133640650465,
          0.000015733384654744136,
          0.000014402121744913455,
          0.000013155194275953464,
          0.000011990200040748665,
          0.0000109045130569699,
          0.000009895312552483738,
          0.00000895961266306967,
          0.0000080942923790139,
          0.000007296125299679783,
          0.0000065618087858685506,
          0.000005887992137269066,
          0.000005271303465019338,
          0.000004708374975884935,
          0.000004195866433317063,
          0.000003730486610304151,
          0.000003309012598198718,
          0.0000029283068834487734,
          0.0000025853321493980535,
          0.000002277163802237361,
          0.0000020010002581369304,
          0.0000017541710620994276,
          0.0000015341429378385587,
          0.0000013385238918606144,
          0.0000011650655138931213,
          0.0000010116636299895044,
          8.76357474260916e-7,
          7.573275505596283e-7,
          6.52892356945449e-7,
          5.61504143833624e-7,
          4.817438718138518e-7,
          4.123155277203326e-7,
          3.520399480965985e-7,
          2.998482882010344e-7,
          2.547752625767285e-7,
          2.159522703697413e-7,
          1.8260050539200392e-7,
          1.5402413771278172e-7,
          1.2960364060690069e-7,
          1.0878932422200497e-7,
          9.109512553919153e-8,
          7.609269323597733e-8,
          6.340579602173665e-8,
          5.270507396946261e-8,
          4.3703144347637354e-8,
          3.615006646634658e-8,
          2.982916407260378e-8,
          2.4553198821210352e-8,
          2.016088425391256e-8,
          1.6513726473628617e-8,
          1.3493175227051256e-8,
          1.099806732768587e-8,
          8.942343180526024e-9,
          7.25301652736173e-9,
          5.868377339112111e-9,
          4.736407963237627e-9,
          3.813393120176646e-9,
          3.062705068596033e-9,
          2.4537461672938727e-9,
          1.961032100686475e-9,
          1.56340016047515e-9,
          1.243328150329363e-9,
          9.863506714382726e-10,
          7.805607285046236e-10,
          6.161857474142469e-10,
          4.852282013476437e-10,
          3.811620896481018e-10,
          2.9867749507212664e-10,
          2.334663549757301e-10,
          1.820434179576442e-10,
          1.415971190262356e-10,
          1.0986579469762763e-10,
          8.503527708364106e-11,
          6.565445646713424e-11,
          5.0565889242921896e-11,
          3.884895700734821e-11,
          2.9773457821966366e-11,
          2.276183713556996e-11,
          1.735854833975646e-11,
          1.320527611167533e-11,
          1.0020963985568722e-11,
          7.585765131569105e-12,
          5.7281859319445025e-12,
          4.31481912784644e-12,
          3.2421702268622883e-12,
          2.4301703488810247e-12,
          1.8170432655261372e-12,
          1.3552562797925075e-12,
          1.0083357440586501e-12,
          7.483701189311033e-13,
          5.540579947497795e-13,
          4.091866876324381e-13,
          3.0144995438587884e-13,
          2.2153195510616414e-13,
          1.6239959669382444e-13,
          1.1875745962002506e-13,
          8.662918280148213e-14,
          6.303690523257735e-14,
          4.5756508627768714e-14,
          3.3131277901932874e-14,
          2.3930446019448085e-14,
          1.7242120739094332e-14,
          1.239246897222706e-14,
          8.884894090296762e-15,
          6.35439072138384e-15,
          4.533387151873446e-15,
          3.226256757206652e-15,
          2.2903521343521995e-15,
          1.6219325722995929e-15,
          1.1457517488948487e-15,
          8.073752848727181e-16,
          5.675283410595284e-16,
          3.9794846314052524e-16,
          2.783513151414746e-16,
          1.9421684076080687e-16,
          1.3517850826241073e-16,
          9.385460038659344e-17,
          6.500258479639183e-17,
          4.490894262296478e-17,
          3.095010811251586e-17,
          2.12774042300303e-17,
          1.4591577565155106e-17,
          9.981894556128479e-18,
          6.811626565056089e-18,
          4.636772659714808e-18,
          3.1485304113012883e-18,
          2.1326868748481126e-18,
          1.4410312922825043e-18,
          9.712853464615142e-19,
          6.530514062239512e-19,
          4.38000903624469e-19,
          2.930419174360385e-19,
          1.955742123151733e-19,
          1.3020286245401428e-19,
          8.646823074046268e-20,
          5.728220278320788e-20,
          3.785384012087639e-20,
          2.4953258802932723e-20,
          1.6408606167931665e-20,
          1.0763244449253564e-20,
          7.042742458815054e-21,
          4.5969258729089165e-21,
          2.9930934952412606e-21,
          1.9440174268997117e-21,
          1.2595259274090906e-21,
          8.140313986219043e-22,
          5.248102245433368e-22,
          3.3751299882526356e-22,
          2.1652388190607937e-22,
          1.385632910367681e-22,
          8.845403697940162e-23,
          5.632668735499594e-23,
          3.577979477852439e-23,
          2.2671933666414096e-23,
          1.433066556924157e-23,
          9.035896370073607e-24,
          5.6833343070954795e-24,
          3.5658432267145554e-24,
          2.231764516224502e-24,
          1.3933543294740774e-24,
          8.677644504242536e-25,
          5.390998578209719e-25,
          3.340901408363338e-25,
          2.0653096827795005e-25,
          1.2736021448030322e-25,
          7.834467102413343e-26,
          4.807421699612942e-26,
          2.942673350135017e-26,
          1.7967968238645654e-26,
          1.0944173377951417e-26,
          6.649577253655077e-27,
          4.030251843871031e-27,
          2.4366739069198398e-27,
          1.4695681065412285e-27,
          8.841156985075815e-28,
          5.3058573107627795e-28,
          3.1763556017851333e-28,
          1.8968359461696828e-28,
          1.1299457226231784e-28,
          6.71448506840314e-29,
          3.9801152685593726e-29,
          2.3534657094666946e-29,
          1.388205834851373e-29,
          8.168591367192602e-30,
          4.795443538624378e-30,
          2.809458625628598e-30,
          1.6440042789694453e-30,
          9.633725458106489e-31,
          5.696788748817916e-31,
          3.474544145550105e-31,
          2.310218357907751e-31,
          1.8579378453358767e-31,
          1.983738605973023e-31,
          2.7273619938521374e-31,
          4.3143696439018935e-31,
          7.22213490107436e-31,
          1.2318296601633555e-30,
          2.111031760305269e-30,
          3.6175202451161994e-30,
          6.1887181109523114e-30,
          1.056409073485316e-29,
          1.7989890087328345e-29,
          3.0560784352889256e-29,
          5.178830506379871e-29,
          8.754419280457128e-29,
          1.4762180660096184e-28,
          2.4831383351728823e-28,
          4.166567663080526e-28,
          6.974017866904726e-28,
          1.164433667842645e-27,
          1.9394274138821728e-27,
          3.2222511175517725e-27,
          5.3403818621828294e-27,
          8.829016280619859e-27,
          1.4560604287923583e-26,
          2.395375244846381e-26,
          3.930925299606512e-26,
          6.434919242330644e-26,
          1.0507961843010052e-25,
          1.7116735882529877e-25,
          2.7813169842657885e-25,
          4.508240772436338e-25,
          7.289383395545676e-25,
          1.1757136490980294e-24,
          1.89164398178283e-24,
          3.0360178610109405e-24,
          4.8606720200090546e-24,
          7.762746228975155e-24,
          1.2366919575560582e-23,
          1.9653267266924717e-23,
          3.115552400554849e-23,
          4.926771676608233e-23,
          7.771715396784534e-23,
          1.2229210385612206e-22,
          1.9195835558036297e-22,
          3.0056797225943516e-22,
          4.694674195121894e-22,
          7.314679316809295e-22,
          1.1368736479868255e-21,
          1.7626098186682662e-21,
          2.7260087549497646e-21,
          4.205575012907821e-21,
          6.472180151152864e-21,
          9.935801052258303e-21,
          1.521536071339793e-20,
          2.3242813351227463e-20,
          3.54178515056493e-20,
          5.383724242931803e-20,
          8.163388727120585e-20,
          1.2347675963525812e-19,
          1.863060879168142e-19,
          2.8041158056025716e-19,
          4.210095238146552e-19,
          6.305433813340747e-19,
          9.420307916640291e-19,
          1.403919809185781e-18,
          2.0871159712043372e-18,
          3.09512317487141e-18,
          4.578638637929227e-18,
          6.756501488342172e-18,
          9.945679519836033e-18,
          1.4604077232848004e-17,
          2.1391481205370274e-17,
          3.125609151862543e-17,
          4.5557046269661886e-17,
          6.623743757463876e-17,
          9.606795901601516e-17,
          1.3898908029524488e-16,
          2.0059027526508416e-16,
          2.887793560731291e-16,
          4.1471475677914203e-16,
          5.941004902061454e-16,
          8.489799004406984e-16,
          1.2102134697437854e-15,
          1.720892066183228e-15,
          2.4410257375324357e-15,
          3.4539668165097383e-15,
          4.875184311098891e-15,
          6.864216831656064e-15,
          9.640909909640763e-15,
          1.350741152168286e-14,
          1.887788405706453e-14,
          2.6318526674727117e-14,
          3.6601333541331584e-14,
          5.077609762316042e-14,
          7.026657865555405e-14,
          9.699857889456865e-14,
          1.3357002627407806e-13,
          1.8347619601313926e-13,
          2.514070890330376e-13,
          3.4363895348897814e-13,
          4.685482629731417e-13,
          6.37284495601825e-13,
          8.646482153238479e-13,
          1.1702337582333605e-12,
          1.5799119034945135e-12,
          2.1277480261487666e-12,
          2.8584763117027405e-12,
          3.830681770254232e-12,
          5.120880348284886e-12,
          6.828734977633322e-12,
          9.083703790899886e-12,
          1.205348816736605e-11,
          1.5954735322946214e-11,
          2.106655580895717e-11,
          2.7747543988864503e-11,
          3.6457143280083576e-11,
          4.7782382192430884e-11,
          6.247122706950283e-11,
          8.147405866931668e-11,
          1.0599508867116036e-10,
          1.3755589587645874e-10,
          1.7807368791902447e-10,
          2.2995739093312521e-10,
          2.9622524557311036e-10,
          3.806482521490831e-10,
          4.879245697785317e-10,
          6.238908436917008e-10,
          7.957774202226866e-10,
          1.0125155189710213e-9,
          1.2851056734445538e-9,
          1.627058130879932e-9,
          2.0549174223150985e-9,
          2.5888849758130005e-9,
          3.2535554456452815e-9,
          4.078784360148011e-9,
          5.100706737003342e-9,
          6.362928456186653e-9,
          7.917914389033007e-9,
          9.82859951892331e-9,
          1.217025150666603e-8,
          1.5032615291936807e-8,
          1.8522372308718126e-8,
          2.2765948641628417e-8,
          2.7912707861330743e-8,
          3.413856523622578e-8,
          4.1650060395269935e-8,
          5.06889251700119e-8,
          6.153718211663546e-8,
          7.452280694387173e-8,
          9.002598457423484e-8,
          1.0848598366290584e-7,
          1.3040866790849064e-7,
          1.5637465423503024e-7,
          1.870481177368328e-7,
          2.231862310071376e-7,
          2.6564921099362374e-7,
          3.154109297480029e-7,
          3.735700263172753e-7,
          4.4136143556943515e-7,
          5.201682260274877e-7,
          6.115336129510875e-7,
          7.171729851847209e-7,
          8.389857550110415e-7,
          9.790668098297978e-7,
          0.0000011397173134615985,
          0.0000013234545738866709,
          0.0000015330206640255876,
          0.0000017713894536035216,
          0.0000020417716841699363,
          0.000002347617697008891,
          0.0000026926174060892016,
          0.0000030806970965280124,
          0.0000035160126244631825,
          0.000004002938597932171,
          0.00000454605313146921,
          0.000005150117790727398,
          0.000005820052378421958,
          0.0000065609042600618604,
          0.000007377811987819388,
          0.000008275963053788956,
          0.000009260545689780105,
          0.000010336694729345628,
          0.000011509431658207762,
          0.000012783599100507452,
          0.0000141637901188099,
          0.000015654272843574343,
          0.00001725891109045014,
          0.000018981081768528434,
          0.000020823590026368,
          0.000022788583221802534,
          0.00002487746493250484,
          0.000027090810343144782,
          0.000029428284447789623,
          0.000031888564589070405,
          0.00003446926891474067,
          0.0000371668923641372,
          0.000039976751798576184,
          0.00004289294185825904,
          0.000045908303061845254,
          0.00004901440356226832,
          0.00005220153583311297,
          0.0000554587293845216,
          0.00005877378039751384,
          0.00006213329892326023,
          0.00006552277402261475,
          0.00006892665692547881,
          0.00007232846197455571,
          0.00007571088478985444,
          0.00007905593675560777,
          0.00008234509459738332,
          0.00008555946349168549,
          0.00008867995184104156,
          0.00009168745556223211,
          0.00009456304948136362,
          0.00009728818321396735,
          0.00009984487873748222,
          0.0001022159267428493,
          0.0001043850787857397,
          0.00010633723224941624,
          0.00010805860518205055,
          0.00010953689818190676,
          0.0001107614406729673,
          0.0001117233191387541,
          0.00011241548515917081,
          0.00011283284141880883,
          0.00011297230421865395
         ]
        }
       ],
       "layout": {
        "barmode": "relative",
        "legend": {
         "tracegroupgap": 0
        },
        "showlegend": true,
        "template": {
         "data": {
          "bar": [
           {
            "error_x": {
             "color": "#2a3f5f"
            },
            "error_y": {
             "color": "#2a3f5f"
            },
            "marker": {
             "line": {
              "color": "white",
              "width": 0.5
             },
             "pattern": {
              "fillmode": "overlay",
              "size": 10,
              "solidity": 0.2
             }
            },
            "type": "bar"
           }
          ],
          "barpolar": [
           {
            "marker": {
             "line": {
              "color": "white",
              "width": 0.5
             },
             "pattern": {
              "fillmode": "overlay",
              "size": 10,
              "solidity": 0.2
             }
            },
            "type": "barpolar"
           }
          ],
          "carpet": [
           {
            "aaxis": {
             "endlinecolor": "#2a3f5f",
             "gridcolor": "#C8D4E3",
             "linecolor": "#C8D4E3",
             "minorgridcolor": "#C8D4E3",
             "startlinecolor": "#2a3f5f"
            },
            "baxis": {
             "endlinecolor": "#2a3f5f",
             "gridcolor": "#C8D4E3",
             "linecolor": "#C8D4E3",
             "minorgridcolor": "#C8D4E3",
             "startlinecolor": "#2a3f5f"
            },
            "type": "carpet"
           }
          ],
          "choropleth": [
           {
            "colorbar": {
             "outlinewidth": 0,
             "ticks": ""
            },
            "type": "choropleth"
           }
          ],
          "contour": [
           {
            "colorbar": {
             "outlinewidth": 0,
             "ticks": ""
            },
            "colorscale": [
             [
              0,
              "#0d0887"
             ],
             [
              0.1111111111111111,
              "#46039f"
             ],
             [
              0.2222222222222222,
              "#7201a8"
             ],
             [
              0.3333333333333333,
              "#9c179e"
             ],
             [
              0.4444444444444444,
              "#bd3786"
             ],
             [
              0.5555555555555556,
              "#d8576b"
             ],
             [
              0.6666666666666666,
              "#ed7953"
             ],
             [
              0.7777777777777778,
              "#fb9f3a"
             ],
             [
              0.8888888888888888,
              "#fdca26"
             ],
             [
              1,
              "#f0f921"
             ]
            ],
            "type": "contour"
           }
          ],
          "contourcarpet": [
           {
            "colorbar": {
             "outlinewidth": 0,
             "ticks": ""
            },
            "type": "contourcarpet"
           }
          ],
          "heatmap": [
           {
            "colorbar": {
             "outlinewidth": 0,
             "ticks": ""
            },
            "colorscale": [
             [
              0,
              "#0d0887"
             ],
             [
              0.1111111111111111,
              "#46039f"
             ],
             [
              0.2222222222222222,
              "#7201a8"
             ],
             [
              0.3333333333333333,
              "#9c179e"
             ],
             [
              0.4444444444444444,
              "#bd3786"
             ],
             [
              0.5555555555555556,
              "#d8576b"
             ],
             [
              0.6666666666666666,
              "#ed7953"
             ],
             [
              0.7777777777777778,
              "#fb9f3a"
             ],
             [
              0.8888888888888888,
              "#fdca26"
             ],
             [
              1,
              "#f0f921"
             ]
            ],
            "type": "heatmap"
           }
          ],
          "heatmapgl": [
           {
            "colorbar": {
             "outlinewidth": 0,
             "ticks": ""
            },
            "colorscale": [
             [
              0,
              "#0d0887"
             ],
             [
              0.1111111111111111,
              "#46039f"
             ],
             [
              0.2222222222222222,
              "#7201a8"
             ],
             [
              0.3333333333333333,
              "#9c179e"
             ],
             [
              0.4444444444444444,
              "#bd3786"
             ],
             [
              0.5555555555555556,
              "#d8576b"
             ],
             [
              0.6666666666666666,
              "#ed7953"
             ],
             [
              0.7777777777777778,
              "#fb9f3a"
             ],
             [
              0.8888888888888888,
              "#fdca26"
             ],
             [
              1,
              "#f0f921"
             ]
            ],
            "type": "heatmapgl"
           }
          ],
          "histogram": [
           {
            "marker": {
             "pattern": {
              "fillmode": "overlay",
              "size": 10,
              "solidity": 0.2
             }
            },
            "type": "histogram"
           }
          ],
          "histogram2d": [
           {
            "colorbar": {
             "outlinewidth": 0,
             "ticks": ""
            },
            "colorscale": [
             [
              0,
              "#0d0887"
             ],
             [
              0.1111111111111111,
              "#46039f"
             ],
             [
              0.2222222222222222,
              "#7201a8"
             ],
             [
              0.3333333333333333,
              "#9c179e"
             ],
             [
              0.4444444444444444,
              "#bd3786"
             ],
             [
              0.5555555555555556,
              "#d8576b"
             ],
             [
              0.6666666666666666,
              "#ed7953"
             ],
             [
              0.7777777777777778,
              "#fb9f3a"
             ],
             [
              0.8888888888888888,
              "#fdca26"
             ],
             [
              1,
              "#f0f921"
             ]
            ],
            "type": "histogram2d"
           }
          ],
          "histogram2dcontour": [
           {
            "colorbar": {
             "outlinewidth": 0,
             "ticks": ""
            },
            "colorscale": [
             [
              0,
              "#0d0887"
             ],
             [
              0.1111111111111111,
              "#46039f"
             ],
             [
              0.2222222222222222,
              "#7201a8"
             ],
             [
              0.3333333333333333,
              "#9c179e"
             ],
             [
              0.4444444444444444,
              "#bd3786"
             ],
             [
              0.5555555555555556,
              "#d8576b"
             ],
             [
              0.6666666666666666,
              "#ed7953"
             ],
             [
              0.7777777777777778,
              "#fb9f3a"
             ],
             [
              0.8888888888888888,
              "#fdca26"
             ],
             [
              1,
              "#f0f921"
             ]
            ],
            "type": "histogram2dcontour"
           }
          ],
          "mesh3d": [
           {
            "colorbar": {
             "outlinewidth": 0,
             "ticks": ""
            },
            "type": "mesh3d"
           }
          ],
          "parcoords": [
           {
            "line": {
             "colorbar": {
              "outlinewidth": 0,
              "ticks": ""
             }
            },
            "type": "parcoords"
           }
          ],
          "pie": [
           {
            "automargin": true,
            "type": "pie"
           }
          ],
          "scatter": [
           {
            "fillpattern": {
             "fillmode": "overlay",
             "size": 10,
             "solidity": 0.2
            },
            "type": "scatter"
           }
          ],
          "scatter3d": [
           {
            "line": {
             "colorbar": {
              "outlinewidth": 0,
              "ticks": ""
             }
            },
            "marker": {
             "colorbar": {
              "outlinewidth": 0,
              "ticks": ""
             }
            },
            "type": "scatter3d"
           }
          ],
          "scattercarpet": [
           {
            "marker": {
             "colorbar": {
              "outlinewidth": 0,
              "ticks": ""
             }
            },
            "type": "scattercarpet"
           }
          ],
          "scattergeo": [
           {
            "marker": {
             "colorbar": {
              "outlinewidth": 0,
              "ticks": ""
             }
            },
            "type": "scattergeo"
           }
          ],
          "scattergl": [
           {
            "marker": {
             "colorbar": {
              "outlinewidth": 0,
              "ticks": ""
             }
            },
            "type": "scattergl"
           }
          ],
          "scattermapbox": [
           {
            "marker": {
             "colorbar": {
              "outlinewidth": 0,
              "ticks": ""
             }
            },
            "type": "scattermapbox"
           }
          ],
          "scatterpolar": [
           {
            "marker": {
             "colorbar": {
              "outlinewidth": 0,
              "ticks": ""
             }
            },
            "type": "scatterpolar"
           }
          ],
          "scatterpolargl": [
           {
            "marker": {
             "colorbar": {
              "outlinewidth": 0,
              "ticks": ""
             }
            },
            "type": "scatterpolargl"
           }
          ],
          "scatterternary": [
           {
            "marker": {
             "colorbar": {
              "outlinewidth": 0,
              "ticks": ""
             }
            },
            "type": "scatterternary"
           }
          ],
          "surface": [
           {
            "colorbar": {
             "outlinewidth": 0,
             "ticks": ""
            },
            "colorscale": [
             [
              0,
              "#0d0887"
             ],
             [
              0.1111111111111111,
              "#46039f"
             ],
             [
              0.2222222222222222,
              "#7201a8"
             ],
             [
              0.3333333333333333,
              "#9c179e"
             ],
             [
              0.4444444444444444,
              "#bd3786"
             ],
             [
              0.5555555555555556,
              "#d8576b"
             ],
             [
              0.6666666666666666,
              "#ed7953"
             ],
             [
              0.7777777777777778,
              "#fb9f3a"
             ],
             [
              0.8888888888888888,
              "#fdca26"
             ],
             [
              1,
              "#f0f921"
             ]
            ],
            "type": "surface"
           }
          ],
          "table": [
           {
            "cells": {
             "fill": {
              "color": "#EBF0F8"
             },
             "line": {
              "color": "white"
             }
            },
            "header": {
             "fill": {
              "color": "#C8D4E3"
             },
             "line": {
              "color": "white"
             }
            },
            "type": "table"
           }
          ]
         },
         "layout": {
          "annotationdefaults": {
           "arrowcolor": "#2a3f5f",
           "arrowhead": 0,
           "arrowwidth": 1
          },
          "autotypenumbers": "strict",
          "coloraxis": {
           "colorbar": {
            "outlinewidth": 0,
            "ticks": ""
           }
          },
          "colorscale": {
           "diverging": [
            [
             0,
             "#8e0152"
            ],
            [
             0.1,
             "#c51b7d"
            ],
            [
             0.2,
             "#de77ae"
            ],
            [
             0.3,
             "#f1b6da"
            ],
            [
             0.4,
             "#fde0ef"
            ],
            [
             0.5,
             "#f7f7f7"
            ],
            [
             0.6,
             "#e6f5d0"
            ],
            [
             0.7,
             "#b8e186"
            ],
            [
             0.8,
             "#7fbc41"
            ],
            [
             0.9,
             "#4d9221"
            ],
            [
             1,
             "#276419"
            ]
           ],
           "sequential": [
            [
             0,
             "#0d0887"
            ],
            [
             0.1111111111111111,
             "#46039f"
            ],
            [
             0.2222222222222222,
             "#7201a8"
            ],
            [
             0.3333333333333333,
             "#9c179e"
            ],
            [
             0.4444444444444444,
             "#bd3786"
            ],
            [
             0.5555555555555556,
             "#d8576b"
            ],
            [
             0.6666666666666666,
             "#ed7953"
            ],
            [
             0.7777777777777778,
             "#fb9f3a"
            ],
            [
             0.8888888888888888,
             "#fdca26"
            ],
            [
             1,
             "#f0f921"
            ]
           ],
           "sequentialminus": [
            [
             0,
             "#0d0887"
            ],
            [
             0.1111111111111111,
             "#46039f"
            ],
            [
             0.2222222222222222,
             "#7201a8"
            ],
            [
             0.3333333333333333,
             "#9c179e"
            ],
            [
             0.4444444444444444,
             "#bd3786"
            ],
            [
             0.5555555555555556,
             "#d8576b"
            ],
            [
             0.6666666666666666,
             "#ed7953"
            ],
            [
             0.7777777777777778,
             "#fb9f3a"
            ],
            [
             0.8888888888888888,
             "#fdca26"
            ],
            [
             1,
             "#f0f921"
            ]
           ]
          },
          "colorway": [
           "#636efa",
           "#EF553B",
           "#00cc96",
           "#ab63fa",
           "#FFA15A",
           "#19d3f3",
           "#FF6692",
           "#B6E880",
           "#FF97FF",
           "#FECB52"
          ],
          "font": {
           "color": "#2a3f5f"
          },
          "geo": {
           "bgcolor": "white",
           "lakecolor": "white",
           "landcolor": "white",
           "showlakes": true,
           "showland": true,
           "subunitcolor": "#C8D4E3"
          },
          "hoverlabel": {
           "align": "left"
          },
          "hovermode": "closest",
          "mapbox": {
           "style": "light"
          },
          "paper_bgcolor": "white",
          "plot_bgcolor": "white",
          "polar": {
           "angularaxis": {
            "gridcolor": "#EBF0F8",
            "linecolor": "#EBF0F8",
            "ticks": ""
           },
           "bgcolor": "white",
           "radialaxis": {
            "gridcolor": "#EBF0F8",
            "linecolor": "#EBF0F8",
            "ticks": ""
           }
          },
          "scene": {
           "xaxis": {
            "backgroundcolor": "white",
            "gridcolor": "#DFE8F3",
            "gridwidth": 2,
            "linecolor": "#EBF0F8",
            "showbackground": true,
            "ticks": "",
            "zerolinecolor": "#EBF0F8"
           },
           "yaxis": {
            "backgroundcolor": "white",
            "gridcolor": "#DFE8F3",
            "gridwidth": 2,
            "linecolor": "#EBF0F8",
            "showbackground": true,
            "ticks": "",
            "zerolinecolor": "#EBF0F8"
           },
           "zaxis": {
            "backgroundcolor": "white",
            "gridcolor": "#DFE8F3",
            "gridwidth": 2,
            "linecolor": "#EBF0F8",
            "showbackground": true,
            "ticks": "",
            "zerolinecolor": "#EBF0F8"
           }
          },
          "shapedefaults": {
           "line": {
            "color": "#2a3f5f"
           }
          },
          "ternary": {
           "aaxis": {
            "gridcolor": "#DFE8F3",
            "linecolor": "#A2B1C6",
            "ticks": ""
           },
           "baxis": {
            "gridcolor": "#DFE8F3",
            "linecolor": "#A2B1C6",
            "ticks": ""
           },
           "bgcolor": "white",
           "caxis": {
            "gridcolor": "#DFE8F3",
            "linecolor": "#A2B1C6",
            "ticks": ""
           }
          },
          "title": {
           "x": 0.05
          },
          "xaxis": {
           "automargin": true,
           "gridcolor": "#EBF0F8",
           "linecolor": "#EBF0F8",
           "ticks": "",
           "title": {
            "standoff": 15
           },
           "zerolinecolor": "#EBF0F8",
           "zerolinewidth": 2
          },
          "yaxis": {
           "automargin": true,
           "gridcolor": "#EBF0F8",
           "linecolor": "#EBF0F8",
           "ticks": "",
           "title": {
            "standoff": 15
           },
           "zerolinecolor": "#EBF0F8",
           "zerolinewidth": 2
          }
         }
        },
        "title": {
         "text": "LotFrontage Distribution with Density"
        },
        "xaxis": {
         "anchor": "y",
         "domain": [
          0,
          1
         ],
         "title": {
          "text": "Lot Frontage"
         }
        },
        "yaxis": {
         "anchor": "x",
         "domain": [
          0,
          1
         ],
         "title": {
          "text": "Density"
         }
        }
       }
      }
     },
     "metadata": {},
     "output_type": "display_data"
    }
   ],
   "source": [
    "# Calculate KDE for LotFrontage (ignoring missing values)\n",
    "lotfrontage_data = train['LotFrontage'].dropna()\n",
    "kde = gaussian_kde(lotfrontage_data)\n",
    "x_vals = np.linspace(lotfrontage_data.min(), lotfrontage_data.max(), 1000)\n",
    "kde_vals = kde(x_vals)\n",
    "\n",
    "# Create the histogram with proportion normalization\n",
    "fig = px.histogram(train, \n",
    "                   x='LotFrontage', \n",
    "                   nbins=100, \n",
    "                   title='LotFrontage Distribution with Density',\n",
    "                   labels={'LotFrontage': 'Lot Frontage'},\n",
    "                   template='plotly_white',\n",
    "                   histnorm='probability density')  # Normalize to proportion\n",
    "\n",
    "fig.update_traces(marker_color='blue', opacity=0.75)\n",
    "\n",
    "# Add the density curve\n",
    "fig.add_trace(\n",
    "    go.Scatter(\n",
    "        x=x_vals,\n",
    "        y=kde_vals,\n",
    "        mode='lines',\n",
    "        line=dict(color='black', width=2),\n",
    "        name='Density Estimation'\n",
    "    )\n",
    ")\n",
    "\n",
    "fig.update_layout(\n",
    "    yaxis_title='Density',\n",
    "    xaxis_title='Lot Frontage',\n",
    "    showlegend=True\n",
    ")\n",
    "\n",
    "fig.show()"
   ]
  },
  {
   "cell_type": "markdown",
   "metadata": {},
   "source": [
    "**Is `LotFrontage` correlated with other features ?**\n",
    "\n",
    "Understanding whether `LotFrontage` is correlated with other features helps us decide how to handle its missing values. \n",
    "\n",
    "If `LotFrontage` has strong relationships with other variables, we can use those features for informed imputation methods, such as regression-based or group-wise imputation. \n",
    "\n",
    "This ensures that the missing values are filled in a way that maintains the underlying data structure and relationships, leading to more accurate and reliable predictions in our machine learning models."
   ]
  },
  {
   "cell_type": "code",
   "execution_count": 83,
   "metadata": {},
   "outputs": [
    {
     "data": {
      "application/vnd.plotly.v1+json": {
       "config": {
        "plotlyServerURL": "https://plot.ly"
       },
       "data": [
        {
         "alignmentgroup": "True",
         "hovertemplate": "Correlation Coefficient=%{x}<br>Features=%{y}<extra></extra>",
         "legendgroup": "",
         "marker": {
          "color": "#636efa",
          "pattern": {
           "shape": ""
          }
         },
         "name": "",
         "offsetgroup": "",
         "orientation": "h",
         "showlegend": false,
         "textposition": "auto",
         "type": "bar",
         "x": [
          -0.3863468853449291,
          -0.05921345000524695,
          -0.007234304524918131,
          -0.006068830161309074,
          0.0033675565961914385,
          0.007449589209750433,
          0.010700336638882412,
          0.011199954759134262,
          0.0384685343289595,
          0.041382790675005825,
          0.04989967669098947,
          0.053531854979605935,
          0.0700292277308536,
          0.07024978191661647,
          0.08017727062420484,
          0.08852093328940809,
          0.08886557249206663,
          0.10094856694926879,
          0.12334946703331623,
          0.13264374162493361,
          0.15197222768060645,
          0.19345806055826867,
          0.1987686778973783,
          0.2061667752760768,
          0.23363316701975503,
          0.25164577548061234,
          0.26316991588105887,
          0.26663948256030306,
          0.28569092468510043,
          0.3449967241064819,
          0.35179909657067737,
          0.3520959476602242,
          0.3920745763791721,
          0.4027974140853195,
          0.42609501877180816,
          0.4571810019946551
         ],
         "xaxis": "x",
         "y": [
          "MSSubClass",
          "OverallCond",
          "BsmtHalfBath",
          "KitchenAbvGr",
          "MiscVal",
          "YrSold",
          "EnclosedPorch",
          "MoSold",
          "LowQualFinSF",
          "ScreenPorch",
          "BsmtFinSF2",
          "HalfBath",
          "3SsnPorch",
          "GarageYrBlt",
          "2ndFlrSF",
          "WoodDeckSF",
          "YearRemodAdd",
          "BsmtFullBath",
          "YearBuilt",
          "BsmtUnfSF",
          "OpenPorchSF",
          "MasVnrArea",
          "FullBath",
          "PoolArea",
          "BsmtFinSF1",
          "OverallQual",
          "BedroomAbvGr",
          "Fireplaces",
          "GarageCars",
          "GarageArea",
          "SalePrice",
          "TotRmsAbvGrd",
          "TotalBsmtSF",
          "GrLivArea",
          "LotArea",
          "1stFlrSF"
         ],
         "yaxis": "y"
        }
       ],
       "layout": {
        "barmode": "relative",
        "legend": {
         "tracegroupgap": 0
        },
        "template": {
         "data": {
          "bar": [
           {
            "error_x": {
             "color": "#2a3f5f"
            },
            "error_y": {
             "color": "#2a3f5f"
            },
            "marker": {
             "line": {
              "color": "white",
              "width": 0.5
             },
             "pattern": {
              "fillmode": "overlay",
              "size": 10,
              "solidity": 0.2
             }
            },
            "type": "bar"
           }
          ],
          "barpolar": [
           {
            "marker": {
             "line": {
              "color": "white",
              "width": 0.5
             },
             "pattern": {
              "fillmode": "overlay",
              "size": 10,
              "solidity": 0.2
             }
            },
            "type": "barpolar"
           }
          ],
          "carpet": [
           {
            "aaxis": {
             "endlinecolor": "#2a3f5f",
             "gridcolor": "#C8D4E3",
             "linecolor": "#C8D4E3",
             "minorgridcolor": "#C8D4E3",
             "startlinecolor": "#2a3f5f"
            },
            "baxis": {
             "endlinecolor": "#2a3f5f",
             "gridcolor": "#C8D4E3",
             "linecolor": "#C8D4E3",
             "minorgridcolor": "#C8D4E3",
             "startlinecolor": "#2a3f5f"
            },
            "type": "carpet"
           }
          ],
          "choropleth": [
           {
            "colorbar": {
             "outlinewidth": 0,
             "ticks": ""
            },
            "type": "choropleth"
           }
          ],
          "contour": [
           {
            "colorbar": {
             "outlinewidth": 0,
             "ticks": ""
            },
            "colorscale": [
             [
              0,
              "#0d0887"
             ],
             [
              0.1111111111111111,
              "#46039f"
             ],
             [
              0.2222222222222222,
              "#7201a8"
             ],
             [
              0.3333333333333333,
              "#9c179e"
             ],
             [
              0.4444444444444444,
              "#bd3786"
             ],
             [
              0.5555555555555556,
              "#d8576b"
             ],
             [
              0.6666666666666666,
              "#ed7953"
             ],
             [
              0.7777777777777778,
              "#fb9f3a"
             ],
             [
              0.8888888888888888,
              "#fdca26"
             ],
             [
              1,
              "#f0f921"
             ]
            ],
            "type": "contour"
           }
          ],
          "contourcarpet": [
           {
            "colorbar": {
             "outlinewidth": 0,
             "ticks": ""
            },
            "type": "contourcarpet"
           }
          ],
          "heatmap": [
           {
            "colorbar": {
             "outlinewidth": 0,
             "ticks": ""
            },
            "colorscale": [
             [
              0,
              "#0d0887"
             ],
             [
              0.1111111111111111,
              "#46039f"
             ],
             [
              0.2222222222222222,
              "#7201a8"
             ],
             [
              0.3333333333333333,
              "#9c179e"
             ],
             [
              0.4444444444444444,
              "#bd3786"
             ],
             [
              0.5555555555555556,
              "#d8576b"
             ],
             [
              0.6666666666666666,
              "#ed7953"
             ],
             [
              0.7777777777777778,
              "#fb9f3a"
             ],
             [
              0.8888888888888888,
              "#fdca26"
             ],
             [
              1,
              "#f0f921"
             ]
            ],
            "type": "heatmap"
           }
          ],
          "heatmapgl": [
           {
            "colorbar": {
             "outlinewidth": 0,
             "ticks": ""
            },
            "colorscale": [
             [
              0,
              "#0d0887"
             ],
             [
              0.1111111111111111,
              "#46039f"
             ],
             [
              0.2222222222222222,
              "#7201a8"
             ],
             [
              0.3333333333333333,
              "#9c179e"
             ],
             [
              0.4444444444444444,
              "#bd3786"
             ],
             [
              0.5555555555555556,
              "#d8576b"
             ],
             [
              0.6666666666666666,
              "#ed7953"
             ],
             [
              0.7777777777777778,
              "#fb9f3a"
             ],
             [
              0.8888888888888888,
              "#fdca26"
             ],
             [
              1,
              "#f0f921"
             ]
            ],
            "type": "heatmapgl"
           }
          ],
          "histogram": [
           {
            "marker": {
             "pattern": {
              "fillmode": "overlay",
              "size": 10,
              "solidity": 0.2
             }
            },
            "type": "histogram"
           }
          ],
          "histogram2d": [
           {
            "colorbar": {
             "outlinewidth": 0,
             "ticks": ""
            },
            "colorscale": [
             [
              0,
              "#0d0887"
             ],
             [
              0.1111111111111111,
              "#46039f"
             ],
             [
              0.2222222222222222,
              "#7201a8"
             ],
             [
              0.3333333333333333,
              "#9c179e"
             ],
             [
              0.4444444444444444,
              "#bd3786"
             ],
             [
              0.5555555555555556,
              "#d8576b"
             ],
             [
              0.6666666666666666,
              "#ed7953"
             ],
             [
              0.7777777777777778,
              "#fb9f3a"
             ],
             [
              0.8888888888888888,
              "#fdca26"
             ],
             [
              1,
              "#f0f921"
             ]
            ],
            "type": "histogram2d"
           }
          ],
          "histogram2dcontour": [
           {
            "colorbar": {
             "outlinewidth": 0,
             "ticks": ""
            },
            "colorscale": [
             [
              0,
              "#0d0887"
             ],
             [
              0.1111111111111111,
              "#46039f"
             ],
             [
              0.2222222222222222,
              "#7201a8"
             ],
             [
              0.3333333333333333,
              "#9c179e"
             ],
             [
              0.4444444444444444,
              "#bd3786"
             ],
             [
              0.5555555555555556,
              "#d8576b"
             ],
             [
              0.6666666666666666,
              "#ed7953"
             ],
             [
              0.7777777777777778,
              "#fb9f3a"
             ],
             [
              0.8888888888888888,
              "#fdca26"
             ],
             [
              1,
              "#f0f921"
             ]
            ],
            "type": "histogram2dcontour"
           }
          ],
          "mesh3d": [
           {
            "colorbar": {
             "outlinewidth": 0,
             "ticks": ""
            },
            "type": "mesh3d"
           }
          ],
          "parcoords": [
           {
            "line": {
             "colorbar": {
              "outlinewidth": 0,
              "ticks": ""
             }
            },
            "type": "parcoords"
           }
          ],
          "pie": [
           {
            "automargin": true,
            "type": "pie"
           }
          ],
          "scatter": [
           {
            "fillpattern": {
             "fillmode": "overlay",
             "size": 10,
             "solidity": 0.2
            },
            "type": "scatter"
           }
          ],
          "scatter3d": [
           {
            "line": {
             "colorbar": {
              "outlinewidth": 0,
              "ticks": ""
             }
            },
            "marker": {
             "colorbar": {
              "outlinewidth": 0,
              "ticks": ""
             }
            },
            "type": "scatter3d"
           }
          ],
          "scattercarpet": [
           {
            "marker": {
             "colorbar": {
              "outlinewidth": 0,
              "ticks": ""
             }
            },
            "type": "scattercarpet"
           }
          ],
          "scattergeo": [
           {
            "marker": {
             "colorbar": {
              "outlinewidth": 0,
              "ticks": ""
             }
            },
            "type": "scattergeo"
           }
          ],
          "scattergl": [
           {
            "marker": {
             "colorbar": {
              "outlinewidth": 0,
              "ticks": ""
             }
            },
            "type": "scattergl"
           }
          ],
          "scattermapbox": [
           {
            "marker": {
             "colorbar": {
              "outlinewidth": 0,
              "ticks": ""
             }
            },
            "type": "scattermapbox"
           }
          ],
          "scatterpolar": [
           {
            "marker": {
             "colorbar": {
              "outlinewidth": 0,
              "ticks": ""
             }
            },
            "type": "scatterpolar"
           }
          ],
          "scatterpolargl": [
           {
            "marker": {
             "colorbar": {
              "outlinewidth": 0,
              "ticks": ""
             }
            },
            "type": "scatterpolargl"
           }
          ],
          "scatterternary": [
           {
            "marker": {
             "colorbar": {
              "outlinewidth": 0,
              "ticks": ""
             }
            },
            "type": "scatterternary"
           }
          ],
          "surface": [
           {
            "colorbar": {
             "outlinewidth": 0,
             "ticks": ""
            },
            "colorscale": [
             [
              0,
              "#0d0887"
             ],
             [
              0.1111111111111111,
              "#46039f"
             ],
             [
              0.2222222222222222,
              "#7201a8"
             ],
             [
              0.3333333333333333,
              "#9c179e"
             ],
             [
              0.4444444444444444,
              "#bd3786"
             ],
             [
              0.5555555555555556,
              "#d8576b"
             ],
             [
              0.6666666666666666,
              "#ed7953"
             ],
             [
              0.7777777777777778,
              "#fb9f3a"
             ],
             [
              0.8888888888888888,
              "#fdca26"
             ],
             [
              1,
              "#f0f921"
             ]
            ],
            "type": "surface"
           }
          ],
          "table": [
           {
            "cells": {
             "fill": {
              "color": "#EBF0F8"
             },
             "line": {
              "color": "white"
             }
            },
            "header": {
             "fill": {
              "color": "#C8D4E3"
             },
             "line": {
              "color": "white"
             }
            },
            "type": "table"
           }
          ]
         },
         "layout": {
          "annotationdefaults": {
           "arrowcolor": "#2a3f5f",
           "arrowhead": 0,
           "arrowwidth": 1
          },
          "autotypenumbers": "strict",
          "coloraxis": {
           "colorbar": {
            "outlinewidth": 0,
            "ticks": ""
           }
          },
          "colorscale": {
           "diverging": [
            [
             0,
             "#8e0152"
            ],
            [
             0.1,
             "#c51b7d"
            ],
            [
             0.2,
             "#de77ae"
            ],
            [
             0.3,
             "#f1b6da"
            ],
            [
             0.4,
             "#fde0ef"
            ],
            [
             0.5,
             "#f7f7f7"
            ],
            [
             0.6,
             "#e6f5d0"
            ],
            [
             0.7,
             "#b8e186"
            ],
            [
             0.8,
             "#7fbc41"
            ],
            [
             0.9,
             "#4d9221"
            ],
            [
             1,
             "#276419"
            ]
           ],
           "sequential": [
            [
             0,
             "#0d0887"
            ],
            [
             0.1111111111111111,
             "#46039f"
            ],
            [
             0.2222222222222222,
             "#7201a8"
            ],
            [
             0.3333333333333333,
             "#9c179e"
            ],
            [
             0.4444444444444444,
             "#bd3786"
            ],
            [
             0.5555555555555556,
             "#d8576b"
            ],
            [
             0.6666666666666666,
             "#ed7953"
            ],
            [
             0.7777777777777778,
             "#fb9f3a"
            ],
            [
             0.8888888888888888,
             "#fdca26"
            ],
            [
             1,
             "#f0f921"
            ]
           ],
           "sequentialminus": [
            [
             0,
             "#0d0887"
            ],
            [
             0.1111111111111111,
             "#46039f"
            ],
            [
             0.2222222222222222,
             "#7201a8"
            ],
            [
             0.3333333333333333,
             "#9c179e"
            ],
            [
             0.4444444444444444,
             "#bd3786"
            ],
            [
             0.5555555555555556,
             "#d8576b"
            ],
            [
             0.6666666666666666,
             "#ed7953"
            ],
            [
             0.7777777777777778,
             "#fb9f3a"
            ],
            [
             0.8888888888888888,
             "#fdca26"
            ],
            [
             1,
             "#f0f921"
            ]
           ]
          },
          "colorway": [
           "#636efa",
           "#EF553B",
           "#00cc96",
           "#ab63fa",
           "#FFA15A",
           "#19d3f3",
           "#FF6692",
           "#B6E880",
           "#FF97FF",
           "#FECB52"
          ],
          "font": {
           "color": "#2a3f5f"
          },
          "geo": {
           "bgcolor": "white",
           "lakecolor": "white",
           "landcolor": "white",
           "showlakes": true,
           "showland": true,
           "subunitcolor": "#C8D4E3"
          },
          "hoverlabel": {
           "align": "left"
          },
          "hovermode": "closest",
          "mapbox": {
           "style": "light"
          },
          "paper_bgcolor": "white",
          "plot_bgcolor": "white",
          "polar": {
           "angularaxis": {
            "gridcolor": "#EBF0F8",
            "linecolor": "#EBF0F8",
            "ticks": ""
           },
           "bgcolor": "white",
           "radialaxis": {
            "gridcolor": "#EBF0F8",
            "linecolor": "#EBF0F8",
            "ticks": ""
           }
          },
          "scene": {
           "xaxis": {
            "backgroundcolor": "white",
            "gridcolor": "#DFE8F3",
            "gridwidth": 2,
            "linecolor": "#EBF0F8",
            "showbackground": true,
            "ticks": "",
            "zerolinecolor": "#EBF0F8"
           },
           "yaxis": {
            "backgroundcolor": "white",
            "gridcolor": "#DFE8F3",
            "gridwidth": 2,
            "linecolor": "#EBF0F8",
            "showbackground": true,
            "ticks": "",
            "zerolinecolor": "#EBF0F8"
           },
           "zaxis": {
            "backgroundcolor": "white",
            "gridcolor": "#DFE8F3",
            "gridwidth": 2,
            "linecolor": "#EBF0F8",
            "showbackground": true,
            "ticks": "",
            "zerolinecolor": "#EBF0F8"
           }
          },
          "shapedefaults": {
           "line": {
            "color": "#2a3f5f"
           }
          },
          "ternary": {
           "aaxis": {
            "gridcolor": "#DFE8F3",
            "linecolor": "#A2B1C6",
            "ticks": ""
           },
           "baxis": {
            "gridcolor": "#DFE8F3",
            "linecolor": "#A2B1C6",
            "ticks": ""
           },
           "bgcolor": "white",
           "caxis": {
            "gridcolor": "#DFE8F3",
            "linecolor": "#A2B1C6",
            "ticks": ""
           }
          },
          "title": {
           "x": 0.05
          },
          "xaxis": {
           "automargin": true,
           "gridcolor": "#EBF0F8",
           "linecolor": "#EBF0F8",
           "ticks": "",
           "title": {
            "standoff": 15
           },
           "zerolinecolor": "#EBF0F8",
           "zerolinewidth": 2
          },
          "yaxis": {
           "automargin": true,
           "gridcolor": "#EBF0F8",
           "linecolor": "#EBF0F8",
           "ticks": "",
           "title": {
            "standoff": 15
           },
           "zerolinecolor": "#EBF0F8",
           "zerolinewidth": 2
          }
         }
        },
        "title": {
         "text": "Correlation of LotFrontage with Other Features"
        },
        "xaxis": {
         "anchor": "y",
         "domain": [
          0,
          1
         ],
         "title": {
          "text": "Correlation Coefficient"
         }
        },
        "yaxis": {
         "anchor": "x",
         "domain": [
          0,
          1
         ],
         "title": {
          "text": "Features"
         }
        }
       }
      }
     },
     "metadata": {},
     "output_type": "display_data"
    }
   ],
   "source": [
    "numerical_features = train.select_dtypes(include=[np.number])\n",
    "\n",
    "# Compute correlation matrix\n",
    "correlation_matrix = numerical_features.corr()\n",
    "\n",
    "# Extract correlations involving LotFrontage\n",
    "lotfrontage_correlation = correlation_matrix['LotFrontage'].sort_values(ascending=False)\n",
    "\n",
    "# Create a DataFrame for Plotly\n",
    "correlation_df = lotfrontage_correlation.drop('LotFrontage').reset_index()\n",
    "correlation_df.columns = ['Feature', 'Correlation']\n",
    "\n",
    "# Plot using Plotly\n",
    "fig = px.bar(\n",
    "    correlation_df.sort_values(by='Correlation', ascending=True),\n",
    "    x='Correlation',\n",
    "    y='Feature',\n",
    "    orientation='h',\n",
    "    title='Correlation of LotFrontage with Other Features',\n",
    "    labels={'Correlation': 'Correlation Coefficient', 'Feature': 'Features'},\n",
    "    template='plotly_white'\n",
    ")\n",
    "\n",
    "fig.update_layout(xaxis_title=\"Correlation Coefficient\", yaxis_title=\"Features\")\n",
    "fig.show()"
   ]
  },
  {
   "cell_type": "markdown",
   "metadata": {},
   "source": [
    "#### **Why Use Group-Wise Imputation for `LotFrontage`?**\n",
    "\n",
    "**Theory Behind Group-Wise Imputation**\n",
    "\n",
    "Group-wise imputation leverages the relationships between a feature with missing values and other features that are strongly correlated or contextually relevant. Instead of filling missing values with a global statistic (e.g., mean or median), group-wise imputation calculates a summary statistic (like the median) within specific groups. \n",
    "\n",
    "This approach ensures that the imputed values are more representative of the subgroups, leading to better data integrity and model accuracy.\n",
    "\n",
    "**Why It Works**\n",
    "- Features such as `LotFrontage` (lot frontage in feet) are correlated with `LotArea` (lot size) and may vary significantly across neighborhoods.\n",
    "\n",
    "- Imputing based on groupings (e.g., by `Neighborhood`) captures localized variations and relationships, producing more realistic estimates.\n",
    "\n",
    "**Benefits**\n",
    "1. **Preserves Relationships**: Maintains the relationship between `LotFrontage` and other features like `LotArea` and `Neighborhood`.\n",
    "\n",
    "2. **Prevents Bias**: Avoids introducing bias by using a global statistic that may not fit all groups equally.\n",
    "\n",
    "3. **Improves Model Accuracy**: By imputing values in context, the predictive power of the feature is better preserved.\n",
    "\n",
    "**Application to `LotFrontage`**\n",
    "\n",
    "For `LotFrontage`, we will use the median value grouped by `Neighborhood`. The median is robust to outliers and effectively captures the central tendency within each group."
   ]
  },
  {
   "cell_type": "code",
   "execution_count": 84,
   "metadata": {},
   "outputs": [
    {
     "name": "stdout",
     "output_type": "stream",
     "text": [
      "Remaining missing values in LotFrontage: 0\n"
     ]
    }
   ],
   "source": [
    "# Ensure missing values in LotFrontage are imputed using group-wise median by Neighborhood\n",
    "train_cleaned['LotFrontage'] = train_cleaned.groupby('Neighborhood')['LotFrontage'].transform(\n",
    "    lambda x: x.fillna(x.median())\n",
    ")\n",
    "\n",
    "# Verify if there are any remaining missing values\n",
    "print(f\"Remaining missing values in LotFrontage: {train_cleaned['LotFrontage'].isnull().sum()}\")"
   ]
  },
  {
   "cell_type": "markdown",
   "metadata": {},
   "source": [
    "### **Handle `BsmtQual`, `BsmtCond`, `BsmtExposure`, `BsmtFinType1`, `BsmtFinType2`**\n",
    "\n",
    "For all the basement-related variables (`BsmtQual`, `BsmtCond`, `BsmtExposure`, `BsmtFinType1`, `BsmtFinType2`), we will replace the missing values with `\"No\"` to indicate the absence of a basement."
   ]
  },
  {
   "cell_type": "code",
   "execution_count": 85,
   "metadata": {},
   "outputs": [],
   "source": [
    "train_cleaned['BsmtQual'] = train_cleaned['BsmtQual'].fillna(\"No\")\n",
    "train_cleaned['BsmtCond'] = train_cleaned['BsmtCond'].fillna(\"No\")\n",
    "train_cleaned['BsmtExposure'] = train_cleaned['BsmtExposure'].fillna(\"No\")\n",
    "train_cleaned['BsmtFinType1'] = train_cleaned['BsmtFinType1'].fillna(\"No\")\n",
    "train_cleaned['BsmtFinType2'] = train_cleaned['BsmtFinType2'].fillna(\"No\")"
   ]
  },
  {
   "cell_type": "markdown",
   "metadata": {},
   "source": [
    "#### **Handle `GarageType`, `GarageYrBlt`, `GarageFinish`, `GarageQual`, `GarageCond`**\n",
    "\n",
    "For all the garage-related variables (`GarageType`, `GarageYrBlt`, `GarageFinish`, `GarageQual`, `GarageCond`), we will replace the missing values with `\"No\"` to indicate the absence of a garage."
   ]
  },
  {
   "cell_type": "code",
   "execution_count": 86,
   "metadata": {},
   "outputs": [],
   "source": [
    "train_cleaned['GarageType'] = train_cleaned['GarageType'].fillna(\"No\")\n",
    "train_cleaned['GarageYrBlt'] = train_cleaned['GarageYrBlt'].fillna(\"No\")  \n",
    "train_cleaned['GarageFinish'] = train_cleaned['GarageFinish'].fillna(\"No\")\n",
    "train_cleaned['GarageQual'] = train_cleaned['GarageQual'].fillna(\"No\")\n",
    "train_cleaned['GarageCond'] = train_cleaned['GarageCond'].fillna(\"No\")"
   ]
  },
  {
   "cell_type": "markdown",
   "metadata": {},
   "source": [
    "#### **Handle `Electrical`**\n",
    "\n",
    "**Electrical: Electrical system**\n",
    "\n",
    "- `SBrkr`: Standard Circuit Breakers & Romex\n",
    "\n",
    "- `FuseA`: Fuse Box over 60 AMP and all Romex wiring (Average)\t\n",
    "\n",
    "- `FuseF`: 60 AMP Fuse Box and mostly Romex wiring (Fair)\n",
    "\n",
    "- `FuseP`: 60 AMP Fuse Box and mostly knob & tube wiring (poor)\n",
    "\n",
    "- `Mix`: Mixed"
   ]
  },
  {
   "cell_type": "code",
   "execution_count": 87,
   "metadata": {},
   "outputs": [
    {
     "data": {
      "text/plain": [
       "Electrical\n",
       "SBrkr    1334\n",
       "FuseA      94\n",
       "FuseF      27\n",
       "FuseP       3\n",
       "Mix         1\n",
       "NaN         1\n",
       "Name: count, dtype: int64"
      ]
     },
     "execution_count": 87,
     "metadata": {},
     "output_type": "execute_result"
    }
   ],
   "source": [
    "electrical_distribution = train['Electrical'].value_counts(dropna=False)\n",
    "electrical_distribution"
   ]
  },
  {
   "cell_type": "markdown",
   "metadata": {},
   "source": [
    "We will replace the missing value in the `Electrical` variable with the most common value, `\"SBrkr\"`, which stands for Standard Circuit Breakers & Romex. This is a common electrical system type and is likely to be present in most houses."
   ]
  },
  {
   "cell_type": "code",
   "execution_count": 88,
   "metadata": {},
   "outputs": [],
   "source": [
    "# Replace missing values in 'Electrical' with the mode\n",
    "train_cleaned['Electrical'] = train_cleaned['Electrical'].fillna(train_cleaned['Electrical'].mode()[0])"
   ]
  },
  {
   "cell_type": "markdown",
   "metadata": {},
   "source": [
    "# **Feature Engineering**"
   ]
  },
  {
   "cell_type": "code",
   "execution_count": 89,
   "metadata": {},
   "outputs": [],
   "source": [
    "df = train_cleaned.copy()"
   ]
  },
  {
   "cell_type": "markdown",
   "metadata": {},
   "source": [
    "## Quantitative Features"
   ]
  },
  {
   "cell_type": "markdown",
   "metadata": {},
   "source": [
    "### Identifying Highly Correlated Variable Pairs\n",
    "\n",
    "In this step, we are identifying pairs of features in the dataset that are highly correlated (correlation > 0.5), excluding the target variable `SalePrice`. This helps us detect potential multicollinearity, which can negatively impact some machine learning models. Here's a breakdown of the process:\n",
    "\n",
    "1. **Compute Correlation Matrix**:\n",
    "   - We calculate the correlation matrix for all numeric features in the dataset, excluding the target variable `SalePrice`.\n",
    "\n",
    "2. **Extract Upper Triangle**:\n",
    "   - To avoid duplicate pairs (e.g., A-B and B-A) and self-correlations (e.g., A-A), we extract the upper triangle of the correlation matrix.\n",
    "\n",
    "3. **Filter High Correlations**:\n",
    "   - We filter pairs of variables where the absolute correlation is greater than 0.5.\n",
    "\n",
    "4. **Result**:\n",
    "   - The output is a list of variable pairs with their corresponding correlation values, which can help in feature engineering or deciding whether to drop redundant features."
   ]
  },
  {
   "cell_type": "code",
   "execution_count": 90,
   "metadata": {},
   "outputs": [
    {
     "data": {
      "image/png": "[encoded data removed]",
      "text/plain": [
       "<Figure size 1200x1000 with 2 Axes>"
      ]
     },
     "metadata": {},
     "output_type": "display_data"
    }
   ],
   "source": [
    "# Compute the correlation matrix excluding the target variable 'SalePrice'\n",
    "correlation_matrix = df.drop(columns=['SalePrice']).corr(numeric_only=True)\n",
    "\n",
    "# Set the size of the heatmap\n",
    "plt.figure(figsize=(12, 10))\n",
    "\n",
    "# Create the heatmap using seaborn\n",
    "sns.heatmap(\n",
    "    correlation_matrix,\n",
    "    cmap=\"Blues\",  # Color scheme\n",
    "    cbar=True,  # Show color bar\n",
    "    square=True  # Make the heatmap square\n",
    ")\n",
    "\n",
    "# Add titles and labels\n",
    "plt.title('Correlation Heatmap of All Variables', fontsize=16)\n",
    "plt.xlabel('Features', fontsize=12)\n",
    "plt.ylabel('Features', fontsize=12)\n",
    "\n",
    "# Show the heatmap\n",
    "plt.show()"
   ]
  },
  {
   "cell_type": "markdown",
   "metadata": {},
   "source": [
    "### Extract vairables with high correlation (corr > 0.7)"
   ]
  },
  {
   "cell_type": "code",
   "execution_count": 91,
   "metadata": {},
   "outputs": [
    {
     "name": "stdout",
     "output_type": "stream",
     "text": [
      "      Variable 1    Variable 2  Correlation\n",
      "319  TotalBsmtSF      1stFlrSF     0.819530\n",
      "411    GrLivArea  TotRmsAbvGrd     0.825489\n",
      "529   GarageCars    GarageArea     0.882475\n"
     ]
    }
   ],
   "source": [
    "# Extract upper triangle of the correlation matrix to avoid duplicate pairs\n",
    "upper_triangle = correlation_matrix.where(\n",
    "    np.triu(np.ones(correlation_matrix.shape), k=1).astype(bool)\n",
    ")\n",
    "\n",
    "# Find variable pairs with correlation greater than 0.5\n",
    "high_correlation_pairs = upper_triangle.stack().reset_index()\n",
    "high_correlation_pairs.columns = ['Variable 1', 'Variable 2', 'Correlation']\n",
    "high_correlation_pairs = high_correlation_pairs[high_correlation_pairs['Correlation'] > 0.7]\n",
    "\n",
    "print(high_correlation_pairs)"
   ]
  },
  {
   "cell_type": "markdown",
   "metadata": {},
   "source": [
    "### Variables with High Correlation\n",
    "\n",
    "#### 1. **TotalBsmtSF and 1stFlrSF (0.819530)**\n",
    "\n",
    "- Both represent house size attributes:\n",
    "\n",
    "  - **TotalBsmtSF**: Includes the basement area.\n",
    "\n",
    "  - **1stFlrSF**: Represents the first floor area.\n",
    "\n",
    "\n",
    "#### 2. **GrLivArea and TotRmsAbvGrd (0.825489)**\n",
    "\n",
    "- **GrLivArea** (Gross Living Area) already incorporates the total living area above ground.\n",
    "\n",
    "- **TotRmsAbvGrd** is redundant and less informative.\n",
    "\n",
    "\n",
    "**Decision**: Retain one of these or combine them into a new feature like **\"TotalSize\"** (sum of basement and first floor areas)."
   ]
  },
  {
   "cell_type": "code",
   "execution_count": 92,
   "metadata": {},
   "outputs": [
    {
     "data": {
      "application/vnd.plotly.v1+json": {
       "config": {
        "plotlyServerURL": "https://plot.ly"
       },
       "data": [
        {
         "alignmentgroup": "True",
         "bingroup": "x",
         "hovertemplate": "Total Basement Area (sq ft)=%{x}<br>count=%{y}<extra></extra>",
         "legendgroup": "",
         "marker": {
          "color": "blue",
          "pattern": {
           "shape": ""
          }
         },
         "name": "",
         "nbinsx": 100,
         "offsetgroup": "",
         "opacity": 0.75,
         "orientation": "v",
         "showlegend": false,
         "type": "histogram",
         "x": [
          856,
          1262,
          920,
          756,
          1145,
          796,
          1686,
          1107,
          952,
          991,
          1040,
          1175,
          912,
          1494,
          1253,
          832,
          1004,
          0,
          1114,
          1029,
          1158,
          637,
          1777,
          1040,
          1060,
          1566,
          900,
          1704,
          1484,
          520,
          649,
          1228,
          1234,
          1398,
          1561,
          1117,
          1097,
          1297,
          1057,
          0,
          1088,
          1350,
          840,
          938,
          1150,
          1752,
          1434,
          1656,
          736,
          955,
          794,
          816,
          816,
          1842,
          384,
          1425,
          970,
          860,
          1410,
          780,
          1158,
          530,
          1370,
          576,
          1057,
          1143,
          1947,
          1453,
          747,
          1304,
          2223,
          845,
          832,
          1086,
          840,
          462,
          952,
          672,
          1768,
          440,
          896,
          1237,
          1563,
          1065,
          384,
          1288,
          684,
          612,
          1013,
          990,
          0,
          1235,
          876,
          1214,
          824,
          680,
          1588,
          960,
          458,
          950,
          1610,
          741,
          0,
          1226,
          1040,
          1053,
          641,
          789,
          793,
          1844,
          994,
          384,
          1264,
          1809,
          1028,
          729,
          1092,
          1125,
          1673,
          728,
          938,
          732,
          1080,
          1199,
          1362,
          520,
          1078,
          672,
          660,
          1008,
          924,
          992,
          1063,
          1267,
          1461,
          1304,
          1214,
          1907,
          1004,
          928,
          864,
          1734,
          910,
          1490,
          1728,
          970,
          715,
          884,
          1080,
          896,
          969,
          1710,
          825,
          1602,
          1200,
          572,
          0,
          774,
          991,
          1392,
          1232,
          1572,
          1541,
          882,
          1149,
          644,
          1617,
          1582,
          840,
          1686,
          720,
          1080,
          1064,
          1362,
          1606,
          1202,
          1151,
          1052,
          2216,
          968,
          756,
          793,
          0,
          1362,
          504,
          1107,
          1188,
          660,
          1086,
          1593,
          853,
          725,
          1431,
          970,
          864,
          855,
          1726,
          1360,
          755,
          1713,
          1121,
          1196,
          617,
          848,
          720,
          1424,
          1140,
          1100,
          1157,
          1092,
          864,
          1212,
          900,
          990,
          689,
          1070,
          1436,
          686,
          798,
          1248,
          1498,
          1010,
          713,
          864,
          2392,
          630,
          1203,
          483,
          912,
          1373,
          1194,
          1462,
          483,
          894,
          860,
          483,
          1414,
          996,
          1694,
          735,
          1566,
          686,
          540,
          626,
          948,
          1845,
          1020,
          1367,
          840,
          1444,
          728,
          1573,
          798,
          1302,
          1314,
          975,
          864,
          1604,
          963,
          0,
          1362,
          1482,
          506,
          926,
          680,
          1422,
          802,
          720,
          740,
          1143,
          1095,
          1385,
          1152,
          1240,
          816,
          952,
          1560,
          864,
          2121,
          1160,
          807,
          1262,
          1314,
          1468,
          1575,
          625,
          912,
          858,
          882,
          698,
          1079,
          780,
          768,
          795,
          1416,
          1003,
          910,
          975,
          702,
          1092,
          1165,
          1028,
          1541,
          894,
          1470,
          2000,
          700,
          319,
          861,
          1896,
          697,
          972,
          793,
          2136,
          728,
          716,
          845,
          1088,
          1347,
          1372,
          1249,
          1136,
          1502,
          1162,
          710,
          720,
          1719,
          1383,
          844,
          596,
          1728,
          1056,
          3206,
          1358,
          943,
          1499,
          1922,
          1536,
          1208,
          1215,
          967,
          721,
          0,
          1684,
          536,
          972,
          958,
          1478,
          764,
          1848,
          1869,
          1453,
          616,
          624,
          940,
          1200,
          1158,
          1142,
          1062,
          1086,
          888,
          883,
          0,
          483,
          796,
          672,
          1394,
          1099,
          1268,
          1063,
          953,
          0,
          744,
          608,
          847,
          683,
          870,
          1580,
          1856,
          982,
          1026,
          1293,
          939,
          784,
          1580,
          1256,
          658,
          1041,
          1468,
          1682,
          861,
          804,
          0,
          788,
          735,
          1144,
          894,
          864,
          961,
          1092,
          1260,
          1310,
          672,
          1141,
          806,
          1281,
          1064,
          840,
          1063,
          1034,
          1276,
          1056,
          1470,
          1008,
          1080,
          1340,
          672,
          1370,
          756,
          1056,
          1344,
          1602,
          988,
          1470,
          1196,
          651,
          1518,
          907,
          1208,
          1392,
          483,
          901,
          765,
          926,
          630,
          799,
          648,
          884,
          440,
          684,
          3094,
          1440,
          1078,
          1258,
          915,
          1436,
          1517,
          930,
          780,
          649,
          813,
          1533,
          872,
          768,
          1728,
          1242,
          624,
          1364,
          588,
          709,
          832,
          560,
          864,
          715,
          1040,
          1375,
          1277,
          728,
          1626,
          832,
          1488,
          808,
          547,
          1976,
          1494,
          970,
          1478,
          2153,
          1705,
          907,
          1833,
          1792,
          910,
          1216,
          999,
          1113,
          1073,
          1484,
          954,
          630,
          264,
          806,
          728,
          1269,
          190,
          720,
          3200,
          1026,
          864,
          912,
          672,
          866,
          1214,
          1501,
          855,
          960,
          777,
          1218,
          689,
          1041,
          1008,
          1368,
          864,
          1084,
          768,
          2006,
          689,
          1264,
          794,
          1276,
          0,
          1244,
          1004,
          3138,
          1379,
          1257,
          928,
          1452,
          528,
          2035,
          1461,
          611,
          0,
          0,
          707,
          1117,
          880,
          864,
          1051,
          1581,
          1838,
          969,
          1650,
          723,
          654,
          1204,
          1065,
          768,
          825,
          912,
          1069,
          928,
          1709,
          0,
          998,
          993,
          1092,
          637,
          729,
          1374,
          1392,
          1389,
          996,
          1163,
          1095,
          806,
          1122,
          1517,
          1496,
          943,
          1728,
          864,
          846,
          384,
          372,
          832,
          861,
          1164,
          689,
          1050,
          1144,
          2042,
          816,
          1237,
          884,
          1868,
          816,
          840,
          1437,
          742,
          770,
          1722,
          816,
          848,
          924,
          1814,
          684,
          1258,
          1430,
          716,
          1058,
          780,
          908,
          600,
          1494,
          768,
          1040,
          896,
          965,
          1029,
          1440,
          1032,
          1299,
          1120,
          630,
          936,
          783,
          832,
          1822,
          1482,
          864,
          1522,
          980,
          756,
          732,
          1116,
          978,
          1156,
          1040,
          1248,
          636,
          1554,
          1386,
          1056,
          1056,
          1440,
          264,
          811,
          796,
          1520,
          1518,
          1057,
          1952,
          780,
          1766,
          981,
          0,
          1094,
          756,
          630,
          813,
          755,
          880,
          756,
          2109,
          525,
          1053,
          776,
          912,
          1486,
          793,
          1629,
          1392,
          1138,
          2077,
          1406,
          1021,
          1408,
          1188,
          700,
          738,
          672,
          1208,
          1477,
          1136,
          855,
          1095,
          768,
          2046,
          988,
          923,
          793,
          1291,
          1626,
          1195,
          1190,
          874,
          551,
          1419,
          1362,
          848,
          2444,
          1210,
          1073,
          927,
          1112,
          616,
          980,
          894,
          1391,
          1800,
          1164,
          1234,
          360,
          1473,
          0,
          1643,
          1324,
          728,
          876,
          270,
          859,
          1228,
          960,
          725,
          1064,
          718,
          1176,
          1311,
          971,
          1742,
          848,
          864,
          941,
          1698,
          864,
          880,
          1232,
          1584,
          780,
          1595,
          868,
          1153,
          864,
          948,
          880,
          0,
          893,
          1200,
          864,
          264,
          912,
          1349,
          520,
          1337,
          1142,
          952,
          1240,
          1720,
          0,
          576,
          660,
          1479,
          1030,
          1026,
          729,
          866,
          672,
          744,
          1318,
          864,
          1145,
          756,
          1252,
          1494,
          1498,
          980,
          983,
          1860,
          1650,
          858,
          836,
          1029,
          912,
          1935,
          1204,
          1614,
          864,
          0,
          975,
          1237,
          761,
          1413,
          1097,
          742,
          1372,
          686,
          956,
          901,
          832,
          1145,
          1029,
          1117,
          1496,
          712,
          650,
          660,
          773,
          1926,
          731,
          616,
          1196,
          728,
          1734,
          936,
          1417,
          980,
          1324,
          1024,
          849,
          1040,
          848,
          540,
          1442,
          686,
          1649,
          1008,
          1568,
          1010,
          1358,
          798,
          936,
          847,
          778,
          1489,
          2078,
          784,
          1454,
          1013,
          600,
          1392,
          600,
          941,
          1516,
          1144,
          1067,
          1559,
          483,
          1099,
          768,
          672,
          650,
          1127,
          1800,
          876,
          1390,
          740,
          864,
          907,
          528,
          848,
          1273,
          918,
          1127,
          1763,
          1040,
          940,
          702,
          1090,
          1054,
          912,
          1039,
          1040,
          1148,
          1372,
          1002,
          1638,
          1040,
          0,
          1050,
          894,
          804,
          105,
          832,
          676,
          1184,
          1064,
          1462,
          1109,
          864,
          1090,
          1156,
          808,
          795,
          892,
          1698,
          1626,
          816,
          2217,
          1505,
          672,
          918,
          1059,
          1383,
          0,
          780,
          951,
          0,
          2330,
          912,
          858,
          992,
          783,
          1670,
          876,
          1056,
          1623,
          1017,
          864,
          742,
          1105,
          1268,
          768,
          1001,
          612,
          546,
          480,
          1134,
          1104,
          1184,
          928,
          1272,
          1316,
          1604,
          1686,
          1126,
          1181,
          832,
          1753,
          964,
          1466,
          925,
          1905,
          1500,
          585,
          600,
          1176,
          1113,
          1391,
          1032,
          1728,
          992,
          1440,
          1632,
          819,
          1088,
          1144,
          1616,
          936,
          1161,
          864,
          828,
          768,
          784,
          945,
          979,
          561,
          1057,
          1337,
          696,
          858,
          1330,
          804,
          1800,
          817,
          783,
          728,
          1098,
          600,
          588,
          720,
          764,
          918,
          1428,
          728,
          673,
          440,
          1241,
          894,
          1121,
          944,
          1225,
          1266,
          1128,
          0,
          1164,
          485,
          1930,
          848,
          770,
          1396,
          916,
          822,
          750,
          1700,
          747,
          1050,
          1442,
          1007,
          1187,
          0,
          691,
          1574,
          1680,
          1346,
          985,
          1657,
          546,
          1710,
          1008,
          720,
          0,
          602,
          1022,
          1082,
          810,
          1504,
          1220,
          384,
          1362,
          1132,
          1199,
          912,
          1346,
          1565,
          882,
          1268,
          1638,
          768,
          672,
          686,
          824,
          1338,
          1654,
          920,
          0,
          1620,
          1055,
          546,
          630,
          1134,
          800,
          1306,
          1475,
          2524,
          0,
          1992,
          990,
          0,
          0,
          1302,
          1316,
          816,
          1216,
          1065,
          1193,
          1364,
          973,
          1104,
          854,
          1338,
          894,
          662,
          1103,
          1154,
          1306,
          799,
          780,
          942,
          845,
          1048,
          727,
          810,
          690,
          1240,
          800,
          796,
          1096,
          848,
          990,
          1258,
          1040,
          1459,
          1251,
          691,
          936,
          546,
          1082,
          970,
          1247,
          0,
          600,
          1181,
          864,
          936,
          1314,
          684,
          1074,
          672,
          1271,
          290,
          950,
          1010,
          655,
          630,
          1463,
          910,
          868,
          924,
          1836,
          773,
          803,
          816,
          1008,
          833,
          1734,
          408,
          894,
          533,
          1040,
          1012,
          1552,
          672,
          698,
          384,
          1005,
          1373,
          1530,
          847,
          936,
          1122,
          974,
          1008,
          1128,
          916,
          960,
          1032,
          780,
          1567,
          915,
          952,
          780,
          1466,
          1006,
          672,
          1042,
          1298,
          704,
          572,
          650,
          932,
          1466,
          1073,
          816,
          864,
          1437,
          1219,
          1314,
          1580,
          901,
          855,
          1296,
          894,
          1198,
          1360,
          1502,
          1694,
          959,
          1127,
          1930,
          1096,
          1261,
          625,
          1598,
          952,
          1683,
          876,
          818,
          731,
          0,
          1216,
          1600,
          2396,
          1120,
          1572,
          784,
          978,
          1624,
          831,
          994,
          1249,
          776,
          702,
          1224,
          663,
          728,
          879,
          815,
          1212,
          1051,
          864,
          866,
          884,
          1630,
          1056,
          2158,
          1056,
          1682,
          931,
          1660,
          1055,
          559,
          672,
          648,
          925,
          894,
          0,
          1300,
          0,
          672,
          912,
          952,
          1040,
          2136,
          788,
          588,
          894,
          912,
          1702,
          1075,
          1361,
          1106,
          0,
          1188,
          940,
          747,
          764,
          847,
          1141,
          1476,
          884,
          1689,
          1053,
          2076,
          792,
          585,
          756,
          1012,
          735,
          876,
          2110,
          1405,
          864,
          1192,
          746,
          884,
          1986,
          864,
          856,
          1054,
          841,
          1050,
          1104,
          764,
          1405,
          691,
          925,
          2002,
          728,
          874,
          1332,
          1489,
          935,
          1019,
          661,
          928,
          723,
          1680,
          1128,
          698,
          1573,
          1309,
          1040,
          912,
          804,
          780,
          1328,
          1624,
          1501,
          1085,
          1152,
          630,
          994,
          832,
          864,
          1052,
          1120,
          547,
          6110,
          1246,
          978,
          771,
          1165,
          1616,
          976,
          1652,
          1368,
          990,
          924,
          1278,
          1902,
          1274,
          1453,
          1393,
          948,
          952,
          1622,
          1352,
          1753,
          864,
          1478,
          0,
          750,
          420,
          1795,
          796,
          544,
          816,
          1510,
          935,
          1588,
          911,
          816,
          803,
          765,
          1350,
          1656,
          693,
          916,
          864,
          858,
          1114,
          1284,
          896,
          728,
          960,
          1568,
          1732,
          1482,
          684,
          1248,
          858,
          698,
          2033,
          992,
          570,
          864,
          1078,
          756,
          1980,
          612,
          1530,
          715,
          616,
          600,
          814,
          873,
          757,
          848,
          1657,
          840,
          992,
          1108,
          2633,
          1026,
          1571,
          768,
          984,
          483,
          384,
          864,
          1205,
          596,
          816,
          560,
          796,
          1392,
          714,
          1746,
          735,
          1525,
          1584,
          864,
          482,
          1356,
          1094,
          747,
          939,
          1208,
          976,
          862,
          839,
          1286,
          1485,
          672,
          1594,
          768,
          833,
          622,
          791,
          944,
          856,
          0,
          1844,
          833,
          1386,
          777,
          1284,
          1144,
          1844,
          708,
          1069,
          848,
          697,
          1024,
          1252,
          1223,
          913,
          788,
          1440,
          732,
          958,
          656,
          936,
          1126,
          1319,
          864,
          1932,
          912,
          539,
          588,
          848,
          1017,
          952,
          1422,
          814,
          1188,
          1220,
          560,
          630,
          896,
          1573,
          547,
          1140,
          1221,
          953,
          1542,
          1152,
          1078,
          1256
         ],
         "xaxis": "x",
         "yaxis": "y"
        }
       ],
       "layout": {
        "barmode": "relative",
        "legend": {
         "tracegroupgap": 0
        },
        "template": {
         "data": {
          "bar": [
           {
            "error_x": {
             "color": "#2a3f5f"
            },
            "error_y": {
             "color": "#2a3f5f"
            },
            "marker": {
             "line": {
              "color": "white",
              "width": 0.5
             },
             "pattern": {
              "fillmode": "overlay",
              "size": 10,
              "solidity": 0.2
             }
            },
            "type": "bar"
           }
          ],
          "barpolar": [
           {
            "marker": {
             "line": {
              "color": "white",
              "width": 0.5
             },
             "pattern": {
              "fillmode": "overlay",
              "size": 10,
              "solidity": 0.2
             }
            },
            "type": "barpolar"
           }
          ],
          "carpet": [
           {
            "aaxis": {
             "endlinecolor": "#2a3f5f",
             "gridcolor": "#C8D4E3",
             "linecolor": "#C8D4E3",
             "minorgridcolor": "#C8D4E3",
             "startlinecolor": "#2a3f5f"
            },
            "baxis": {
             "endlinecolor": "#2a3f5f",
             "gridcolor": "#C8D4E3",
             "linecolor": "#C8D4E3",
             "minorgridcolor": "#C8D4E3",
             "startlinecolor": "#2a3f5f"
            },
            "type": "carpet"
           }
          ],
          "choropleth": [
           {
            "colorbar": {
             "outlinewidth": 0,
             "ticks": ""
            },
            "type": "choropleth"
           }
          ],
          "contour": [
           {
            "colorbar": {
             "outlinewidth": 0,
             "ticks": ""
            },
            "colorscale": [
             [
              0,
              "#0d0887"
             ],
             [
              0.1111111111111111,
              "#46039f"
             ],
             [
              0.2222222222222222,
              "#7201a8"
             ],
             [
              0.3333333333333333,
              "#9c179e"
             ],
             [
              0.4444444444444444,
              "#bd3786"
             ],
             [
              0.5555555555555556,
              "#d8576b"
             ],
             [
              0.6666666666666666,
              "#ed7953"
             ],
             [
              0.7777777777777778,
              "#fb9f3a"
             ],
             [
              0.8888888888888888,
              "#fdca26"
             ],
             [
              1,
              "#f0f921"
             ]
            ],
            "type": "contour"
           }
          ],
          "contourcarpet": [
           {
            "colorbar": {
             "outlinewidth": 0,
             "ticks": ""
            },
            "type": "contourcarpet"
           }
          ],
          "heatmap": [
           {
            "colorbar": {
             "outlinewidth": 0,
             "ticks": ""
            },
            "colorscale": [
             [
              0,
              "#0d0887"
             ],
             [
              0.1111111111111111,
              "#46039f"
             ],
             [
              0.2222222222222222,
              "#7201a8"
             ],
             [
              0.3333333333333333,
              "#9c179e"
             ],
             [
              0.4444444444444444,
              "#bd3786"
             ],
             [
              0.5555555555555556,
              "#d8576b"
             ],
             [
              0.6666666666666666,
              "#ed7953"
             ],
             [
              0.7777777777777778,
              "#fb9f3a"
             ],
             [
              0.8888888888888888,
              "#fdca26"
             ],
             [
              1,
              "#f0f921"
             ]
            ],
            "type": "heatmap"
           }
          ],
          "heatmapgl": [
           {
            "colorbar": {
             "outlinewidth": 0,
             "ticks": ""
            },
            "colorscale": [
             [
              0,
              "#0d0887"
             ],
             [
              0.1111111111111111,
              "#46039f"
             ],
             [
              0.2222222222222222,
              "#7201a8"
             ],
             [
              0.3333333333333333,
              "#9c179e"
             ],
             [
              0.4444444444444444,
              "#bd3786"
             ],
             [
              0.5555555555555556,
              "#d8576b"
             ],
             [
              0.6666666666666666,
              "#ed7953"
             ],
             [
              0.7777777777777778,
              "#fb9f3a"
             ],
             [
              0.8888888888888888,
              "#fdca26"
             ],
             [
              1,
              "#f0f921"
             ]
            ],
            "type": "heatmapgl"
           }
          ],
          "histogram": [
           {
            "marker": {
             "pattern": {
              "fillmode": "overlay",
              "size": 10,
              "solidity": 0.2
             }
            },
            "type": "histogram"
           }
          ],
          "histogram2d": [
           {
            "colorbar": {
             "outlinewidth": 0,
             "ticks": ""
            },
            "colorscale": [
             [
              0,
              "#0d0887"
             ],
             [
              0.1111111111111111,
              "#46039f"
             ],
             [
              0.2222222222222222,
              "#7201a8"
             ],
             [
              0.3333333333333333,
              "#9c179e"
             ],
             [
              0.4444444444444444,
              "#bd3786"
             ],
             [
              0.5555555555555556,
              "#d8576b"
             ],
             [
              0.6666666666666666,
              "#ed7953"
             ],
             [
              0.7777777777777778,
              "#fb9f3a"
             ],
             [
              0.8888888888888888,
              "#fdca26"
             ],
             [
              1,
              "#f0f921"
             ]
            ],
            "type": "histogram2d"
           }
          ],
          "histogram2dcontour": [
           {
            "colorbar": {
             "outlinewidth": 0,
             "ticks": ""
            },
            "colorscale": [
             [
              0,
              "#0d0887"
             ],
             [
              0.1111111111111111,
              "#46039f"
             ],
             [
              0.2222222222222222,
              "#7201a8"
             ],
             [
              0.3333333333333333,
              "#9c179e"
             ],
             [
              0.4444444444444444,
              "#bd3786"
             ],
             [
              0.5555555555555556,
              "#d8576b"
             ],
             [
              0.6666666666666666,
              "#ed7953"
             ],
             [
              0.7777777777777778,
              "#fb9f3a"
             ],
             [
              0.8888888888888888,
              "#fdca26"
             ],
             [
              1,
              "#f0f921"
             ]
            ],
            "type": "histogram2dcontour"
           }
          ],
          "mesh3d": [
           {
            "colorbar": {
             "outlinewidth": 0,
             "ticks": ""
            },
            "type": "mesh3d"
           }
          ],
          "parcoords": [
           {
            "line": {
             "colorbar": {
              "outlinewidth": 0,
              "ticks": ""
             }
            },
            "type": "parcoords"
           }
          ],
          "pie": [
           {
            "automargin": true,
            "type": "pie"
           }
          ],
          "scatter": [
           {
            "fillpattern": {
             "fillmode": "overlay",
             "size": 10,
             "solidity": 0.2
            },
            "type": "scatter"
           }
          ],
          "scatter3d": [
           {
            "line": {
             "colorbar": {
              "outlinewidth": 0,
              "ticks": ""
             }
            },
            "marker": {
             "colorbar": {
              "outlinewidth": 0,
              "ticks": ""
             }
            },
            "type": "scatter3d"
           }
          ],
          "scattercarpet": [
           {
            "marker": {
             "colorbar": {
              "outlinewidth": 0,
              "ticks": ""
             }
            },
            "type": "scattercarpet"
           }
          ],
          "scattergeo": [
           {
            "marker": {
             "colorbar": {
              "outlinewidth": 0,
              "ticks": ""
             }
            },
            "type": "scattergeo"
           }
          ],
          "scattergl": [
           {
            "marker": {
             "colorbar": {
              "outlinewidth": 0,
              "ticks": ""
             }
            },
            "type": "scattergl"
           }
          ],
          "scattermapbox": [
           {
            "marker": {
             "colorbar": {
              "outlinewidth": 0,
              "ticks": ""
             }
            },
            "type": "scattermapbox"
           }
          ],
          "scatterpolar": [
           {
            "marker": {
             "colorbar": {
              "outlinewidth": 0,
              "ticks": ""
             }
            },
            "type": "scatterpolar"
           }
          ],
          "scatterpolargl": [
           {
            "marker": {
             "colorbar": {
              "outlinewidth": 0,
              "ticks": ""
             }
            },
            "type": "scatterpolargl"
           }
          ],
          "scatterternary": [
           {
            "marker": {
             "colorbar": {
              "outlinewidth": 0,
              "ticks": ""
             }
            },
            "type": "scatterternary"
           }
          ],
          "surface": [
           {
            "colorbar": {
             "outlinewidth": 0,
             "ticks": ""
            },
            "colorscale": [
             [
              0,
              "#0d0887"
             ],
             [
              0.1111111111111111,
              "#46039f"
             ],
             [
              0.2222222222222222,
              "#7201a8"
             ],
             [
              0.3333333333333333,
              "#9c179e"
             ],
             [
              0.4444444444444444,
              "#bd3786"
             ],
             [
              0.5555555555555556,
              "#d8576b"
             ],
             [
              0.6666666666666666,
              "#ed7953"
             ],
             [
              0.7777777777777778,
              "#fb9f3a"
             ],
             [
              0.8888888888888888,
              "#fdca26"
             ],
             [
              1,
              "#f0f921"
             ]
            ],
            "type": "surface"
           }
          ],
          "table": [
           {
            "cells": {
             "fill": {
              "color": "#EBF0F8"
             },
             "line": {
              "color": "white"
             }
            },
            "header": {
             "fill": {
              "color": "#C8D4E3"
             },
             "line": {
              "color": "white"
             }
            },
            "type": "table"
           }
          ]
         },
         "layout": {
          "annotationdefaults": {
           "arrowcolor": "#2a3f5f",
           "arrowhead": 0,
           "arrowwidth": 1
          },
          "autotypenumbers": "strict",
          "coloraxis": {
           "colorbar": {
            "outlinewidth": 0,
            "ticks": ""
           }
          },
          "colorscale": {
           "diverging": [
            [
             0,
             "#8e0152"
            ],
            [
             0.1,
             "#c51b7d"
            ],
            [
             0.2,
             "#de77ae"
            ],
            [
             0.3,
             "#f1b6da"
            ],
            [
             0.4,
             "#fde0ef"
            ],
            [
             0.5,
             "#f7f7f7"
            ],
            [
             0.6,
             "#e6f5d0"
            ],
            [
             0.7,
             "#b8e186"
            ],
            [
             0.8,
             "#7fbc41"
            ],
            [
             0.9,
             "#4d9221"
            ],
            [
             1,
             "#276419"
            ]
           ],
           "sequential": [
            [
             0,
             "#0d0887"
            ],
            [
             0.1111111111111111,
             "#46039f"
            ],
            [
             0.2222222222222222,
             "#7201a8"
            ],
            [
             0.3333333333333333,
             "#9c179e"
            ],
            [
             0.4444444444444444,
             "#bd3786"
            ],
            [
             0.5555555555555556,
             "#d8576b"
            ],
            [
             0.6666666666666666,
             "#ed7953"
            ],
            [
             0.7777777777777778,
             "#fb9f3a"
            ],
            [
             0.8888888888888888,
             "#fdca26"
            ],
            [
             1,
             "#f0f921"
            ]
           ],
           "sequentialminus": [
            [
             0,
             "#0d0887"
            ],
            [
             0.1111111111111111,
             "#46039f"
            ],
            [
             0.2222222222222222,
             "#7201a8"
            ],
            [
             0.3333333333333333,
             "#9c179e"
            ],
            [
             0.4444444444444444,
             "#bd3786"
            ],
            [
             0.5555555555555556,
             "#d8576b"
            ],
            [
             0.6666666666666666,
             "#ed7953"
            ],
            [
             0.7777777777777778,
             "#fb9f3a"
            ],
            [
             0.8888888888888888,
             "#fdca26"
            ],
            [
             1,
             "#f0f921"
            ]
           ]
          },
          "colorway": [
           "#636efa",
           "#EF553B",
           "#00cc96",
           "#ab63fa",
           "#FFA15A",
           "#19d3f3",
           "#FF6692",
           "#B6E880",
           "#FF97FF",
           "#FECB52"
          ],
          "font": {
           "color": "#2a3f5f"
          },
          "geo": {
           "bgcolor": "white",
           "lakecolor": "white",
           "landcolor": "white",
           "showlakes": true,
           "showland": true,
           "subunitcolor": "#C8D4E3"
          },
          "hoverlabel": {
           "align": "left"
          },
          "hovermode": "closest",
          "mapbox": {
           "style": "light"
          },
          "paper_bgcolor": "white",
          "plot_bgcolor": "white",
          "polar": {
           "angularaxis": {
            "gridcolor": "#EBF0F8",
            "linecolor": "#EBF0F8",
            "ticks": ""
           },
           "bgcolor": "white",
           "radialaxis": {
            "gridcolor": "#EBF0F8",
            "linecolor": "#EBF0F8",
            "ticks": ""
           }
          },
          "scene": {
           "xaxis": {
            "backgroundcolor": "white",
            "gridcolor": "#DFE8F3",
            "gridwidth": 2,
            "linecolor": "#EBF0F8",
            "showbackground": true,
            "ticks": "",
            "zerolinecolor": "#EBF0F8"
           },
           "yaxis": {
            "backgroundcolor": "white",
            "gridcolor": "#DFE8F3",
            "gridwidth": 2,
            "linecolor": "#EBF0F8",
            "showbackground": true,
            "ticks": "",
            "zerolinecolor": "#EBF0F8"
           },
           "zaxis": {
            "backgroundcolor": "white",
            "gridcolor": "#DFE8F3",
            "gridwidth": 2,
            "linecolor": "#EBF0F8",
            "showbackground": true,
            "ticks": "",
            "zerolinecolor": "#EBF0F8"
           }
          },
          "shapedefaults": {
           "line": {
            "color": "#2a3f5f"
           }
          },
          "ternary": {
           "aaxis": {
            "gridcolor": "#DFE8F3",
            "linecolor": "#A2B1C6",
            "ticks": ""
           },
           "baxis": {
            "gridcolor": "#DFE8F3",
            "linecolor": "#A2B1C6",
            "ticks": ""
           },
           "bgcolor": "white",
           "caxis": {
            "gridcolor": "#DFE8F3",
            "linecolor": "#A2B1C6",
            "ticks": ""
           }
          },
          "title": {
           "x": 0.05
          },
          "xaxis": {
           "automargin": true,
           "gridcolor": "#EBF0F8",
           "linecolor": "#EBF0F8",
           "ticks": "",
           "title": {
            "standoff": 15
           },
           "zerolinecolor": "#EBF0F8",
           "zerolinewidth": 2
          },
          "yaxis": {
           "automargin": true,
           "gridcolor": "#EBF0F8",
           "linecolor": "#EBF0F8",
           "ticks": "",
           "title": {
            "standoff": 15
           },
           "zerolinecolor": "#EBF0F8",
           "zerolinewidth": 2
          }
         }
        },
        "title": {
         "text": "TotalBsmtSF Distribution"
        },
        "xaxis": {
         "anchor": "y",
         "domain": [
          0,
          1
         ],
         "title": {
          "text": "Total Basement Area (sq ft)"
         }
        },
        "yaxis": {
         "anchor": "x",
         "domain": [
          0,
          1
         ],
         "title": {
          "text": "count"
         }
        }
       }
      }
     },
     "metadata": {},
     "output_type": "display_data"
    }
   ],
   "source": [
    "# plot the distribution of TotalBsmtSF\n",
    "fig = px.histogram(train_cleaned, \n",
    "                   x='TotalBsmtSF', \n",
    "                   nbins=100, \n",
    "                   title='TotalBsmtSF Distribution',\n",
    "                   labels={'TotalBsmtSF': 'Total Basement Area (sq ft)'},\n",
    "                   template='plotly_white')\n",
    "\n",
    "fig.update_traces(marker_color='blue', opacity=0.75)\n",
    "fig.show()"
   ]
  },
  {
   "cell_type": "code",
   "execution_count": 93,
   "metadata": {},
   "outputs": [
    {
     "data": {
      "application/vnd.plotly.v1+json": {
       "config": {
        "plotlyServerURL": "https://plot.ly"
       },
       "data": [
        {
         "alignmentgroup": "True",
         "bingroup": "x",
         "hovertemplate": "First Floor Area (sq ft)=%{x}<br>count=%{y}<extra></extra>",
         "legendgroup": "",
         "marker": {
          "color": "blue",
          "pattern": {
           "shape": ""
          }
         },
         "name": "",
         "nbinsx": 100,
         "offsetgroup": "",
         "opacity": 0.75,
         "orientation": "v",
         "showlegend": false,
         "type": "histogram",
         "x": [
          856,
          1262,
          920,
          961,
          1145,
          796,
          1694,
          1107,
          1022,
          1077,
          1040,
          1182,
          912,
          1494,
          1253,
          854,
          1004,
          1296,
          1114,
          1339,
          1158,
          1108,
          1795,
          1060,
          1060,
          1600,
          900,
          1704,
          1600,
          520,
          649,
          1228,
          1234,
          1700,
          1561,
          1132,
          1097,
          1297,
          1057,
          1152,
          1324,
          1328,
          884,
          938,
          1150,
          1752,
          1518,
          1656,
          736,
          955,
          794,
          816,
          816,
          1842,
          1360,
          1425,
          983,
          860,
          1426,
          780,
          1158,
          581,
          1370,
          902,
          1057,
          1143,
          2207,
          1479,
          747,
          1304,
          2223,
          845,
          885,
          1086,
          840,
          526,
          952,
          1072,
          1768,
          682,
          1182,
          1337,
          1563,
          1065,
          804,
          1301,
          684,
          612,
          1013,
          990,
          1040,
          1235,
          964,
          1260,
          905,
          680,
          1588,
          960,
          835,
          1225,
          1610,
          977,
          1535,
          1226,
          1226,
          1053,
          1047,
          789,
          997,
          1844,
          1216,
          774,
          1282,
          2259,
          1436,
          729,
          1092,
          1125,
          1699,
          728,
          988,
          772,
          1080,
          1199,
          1586,
          520,
          958,
          840,
          660,
          1053,
          1216,
          1022,
          1327,
          1296,
          1721,
          1682,
          1214,
          1959,
          1004,
          928,
          864,
          1734,
          910,
          1501,
          1728,
          970,
          875,
          884,
          1080,
          896,
          969,
          1710,
          1097,
          1252,
          1200,
          572,
          1040,
          774,
          991,
          1392,
          1232,
          1572,
          1541,
          882,
          1149,
          808,
          1867,
          1610,
          840,
          1707,
          854,
          1656,
          1064,
          1362,
          1651,
          2158,
          1164,
          1252,
          2234,
          968,
          769,
          901,
          1340,
          1362,
          936,
          1518,
          1217,
          808,
          1224,
          1593,
          1549,
          725,
          1431,
          970,
          864,
          855,
          1726,
          1360,
          929,
          1713,
          1121,
          1279,
          865,
          848,
          720,
          1442,
          1696,
          1100,
          1180,
          1092,
          864,
          1212,
          932,
          990,
          689,
          1236,
          1436,
          810,
          1137,
          1248,
          1498,
          1010,
          811,
          864,
          2392,
          630,
          1214,
          483,
          912,
          1555,
          1194,
          1490,
          483,
          894,
          860,
          483,
          1414,
          1014,
          1694,
          798,
          1566,
          866,
          889,
          626,
          1222,
          1872,
          908,
          1375,
          840,
          1444,
          1306,
          1625,
          798,
          1302,
          1314,
          1005,
          864,
          1604,
          963,
          882,
          1382,
          1482,
          1212,
          926,
          764,
          1422,
          802,
          1052,
          778,
          1113,
          1095,
          1363,
          1164,
          1632,
          816,
          952,
          1560,
          864,
          2121,
          1156,
          1175,
          1262,
          1314,
          1468,
          1575,
          625,
          1085,
          858,
          900,
          698,
          1079,
          936,
          1148,
          1468,
          1644,
          1003,
          910,
          975,
          1041,
          1152,
          1336,
          1210,
          1541,
          894,
          1675,
          2000,
          1122,
          1035,
          861,
          1944,
          697,
          972,
          793,
          2036,
          832,
          716,
          1153,
          1088,
          1372,
          1472,
          1249,
          1136,
          1553,
          1163,
          1898,
          803,
          1719,
          1383,
          1445,
          596,
          1728,
          1056,
          1629,
          1358,
          943,
          1619,
          1922,
          1536,
          1621,
          1215,
          993,
          841,
          1040,
          1684,
          536,
          972,
          958,
          1478,
          764,
          1848,
          1869,
          1453,
          616,
          720,
          1192,
          1200,
          1167,
          1142,
          1352,
          1086,
          912,
          988,
          495,
          483,
          790,
          672,
          1394,
          1431,
          1268,
          1287,
          953,
          1120,
          752,
          1319,
          847,
          904,
          914,
          1580,
          1856,
          1007,
          1026,
          1301,
          939,
          784,
          1079,
          1269,
          658,
          1125,
          1479,
          1742,
          961,
          804,
          882,
          788,
          735,
          1144,
          894,
          876,
          1077,
          1112,
          1288,
          1310,
          672,
          1165,
          806,
          1620,
          1166,
          840,
          1071,
          1050,
          1276,
          1056,
          1478,
          1028,
          1080,
          1340,
          672,
          1370,
          756,
          1056,
          1344,
          1602,
          988,
          1470,
          1196,
          707,
          1644,
          907,
          1208,
          1412,
          483,
          1088,
          765,
          926,
          630,
          827,
          734,
          904,
          694,
          684,
          2402,
          1440,
          1128,
          1258,
          933,
          1689,
          1888,
          956,
          780,
          679,
          813,
          1533,
          888,
          786,
          1728,
          1242,
          624,
          1663,
          833,
          979,
          832,
          575,
          864,
          849,
          1040,
          1414,
          1277,
          888,
          1634,
          832,
          1502,
          1161,
          1072,
          1976,
          1652,
          970,
          1493,
          2069,
          1718,
          1131,
          1850,
          1792,
          916,
          1216,
          999,
          1113,
          1073,
          1484,
          1766,
          630,
          616,
          958,
          728,
          1269,
          886,
          720,
          3228,
          1133,
          899,
          912,
          672,
          866,
          1214,
          1801,
          855,
          960,
          1065,
          1218,
          689,
          1041,
          1363,
          1368,
          864,
          1080,
          789,
          2020,
          1378,
          1277,
          882,
          1276,
          694,
          1244,
          1004,
          3138,
          1383,
          1266,
          928,
          1476,
          605,
          2515,
          1509,
          751,
          827,
          334,
          707,
          820,
          880,
          864,
          1159,
          1601,
          1838,
          997,
          1680,
          767,
          664,
          1377,
          915,
          768,
          825,
          912,
          1069,
          928,
          1717,
          1126,
          1006,
          1048,
          1092,
          897,
          729,
          1557,
          1392,
          1389,
          996,
          1163,
          1166,
          841,
          1134,
          1535,
          1496,
          943,
          1728,
          864,
          846,
          774,
          576,
          832,
          877,
          1320,
          703,
          1050,
          1429,
          2042,
          816,
          1521,
          989,
          2028,
          838,
          860,
          1473,
          779,
          770,
          1728,
          816,
          848,
          924,
          1826,
          684,
          1402,
          1647,
          716,
          1058,
          780,
          927,
          600,
          1494,
          1186,
          1040,
          1112,
          1940,
          1029,
          1476,
          1032,
          1299,
          1120,
          630,
          1054,
          807,
          832,
          1828,
          1482,
          864,
          1548,
          980,
          756,
          1012,
          1116,
          1422,
          1520,
          1040,
          1350,
          1089,
          1554,
          1411,
          1056,
          1056,
          1440,
          800,
          811,
          796,
          1567,
          1518,
          1057,
          2000,
          780,
          1766,
          981,
          1048,
          1094,
          1051,
          630,
          822,
          755,
          909,
          756,
          2113,
          525,
          1053,
          851,
          912,
          1486,
          1142,
          1686,
          1392,
          1181,
          2097,
          1454,
          1465,
          1679,
          1437,
          1180,
          738,
          697,
          1208,
          1839,
          1136,
          855,
          1095,
          792,
          2046,
          988,
          923,
          848,
          1291,
          1668,
          1195,
          1190,
          874,
          551,
          1419,
          1362,
          848,
          2444,
          1238,
          1073,
          1067,
          1137,
          616,
          1148,
          894,
          1391,
          1800,
          1164,
          1264,
          1032,
          1484,
          372,
          1824,
          1324,
          728,
          904,
          729,
          859,
          1228,
          960,
          725,
          1350,
          1576,
          1178,
          1325,
          971,
          1742,
          848,
          864,
          997,
          1698,
          864,
          1680,
          1232,
          1776,
          848,
          1616,
          1146,
          1153,
          1144,
          948,
          880,
          1040,
          901,
          1200,
          864,
          768,
          912,
          1349,
          1464,
          1337,
          1175,
          980,
          1320,
          1720,
          1088,
          792,
          660,
          1494,
          1038,
          1026,
          742,
          866,
          672,
          757,
          1328,
          864,
          1301,
          764,
          1268,
          1494,
          1506,
          980,
          983,
          1836,
          1690,
          858,
          1220,
          1117,
          912,
          1973,
          1204,
          1614,
          894,
          2020,
          1004,
          1253,
          810,
          1430,
          1110,
          742,
          1342,
          966,
          956,
          901,
          976,
          1145,
          1062,
          1127,
          1496,
          1086,
          888,
          1285,
          773,
          1966,
          981,
          616,
          1196,
          728,
          1734,
          1128,
          1428,
          980,
          1072,
          1086,
          1075,
          1309,
          848,
          1044,
          1442,
          686,
          1661,
          1008,
          1689,
          1052,
          1358,
          798,
          936,
          847,
          944,
          1489,
          2084,
          784,
          1434,
          1160,
          520,
          1392,
          520,
          941,
          1516,
          1144,
          1067,
          1559,
          483,
          1099,
          768,
          810,
          958,
          1165,
          1800,
          876,
          1701,
          1006,
          864,
          1307,
          1094,
          848,
          1456,
          918,
          1445,
          1779,
          1040,
          1026,
          702,
          1370,
          1512,
          912,
          1039,
          1097,
          1148,
          1372,
          1002,
          1646,
          1120,
          1547,
          1062,
          894,
          804,
          910,
          1036,
          676,
          1184,
          1040,
          1462,
          1155,
          864,
          1090,
          1187,
          808,
          954,
          892,
          1709,
          1712,
          872,
          2217,
          1505,
          672,
          918,
          1068,
          1383,
          1535,
          983,
          951,
          1120,
          2364,
          1236,
          858,
          1306,
          807,
          1670,
          902,
          1063,
          1636,
          1020,
          902,
          742,
          1105,
          1268,
          1015,
          1001,
          612,
          546,
          480,
          1229,
          912,
          1414,
          936,
          1272,
          1316,
          1617,
          1686,
          1126,
          1234,
          1098,
          1788,
          993,
          1466,
          925,
          1905,
          1500,
          2069,
          747,
          1200,
          1113,
          1391,
          1207,
          1728,
          1022,
          1440,
          1632,
          1344,
          1188,
          1144,
          1629,
          936,
          1381,
          864,
          965,
          768,
          1168,
          980,
          979,
          561,
          1057,
          1337,
          696,
          858,
          1542,
          804,
          1800,
          824,
          783,
          976,
          1098,
          600,
          1095,
          720,
          764,
          918,
          1428,
          1136,
          673,
          869,
          1241,
          894,
          1121,
          999,
          1276,
          1266,
          1149,
          1302,
          1164,
          1001,
          1940,
          1118,
          778,
          1407,
          916,
          1020,
          750,
          1718,
          774,
          1050,
          1442,
          1077,
          1208,
          944,
          691,
          1574,
          1680,
          1504,
          985,
          1657,
          546,
          1710,
          1008,
          720,
          1664,
          900,
          1022,
          1082,
          810,
          1504,
          1360,
          802,
          1506,
          1132,
          1220,
          912,
          1504,
          2898,
          882,
          1264,
          1646,
          968,
          672,
          948,
          1687,
          1352,
          1654,
          954,
          845,
          1620,
          1055,
          798,
          630,
          1803,
          800,
          1306,
          1532,
          2524,
          1733,
          1992,
          990,
          1771,
          930,
          1302,
          1316,
          1127,
          1526,
          1091,
          1523,
          1364,
          979,
          1130,
          1096,
          1338,
          894,
          1422,
          1103,
          1154,
          1306,
          799,
          798,
          1291,
          893,
          1048,
          829,
          1002,
          698,
          1240,
          960,
          1096,
          1096,
          848,
          990,
          1258,
          1040,
          1459,
          1251,
          691,
          996,
          546,
          1082,
          970,
          1247,
          1040,
          624,
          1390,
          1200,
          936,
          1314,
          773,
          1088,
          757,
          1601,
          438,
          950,
          1134,
          1194,
          630,
          1500,
          1442,
          887,
          948,
          1836,
          773,
          1098,
          816,
          1008,
          833,
          1734,
          779,
          894,
          1021,
          1040,
          1012,
          1552,
          960,
          698,
          812,
          1005,
          1555,
          1530,
          847,
          936,
          1328,
          974,
          1178,
          1142,
          916,
          986,
          1032,
          780,
          1567,
          1167,
          952,
          1088,
          1466,
          1006,
          672,
          1042,
          1298,
          860,
          572,
          832,
          932,
          1466,
          1811,
          816,
          902,
          1437,
          1265,
          1314,
          1580,
          943,
          855,
          1640,
          894,
          1258,
          1432,
          1502,
          1694,
          959,
          1236,
          1831,
          1118,
          1261,
          625,
          1636,
          1170,
          2129,
          923,
          818,
          820,
          1124,
          1298,
          1652,
          2411,
          1130,
          1572,
          949,
          1014,
          1624,
          831,
          1028,
          1622,
          764,
          842,
          1224,
          663,
          728,
          879,
          815,
          1212,
          1382,
          864,
          866,
          884,
          1630,
          1074,
          2196,
          1056,
          1700,
          1283,
          1660,
          1055,
          1080,
          672,
          960,
          999,
          894,
          1318,
          1314,
          672,
          672,
          912,
          1211,
          1168,
          2136,
          788,
          1138,
          894,
          912,
          1702,
          1507,
          1361,
          1190,
          1224,
          1188,
          1024,
          892,
          764,
          847,
          1141,
          1484,
          884,
          1689,
          1173,
          2076,
          792,
          1140,
          756,
          1034,
          1134,
          988,
          2110,
          1405,
          874,
          1516,
          760,
          959,
          1987,
          864,
          1166,
          1054,
          892,
          1050,
          1104,
          1060,
          1337,
          713,
          964,
          2018,
          1968,
          874,
          1332,
          1489,
          935,
          1357,
          661,
          928,
          735,
          1724,
          1128,
          698,
          1573,
          1339,
          1040,
          912,
          1699,
          825,
          1328,
          1582,
          1659,
          1120,
          1152,
          630,
          1378,
          832,
          864,
          1052,
          1128,
          1072,
          4692,
          1246,
          1005,
          753,
          1203,
          1616,
          976,
          1652,
          1368,
          990,
          1122,
          1294,
          1902,
          1274,
          1453,
          1422,
          948,
          1092,
          1630,
          1352,
          1787,
          948,
          1478,
          720,
          1061,
          708,
          1795,
          796,
          774,
          816,
          1584,
          955,
          1588,
          954,
          816,
          803,
          765,
          1334,
          1656,
          693,
          920,
          864,
          872,
          1114,
          1284,
          1172,
          728,
          960,
          2156,
          1776,
          1494,
          938,
          1338,
          858,
          786,
          2053,
          992,
          1222,
          892,
          1078,
          769,
          1980,
          990,
          1530,
          1281,
          616,
          520,
          814,
          882,
          925,
          848,
          1668,
          840,
          1661,
          1108,
          2633,
          1026,
          1571,
          790,
          984,
          483,
          754,
          864,
          2117,
          998,
          1416,
          698,
          796,
          1392,
          1664,
          1746,
          869,
          1525,
          1584,
          900,
          1221,
          1500,
          1133,
          1687,
          939,
          1136,
          1160,
          950,
          864,
          1294,
          1464,
          694,
          1646,
          768,
          833,
          741,
          1236,
          944,
          1112,
          1040,
          1844,
          1053,
          1569,
          1246,
          1310,
          1144,
          1844,
          708,
          1069,
          848,
          1575,
          1344,
          1252,
          1223,
          1048,
          804,
          1440,
          734,
          958,
          968,
          962,
          1126,
          1537,
          864,
          1932,
          1236,
          1040,
          1423,
          848,
          1026,
          952,
          1422,
          913,
          1188,
          1220,
          796,
          630,
          896,
          1578,
          1072,
          1140,
          1221,
          953,
          2073,
          1188,
          1078,
          1256
         ],
         "xaxis": "x",
         "yaxis": "y"
        }
       ],
       "layout": {
        "barmode": "relative",
        "legend": {
         "tracegroupgap": 0
        },
        "template": {
         "data": {
          "bar": [
           {
            "error_x": {
             "color": "#2a3f5f"
            },
            "error_y": {
             "color": "#2a3f5f"
            },
            "marker": {
             "line": {
              "color": "white",
              "width": 0.5
             },
             "pattern": {
              "fillmode": "overlay",
              "size": 10,
              "solidity": 0.2
             }
            },
            "type": "bar"
           }
          ],
          "barpolar": [
           {
            "marker": {
             "line": {
              "color": "white",
              "width": 0.5
             },
             "pattern": {
              "fillmode": "overlay",
              "size": 10,
              "solidity": 0.2
             }
            },
            "type": "barpolar"
           }
          ],
          "carpet": [
           {
            "aaxis": {
             "endlinecolor": "#2a3f5f",
             "gridcolor": "#C8D4E3",
             "linecolor": "#C8D4E3",
             "minorgridcolor": "#C8D4E3",
             "startlinecolor": "#2a3f5f"
            },
            "baxis": {
             "endlinecolor": "#2a3f5f",
             "gridcolor": "#C8D4E3",
             "linecolor": "#C8D4E3",
             "minorgridcolor": "#C8D4E3",
             "startlinecolor": "#2a3f5f"
            },
            "type": "carpet"
           }
          ],
          "choropleth": [
           {
            "colorbar": {
             "outlinewidth": 0,
             "ticks": ""
            },
            "type": "choropleth"
           }
          ],
          "contour": [
           {
            "colorbar": {
             "outlinewidth": 0,
             "ticks": ""
            },
            "colorscale": [
             [
              0,
              "#0d0887"
             ],
             [
              0.1111111111111111,
              "#46039f"
             ],
             [
              0.2222222222222222,
              "#7201a8"
             ],
             [
              0.3333333333333333,
              "#9c179e"
             ],
             [
              0.4444444444444444,
              "#bd3786"
             ],
             [
              0.5555555555555556,
              "#d8576b"
             ],
             [
              0.6666666666666666,
              "#ed7953"
             ],
             [
              0.7777777777777778,
              "#fb9f3a"
             ],
             [
              0.8888888888888888,
              "#fdca26"
             ],
             [
              1,
              "#f0f921"
             ]
            ],
            "type": "contour"
           }
          ],
          "contourcarpet": [
           {
            "colorbar": {
             "outlinewidth": 0,
             "ticks": ""
            },
            "type": "contourcarpet"
           }
          ],
          "heatmap": [
           {
            "colorbar": {
             "outlinewidth": 0,
             "ticks": ""
            },
            "colorscale": [
             [
              0,
              "#0d0887"
             ],
             [
              0.1111111111111111,
              "#46039f"
             ],
             [
              0.2222222222222222,
              "#7201a8"
             ],
             [
              0.3333333333333333,
              "#9c179e"
             ],
             [
              0.4444444444444444,
              "#bd3786"
             ],
             [
              0.5555555555555556,
              "#d8576b"
             ],
             [
              0.6666666666666666,
              "#ed7953"
             ],
             [
              0.7777777777777778,
              "#fb9f3a"
             ],
             [
              0.8888888888888888,
              "#fdca26"
             ],
             [
              1,
              "#f0f921"
             ]
            ],
            "type": "heatmap"
           }
          ],
          "heatmapgl": [
           {
            "colorbar": {
             "outlinewidth": 0,
             "ticks": ""
            },
            "colorscale": [
             [
              0,
              "#0d0887"
             ],
             [
              0.1111111111111111,
              "#46039f"
             ],
             [
              0.2222222222222222,
              "#7201a8"
             ],
             [
              0.3333333333333333,
              "#9c179e"
             ],
             [
              0.4444444444444444,
              "#bd3786"
             ],
             [
              0.5555555555555556,
              "#d8576b"
             ],
             [
              0.6666666666666666,
              "#ed7953"
             ],
             [
              0.7777777777777778,
              "#fb9f3a"
             ],
             [
              0.8888888888888888,
              "#fdca26"
             ],
             [
              1,
              "#f0f921"
             ]
            ],
            "type": "heatmapgl"
           }
          ],
          "histogram": [
           {
            "marker": {
             "pattern": {
              "fillmode": "overlay",
              "size": 10,
              "solidity": 0.2
             }
            },
            "type": "histogram"
           }
          ],
          "histogram2d": [
           {
            "colorbar": {
             "outlinewidth": 0,
             "ticks": ""
            },
            "colorscale": [
             [
              0,
              "#0d0887"
             ],
             [
              0.1111111111111111,
              "#46039f"
             ],
             [
              0.2222222222222222,
              "#7201a8"
             ],
             [
              0.3333333333333333,
              "#9c179e"
             ],
             [
              0.4444444444444444,
              "#bd3786"
             ],
             [
              0.5555555555555556,
              "#d8576b"
             ],
             [
              0.6666666666666666,
              "#ed7953"
             ],
             [
              0.7777777777777778,
              "#fb9f3a"
             ],
             [
              0.8888888888888888,
              "#fdca26"
             ],
             [
              1,
              "#f0f921"
             ]
            ],
            "type": "histogram2d"
           }
          ],
          "histogram2dcontour": [
           {
            "colorbar": {
             "outlinewidth": 0,
             "ticks": ""
            },
            "colorscale": [
             [
              0,
              "#0d0887"
             ],
             [
              0.1111111111111111,
              "#46039f"
             ],
             [
              0.2222222222222222,
              "#7201a8"
             ],
             [
              0.3333333333333333,
              "#9c179e"
             ],
             [
              0.4444444444444444,
              "#bd3786"
             ],
             [
              0.5555555555555556,
              "#d8576b"
             ],
             [
              0.6666666666666666,
              "#ed7953"
             ],
             [
              0.7777777777777778,
              "#fb9f3a"
             ],
             [
              0.8888888888888888,
              "#fdca26"
             ],
             [
              1,
              "#f0f921"
             ]
            ],
            "type": "histogram2dcontour"
           }
          ],
          "mesh3d": [
           {
            "colorbar": {
             "outlinewidth": 0,
             "ticks": ""
            },
            "type": "mesh3d"
           }
          ],
          "parcoords": [
           {
            "line": {
             "colorbar": {
              "outlinewidth": 0,
              "ticks": ""
             }
            },
            "type": "parcoords"
           }
          ],
          "pie": [
           {
            "automargin": true,
            "type": "pie"
           }
          ],
          "scatter": [
           {
            "fillpattern": {
             "fillmode": "overlay",
             "size": 10,
             "solidity": 0.2
            },
            "type": "scatter"
           }
          ],
          "scatter3d": [
           {
            "line": {
             "colorbar": {
              "outlinewidth": 0,
              "ticks": ""
             }
            },
            "marker": {
             "colorbar": {
              "outlinewidth": 0,
              "ticks": ""
             }
            },
            "type": "scatter3d"
           }
          ],
          "scattercarpet": [
           {
            "marker": {
             "colorbar": {
              "outlinewidth": 0,
              "ticks": ""
             }
            },
            "type": "scattercarpet"
           }
          ],
          "scattergeo": [
           {
            "marker": {
             "colorbar": {
              "outlinewidth": 0,
              "ticks": ""
             }
            },
            "type": "scattergeo"
           }
          ],
          "scattergl": [
           {
            "marker": {
             "colorbar": {
              "outlinewidth": 0,
              "ticks": ""
             }
            },
            "type": "scattergl"
           }
          ],
          "scattermapbox": [
           {
            "marker": {
             "colorbar": {
              "outlinewidth": 0,
              "ticks": ""
             }
            },
            "type": "scattermapbox"
           }
          ],
          "scatterpolar": [
           {
            "marker": {
             "colorbar": {
              "outlinewidth": 0,
              "ticks": ""
             }
            },
            "type": "scatterpolar"
           }
          ],
          "scatterpolargl": [
           {
            "marker": {
             "colorbar": {
              "outlinewidth": 0,
              "ticks": ""
             }
            },
            "type": "scatterpolargl"
           }
          ],
          "scatterternary": [
           {
            "marker": {
             "colorbar": {
              "outlinewidth": 0,
              "ticks": ""
             }
            },
            "type": "scatterternary"
           }
          ],
          "surface": [
           {
            "colorbar": {
             "outlinewidth": 0,
             "ticks": ""
            },
            "colorscale": [
             [
              0,
              "#0d0887"
             ],
             [
              0.1111111111111111,
              "#46039f"
             ],
             [
              0.2222222222222222,
              "#7201a8"
             ],
             [
              0.3333333333333333,
              "#9c179e"
             ],
             [
              0.4444444444444444,
              "#bd3786"
             ],
             [
              0.5555555555555556,
              "#d8576b"
             ],
             [
              0.6666666666666666,
              "#ed7953"
             ],
             [
              0.7777777777777778,
              "#fb9f3a"
             ],
             [
              0.8888888888888888,
              "#fdca26"
             ],
             [
              1,
              "#f0f921"
             ]
            ],
            "type": "surface"
           }
          ],
          "table": [
           {
            "cells": {
             "fill": {
              "color": "#EBF0F8"
             },
             "line": {
              "color": "white"
             }
            },
            "header": {
             "fill": {
              "color": "#C8D4E3"
             },
             "line": {
              "color": "white"
             }
            },
            "type": "table"
           }
          ]
         },
         "layout": {
          "annotationdefaults": {
           "arrowcolor": "#2a3f5f",
           "arrowhead": 0,
           "arrowwidth": 1
          },
          "autotypenumbers": "strict",
          "coloraxis": {
           "colorbar": {
            "outlinewidth": 0,
            "ticks": ""
           }
          },
          "colorscale": {
           "diverging": [
            [
             0,
             "#8e0152"
            ],
            [
             0.1,
             "#c51b7d"
            ],
            [
             0.2,
             "#de77ae"
            ],
            [
             0.3,
             "#f1b6da"
            ],
            [
             0.4,
             "#fde0ef"
            ],
            [
             0.5,
             "#f7f7f7"
            ],
            [
             0.6,
             "#e6f5d0"
            ],
            [
             0.7,
             "#b8e186"
            ],
            [
             0.8,
             "#7fbc41"
            ],
            [
             0.9,
             "#4d9221"
            ],
            [
             1,
             "#276419"
            ]
           ],
           "sequential": [
            [
             0,
             "#0d0887"
            ],
            [
             0.1111111111111111,
             "#46039f"
            ],
            [
             0.2222222222222222,
             "#7201a8"
            ],
            [
             0.3333333333333333,
             "#9c179e"
            ],
            [
             0.4444444444444444,
             "#bd3786"
            ],
            [
             0.5555555555555556,
             "#d8576b"
            ],
            [
             0.6666666666666666,
             "#ed7953"
            ],
            [
             0.7777777777777778,
             "#fb9f3a"
            ],
            [
             0.8888888888888888,
             "#fdca26"
            ],
            [
             1,
             "#f0f921"
            ]
           ],
           "sequentialminus": [
            [
             0,
             "#0d0887"
            ],
            [
             0.1111111111111111,
             "#46039f"
            ],
            [
             0.2222222222222222,
             "#7201a8"
            ],
            [
             0.3333333333333333,
             "#9c179e"
            ],
            [
             0.4444444444444444,
             "#bd3786"
            ],
            [
             0.5555555555555556,
             "#d8576b"
            ],
            [
             0.6666666666666666,
             "#ed7953"
            ],
            [
             0.7777777777777778,
             "#fb9f3a"
            ],
            [
             0.8888888888888888,
             "#fdca26"
            ],
            [
             1,
             "#f0f921"
            ]
           ]
          },
          "colorway": [
           "#636efa",
           "#EF553B",
           "#00cc96",
           "#ab63fa",
           "#FFA15A",
           "#19d3f3",
           "#FF6692",
           "#B6E880",
           "#FF97FF",
           "#FECB52"
          ],
          "font": {
           "color": "#2a3f5f"
          },
          "geo": {
           "bgcolor": "white",
           "lakecolor": "white",
           "landcolor": "white",
           "showlakes": true,
           "showland": true,
           "subunitcolor": "#C8D4E3"
          },
          "hoverlabel": {
           "align": "left"
          },
          "hovermode": "closest",
          "mapbox": {
           "style": "light"
          },
          "paper_bgcolor": "white",
          "plot_bgcolor": "white",
          "polar": {
           "angularaxis": {
            "gridcolor": "#EBF0F8",
            "linecolor": "#EBF0F8",
            "ticks": ""
           },
           "bgcolor": "white",
           "radialaxis": {
            "gridcolor": "#EBF0F8",
            "linecolor": "#EBF0F8",
            "ticks": ""
           }
          },
          "scene": {
           "xaxis": {
            "backgroundcolor": "white",
            "gridcolor": "#DFE8F3",
            "gridwidth": 2,
            "linecolor": "#EBF0F8",
            "showbackground": true,
            "ticks": "",
            "zerolinecolor": "#EBF0F8"
           },
           "yaxis": {
            "backgroundcolor": "white",
            "gridcolor": "#DFE8F3",
            "gridwidth": 2,
            "linecolor": "#EBF0F8",
            "showbackground": true,
            "ticks": "",
            "zerolinecolor": "#EBF0F8"
           },
           "zaxis": {
            "backgroundcolor": "white",
            "gridcolor": "#DFE8F3",
            "gridwidth": 2,
            "linecolor": "#EBF0F8",
            "showbackground": true,
            "ticks": "",
            "zerolinecolor": "#EBF0F8"
           }
          },
          "shapedefaults": {
           "line": {
            "color": "#2a3f5f"
           }
          },
          "ternary": {
           "aaxis": {
            "gridcolor": "#DFE8F3",
            "linecolor": "#A2B1C6",
            "ticks": ""
           },
           "baxis": {
            "gridcolor": "#DFE8F3",
            "linecolor": "#A2B1C6",
            "ticks": ""
           },
           "bgcolor": "white",
           "caxis": {
            "gridcolor": "#DFE8F3",
            "linecolor": "#A2B1C6",
            "ticks": ""
           }
          },
          "title": {
           "x": 0.05
          },
          "xaxis": {
           "automargin": true,
           "gridcolor": "#EBF0F8",
           "linecolor": "#EBF0F8",
           "ticks": "",
           "title": {
            "standoff": 15
           },
           "zerolinecolor": "#EBF0F8",
           "zerolinewidth": 2
          },
          "yaxis": {
           "automargin": true,
           "gridcolor": "#EBF0F8",
           "linecolor": "#EBF0F8",
           "ticks": "",
           "title": {
            "standoff": 15
           },
           "zerolinecolor": "#EBF0F8",
           "zerolinewidth": 2
          }
         }
        },
        "title": {
         "text": "1stFlrSF Distribution"
        },
        "xaxis": {
         "anchor": "y",
         "domain": [
          0,
          1
         ],
         "title": {
          "text": "First Floor Area (sq ft)"
         }
        },
        "yaxis": {
         "anchor": "x",
         "domain": [
          0,
          1
         ],
         "title": {
          "text": "count"
         }
        }
       }
      }
     },
     "metadata": {},
     "output_type": "display_data"
    }
   ],
   "source": [
    "# plot the distribution of 1stFlrSF\n",
    "fig = px.histogram(train_cleaned,\n",
    "                     x='1stFlrSF',\n",
    "                     nbins=100,\n",
    "                     title='1stFlrSF Distribution',\n",
    "                     labels={'1stFlrSF': 'First Floor Area (sq ft)'},\n",
    "                     template='plotly_white')\n",
    "\n",
    "fig.update_traces(marker_color='blue', opacity=0.75)\n",
    "fig.show()\n"
   ]
  },
  {
   "cell_type": "code",
   "execution_count": 94,
   "metadata": {},
   "outputs": [
    {
     "data": {
      "application/vnd.plotly.v1+json": {
       "config": {
        "plotlyServerURL": "https://plot.ly"
       },
       "data": [
        {
         "alignmentgroup": "True",
         "bingroup": "x",
         "hovertemplate": "Second Floor Area (sq ft)=%{x}<br>count=%{y}<extra></extra>",
         "legendgroup": "",
         "marker": {
          "color": "blue",
          "pattern": {
           "shape": ""
          }
         },
         "name": "",
         "nbinsx": 100,
         "offsetgroup": "",
         "opacity": 0.75,
         "orientation": "v",
         "showlegend": false,
         "type": "histogram",
         "x": [
          854,
          0,
          866,
          756,
          1053,
          566,
          0,
          983,
          752,
          0,
          0,
          1142,
          0,
          0,
          0,
          0,
          0,
          0,
          0,
          0,
          1218,
          0,
          0,
          0,
          0,
          0,
          0,
          0,
          0,
          0,
          668,
          0,
          0,
          0,
          0,
          1320,
          0,
          0,
          0,
          0,
          0,
          0,
          0,
          0,
          0,
          0,
          631,
          0,
          716,
          0,
          676,
          0,
          0,
          0,
          0,
          0,
          756,
          860,
          1519,
          0,
          0,
          530,
          0,
          808,
          977,
          1330,
          0,
          0,
          0,
          983,
          0,
          0,
          833,
          0,
          765,
          462,
          0,
          213,
          0,
          548,
          960,
          0,
          0,
          0,
          670,
          1116,
          876,
          612,
          0,
          0,
          0,
          0,
          0,
          1031,
          881,
          790,
          0,
          0,
          0,
          0,
          0,
          755,
          0,
          0,
          592,
          939,
          0,
          0,
          520,
          0,
          639,
          656,
          1414,
          0,
          884,
          729,
          0,
          0,
          1523,
          728,
          0,
          351,
          0,
          0,
          0,
          0,
          0,
          0,
          688,
          0,
          941,
          1032,
          0,
          0,
          0,
          0,
          0,
          0,
          848,
          836,
          0,
          0,
          475,
          0,
          0,
          739,
          0,
          1151,
          0,
          448,
          0,
          0,
          896,
          0,
          0,
          524,
          0,
          1194,
          956,
          1070,
          0,
          1096,
          0,
          0,
          467,
          547,
          0,
          551,
          880,
          0,
          0,
          0,
          703,
          0,
          0,
          0,
          896,
          668,
          0,
          0,
          756,
          901,
          0,
          720,
          316,
          1518,
          0,
          704,
          0,
          0,
          1178,
          754,
          0,
          739,
          0,
          601,
          0,
          1360,
          929,
          0,
          0,
          0,
          445,
          0,
          564,
          0,
          0,
          0,
          882,
          0,
          0,
          0,
          920,
          0,
          703,
          0,
          0,
          518,
          817,
          0,
          0,
          1257,
          741,
          0,
          0,
          672,
          1306,
          504,
          0,
          0,
          0,
          1304,
          504,
          0,
          1100,
          504,
          0,
          730,
          0,
          689,
          0,
          0,
          551,
          591,
          888,
          0,
          1020,
          0,
          828,
          700,
          0,
          0,
          842,
          0,
          0,
          1286,
          864,
          0,
          829,
          0,
          0,
          1092,
          0,
          0,
          0,
          0,
          709,
          720,
          0,
          0,
          844,
          0,
          1106,
          0,
          0,
          596,
          0,
          0,
          0,
          866,
          807,
          0,
          0,
          0,
          0,
          625,
          649,
          0,
          0,
          698,
          840,
          780,
          568,
          795,
          0,
          0,
          648,
          975,
          702,
          0,
          0,
          1242,
          0,
          0,
          1818,
          0,
          1121,
          371,
          0,
          0,
          804,
          0,
          325,
          0,
          809,
          716,
          1200,
          871,
          1274,
          0,
          1347,
          1332,
          1177,
          0,
          1080,
          0,
          0,
          0,
          689,
          596,
          0,
          0,
          0,
          0,
          695,
          167,
          0,
          0,
          0,
          0,
          915,
          0,
          0,
          0,
          576,
          605,
          0,
          0,
          862,
          880,
          0,
          0,
          495,
          0,
          403,
          0,
          0,
          0,
          0,
          838,
          0,
          517,
          1427,
          504,
          784,
          672,
          0,
          0,
          0,
          0,
          711,
          468,
          0,
          0,
          1081,
          0,
          0,
          886,
          0,
          793,
          665,
          0,
          858,
          0,
          874,
          0,
          526,
          0,
          0,
          590,
          406,
          1157,
          0,
          0,
          299,
          0,
          0,
          936,
          0,
          438,
          0,
          0,
          0,
          1098,
          766,
          0,
          0,
          840,
          1101,
          1028,
          0,
          0,
          0,
          0,
          1017,
          0,
          728,
          1254,
          378,
          0,
          0,
          0,
          0,
          1160,
          0,
          682,
          0,
          0,
          0,
          0,
          504,
          110,
          600,
          678,
          0,
          834,
          384,
          0,
          0,
          512,
          0,
          0,
          445,
          0,
          975,
          0,
          0,
          930,
          596,
          504,
          0,
          0,
          868,
          804,
          0,
          0,
          720,
          0,
          833,
          224,
          1103,
          560,
          0,
          811,
          0,
          0,
          0,
          756,
          0,
          878,
          0,
          808,
          0,
          0,
          0,
          0,
          0,
          574,
          0,
          0,
          0,
          0,
          910,
          0,
          0,
          0,
          0,
          0,
          648,
          0,
          688,
          620,
          728,
          0,
          0,
          0,
          0,
          687,
          0,
          0,
          546,
          902,
          0,
          0,
          467,
          1000,
          846,
          0,
          689,
          0,
          0,
          0,
          0,
          0,
          0,
          0,
          741,
          1067,
          914,
          804,
          600,
          0,
          660,
          1538,
          1015,
          0,
          0,
          1237,
          0,
          0,
          0,
          611,
          0,
          0,
          707,
          527,
          844,
          0,
          0,
          0,
          0,
          1288,
          0,
          0,
          832,
          806,
          720,
          0,
          0,
          1182,
          0,
          0,
          0,
          0,
          1040,
          0,
          0,
          439,
          717,
          0,
          0,
          0,
          0,
          511,
          1129,
          806,
          1370,
          0,
          636,
          0,
          0,
          0,
          846,
          656,
          533,
          384,
          600,
          0,
          689,
          745,
          0,
          0,
          0,
          1254,
          584,
          0,
          0,
          0,
          0,
          0,
          812,
          568,
          0,
          0,
          0,
          0,
          684,
          0,
          0,
          840,
          846,
          595,
          988,
          600,
          0,
          800,
          0,
          896,
          1254,
          0,
          677,
          0,
          573,
          0,
          0,
          0,
          702,
          0,
          0,
          780,
          0,
          1066,
          0,
          756,
          778,
          0,
          0,
          0,
          1040,
          0,
          661,
          0,
          0,
          0,
          0,
          1440,
          0,
          576,
          0,
          0,
          0,
          872,
          704,
          840,
          0,
          0,
          0,
          0,
          788,
          0,
          843,
          755,
          807,
          713,
          0,
          567,
          0,
          651,
          546,
          0,
          793,
          762,
          0,
          0,
          0,
          482,
          915,
          0,
          0,
          0,
          738,
          672,
          0,
          0,
          0,
          586,
          679,
          0,
          0,
          0,
          0,
          672,
          0,
          0,
          644,
          900,
          887,
          551,
          0,
          0,
          0,
          1872,
          1281,
          0,
          472,
          0,
          0,
          0,
          0,
          0,
          0,
          0,
          1312,
          780,
          0,
          720,
          0,
          0,
          728,
          0,
          0,
          319,
          0,
          0,
          754,
          0,
          978,
          0,
          1093,
          0,
          0,
          0,
          0,
          473,
          0,
          0,
          0,
          0,
          0,
          0,
          0,
          0,
          878,
          0,
          0,
          888,
          0,
          900,
          0,
          864,
          664,
          0,
          0,
          0,
          0,
          1540,
          1276,
          1320,
          0,
          441,
          348,
          660,
          0,
          1060,
          0,
          729,
          902,
          714,
          744,
          1203,
          0,
          0,
          783,
          1097,
          0,
          0,
          734,
          767,
          0,
          1589,
          0,
          0,
          0,
          0,
          0,
          0,
          0,
          0,
          0,
          0,
          0,
          793,
          0,
          0,
          742,
          0,
          686,
          1128,
          0,
          1111,
          0,
          0,
          886,
          0,
          809,
          676,
          0,
          0,
          1174,
          787,
          1072,
          0,
          728,
          1088,
          0,
          0,
          0,
          504,
          0,
          1063,
          0,
          0,
          0,
          0,
          564,
          0,
          0,
          0,
          0,
          0,
          842,
          0,
          886,
          545,
          0,
          0,
          0,
          0,
          966,
          623,
          0,
          600,
          888,
          0,
          0,
          0,
          0,
          504,
          0,
          432,
          672,
          581,
          0,
          0,
          540,
          0,
          769,
          0,
          1051,
          761,
          0,
          0,
          728,
          0,
          0,
          0,
          0,
          779,
          0,
          1142,
          514,
          0,
          0,
          0,
          0,
          0,
          0,
          0,
          720,
          887,
          0,
          878,
          0,
          0,
          455,
          1426,
          0,
          762,
          0,
          0,
          0,
          530,
          785,
          795,
          0,
          0,
          0,
          521,
          0,
          0,
          252,
          765,
          0,
          0,
          0,
          813,
          0,
          1120,
          0,
          0,
          0,
          0,
          702,
          0,
          0,
          0,
          0,
          1037,
          0,
          742,
          1169,
          0,
          0,
          1001,
          612,
          546,
          0,
          0,
          1215,
          0,
          785,
          928,
          0,
          0,
          0,
          0,
          1140,
          880,
          0,
          1243,
          0,
          0,
          0,
          0,
          0,
          0,
          0,
          858,
          571,
          1196,
          0,
          1038,
          0,
          0,
          0,
          561,
          0,
          0,
          840,
          0,
          0,
          0,
          0,
          800,
          0,
          979,
          668,
          0,
          0,
          720,
          0,
          1330,
          744,
          0,
          1070,
          701,
          332,
          0,
          368,
          0,
          472,
          862,
          0,
          0,
          883,
          709,
          0,
          0,
          0,
          0,
          0,
          1336,
          0,
          1141,
          432,
          0,
          634,
          0,
          912,
          798,
          985,
          826,
          831,
          750,
          0,
          456,
          0,
          0,
          0,
          0,
          0,
          0,
          0,
          0,
          0,
          0,
          0,
          546,
          0,
          0,
          551,
          0,
          602,
          0,
          0,
          855,
          0,
          0,
          670,
          0,
          0,
          0,
          336,
          0,
          0,
          0,
          0,
          0,
          408,
          546,
          980,
          998,
          1168,
          0,
          0,
          0,
          0,
          1208,
          546,
          0,
          0,
          832,
          0,
          797,
          0,
          0,
          876,
          0,
          0,
          0,
          0,
          0,
          850,
          0,
          898,
          0,
          0,
          871,
          1054,
          895,
          0,
          0,
          915,
          0,
          0,
          954,
          772,
          813,
          1230,
          0,
          0,
          727,
          454,
          728,
          0,
          780,
          370,
          0,
          0,
          0,
          0,
          0,
          0,
          0,
          807,
          0,
          546,
          871,
          739,
          0,
          0,
          628,
          304,
          0,
          0,
          0,
          582,
          0,
          567,
          0,
          0,
          0,
          0,
          0,
          672,
          1122,
          0,
          1134,
          742,
          0,
          885,
          866,
          0,
          0,
          0,
          0,
          640,
          0,
          580,
          0,
          0,
          0,
          0,
          0,
          670,
          0,
          0,
          0,
          1112,
          0,
          653,
          0,
          1032,
          878,
          684,
          0,
          220,
          240,
          0,
          0,
          0,
          780,
          1362,
          0,
          252,
          534,
          0,
          704,
          539,
          650,
          0,
          0,
          0,
          0,
          918,
          0,
          0,
          0,
          0,
          933,
          601,
          0,
          0,
          0,
          0,
          0,
          0,
          712,
          872,
          1796,
          0,
          0,
          625,
          971,
          1175,
          743,
          0,
          406,
          523,
          0,
          1216,
          0,
          2065,
          0,
          0,
          272,
          685,
          0,
          829,
          776,
          0,
          677,
          630,
          0,
          689,
          728,
          984,
          875,
          0,
          0,
          0,
          913,
          464,
          0,
          0,
          0,
          0,
          0,
          0,
          0,
          790,
          672,
          0,
          0,
          0,
          0,
          584,
          0,
          240,
          546,
          0,
          0,
          678,
          0,
          702,
          0,
          1039,
          0,
          0,
          0,
          1259,
          0,
          0,
          0,
          940,
          892,
          862,
          1101,
          0,
          0,
          884,
          0,
          0,
          0,
          725,
          728,
          797,
          0,
          924,
          0,
          0,
          0,
          0,
          651,
          896,
          408,
          0,
          0,
          0,
          0,
          783,
          0,
          684,
          764,
          0,
          739,
          925,
          0,
          1479,
          650,
          192,
          0,
          0,
          0,
          589,
          992,
          660,
          0,
          903,
          430,
          0,
          0,
          0,
          912,
          748,
          587,
          0,
          0,
          0,
          850,
          0,
          672,
          994,
          832,
          0,
          0,
          0,
          0,
          950,
          0,
          978,
          741,
          1323,
          0,
          732,
          0,
          0,
          0,
          0,
          0,
          0,
          0,
          1357,
          1177,
          0,
          1020,
          0,
          0,
          0,
          0,
          0,
          0,
          862,
          0,
          0,
          0,
          0,
          0,
          1208,
          677,
          0,
          0,
          0,
          557,
          600,
          0,
          0,
          0,
          941,
          0,
          0,
          0,
          885,
          741,
          728,
          0,
          0,
          0,
          0,
          1215,
          1296,
          858,
          390,
          1185,
          873,
          698,
          0,
          0,
          804,
          0,
          1611,
          0,
          457,
          796,
          600,
          860,
          908,
          550,
          0,
          0,
          534,
          0,
          989,
          0,
          932,
          0,
          0,
          620,
          504,
          640,
          0,
          0,
          764,
          0,
          560,
          358,
          1392,
          862,
          0,
          349,
          0,
          0,
          0,
          691,
          0,
          1349,
          0,
          574,
          768,
          448,
          208,
          729,
          0,
          0,
          520,
          0,
          0,
          0,
          622,
          857,
          896,
          556,
          0,
          0,
          795,
          0,
          1044,
          1140,
          0,
          0,
          708,
          0,
          0,
          626,
          0,
          0,
          904,
          510,
          0,
          0,
          1104,
          0,
          0,
          830,
          0,
          0,
          0,
          0,
          0,
          685,
          748,
          0,
          981,
          0,
          0,
          0,
          0,
          870,
          550,
          0,
          896,
          0,
          0,
          0,
          0,
          694,
          0,
          1152,
          0,
          0
         ],
         "xaxis": "x",
         "yaxis": "y"
        }
       ],
       "layout": {
        "barmode": "relative",
        "legend": {
         "tracegroupgap": 0
        },
        "template": {
         "data": {
          "bar": [
           {
            "error_x": {
             "color": "#2a3f5f"
            },
            "error_y": {
             "color": "#2a3f5f"
            },
            "marker": {
             "line": {
              "color": "white",
              "width": 0.5
             },
             "pattern": {
              "fillmode": "overlay",
              "size": 10,
              "solidity": 0.2
             }
            },
            "type": "bar"
           }
          ],
          "barpolar": [
           {
            "marker": {
             "line": {
              "color": "white",
              "width": 0.5
             },
             "pattern": {
              "fillmode": "overlay",
              "size": 10,
              "solidity": 0.2
             }
            },
            "type": "barpolar"
           }
          ],
          "carpet": [
           {
            "aaxis": {
             "endlinecolor": "#2a3f5f",
             "gridcolor": "#C8D4E3",
             "linecolor": "#C8D4E3",
             "minorgridcolor": "#C8D4E3",
             "startlinecolor": "#2a3f5f"
            },
            "baxis": {
             "endlinecolor": "#2a3f5f",
             "gridcolor": "#C8D4E3",
             "linecolor": "#C8D4E3",
             "minorgridcolor": "#C8D4E3",
             "startlinecolor": "#2a3f5f"
            },
            "type": "carpet"
           }
          ],
          "choropleth": [
           {
            "colorbar": {
             "outlinewidth": 0,
             "ticks": ""
            },
            "type": "choropleth"
           }
          ],
          "contour": [
           {
            "colorbar": {
             "outlinewidth": 0,
             "ticks": ""
            },
            "colorscale": [
             [
              0,
              "#0d0887"
             ],
             [
              0.1111111111111111,
              "#46039f"
             ],
             [
              0.2222222222222222,
              "#7201a8"
             ],
             [
              0.3333333333333333,
              "#9c179e"
             ],
             [
              0.4444444444444444,
              "#bd3786"
             ],
             [
              0.5555555555555556,
              "#d8576b"
             ],
             [
              0.6666666666666666,
              "#ed7953"
             ],
             [
              0.7777777777777778,
              "#fb9f3a"
             ],
             [
              0.8888888888888888,
              "#fdca26"
             ],
             [
              1,
              "#f0f921"
             ]
            ],
            "type": "contour"
           }
          ],
          "contourcarpet": [
           {
            "colorbar": {
             "outlinewidth": 0,
             "ticks": ""
            },
            "type": "contourcarpet"
           }
          ],
          "heatmap": [
           {
            "colorbar": {
             "outlinewidth": 0,
             "ticks": ""
            },
            "colorscale": [
             [
              0,
              "#0d0887"
             ],
             [
              0.1111111111111111,
              "#46039f"
             ],
             [
              0.2222222222222222,
              "#7201a8"
             ],
             [
              0.3333333333333333,
              "#9c179e"
             ],
             [
              0.4444444444444444,
              "#bd3786"
             ],
             [
              0.5555555555555556,
              "#d8576b"
             ],
             [
              0.6666666666666666,
              "#ed7953"
             ],
             [
              0.7777777777777778,
              "#fb9f3a"
             ],
             [
              0.8888888888888888,
              "#fdca26"
             ],
             [
              1,
              "#f0f921"
             ]
            ],
            "type": "heatmap"
           }
          ],
          "heatmapgl": [
           {
            "colorbar": {
             "outlinewidth": 0,
             "ticks": ""
            },
            "colorscale": [
             [
              0,
              "#0d0887"
             ],
             [
              0.1111111111111111,
              "#46039f"
             ],
             [
              0.2222222222222222,
              "#7201a8"
             ],
             [
              0.3333333333333333,
              "#9c179e"
             ],
             [
              0.4444444444444444,
              "#bd3786"
             ],
             [
              0.5555555555555556,
              "#d8576b"
             ],
             [
              0.6666666666666666,
              "#ed7953"
             ],
             [
              0.7777777777777778,
              "#fb9f3a"
             ],
             [
              0.8888888888888888,
              "#fdca26"
             ],
             [
              1,
              "#f0f921"
             ]
            ],
            "type": "heatmapgl"
           }
          ],
          "histogram": [
           {
            "marker": {
             "pattern": {
              "fillmode": "overlay",
              "size": 10,
              "solidity": 0.2
             }
            },
            "type": "histogram"
           }
          ],
          "histogram2d": [
           {
            "colorbar": {
             "outlinewidth": 0,
             "ticks": ""
            },
            "colorscale": [
             [
              0,
              "#0d0887"
             ],
             [
              0.1111111111111111,
              "#46039f"
             ],
             [
              0.2222222222222222,
              "#7201a8"
             ],
             [
              0.3333333333333333,
              "#9c179e"
             ],
             [
              0.4444444444444444,
              "#bd3786"
             ],
             [
              0.5555555555555556,
              "#d8576b"
             ],
             [
              0.6666666666666666,
              "#ed7953"
             ],
             [
              0.7777777777777778,
              "#fb9f3a"
             ],
             [
              0.8888888888888888,
              "#fdca26"
             ],
             [
              1,
              "#f0f921"
             ]
            ],
            "type": "histogram2d"
           }
          ],
          "histogram2dcontour": [
           {
            "colorbar": {
             "outlinewidth": 0,
             "ticks": ""
            },
            "colorscale": [
             [
              0,
              "#0d0887"
             ],
             [
              0.1111111111111111,
              "#46039f"
             ],
             [
              0.2222222222222222,
              "#7201a8"
             ],
             [
              0.3333333333333333,
              "#9c179e"
             ],
             [
              0.4444444444444444,
              "#bd3786"
             ],
             [
              0.5555555555555556,
              "#d8576b"
             ],
             [
              0.6666666666666666,
              "#ed7953"
             ],
             [
              0.7777777777777778,
              "#fb9f3a"
             ],
             [
              0.8888888888888888,
              "#fdca26"
             ],
             [
              1,
              "#f0f921"
             ]
            ],
            "type": "histogram2dcontour"
           }
          ],
          "mesh3d": [
           {
            "colorbar": {
             "outlinewidth": 0,
             "ticks": ""
            },
            "type": "mesh3d"
           }
          ],
          "parcoords": [
           {
            "line": {
             "colorbar": {
              "outlinewidth": 0,
              "ticks": ""
             }
            },
            "type": "parcoords"
           }
          ],
          "pie": [
           {
            "automargin": true,
            "type": "pie"
           }
          ],
          "scatter": [
           {
            "fillpattern": {
             "fillmode": "overlay",
             "size": 10,
             "solidity": 0.2
            },
            "type": "scatter"
           }
          ],
          "scatter3d": [
           {
            "line": {
             "colorbar": {
              "outlinewidth": 0,
              "ticks": ""
             }
            },
            "marker": {
             "colorbar": {
              "outlinewidth": 0,
              "ticks": ""
             }
            },
            "type": "scatter3d"
           }
          ],
          "scattercarpet": [
           {
            "marker": {
             "colorbar": {
              "outlinewidth": 0,
              "ticks": ""
             }
            },
            "type": "scattercarpet"
           }
          ],
          "scattergeo": [
           {
            "marker": {
             "colorbar": {
              "outlinewidth": 0,
              "ticks": ""
             }
            },
            "type": "scattergeo"
           }
          ],
          "scattergl": [
           {
            "marker": {
             "colorbar": {
              "outlinewidth": 0,
              "ticks": ""
             }
            },
            "type": "scattergl"
           }
          ],
          "scattermapbox": [
           {
            "marker": {
             "colorbar": {
              "outlinewidth": 0,
              "ticks": ""
             }
            },
            "type": "scattermapbox"
           }
          ],
          "scatterpolar": [
           {
            "marker": {
             "colorbar": {
              "outlinewidth": 0,
              "ticks": ""
             }
            },
            "type": "scatterpolar"
           }
          ],
          "scatterpolargl": [
           {
            "marker": {
             "colorbar": {
              "outlinewidth": 0,
              "ticks": ""
             }
            },
            "type": "scatterpolargl"
           }
          ],
          "scatterternary": [
           {
            "marker": {
             "colorbar": {
              "outlinewidth": 0,
              "ticks": ""
             }
            },
            "type": "scatterternary"
           }
          ],
          "surface": [
           {
            "colorbar": {
             "outlinewidth": 0,
             "ticks": ""
            },
            "colorscale": [
             [
              0,
              "#0d0887"
             ],
             [
              0.1111111111111111,
              "#46039f"
             ],
             [
              0.2222222222222222,
              "#7201a8"
             ],
             [
              0.3333333333333333,
              "#9c179e"
             ],
             [
              0.4444444444444444,
              "#bd3786"
             ],
             [
              0.5555555555555556,
              "#d8576b"
             ],
             [
              0.6666666666666666,
              "#ed7953"
             ],
             [
              0.7777777777777778,
              "#fb9f3a"
             ],
             [
              0.8888888888888888,
              "#fdca26"
             ],
             [
              1,
              "#f0f921"
             ]
            ],
            "type": "surface"
           }
          ],
          "table": [
           {
            "cells": {
             "fill": {
              "color": "#EBF0F8"
             },
             "line": {
              "color": "white"
             }
            },
            "header": {
             "fill": {
              "color": "#C8D4E3"
             },
             "line": {
              "color": "white"
             }
            },
            "type": "table"
           }
          ]
         },
         "layout": {
          "annotationdefaults": {
           "arrowcolor": "#2a3f5f",
           "arrowhead": 0,
           "arrowwidth": 1
          },
          "autotypenumbers": "strict",
          "coloraxis": {
           "colorbar": {
            "outlinewidth": 0,
            "ticks": ""
           }
          },
          "colorscale": {
           "diverging": [
            [
             0,
             "#8e0152"
            ],
            [
             0.1,
             "#c51b7d"
            ],
            [
             0.2,
             "#de77ae"
            ],
            [
             0.3,
             "#f1b6da"
            ],
            [
             0.4,
             "#fde0ef"
            ],
            [
             0.5,
             "#f7f7f7"
            ],
            [
             0.6,
             "#e6f5d0"
            ],
            [
             0.7,
             "#b8e186"
            ],
            [
             0.8,
             "#7fbc41"
            ],
            [
             0.9,
             "#4d9221"
            ],
            [
             1,
             "#276419"
            ]
           ],
           "sequential": [
            [
             0,
             "#0d0887"
            ],
            [
             0.1111111111111111,
             "#46039f"
            ],
            [
             0.2222222222222222,
             "#7201a8"
            ],
            [
             0.3333333333333333,
             "#9c179e"
            ],
            [
             0.4444444444444444,
             "#bd3786"
            ],
            [
             0.5555555555555556,
             "#d8576b"
            ],
            [
             0.6666666666666666,
             "#ed7953"
            ],
            [
             0.7777777777777778,
             "#fb9f3a"
            ],
            [
             0.8888888888888888,
             "#fdca26"
            ],
            [
             1,
             "#f0f921"
            ]
           ],
           "sequentialminus": [
            [
             0,
             "#0d0887"
            ],
            [
             0.1111111111111111,
             "#46039f"
            ],
            [
             0.2222222222222222,
             "#7201a8"
            ],
            [
             0.3333333333333333,
             "#9c179e"
            ],
            [
             0.4444444444444444,
             "#bd3786"
            ],
            [
             0.5555555555555556,
             "#d8576b"
            ],
            [
             0.6666666666666666,
             "#ed7953"
            ],
            [
             0.7777777777777778,
             "#fb9f3a"
            ],
            [
             0.8888888888888888,
             "#fdca26"
            ],
            [
             1,
             "#f0f921"
            ]
           ]
          },
          "colorway": [
           "#636efa",
           "#EF553B",
           "#00cc96",
           "#ab63fa",
           "#FFA15A",
           "#19d3f3",
           "#FF6692",
           "#B6E880",
           "#FF97FF",
           "#FECB52"
          ],
          "font": {
           "color": "#2a3f5f"
          },
          "geo": {
           "bgcolor": "white",
           "lakecolor": "white",
           "landcolor": "white",
           "showlakes": true,
           "showland": true,
           "subunitcolor": "#C8D4E3"
          },
          "hoverlabel": {
           "align": "left"
          },
          "hovermode": "closest",
          "mapbox": {
           "style": "light"
          },
          "paper_bgcolor": "white",
          "plot_bgcolor": "white",
          "polar": {
           "angularaxis": {
            "gridcolor": "#EBF0F8",
            "linecolor": "#EBF0F8",
            "ticks": ""
           },
           "bgcolor": "white",
           "radialaxis": {
            "gridcolor": "#EBF0F8",
            "linecolor": "#EBF0F8",
            "ticks": ""
           }
          },
          "scene": {
           "xaxis": {
            "backgroundcolor": "white",
            "gridcolor": "#DFE8F3",
            "gridwidth": 2,
            "linecolor": "#EBF0F8",
            "showbackground": true,
            "ticks": "",
            "zerolinecolor": "#EBF0F8"
           },
           "yaxis": {
            "backgroundcolor": "white",
            "gridcolor": "#DFE8F3",
            "gridwidth": 2,
            "linecolor": "#EBF0F8",
            "showbackground": true,
            "ticks": "",
            "zerolinecolor": "#EBF0F8"
           },
           "zaxis": {
            "backgroundcolor": "white",
            "gridcolor": "#DFE8F3",
            "gridwidth": 2,
            "linecolor": "#EBF0F8",
            "showbackground": true,
            "ticks": "",
            "zerolinecolor": "#EBF0F8"
           }
          },
          "shapedefaults": {
           "line": {
            "color": "#2a3f5f"
           }
          },
          "ternary": {
           "aaxis": {
            "gridcolor": "#DFE8F3",
            "linecolor": "#A2B1C6",
            "ticks": ""
           },
           "baxis": {
            "gridcolor": "#DFE8F3",
            "linecolor": "#A2B1C6",
            "ticks": ""
           },
           "bgcolor": "white",
           "caxis": {
            "gridcolor": "#DFE8F3",
            "linecolor": "#A2B1C6",
            "ticks": ""
           }
          },
          "title": {
           "x": 0.05
          },
          "xaxis": {
           "automargin": true,
           "gridcolor": "#EBF0F8",
           "linecolor": "#EBF0F8",
           "ticks": "",
           "title": {
            "standoff": 15
           },
           "zerolinecolor": "#EBF0F8",
           "zerolinewidth": 2
          },
          "yaxis": {
           "automargin": true,
           "gridcolor": "#EBF0F8",
           "linecolor": "#EBF0F8",
           "ticks": "",
           "title": {
            "standoff": 15
           },
           "zerolinecolor": "#EBF0F8",
           "zerolinewidth": 2
          }
         }
        },
        "title": {
         "text": "2ndFlrSF Distribution"
        },
        "xaxis": {
         "anchor": "y",
         "domain": [
          0,
          1
         ],
         "title": {
          "text": "Second Floor Area (sq ft)"
         }
        },
        "yaxis": {
         "anchor": "x",
         "domain": [
          0,
          1
         ],
         "title": {
          "text": "count"
         }
        }
       }
      }
     },
     "metadata": {},
     "output_type": "display_data"
    }
   ],
   "source": [
    "# plot the distribution of 2ndFlrSF\n",
    "fig = px.histogram(train_cleaned,\n",
    "                     x='2ndFlrSF',\n",
    "                     nbins=100,\n",
    "                     title='2ndFlrSF Distribution',\n",
    "                     labels={'2ndFlrSF': 'Second Floor Area (sq ft)'},\n",
    "                     template='plotly_white')\n",
    "\n",
    "fig.update_traces(marker_color='blue', opacity=0.75)\n",
    "fig.show()\n"
   ]
  },
  {
   "cell_type": "markdown",
   "metadata": {},
   "source": [
    "We will create a variable Total Size that is the sum of TotalBsmtSFn 1stFlrSF and 2ndFlrSF.\n",
    "\n",
    "We will create two dummy variables for the presence of a second floor and basement."
   ]
  },
  {
   "cell_type": "code",
   "execution_count": 95,
   "metadata": {},
   "outputs": [],
   "source": [
    "# Combine highly correlated variables\n",
    "df['TotalSize'] = df['TotalBsmtSF'] + df['1stFlrSF'] + df['2ndFlrSF']\n",
    "\n",
    "# create dummy is_basement\n",
    "df['is_basement'] = df['TotalBsmtSF'] > 0\n",
    "\n",
    "# create dummy is_secondfloor\n",
    "df['is_secondfloor'] = df['2ndFlrSF'] > 0"
   ]
  },
  {
   "cell_type": "code",
   "execution_count": 96,
   "metadata": {},
   "outputs": [
    {
     "data": {
      "application/vnd.plotly.v1+json": {
       "config": {
        "plotlyServerURL": "https://plot.ly"
       },
       "data": [
        {
         "colorscale": [
          [
           0,
           "rgb(247,251,255)"
          ],
          [
           0.125,
           "rgb(222,235,247)"
          ],
          [
           0.25,
           "rgb(198,219,239)"
          ],
          [
           0.375,
           "rgb(158,202,225)"
          ],
          [
           0.5,
           "rgb(107,174,214)"
          ],
          [
           0.625,
           "rgb(66,146,198)"
          ],
          [
           0.75,
           "rgb(33,113,181)"
          ],
          [
           0.875,
           "rgb(8,81,156)"
          ],
          [
           1,
           "rgb(8,48,107)"
          ]
         ],
         "type": "heatmap",
         "x": [
          "TotalSize",
          "is_basement",
          "is_secondfloor",
          "GrLivArea",
          "TotRmsAbvGrd",
          "SalePrice"
         ],
         "y": [
          "TotalSize",
          "is_basement",
          "is_secondfloor",
          "GrLivArea",
          "TotRmsAbvGrd",
          "SalePrice"
         ],
         "z": [
          [
           1,
           0.25110192849804847,
           0.1640116149240492,
           0.8743728652580668,
           0.6725962879588382,
           0.782260052797983
          ],
          [
           0.25110192849804847,
           1,
           0.0527064626098457,
           0.06941716482781513,
           0.013837080346422096,
           0.152829223249946
          ],
          [
           0.1640116149240492,
           0.0527064626098457,
           1,
           0.5109366377225834,
           0.4810042835432117,
           0.13765568369462583
          ],
          [
           0.8743728652580668,
           0.06941716482781513,
           0.5109366377225834,
           1,
           0.8254893743088424,
           0.7086244776126518
          ],
          [
           0.6725962879588382,
           0.013837080346422096,
           0.4810042835432117,
           0.8254893743088424,
           1,
           0.5337231555820283
          ],
          [
           0.782260052797983,
           0.152829223249946,
           0.13765568369462583,
           0.7086244776126518,
           0.5337231555820283,
           1
          ]
         ]
        }
       ],
       "layout": {
        "template": {
         "data": {
          "bar": [
           {
            "error_x": {
             "color": "#2a3f5f"
            },
            "error_y": {
             "color": "#2a3f5f"
            },
            "marker": {
             "line": {
              "color": "#E5ECF6",
              "width": 0.5
             },
             "pattern": {
              "fillmode": "overlay",
              "size": 10,
              "solidity": 0.2
             }
            },
            "type": "bar"
           }
          ],
          "barpolar": [
           {
            "marker": {
             "line": {
              "color": "#E5ECF6",
              "width": 0.5
             },
             "pattern": {
              "fillmode": "overlay",
              "size": 10,
              "solidity": 0.2
             }
            },
            "type": "barpolar"
           }
          ],
          "carpet": [
           {
            "aaxis": {
             "endlinecolor": "#2a3f5f",
             "gridcolor": "white",
             "linecolor": "white",
             "minorgridcolor": "white",
             "startlinecolor": "#2a3f5f"
            },
            "baxis": {
             "endlinecolor": "#2a3f5f",
             "gridcolor": "white",
             "linecolor": "white",
             "minorgridcolor": "white",
             "startlinecolor": "#2a3f5f"
            },
            "type": "carpet"
           }
          ],
          "choropleth": [
           {
            "colorbar": {
             "outlinewidth": 0,
             "ticks": ""
            },
            "type": "choropleth"
           }
          ],
          "contour": [
           {
            "colorbar": {
             "outlinewidth": 0,
             "ticks": ""
            },
            "colorscale": [
             [
              0,
              "#0d0887"
             ],
             [
              0.1111111111111111,
              "#46039f"
             ],
             [
              0.2222222222222222,
              "#7201a8"
             ],
             [
              0.3333333333333333,
              "#9c179e"
             ],
             [
              0.4444444444444444,
              "#bd3786"
             ],
             [
              0.5555555555555556,
              "#d8576b"
             ],
             [
              0.6666666666666666,
              "#ed7953"
             ],
             [
              0.7777777777777778,
              "#fb9f3a"
             ],
             [
              0.8888888888888888,
              "#fdca26"
             ],
             [
              1,
              "#f0f921"
             ]
            ],
            "type": "contour"
           }
          ],
          "contourcarpet": [
           {
            "colorbar": {
             "outlinewidth": 0,
             "ticks": ""
            },
            "type": "contourcarpet"
           }
          ],
          "heatmap": [
           {
            "colorbar": {
             "outlinewidth": 0,
             "ticks": ""
            },
            "colorscale": [
             [
              0,
              "#0d0887"
             ],
             [
              0.1111111111111111,
              "#46039f"
             ],
             [
              0.2222222222222222,
              "#7201a8"
             ],
             [
              0.3333333333333333,
              "#9c179e"
             ],
             [
              0.4444444444444444,
              "#bd3786"
             ],
             [
              0.5555555555555556,
              "#d8576b"
             ],
             [
              0.6666666666666666,
              "#ed7953"
             ],
             [
              0.7777777777777778,
              "#fb9f3a"
             ],
             [
              0.8888888888888888,
              "#fdca26"
             ],
             [
              1,
              "#f0f921"
             ]
            ],
            "type": "heatmap"
           }
          ],
          "heatmapgl": [
           {
            "colorbar": {
             "outlinewidth": 0,
             "ticks": ""
            },
            "colorscale": [
             [
              0,
              "#0d0887"
             ],
             [
              0.1111111111111111,
              "#46039f"
             ],
             [
              0.2222222222222222,
              "#7201a8"
             ],
             [
              0.3333333333333333,
              "#9c179e"
             ],
             [
              0.4444444444444444,
              "#bd3786"
             ],
             [
              0.5555555555555556,
              "#d8576b"
             ],
             [
              0.6666666666666666,
              "#ed7953"
             ],
             [
              0.7777777777777778,
              "#fb9f3a"
             ],
             [
              0.8888888888888888,
              "#fdca26"
             ],
             [
              1,
              "#f0f921"
             ]
            ],
            "type": "heatmapgl"
           }
          ],
          "histogram": [
           {
            "marker": {
             "pattern": {
              "fillmode": "overlay",
              "size": 10,
              "solidity": 0.2
             }
            },
            "type": "histogram"
           }
          ],
          "histogram2d": [
           {
            "colorbar": {
             "outlinewidth": 0,
             "ticks": ""
            },
            "colorscale": [
             [
              0,
              "#0d0887"
             ],
             [
              0.1111111111111111,
              "#46039f"
             ],
             [
              0.2222222222222222,
              "#7201a8"
             ],
             [
              0.3333333333333333,
              "#9c179e"
             ],
             [
              0.4444444444444444,
              "#bd3786"
             ],
             [
              0.5555555555555556,
              "#d8576b"
             ],
             [
              0.6666666666666666,
              "#ed7953"
             ],
             [
              0.7777777777777778,
              "#fb9f3a"
             ],
             [
              0.8888888888888888,
              "#fdca26"
             ],
             [
              1,
              "#f0f921"
             ]
            ],
            "type": "histogram2d"
           }
          ],
          "histogram2dcontour": [
           {
            "colorbar": {
             "outlinewidth": 0,
             "ticks": ""
            },
            "colorscale": [
             [
              0,
              "#0d0887"
             ],
             [
              0.1111111111111111,
              "#46039f"
             ],
             [
              0.2222222222222222,
              "#7201a8"
             ],
             [
              0.3333333333333333,
              "#9c179e"
             ],
             [
              0.4444444444444444,
              "#bd3786"
             ],
             [
              0.5555555555555556,
              "#d8576b"
             ],
             [
              0.6666666666666666,
              "#ed7953"
             ],
             [
              0.7777777777777778,
              "#fb9f3a"
             ],
             [
              0.8888888888888888,
              "#fdca26"
             ],
             [
              1,
              "#f0f921"
             ]
            ],
            "type": "histogram2dcontour"
           }
          ],
          "mesh3d": [
           {
            "colorbar": {
             "outlinewidth": 0,
             "ticks": ""
            },
            "type": "mesh3d"
           }
          ],
          "parcoords": [
           {
            "line": {
             "colorbar": {
              "outlinewidth": 0,
              "ticks": ""
             }
            },
            "type": "parcoords"
           }
          ],
          "pie": [
           {
            "automargin": true,
            "type": "pie"
           }
          ],
          "scatter": [
           {
            "fillpattern": {
             "fillmode": "overlay",
             "size": 10,
             "solidity": 0.2
            },
            "type": "scatter"
           }
          ],
          "scatter3d": [
           {
            "line": {
             "colorbar": {
              "outlinewidth": 0,
              "ticks": ""
             }
            },
            "marker": {
             "colorbar": {
              "outlinewidth": 0,
              "ticks": ""
             }
            },
            "type": "scatter3d"
           }
          ],
          "scattercarpet": [
           {
            "marker": {
             "colorbar": {
              "outlinewidth": 0,
              "ticks": ""
             }
            },
            "type": "scattercarpet"
           }
          ],
          "scattergeo": [
           {
            "marker": {
             "colorbar": {
              "outlinewidth": 0,
              "ticks": ""
             }
            },
            "type": "scattergeo"
           }
          ],
          "scattergl": [
           {
            "marker": {
             "colorbar": {
              "outlinewidth": 0,
              "ticks": ""
             }
            },
            "type": "scattergl"
           }
          ],
          "scattermapbox": [
           {
            "marker": {
             "colorbar": {
              "outlinewidth": 0,
              "ticks": ""
             }
            },
            "type": "scattermapbox"
           }
          ],
          "scatterpolar": [
           {
            "marker": {
             "colorbar": {
              "outlinewidth": 0,
              "ticks": ""
             }
            },
            "type": "scatterpolar"
           }
          ],
          "scatterpolargl": [
           {
            "marker": {
             "colorbar": {
              "outlinewidth": 0,
              "ticks": ""
             }
            },
            "type": "scatterpolargl"
           }
          ],
          "scatterternary": [
           {
            "marker": {
             "colorbar": {
              "outlinewidth": 0,
              "ticks": ""
             }
            },
            "type": "scatterternary"
           }
          ],
          "surface": [
           {
            "colorbar": {
             "outlinewidth": 0,
             "ticks": ""
            },
            "colorscale": [
             [
              0,
              "#0d0887"
             ],
             [
              0.1111111111111111,
              "#46039f"
             ],
             [
              0.2222222222222222,
              "#7201a8"
             ],
             [
              0.3333333333333333,
              "#9c179e"
             ],
             [
              0.4444444444444444,
              "#bd3786"
             ],
             [
              0.5555555555555556,
              "#d8576b"
             ],
             [
              0.6666666666666666,
              "#ed7953"
             ],
             [
              0.7777777777777778,
              "#fb9f3a"
             ],
             [
              0.8888888888888888,
              "#fdca26"
             ],
             [
              1,
              "#f0f921"
             ]
            ],
            "type": "surface"
           }
          ],
          "table": [
           {
            "cells": {
             "fill": {
              "color": "#EBF0F8"
             },
             "line": {
              "color": "white"
             }
            },
            "header": {
             "fill": {
              "color": "#C8D4E3"
             },
             "line": {
              "color": "white"
             }
            },
            "type": "table"
           }
          ]
         },
         "layout": {
          "annotationdefaults": {
           "arrowcolor": "#2a3f5f",
           "arrowhead": 0,
           "arrowwidth": 1
          },
          "autotypenumbers": "strict",
          "coloraxis": {
           "colorbar": {
            "outlinewidth": 0,
            "ticks": ""
           }
          },
          "colorscale": {
           "diverging": [
            [
             0,
             "#8e0152"
            ],
            [
             0.1,
             "#c51b7d"
            ],
            [
             0.2,
             "#de77ae"
            ],
            [
             0.3,
             "#f1b6da"
            ],
            [
             0.4,
             "#fde0ef"
            ],
            [
             0.5,
             "#f7f7f7"
            ],
            [
             0.6,
             "#e6f5d0"
            ],
            [
             0.7,
             "#b8e186"
            ],
            [
             0.8,
             "#7fbc41"
            ],
            [
             0.9,
             "#4d9221"
            ],
            [
             1,
             "#276419"
            ]
           ],
           "sequential": [
            [
             0,
             "#0d0887"
            ],
            [
             0.1111111111111111,
             "#46039f"
            ],
            [
             0.2222222222222222,
             "#7201a8"
            ],
            [
             0.3333333333333333,
             "#9c179e"
            ],
            [
             0.4444444444444444,
             "#bd3786"
            ],
            [
             0.5555555555555556,
             "#d8576b"
            ],
            [
             0.6666666666666666,
             "#ed7953"
            ],
            [
             0.7777777777777778,
             "#fb9f3a"
            ],
            [
             0.8888888888888888,
             "#fdca26"
            ],
            [
             1,
             "#f0f921"
            ]
           ],
           "sequentialminus": [
            [
             0,
             "#0d0887"
            ],
            [
             0.1111111111111111,
             "#46039f"
            ],
            [
             0.2222222222222222,
             "#7201a8"
            ],
            [
             0.3333333333333333,
             "#9c179e"
            ],
            [
             0.4444444444444444,
             "#bd3786"
            ],
            [
             0.5555555555555556,
             "#d8576b"
            ],
            [
             0.6666666666666666,
             "#ed7953"
            ],
            [
             0.7777777777777778,
             "#fb9f3a"
            ],
            [
             0.8888888888888888,
             "#fdca26"
            ],
            [
             1,
             "#f0f921"
            ]
           ]
          },
          "colorway": [
           "#636efa",
           "#EF553B",
           "#00cc96",
           "#ab63fa",
           "#FFA15A",
           "#19d3f3",
           "#FF6692",
           "#B6E880",
           "#FF97FF",
           "#FECB52"
          ],
          "font": {
           "color": "#2a3f5f"
          },
          "geo": {
           "bgcolor": "white",
           "lakecolor": "white",
           "landcolor": "#E5ECF6",
           "showlakes": true,
           "showland": true,
           "subunitcolor": "white"
          },
          "hoverlabel": {
           "align": "left"
          },
          "hovermode": "closest",
          "mapbox": {
           "style": "light"
          },
          "paper_bgcolor": "white",
          "plot_bgcolor": "#E5ECF6",
          "polar": {
           "angularaxis": {
            "gridcolor": "white",
            "linecolor": "white",
            "ticks": ""
           },
           "bgcolor": "#E5ECF6",
           "radialaxis": {
            "gridcolor": "white",
            "linecolor": "white",
            "ticks": ""
           }
          },
          "scene": {
           "xaxis": {
            "backgroundcolor": "#E5ECF6",
            "gridcolor": "white",
            "gridwidth": 2,
            "linecolor": "white",
            "showbackground": true,
            "ticks": "",
            "zerolinecolor": "white"
           },
           "yaxis": {
            "backgroundcolor": "#E5ECF6",
            "gridcolor": "white",
            "gridwidth": 2,
            "linecolor": "white",
            "showbackground": true,
            "ticks": "",
            "zerolinecolor": "white"
           },
           "zaxis": {
            "backgroundcolor": "#E5ECF6",
            "gridcolor": "white",
            "gridwidth": 2,
            "linecolor": "white",
            "showbackground": true,
            "ticks": "",
            "zerolinecolor": "white"
           }
          },
          "shapedefaults": {
           "line": {
            "color": "#2a3f5f"
           }
          },
          "ternary": {
           "aaxis": {
            "gridcolor": "white",
            "linecolor": "white",
            "ticks": ""
           },
           "baxis": {
            "gridcolor": "white",
            "linecolor": "white",
            "ticks": ""
           },
           "bgcolor": "#E5ECF6",
           "caxis": {
            "gridcolor": "white",
            "linecolor": "white",
            "ticks": ""
           }
          },
          "title": {
           "x": 0.05
          },
          "xaxis": {
           "automargin": true,
           "gridcolor": "white",
           "linecolor": "white",
           "ticks": "",
           "title": {
            "standoff": 15
           },
           "zerolinecolor": "white",
           "zerolinewidth": 2
          },
          "yaxis": {
           "automargin": true,
           "gridcolor": "white",
           "linecolor": "white",
           "ticks": "",
           "title": {
            "standoff": 15
           },
           "zerolinecolor": "white",
           "zerolinewidth": 2
          }
         }
        },
        "title": {
         "text": "Correlation Heatmap of New Features"
        },
        "xaxis": {
         "title": {
          "text": "Features"
         }
        },
        "yaxis": {
         "title": {
          "text": "Features"
         }
        }
       }
      }
     },
     "metadata": {},
     "output_type": "display_data"
    }
   ],
   "source": [
    "# analyze the correlation of the new features\n",
    "new_features = df[['TotalSize', 'is_basement', 'is_secondfloor', 'GrLivArea', 'TotRmsAbvGrd', 'SalePrice']]\n",
    "new_features_correlation = new_features.corr()\n",
    "\n",
    "# Create the heatmap using plotly\n",
    "fig = go.Figure(data=go.Heatmap(\n",
    "    z=new_features_correlation.values,\n",
    "    x=new_features_correlation.columns,\n",
    "    y=new_features_correlation.columns,\n",
    "    colorscale='Blues'\n",
    "))\n",
    "\n",
    "fig.update_layout(\n",
    "    title='Correlation Heatmap of New Features',\n",
    "    xaxis_title='Features',\n",
    "    yaxis_title='Features'\n",
    ")\n",
    "\n",
    "fig.show()"
   ]
  },
  {
   "cell_type": "markdown",
   "metadata": {},
   "source": [
    "### Explanation and Decision\n",
    "\n",
    "As we can observe, **TotalSize** is highly correlated with both **TotRmsAbvGrd** and **GrLivArea**, as well as with **SalePrice**. Therefore, to avoid redundancy and simplify the model, we will retain **TotalSize** as the explanatory variable for the price and remove the other two variables."
   ]
  },
  {
   "cell_type": "markdown",
   "metadata": {},
   "source": [
    "#### 3. **GarageCars and GarageArea (0.882475)**\n",
    "\n",
    "- **GarageCars**: Represents the number of car spaces (discrete and interpretable).\n",
    "\n",
    "- **GarageArea**: Represents the area occupied by the garage (continuous and highly \n",
    "correlated).\n",
    "\n",
    "- **Decision**: We will combine them into a single feature, such as `GarageCapacityScore = GarageCars × GarageArea`."
   ]
  },
  {
   "cell_type": "code",
   "execution_count": 97,
   "metadata": {},
   "outputs": [
    {
     "data": {
      "text/html": [
       "<div>\n",
       "<style scoped>\n",
       "    .dataframe tbody tr th:only-of-type {\n",
       "        vertical-align: middle;\n",
       "    }\n",
       "\n",
       "    .dataframe tbody tr th {\n",
       "        vertical-align: top;\n",
       "    }\n",
       "\n",
       "    .dataframe thead th {\n",
       "        text-align: right;\n",
       "    }\n",
       "</style>\n",
       "<table border=\"1\" class=\"dataframe\">\n",
       "  <thead>\n",
       "    <tr style=\"text-align: right;\">\n",
       "      <th></th>\n",
       "      <th>GarageCars</th>\n",
       "      <th>GarageArea</th>\n",
       "      <th>GarageCapacityScore</th>\n",
       "    </tr>\n",
       "    <tr>\n",
       "      <th>Id</th>\n",
       "      <th></th>\n",
       "      <th></th>\n",
       "      <th></th>\n",
       "    </tr>\n",
       "  </thead>\n",
       "  <tbody>\n",
       "    <tr>\n",
       "      <th>1</th>\n",
       "      <td>2</td>\n",
       "      <td>548</td>\n",
       "      <td>1096</td>\n",
       "    </tr>\n",
       "    <tr>\n",
       "      <th>2</th>\n",
       "      <td>2</td>\n",
       "      <td>460</td>\n",
       "      <td>920</td>\n",
       "    </tr>\n",
       "    <tr>\n",
       "      <th>3</th>\n",
       "      <td>2</td>\n",
       "      <td>608</td>\n",
       "      <td>1216</td>\n",
       "    </tr>\n",
       "    <tr>\n",
       "      <th>4</th>\n",
       "      <td>3</td>\n",
       "      <td>642</td>\n",
       "      <td>1926</td>\n",
       "    </tr>\n",
       "    <tr>\n",
       "      <th>5</th>\n",
       "      <td>3</td>\n",
       "      <td>836</td>\n",
       "      <td>2508</td>\n",
       "    </tr>\n",
       "  </tbody>\n",
       "</table>\n",
       "</div>"
      ],
      "text/plain": [
       "    GarageCars  GarageArea  GarageCapacityScore\n",
       "Id                                             \n",
       "1            2         548                 1096\n",
       "2            2         460                  920\n",
       "3            2         608                 1216\n",
       "4            3         642                 1926\n",
       "5            3         836                 2508"
      ]
     },
     "execution_count": 97,
     "metadata": {},
     "output_type": "execute_result"
    }
   ],
   "source": [
    "# Create a new feature `GarageCapacityScore` combining `GarageCars` and `GarageArea`\n",
    "df['GarageCapacityScore'] = df['GarageCars'] * df['GarageArea']\n",
    "\n",
    "df[['GarageCars', 'GarageArea', 'GarageCapacityScore']].head()"
   ]
  },
  {
   "cell_type": "markdown",
   "metadata": {},
   "source": [
    "#### Dropping the columns"
   ]
  },
  {
   "cell_type": "code",
   "execution_count": 98,
   "metadata": {},
   "outputs": [],
   "source": [
    "df.drop(columns=['TotalBsmtSF', '1stFlrSF', '2ndFlrSF', 'GarageArea', 'GarageCars',\n",
    "                 'TotRmsAbvGrd', 'GrLivArea'], inplace=True)"
   ]
  },
  {
   "cell_type": "markdown",
   "metadata": {},
   "source": [
    "#### Compute the new correlations"
   ]
  },
  {
   "cell_type": "code",
   "execution_count": 99,
   "metadata": {},
   "outputs": [
    {
     "name": "stdout",
     "output_type": "stream",
     "text": [
      "Empty DataFrame\n",
      "Columns: [Variable 1, Variable 2, Correlation]\n",
      "Index: []\n"
     ]
    }
   ],
   "source": [
    "correlation_matrix = df.drop(columns=['SalePrice']).corr(numeric_only=True)\n",
    "\n",
    "# Extract upper triangle of the correlation matrix to avoid duplicate pairs\n",
    "upper_triangle = correlation_matrix.where(\n",
    "    np.triu(np.ones(correlation_matrix.shape), k=1).astype(bool)\n",
    ")\n",
    "\n",
    "# Find variable pairs with correlation greater than 0.7\n",
    "high_correlation_pairs = upper_triangle.stack().reset_index()\n",
    "high_correlation_pairs.columns = ['Variable 1', 'Variable 2', 'Correlation']\n",
    "high_correlation_pairs = high_correlation_pairs[high_correlation_pairs['Correlation'] > 0.7]\n",
    "\n",
    "print(high_correlation_pairs)"
   ]
  },
  {
   "cell_type": "code",
   "execution_count": 100,
   "metadata": {},
   "outputs": [
    {
     "name": "stdout",
     "output_type": "stream",
     "text": [
      "      Variable 1    Variable 2  Correlation\n",
      "114  OverallQual     TotalSize     0.668155\n",
      "223   BsmtFinSF1  BsmtFullBath     0.649212\n"
     ]
    }
   ],
   "source": [
    "correlation_matrix = df.drop(columns=['SalePrice']).corr(numeric_only=True)\n",
    "\n",
    "# Extract upper triangle of the correlation matrix to avoid duplicate pairs\n",
    "upper_triangle = correlation_matrix.where(\n",
    "    np.triu(np.ones(correlation_matrix.shape), k=1).astype(bool)\n",
    ")\n",
    "\n",
    "# Find variable pairs with correlation greater than 0.5\n",
    "high_correlation_pairs = upper_triangle.stack().reset_index()\n",
    "high_correlation_pairs.columns = ['Variable 1', 'Variable 2', 'Correlation']\n",
    "high_correlation_pairs = high_correlation_pairs[high_correlation_pairs['Correlation'] > 0.6]\n",
    "\n",
    "print(high_correlation_pairs)"
   ]
  },
  {
   "cell_type": "markdown",
   "metadata": {},
   "source": [
    "**`BsmtFinSF1` and `BsmtFullBath` (Correlation: 0.649):**\n",
    "\n",
    "- Create a new feature that captures the usability of the finished basement: `BasementUtilityScore = BsmtFinSF1 × BsmtFullBath` to represent the total finished area of the basement."
   ]
  },
  {
   "cell_type": "code",
   "execution_count": 101,
   "metadata": {},
   "outputs": [],
   "source": [
    "# Create the `BasementUtilityScore` feature\n",
    "df['BasementUtilityScore'] = df['BsmtFinSF1'] * df['BsmtFullBath']\n",
    "df.drop(columns=['BsmtFinSF1', 'BsmtFullBath'], inplace=True)"
   ]
  },
  {
   "cell_type": "markdown",
   "metadata": {},
   "source": [
    "We consider there is no need to create a new feature for the moderate correlation."
   ]
  },
  {
   "cell_type": "markdown",
   "metadata": {},
   "source": [
    "## Qualitative Features"
   ]
  }
 ],
 "metadata": {
  "kernelspec": {
   "display_name": "base",
   "language": "python",
   "name": "python3"
  },
  "language_info": {
   "codemirror_mode": {
    "name": "ipython",
    "version": 3
   },
   "file_extension": ".py",
   "mimetype": "text/x-python",
   "name": "python",
   "nbconvert_exporter": "python",
   "pygments_lexer": "ipython3",
   "version": "3.11.7"
  }
 },
 "nbformat": 4,
 "nbformat_minor": 2
}
