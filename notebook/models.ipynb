{
 "cells": [
  {
   "cell_type": "markdown",
   "metadata": {},
   "source": [
    "# **Modeling**"
   ]
  },
  {
   "cell_type": "code",
   "execution_count": 57,
   "metadata": {},
   "outputs": [],
   "source": [
    "import pandas as pd\n",
    "\n",
    "train = pd.read_csv('../data/train_processed.csv')\n",
    "test = pd.read_csv('../data/test_processed.csv')"
   ]
  },
  {
   "cell_type": "markdown",
   "metadata": {},
   "source": [
    "We encode the qualitative variables to have numbers for the differents classes"
   ]
  },
  {
   "cell_type": "code",
   "execution_count": 58,
   "metadata": {},
   "outputs": [],
   "source": [
    "from sklearn.preprocessing import LabelEncoder\n",
    "le = LabelEncoder()\n",
    "\n",
    "qualitative_columns = train.select_dtypes(include=['object']).columns\n",
    "for features in qualitative_columns:\n",
    "    train[features] = le.fit_transform(train[features].astype(str))\n",
    "    test[features] = le.fit_transform(test[features].astype(str))"
   ]
  },
  {
   "cell_type": "markdown",
   "metadata": {},
   "source": [
    "We divide the train set into a smaller train set and a validation set"
   ]
  },
  {
   "cell_type": "code",
   "execution_count": 59,
   "metadata": {},
   "outputs": [],
   "source": [
    "from sklearn.model_selection import train_test_split\n",
    "\n",
    "X = train.drop(columns=['SalePrice'])  \n",
    "y = train['SalePrice']\n",
    "X_train, X_val, y_train, y_val = train_test_split(X, y, test_size=0.2, random_state=42)"
   ]
  },
  {
   "cell_type": "markdown",
   "metadata": {},
   "source": [
    "-----------"
   ]
  },
  {
   "cell_type": "markdown",
   "metadata": {},
   "source": [
    "# Model optimization\n",
    "\n",
    "You can find more detail about the models, why we use it and how we optimize it in the file *model_explanation.pdf*."
   ]
  },
  {
   "cell_type": "code",
   "execution_count": 60,
   "metadata": {},
   "outputs": [],
   "source": [
    "from sklearn.model_selection import GridSearchCV\n",
    "from sklearn.tree import DecisionTreeRegressor\n",
    "from xgboost import XGBRegressor\n",
    "from sklearn.metrics import root_mean_squared_error"
   ]
  },
  {
   "cell_type": "markdown",
   "metadata": {},
   "source": [
    "## **Regression tree tuning**\n",
    "Uncomment to run"
   ]
  },
  {
   "cell_type": "code",
   "execution_count": 61,
   "metadata": {},
   "outputs": [
    {
     "data": {
      "text/plain": [
       "'\\n# We create a Decision Tree Regressor\\nreg_tree = DecisionTreeRegressor(random_state=42)\\n\\n# Hyperparameters Grid\\nparam_grid_tree = {\\n    \\'max_depth\\': [3, 5, 10],\\n    \\'min_samples_split\\': [2, 5, 10],\\n    \\'min_samples_leaf\\': [1, 2, 4],\\n    \\'max_features\\': [1, 100, \\'sqrt\\', \\'log2\\']\\n}\\n\\n# Grid Search (we use negative mean squared error as score since gridsearch want to maximize it)\\ngrid_tree = GridSearchCV(estimator=reg_tree, param_grid=param_grid_tree, cv=5, scoring=\\'neg_mean_squared_error\\', verbose=1)\\ngrid_tree.fit(X_train, y_train)\\n\\n# Best parameters and best model\\nprint(\"Best parameters for Regression Tree:\", grid_tree.best_params_)\\nbest_tree = grid_tree.best_estimator_\\ny_pred_tree = best_tree.predict(X_val)\\n\\n#\\nprint(\"Regression Tree RMSE:\", root_mean_squared_error(y_val, y_pred_tree))'"
      ]
     },
     "execution_count": 61,
     "metadata": {},
     "output_type": "execute_result"
    }
   ],
   "source": [
    "\"\"\"\n",
    "# We create a Decision Tree Regressor\n",
    "reg_tree = DecisionTreeRegressor(random_state=42)\n",
    "\n",
    "# Hyperparameters Grid\n",
    "param_grid_tree = {\n",
    "    'max_depth': [3, 5, 10],\n",
    "    'min_samples_split': [2, 5, 10],\n",
    "    'min_samples_leaf': [1, 2, 4],\n",
    "    'max_features': [1, 100, 'sqrt', 'log2']\n",
    "}\n",
    "\n",
    "# Grid Search (we use negative mean squared error as score since gridsearch want to maximize it)\n",
    "grid_tree = GridSearchCV(estimator=reg_tree, param_grid=param_grid_tree, cv=5, scoring='neg_mean_squared_error', verbose=1)\n",
    "grid_tree.fit(X_train, y_train)\n",
    "\n",
    "# Best parameters and best model\n",
    "print(\"Best parameters for Regression Tree:\", grid_tree.best_params_)\n",
    "best_tree = grid_tree.best_estimator_\n",
    "y_pred_tree = best_tree.predict(X_val)\n",
    "\n",
    "#\n",
    "print(\"Regression Tree RMSE:\", root_mean_squared_error(y_val, y_pred_tree))\"\"\"\n"
   ]
  },
  {
   "cell_type": "markdown",
   "metadata": {},
   "source": [
    "### **Regression Tree Results**\n",
    "The hyperparameter tuning for the Regression Tree was conducted using GridSearchCV with 81 combinations of hyperparameters. Each combination was evaluated using 5-fold cross-validation.\n",
    "\n",
    "### Best Parameters\n",
    "The best hyperparameters for the Regression Tree model were:\n",
    "- `max_depth`: 5\n",
    "- `max_features`: 100\n",
    "- `min_samples_leaf`: 4\n",
    "- `min_samples_split`: 2\n",
    "\n",
    "### Performance\n",
    "- **RMSE** (Root Mean Squared Error) on the validation set: **37,687.26**\n"
   ]
  },
  {
   "cell_type": "markdown",
   "metadata": {},
   "source": [
    "----------------------"
   ]
  },
  {
   "cell_type": "markdown",
   "metadata": {},
   "source": [
    "## **XGBoost Regressor tuning**\n",
    "Uncomment to run (**Warning**: Took 10 hours for us !)"
   ]
  },
  {
   "cell_type": "code",
   "execution_count": 62,
   "metadata": {},
   "outputs": [
    {
     "data": {
      "text/plain": [
       "'# We create a XGBoost Regressor\\nxgb_model = XGBRegressor(random_state=42)\\n\\n# Hyperparameters Grid\\nparam_grid_xgb = {\\n    \\'max_depth\\': [3, 5, 10],\\n    \\'learning_rate\\': [0.01, 0.1, 0.2],\\n    \\'n_estimators\\': [100, 200, 500],\\n    \\'subsample\\': [0.6, 0.8, 1.0],\\n    \\'colsample_bytree\\': [0.6, 0.8, 1.0],\\n    \\'gamma\\': [0, 1, 5],\\n    \\'reg_alpha\\': [0, 0.1, 1],\\n    \\'reg_lambda\\': [1, 5, 10]\\n}\\n\\n# Grid Search\\ngrid_xgb = GridSearchCV(estimator=xgb_model, param_grid=param_grid_xgb, cv=5, scoring=\\'neg_mean_squared_error\\', verbose=1)\\ngrid_xgb.fit(X_train, y_train)\\n\\n# Best parameters and best model\\nprint(\"Best parameters for XGBoost:\", grid_xgb.best_params_)\\nbest_xgb = grid_xgb.best_estimator_\\ny_pred_xgb = best_xgb.predict(X_val)\\n\\n# RMSE\\nprint(\"XGBoost RMSE:\", root_mean_squared_error(y_val, y_pred_xgb))'"
      ]
     },
     "execution_count": 62,
     "metadata": {},
     "output_type": "execute_result"
    }
   ],
   "source": [
    "\"\"\"# We create a XGBoost Regressor\n",
    "xgb_model = XGBRegressor(random_state=42)\n",
    "\n",
    "# Hyperparameters Grid\n",
    "param_grid_xgb = {\n",
    "    'max_depth': [3, 5, 10],\n",
    "    'learning_rate': [0.01, 0.1, 0.2],\n",
    "    'n_estimators': [100, 200, 500],\n",
    "    'subsample': [0.6, 0.8, 1.0],\n",
    "    'colsample_bytree': [0.6, 0.8, 1.0],\n",
    "    'gamma': [0, 1, 5],\n",
    "    'reg_alpha': [0, 0.1, 1],\n",
    "    'reg_lambda': [1, 5, 10]\n",
    "}\n",
    "\n",
    "# Grid Search\n",
    "grid_xgb = GridSearchCV(estimator=xgb_model, param_grid=param_grid_xgb, cv=5, scoring='neg_mean_squared_error', verbose=1)\n",
    "grid_xgb.fit(X_train, y_train)\n",
    "\n",
    "# Best parameters and best model\n",
    "print(\"Best parameters for XGBoost:\", grid_xgb.best_params_)\n",
    "best_xgb = grid_xgb.best_estimator_\n",
    "y_pred_xgb = best_xgb.predict(X_val)\n",
    "\n",
    "# RMSE\n",
    "print(\"XGBoost RMSE:\", root_mean_squared_error(y_val, y_pred_xgb))\"\"\""
   ]
  },
  {
   "cell_type": "markdown",
   "metadata": {},
   "source": [
    "### **XGBoost Results**\n",
    "\n",
    "### Best Parameters\n",
    "The best hyperparameters for the XGBoost model were:\n",
    "- `colsample_bytree`: 0.6\n",
    "- `gamma`: 0\n",
    "- `learning_rate`: 0.1\n",
    "- `max_depth`: 3\n",
    "- `n_estimators`: 500\n",
    "- `reg_alpha`: 0\n",
    "- `reg_lambda`: 10\n",
    "- `subsample`: 1.0\n",
    "\n",
    "### Performance\n",
    "- **RMSE** (Root Mean Squared Error) on the validation set: **27,832.37**"
   ]
  },
  {
   "cell_type": "markdown",
   "metadata": {},
   "source": [
    "-----------------"
   ]
  },
  {
   "cell_type": "markdown",
   "metadata": {},
   "source": [
    "# Model implementation\n",
    "We implement the two optimize models"
   ]
  },
  {
   "cell_type": "code",
   "execution_count": 63,
   "metadata": {},
   "outputs": [
    {
     "name": "stdout",
     "output_type": "stream",
     "text": [
      "Regression Tree RMSE: 37687.26\n",
      "XGBoost RMSE: 27832.37\n"
     ]
    }
   ],
   "source": [
    "# Optimize Tree\n",
    "Tree = DecisionTreeRegressor(max_depth=5, max_features=100, min_samples_leaf=4, \n",
    "                             min_samples_split=2, random_state=42)\n",
    "\n",
    "# Optimize XGBoost\n",
    "XGBoost = XGBRegressor(colsample_bytree=0.6, gamma=0, learning_rate=0.1, \n",
    "                       max_depth=3, n_estimators=500, reg_alpha=0, reg_lambda=10, \n",
    "                       subsample=1.0, random_state=42)\n",
    "\n",
    "# Fit the models\n",
    "Tree.fit(X_train, y_train)\n",
    "XGBoost.fit(X_train, y_train)\n",
    "\n",
    "# Predictions\n",
    "y_pred_tree = Tree.predict(X_val)\n",
    "y_pred_xgb = XGBoost.predict(X_val)\n",
    "\n",
    "# RMSE\n",
    "\n",
    "print(\"Regression Tree RMSE:\", round(root_mean_squared_error(y_val, y_pred_tree), 2))\n",
    "print(\"XGBoost RMSE:\", round(root_mean_squared_error(y_val, y_pred_xgb), 2))"
   ]
  },
  {
   "cell_type": "markdown",
   "metadata": {},
   "source": [
    "### Score\n",
    "\n",
    "We use the MSE as a scoring method to tune our models, but it is also interstning to see their `score`.\n",
    "\n",
    "In scikit-learn, the `score` method evaluates the performance of a regression model using the **coefficient of determination ($R^2$)** by default. This metric provides insight into how well the model explains the variance in the target variable.\n",
    "\n",
    "The $R^2$ metric, also known as the \"coefficient of determination,\" measures the proportion of the variance in the dependent variable that is predictable from the independent variables. It is computed as:\n",
    "\n",
    "\n",
    "$$R^2 = 1 - \\frac{\\sum (y_i - \\hat{y}_i)^2}{\\sum (y_i - \\bar{y})^2}$$\n",
    "\n",
    "Where:\n",
    "- $y_i$: The actual target value.\n",
    "- $hat{y}_i$: The predicted target value.\n",
    "- $\\bar{y}$: The mean of the actual target values.\n",
    "- $\\sum (y_i - \\hat{y}_i)^2$: The residual sum of squares (unexplained variance).\n",
    "- $\\sum (y_i - \\bar{y})^2$: The total sum of squares (total variance)."
   ]
  },
  {
   "cell_type": "code",
   "execution_count": 64,
   "metadata": {},
   "outputs": [
    {
     "name": "stdout",
     "output_type": "stream",
     "text": [
      "Regression Tree score: 0.81\n",
      "XGBoost score: 0.9\n"
     ]
    }
   ],
   "source": [
    "print(\"Regression Tree score:\", round(Tree.score(X_val, y_val), 2))\n",
    "print(\"XGBoost score:\", round(XGBoost.score(X_val, y_val), 2))"
   ]
  },
  {
   "cell_type": "markdown",
   "metadata": {},
   "source": [
    "As expected, the XGBoost regressor has the best score than the Tree regressor.\n",
    "\n",
    "---\n",
    "\n",
    "### Dataframe to compare the real sale price and the predicted price of the two models on the validtion set."
   ]
  },
  {
   "cell_type": "code",
   "execution_count": 65,
   "metadata": {},
   "outputs": [
    {
     "data": {
      "text/html": [
       "<div>\n",
       "<style scoped>\n",
       "    .dataframe tbody tr th:only-of-type {\n",
       "        vertical-align: middle;\n",
       "    }\n",
       "\n",
       "    .dataframe tbody tr th {\n",
       "        vertical-align: top;\n",
       "    }\n",
       "\n",
       "    .dataframe thead th {\n",
       "        text-align: right;\n",
       "    }\n",
       "</style>\n",
       "<table border=\"1\" class=\"dataframe\">\n",
       "  <thead>\n",
       "    <tr style=\"text-align: right;\">\n",
       "      <th></th>\n",
       "      <th>SalePrice</th>\n",
       "      <th>Pred_Tree</th>\n",
       "      <th>Pred_XGB</th>\n",
       "      <th>Error_Tree</th>\n",
       "      <th>Error_XGB</th>\n",
       "    </tr>\n",
       "  </thead>\n",
       "  <tbody>\n",
       "    <tr>\n",
       "      <th>892</th>\n",
       "      <td>154500</td>\n",
       "      <td>122421</td>\n",
       "      <td>140024</td>\n",
       "      <td>32078</td>\n",
       "      <td>14476</td>\n",
       "    </tr>\n",
       "    <tr>\n",
       "      <th>1105</th>\n",
       "      <td>325000</td>\n",
       "      <td>352098</td>\n",
       "      <td>332971</td>\n",
       "      <td>27097</td>\n",
       "      <td>7970</td>\n",
       "    </tr>\n",
       "    <tr>\n",
       "      <th>413</th>\n",
       "      <td>115000</td>\n",
       "      <td>135069</td>\n",
       "      <td>108053</td>\n",
       "      <td>20068</td>\n",
       "      <td>6946</td>\n",
       "    </tr>\n",
       "    <tr>\n",
       "      <th>522</th>\n",
       "      <td>159000</td>\n",
       "      <td>210657</td>\n",
       "      <td>164650</td>\n",
       "      <td>51656</td>\n",
       "      <td>5650</td>\n",
       "    </tr>\n",
       "    <tr>\n",
       "      <th>1036</th>\n",
       "      <td>315500</td>\n",
       "      <td>278374</td>\n",
       "      <td>329861</td>\n",
       "      <td>37125</td>\n",
       "      <td>14360</td>\n",
       "    </tr>\n",
       "    <tr>\n",
       "      <th>614</th>\n",
       "      <td>75500</td>\n",
       "      <td>86411</td>\n",
       "      <td>74212</td>\n",
       "      <td>10910</td>\n",
       "      <td>1288</td>\n",
       "    </tr>\n",
       "    <tr>\n",
       "      <th>218</th>\n",
       "      <td>311500</td>\n",
       "      <td>191189</td>\n",
       "      <td>220641</td>\n",
       "      <td>120311</td>\n",
       "      <td>90859</td>\n",
       "    </tr>\n",
       "    <tr>\n",
       "      <th>1160</th>\n",
       "      <td>146000</td>\n",
       "      <td>174099</td>\n",
       "      <td>137967</td>\n",
       "      <td>28099</td>\n",
       "      <td>8033</td>\n",
       "    </tr>\n",
       "    <tr>\n",
       "      <th>649</th>\n",
       "      <td>84500</td>\n",
       "      <td>86411</td>\n",
       "      <td>76908</td>\n",
       "      <td>1910</td>\n",
       "      <td>7592</td>\n",
       "    </tr>\n",
       "    <tr>\n",
       "      <th>887</th>\n",
       "      <td>135500</td>\n",
       "      <td>122421</td>\n",
       "      <td>136148</td>\n",
       "      <td>13078</td>\n",
       "      <td>648</td>\n",
       "    </tr>\n",
       "    <tr>\n",
       "      <th>576</th>\n",
       "      <td>145000</td>\n",
       "      <td>191189</td>\n",
       "      <td>145605</td>\n",
       "      <td>46188</td>\n",
       "      <td>605</td>\n",
       "    </tr>\n",
       "    <tr>\n",
       "      <th>1252</th>\n",
       "      <td>130000</td>\n",
       "      <td>122421</td>\n",
       "      <td>120383</td>\n",
       "      <td>7578</td>\n",
       "      <td>9617</td>\n",
       "    </tr>\n",
       "    <tr>\n",
       "      <th>1061</th>\n",
       "      <td>81000</td>\n",
       "      <td>135069</td>\n",
       "      <td>103144</td>\n",
       "      <td>54068</td>\n",
       "      <td>22143</td>\n",
       "    </tr>\n",
       "    <tr>\n",
       "      <th>567</th>\n",
       "      <td>214000</td>\n",
       "      <td>222049</td>\n",
       "      <td>202674</td>\n",
       "      <td>8048</td>\n",
       "      <td>11326</td>\n",
       "    </tr>\n",
       "    <tr>\n",
       "      <th>1108</th>\n",
       "      <td>181000</td>\n",
       "      <td>174099</td>\n",
       "      <td>174323</td>\n",
       "      <td>6900</td>\n",
       "      <td>6676</td>\n",
       "    </tr>\n",
       "    <tr>\n",
       "      <th>1113</th>\n",
       "      <td>134500</td>\n",
       "      <td>122421</td>\n",
       "      <td>134432</td>\n",
       "      <td>12078</td>\n",
       "      <td>67</td>\n",
       "    </tr>\n",
       "    <tr>\n",
       "      <th>168</th>\n",
       "      <td>183500</td>\n",
       "      <td>191189</td>\n",
       "      <td>194305</td>\n",
       "      <td>7688</td>\n",
       "      <td>10804</td>\n",
       "    </tr>\n",
       "    <tr>\n",
       "      <th>1102</th>\n",
       "      <td>135000</td>\n",
       "      <td>122421</td>\n",
       "      <td>128746</td>\n",
       "      <td>12578</td>\n",
       "      <td>6253</td>\n",
       "    </tr>\n",
       "    <tr>\n",
       "      <th>1120</th>\n",
       "      <td>118400</td>\n",
       "      <td>122421</td>\n",
       "      <td>116822</td>\n",
       "      <td>4021</td>\n",
       "      <td>1577</td>\n",
       "    </tr>\n",
       "    <tr>\n",
       "      <th>67</th>\n",
       "      <td>226000</td>\n",
       "      <td>222049</td>\n",
       "      <td>213339</td>\n",
       "      <td>3951</td>\n",
       "      <td>12660</td>\n",
       "    </tr>\n",
       "  </tbody>\n",
       "</table>\n",
       "</div>"
      ],
      "text/plain": [
       "      SalePrice  Pred_Tree  Pred_XGB  Error_Tree  Error_XGB\n",
       "892      154500     122421    140024       32078      14476\n",
       "1105     325000     352098    332971       27097       7970\n",
       "413      115000     135069    108053       20068       6946\n",
       "522      159000     210657    164650       51656       5650\n",
       "1036     315500     278374    329861       37125      14360\n",
       "614       75500      86411     74212       10910       1288\n",
       "218      311500     191189    220641      120311      90859\n",
       "1160     146000     174099    137967       28099       8033\n",
       "649       84500      86411     76908        1910       7592\n",
       "887      135500     122421    136148       13078        648\n",
       "576      145000     191189    145605       46188        605\n",
       "1252     130000     122421    120383        7578       9617\n",
       "1061      81000     135069    103144       54068      22143\n",
       "567      214000     222049    202674        8048      11326\n",
       "1108     181000     174099    174323        6900       6676\n",
       "1113     134500     122421    134432       12078         67\n",
       "168      183500     191189    194305        7688      10804\n",
       "1102     135000     122421    128746       12578       6253\n",
       "1120     118400     122421    116822        4021       1577\n",
       "67       226000     222049    213339        3951      12660"
      ]
     },
     "execution_count": 65,
     "metadata": {},
     "output_type": "execute_result"
    }
   ],
   "source": [
    "import numpy as np\n",
    "\n",
    "# Create a DataFrame with actual and predicted values\n",
    "results_df = pd.DataFrame({\n",
    "    'SalePrice': y_val,\n",
    "    'Pred_Tree': np.round(y_pred_tree).astype(int),\n",
    "    'Pred_XGB': np.round(y_pred_xgb).astype(int),\n",
    "    'Error_Tree': np.round(np.abs(y_val - y_pred_tree).astype(int)),\n",
    "    'Error_XGB': np.round(np.abs(y_val - y_pred_xgb).astype(int))\n",
    "})\n",
    "\n",
    "# Display the first few rows of the DataFrame\n",
    "results_df.head(20)"
   ]
  },
  {
   "cell_type": "markdown",
   "metadata": {},
   "source": [
    "### Boxplot of the error of predictions of the two models"
   ]
  },
  {
   "cell_type": "code",
   "execution_count": 66,
   "metadata": {},
   "outputs": [
    {
     "data": {
      "application/vnd.plotly.v1+json": {
       "config": {
        "plotlyServerURL": "https://plot.ly"
       },
       "data": [
        {
         "boxmean": true,
         "marker": {
          "size": 8
         },
         "name": "Error_Tree",
         "type": "box",
         "y": [
          32078,
          27097,
          20068,
          51656,
          37125,
          10910,
          120311,
          28099,
          1910,
          13078,
          46188,
          7578,
          54068,
          8048,
          6900,
          12078,
          7688,
          12578,
          4021,
          3951,
          9932,
          18980,
          15378,
          6578,
          811,
          20199,
          10054,
          5931,
          6900,
          17711,
          8068,
          61951,
          35567,
          13328,
          5337,
          17578,
          2272,
          28311,
          42097,
          14502,
          20568,
          17048,
          2921,
          155680,
          6568,
          56599,
          7421,
          4578,
          42976,
          8272,
          3421,
          21900,
          28589,
          161105,
          9431,
          43456,
          21811,
          39931,
          51121,
          4002,
          15484,
          18272,
          28957,
          14469,
          33800,
          68900,
          13421,
          47097,
          28921,
          17878,
          7355,
          11578,
          13413,
          9515,
          163551,
          37656,
          60973,
          37543,
          5272,
          13397,
          31589,
          28526,
          22068,
          4889,
          8621,
          2727,
          16337,
          32048,
          20831,
          2286,
          17772,
          16272,
          2078,
          53564,
          772,
          4109,
          13811,
          25778,
          17148,
          37951,
          10599,
          33711,
          59456,
          3068,
          29067,
          17599,
          20931,
          51706,
          9931,
          29932,
          2622,
          1578,
          4578,
          1772,
          22311,
          7497,
          14521,
          12068,
          23068,
          164105,
          46589,
          13931,
          5099,
          3656,
          900,
          14578,
          13951,
          32002,
          21578,
          28288,
          5288,
          39073,
          6711,
          70099,
          48673,
          10794,
          40588,
          7828,
          73456,
          187344,
          50902,
          9578,
          3900,
          37599,
          9931,
          578,
          27951,
          4088,
          22397,
          28526,
          15078,
          3121,
          10032,
          18572,
          4526,
          272,
          26768,
          34099,
          25502,
          8978,
          11120,
          14121,
          33629,
          20432,
          3921,
          5272,
          16951,
          101492,
          11074,
          3035,
          7902,
          19221,
          20421,
          7121,
          163105,
          22929,
          17473,
          3688,
          3078,
          3400,
          14967,
          27991,
          25621,
          12578,
          23374,
          18121,
          55706,
          55389,
          11311,
          47421,
          35621,
          13941,
          37578,
          48578,
          21900,
          89272,
          5980,
          55526,
          57117,
          32478,
          57951,
          16878,
          24578,
          37097,
          6188,
          13078,
          10162,
          3931,
          34099,
          12421,
          2951,
          8431,
          6528,
          14378,
          50311,
          15874,
          3012,
          15121,
          5727,
          9068,
          7431,
          24382,
          52567,
          55921,
          48662,
          19099,
          66668,
          57921,
          1099,
          19645,
          26602,
          7478,
          2421,
          727,
          9617,
          31153,
          4211,
          11121,
          54951,
          20578,
          5602,
          5435,
          3311,
          86682,
          10900,
          28227,
          9099,
          40931,
          5168,
          28589,
          27207,
          1878,
          9272,
          410,
          35578,
          7568,
          7421,
          2921,
          1800,
          86706,
          13973,
          9099,
          5778,
          52951,
          8415,
          39900,
          20599,
          8931,
          20068,
          21878,
          56026,
          49617,
          30951,
          10526,
          9702,
          13431,
          53688,
          34036,
          21932,
          24932,
          1311,
          5589,
          5811,
          2002,
          29706,
          11650,
          38811,
          45597,
          37951,
          30878,
          14421,
          10568
         ]
        },
        {
         "boxmean": true,
         "marker": {
          "size": 8
         },
         "name": "Error_XGB",
         "type": "box",
         "y": [
          14476,
          7970,
          6946,
          5650,
          14360,
          1288,
          90859,
          8033,
          7592,
          648,
          605,
          9617,
          22143,
          11326,
          6676,
          67,
          10804,
          6253,
          1577,
          12660,
          8263,
          13618,
          5612,
          2538,
          2854,
          12941,
          12684,
          39571,
          3583,
          13257,
          12336,
          32092,
          25570,
          18391,
          314,
          10835,
          8590,
          15074,
          31063,
          11360,
          16482,
          24489,
          1858,
          92823,
          3870,
          18255,
          924,
          2177,
          43686,
          8557,
          8151,
          11114,
          2631,
          80883,
          2571,
          15589,
          19612,
          18665,
          34017,
          8083,
          13392,
          10053,
          8082,
          29117,
          17386,
          25887,
          3616,
          32767,
          17090,
          10552,
          603,
          1244,
          2834,
          10927,
          148449,
          10827,
          17872,
          25910,
          7033,
          8014,
          6830,
          2330,
          11634,
          3009,
          9086,
          10618,
          1301,
          354,
          13329,
          20330,
          29759,
          11599,
          7094,
          24946,
          10877,
          10682,
          13909,
          18624,
          8342,
          26901,
          5887,
          16345,
          22080,
          440,
          6907,
          13453,
          11615,
          20424,
          7057,
          57591,
          17334,
          2700,
          7587,
          8281,
          6579,
          3202,
          2744,
          16700,
          18732,
          75319,
          1937,
          7526,
          10468,
          9115,
          2593,
          2343,
          6922,
          18486,
          765,
          13300,
          10521,
          3371,
          420,
          14243,
          40784,
          18168,
          2280,
          1425,
          13149,
          212326,
          5977,
          924,
          1777,
          25983,
          5759,
          10667,
          33321,
          3149,
          11140,
          1153,
          11265,
          5358,
          51917,
          9612,
          561,
          6177,
          43522,
          15312,
          12138,
          518,
          10760,
          17339,
          44745,
          2741,
          12509,
          25891,
          12824,
          79586,
          59056,
          20540,
          12121,
          8049,
          1438,
          3181,
          61561,
          23747,
          8167,
          32187,
          2594,
          6637,
          1372,
          41786,
          4031,
          7280,
          2643,
          2218,
          25897,
          34774,
          12460,
          17747,
          9575,
          5685,
          28130,
          14857,
          3217,
          41149,
          25594,
          53985,
          42499,
          22298,
          52129,
          32851,
          35862,
          39744,
          10769,
          3761,
          946,
          5790,
          17115,
          2957,
          8582,
          1118,
          9698,
          15338,
          9778,
          19883,
          4877,
          13044,
          1587,
          1804,
          8698,
          30687,
          24879,
          30412,
          31232,
          12773,
          17791,
          46026,
          10008,
          2196,
          11121,
          7823,
          793,
          4121,
          10287,
          15151,
          7350,
          5929,
          57500,
          11329,
          6252,
          5862,
          12283,
          10064,
          4768,
          22952,
          16682,
          19395,
          10829,
          18186,
          6208,
          14466,
          11173,
          1311,
          17648,
          10957,
          6521,
          275,
          1076,
          29526,
          129035,
          11642,
          14233,
          42654,
          269,
          3330,
          23474,
          8250,
          2977,
          10997,
          29773,
          52025,
          15474,
          8925,
          62,
          17132,
          334,
          25073,
          97421,
          153,
          14643,
          172,
          1869,
          5390,
          27047,
          10347,
          15507,
          24863,
          6399,
          5948,
          10452,
          2573
         ]
        }
       ],
       "layout": {
        "boxmode": "group",
        "height": 600,
        "template": {
         "data": {
          "bar": [
           {
            "error_x": {
             "color": "#2a3f5f"
            },
            "error_y": {
             "color": "#2a3f5f"
            },
            "marker": {
             "line": {
              "color": "#E5ECF6",
              "width": 0.5
             },
             "pattern": {
              "fillmode": "overlay",
              "size": 10,
              "solidity": 0.2
             }
            },
            "type": "bar"
           }
          ],
          "barpolar": [
           {
            "marker": {
             "line": {
              "color": "#E5ECF6",
              "width": 0.5
             },
             "pattern": {
              "fillmode": "overlay",
              "size": 10,
              "solidity": 0.2
             }
            },
            "type": "barpolar"
           }
          ],
          "carpet": [
           {
            "aaxis": {
             "endlinecolor": "#2a3f5f",
             "gridcolor": "white",
             "linecolor": "white",
             "minorgridcolor": "white",
             "startlinecolor": "#2a3f5f"
            },
            "baxis": {
             "endlinecolor": "#2a3f5f",
             "gridcolor": "white",
             "linecolor": "white",
             "minorgridcolor": "white",
             "startlinecolor": "#2a3f5f"
            },
            "type": "carpet"
           }
          ],
          "choropleth": [
           {
            "colorbar": {
             "outlinewidth": 0,
             "ticks": ""
            },
            "type": "choropleth"
           }
          ],
          "contour": [
           {
            "colorbar": {
             "outlinewidth": 0,
             "ticks": ""
            },
            "colorscale": [
             [
              0,
              "#0d0887"
             ],
             [
              0.1111111111111111,
              "#46039f"
             ],
             [
              0.2222222222222222,
              "#7201a8"
             ],
             [
              0.3333333333333333,
              "#9c179e"
             ],
             [
              0.4444444444444444,
              "#bd3786"
             ],
             [
              0.5555555555555556,
              "#d8576b"
             ],
             [
              0.6666666666666666,
              "#ed7953"
             ],
             [
              0.7777777777777778,
              "#fb9f3a"
             ],
             [
              0.8888888888888888,
              "#fdca26"
             ],
             [
              1,
              "#f0f921"
             ]
            ],
            "type": "contour"
           }
          ],
          "contourcarpet": [
           {
            "colorbar": {
             "outlinewidth": 0,
             "ticks": ""
            },
            "type": "contourcarpet"
           }
          ],
          "heatmap": [
           {
            "colorbar": {
             "outlinewidth": 0,
             "ticks": ""
            },
            "colorscale": [
             [
              0,
              "#0d0887"
             ],
             [
              0.1111111111111111,
              "#46039f"
             ],
             [
              0.2222222222222222,
              "#7201a8"
             ],
             [
              0.3333333333333333,
              "#9c179e"
             ],
             [
              0.4444444444444444,
              "#bd3786"
             ],
             [
              0.5555555555555556,
              "#d8576b"
             ],
             [
              0.6666666666666666,
              "#ed7953"
             ],
             [
              0.7777777777777778,
              "#fb9f3a"
             ],
             [
              0.8888888888888888,
              "#fdca26"
             ],
             [
              1,
              "#f0f921"
             ]
            ],
            "type": "heatmap"
           }
          ],
          "heatmapgl": [
           {
            "colorbar": {
             "outlinewidth": 0,
             "ticks": ""
            },
            "colorscale": [
             [
              0,
              "#0d0887"
             ],
             [
              0.1111111111111111,
              "#46039f"
             ],
             [
              0.2222222222222222,
              "#7201a8"
             ],
             [
              0.3333333333333333,
              "#9c179e"
             ],
             [
              0.4444444444444444,
              "#bd3786"
             ],
             [
              0.5555555555555556,
              "#d8576b"
             ],
             [
              0.6666666666666666,
              "#ed7953"
             ],
             [
              0.7777777777777778,
              "#fb9f3a"
             ],
             [
              0.8888888888888888,
              "#fdca26"
             ],
             [
              1,
              "#f0f921"
             ]
            ],
            "type": "heatmapgl"
           }
          ],
          "histogram": [
           {
            "marker": {
             "pattern": {
              "fillmode": "overlay",
              "size": 10,
              "solidity": 0.2
             }
            },
            "type": "histogram"
           }
          ],
          "histogram2d": [
           {
            "colorbar": {
             "outlinewidth": 0,
             "ticks": ""
            },
            "colorscale": [
             [
              0,
              "#0d0887"
             ],
             [
              0.1111111111111111,
              "#46039f"
             ],
             [
              0.2222222222222222,
              "#7201a8"
             ],
             [
              0.3333333333333333,
              "#9c179e"
             ],
             [
              0.4444444444444444,
              "#bd3786"
             ],
             [
              0.5555555555555556,
              "#d8576b"
             ],
             [
              0.6666666666666666,
              "#ed7953"
             ],
             [
              0.7777777777777778,
              "#fb9f3a"
             ],
             [
              0.8888888888888888,
              "#fdca26"
             ],
             [
              1,
              "#f0f921"
             ]
            ],
            "type": "histogram2d"
           }
          ],
          "histogram2dcontour": [
           {
            "colorbar": {
             "outlinewidth": 0,
             "ticks": ""
            },
            "colorscale": [
             [
              0,
              "#0d0887"
             ],
             [
              0.1111111111111111,
              "#46039f"
             ],
             [
              0.2222222222222222,
              "#7201a8"
             ],
             [
              0.3333333333333333,
              "#9c179e"
             ],
             [
              0.4444444444444444,
              "#bd3786"
             ],
             [
              0.5555555555555556,
              "#d8576b"
             ],
             [
              0.6666666666666666,
              "#ed7953"
             ],
             [
              0.7777777777777778,
              "#fb9f3a"
             ],
             [
              0.8888888888888888,
              "#fdca26"
             ],
             [
              1,
              "#f0f921"
             ]
            ],
            "type": "histogram2dcontour"
           }
          ],
          "mesh3d": [
           {
            "colorbar": {
             "outlinewidth": 0,
             "ticks": ""
            },
            "type": "mesh3d"
           }
          ],
          "parcoords": [
           {
            "line": {
             "colorbar": {
              "outlinewidth": 0,
              "ticks": ""
             }
            },
            "type": "parcoords"
           }
          ],
          "pie": [
           {
            "automargin": true,
            "type": "pie"
           }
          ],
          "scatter": [
           {
            "fillpattern": {
             "fillmode": "overlay",
             "size": 10,
             "solidity": 0.2
            },
            "type": "scatter"
           }
          ],
          "scatter3d": [
           {
            "line": {
             "colorbar": {
              "outlinewidth": 0,
              "ticks": ""
             }
            },
            "marker": {
             "colorbar": {
              "outlinewidth": 0,
              "ticks": ""
             }
            },
            "type": "scatter3d"
           }
          ],
          "scattercarpet": [
           {
            "marker": {
             "colorbar": {
              "outlinewidth": 0,
              "ticks": ""
             }
            },
            "type": "scattercarpet"
           }
          ],
          "scattergeo": [
           {
            "marker": {
             "colorbar": {
              "outlinewidth": 0,
              "ticks": ""
             }
            },
            "type": "scattergeo"
           }
          ],
          "scattergl": [
           {
            "marker": {
             "colorbar": {
              "outlinewidth": 0,
              "ticks": ""
             }
            },
            "type": "scattergl"
           }
          ],
          "scattermapbox": [
           {
            "marker": {
             "colorbar": {
              "outlinewidth": 0,
              "ticks": ""
             }
            },
            "type": "scattermapbox"
           }
          ],
          "scatterpolar": [
           {
            "marker": {
             "colorbar": {
              "outlinewidth": 0,
              "ticks": ""
             }
            },
            "type": "scatterpolar"
           }
          ],
          "scatterpolargl": [
           {
            "marker": {
             "colorbar": {
              "outlinewidth": 0,
              "ticks": ""
             }
            },
            "type": "scatterpolargl"
           }
          ],
          "scatterternary": [
           {
            "marker": {
             "colorbar": {
              "outlinewidth": 0,
              "ticks": ""
             }
            },
            "type": "scatterternary"
           }
          ],
          "surface": [
           {
            "colorbar": {
             "outlinewidth": 0,
             "ticks": ""
            },
            "colorscale": [
             [
              0,
              "#0d0887"
             ],
             [
              0.1111111111111111,
              "#46039f"
             ],
             [
              0.2222222222222222,
              "#7201a8"
             ],
             [
              0.3333333333333333,
              "#9c179e"
             ],
             [
              0.4444444444444444,
              "#bd3786"
             ],
             [
              0.5555555555555556,
              "#d8576b"
             ],
             [
              0.6666666666666666,
              "#ed7953"
             ],
             [
              0.7777777777777778,
              "#fb9f3a"
             ],
             [
              0.8888888888888888,
              "#fdca26"
             ],
             [
              1,
              "#f0f921"
             ]
            ],
            "type": "surface"
           }
          ],
          "table": [
           {
            "cells": {
             "fill": {
              "color": "#EBF0F8"
             },
             "line": {
              "color": "white"
             }
            },
            "header": {
             "fill": {
              "color": "#C8D4E3"
             },
             "line": {
              "color": "white"
             }
            },
            "type": "table"
           }
          ]
         },
         "layout": {
          "annotationdefaults": {
           "arrowcolor": "#2a3f5f",
           "arrowhead": 0,
           "arrowwidth": 1
          },
          "autotypenumbers": "strict",
          "coloraxis": {
           "colorbar": {
            "outlinewidth": 0,
            "ticks": ""
           }
          },
          "colorscale": {
           "diverging": [
            [
             0,
             "#8e0152"
            ],
            [
             0.1,
             "#c51b7d"
            ],
            [
             0.2,
             "#de77ae"
            ],
            [
             0.3,
             "#f1b6da"
            ],
            [
             0.4,
             "#fde0ef"
            ],
            [
             0.5,
             "#f7f7f7"
            ],
            [
             0.6,
             "#e6f5d0"
            ],
            [
             0.7,
             "#b8e186"
            ],
            [
             0.8,
             "#7fbc41"
            ],
            [
             0.9,
             "#4d9221"
            ],
            [
             1,
             "#276419"
            ]
           ],
           "sequential": [
            [
             0,
             "#0d0887"
            ],
            [
             0.1111111111111111,
             "#46039f"
            ],
            [
             0.2222222222222222,
             "#7201a8"
            ],
            [
             0.3333333333333333,
             "#9c179e"
            ],
            [
             0.4444444444444444,
             "#bd3786"
            ],
            [
             0.5555555555555556,
             "#d8576b"
            ],
            [
             0.6666666666666666,
             "#ed7953"
            ],
            [
             0.7777777777777778,
             "#fb9f3a"
            ],
            [
             0.8888888888888888,
             "#fdca26"
            ],
            [
             1,
             "#f0f921"
            ]
           ],
           "sequentialminus": [
            [
             0,
             "#0d0887"
            ],
            [
             0.1111111111111111,
             "#46039f"
            ],
            [
             0.2222222222222222,
             "#7201a8"
            ],
            [
             0.3333333333333333,
             "#9c179e"
            ],
            [
             0.4444444444444444,
             "#bd3786"
            ],
            [
             0.5555555555555556,
             "#d8576b"
            ],
            [
             0.6666666666666666,
             "#ed7953"
            ],
            [
             0.7777777777777778,
             "#fb9f3a"
            ],
            [
             0.8888888888888888,
             "#fdca26"
            ],
            [
             1,
             "#f0f921"
            ]
           ]
          },
          "colorway": [
           "#636efa",
           "#EF553B",
           "#00cc96",
           "#ab63fa",
           "#FFA15A",
           "#19d3f3",
           "#FF6692",
           "#B6E880",
           "#FF97FF",
           "#FECB52"
          ],
          "font": {
           "color": "#2a3f5f"
          },
          "geo": {
           "bgcolor": "white",
           "lakecolor": "white",
           "landcolor": "#E5ECF6",
           "showlakes": true,
           "showland": true,
           "subunitcolor": "white"
          },
          "hoverlabel": {
           "align": "left"
          },
          "hovermode": "closest",
          "mapbox": {
           "style": "light"
          },
          "paper_bgcolor": "white",
          "plot_bgcolor": "#E5ECF6",
          "polar": {
           "angularaxis": {
            "gridcolor": "white",
            "linecolor": "white",
            "ticks": ""
           },
           "bgcolor": "#E5ECF6",
           "radialaxis": {
            "gridcolor": "white",
            "linecolor": "white",
            "ticks": ""
           }
          },
          "scene": {
           "xaxis": {
            "backgroundcolor": "#E5ECF6",
            "gridcolor": "white",
            "gridwidth": 2,
            "linecolor": "white",
            "showbackground": true,
            "ticks": "",
            "zerolinecolor": "white"
           },
           "yaxis": {
            "backgroundcolor": "#E5ECF6",
            "gridcolor": "white",
            "gridwidth": 2,
            "linecolor": "white",
            "showbackground": true,
            "ticks": "",
            "zerolinecolor": "white"
           },
           "zaxis": {
            "backgroundcolor": "#E5ECF6",
            "gridcolor": "white",
            "gridwidth": 2,
            "linecolor": "white",
            "showbackground": true,
            "ticks": "",
            "zerolinecolor": "white"
           }
          },
          "shapedefaults": {
           "line": {
            "color": "#2a3f5f"
           }
          },
          "ternary": {
           "aaxis": {
            "gridcolor": "white",
            "linecolor": "white",
            "ticks": ""
           },
           "baxis": {
            "gridcolor": "white",
            "linecolor": "white",
            "ticks": ""
           },
           "bgcolor": "#E5ECF6",
           "caxis": {
            "gridcolor": "white",
            "linecolor": "white",
            "ticks": ""
           }
          },
          "title": {
           "x": 0.05
          },
          "xaxis": {
           "automargin": true,
           "gridcolor": "white",
           "linecolor": "white",
           "ticks": "",
           "title": {
            "standoff": 15
           },
           "zerolinecolor": "white",
           "zerolinewidth": 2
          },
          "yaxis": {
           "automargin": true,
           "gridcolor": "white",
           "linecolor": "white",
           "ticks": "",
           "title": {
            "standoff": 15
           },
           "zerolinecolor": "white",
           "zerolinewidth": 2
          }
         }
        },
        "title": {
         "text": "Error Distribution for Regression Tree and XGBoost"
        },
        "width": 800,
        "yaxis": {
         "title": {
          "text": "Absolute Error"
         }
        }
       }
      }
     },
     "metadata": {},
     "output_type": "display_data"
    }
   ],
   "source": [
    "import pandas as pd\n",
    "import plotly.graph_objects as go\n",
    "\n",
    "# Create the box plots\n",
    "fig = go.Figure()\n",
    "\n",
    "# Add box for Error_Tree\n",
    "fig.add_trace(go.Box(\n",
    "    y=results_df['Error_Tree'],\n",
    "    name='Error_Tree',\n",
    "    boxmean=True,  # Show mean\n",
    "    marker=dict(size=8)  # Marker size for points\n",
    "))\n",
    "\n",
    "# Add box for Error_XGB\n",
    "fig.add_trace(go.Box(\n",
    "    y=results_df['Error_XGB'],\n",
    "    name='Error_XGB',\n",
    "    boxmean=True,  # Show mean\n",
    "    marker=dict(size=8)  # Marker size for points\n",
    "))\n",
    "\n",
    "# Update layout for larger boxes and better visualization\n",
    "fig.update_layout(\n",
    "    title='Error Distribution for Regression Tree and XGBoost',\n",
    "    yaxis_title='Absolute Error',\n",
    "    boxmode='group',  # Grouped box plots\n",
    "    width=800,  # Width of the figure\n",
    "    height=600  # Height of the figure\n",
    ")\n",
    "\n",
    "# Show the plot\n",
    "fig.show()"
   ]
  },
  {
   "cell_type": "markdown",
   "metadata": {},
   "source": [
    "This boxplots confirm that we have better prediction with XGBoost.\n",
    "\n",
    "Some statistics :\n",
    "\n",
    "### Tree regressor errors :\n",
    "- **1st quartile**: 7455\n",
    "- **Median**: 16,306\n",
    "- **Mean**: 24,964\n",
    "- **3rd quartile**: 33,054\n",
    "\n",
    "\n",
    "### XGBoost regressor errors :\n",
    "- **1st quartile**: 5118\n",
    "- **Median**: 10,817\n",
    "- **Mean**: 16,6678\n",
    "- **3rd quartile**: 18,645\n"
   ]
  },
  {
   "cell_type": "markdown",
   "metadata": {},
   "source": [
    "------------"
   ]
  },
  {
   "cell_type": "markdown",
   "metadata": {},
   "source": [
    "# Prediction on the test set"
   ]
  },
  {
   "cell_type": "code",
   "execution_count": 67,
   "metadata": {},
   "outputs": [],
   "source": [
    "y_test_tree = Tree.predict(test)\n",
    "y_test_xgb = XGBoost.predict(test)"
   ]
  },
  {
   "cell_type": "markdown",
   "metadata": {},
   "source": [
    "We export a csv with the test set and the prediciton"
   ]
  },
  {
   "cell_type": "code",
   "execution_count": 68,
   "metadata": {},
   "outputs": [],
   "source": [
    "test_with_pred = test.copy()\n",
    "test_with_pred['SalePrice_Tree'] = y_test_tree\n",
    "test_with_pred['SalePrice_XGB'] = y_test_xgb\n",
    "\n",
    "test_with_pred.to_csv('../data/test_with_pred.csv', index=False)"
   ]
  }
 ],
 "metadata": {
  "kernelspec": {
   "display_name": "tensorflow",
   "language": "python",
   "name": "python3"
  },
  "language_info": {
   "codemirror_mode": {
    "name": "ipython",
    "version": 3
   },
   "file_extension": ".py",
   "mimetype": "text/x-python",
   "name": "python",
   "nbconvert_exporter": "python",
   "pygments_lexer": "ipython3",
   "version": "3.11.10"
  }
 },
 "nbformat": 4,
 "nbformat_minor": 2
}
